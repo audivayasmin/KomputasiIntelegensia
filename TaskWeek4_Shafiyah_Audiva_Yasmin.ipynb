{
  "cells": [
    {
      "cell_type": "markdown",
      "metadata": {
        "id": "view-in-github",
        "colab_type": "text"
      },
      "source": [
        "<a href=\"https://colab.research.google.com/github/audivayasmin/KomputasiIntelegensia/blob/main/TaskWeek4_Shafiyah_Audiva_Yasmin.ipynb\" target=\"_parent\"><img src=\"https://colab.research.google.com/assets/colab-badge.svg\" alt=\"Open In Colab\"/></a>"
      ]
    },
    {
      "cell_type": "markdown",
      "id": "94MIGfRV6luc",
      "metadata": {
        "id": "94MIGfRV6luc"
      },
      "source": [
        "Nama : Shafiyah Audiva Yasmin\n",
        "\n",
        "NPM : 2106706880"
      ]
    },
    {
      "cell_type": "code",
      "execution_count": 1,
      "id": "270c2008",
      "metadata": {
        "colab": {
          "base_uri": "https://localhost:8080/"
        },
        "id": "270c2008",
        "outputId": "ec9b1ca3-8b3d-4128-d253-448b198f15a3"
      },
      "outputs": [
        {
          "output_type": "stream",
          "name": "stdout",
          "text": [
            "Requirement already satisfied: d2l==1.0.3 in /usr/local/lib/python3.10/dist-packages (1.0.3)\n",
            "Requirement already satisfied: jupyter==1.0.0 in /usr/local/lib/python3.10/dist-packages (from d2l==1.0.3) (1.0.0)\n",
            "Requirement already satisfied: numpy==1.23.5 in /usr/local/lib/python3.10/dist-packages (from d2l==1.0.3) (1.23.5)\n",
            "Requirement already satisfied: matplotlib==3.7.2 in /usr/local/lib/python3.10/dist-packages (from d2l==1.0.3) (3.7.2)\n",
            "Requirement already satisfied: matplotlib-inline==0.1.6 in /usr/local/lib/python3.10/dist-packages (from d2l==1.0.3) (0.1.6)\n",
            "Requirement already satisfied: requests==2.31.0 in /usr/local/lib/python3.10/dist-packages (from d2l==1.0.3) (2.31.0)\n",
            "Requirement already satisfied: pandas==2.0.3 in /usr/local/lib/python3.10/dist-packages (from d2l==1.0.3) (2.0.3)\n",
            "Requirement already satisfied: scipy==1.10.1 in /usr/local/lib/python3.10/dist-packages (from d2l==1.0.3) (1.10.1)\n",
            "Requirement already satisfied: notebook in /usr/local/lib/python3.10/dist-packages (from jupyter==1.0.0->d2l==1.0.3) (6.5.5)\n",
            "Requirement already satisfied: qtconsole in /usr/local/lib/python3.10/dist-packages (from jupyter==1.0.0->d2l==1.0.3) (5.6.0)\n",
            "Requirement already satisfied: jupyter-console in /usr/local/lib/python3.10/dist-packages (from jupyter==1.0.0->d2l==1.0.3) (6.1.0)\n",
            "Requirement already satisfied: nbconvert in /usr/local/lib/python3.10/dist-packages (from jupyter==1.0.0->d2l==1.0.3) (6.5.4)\n",
            "Requirement already satisfied: ipykernel in /usr/local/lib/python3.10/dist-packages (from jupyter==1.0.0->d2l==1.0.3) (5.5.6)\n",
            "Requirement already satisfied: ipywidgets in /usr/local/lib/python3.10/dist-packages (from jupyter==1.0.0->d2l==1.0.3) (7.7.1)\n",
            "Requirement already satisfied: contourpy>=1.0.1 in /usr/local/lib/python3.10/dist-packages (from matplotlib==3.7.2->d2l==1.0.3) (1.3.0)\n",
            "Requirement already satisfied: cycler>=0.10 in /usr/local/lib/python3.10/dist-packages (from matplotlib==3.7.2->d2l==1.0.3) (0.12.1)\n",
            "Requirement already satisfied: fonttools>=4.22.0 in /usr/local/lib/python3.10/dist-packages (from matplotlib==3.7.2->d2l==1.0.3) (4.54.1)\n",
            "Requirement already satisfied: kiwisolver>=1.0.1 in /usr/local/lib/python3.10/dist-packages (from matplotlib==3.7.2->d2l==1.0.3) (1.4.7)\n",
            "Requirement already satisfied: packaging>=20.0 in /usr/local/lib/python3.10/dist-packages (from matplotlib==3.7.2->d2l==1.0.3) (24.1)\n",
            "Requirement already satisfied: pillow>=6.2.0 in /usr/local/lib/python3.10/dist-packages (from matplotlib==3.7.2->d2l==1.0.3) (10.4.0)\n",
            "Requirement already satisfied: pyparsing<3.1,>=2.3.1 in /usr/local/lib/python3.10/dist-packages (from matplotlib==3.7.2->d2l==1.0.3) (3.0.9)\n",
            "Requirement already satisfied: python-dateutil>=2.7 in /usr/local/lib/python3.10/dist-packages (from matplotlib==3.7.2->d2l==1.0.3) (2.8.2)\n",
            "Requirement already satisfied: traitlets in /usr/local/lib/python3.10/dist-packages (from matplotlib-inline==0.1.6->d2l==1.0.3) (5.7.1)\n",
            "Requirement already satisfied: pytz>=2020.1 in /usr/local/lib/python3.10/dist-packages (from pandas==2.0.3->d2l==1.0.3) (2024.2)\n",
            "Requirement already satisfied: tzdata>=2022.1 in /usr/local/lib/python3.10/dist-packages (from pandas==2.0.3->d2l==1.0.3) (2024.2)\n",
            "Requirement already satisfied: charset-normalizer<4,>=2 in /usr/local/lib/python3.10/dist-packages (from requests==2.31.0->d2l==1.0.3) (3.3.2)\n",
            "Requirement already satisfied: idna<4,>=2.5 in /usr/local/lib/python3.10/dist-packages (from requests==2.31.0->d2l==1.0.3) (3.10)\n",
            "Requirement already satisfied: urllib3<3,>=1.21.1 in /usr/local/lib/python3.10/dist-packages (from requests==2.31.0->d2l==1.0.3) (2.2.3)\n",
            "Requirement already satisfied: certifi>=2017.4.17 in /usr/local/lib/python3.10/dist-packages (from requests==2.31.0->d2l==1.0.3) (2024.8.30)\n",
            "Requirement already satisfied: six>=1.5 in /usr/local/lib/python3.10/dist-packages (from python-dateutil>=2.7->matplotlib==3.7.2->d2l==1.0.3) (1.16.0)\n",
            "Requirement already satisfied: ipython-genutils in /usr/local/lib/python3.10/dist-packages (from ipykernel->jupyter==1.0.0->d2l==1.0.3) (0.2.0)\n",
            "Requirement already satisfied: ipython>=5.0.0 in /usr/local/lib/python3.10/dist-packages (from ipykernel->jupyter==1.0.0->d2l==1.0.3) (7.34.0)\n",
            "Requirement already satisfied: jupyter-client in /usr/local/lib/python3.10/dist-packages (from ipykernel->jupyter==1.0.0->d2l==1.0.3) (6.1.12)\n",
            "Requirement already satisfied: tornado>=4.2 in /usr/local/lib/python3.10/dist-packages (from ipykernel->jupyter==1.0.0->d2l==1.0.3) (6.3.3)\n",
            "Requirement already satisfied: widgetsnbextension~=3.6.0 in /usr/local/lib/python3.10/dist-packages (from ipywidgets->jupyter==1.0.0->d2l==1.0.3) (3.6.9)\n",
            "Requirement already satisfied: jupyterlab-widgets>=1.0.0 in /usr/local/lib/python3.10/dist-packages (from ipywidgets->jupyter==1.0.0->d2l==1.0.3) (3.0.13)\n",
            "Requirement already satisfied: prompt-toolkit!=3.0.0,!=3.0.1,<3.1.0,>=2.0.0 in /usr/local/lib/python3.10/dist-packages (from jupyter-console->jupyter==1.0.0->d2l==1.0.3) (3.0.48)\n",
            "Requirement already satisfied: pygments in /usr/local/lib/python3.10/dist-packages (from jupyter-console->jupyter==1.0.0->d2l==1.0.3) (2.18.0)\n",
            "Requirement already satisfied: lxml in /usr/local/lib/python3.10/dist-packages (from nbconvert->jupyter==1.0.0->d2l==1.0.3) (4.9.4)\n",
            "Requirement already satisfied: beautifulsoup4 in /usr/local/lib/python3.10/dist-packages (from nbconvert->jupyter==1.0.0->d2l==1.0.3) (4.12.3)\n",
            "Requirement already satisfied: bleach in /usr/local/lib/python3.10/dist-packages (from nbconvert->jupyter==1.0.0->d2l==1.0.3) (6.1.0)\n",
            "Requirement already satisfied: defusedxml in /usr/local/lib/python3.10/dist-packages (from nbconvert->jupyter==1.0.0->d2l==1.0.3) (0.7.1)\n",
            "Requirement already satisfied: entrypoints>=0.2.2 in /usr/local/lib/python3.10/dist-packages (from nbconvert->jupyter==1.0.0->d2l==1.0.3) (0.4)\n",
            "Requirement already satisfied: jinja2>=3.0 in /usr/local/lib/python3.10/dist-packages (from nbconvert->jupyter==1.0.0->d2l==1.0.3) (3.1.4)\n",
            "Requirement already satisfied: jupyter-core>=4.7 in /usr/local/lib/python3.10/dist-packages (from nbconvert->jupyter==1.0.0->d2l==1.0.3) (5.7.2)\n",
            "Requirement already satisfied: jupyterlab-pygments in /usr/local/lib/python3.10/dist-packages (from nbconvert->jupyter==1.0.0->d2l==1.0.3) (0.3.0)\n",
            "Requirement already satisfied: MarkupSafe>=2.0 in /usr/local/lib/python3.10/dist-packages (from nbconvert->jupyter==1.0.0->d2l==1.0.3) (2.1.5)\n",
            "Requirement already satisfied: mistune<2,>=0.8.1 in /usr/local/lib/python3.10/dist-packages (from nbconvert->jupyter==1.0.0->d2l==1.0.3) (0.8.4)\n",
            "Requirement already satisfied: nbclient>=0.5.0 in /usr/local/lib/python3.10/dist-packages (from nbconvert->jupyter==1.0.0->d2l==1.0.3) (0.10.0)\n",
            "Requirement already satisfied: nbformat>=5.1 in /usr/local/lib/python3.10/dist-packages (from nbconvert->jupyter==1.0.0->d2l==1.0.3) (5.10.4)\n",
            "Requirement already satisfied: pandocfilters>=1.4.1 in /usr/local/lib/python3.10/dist-packages (from nbconvert->jupyter==1.0.0->d2l==1.0.3) (1.5.1)\n",
            "Requirement already satisfied: tinycss2 in /usr/local/lib/python3.10/dist-packages (from nbconvert->jupyter==1.0.0->d2l==1.0.3) (1.3.0)\n",
            "Requirement already satisfied: pyzmq<25,>=17 in /usr/local/lib/python3.10/dist-packages (from notebook->jupyter==1.0.0->d2l==1.0.3) (24.0.1)\n",
            "Requirement already satisfied: argon2-cffi in /usr/local/lib/python3.10/dist-packages (from notebook->jupyter==1.0.0->d2l==1.0.3) (23.1.0)\n",
            "Requirement already satisfied: nest-asyncio>=1.5 in /usr/local/lib/python3.10/dist-packages (from notebook->jupyter==1.0.0->d2l==1.0.3) (1.6.0)\n",
            "Requirement already satisfied: Send2Trash>=1.8.0 in /usr/local/lib/python3.10/dist-packages (from notebook->jupyter==1.0.0->d2l==1.0.3) (1.8.3)\n",
            "Requirement already satisfied: terminado>=0.8.3 in /usr/local/lib/python3.10/dist-packages (from notebook->jupyter==1.0.0->d2l==1.0.3) (0.18.1)\n",
            "Requirement already satisfied: prometheus-client in /usr/local/lib/python3.10/dist-packages (from notebook->jupyter==1.0.0->d2l==1.0.3) (0.21.0)\n",
            "Requirement already satisfied: nbclassic>=0.4.7 in /usr/local/lib/python3.10/dist-packages (from notebook->jupyter==1.0.0->d2l==1.0.3) (1.1.0)\n",
            "Requirement already satisfied: qtpy>=2.4.0 in /usr/local/lib/python3.10/dist-packages (from qtconsole->jupyter==1.0.0->d2l==1.0.3) (2.4.1)\n",
            "Requirement already satisfied: setuptools>=18.5 in /usr/local/lib/python3.10/dist-packages (from ipython>=5.0.0->ipykernel->jupyter==1.0.0->d2l==1.0.3) (71.0.4)\n",
            "Requirement already satisfied: jedi>=0.16 in /usr/local/lib/python3.10/dist-packages (from ipython>=5.0.0->ipykernel->jupyter==1.0.0->d2l==1.0.3) (0.19.1)\n",
            "Requirement already satisfied: decorator in /usr/local/lib/python3.10/dist-packages (from ipython>=5.0.0->ipykernel->jupyter==1.0.0->d2l==1.0.3) (4.4.2)\n",
            "Requirement already satisfied: pickleshare in /usr/local/lib/python3.10/dist-packages (from ipython>=5.0.0->ipykernel->jupyter==1.0.0->d2l==1.0.3) (0.7.5)\n",
            "Requirement already satisfied: backcall in /usr/local/lib/python3.10/dist-packages (from ipython>=5.0.0->ipykernel->jupyter==1.0.0->d2l==1.0.3) (0.2.0)\n",
            "Requirement already satisfied: pexpect>4.3 in /usr/local/lib/python3.10/dist-packages (from ipython>=5.0.0->ipykernel->jupyter==1.0.0->d2l==1.0.3) (4.9.0)\n",
            "Requirement already satisfied: platformdirs>=2.5 in /usr/local/lib/python3.10/dist-packages (from jupyter-core>=4.7->nbconvert->jupyter==1.0.0->d2l==1.0.3) (4.3.6)\n",
            "Requirement already satisfied: notebook-shim>=0.2.3 in /usr/local/lib/python3.10/dist-packages (from nbclassic>=0.4.7->notebook->jupyter==1.0.0->d2l==1.0.3) (0.2.4)\n",
            "Requirement already satisfied: fastjsonschema>=2.15 in /usr/local/lib/python3.10/dist-packages (from nbformat>=5.1->nbconvert->jupyter==1.0.0->d2l==1.0.3) (2.20.0)\n",
            "Requirement already satisfied: jsonschema>=2.6 in /usr/local/lib/python3.10/dist-packages (from nbformat>=5.1->nbconvert->jupyter==1.0.0->d2l==1.0.3) (4.23.0)\n",
            "Requirement already satisfied: wcwidth in /usr/local/lib/python3.10/dist-packages (from prompt-toolkit!=3.0.0,!=3.0.1,<3.1.0,>=2.0.0->jupyter-console->jupyter==1.0.0->d2l==1.0.3) (0.2.13)\n",
            "Requirement already satisfied: ptyprocess in /usr/local/lib/python3.10/dist-packages (from terminado>=0.8.3->notebook->jupyter==1.0.0->d2l==1.0.3) (0.7.0)\n",
            "Requirement already satisfied: argon2-cffi-bindings in /usr/local/lib/python3.10/dist-packages (from argon2-cffi->notebook->jupyter==1.0.0->d2l==1.0.3) (21.2.0)\n",
            "Requirement already satisfied: soupsieve>1.2 in /usr/local/lib/python3.10/dist-packages (from beautifulsoup4->nbconvert->jupyter==1.0.0->d2l==1.0.3) (2.6)\n",
            "Requirement already satisfied: webencodings in /usr/local/lib/python3.10/dist-packages (from bleach->nbconvert->jupyter==1.0.0->d2l==1.0.3) (0.5.1)\n",
            "Requirement already satisfied: parso<0.9.0,>=0.8.3 in /usr/local/lib/python3.10/dist-packages (from jedi>=0.16->ipython>=5.0.0->ipykernel->jupyter==1.0.0->d2l==1.0.3) (0.8.4)\n",
            "Requirement already satisfied: attrs>=22.2.0 in /usr/local/lib/python3.10/dist-packages (from jsonschema>=2.6->nbformat>=5.1->nbconvert->jupyter==1.0.0->d2l==1.0.3) (24.2.0)\n",
            "Requirement already satisfied: jsonschema-specifications>=2023.03.6 in /usr/local/lib/python3.10/dist-packages (from jsonschema>=2.6->nbformat>=5.1->nbconvert->jupyter==1.0.0->d2l==1.0.3) (2023.12.1)\n",
            "Requirement already satisfied: referencing>=0.28.4 in /usr/local/lib/python3.10/dist-packages (from jsonschema>=2.6->nbformat>=5.1->nbconvert->jupyter==1.0.0->d2l==1.0.3) (0.35.1)\n",
            "Requirement already satisfied: rpds-py>=0.7.1 in /usr/local/lib/python3.10/dist-packages (from jsonschema>=2.6->nbformat>=5.1->nbconvert->jupyter==1.0.0->d2l==1.0.3) (0.20.0)\n",
            "Requirement already satisfied: jupyter-server<3,>=1.8 in /usr/local/lib/python3.10/dist-packages (from notebook-shim>=0.2.3->nbclassic>=0.4.7->notebook->jupyter==1.0.0->d2l==1.0.3) (1.24.0)\n",
            "Requirement already satisfied: cffi>=1.0.1 in /usr/local/lib/python3.10/dist-packages (from argon2-cffi-bindings->argon2-cffi->notebook->jupyter==1.0.0->d2l==1.0.3) (1.17.1)\n",
            "Requirement already satisfied: pycparser in /usr/local/lib/python3.10/dist-packages (from cffi>=1.0.1->argon2-cffi-bindings->argon2-cffi->notebook->jupyter==1.0.0->d2l==1.0.3) (2.22)\n",
            "Requirement already satisfied: anyio<4,>=3.1.0 in /usr/local/lib/python3.10/dist-packages (from jupyter-server<3,>=1.8->notebook-shim>=0.2.3->nbclassic>=0.4.7->notebook->jupyter==1.0.0->d2l==1.0.3) (3.7.1)\n",
            "Requirement already satisfied: websocket-client in /usr/local/lib/python3.10/dist-packages (from jupyter-server<3,>=1.8->notebook-shim>=0.2.3->nbclassic>=0.4.7->notebook->jupyter==1.0.0->d2l==1.0.3) (1.8.0)\n",
            "Requirement already satisfied: sniffio>=1.1 in /usr/local/lib/python3.10/dist-packages (from anyio<4,>=3.1.0->jupyter-server<3,>=1.8->notebook-shim>=0.2.3->nbclassic>=0.4.7->notebook->jupyter==1.0.0->d2l==1.0.3) (1.3.1)\n",
            "Requirement already satisfied: exceptiongroup in /usr/local/lib/python3.10/dist-packages (from anyio<4,>=3.1.0->jupyter-server<3,>=1.8->notebook-shim>=0.2.3->nbclassic>=0.4.7->notebook->jupyter==1.0.0->d2l==1.0.3) (1.2.2)\n"
          ]
        }
      ],
      "source": [
        "!pip install d2l==1.0.3"
      ]
    },
    {
      "cell_type": "markdown",
      "id": "c3ed4012",
      "metadata": {
        "id": "c3ed4012"
      },
      "source": [
        "# 8.1 Deep Convolutional Neural Networks (AlexNet)\n"
      ]
    },
    {
      "cell_type": "code",
      "execution_count": 2,
      "id": "07938be6",
      "metadata": {
        "id": "07938be6"
      },
      "outputs": [],
      "source": [
        "import torch\n",
        "from torch import nn\n",
        "from d2l import torch as d2l"
      ]
    },
    {
      "cell_type": "markdown",
      "id": "3425d857",
      "metadata": {
        "id": "3425d857"
      },
      "source": [
        "## Representation Learning\n",
        "\n"
      ]
    },
    {
      "cell_type": "code",
      "execution_count": 3,
      "id": "29feac8e",
      "metadata": {
        "id": "29feac8e"
      },
      "outputs": [],
      "source": [
        "class AlexNet(d2l.Classifier):\n",
        "    def __init__(self, lr=0.1, num_classes=10):\n",
        "        super().__init__()\n",
        "        self.save_hyperparameters()\n",
        "        self.net = nn.Sequential(\n",
        "            nn.LazyConv2d(96, kernel_size=11, stride=4, padding=1),\n",
        "            nn.ReLU(), nn.MaxPool2d(kernel_size=3, stride=2),\n",
        "            nn.LazyConv2d(256, kernel_size=5, padding=2), nn.ReLU(),\n",
        "            nn.MaxPool2d(kernel_size=3, stride=2),\n",
        "            nn.LazyConv2d(384, kernel_size=3, padding=1), nn.ReLU(),\n",
        "            nn.LazyConv2d(384, kernel_size=3, padding=1), nn.ReLU(),\n",
        "            nn.LazyConv2d(256, kernel_size=3, padding=1), nn.ReLU(),\n",
        "            nn.MaxPool2d(kernel_size=3, stride=2), nn.Flatten(),\n",
        "            nn.LazyLinear(4096), nn.ReLU(), nn.Dropout(p=0.5),\n",
        "            nn.LazyLinear(4096), nn.ReLU(),nn.Dropout(p=0.5),\n",
        "            nn.LazyLinear(num_classes))\n",
        "        self.net.apply(d2l.init_cnn)"
      ]
    },
    {
      "cell_type": "code",
      "execution_count": 4,
      "id": "3d5c2c0a",
      "metadata": {
        "colab": {
          "base_uri": "https://localhost:8080/"
        },
        "id": "3d5c2c0a",
        "outputId": "81308617-0072-462a-e1b6-42fcb32ee595"
      },
      "outputs": [
        {
          "output_type": "stream",
          "name": "stdout",
          "text": [
            "Conv2d output shape:\t torch.Size([1, 96, 54, 54])\n",
            "ReLU output shape:\t torch.Size([1, 96, 54, 54])\n",
            "MaxPool2d output shape:\t torch.Size([1, 96, 26, 26])\n",
            "Conv2d output shape:\t torch.Size([1, 256, 26, 26])\n",
            "ReLU output shape:\t torch.Size([1, 256, 26, 26])\n",
            "MaxPool2d output shape:\t torch.Size([1, 256, 12, 12])\n",
            "Conv2d output shape:\t torch.Size([1, 384, 12, 12])\n",
            "ReLU output shape:\t torch.Size([1, 384, 12, 12])\n",
            "Conv2d output shape:\t torch.Size([1, 384, 12, 12])\n",
            "ReLU output shape:\t torch.Size([1, 384, 12, 12])\n",
            "Conv2d output shape:\t torch.Size([1, 256, 12, 12])\n",
            "ReLU output shape:\t torch.Size([1, 256, 12, 12])\n",
            "MaxPool2d output shape:\t torch.Size([1, 256, 5, 5])\n",
            "Flatten output shape:\t torch.Size([1, 6400])\n",
            "Linear output shape:\t torch.Size([1, 4096])\n",
            "ReLU output shape:\t torch.Size([1, 4096])\n",
            "Dropout output shape:\t torch.Size([1, 4096])\n",
            "Linear output shape:\t torch.Size([1, 4096])\n",
            "ReLU output shape:\t torch.Size([1, 4096])\n",
            "Dropout output shape:\t torch.Size([1, 4096])\n",
            "Linear output shape:\t torch.Size([1, 10])\n"
          ]
        }
      ],
      "source": [
        "AlexNet().layer_summary((1, 1, 224, 224))"
      ]
    },
    {
      "cell_type": "markdown",
      "id": "193ba4c7",
      "metadata": {
        "id": "193ba4c7"
      },
      "source": [
        "## Training\n"
      ]
    },
    {
      "cell_type": "code",
      "execution_count": 5,
      "id": "acd6a3e0",
      "metadata": {
        "colab": {
          "base_uri": "https://localhost:8080/",
          "height": 265
        },
        "id": "acd6a3e0",
        "outputId": "53026906-491b-4634-a674-cbeffb42323c"
      },
      "outputs": [
        {
          "output_type": "display_data",
          "data": {
            "text/plain": [
              "<Figure size 350x250 with 1 Axes>"
            ],
            "image/svg+xml": "<?xml version=\"1.0\" encoding=\"utf-8\" standalone=\"no\"?>\n<!DOCTYPE svg PUBLIC \"-//W3C//DTD SVG 1.1//EN\"\n  \"http://www.w3.org/Graphics/SVG/1.1/DTD/svg11.dtd\">\n<svg xmlns:xlink=\"http://www.w3.org/1999/xlink\" width=\"238.965625pt\" height=\"183.35625pt\" viewBox=\"0 0 238.965625 183.35625\" xmlns=\"http://www.w3.org/2000/svg\" version=\"1.1\">\n <metadata>\n  <rdf:RDF xmlns:dc=\"http://purl.org/dc/elements/1.1/\" xmlns:cc=\"http://creativecommons.org/ns#\" xmlns:rdf=\"http://www.w3.org/1999/02/22-rdf-syntax-ns#\">\n   <cc:Work>\n    <dc:type rdf:resource=\"http://purl.org/dc/dcmitype/StillImage\"/>\n    <dc:date>2024-10-05T13:59:04.364304</dc:date>\n    <dc:format>image/svg+xml</dc:format>\n    <dc:creator>\n     <cc:Agent>\n      <dc:title>Matplotlib v3.7.2, https://matplotlib.org/</dc:title>\n     </cc:Agent>\n    </dc:creator>\n   </cc:Work>\n  </rdf:RDF>\n </metadata>\n <defs>\n  <style type=\"text/css\">*{stroke-linejoin: round; stroke-linecap: butt}</style>\n </defs>\n <g id=\"figure_1\">\n  <g id=\"patch_1\">\n   <path d=\"M 0 183.35625 \nL 238.965625 183.35625 \nL 238.965625 0 \nL 0 0 \nz\n\" style=\"fill: #ffffff\"/>\n  </g>\n  <g id=\"axes_1\">\n   <g id=\"patch_2\">\n    <path d=\"M 30.103125 145.8 \nL 225.403125 145.8 \nL 225.403125 7.2 \nL 30.103125 7.2 \nz\n\" style=\"fill: #ffffff\"/>\n   </g>\n   <g id=\"matplotlib.axis_1\">\n    <g id=\"xtick_1\">\n     <g id=\"line2d_1\">\n      <defs>\n       <path id=\"mb5bf79c6b2\" d=\"M 0 0 \nL 0 3.5 \n\" style=\"stroke: #000000; stroke-width: 0.8\"/>\n      </defs>\n      <g>\n       <use xlink:href=\"#mb5bf79c6b2\" x=\"30.103125\" y=\"145.8\" style=\"stroke: #000000; stroke-width: 0.8\"/>\n      </g>\n     </g>\n     <g id=\"text_1\">\n      <!-- 0 -->\n      <g transform=\"translate(26.921875 160.398438) scale(0.1 -0.1)\">\n       <defs>\n        <path id=\"DejaVuSans-30\" d=\"M 2034 4250 \nQ 1547 4250 1301 3770 \nQ 1056 3291 1056 2328 \nQ 1056 1369 1301 889 \nQ 1547 409 2034 409 \nQ 2525 409 2770 889 \nQ 3016 1369 3016 2328 \nQ 3016 3291 2770 3770 \nQ 2525 4250 2034 4250 \nz\nM 2034 4750 \nQ 2819 4750 3233 4129 \nQ 3647 3509 3647 2328 \nQ 3647 1150 3233 529 \nQ 2819 -91 2034 -91 \nQ 1250 -91 836 529 \nQ 422 1150 422 2328 \nQ 422 3509 836 4129 \nQ 1250 4750 2034 4750 \nz\n\" transform=\"scale(0.015625)\"/>\n       </defs>\n       <use xlink:href=\"#DejaVuSans-30\"/>\n      </g>\n     </g>\n    </g>\n    <g id=\"xtick_2\">\n     <g id=\"line2d_2\">\n      <g>\n       <use xlink:href=\"#mb5bf79c6b2\" x=\"69.163125\" y=\"145.8\" style=\"stroke: #000000; stroke-width: 0.8\"/>\n      </g>\n     </g>\n     <g id=\"text_2\">\n      <!-- 2 -->\n      <g transform=\"translate(65.981875 160.398438) scale(0.1 -0.1)\">\n       <defs>\n        <path id=\"DejaVuSans-32\" d=\"M 1228 531 \nL 3431 531 \nL 3431 0 \nL 469 0 \nL 469 531 \nQ 828 903 1448 1529 \nQ 2069 2156 2228 2338 \nQ 2531 2678 2651 2914 \nQ 2772 3150 2772 3378 \nQ 2772 3750 2511 3984 \nQ 2250 4219 1831 4219 \nQ 1534 4219 1204 4116 \nQ 875 4013 500 3803 \nL 500 4441 \nQ 881 4594 1212 4672 \nQ 1544 4750 1819 4750 \nQ 2544 4750 2975 4387 \nQ 3406 4025 3406 3419 \nQ 3406 3131 3298 2873 \nQ 3191 2616 2906 2266 \nQ 2828 2175 2409 1742 \nQ 1991 1309 1228 531 \nz\n\" transform=\"scale(0.015625)\"/>\n       </defs>\n       <use xlink:href=\"#DejaVuSans-32\"/>\n      </g>\n     </g>\n    </g>\n    <g id=\"xtick_3\">\n     <g id=\"line2d_3\">\n      <g>\n       <use xlink:href=\"#mb5bf79c6b2\" x=\"108.223125\" y=\"145.8\" style=\"stroke: #000000; stroke-width: 0.8\"/>\n      </g>\n     </g>\n     <g id=\"text_3\">\n      <!-- 4 -->\n      <g transform=\"translate(105.041875 160.398438) scale(0.1 -0.1)\">\n       <defs>\n        <path id=\"DejaVuSans-34\" d=\"M 2419 4116 \nL 825 1625 \nL 2419 1625 \nL 2419 4116 \nz\nM 2253 4666 \nL 3047 4666 \nL 3047 1625 \nL 3713 1625 \nL 3713 1100 \nL 3047 1100 \nL 3047 0 \nL 2419 0 \nL 2419 1100 \nL 313 1100 \nL 313 1709 \nL 2253 4666 \nz\n\" transform=\"scale(0.015625)\"/>\n       </defs>\n       <use xlink:href=\"#DejaVuSans-34\"/>\n      </g>\n     </g>\n    </g>\n    <g id=\"xtick_4\">\n     <g id=\"line2d_4\">\n      <g>\n       <use xlink:href=\"#mb5bf79c6b2\" x=\"147.283125\" y=\"145.8\" style=\"stroke: #000000; stroke-width: 0.8\"/>\n      </g>\n     </g>\n     <g id=\"text_4\">\n      <!-- 6 -->\n      <g transform=\"translate(144.101875 160.398438) scale(0.1 -0.1)\">\n       <defs>\n        <path id=\"DejaVuSans-36\" d=\"M 2113 2584 \nQ 1688 2584 1439 2293 \nQ 1191 2003 1191 1497 \nQ 1191 994 1439 701 \nQ 1688 409 2113 409 \nQ 2538 409 2786 701 \nQ 3034 994 3034 1497 \nQ 3034 2003 2786 2293 \nQ 2538 2584 2113 2584 \nz\nM 3366 4563 \nL 3366 3988 \nQ 3128 4100 2886 4159 \nQ 2644 4219 2406 4219 \nQ 1781 4219 1451 3797 \nQ 1122 3375 1075 2522 \nQ 1259 2794 1537 2939 \nQ 1816 3084 2150 3084 \nQ 2853 3084 3261 2657 \nQ 3669 2231 3669 1497 \nQ 3669 778 3244 343 \nQ 2819 -91 2113 -91 \nQ 1303 -91 875 529 \nQ 447 1150 447 2328 \nQ 447 3434 972 4092 \nQ 1497 4750 2381 4750 \nQ 2619 4750 2861 4703 \nQ 3103 4656 3366 4563 \nz\n\" transform=\"scale(0.015625)\"/>\n       </defs>\n       <use xlink:href=\"#DejaVuSans-36\"/>\n      </g>\n     </g>\n    </g>\n    <g id=\"xtick_5\">\n     <g id=\"line2d_5\">\n      <g>\n       <use xlink:href=\"#mb5bf79c6b2\" x=\"186.343125\" y=\"145.8\" style=\"stroke: #000000; stroke-width: 0.8\"/>\n      </g>\n     </g>\n     <g id=\"text_5\">\n      <!-- 8 -->\n      <g transform=\"translate(183.161875 160.398438) scale(0.1 -0.1)\">\n       <defs>\n        <path id=\"DejaVuSans-38\" d=\"M 2034 2216 \nQ 1584 2216 1326 1975 \nQ 1069 1734 1069 1313 \nQ 1069 891 1326 650 \nQ 1584 409 2034 409 \nQ 2484 409 2743 651 \nQ 3003 894 3003 1313 \nQ 3003 1734 2745 1975 \nQ 2488 2216 2034 2216 \nz\nM 1403 2484 \nQ 997 2584 770 2862 \nQ 544 3141 544 3541 \nQ 544 4100 942 4425 \nQ 1341 4750 2034 4750 \nQ 2731 4750 3128 4425 \nQ 3525 4100 3525 3541 \nQ 3525 3141 3298 2862 \nQ 3072 2584 2669 2484 \nQ 3125 2378 3379 2068 \nQ 3634 1759 3634 1313 \nQ 3634 634 3220 271 \nQ 2806 -91 2034 -91 \nQ 1263 -91 848 271 \nQ 434 634 434 1313 \nQ 434 1759 690 2068 \nQ 947 2378 1403 2484 \nz\nM 1172 3481 \nQ 1172 3119 1398 2916 \nQ 1625 2713 2034 2713 \nQ 2441 2713 2670 2916 \nQ 2900 3119 2900 3481 \nQ 2900 3844 2670 4047 \nQ 2441 4250 2034 4250 \nQ 1625 4250 1398 4047 \nQ 1172 3844 1172 3481 \nz\n\" transform=\"scale(0.015625)\"/>\n       </defs>\n       <use xlink:href=\"#DejaVuSans-38\"/>\n      </g>\n     </g>\n    </g>\n    <g id=\"xtick_6\">\n     <g id=\"line2d_6\">\n      <g>\n       <use xlink:href=\"#mb5bf79c6b2\" x=\"225.403125\" y=\"145.8\" style=\"stroke: #000000; stroke-width: 0.8\"/>\n      </g>\n     </g>\n     <g id=\"text_6\">\n      <!-- 10 -->\n      <g transform=\"translate(219.040625 160.398438) scale(0.1 -0.1)\">\n       <defs>\n        <path id=\"DejaVuSans-31\" d=\"M 794 531 \nL 1825 531 \nL 1825 4091 \nL 703 3866 \nL 703 4441 \nL 1819 4666 \nL 2450 4666 \nL 2450 531 \nL 3481 531 \nL 3481 0 \nL 794 0 \nL 794 531 \nz\n\" transform=\"scale(0.015625)\"/>\n       </defs>\n       <use xlink:href=\"#DejaVuSans-31\"/>\n       <use xlink:href=\"#DejaVuSans-30\" x=\"63.623047\"/>\n      </g>\n     </g>\n    </g>\n    <g id=\"text_7\">\n     <!-- epoch -->\n     <g transform=\"translate(112.525 174.076563) scale(0.1 -0.1)\">\n      <defs>\n       <path id=\"DejaVuSans-65\" d=\"M 3597 1894 \nL 3597 1613 \nL 953 1613 \nQ 991 1019 1311 708 \nQ 1631 397 2203 397 \nQ 2534 397 2845 478 \nQ 3156 559 3463 722 \nL 3463 178 \nQ 3153 47 2828 -22 \nQ 2503 -91 2169 -91 \nQ 1331 -91 842 396 \nQ 353 884 353 1716 \nQ 353 2575 817 3079 \nQ 1281 3584 2069 3584 \nQ 2775 3584 3186 3129 \nQ 3597 2675 3597 1894 \nz\nM 3022 2063 \nQ 3016 2534 2758 2815 \nQ 2500 3097 2075 3097 \nQ 1594 3097 1305 2825 \nQ 1016 2553 972 2059 \nL 3022 2063 \nz\n\" transform=\"scale(0.015625)\"/>\n       <path id=\"DejaVuSans-70\" d=\"M 1159 525 \nL 1159 -1331 \nL 581 -1331 \nL 581 3500 \nL 1159 3500 \nL 1159 2969 \nQ 1341 3281 1617 3432 \nQ 1894 3584 2278 3584 \nQ 2916 3584 3314 3078 \nQ 3713 2572 3713 1747 \nQ 3713 922 3314 415 \nQ 2916 -91 2278 -91 \nQ 1894 -91 1617 61 \nQ 1341 213 1159 525 \nz\nM 3116 1747 \nQ 3116 2381 2855 2742 \nQ 2594 3103 2138 3103 \nQ 1681 3103 1420 2742 \nQ 1159 2381 1159 1747 \nQ 1159 1113 1420 752 \nQ 1681 391 2138 391 \nQ 2594 391 2855 752 \nQ 3116 1113 3116 1747 \nz\n\" transform=\"scale(0.015625)\"/>\n       <path id=\"DejaVuSans-6f\" d=\"M 1959 3097 \nQ 1497 3097 1228 2736 \nQ 959 2375 959 1747 \nQ 959 1119 1226 758 \nQ 1494 397 1959 397 \nQ 2419 397 2687 759 \nQ 2956 1122 2956 1747 \nQ 2956 2369 2687 2733 \nQ 2419 3097 1959 3097 \nz\nM 1959 3584 \nQ 2709 3584 3137 3096 \nQ 3566 2609 3566 1747 \nQ 3566 888 3137 398 \nQ 2709 -91 1959 -91 \nQ 1206 -91 779 398 \nQ 353 888 353 1747 \nQ 353 2609 779 3096 \nQ 1206 3584 1959 3584 \nz\n\" transform=\"scale(0.015625)\"/>\n       <path id=\"DejaVuSans-63\" d=\"M 3122 3366 \nL 3122 2828 \nQ 2878 2963 2633 3030 \nQ 2388 3097 2138 3097 \nQ 1578 3097 1268 2742 \nQ 959 2388 959 1747 \nQ 959 1106 1268 751 \nQ 1578 397 2138 397 \nQ 2388 397 2633 464 \nQ 2878 531 3122 666 \nL 3122 134 \nQ 2881 22 2623 -34 \nQ 2366 -91 2075 -91 \nQ 1284 -91 818 406 \nQ 353 903 353 1747 \nQ 353 2603 823 3093 \nQ 1294 3584 2113 3584 \nQ 2378 3584 2631 3529 \nQ 2884 3475 3122 3366 \nz\n\" transform=\"scale(0.015625)\"/>\n       <path id=\"DejaVuSans-68\" d=\"M 3513 2113 \nL 3513 0 \nL 2938 0 \nL 2938 2094 \nQ 2938 2591 2744 2837 \nQ 2550 3084 2163 3084 \nQ 1697 3084 1428 2787 \nQ 1159 2491 1159 1978 \nL 1159 0 \nL 581 0 \nL 581 4863 \nL 1159 4863 \nL 1159 2956 \nQ 1366 3272 1645 3428 \nQ 1925 3584 2291 3584 \nQ 2894 3584 3203 3211 \nQ 3513 2838 3513 2113 \nz\n\" transform=\"scale(0.015625)\"/>\n      </defs>\n      <use xlink:href=\"#DejaVuSans-65\"/>\n      <use xlink:href=\"#DejaVuSans-70\" x=\"61.523438\"/>\n      <use xlink:href=\"#DejaVuSans-6f\" x=\"125\"/>\n      <use xlink:href=\"#DejaVuSans-63\" x=\"186.181641\"/>\n      <use xlink:href=\"#DejaVuSans-68\" x=\"241.162109\"/>\n     </g>\n    </g>\n   </g>\n   <g id=\"matplotlib.axis_2\">\n    <g id=\"ytick_1\">\n     <g id=\"line2d_7\">\n      <defs>\n       <path id=\"m6b85bad50c\" d=\"M 0 0 \nL -3.5 0 \n\" style=\"stroke: #000000; stroke-width: 0.8\"/>\n      </defs>\n      <g>\n       <use xlink:href=\"#m6b85bad50c\" x=\"30.103125\" y=\"118.83998\" style=\"stroke: #000000; stroke-width: 0.8\"/>\n      </g>\n     </g>\n     <g id=\"text_8\">\n      <!-- 0.5 -->\n      <g transform=\"translate(7.2 122.639199) scale(0.1 -0.1)\">\n       <defs>\n        <path id=\"DejaVuSans-2e\" d=\"M 684 794 \nL 1344 794 \nL 1344 0 \nL 684 0 \nL 684 794 \nz\n\" transform=\"scale(0.015625)\"/>\n        <path id=\"DejaVuSans-35\" d=\"M 691 4666 \nL 3169 4666 \nL 3169 4134 \nL 1269 4134 \nL 1269 2991 \nQ 1406 3038 1543 3061 \nQ 1681 3084 1819 3084 \nQ 2600 3084 3056 2656 \nQ 3513 2228 3513 1497 \nQ 3513 744 3044 326 \nQ 2575 -91 1722 -91 \nQ 1428 -91 1123 -41 \nQ 819 9 494 109 \nL 494 744 \nQ 775 591 1075 516 \nQ 1375 441 1709 441 \nQ 2250 441 2565 725 \nQ 2881 1009 2881 1497 \nQ 2881 1984 2565 2268 \nQ 2250 2553 1709 2553 \nQ 1456 2553 1204 2497 \nQ 953 2441 691 2322 \nL 691 4666 \nz\n\" transform=\"scale(0.015625)\"/>\n       </defs>\n       <use xlink:href=\"#DejaVuSans-30\"/>\n       <use xlink:href=\"#DejaVuSans-2e\" x=\"63.623047\"/>\n       <use xlink:href=\"#DejaVuSans-35\" x=\"95.410156\"/>\n      </g>\n     </g>\n    </g>\n    <g id=\"ytick_2\">\n     <g id=\"line2d_8\">\n      <g>\n       <use xlink:href=\"#m6b85bad50c\" x=\"30.103125\" y=\"89.613047\" style=\"stroke: #000000; stroke-width: 0.8\"/>\n      </g>\n     </g>\n     <g id=\"text_9\">\n      <!-- 1.0 -->\n      <g transform=\"translate(7.2 93.412266) scale(0.1 -0.1)\">\n       <use xlink:href=\"#DejaVuSans-31\"/>\n       <use xlink:href=\"#DejaVuSans-2e\" x=\"63.623047\"/>\n       <use xlink:href=\"#DejaVuSans-30\" x=\"95.410156\"/>\n      </g>\n     </g>\n    </g>\n    <g id=\"ytick_3\">\n     <g id=\"line2d_9\">\n      <g>\n       <use xlink:href=\"#m6b85bad50c\" x=\"30.103125\" y=\"60.386114\" style=\"stroke: #000000; stroke-width: 0.8\"/>\n      </g>\n     </g>\n     <g id=\"text_10\">\n      <!-- 1.5 -->\n      <g transform=\"translate(7.2 64.185333) scale(0.1 -0.1)\">\n       <use xlink:href=\"#DejaVuSans-31\"/>\n       <use xlink:href=\"#DejaVuSans-2e\" x=\"63.623047\"/>\n       <use xlink:href=\"#DejaVuSans-35\" x=\"95.410156\"/>\n      </g>\n     </g>\n    </g>\n    <g id=\"ytick_4\">\n     <g id=\"line2d_10\">\n      <g>\n       <use xlink:href=\"#m6b85bad50c\" x=\"30.103125\" y=\"31.159181\" style=\"stroke: #000000; stroke-width: 0.8\"/>\n      </g>\n     </g>\n     <g id=\"text_11\">\n      <!-- 2.0 -->\n      <g transform=\"translate(7.2 34.958399) scale(0.1 -0.1)\">\n       <use xlink:href=\"#DejaVuSans-32\"/>\n       <use xlink:href=\"#DejaVuSans-2e\" x=\"63.623047\"/>\n       <use xlink:href=\"#DejaVuSans-30\" x=\"95.410156\"/>\n      </g>\n     </g>\n    </g>\n   </g>\n   <g id=\"line2d_11\">\n    <path d=\"M 34.954394 13.5 \n\" clip-path=\"url(#p3a4cbee22d)\" style=\"fill: none; stroke: #1f77b4; stroke-width: 1.5; stroke-linecap: square\"/>\n   </g>\n   <g id=\"line2d_12\">\n    <path d=\"M 34.954394 13.5 \nL 44.698573 13.563264 \n\" clip-path=\"url(#p3a4cbee22d)\" style=\"fill: none; stroke: #1f77b4; stroke-width: 1.5; stroke-linecap: square\"/>\n   </g>\n   <g id=\"line2d_13\">\n    <path d=\"M 34.954394 13.5 \nL 44.698573 13.563264 \n\" clip-path=\"url(#p3a4cbee22d)\" style=\"fill: none; stroke: #1f77b4; stroke-width: 1.5; stroke-linecap: square\"/>\n   </g>\n   <g id=\"line2d_14\">\n    <path d=\"M 49.633125 13.638623 \n\" clip-path=\"url(#p3a4cbee22d)\" style=\"fill: none; stroke-dasharray: 5.55,2.4; stroke-dashoffset: 0; stroke: #ff7f0e; stroke-width: 1.5\"/>\n   </g>\n   <g id=\"line2d_15\"/>\n   <g id=\"line2d_16\">\n    <path d=\"M 34.954394 13.5 \nL 44.698573 13.563264 \n\" clip-path=\"url(#p3a4cbee22d)\" style=\"fill: none; stroke: #1f77b4; stroke-width: 1.5; stroke-linecap: square\"/>\n   </g>\n   <g id=\"line2d_17\">\n    <path d=\"M 49.633125 13.638623 \n\" clip-path=\"url(#p3a4cbee22d)\" style=\"fill: none; stroke-dasharray: 5.55,2.4; stroke-dashoffset: 0; stroke: #ff7f0e; stroke-width: 1.5\"/>\n   </g>\n   <g id=\"line2d_18\">\n    <path d=\"M 49.633125 139.5 \n\" clip-path=\"url(#p3a4cbee22d)\" style=\"fill: none; stroke-dasharray: 9.6,2.4,1.5,2.4; stroke-dashoffset: 0; stroke: #2ca02c; stroke-width: 1.5\"/>\n   </g>\n   <g id=\"line2d_19\">\n    <path d=\"M 34.954394 13.5 \nL 44.698573 13.563264 \nL 54.442752 13.726562 \n\" clip-path=\"url(#p3a4cbee22d)\" style=\"fill: none; stroke: #1f77b4; stroke-width: 1.5; stroke-linecap: square\"/>\n   </g>\n   <g id=\"line2d_20\">\n    <path d=\"M 49.633125 13.638623 \n\" clip-path=\"url(#p3a4cbee22d)\" style=\"fill: none; stroke-dasharray: 5.55,2.4; stroke-dashoffset: 0; stroke: #ff7f0e; stroke-width: 1.5\"/>\n   </g>\n   <g id=\"line2d_21\">\n    <path d=\"M 49.633125 139.5 \n\" clip-path=\"url(#p3a4cbee22d)\" style=\"fill: none; stroke-dasharray: 9.6,2.4,1.5,2.4; stroke-dashoffset: 0; stroke: #2ca02c; stroke-width: 1.5\"/>\n   </g>\n   <g id=\"line2d_22\">\n    <path d=\"M 34.954394 13.5 \nL 44.698573 13.563264 \nL 54.442752 13.726562 \nL 64.186931 19.408307 \n\" clip-path=\"url(#p3a4cbee22d)\" style=\"fill: none; stroke: #1f77b4; stroke-width: 1.5; stroke-linecap: square\"/>\n   </g>\n   <g id=\"line2d_23\">\n    <path d=\"M 49.633125 13.638623 \n\" clip-path=\"url(#p3a4cbee22d)\" style=\"fill: none; stroke-dasharray: 5.55,2.4; stroke-dashoffset: 0; stroke: #ff7f0e; stroke-width: 1.5\"/>\n   </g>\n   <g id=\"line2d_24\">\n    <path d=\"M 49.633125 139.5 \n\" clip-path=\"url(#p3a4cbee22d)\" style=\"fill: none; stroke-dasharray: 9.6,2.4,1.5,2.4; stroke-dashoffset: 0; stroke: #2ca02c; stroke-width: 1.5\"/>\n   </g>\n   <g id=\"line2d_25\">\n    <path d=\"M 34.954394 13.5 \nL 44.698573 13.563264 \nL 54.442752 13.726562 \nL 64.186931 19.408307 \n\" clip-path=\"url(#p3a4cbee22d)\" style=\"fill: none; stroke: #1f77b4; stroke-width: 1.5; stroke-linecap: square\"/>\n   </g>\n   <g id=\"line2d_26\">\n    <path d=\"M 49.633125 13.638623 \nL 69.163125 68.011215 \n\" clip-path=\"url(#p3a4cbee22d)\" style=\"fill: none; stroke-dasharray: 5.55,2.4; stroke-dashoffset: 0; stroke: #ff7f0e; stroke-width: 1.5\"/>\n   </g>\n   <g id=\"line2d_27\">\n    <path d=\"M 49.633125 139.5 \n\" clip-path=\"url(#p3a4cbee22d)\" style=\"fill: none; stroke-dasharray: 9.6,2.4,1.5,2.4; stroke-dashoffset: 0; stroke: #2ca02c; stroke-width: 1.5\"/>\n   </g>\n   <g id=\"line2d_28\">\n    <path d=\"M 34.954394 13.5 \nL 44.698573 13.563264 \nL 54.442752 13.726562 \nL 64.186931 19.408307 \n\" clip-path=\"url(#p3a4cbee22d)\" style=\"fill: none; stroke: #1f77b4; stroke-width: 1.5; stroke-linecap: square\"/>\n   </g>\n   <g id=\"line2d_29\">\n    <path d=\"M 49.633125 13.638623 \nL 69.163125 68.011215 \n\" clip-path=\"url(#p3a4cbee22d)\" style=\"fill: none; stroke-dasharray: 5.55,2.4; stroke-dashoffset: 0; stroke: #ff7f0e; stroke-width: 1.5\"/>\n   </g>\n   <g id=\"line2d_30\">\n    <path d=\"M 49.633125 139.5 \nL 69.163125 124.123488 \n\" clip-path=\"url(#p3a4cbee22d)\" style=\"fill: none; stroke-dasharray: 9.6,2.4,1.5,2.4; stroke-dashoffset: 0; stroke: #2ca02c; stroke-width: 1.5\"/>\n   </g>\n   <g id=\"line2d_31\">\n    <path d=\"M 34.954394 13.5 \nL 44.698573 13.563264 \nL 54.442752 13.726562 \nL 64.186931 19.408307 \nL 73.93111 78.408022 \n\" clip-path=\"url(#p3a4cbee22d)\" style=\"fill: none; stroke: #1f77b4; stroke-width: 1.5; stroke-linecap: square\"/>\n   </g>\n   <g id=\"line2d_32\">\n    <path d=\"M 49.633125 13.638623 \nL 69.163125 68.011215 \n\" clip-path=\"url(#p3a4cbee22d)\" style=\"fill: none; stroke-dasharray: 5.55,2.4; stroke-dashoffset: 0; stroke: #ff7f0e; stroke-width: 1.5\"/>\n   </g>\n   <g id=\"line2d_33\">\n    <path d=\"M 49.633125 139.5 \nL 69.163125 124.123488 \n\" clip-path=\"url(#p3a4cbee22d)\" style=\"fill: none; stroke-dasharray: 9.6,2.4,1.5,2.4; stroke-dashoffset: 0; stroke: #2ca02c; stroke-width: 1.5\"/>\n   </g>\n   <g id=\"line2d_34\">\n    <path d=\"M 34.954394 13.5 \nL 44.698573 13.563264 \nL 54.442752 13.726562 \nL 64.186931 19.408307 \nL 73.93111 78.408022 \nL 83.675289 91.017982 \n\" clip-path=\"url(#p3a4cbee22d)\" style=\"fill: none; stroke: #1f77b4; stroke-width: 1.5; stroke-linecap: square\"/>\n   </g>\n   <g id=\"line2d_35\">\n    <path d=\"M 49.633125 13.638623 \nL 69.163125 68.011215 \n\" clip-path=\"url(#p3a4cbee22d)\" style=\"fill: none; stroke-dasharray: 5.55,2.4; stroke-dashoffset: 0; stroke: #ff7f0e; stroke-width: 1.5\"/>\n   </g>\n   <g id=\"line2d_36\">\n    <path d=\"M 49.633125 139.5 \nL 69.163125 124.123488 \n\" clip-path=\"url(#p3a4cbee22d)\" style=\"fill: none; stroke-dasharray: 9.6,2.4,1.5,2.4; stroke-dashoffset: 0; stroke: #2ca02c; stroke-width: 1.5\"/>\n   </g>\n   <g id=\"line2d_37\">\n    <path d=\"M 34.954394 13.5 \nL 44.698573 13.563264 \nL 54.442752 13.726562 \nL 64.186931 19.408307 \nL 73.93111 78.408022 \nL 83.675289 91.017982 \n\" clip-path=\"url(#p3a4cbee22d)\" style=\"fill: none; stroke: #1f77b4; stroke-width: 1.5; stroke-linecap: square\"/>\n   </g>\n   <g id=\"line2d_38\">\n    <path d=\"M 49.633125 13.638623 \nL 69.163125 68.011215 \nL 88.693125 88.21339 \n\" clip-path=\"url(#p3a4cbee22d)\" style=\"fill: none; stroke-dasharray: 5.55,2.4; stroke-dashoffset: 0; stroke: #ff7f0e; stroke-width: 1.5\"/>\n   </g>\n   <g id=\"line2d_39\">\n    <path d=\"M 49.633125 139.5 \nL 69.163125 124.123488 \n\" clip-path=\"url(#p3a4cbee22d)\" style=\"fill: none; stroke-dasharray: 9.6,2.4,1.5,2.4; stroke-dashoffset: 0; stroke: #2ca02c; stroke-width: 1.5\"/>\n   </g>\n   <g id=\"line2d_40\">\n    <path d=\"M 34.954394 13.5 \nL 44.698573 13.563264 \nL 54.442752 13.726562 \nL 64.186931 19.408307 \nL 73.93111 78.408022 \nL 83.675289 91.017982 \n\" clip-path=\"url(#p3a4cbee22d)\" style=\"fill: none; stroke: #1f77b4; stroke-width: 1.5; stroke-linecap: square\"/>\n   </g>\n   <g id=\"line2d_41\">\n    <path d=\"M 49.633125 13.638623 \nL 69.163125 68.011215 \nL 88.693125 88.21339 \n\" clip-path=\"url(#p3a4cbee22d)\" style=\"fill: none; stroke-dasharray: 5.55,2.4; stroke-dashoffset: 0; stroke: #ff7f0e; stroke-width: 1.5\"/>\n   </g>\n   <g id=\"line2d_42\">\n    <path d=\"M 49.633125 139.5 \nL 69.163125 124.123488 \nL 88.693125 112.643131 \n\" clip-path=\"url(#p3a4cbee22d)\" style=\"fill: none; stroke-dasharray: 9.6,2.4,1.5,2.4; stroke-dashoffset: 0; stroke: #2ca02c; stroke-width: 1.5\"/>\n   </g>\n   <g id=\"line2d_43\">\n    <path d=\"M 34.954394 13.5 \nL 44.698573 13.563264 \nL 54.442752 13.726562 \nL 64.186931 19.408307 \nL 73.93111 78.408022 \nL 83.675289 91.017982 \nL 93.419468 97.156913 \n\" clip-path=\"url(#p3a4cbee22d)\" style=\"fill: none; stroke: #1f77b4; stroke-width: 1.5; stroke-linecap: square\"/>\n   </g>\n   <g id=\"line2d_44\">\n    <path d=\"M 49.633125 13.638623 \nL 69.163125 68.011215 \nL 88.693125 88.21339 \n\" clip-path=\"url(#p3a4cbee22d)\" style=\"fill: none; stroke-dasharray: 5.55,2.4; stroke-dashoffset: 0; stroke: #ff7f0e; stroke-width: 1.5\"/>\n   </g>\n   <g id=\"line2d_45\">\n    <path d=\"M 49.633125 139.5 \nL 69.163125 124.123488 \nL 88.693125 112.643131 \n\" clip-path=\"url(#p3a4cbee22d)\" style=\"fill: none; stroke-dasharray: 9.6,2.4,1.5,2.4; stroke-dashoffset: 0; stroke: #2ca02c; stroke-width: 1.5\"/>\n   </g>\n   <g id=\"line2d_46\">\n    <path d=\"M 34.954394 13.5 \nL 44.698573 13.563264 \nL 54.442752 13.726562 \nL 64.186931 19.408307 \nL 73.93111 78.408022 \nL 83.675289 91.017982 \nL 93.419468 97.156913 \nL 103.163647 100.920262 \n\" clip-path=\"url(#p3a4cbee22d)\" style=\"fill: none; stroke: #1f77b4; stroke-width: 1.5; stroke-linecap: square\"/>\n   </g>\n   <g id=\"line2d_47\">\n    <path d=\"M 49.633125 13.638623 \nL 69.163125 68.011215 \nL 88.693125 88.21339 \n\" clip-path=\"url(#p3a4cbee22d)\" style=\"fill: none; stroke-dasharray: 5.55,2.4; stroke-dashoffset: 0; stroke: #ff7f0e; stroke-width: 1.5\"/>\n   </g>\n   <g id=\"line2d_48\">\n    <path d=\"M 49.633125 139.5 \nL 69.163125 124.123488 \nL 88.693125 112.643131 \n\" clip-path=\"url(#p3a4cbee22d)\" style=\"fill: none; stroke-dasharray: 9.6,2.4,1.5,2.4; stroke-dashoffset: 0; stroke: #2ca02c; stroke-width: 1.5\"/>\n   </g>\n   <g id=\"line2d_49\">\n    <path d=\"M 34.954394 13.5 \nL 44.698573 13.563264 \nL 54.442752 13.726562 \nL 64.186931 19.408307 \nL 73.93111 78.408022 \nL 83.675289 91.017982 \nL 93.419468 97.156913 \nL 103.163647 100.920262 \n\" clip-path=\"url(#p3a4cbee22d)\" style=\"fill: none; stroke: #1f77b4; stroke-width: 1.5; stroke-linecap: square\"/>\n   </g>\n   <g id=\"line2d_50\">\n    <path d=\"M 49.633125 13.638623 \nL 69.163125 68.011215 \nL 88.693125 88.21339 \nL 108.223125 104.005756 \n\" clip-path=\"url(#p3a4cbee22d)\" style=\"fill: none; stroke-dasharray: 5.55,2.4; stroke-dashoffset: 0; stroke: #ff7f0e; stroke-width: 1.5\"/>\n   </g>\n   <g id=\"line2d_51\">\n    <path d=\"M 49.633125 139.5 \nL 69.163125 124.123488 \nL 88.693125 112.643131 \n\" clip-path=\"url(#p3a4cbee22d)\" style=\"fill: none; stroke-dasharray: 9.6,2.4,1.5,2.4; stroke-dashoffset: 0; stroke: #2ca02c; stroke-width: 1.5\"/>\n   </g>\n   <g id=\"line2d_52\">\n    <path d=\"M 34.954394 13.5 \nL 44.698573 13.563264 \nL 54.442752 13.726562 \nL 64.186931 19.408307 \nL 73.93111 78.408022 \nL 83.675289 91.017982 \nL 93.419468 97.156913 \nL 103.163647 100.920262 \n\" clip-path=\"url(#p3a4cbee22d)\" style=\"fill: none; stroke: #1f77b4; stroke-width: 1.5; stroke-linecap: square\"/>\n   </g>\n   <g id=\"line2d_53\">\n    <path d=\"M 49.633125 13.638623 \nL 69.163125 68.011215 \nL 88.693125 88.21339 \nL 108.223125 104.005756 \n\" clip-path=\"url(#p3a4cbee22d)\" style=\"fill: none; stroke-dasharray: 5.55,2.4; stroke-dashoffset: 0; stroke: #ff7f0e; stroke-width: 1.5\"/>\n   </g>\n   <g id=\"line2d_54\">\n    <path d=\"M 49.633125 139.5 \nL 69.163125 124.123488 \nL 88.693125 112.643131 \nL 108.223125 105.781507 \n\" clip-path=\"url(#p3a4cbee22d)\" style=\"fill: none; stroke-dasharray: 9.6,2.4,1.5,2.4; stroke-dashoffset: 0; stroke: #2ca02c; stroke-width: 1.5\"/>\n   </g>\n   <g id=\"line2d_55\">\n    <path d=\"M 34.954394 13.5 \nL 44.698573 13.563264 \nL 54.442752 13.726562 \nL 64.186931 19.408307 \nL 73.93111 78.408022 \nL 83.675289 91.017982 \nL 93.419468 97.156913 \nL 103.163647 100.920262 \nL 112.907826 104.230565 \n\" clip-path=\"url(#p3a4cbee22d)\" style=\"fill: none; stroke: #1f77b4; stroke-width: 1.5; stroke-linecap: square\"/>\n   </g>\n   <g id=\"line2d_56\">\n    <path d=\"M 49.633125 13.638623 \nL 69.163125 68.011215 \nL 88.693125 88.21339 \nL 108.223125 104.005756 \n\" clip-path=\"url(#p3a4cbee22d)\" style=\"fill: none; stroke-dasharray: 5.55,2.4; stroke-dashoffset: 0; stroke: #ff7f0e; stroke-width: 1.5\"/>\n   </g>\n   <g id=\"line2d_57\">\n    <path d=\"M 49.633125 139.5 \nL 69.163125 124.123488 \nL 88.693125 112.643131 \nL 108.223125 105.781507 \n\" clip-path=\"url(#p3a4cbee22d)\" style=\"fill: none; stroke-dasharray: 9.6,2.4,1.5,2.4; stroke-dashoffset: 0; stroke: #2ca02c; stroke-width: 1.5\"/>\n   </g>\n   <g id=\"line2d_58\">\n    <path d=\"M 34.954394 13.5 \nL 44.698573 13.563264 \nL 54.442752 13.726562 \nL 64.186931 19.408307 \nL 73.93111 78.408022 \nL 83.675289 91.017982 \nL 93.419468 97.156913 \nL 103.163647 100.920262 \nL 112.907826 104.230565 \nL 122.652006 107.809799 \n\" clip-path=\"url(#p3a4cbee22d)\" style=\"fill: none; stroke: #1f77b4; stroke-width: 1.5; stroke-linecap: square\"/>\n   </g>\n   <g id=\"line2d_59\">\n    <path d=\"M 49.633125 13.638623 \nL 69.163125 68.011215 \nL 88.693125 88.21339 \nL 108.223125 104.005756 \n\" clip-path=\"url(#p3a4cbee22d)\" style=\"fill: none; stroke-dasharray: 5.55,2.4; stroke-dashoffset: 0; stroke: #ff7f0e; stroke-width: 1.5\"/>\n   </g>\n   <g id=\"line2d_60\">\n    <path d=\"M 49.633125 139.5 \nL 69.163125 124.123488 \nL 88.693125 112.643131 \nL 108.223125 105.781507 \n\" clip-path=\"url(#p3a4cbee22d)\" style=\"fill: none; stroke-dasharray: 9.6,2.4,1.5,2.4; stroke-dashoffset: 0; stroke: #2ca02c; stroke-width: 1.5\"/>\n   </g>\n   <g id=\"line2d_61\">\n    <path d=\"M 34.954394 13.5 \nL 44.698573 13.563264 \nL 54.442752 13.726562 \nL 64.186931 19.408307 \nL 73.93111 78.408022 \nL 83.675289 91.017982 \nL 93.419468 97.156913 \nL 103.163647 100.920262 \nL 112.907826 104.230565 \nL 122.652006 107.809799 \n\" clip-path=\"url(#p3a4cbee22d)\" style=\"fill: none; stroke: #1f77b4; stroke-width: 1.5; stroke-linecap: square\"/>\n   </g>\n   <g id=\"line2d_62\">\n    <path d=\"M 49.633125 13.638623 \nL 69.163125 68.011215 \nL 88.693125 88.21339 \nL 108.223125 104.005756 \nL 127.753125 108.528099 \n\" clip-path=\"url(#p3a4cbee22d)\" style=\"fill: none; stroke-dasharray: 5.55,2.4; stroke-dashoffset: 0; stroke: #ff7f0e; stroke-width: 1.5\"/>\n   </g>\n   <g id=\"line2d_63\">\n    <path d=\"M 49.633125 139.5 \nL 69.163125 124.123488 \nL 88.693125 112.643131 \nL 108.223125 105.781507 \n\" clip-path=\"url(#p3a4cbee22d)\" style=\"fill: none; stroke-dasharray: 9.6,2.4,1.5,2.4; stroke-dashoffset: 0; stroke: #2ca02c; stroke-width: 1.5\"/>\n   </g>\n   <g id=\"line2d_64\">\n    <path d=\"M 34.954394 13.5 \nL 44.698573 13.563264 \nL 54.442752 13.726562 \nL 64.186931 19.408307 \nL 73.93111 78.408022 \nL 83.675289 91.017982 \nL 93.419468 97.156913 \nL 103.163647 100.920262 \nL 112.907826 104.230565 \nL 122.652006 107.809799 \n\" clip-path=\"url(#p3a4cbee22d)\" style=\"fill: none; stroke: #1f77b4; stroke-width: 1.5; stroke-linecap: square\"/>\n   </g>\n   <g id=\"line2d_65\">\n    <path d=\"M 49.633125 13.638623 \nL 69.163125 68.011215 \nL 88.693125 88.21339 \nL 108.223125 104.005756 \nL 127.753125 108.528099 \n\" clip-path=\"url(#p3a4cbee22d)\" style=\"fill: none; stroke-dasharray: 5.55,2.4; stroke-dashoffset: 0; stroke: #ff7f0e; stroke-width: 1.5\"/>\n   </g>\n   <g id=\"line2d_66\">\n    <path d=\"M 49.633125 139.5 \nL 69.163125 124.123488 \nL 88.693125 112.643131 \nL 108.223125 105.781507 \nL 127.753125 104.19183 \n\" clip-path=\"url(#p3a4cbee22d)\" style=\"fill: none; stroke-dasharray: 9.6,2.4,1.5,2.4; stroke-dashoffset: 0; stroke: #2ca02c; stroke-width: 1.5\"/>\n   </g>\n   <g id=\"line2d_67\">\n    <path d=\"M 34.954394 13.5 \nL 44.698573 13.563264 \nL 54.442752 13.726562 \nL 64.186931 19.408307 \nL 73.93111 78.408022 \nL 83.675289 91.017982 \nL 93.419468 97.156913 \nL 103.163647 100.920262 \nL 112.907826 104.230565 \nL 122.652006 107.809799 \nL 132.396185 110.114527 \n\" clip-path=\"url(#p3a4cbee22d)\" style=\"fill: none; stroke: #1f77b4; stroke-width: 1.5; stroke-linecap: square\"/>\n   </g>\n   <g id=\"line2d_68\">\n    <path d=\"M 49.633125 13.638623 \nL 69.163125 68.011215 \nL 88.693125 88.21339 \nL 108.223125 104.005756 \nL 127.753125 108.528099 \n\" clip-path=\"url(#p3a4cbee22d)\" style=\"fill: none; stroke-dasharray: 5.55,2.4; stroke-dashoffset: 0; stroke: #ff7f0e; stroke-width: 1.5\"/>\n   </g>\n   <g id=\"line2d_69\">\n    <path d=\"M 49.633125 139.5 \nL 69.163125 124.123488 \nL 88.693125 112.643131 \nL 108.223125 105.781507 \nL 127.753125 104.19183 \n\" clip-path=\"url(#p3a4cbee22d)\" style=\"fill: none; stroke-dasharray: 9.6,2.4,1.5,2.4; stroke-dashoffset: 0; stroke: #2ca02c; stroke-width: 1.5\"/>\n   </g>\n   <g id=\"line2d_70\">\n    <path d=\"M 34.954394 13.5 \nL 44.698573 13.563264 \nL 54.442752 13.726562 \nL 64.186931 19.408307 \nL 73.93111 78.408022 \nL 83.675289 91.017982 \nL 93.419468 97.156913 \nL 103.163647 100.920262 \nL 112.907826 104.230565 \nL 122.652006 107.809799 \nL 132.396185 110.114527 \nL 142.140364 112.35609 \n\" clip-path=\"url(#p3a4cbee22d)\" style=\"fill: none; stroke: #1f77b4; stroke-width: 1.5; stroke-linecap: square\"/>\n   </g>\n   <g id=\"line2d_71\">\n    <path d=\"M 49.633125 13.638623 \nL 69.163125 68.011215 \nL 88.693125 88.21339 \nL 108.223125 104.005756 \nL 127.753125 108.528099 \n\" clip-path=\"url(#p3a4cbee22d)\" style=\"fill: none; stroke-dasharray: 5.55,2.4; stroke-dashoffset: 0; stroke: #ff7f0e; stroke-width: 1.5\"/>\n   </g>\n   <g id=\"line2d_72\">\n    <path d=\"M 49.633125 139.5 \nL 69.163125 124.123488 \nL 88.693125 112.643131 \nL 108.223125 105.781507 \nL 127.753125 104.19183 \n\" clip-path=\"url(#p3a4cbee22d)\" style=\"fill: none; stroke-dasharray: 9.6,2.4,1.5,2.4; stroke-dashoffset: 0; stroke: #2ca02c; stroke-width: 1.5\"/>\n   </g>\n   <g id=\"line2d_73\">\n    <path d=\"M 34.954394 13.5 \nL 44.698573 13.563264 \nL 54.442752 13.726562 \nL 64.186931 19.408307 \nL 73.93111 78.408022 \nL 83.675289 91.017982 \nL 93.419468 97.156913 \nL 103.163647 100.920262 \nL 112.907826 104.230565 \nL 122.652006 107.809799 \nL 132.396185 110.114527 \nL 142.140364 112.35609 \n\" clip-path=\"url(#p3a4cbee22d)\" style=\"fill: none; stroke: #1f77b4; stroke-width: 1.5; stroke-linecap: square\"/>\n   </g>\n   <g id=\"line2d_74\">\n    <path d=\"M 49.633125 13.638623 \nL 69.163125 68.011215 \nL 88.693125 88.21339 \nL 108.223125 104.005756 \nL 127.753125 108.528099 \nL 147.283125 111.572351 \n\" clip-path=\"url(#p3a4cbee22d)\" style=\"fill: none; stroke-dasharray: 5.55,2.4; stroke-dashoffset: 0; stroke: #ff7f0e; stroke-width: 1.5\"/>\n   </g>\n   <g id=\"line2d_75\">\n    <path d=\"M 49.633125 139.5 \nL 69.163125 124.123488 \nL 88.693125 112.643131 \nL 108.223125 105.781507 \nL 127.753125 104.19183 \n\" clip-path=\"url(#p3a4cbee22d)\" style=\"fill: none; stroke-dasharray: 9.6,2.4,1.5,2.4; stroke-dashoffset: 0; stroke: #2ca02c; stroke-width: 1.5\"/>\n   </g>\n   <g id=\"line2d_76\">\n    <path d=\"M 34.954394 13.5 \nL 44.698573 13.563264 \nL 54.442752 13.726562 \nL 64.186931 19.408307 \nL 73.93111 78.408022 \nL 83.675289 91.017982 \nL 93.419468 97.156913 \nL 103.163647 100.920262 \nL 112.907826 104.230565 \nL 122.652006 107.809799 \nL 132.396185 110.114527 \nL 142.140364 112.35609 \n\" clip-path=\"url(#p3a4cbee22d)\" style=\"fill: none; stroke: #1f77b4; stroke-width: 1.5; stroke-linecap: square\"/>\n   </g>\n   <g id=\"line2d_77\">\n    <path d=\"M 49.633125 13.638623 \nL 69.163125 68.011215 \nL 88.693125 88.21339 \nL 108.223125 104.005756 \nL 127.753125 108.528099 \nL 147.283125 111.572351 \n\" clip-path=\"url(#p3a4cbee22d)\" style=\"fill: none; stroke-dasharray: 5.55,2.4; stroke-dashoffset: 0; stroke: #ff7f0e; stroke-width: 1.5\"/>\n   </g>\n   <g id=\"line2d_78\">\n    <path d=\"M 49.633125 139.5 \nL 69.163125 124.123488 \nL 88.693125 112.643131 \nL 108.223125 105.781507 \nL 127.753125 104.19183 \nL 147.283125 102.856501 \n\" clip-path=\"url(#p3a4cbee22d)\" style=\"fill: none; stroke-dasharray: 9.6,2.4,1.5,2.4; stroke-dashoffset: 0; stroke: #2ca02c; stroke-width: 1.5\"/>\n   </g>\n   <g id=\"line2d_79\">\n    <path d=\"M 34.954394 13.5 \nL 44.698573 13.563264 \nL 54.442752 13.726562 \nL 64.186931 19.408307 \nL 73.93111 78.408022 \nL 83.675289 91.017982 \nL 93.419468 97.156913 \nL 103.163647 100.920262 \nL 112.907826 104.230565 \nL 122.652006 107.809799 \nL 132.396185 110.114527 \nL 142.140364 112.35609 \nL 151.884543 114.080255 \n\" clip-path=\"url(#p3a4cbee22d)\" style=\"fill: none; stroke: #1f77b4; stroke-width: 1.5; stroke-linecap: square\"/>\n   </g>\n   <g id=\"line2d_80\">\n    <path d=\"M 49.633125 13.638623 \nL 69.163125 68.011215 \nL 88.693125 88.21339 \nL 108.223125 104.005756 \nL 127.753125 108.528099 \nL 147.283125 111.572351 \n\" clip-path=\"url(#p3a4cbee22d)\" style=\"fill: none; stroke-dasharray: 5.55,2.4; stroke-dashoffset: 0; stroke: #ff7f0e; stroke-width: 1.5\"/>\n   </g>\n   <g id=\"line2d_81\">\n    <path d=\"M 49.633125 139.5 \nL 69.163125 124.123488 \nL 88.693125 112.643131 \nL 108.223125 105.781507 \nL 127.753125 104.19183 \nL 147.283125 102.856501 \n\" clip-path=\"url(#p3a4cbee22d)\" style=\"fill: none; stroke-dasharray: 9.6,2.4,1.5,2.4; stroke-dashoffset: 0; stroke: #2ca02c; stroke-width: 1.5\"/>\n   </g>\n   <g id=\"line2d_82\">\n    <path d=\"M 34.954394 13.5 \nL 44.698573 13.563264 \nL 54.442752 13.726562 \nL 64.186931 19.408307 \nL 73.93111 78.408022 \nL 83.675289 91.017982 \nL 93.419468 97.156913 \nL 103.163647 100.920262 \nL 112.907826 104.230565 \nL 122.652006 107.809799 \nL 132.396185 110.114527 \nL 142.140364 112.35609 \nL 151.884543 114.080255 \nL 161.628722 115.789076 \n\" clip-path=\"url(#p3a4cbee22d)\" style=\"fill: none; stroke: #1f77b4; stroke-width: 1.5; stroke-linecap: square\"/>\n   </g>\n   <g id=\"line2d_83\">\n    <path d=\"M 49.633125 13.638623 \nL 69.163125 68.011215 \nL 88.693125 88.21339 \nL 108.223125 104.005756 \nL 127.753125 108.528099 \nL 147.283125 111.572351 \n\" clip-path=\"url(#p3a4cbee22d)\" style=\"fill: none; stroke-dasharray: 5.55,2.4; stroke-dashoffset: 0; stroke: #ff7f0e; stroke-width: 1.5\"/>\n   </g>\n   <g id=\"line2d_84\">\n    <path d=\"M 49.633125 139.5 \nL 69.163125 124.123488 \nL 88.693125 112.643131 \nL 108.223125 105.781507 \nL 127.753125 104.19183 \nL 147.283125 102.856501 \n\" clip-path=\"url(#p3a4cbee22d)\" style=\"fill: none; stroke-dasharray: 9.6,2.4,1.5,2.4; stroke-dashoffset: 0; stroke: #2ca02c; stroke-width: 1.5\"/>\n   </g>\n   <g id=\"line2d_85\">\n    <path d=\"M 34.954394 13.5 \nL 44.698573 13.563264 \nL 54.442752 13.726562 \nL 64.186931 19.408307 \nL 73.93111 78.408022 \nL 83.675289 91.017982 \nL 93.419468 97.156913 \nL 103.163647 100.920262 \nL 112.907826 104.230565 \nL 122.652006 107.809799 \nL 132.396185 110.114527 \nL 142.140364 112.35609 \nL 151.884543 114.080255 \nL 161.628722 115.789076 \n\" clip-path=\"url(#p3a4cbee22d)\" style=\"fill: none; stroke: #1f77b4; stroke-width: 1.5; stroke-linecap: square\"/>\n   </g>\n   <g id=\"line2d_86\">\n    <path d=\"M 49.633125 13.638623 \nL 69.163125 68.011215 \nL 88.693125 88.21339 \nL 108.223125 104.005756 \nL 127.753125 108.528099 \nL 147.283125 111.572351 \nL 166.813125 114.13895 \n\" clip-path=\"url(#p3a4cbee22d)\" style=\"fill: none; stroke-dasharray: 5.55,2.4; stroke-dashoffset: 0; stroke: #ff7f0e; stroke-width: 1.5\"/>\n   </g>\n   <g id=\"line2d_87\">\n    <path d=\"M 49.633125 139.5 \nL 69.163125 124.123488 \nL 88.693125 112.643131 \nL 108.223125 105.781507 \nL 127.753125 104.19183 \nL 147.283125 102.856501 \n\" clip-path=\"url(#p3a4cbee22d)\" style=\"fill: none; stroke-dasharray: 9.6,2.4,1.5,2.4; stroke-dashoffset: 0; stroke: #2ca02c; stroke-width: 1.5\"/>\n   </g>\n   <g id=\"line2d_88\">\n    <path d=\"M 34.954394 13.5 \nL 44.698573 13.563264 \nL 54.442752 13.726562 \nL 64.186931 19.408307 \nL 73.93111 78.408022 \nL 83.675289 91.017982 \nL 93.419468 97.156913 \nL 103.163647 100.920262 \nL 112.907826 104.230565 \nL 122.652006 107.809799 \nL 132.396185 110.114527 \nL 142.140364 112.35609 \nL 151.884543 114.080255 \nL 161.628722 115.789076 \n\" clip-path=\"url(#p3a4cbee22d)\" style=\"fill: none; stroke: #1f77b4; stroke-width: 1.5; stroke-linecap: square\"/>\n   </g>\n   <g id=\"line2d_89\">\n    <path d=\"M 49.633125 13.638623 \nL 69.163125 68.011215 \nL 88.693125 88.21339 \nL 108.223125 104.005756 \nL 127.753125 108.528099 \nL 147.283125 111.572351 \nL 166.813125 114.13895 \n\" clip-path=\"url(#p3a4cbee22d)\" style=\"fill: none; stroke-dasharray: 5.55,2.4; stroke-dashoffset: 0; stroke: #ff7f0e; stroke-width: 1.5\"/>\n   </g>\n   <g id=\"line2d_90\">\n    <path d=\"M 49.633125 139.5 \nL 69.163125 124.123488 \nL 88.693125 112.643131 \nL 108.223125 105.781507 \nL 127.753125 104.19183 \nL 147.283125 102.856501 \nL 166.813125 103.11663 \n\" clip-path=\"url(#p3a4cbee22d)\" style=\"fill: none; stroke-dasharray: 9.6,2.4,1.5,2.4; stroke-dashoffset: 0; stroke: #2ca02c; stroke-width: 1.5\"/>\n   </g>\n   <g id=\"line2d_91\">\n    <path d=\"M 34.954394 13.5 \nL 44.698573 13.563264 \nL 54.442752 13.726562 \nL 64.186931 19.408307 \nL 73.93111 78.408022 \nL 83.675289 91.017982 \nL 93.419468 97.156913 \nL 103.163647 100.920262 \nL 112.907826 104.230565 \nL 122.652006 107.809799 \nL 132.396185 110.114527 \nL 142.140364 112.35609 \nL 151.884543 114.080255 \nL 161.628722 115.789076 \nL 171.372901 117.149631 \n\" clip-path=\"url(#p3a4cbee22d)\" style=\"fill: none; stroke: #1f77b4; stroke-width: 1.5; stroke-linecap: square\"/>\n   </g>\n   <g id=\"line2d_92\">\n    <path d=\"M 49.633125 13.638623 \nL 69.163125 68.011215 \nL 88.693125 88.21339 \nL 108.223125 104.005756 \nL 127.753125 108.528099 \nL 147.283125 111.572351 \nL 166.813125 114.13895 \n\" clip-path=\"url(#p3a4cbee22d)\" style=\"fill: none; stroke-dasharray: 5.55,2.4; stroke-dashoffset: 0; stroke: #ff7f0e; stroke-width: 1.5\"/>\n   </g>\n   <g id=\"line2d_93\">\n    <path d=\"M 49.633125 139.5 \nL 69.163125 124.123488 \nL 88.693125 112.643131 \nL 108.223125 105.781507 \nL 127.753125 104.19183 \nL 147.283125 102.856501 \nL 166.813125 103.11663 \n\" clip-path=\"url(#p3a4cbee22d)\" style=\"fill: none; stroke-dasharray: 9.6,2.4,1.5,2.4; stroke-dashoffset: 0; stroke: #2ca02c; stroke-width: 1.5\"/>\n   </g>\n   <g id=\"line2d_94\">\n    <path d=\"M 34.954394 13.5 \nL 44.698573 13.563264 \nL 54.442752 13.726562 \nL 64.186931 19.408307 \nL 73.93111 78.408022 \nL 83.675289 91.017982 \nL 93.419468 97.156913 \nL 103.163647 100.920262 \nL 112.907826 104.230565 \nL 122.652006 107.809799 \nL 132.396185 110.114527 \nL 142.140364 112.35609 \nL 151.884543 114.080255 \nL 161.628722 115.789076 \nL 171.372901 117.149631 \nL 181.11708 117.766175 \n\" clip-path=\"url(#p3a4cbee22d)\" style=\"fill: none; stroke: #1f77b4; stroke-width: 1.5; stroke-linecap: square\"/>\n   </g>\n   <g id=\"line2d_95\">\n    <path d=\"M 49.633125 13.638623 \nL 69.163125 68.011215 \nL 88.693125 88.21339 \nL 108.223125 104.005756 \nL 127.753125 108.528099 \nL 147.283125 111.572351 \nL 166.813125 114.13895 \n\" clip-path=\"url(#p3a4cbee22d)\" style=\"fill: none; stroke-dasharray: 5.55,2.4; stroke-dashoffset: 0; stroke: #ff7f0e; stroke-width: 1.5\"/>\n   </g>\n   <g id=\"line2d_96\">\n    <path d=\"M 49.633125 139.5 \nL 69.163125 124.123488 \nL 88.693125 112.643131 \nL 108.223125 105.781507 \nL 127.753125 104.19183 \nL 147.283125 102.856501 \nL 166.813125 103.11663 \n\" clip-path=\"url(#p3a4cbee22d)\" style=\"fill: none; stroke-dasharray: 9.6,2.4,1.5,2.4; stroke-dashoffset: 0; stroke: #2ca02c; stroke-width: 1.5\"/>\n   </g>\n   <g id=\"line2d_97\">\n    <path d=\"M 34.954394 13.5 \nL 44.698573 13.563264 \nL 54.442752 13.726562 \nL 64.186931 19.408307 \nL 73.93111 78.408022 \nL 83.675289 91.017982 \nL 93.419468 97.156913 \nL 103.163647 100.920262 \nL 112.907826 104.230565 \nL 122.652006 107.809799 \nL 132.396185 110.114527 \nL 142.140364 112.35609 \nL 151.884543 114.080255 \nL 161.628722 115.789076 \nL 171.372901 117.149631 \nL 181.11708 117.766175 \n\" clip-path=\"url(#p3a4cbee22d)\" style=\"fill: none; stroke: #1f77b4; stroke-width: 1.5; stroke-linecap: square\"/>\n   </g>\n   <g id=\"line2d_98\">\n    <path d=\"M 49.633125 13.638623 \nL 69.163125 68.011215 \nL 88.693125 88.21339 \nL 108.223125 104.005756 \nL 127.753125 108.528099 \nL 147.283125 111.572351 \nL 166.813125 114.13895 \nL 186.343125 117.299677 \n\" clip-path=\"url(#p3a4cbee22d)\" style=\"fill: none; stroke-dasharray: 5.55,2.4; stroke-dashoffset: 0; stroke: #ff7f0e; stroke-width: 1.5\"/>\n   </g>\n   <g id=\"line2d_99\">\n    <path d=\"M 49.633125 139.5 \nL 69.163125 124.123488 \nL 88.693125 112.643131 \nL 108.223125 105.781507 \nL 127.753125 104.19183 \nL 147.283125 102.856501 \nL 166.813125 103.11663 \n\" clip-path=\"url(#p3a4cbee22d)\" style=\"fill: none; stroke-dasharray: 9.6,2.4,1.5,2.4; stroke-dashoffset: 0; stroke: #2ca02c; stroke-width: 1.5\"/>\n   </g>\n   <g id=\"line2d_100\">\n    <path d=\"M 34.954394 13.5 \nL 44.698573 13.563264 \nL 54.442752 13.726562 \nL 64.186931 19.408307 \nL 73.93111 78.408022 \nL 83.675289 91.017982 \nL 93.419468 97.156913 \nL 103.163647 100.920262 \nL 112.907826 104.230565 \nL 122.652006 107.809799 \nL 132.396185 110.114527 \nL 142.140364 112.35609 \nL 151.884543 114.080255 \nL 161.628722 115.789076 \nL 171.372901 117.149631 \nL 181.11708 117.766175 \n\" clip-path=\"url(#p3a4cbee22d)\" style=\"fill: none; stroke: #1f77b4; stroke-width: 1.5; stroke-linecap: square\"/>\n   </g>\n   <g id=\"line2d_101\">\n    <path d=\"M 49.633125 13.638623 \nL 69.163125 68.011215 \nL 88.693125 88.21339 \nL 108.223125 104.005756 \nL 127.753125 108.528099 \nL 147.283125 111.572351 \nL 166.813125 114.13895 \nL 186.343125 117.299677 \n\" clip-path=\"url(#p3a4cbee22d)\" style=\"fill: none; stroke-dasharray: 5.55,2.4; stroke-dashoffset: 0; stroke: #ff7f0e; stroke-width: 1.5\"/>\n   </g>\n   <g id=\"line2d_102\">\n    <path d=\"M 49.633125 139.5 \nL 69.163125 124.123488 \nL 88.693125 112.643131 \nL 108.223125 105.781507 \nL 127.753125 104.19183 \nL 147.283125 102.856501 \nL 166.813125 103.11663 \nL 186.343125 101.486489 \n\" clip-path=\"url(#p3a4cbee22d)\" style=\"fill: none; stroke-dasharray: 9.6,2.4,1.5,2.4; stroke-dashoffset: 0; stroke: #2ca02c; stroke-width: 1.5\"/>\n   </g>\n   <g id=\"line2d_103\">\n    <path d=\"M 34.954394 13.5 \nL 44.698573 13.563264 \nL 54.442752 13.726562 \nL 64.186931 19.408307 \nL 73.93111 78.408022 \nL 83.675289 91.017982 \nL 93.419468 97.156913 \nL 103.163647 100.920262 \nL 112.907826 104.230565 \nL 122.652006 107.809799 \nL 132.396185 110.114527 \nL 142.140364 112.35609 \nL 151.884543 114.080255 \nL 161.628722 115.789076 \nL 171.372901 117.149631 \nL 181.11708 117.766175 \nL 190.861259 119.036104 \n\" clip-path=\"url(#p3a4cbee22d)\" style=\"fill: none; stroke: #1f77b4; stroke-width: 1.5; stroke-linecap: square\"/>\n   </g>\n   <g id=\"line2d_104\">\n    <path d=\"M 49.633125 13.638623 \nL 69.163125 68.011215 \nL 88.693125 88.21339 \nL 108.223125 104.005756 \nL 127.753125 108.528099 \nL 147.283125 111.572351 \nL 166.813125 114.13895 \nL 186.343125 117.299677 \n\" clip-path=\"url(#p3a4cbee22d)\" style=\"fill: none; stroke-dasharray: 5.55,2.4; stroke-dashoffset: 0; stroke: #ff7f0e; stroke-width: 1.5\"/>\n   </g>\n   <g id=\"line2d_105\">\n    <path d=\"M 49.633125 139.5 \nL 69.163125 124.123488 \nL 88.693125 112.643131 \nL 108.223125 105.781507 \nL 127.753125 104.19183 \nL 147.283125 102.856501 \nL 166.813125 103.11663 \nL 186.343125 101.486489 \n\" clip-path=\"url(#p3a4cbee22d)\" style=\"fill: none; stroke-dasharray: 9.6,2.4,1.5,2.4; stroke-dashoffset: 0; stroke: #2ca02c; stroke-width: 1.5\"/>\n   </g>\n   <g id=\"line2d_106\">\n    <path d=\"M 34.954394 13.5 \nL 44.698573 13.563264 \nL 54.442752 13.726562 \nL 64.186931 19.408307 \nL 73.93111 78.408022 \nL 83.675289 91.017982 \nL 93.419468 97.156913 \nL 103.163647 100.920262 \nL 112.907826 104.230565 \nL 122.652006 107.809799 \nL 132.396185 110.114527 \nL 142.140364 112.35609 \nL 151.884543 114.080255 \nL 161.628722 115.789076 \nL 171.372901 117.149631 \nL 181.11708 117.766175 \nL 190.861259 119.036104 \nL 200.605438 119.629571 \n\" clip-path=\"url(#p3a4cbee22d)\" style=\"fill: none; stroke: #1f77b4; stroke-width: 1.5; stroke-linecap: square\"/>\n   </g>\n   <g id=\"line2d_107\">\n    <path d=\"M 49.633125 13.638623 \nL 69.163125 68.011215 \nL 88.693125 88.21339 \nL 108.223125 104.005756 \nL 127.753125 108.528099 \nL 147.283125 111.572351 \nL 166.813125 114.13895 \nL 186.343125 117.299677 \n\" clip-path=\"url(#p3a4cbee22d)\" style=\"fill: none; stroke-dasharray: 5.55,2.4; stroke-dashoffset: 0; stroke: #ff7f0e; stroke-width: 1.5\"/>\n   </g>\n   <g id=\"line2d_108\">\n    <path d=\"M 49.633125 139.5 \nL 69.163125 124.123488 \nL 88.693125 112.643131 \nL 108.223125 105.781507 \nL 127.753125 104.19183 \nL 147.283125 102.856501 \nL 166.813125 103.11663 \nL 186.343125 101.486489 \n\" clip-path=\"url(#p3a4cbee22d)\" style=\"fill: none; stroke-dasharray: 9.6,2.4,1.5,2.4; stroke-dashoffset: 0; stroke: #2ca02c; stroke-width: 1.5\"/>\n   </g>\n   <g id=\"line2d_109\">\n    <path d=\"M 34.954394 13.5 \nL 44.698573 13.563264 \nL 54.442752 13.726562 \nL 64.186931 19.408307 \nL 73.93111 78.408022 \nL 83.675289 91.017982 \nL 93.419468 97.156913 \nL 103.163647 100.920262 \nL 112.907826 104.230565 \nL 122.652006 107.809799 \nL 132.396185 110.114527 \nL 142.140364 112.35609 \nL 151.884543 114.080255 \nL 161.628722 115.789076 \nL 171.372901 117.149631 \nL 181.11708 117.766175 \nL 190.861259 119.036104 \nL 200.605438 119.629571 \n\" clip-path=\"url(#p3a4cbee22d)\" style=\"fill: none; stroke: #1f77b4; stroke-width: 1.5; stroke-linecap: square\"/>\n   </g>\n   <g id=\"line2d_110\">\n    <path d=\"M 49.633125 13.638623 \nL 69.163125 68.011215 \nL 88.693125 88.21339 \nL 108.223125 104.005756 \nL 127.753125 108.528099 \nL 147.283125 111.572351 \nL 166.813125 114.13895 \nL 186.343125 117.299677 \nL 205.873125 120.870088 \n\" clip-path=\"url(#p3a4cbee22d)\" style=\"fill: none; stroke-dasharray: 5.55,2.4; stroke-dashoffset: 0; stroke: #ff7f0e; stroke-width: 1.5\"/>\n   </g>\n   <g id=\"line2d_111\">\n    <path d=\"M 49.633125 139.5 \nL 69.163125 124.123488 \nL 88.693125 112.643131 \nL 108.223125 105.781507 \nL 127.753125 104.19183 \nL 147.283125 102.856501 \nL 166.813125 103.11663 \nL 186.343125 101.486489 \n\" clip-path=\"url(#p3a4cbee22d)\" style=\"fill: none; stroke-dasharray: 9.6,2.4,1.5,2.4; stroke-dashoffset: 0; stroke: #2ca02c; stroke-width: 1.5\"/>\n   </g>\n   <g id=\"line2d_112\">\n    <path d=\"M 34.954394 13.5 \nL 44.698573 13.563264 \nL 54.442752 13.726562 \nL 64.186931 19.408307 \nL 73.93111 78.408022 \nL 83.675289 91.017982 \nL 93.419468 97.156913 \nL 103.163647 100.920262 \nL 112.907826 104.230565 \nL 122.652006 107.809799 \nL 132.396185 110.114527 \nL 142.140364 112.35609 \nL 151.884543 114.080255 \nL 161.628722 115.789076 \nL 171.372901 117.149631 \nL 181.11708 117.766175 \nL 190.861259 119.036104 \nL 200.605438 119.629571 \n\" clip-path=\"url(#p3a4cbee22d)\" style=\"fill: none; stroke: #1f77b4; stroke-width: 1.5; stroke-linecap: square\"/>\n   </g>\n   <g id=\"line2d_113\">\n    <path d=\"M 49.633125 13.638623 \nL 69.163125 68.011215 \nL 88.693125 88.21339 \nL 108.223125 104.005756 \nL 127.753125 108.528099 \nL 147.283125 111.572351 \nL 166.813125 114.13895 \nL 186.343125 117.299677 \nL 205.873125 120.870088 \n\" clip-path=\"url(#p3a4cbee22d)\" style=\"fill: none; stroke-dasharray: 5.55,2.4; stroke-dashoffset: 0; stroke: #ff7f0e; stroke-width: 1.5\"/>\n   </g>\n   <g id=\"line2d_114\">\n    <path d=\"M 49.633125 139.5 \nL 69.163125 124.123488 \nL 88.693125 112.643131 \nL 108.223125 105.781507 \nL 127.753125 104.19183 \nL 147.283125 102.856501 \nL 166.813125 103.11663 \nL 186.343125 101.486489 \nL 205.873125 99.636683 \n\" clip-path=\"url(#p3a4cbee22d)\" style=\"fill: none; stroke-dasharray: 9.6,2.4,1.5,2.4; stroke-dashoffset: 0; stroke: #2ca02c; stroke-width: 1.5\"/>\n   </g>\n   <g id=\"line2d_115\">\n    <path d=\"M 34.954394 13.5 \nL 44.698573 13.563264 \nL 54.442752 13.726562 \nL 64.186931 19.408307 \nL 73.93111 78.408022 \nL 83.675289 91.017982 \nL 93.419468 97.156913 \nL 103.163647 100.920262 \nL 112.907826 104.230565 \nL 122.652006 107.809799 \nL 132.396185 110.114527 \nL 142.140364 112.35609 \nL 151.884543 114.080255 \nL 161.628722 115.789076 \nL 171.372901 117.149631 \nL 181.11708 117.766175 \nL 190.861259 119.036104 \nL 200.605438 119.629571 \nL 210.349618 120.658648 \n\" clip-path=\"url(#p3a4cbee22d)\" style=\"fill: none; stroke: #1f77b4; stroke-width: 1.5; stroke-linecap: square\"/>\n   </g>\n   <g id=\"line2d_116\">\n    <path d=\"M 49.633125 13.638623 \nL 69.163125 68.011215 \nL 88.693125 88.21339 \nL 108.223125 104.005756 \nL 127.753125 108.528099 \nL 147.283125 111.572351 \nL 166.813125 114.13895 \nL 186.343125 117.299677 \nL 205.873125 120.870088 \n\" clip-path=\"url(#p3a4cbee22d)\" style=\"fill: none; stroke-dasharray: 5.55,2.4; stroke-dashoffset: 0; stroke: #ff7f0e; stroke-width: 1.5\"/>\n   </g>\n   <g id=\"line2d_117\">\n    <path d=\"M 49.633125 139.5 \nL 69.163125 124.123488 \nL 88.693125 112.643131 \nL 108.223125 105.781507 \nL 127.753125 104.19183 \nL 147.283125 102.856501 \nL 166.813125 103.11663 \nL 186.343125 101.486489 \nL 205.873125 99.636683 \n\" clip-path=\"url(#p3a4cbee22d)\" style=\"fill: none; stroke-dasharray: 9.6,2.4,1.5,2.4; stroke-dashoffset: 0; stroke: #2ca02c; stroke-width: 1.5\"/>\n   </g>\n   <g id=\"line2d_118\">\n    <path d=\"M 34.954394 13.5 \nL 44.698573 13.563264 \nL 54.442752 13.726562 \nL 64.186931 19.408307 \nL 73.93111 78.408022 \nL 83.675289 91.017982 \nL 93.419468 97.156913 \nL 103.163647 100.920262 \nL 112.907826 104.230565 \nL 122.652006 107.809799 \nL 132.396185 110.114527 \nL 142.140364 112.35609 \nL 151.884543 114.080255 \nL 161.628722 115.789076 \nL 171.372901 117.149631 \nL 181.11708 117.766175 \nL 190.861259 119.036104 \nL 200.605438 119.629571 \nL 210.349618 120.658648 \nL 220.093797 121.579054 \n\" clip-path=\"url(#p3a4cbee22d)\" style=\"fill: none; stroke: #1f77b4; stroke-width: 1.5; stroke-linecap: square\"/>\n   </g>\n   <g id=\"line2d_119\">\n    <path d=\"M 49.633125 13.638623 \nL 69.163125 68.011215 \nL 88.693125 88.21339 \nL 108.223125 104.005756 \nL 127.753125 108.528099 \nL 147.283125 111.572351 \nL 166.813125 114.13895 \nL 186.343125 117.299677 \nL 205.873125 120.870088 \n\" clip-path=\"url(#p3a4cbee22d)\" style=\"fill: none; stroke-dasharray: 5.55,2.4; stroke-dashoffset: 0; stroke: #ff7f0e; stroke-width: 1.5\"/>\n   </g>\n   <g id=\"line2d_120\">\n    <path d=\"M 49.633125 139.5 \nL 69.163125 124.123488 \nL 88.693125 112.643131 \nL 108.223125 105.781507 \nL 127.753125 104.19183 \nL 147.283125 102.856501 \nL 166.813125 103.11663 \nL 186.343125 101.486489 \nL 205.873125 99.636683 \n\" clip-path=\"url(#p3a4cbee22d)\" style=\"fill: none; stroke-dasharray: 9.6,2.4,1.5,2.4; stroke-dashoffset: 0; stroke: #2ca02c; stroke-width: 1.5\"/>\n   </g>\n   <g id=\"line2d_121\">\n    <path d=\"M 34.954394 13.5 \nL 44.698573 13.563264 \nL 54.442752 13.726562 \nL 64.186931 19.408307 \nL 73.93111 78.408022 \nL 83.675289 91.017982 \nL 93.419468 97.156913 \nL 103.163647 100.920262 \nL 112.907826 104.230565 \nL 122.652006 107.809799 \nL 132.396185 110.114527 \nL 142.140364 112.35609 \nL 151.884543 114.080255 \nL 161.628722 115.789076 \nL 171.372901 117.149631 \nL 181.11708 117.766175 \nL 190.861259 119.036104 \nL 200.605438 119.629571 \nL 210.349618 120.658648 \nL 220.093797 121.579054 \n\" clip-path=\"url(#p3a4cbee22d)\" style=\"fill: none; stroke: #1f77b4; stroke-width: 1.5; stroke-linecap: square\"/>\n   </g>\n   <g id=\"line2d_122\">\n    <path d=\"M 49.633125 13.638623 \nL 69.163125 68.011215 \nL 88.693125 88.21339 \nL 108.223125 104.005756 \nL 127.753125 108.528099 \nL 147.283125 111.572351 \nL 166.813125 114.13895 \nL 186.343125 117.299677 \nL 205.873125 120.870088 \nL 225.403125 122.474395 \n\" clip-path=\"url(#p3a4cbee22d)\" style=\"fill: none; stroke-dasharray: 5.55,2.4; stroke-dashoffset: 0; stroke: #ff7f0e; stroke-width: 1.5\"/>\n   </g>\n   <g id=\"line2d_123\">\n    <path d=\"M 49.633125 139.5 \nL 69.163125 124.123488 \nL 88.693125 112.643131 \nL 108.223125 105.781507 \nL 127.753125 104.19183 \nL 147.283125 102.856501 \nL 166.813125 103.11663 \nL 186.343125 101.486489 \nL 205.873125 99.636683 \n\" clip-path=\"url(#p3a4cbee22d)\" style=\"fill: none; stroke-dasharray: 9.6,2.4,1.5,2.4; stroke-dashoffset: 0; stroke: #2ca02c; stroke-width: 1.5\"/>\n   </g>\n   <g id=\"line2d_124\">\n    <path d=\"M 34.954394 13.5 \nL 44.698573 13.563264 \nL 54.442752 13.726562 \nL 64.186931 19.408307 \nL 73.93111 78.408022 \nL 83.675289 91.017982 \nL 93.419468 97.156913 \nL 103.163647 100.920262 \nL 112.907826 104.230565 \nL 122.652006 107.809799 \nL 132.396185 110.114527 \nL 142.140364 112.35609 \nL 151.884543 114.080255 \nL 161.628722 115.789076 \nL 171.372901 117.149631 \nL 181.11708 117.766175 \nL 190.861259 119.036104 \nL 200.605438 119.629571 \nL 210.349618 120.658648 \nL 220.093797 121.579054 \n\" clip-path=\"url(#p3a4cbee22d)\" style=\"fill: none; stroke: #1f77b4; stroke-width: 1.5; stroke-linecap: square\"/>\n   </g>\n   <g id=\"line2d_125\">\n    <path d=\"M 49.633125 13.638623 \nL 69.163125 68.011215 \nL 88.693125 88.21339 \nL 108.223125 104.005756 \nL 127.753125 108.528099 \nL 147.283125 111.572351 \nL 166.813125 114.13895 \nL 186.343125 117.299677 \nL 205.873125 120.870088 \nL 225.403125 122.474395 \n\" clip-path=\"url(#p3a4cbee22d)\" style=\"fill: none; stroke-dasharray: 5.55,2.4; stroke-dashoffset: 0; stroke: #ff7f0e; stroke-width: 1.5\"/>\n   </g>\n   <g id=\"line2d_126\">\n    <path d=\"M 49.633125 139.5 \nL 69.163125 124.123488 \nL 88.693125 112.643131 \nL 108.223125 105.781507 \nL 127.753125 104.19183 \nL 147.283125 102.856501 \nL 166.813125 103.11663 \nL 186.343125 101.486489 \nL 205.873125 99.636683 \nL 225.403125 99.197354 \n\" clip-path=\"url(#p3a4cbee22d)\" style=\"fill: none; stroke-dasharray: 9.6,2.4,1.5,2.4; stroke-dashoffset: 0; stroke: #2ca02c; stroke-width: 1.5\"/>\n   </g>\n   <g id=\"patch_3\">\n    <path d=\"M 30.103125 145.8 \nL 30.103125 7.2 \n\" style=\"fill: none; stroke: #000000; stroke-width: 0.8; stroke-linejoin: miter; stroke-linecap: square\"/>\n   </g>\n   <g id=\"patch_4\">\n    <path d=\"M 225.403125 145.8 \nL 225.403125 7.2 \n\" style=\"fill: none; stroke: #000000; stroke-width: 0.8; stroke-linejoin: miter; stroke-linecap: square\"/>\n   </g>\n   <g id=\"patch_5\">\n    <path d=\"M 30.103125 145.8 \nL 225.403125 145.8 \n\" style=\"fill: none; stroke: #000000; stroke-width: 0.8; stroke-linejoin: miter; stroke-linecap: square\"/>\n   </g>\n   <g id=\"patch_6\">\n    <path d=\"M 30.103125 7.2 \nL 225.403125 7.2 \n\" style=\"fill: none; stroke: #000000; stroke-width: 0.8; stroke-linejoin: miter; stroke-linecap: square\"/>\n   </g>\n   <g id=\"legend_1\">\n    <g id=\"patch_7\">\n     <path d=\"M 138.8125 60.06875 \nL 218.403125 60.06875 \nQ 220.403125 60.06875 220.403125 58.06875 \nL 220.403125 14.2 \nQ 220.403125 12.2 218.403125 12.2 \nL 138.8125 12.2 \nQ 136.8125 12.2 136.8125 14.2 \nL 136.8125 58.06875 \nQ 136.8125 60.06875 138.8125 60.06875 \nz\n\" style=\"fill: #ffffff; opacity: 0.8; stroke: #cccccc; stroke-linejoin: miter\"/>\n    </g>\n    <g id=\"line2d_127\">\n     <path d=\"M 140.8125 20.298438 \nL 150.8125 20.298438 \nL 160.8125 20.298438 \n\" style=\"fill: none; stroke: #1f77b4; stroke-width: 1.5; stroke-linecap: square\"/>\n    </g>\n    <g id=\"text_12\">\n     <!-- train_loss -->\n     <g transform=\"translate(168.8125 23.798438) scale(0.1 -0.1)\">\n      <defs>\n       <path id=\"DejaVuSans-74\" d=\"M 1172 4494 \nL 1172 3500 \nL 2356 3500 \nL 2356 3053 \nL 1172 3053 \nL 1172 1153 \nQ 1172 725 1289 603 \nQ 1406 481 1766 481 \nL 2356 481 \nL 2356 0 \nL 1766 0 \nQ 1100 0 847 248 \nQ 594 497 594 1153 \nL 594 3053 \nL 172 3053 \nL 172 3500 \nL 594 3500 \nL 594 4494 \nL 1172 4494 \nz\n\" transform=\"scale(0.015625)\"/>\n       <path id=\"DejaVuSans-72\" d=\"M 2631 2963 \nQ 2534 3019 2420 3045 \nQ 2306 3072 2169 3072 \nQ 1681 3072 1420 2755 \nQ 1159 2438 1159 1844 \nL 1159 0 \nL 581 0 \nL 581 3500 \nL 1159 3500 \nL 1159 2956 \nQ 1341 3275 1631 3429 \nQ 1922 3584 2338 3584 \nQ 2397 3584 2469 3576 \nQ 2541 3569 2628 3553 \nL 2631 2963 \nz\n\" transform=\"scale(0.015625)\"/>\n       <path id=\"DejaVuSans-61\" d=\"M 2194 1759 \nQ 1497 1759 1228 1600 \nQ 959 1441 959 1056 \nQ 959 750 1161 570 \nQ 1363 391 1709 391 \nQ 2188 391 2477 730 \nQ 2766 1069 2766 1631 \nL 2766 1759 \nL 2194 1759 \nz\nM 3341 1997 \nL 3341 0 \nL 2766 0 \nL 2766 531 \nQ 2569 213 2275 61 \nQ 1981 -91 1556 -91 \nQ 1019 -91 701 211 \nQ 384 513 384 1019 \nQ 384 1609 779 1909 \nQ 1175 2209 1959 2209 \nL 2766 2209 \nL 2766 2266 \nQ 2766 2663 2505 2880 \nQ 2244 3097 1772 3097 \nQ 1472 3097 1187 3025 \nQ 903 2953 641 2809 \nL 641 3341 \nQ 956 3463 1253 3523 \nQ 1550 3584 1831 3584 \nQ 2591 3584 2966 3190 \nQ 3341 2797 3341 1997 \nz\n\" transform=\"scale(0.015625)\"/>\n       <path id=\"DejaVuSans-69\" d=\"M 603 3500 \nL 1178 3500 \nL 1178 0 \nL 603 0 \nL 603 3500 \nz\nM 603 4863 \nL 1178 4863 \nL 1178 4134 \nL 603 4134 \nL 603 4863 \nz\n\" transform=\"scale(0.015625)\"/>\n       <path id=\"DejaVuSans-6e\" d=\"M 3513 2113 \nL 3513 0 \nL 2938 0 \nL 2938 2094 \nQ 2938 2591 2744 2837 \nQ 2550 3084 2163 3084 \nQ 1697 3084 1428 2787 \nQ 1159 2491 1159 1978 \nL 1159 0 \nL 581 0 \nL 581 3500 \nL 1159 3500 \nL 1159 2956 \nQ 1366 3272 1645 3428 \nQ 1925 3584 2291 3584 \nQ 2894 3584 3203 3211 \nQ 3513 2838 3513 2113 \nz\n\" transform=\"scale(0.015625)\"/>\n       <path id=\"DejaVuSans-5f\" d=\"M 3263 -1063 \nL 3263 -1509 \nL -63 -1509 \nL -63 -1063 \nL 3263 -1063 \nz\n\" transform=\"scale(0.015625)\"/>\n       <path id=\"DejaVuSans-6c\" d=\"M 603 4863 \nL 1178 4863 \nL 1178 0 \nL 603 0 \nL 603 4863 \nz\n\" transform=\"scale(0.015625)\"/>\n       <path id=\"DejaVuSans-73\" d=\"M 2834 3397 \nL 2834 2853 \nQ 2591 2978 2328 3040 \nQ 2066 3103 1784 3103 \nQ 1356 3103 1142 2972 \nQ 928 2841 928 2578 \nQ 928 2378 1081 2264 \nQ 1234 2150 1697 2047 \nL 1894 2003 \nQ 2506 1872 2764 1633 \nQ 3022 1394 3022 966 \nQ 3022 478 2636 193 \nQ 2250 -91 1575 -91 \nQ 1294 -91 989 -36 \nQ 684 19 347 128 \nL 347 722 \nQ 666 556 975 473 \nQ 1284 391 1588 391 \nQ 1994 391 2212 530 \nQ 2431 669 2431 922 \nQ 2431 1156 2273 1281 \nQ 2116 1406 1581 1522 \nL 1381 1569 \nQ 847 1681 609 1914 \nQ 372 2147 372 2553 \nQ 372 3047 722 3315 \nQ 1072 3584 1716 3584 \nQ 2034 3584 2315 3537 \nQ 2597 3491 2834 3397 \nz\n\" transform=\"scale(0.015625)\"/>\n      </defs>\n      <use xlink:href=\"#DejaVuSans-74\"/>\n      <use xlink:href=\"#DejaVuSans-72\" x=\"39.208984\"/>\n      <use xlink:href=\"#DejaVuSans-61\" x=\"80.322266\"/>\n      <use xlink:href=\"#DejaVuSans-69\" x=\"141.601562\"/>\n      <use xlink:href=\"#DejaVuSans-6e\" x=\"169.384766\"/>\n      <use xlink:href=\"#DejaVuSans-5f\" x=\"232.763672\"/>\n      <use xlink:href=\"#DejaVuSans-6c\" x=\"282.763672\"/>\n      <use xlink:href=\"#DejaVuSans-6f\" x=\"310.546875\"/>\n      <use xlink:href=\"#DejaVuSans-73\" x=\"371.728516\"/>\n      <use xlink:href=\"#DejaVuSans-73\" x=\"423.828125\"/>\n     </g>\n    </g>\n    <g id=\"line2d_128\">\n     <path d=\"M 140.8125 35.254688 \nL 150.8125 35.254688 \nL 160.8125 35.254688 \n\" style=\"fill: none; stroke-dasharray: 5.55,2.4; stroke-dashoffset: 0; stroke: #ff7f0e; stroke-width: 1.5\"/>\n    </g>\n    <g id=\"text_13\">\n     <!-- val_loss -->\n     <g transform=\"translate(168.8125 38.754688) scale(0.1 -0.1)\">\n      <defs>\n       <path id=\"DejaVuSans-76\" d=\"M 191 3500 \nL 800 3500 \nL 1894 563 \nL 2988 3500 \nL 3597 3500 \nL 2284 0 \nL 1503 0 \nL 191 3500 \nz\n\" transform=\"scale(0.015625)\"/>\n      </defs>\n      <use xlink:href=\"#DejaVuSans-76\"/>\n      <use xlink:href=\"#DejaVuSans-61\" x=\"59.179688\"/>\n      <use xlink:href=\"#DejaVuSans-6c\" x=\"120.458984\"/>\n      <use xlink:href=\"#DejaVuSans-5f\" x=\"148.242188\"/>\n      <use xlink:href=\"#DejaVuSans-6c\" x=\"198.242188\"/>\n      <use xlink:href=\"#DejaVuSans-6f\" x=\"226.025391\"/>\n      <use xlink:href=\"#DejaVuSans-73\" x=\"287.207031\"/>\n      <use xlink:href=\"#DejaVuSans-73\" x=\"339.306641\"/>\n     </g>\n    </g>\n    <g id=\"line2d_129\">\n     <path d=\"M 140.8125 50.210938 \nL 150.8125 50.210938 \nL 160.8125 50.210938 \n\" style=\"fill: none; stroke-dasharray: 9.6,2.4,1.5,2.4; stroke-dashoffset: 0; stroke: #2ca02c; stroke-width: 1.5\"/>\n    </g>\n    <g id=\"text_14\">\n     <!-- val_acc -->\n     <g transform=\"translate(168.8125 53.710938) scale(0.1 -0.1)\">\n      <use xlink:href=\"#DejaVuSans-76\"/>\n      <use xlink:href=\"#DejaVuSans-61\" x=\"59.179688\"/>\n      <use xlink:href=\"#DejaVuSans-6c\" x=\"120.458984\"/>\n      <use xlink:href=\"#DejaVuSans-5f\" x=\"148.242188\"/>\n      <use xlink:href=\"#DejaVuSans-61\" x=\"198.242188\"/>\n      <use xlink:href=\"#DejaVuSans-63\" x=\"259.521484\"/>\n      <use xlink:href=\"#DejaVuSans-63\" x=\"314.501953\"/>\n     </g>\n    </g>\n   </g>\n  </g>\n </g>\n <defs>\n  <clipPath id=\"p3a4cbee22d\">\n   <rect x=\"30.103125\" y=\"7.2\" width=\"195.3\" height=\"138.6\"/>\n  </clipPath>\n </defs>\n</svg>\n"
          },
          "metadata": {}
        }
      ],
      "source": [
        "model = AlexNet(lr=0.01)\n",
        "data = d2l.FashionMNIST(batch_size=128, resize=(224, 224))\n",
        "trainer = d2l.Trainer(max_epochs=10, num_gpus=1)\n",
        "trainer.fit(model, data)"
      ]
    },
    {
      "cell_type": "markdown",
      "id": "f9c33357",
      "metadata": {
        "id": "f9c33357"
      },
      "source": [
        "## Exercises\n",
        "\n",
        "1. Following up on the discussion above, analyze the computational properties of AlexNet.\n",
        "    1. Compute the memory footprint for convolutions and fully connected layers, respectively. Which one dominates?\n",
        "    1. Calculate the computational cost for the convolutions and the fully connected layers.\n",
        "    1. How does the memory (read and write bandwidth, latency, size) affect computation? Is there any difference in its effects for training and inference?\n",
        "1. You are a chip designer and need to trade off computation and memory bandwidth. For example, a faster chip requires more power and possibly a larger chip area. More memory bandwidth requires more pins and control logic, thus also more area. How do you optimize?\n",
        "1. Why do engineers no longer report performance benchmarks on AlexNet?\n",
        "1. Try increasing the number of epochs when training AlexNet. Compared with LeNet, how do the results differ? Why?\n",
        "1. AlexNet may be too complex for the Fashion-MNIST dataset, in particular due to the low resolution of the initial images.\n",
        "    1. Try simplifying the model to make the training faster, while ensuring that the accuracy does not drop significantly.\n",
        "    1. Design a better model that works directly on $28 \\times 28$ images.\n",
        "1. Modify the batch size, and observe the changes in throughput (images/s), accuracy, and GPU memory.\n",
        "1. Apply dropout and ReLU to LeNet-5. Does it improve? Can you improve things further by preprocessing to take advantage of the invariances inherent in the images?\n",
        "1. Can you make AlexNet overfit? Which feature do you need to remove or change to break training?\n"
      ]
    },
    {
      "cell_type": "markdown",
      "id": "3e825ff7",
      "metadata": {
        "id": "3e825ff7"
      },
      "source": [
        "[Discussions](https://discuss.d2l.ai/t/76)\n"
      ]
    },
    {
      "cell_type": "markdown",
      "id": "HVvKX4XfU2xS",
      "metadata": {
        "id": "HVvKX4XfU2xS"
      },
      "source": [
        "# 8.2 Networks Using Blocks (VGG)"
      ]
    },
    {
      "cell_type": "code",
      "execution_count": 6,
      "id": "7goUlca2Y6M9",
      "metadata": {
        "id": "7goUlca2Y6M9"
      },
      "outputs": [],
      "source": [
        "import torch\n",
        "from torch import nn\n",
        "from torch.nn import functional as F\n",
        "from d2l import torch as d2l"
      ]
    },
    {
      "cell_type": "markdown",
      "id": "4qRalP0EVH85",
      "metadata": {
        "id": "4qRalP0EVH85"
      },
      "source": [
        "## (**VGG Blocks**)"
      ]
    },
    {
      "cell_type": "code",
      "execution_count": 7,
      "id": "7a35971a",
      "metadata": {
        "id": "7a35971a"
      },
      "outputs": [],
      "source": [
        "def vgg_block(num_convs, out_channels):\n",
        "    layers = []\n",
        "    for _ in range(num_convs):\n",
        "        layers.append(nn.LazyConv2d(out_channels, kernel_size=3, padding=1))\n",
        "        layers.append(nn.ReLU())\n",
        "    layers.append(nn.MaxPool2d(kernel_size=2,stride=2))\n",
        "    return nn.Sequential(*layers)"
      ]
    },
    {
      "cell_type": "markdown",
      "id": "vR0-H6IaYWbA",
      "metadata": {
        "id": "vR0-H6IaYWbA"
      },
      "source": [
        "## [**VGG Network**]"
      ]
    },
    {
      "cell_type": "code",
      "execution_count": 8,
      "id": "35ed8ba4",
      "metadata": {
        "id": "35ed8ba4"
      },
      "outputs": [],
      "source": [
        "class VGG(d2l.Classifier):\n",
        "    def __init__(self, arch, lr=0.1, num_classes=10):\n",
        "        super().__init__()\n",
        "        self.save_hyperparameters()\n",
        "        conv_blks = []\n",
        "        for (num_convs, out_channels) in arch:\n",
        "            conv_blks.append(vgg_block(num_convs, out_channels))\n",
        "        self.net = nn.Sequential(\n",
        "            *conv_blks, nn.Flatten(),\n",
        "            nn.LazyLinear(4096), nn.ReLU(), nn.Dropout(0.5),\n",
        "            nn.LazyLinear(4096), nn.ReLU(), nn.Dropout(0.5),\n",
        "            nn.LazyLinear(num_classes))\n",
        "        self.net.apply(d2l.init_cnn)"
      ]
    },
    {
      "cell_type": "code",
      "execution_count": 9,
      "id": "fc110465",
      "metadata": {
        "colab": {
          "base_uri": "https://localhost:8080/"
        },
        "id": "fc110465",
        "outputId": "2962a857-d9e7-4144-b942-b2cc4ed50595"
      },
      "outputs": [
        {
          "output_type": "stream",
          "name": "stdout",
          "text": [
            "Sequential output shape:\t torch.Size([1, 64, 112, 112])\n",
            "Sequential output shape:\t torch.Size([1, 128, 56, 56])\n",
            "Sequential output shape:\t torch.Size([1, 256, 28, 28])\n",
            "Sequential output shape:\t torch.Size([1, 512, 14, 14])\n",
            "Sequential output shape:\t torch.Size([1, 512, 7, 7])\n",
            "Flatten output shape:\t torch.Size([1, 25088])\n",
            "Linear output shape:\t torch.Size([1, 4096])\n",
            "ReLU output shape:\t torch.Size([1, 4096])\n",
            "Dropout output shape:\t torch.Size([1, 4096])\n",
            "Linear output shape:\t torch.Size([1, 4096])\n",
            "ReLU output shape:\t torch.Size([1, 4096])\n",
            "Dropout output shape:\t torch.Size([1, 4096])\n",
            "Linear output shape:\t torch.Size([1, 10])\n"
          ]
        }
      ],
      "source": [
        "VGG(arch=((1, 64), (1, 128), (2, 256), (2, 512), (2, 512))).layer_summary(\n",
        "    (1, 1, 224, 224))"
      ]
    },
    {
      "cell_type": "markdown",
      "id": "UzULkUO3XbYW",
      "metadata": {
        "id": "UzULkUO3XbYW"
      },
      "source": [
        "## Training"
      ]
    },
    {
      "cell_type": "code",
      "execution_count": 10,
      "id": "ed532028",
      "metadata": {
        "colab": {
          "base_uri": "https://localhost:8080/",
          "height": 265
        },
        "id": "ed532028",
        "outputId": "5305390a-84df-4341-e859-fc735614a242"
      },
      "outputs": [
        {
          "output_type": "display_data",
          "data": {
            "text/plain": [
              "<Figure size 350x250 with 1 Axes>"
            ],
            "image/svg+xml": "<?xml version=\"1.0\" encoding=\"utf-8\" standalone=\"no\"?>\n<!DOCTYPE svg PUBLIC \"-//W3C//DTD SVG 1.1//EN\"\n  \"http://www.w3.org/Graphics/SVG/1.1/DTD/svg11.dtd\">\n<svg xmlns:xlink=\"http://www.w3.org/1999/xlink\" width=\"238.965625pt\" height=\"183.35625pt\" viewBox=\"0 0 238.965625 183.35625\" xmlns=\"http://www.w3.org/2000/svg\" version=\"1.1\">\n <metadata>\n  <rdf:RDF xmlns:dc=\"http://purl.org/dc/elements/1.1/\" xmlns:cc=\"http://creativecommons.org/ns#\" xmlns:rdf=\"http://www.w3.org/1999/02/22-rdf-syntax-ns#\">\n   <cc:Work>\n    <dc:type rdf:resource=\"http://purl.org/dc/dcmitype/StillImage\"/>\n    <dc:date>2024-10-05T14:13:26.408137</dc:date>\n    <dc:format>image/svg+xml</dc:format>\n    <dc:creator>\n     <cc:Agent>\n      <dc:title>Matplotlib v3.7.2, https://matplotlib.org/</dc:title>\n     </cc:Agent>\n    </dc:creator>\n   </cc:Work>\n  </rdf:RDF>\n </metadata>\n <defs>\n  <style type=\"text/css\">*{stroke-linejoin: round; stroke-linecap: butt}</style>\n </defs>\n <g id=\"figure_1\">\n  <g id=\"patch_1\">\n   <path d=\"M 0 183.35625 \nL 238.965625 183.35625 \nL 238.965625 0 \nL 0 0 \nz\n\" style=\"fill: #ffffff\"/>\n  </g>\n  <g id=\"axes_1\">\n   <g id=\"patch_2\">\n    <path d=\"M 30.103125 145.8 \nL 225.403125 145.8 \nL 225.403125 7.2 \nL 30.103125 7.2 \nz\n\" style=\"fill: #ffffff\"/>\n   </g>\n   <g id=\"matplotlib.axis_1\">\n    <g id=\"xtick_1\">\n     <g id=\"line2d_1\">\n      <defs>\n       <path id=\"mbfc9056011\" d=\"M 0 0 \nL 0 3.5 \n\" style=\"stroke: #000000; stroke-width: 0.8\"/>\n      </defs>\n      <g>\n       <use xlink:href=\"#mbfc9056011\" x=\"30.103125\" y=\"145.8\" style=\"stroke: #000000; stroke-width: 0.8\"/>\n      </g>\n     </g>\n     <g id=\"text_1\">\n      <!-- 0 -->\n      <g transform=\"translate(26.921875 160.398438) scale(0.1 -0.1)\">\n       <defs>\n        <path id=\"DejaVuSans-30\" d=\"M 2034 4250 \nQ 1547 4250 1301 3770 \nQ 1056 3291 1056 2328 \nQ 1056 1369 1301 889 \nQ 1547 409 2034 409 \nQ 2525 409 2770 889 \nQ 3016 1369 3016 2328 \nQ 3016 3291 2770 3770 \nQ 2525 4250 2034 4250 \nz\nM 2034 4750 \nQ 2819 4750 3233 4129 \nQ 3647 3509 3647 2328 \nQ 3647 1150 3233 529 \nQ 2819 -91 2034 -91 \nQ 1250 -91 836 529 \nQ 422 1150 422 2328 \nQ 422 3509 836 4129 \nQ 1250 4750 2034 4750 \nz\n\" transform=\"scale(0.015625)\"/>\n       </defs>\n       <use xlink:href=\"#DejaVuSans-30\"/>\n      </g>\n     </g>\n    </g>\n    <g id=\"xtick_2\">\n     <g id=\"line2d_2\">\n      <g>\n       <use xlink:href=\"#mbfc9056011\" x=\"69.163125\" y=\"145.8\" style=\"stroke: #000000; stroke-width: 0.8\"/>\n      </g>\n     </g>\n     <g id=\"text_2\">\n      <!-- 2 -->\n      <g transform=\"translate(65.981875 160.398438) scale(0.1 -0.1)\">\n       <defs>\n        <path id=\"DejaVuSans-32\" d=\"M 1228 531 \nL 3431 531 \nL 3431 0 \nL 469 0 \nL 469 531 \nQ 828 903 1448 1529 \nQ 2069 2156 2228 2338 \nQ 2531 2678 2651 2914 \nQ 2772 3150 2772 3378 \nQ 2772 3750 2511 3984 \nQ 2250 4219 1831 4219 \nQ 1534 4219 1204 4116 \nQ 875 4013 500 3803 \nL 500 4441 \nQ 881 4594 1212 4672 \nQ 1544 4750 1819 4750 \nQ 2544 4750 2975 4387 \nQ 3406 4025 3406 3419 \nQ 3406 3131 3298 2873 \nQ 3191 2616 2906 2266 \nQ 2828 2175 2409 1742 \nQ 1991 1309 1228 531 \nz\n\" transform=\"scale(0.015625)\"/>\n       </defs>\n       <use xlink:href=\"#DejaVuSans-32\"/>\n      </g>\n     </g>\n    </g>\n    <g id=\"xtick_3\">\n     <g id=\"line2d_3\">\n      <g>\n       <use xlink:href=\"#mbfc9056011\" x=\"108.223125\" y=\"145.8\" style=\"stroke: #000000; stroke-width: 0.8\"/>\n      </g>\n     </g>\n     <g id=\"text_3\">\n      <!-- 4 -->\n      <g transform=\"translate(105.041875 160.398438) scale(0.1 -0.1)\">\n       <defs>\n        <path id=\"DejaVuSans-34\" d=\"M 2419 4116 \nL 825 1625 \nL 2419 1625 \nL 2419 4116 \nz\nM 2253 4666 \nL 3047 4666 \nL 3047 1625 \nL 3713 1625 \nL 3713 1100 \nL 3047 1100 \nL 3047 0 \nL 2419 0 \nL 2419 1100 \nL 313 1100 \nL 313 1709 \nL 2253 4666 \nz\n\" transform=\"scale(0.015625)\"/>\n       </defs>\n       <use xlink:href=\"#DejaVuSans-34\"/>\n      </g>\n     </g>\n    </g>\n    <g id=\"xtick_4\">\n     <g id=\"line2d_4\">\n      <g>\n       <use xlink:href=\"#mbfc9056011\" x=\"147.283125\" y=\"145.8\" style=\"stroke: #000000; stroke-width: 0.8\"/>\n      </g>\n     </g>\n     <g id=\"text_4\">\n      <!-- 6 -->\n      <g transform=\"translate(144.101875 160.398438) scale(0.1 -0.1)\">\n       <defs>\n        <path id=\"DejaVuSans-36\" d=\"M 2113 2584 \nQ 1688 2584 1439 2293 \nQ 1191 2003 1191 1497 \nQ 1191 994 1439 701 \nQ 1688 409 2113 409 \nQ 2538 409 2786 701 \nQ 3034 994 3034 1497 \nQ 3034 2003 2786 2293 \nQ 2538 2584 2113 2584 \nz\nM 3366 4563 \nL 3366 3988 \nQ 3128 4100 2886 4159 \nQ 2644 4219 2406 4219 \nQ 1781 4219 1451 3797 \nQ 1122 3375 1075 2522 \nQ 1259 2794 1537 2939 \nQ 1816 3084 2150 3084 \nQ 2853 3084 3261 2657 \nQ 3669 2231 3669 1497 \nQ 3669 778 3244 343 \nQ 2819 -91 2113 -91 \nQ 1303 -91 875 529 \nQ 447 1150 447 2328 \nQ 447 3434 972 4092 \nQ 1497 4750 2381 4750 \nQ 2619 4750 2861 4703 \nQ 3103 4656 3366 4563 \nz\n\" transform=\"scale(0.015625)\"/>\n       </defs>\n       <use xlink:href=\"#DejaVuSans-36\"/>\n      </g>\n     </g>\n    </g>\n    <g id=\"xtick_5\">\n     <g id=\"line2d_5\">\n      <g>\n       <use xlink:href=\"#mbfc9056011\" x=\"186.343125\" y=\"145.8\" style=\"stroke: #000000; stroke-width: 0.8\"/>\n      </g>\n     </g>\n     <g id=\"text_5\">\n      <!-- 8 -->\n      <g transform=\"translate(183.161875 160.398438) scale(0.1 -0.1)\">\n       <defs>\n        <path id=\"DejaVuSans-38\" d=\"M 2034 2216 \nQ 1584 2216 1326 1975 \nQ 1069 1734 1069 1313 \nQ 1069 891 1326 650 \nQ 1584 409 2034 409 \nQ 2484 409 2743 651 \nQ 3003 894 3003 1313 \nQ 3003 1734 2745 1975 \nQ 2488 2216 2034 2216 \nz\nM 1403 2484 \nQ 997 2584 770 2862 \nQ 544 3141 544 3541 \nQ 544 4100 942 4425 \nQ 1341 4750 2034 4750 \nQ 2731 4750 3128 4425 \nQ 3525 4100 3525 3541 \nQ 3525 3141 3298 2862 \nQ 3072 2584 2669 2484 \nQ 3125 2378 3379 2068 \nQ 3634 1759 3634 1313 \nQ 3634 634 3220 271 \nQ 2806 -91 2034 -91 \nQ 1263 -91 848 271 \nQ 434 634 434 1313 \nQ 434 1759 690 2068 \nQ 947 2378 1403 2484 \nz\nM 1172 3481 \nQ 1172 3119 1398 2916 \nQ 1625 2713 2034 2713 \nQ 2441 2713 2670 2916 \nQ 2900 3119 2900 3481 \nQ 2900 3844 2670 4047 \nQ 2441 4250 2034 4250 \nQ 1625 4250 1398 4047 \nQ 1172 3844 1172 3481 \nz\n\" transform=\"scale(0.015625)\"/>\n       </defs>\n       <use xlink:href=\"#DejaVuSans-38\"/>\n      </g>\n     </g>\n    </g>\n    <g id=\"xtick_6\">\n     <g id=\"line2d_6\">\n      <g>\n       <use xlink:href=\"#mbfc9056011\" x=\"225.403125\" y=\"145.8\" style=\"stroke: #000000; stroke-width: 0.8\"/>\n      </g>\n     </g>\n     <g id=\"text_6\">\n      <!-- 10 -->\n      <g transform=\"translate(219.040625 160.398438) scale(0.1 -0.1)\">\n       <defs>\n        <path id=\"DejaVuSans-31\" d=\"M 794 531 \nL 1825 531 \nL 1825 4091 \nL 703 3866 \nL 703 4441 \nL 1819 4666 \nL 2450 4666 \nL 2450 531 \nL 3481 531 \nL 3481 0 \nL 794 0 \nL 794 531 \nz\n\" transform=\"scale(0.015625)\"/>\n       </defs>\n       <use xlink:href=\"#DejaVuSans-31\"/>\n       <use xlink:href=\"#DejaVuSans-30\" x=\"63.623047\"/>\n      </g>\n     </g>\n    </g>\n    <g id=\"text_7\">\n     <!-- epoch -->\n     <g transform=\"translate(112.525 174.076563) scale(0.1 -0.1)\">\n      <defs>\n       <path id=\"DejaVuSans-65\" d=\"M 3597 1894 \nL 3597 1613 \nL 953 1613 \nQ 991 1019 1311 708 \nQ 1631 397 2203 397 \nQ 2534 397 2845 478 \nQ 3156 559 3463 722 \nL 3463 178 \nQ 3153 47 2828 -22 \nQ 2503 -91 2169 -91 \nQ 1331 -91 842 396 \nQ 353 884 353 1716 \nQ 353 2575 817 3079 \nQ 1281 3584 2069 3584 \nQ 2775 3584 3186 3129 \nQ 3597 2675 3597 1894 \nz\nM 3022 2063 \nQ 3016 2534 2758 2815 \nQ 2500 3097 2075 3097 \nQ 1594 3097 1305 2825 \nQ 1016 2553 972 2059 \nL 3022 2063 \nz\n\" transform=\"scale(0.015625)\"/>\n       <path id=\"DejaVuSans-70\" d=\"M 1159 525 \nL 1159 -1331 \nL 581 -1331 \nL 581 3500 \nL 1159 3500 \nL 1159 2969 \nQ 1341 3281 1617 3432 \nQ 1894 3584 2278 3584 \nQ 2916 3584 3314 3078 \nQ 3713 2572 3713 1747 \nQ 3713 922 3314 415 \nQ 2916 -91 2278 -91 \nQ 1894 -91 1617 61 \nQ 1341 213 1159 525 \nz\nM 3116 1747 \nQ 3116 2381 2855 2742 \nQ 2594 3103 2138 3103 \nQ 1681 3103 1420 2742 \nQ 1159 2381 1159 1747 \nQ 1159 1113 1420 752 \nQ 1681 391 2138 391 \nQ 2594 391 2855 752 \nQ 3116 1113 3116 1747 \nz\n\" transform=\"scale(0.015625)\"/>\n       <path id=\"DejaVuSans-6f\" d=\"M 1959 3097 \nQ 1497 3097 1228 2736 \nQ 959 2375 959 1747 \nQ 959 1119 1226 758 \nQ 1494 397 1959 397 \nQ 2419 397 2687 759 \nQ 2956 1122 2956 1747 \nQ 2956 2369 2687 2733 \nQ 2419 3097 1959 3097 \nz\nM 1959 3584 \nQ 2709 3584 3137 3096 \nQ 3566 2609 3566 1747 \nQ 3566 888 3137 398 \nQ 2709 -91 1959 -91 \nQ 1206 -91 779 398 \nQ 353 888 353 1747 \nQ 353 2609 779 3096 \nQ 1206 3584 1959 3584 \nz\n\" transform=\"scale(0.015625)\"/>\n       <path id=\"DejaVuSans-63\" d=\"M 3122 3366 \nL 3122 2828 \nQ 2878 2963 2633 3030 \nQ 2388 3097 2138 3097 \nQ 1578 3097 1268 2742 \nQ 959 2388 959 1747 \nQ 959 1106 1268 751 \nQ 1578 397 2138 397 \nQ 2388 397 2633 464 \nQ 2878 531 3122 666 \nL 3122 134 \nQ 2881 22 2623 -34 \nQ 2366 -91 2075 -91 \nQ 1284 -91 818 406 \nQ 353 903 353 1747 \nQ 353 2603 823 3093 \nQ 1294 3584 2113 3584 \nQ 2378 3584 2631 3529 \nQ 2884 3475 3122 3366 \nz\n\" transform=\"scale(0.015625)\"/>\n       <path id=\"DejaVuSans-68\" d=\"M 3513 2113 \nL 3513 0 \nL 2938 0 \nL 2938 2094 \nQ 2938 2591 2744 2837 \nQ 2550 3084 2163 3084 \nQ 1697 3084 1428 2787 \nQ 1159 2491 1159 1978 \nL 1159 0 \nL 581 0 \nL 581 4863 \nL 1159 4863 \nL 1159 2956 \nQ 1366 3272 1645 3428 \nQ 1925 3584 2291 3584 \nQ 2894 3584 3203 3211 \nQ 3513 2838 3513 2113 \nz\n\" transform=\"scale(0.015625)\"/>\n      </defs>\n      <use xlink:href=\"#DejaVuSans-65\"/>\n      <use xlink:href=\"#DejaVuSans-70\" x=\"61.523438\"/>\n      <use xlink:href=\"#DejaVuSans-6f\" x=\"125\"/>\n      <use xlink:href=\"#DejaVuSans-63\" x=\"186.181641\"/>\n      <use xlink:href=\"#DejaVuSans-68\" x=\"241.162109\"/>\n     </g>\n    </g>\n   </g>\n   <g id=\"matplotlib.axis_2\">\n    <g id=\"ytick_1\">\n     <g id=\"line2d_7\">\n      <defs>\n       <path id=\"m67157b00d1\" d=\"M 0 0 \nL -3.5 0 \n\" style=\"stroke: #000000; stroke-width: 0.8\"/>\n      </defs>\n      <g>\n       <use xlink:href=\"#m67157b00d1\" x=\"30.103125\" y=\"126.723726\" style=\"stroke: #000000; stroke-width: 0.8\"/>\n      </g>\n     </g>\n     <g id=\"text_8\">\n      <!-- 0.5 -->\n      <g transform=\"translate(7.2 130.522945) scale(0.1 -0.1)\">\n       <defs>\n        <path id=\"DejaVuSans-2e\" d=\"M 684 794 \nL 1344 794 \nL 1344 0 \nL 684 0 \nL 684 794 \nz\n\" transform=\"scale(0.015625)\"/>\n        <path id=\"DejaVuSans-35\" d=\"M 691 4666 \nL 3169 4666 \nL 3169 4134 \nL 1269 4134 \nL 1269 2991 \nQ 1406 3038 1543 3061 \nQ 1681 3084 1819 3084 \nQ 2600 3084 3056 2656 \nQ 3513 2228 3513 1497 \nQ 3513 744 3044 326 \nQ 2575 -91 1722 -91 \nQ 1428 -91 1123 -41 \nQ 819 9 494 109 \nL 494 744 \nQ 775 591 1075 516 \nQ 1375 441 1709 441 \nQ 2250 441 2565 725 \nQ 2881 1009 2881 1497 \nQ 2881 1984 2565 2268 \nQ 2250 2553 1709 2553 \nQ 1456 2553 1204 2497 \nQ 953 2441 691 2322 \nL 691 4666 \nz\n\" transform=\"scale(0.015625)\"/>\n       </defs>\n       <use xlink:href=\"#DejaVuSans-30\"/>\n       <use xlink:href=\"#DejaVuSans-2e\" x=\"63.623047\"/>\n       <use xlink:href=\"#DejaVuSans-35\" x=\"95.410156\"/>\n      </g>\n     </g>\n    </g>\n    <g id=\"ytick_2\">\n     <g id=\"line2d_8\">\n      <g>\n       <use xlink:href=\"#m67157b00d1\" x=\"30.103125\" y=\"95.169962\" style=\"stroke: #000000; stroke-width: 0.8\"/>\n      </g>\n     </g>\n     <g id=\"text_9\">\n      <!-- 1.0 -->\n      <g transform=\"translate(7.2 98.969181) scale(0.1 -0.1)\">\n       <use xlink:href=\"#DejaVuSans-31\"/>\n       <use xlink:href=\"#DejaVuSans-2e\" x=\"63.623047\"/>\n       <use xlink:href=\"#DejaVuSans-30\" x=\"95.410156\"/>\n      </g>\n     </g>\n    </g>\n    <g id=\"ytick_3\">\n     <g id=\"line2d_9\">\n      <g>\n       <use xlink:href=\"#m67157b00d1\" x=\"30.103125\" y=\"63.616199\" style=\"stroke: #000000; stroke-width: 0.8\"/>\n      </g>\n     </g>\n     <g id=\"text_10\">\n      <!-- 1.5 -->\n      <g transform=\"translate(7.2 67.415417) scale(0.1 -0.1)\">\n       <use xlink:href=\"#DejaVuSans-31\"/>\n       <use xlink:href=\"#DejaVuSans-2e\" x=\"63.623047\"/>\n       <use xlink:href=\"#DejaVuSans-35\" x=\"95.410156\"/>\n      </g>\n     </g>\n    </g>\n    <g id=\"ytick_4\">\n     <g id=\"line2d_10\">\n      <g>\n       <use xlink:href=\"#m67157b00d1\" x=\"30.103125\" y=\"32.062435\" style=\"stroke: #000000; stroke-width: 0.8\"/>\n      </g>\n     </g>\n     <g id=\"text_11\">\n      <!-- 2.0 -->\n      <g transform=\"translate(7.2 35.861654) scale(0.1 -0.1)\">\n       <use xlink:href=\"#DejaVuSans-32\"/>\n       <use xlink:href=\"#DejaVuSans-2e\" x=\"63.623047\"/>\n       <use xlink:href=\"#DejaVuSans-30\" x=\"95.410156\"/>\n      </g>\n     </g>\n    </g>\n   </g>\n   <g id=\"line2d_11\">\n    <path d=\"M 34.954394 13.5 \n\" clip-path=\"url(#p17309ea81b)\" style=\"fill: none; stroke: #1f77b4; stroke-width: 1.5; stroke-linecap: square\"/>\n   </g>\n   <g id=\"line2d_12\">\n    <path d=\"M 34.954394 13.5 \nL 44.698573 71.74407 \n\" clip-path=\"url(#p17309ea81b)\" style=\"fill: none; stroke: #1f77b4; stroke-width: 1.5; stroke-linecap: square\"/>\n   </g>\n   <g id=\"line2d_13\">\n    <path d=\"M 34.954394 13.5 \nL 44.698573 71.74407 \n\" clip-path=\"url(#p17309ea81b)\" style=\"fill: none; stroke: #1f77b4; stroke-width: 1.5; stroke-linecap: square\"/>\n   </g>\n   <g id=\"line2d_14\">\n    <path d=\"M 49.633125 112.034981 \n\" clip-path=\"url(#p17309ea81b)\" style=\"fill: none; stroke-dasharray: 5.55,2.4; stroke-dashoffset: 0; stroke: #ff7f0e; stroke-width: 1.5\"/>\n   </g>\n   <g id=\"line2d_15\"/>\n   <g id=\"line2d_16\">\n    <path d=\"M 34.954394 13.5 \nL 44.698573 71.74407 \n\" clip-path=\"url(#p17309ea81b)\" style=\"fill: none; stroke: #1f77b4; stroke-width: 1.5; stroke-linecap: square\"/>\n   </g>\n   <g id=\"line2d_17\">\n    <path d=\"M 49.633125 112.034981 \n\" clip-path=\"url(#p17309ea81b)\" style=\"fill: none; stroke-dasharray: 5.55,2.4; stroke-dashoffset: 0; stroke: #ff7f0e; stroke-width: 1.5\"/>\n   </g>\n   <g id=\"line2d_18\">\n    <path d=\"M 49.633125 113.193552 \n\" clip-path=\"url(#p17309ea81b)\" style=\"fill: none; stroke-dasharray: 9.6,2.4,1.5,2.4; stroke-dashoffset: 0; stroke: #2ca02c; stroke-width: 1.5\"/>\n   </g>\n   <g id=\"line2d_19\">\n    <path d=\"M 34.954394 13.5 \nL 44.698573 71.74407 \nL 54.442752 113.09885 \n\" clip-path=\"url(#p17309ea81b)\" style=\"fill: none; stroke: #1f77b4; stroke-width: 1.5; stroke-linecap: square\"/>\n   </g>\n   <g id=\"line2d_20\">\n    <path d=\"M 49.633125 112.034981 \n\" clip-path=\"url(#p17309ea81b)\" style=\"fill: none; stroke-dasharray: 5.55,2.4; stroke-dashoffset: 0; stroke: #ff7f0e; stroke-width: 1.5\"/>\n   </g>\n   <g id=\"line2d_21\">\n    <path d=\"M 49.633125 113.193552 \n\" clip-path=\"url(#p17309ea81b)\" style=\"fill: none; stroke-dasharray: 9.6,2.4,1.5,2.4; stroke-dashoffset: 0; stroke: #2ca02c; stroke-width: 1.5\"/>\n   </g>\n   <g id=\"line2d_22\">\n    <path d=\"M 34.954394 13.5 \nL 44.698573 71.74407 \nL 54.442752 113.09885 \nL 64.186931 120.978169 \n\" clip-path=\"url(#p17309ea81b)\" style=\"fill: none; stroke: #1f77b4; stroke-width: 1.5; stroke-linecap: square\"/>\n   </g>\n   <g id=\"line2d_23\">\n    <path d=\"M 49.633125 112.034981 \n\" clip-path=\"url(#p17309ea81b)\" style=\"fill: none; stroke-dasharray: 5.55,2.4; stroke-dashoffset: 0; stroke: #ff7f0e; stroke-width: 1.5\"/>\n   </g>\n   <g id=\"line2d_24\">\n    <path d=\"M 49.633125 113.193552 \n\" clip-path=\"url(#p17309ea81b)\" style=\"fill: none; stroke-dasharray: 9.6,2.4,1.5,2.4; stroke-dashoffset: 0; stroke: #2ca02c; stroke-width: 1.5\"/>\n   </g>\n   <g id=\"line2d_25\">\n    <path d=\"M 34.954394 13.5 \nL 44.698573 71.74407 \nL 54.442752 113.09885 \nL 64.186931 120.978169 \n\" clip-path=\"url(#p17309ea81b)\" style=\"fill: none; stroke: #1f77b4; stroke-width: 1.5; stroke-linecap: square\"/>\n   </g>\n   <g id=\"line2d_26\">\n    <path d=\"M 49.633125 112.034981 \nL 69.163125 126.513799 \n\" clip-path=\"url(#p17309ea81b)\" style=\"fill: none; stroke-dasharray: 5.55,2.4; stroke-dashoffset: 0; stroke: #ff7f0e; stroke-width: 1.5\"/>\n   </g>\n   <g id=\"line2d_27\">\n    <path d=\"M 49.633125 113.193552 \n\" clip-path=\"url(#p17309ea81b)\" style=\"fill: none; stroke-dasharray: 9.6,2.4,1.5,2.4; stroke-dashoffset: 0; stroke: #2ca02c; stroke-width: 1.5\"/>\n   </g>\n   <g id=\"line2d_28\">\n    <path d=\"M 34.954394 13.5 \nL 44.698573 71.74407 \nL 54.442752 113.09885 \nL 64.186931 120.978169 \n\" clip-path=\"url(#p17309ea81b)\" style=\"fill: none; stroke: #1f77b4; stroke-width: 1.5; stroke-linecap: square\"/>\n   </g>\n   <g id=\"line2d_29\">\n    <path d=\"M 49.633125 112.034981 \nL 69.163125 126.513799 \n\" clip-path=\"url(#p17309ea81b)\" style=\"fill: none; stroke-dasharray: 5.55,2.4; stroke-dashoffset: 0; stroke: #ff7f0e; stroke-width: 1.5\"/>\n   </g>\n   <g id=\"line2d_30\">\n    <path d=\"M 49.633125 113.193552 \nL 69.163125 106.859084 \n\" clip-path=\"url(#p17309ea81b)\" style=\"fill: none; stroke-dasharray: 9.6,2.4,1.5,2.4; stroke-dashoffset: 0; stroke: #2ca02c; stroke-width: 1.5\"/>\n   </g>\n   <g id=\"line2d_31\">\n    <path d=\"M 34.954394 13.5 \nL 44.698573 71.74407 \nL 54.442752 113.09885 \nL 64.186931 120.978169 \nL 73.93111 124.69579 \n\" clip-path=\"url(#p17309ea81b)\" style=\"fill: none; stroke: #1f77b4; stroke-width: 1.5; stroke-linecap: square\"/>\n   </g>\n   <g id=\"line2d_32\">\n    <path d=\"M 49.633125 112.034981 \nL 69.163125 126.513799 \n\" clip-path=\"url(#p17309ea81b)\" style=\"fill: none; stroke-dasharray: 5.55,2.4; stroke-dashoffset: 0; stroke: #ff7f0e; stroke-width: 1.5\"/>\n   </g>\n   <g id=\"line2d_33\">\n    <path d=\"M 49.633125 113.193552 \nL 69.163125 106.859084 \n\" clip-path=\"url(#p17309ea81b)\" style=\"fill: none; stroke-dasharray: 9.6,2.4,1.5,2.4; stroke-dashoffset: 0; stroke: #2ca02c; stroke-width: 1.5\"/>\n   </g>\n   <g id=\"line2d_34\">\n    <path d=\"M 34.954394 13.5 \nL 44.698573 71.74407 \nL 54.442752 113.09885 \nL 64.186931 120.978169 \nL 73.93111 124.69579 \nL 83.675289 127.885713 \n\" clip-path=\"url(#p17309ea81b)\" style=\"fill: none; stroke: #1f77b4; stroke-width: 1.5; stroke-linecap: square\"/>\n   </g>\n   <g id=\"line2d_35\">\n    <path d=\"M 49.633125 112.034981 \nL 69.163125 126.513799 \n\" clip-path=\"url(#p17309ea81b)\" style=\"fill: none; stroke-dasharray: 5.55,2.4; stroke-dashoffset: 0; stroke: #ff7f0e; stroke-width: 1.5\"/>\n   </g>\n   <g id=\"line2d_36\">\n    <path d=\"M 49.633125 113.193552 \nL 69.163125 106.859084 \n\" clip-path=\"url(#p17309ea81b)\" style=\"fill: none; stroke-dasharray: 9.6,2.4,1.5,2.4; stroke-dashoffset: 0; stroke: #2ca02c; stroke-width: 1.5\"/>\n   </g>\n   <g id=\"line2d_37\">\n    <path d=\"M 34.954394 13.5 \nL 44.698573 71.74407 \nL 54.442752 113.09885 \nL 64.186931 120.978169 \nL 73.93111 124.69579 \nL 83.675289 127.885713 \n\" clip-path=\"url(#p17309ea81b)\" style=\"fill: none; stroke: #1f77b4; stroke-width: 1.5; stroke-linecap: square\"/>\n   </g>\n   <g id=\"line2d_38\">\n    <path d=\"M 49.633125 112.034981 \nL 69.163125 126.513799 \nL 88.693125 131.409572 \n\" clip-path=\"url(#p17309ea81b)\" style=\"fill: none; stroke-dasharray: 5.55,2.4; stroke-dashoffset: 0; stroke: #ff7f0e; stroke-width: 1.5\"/>\n   </g>\n   <g id=\"line2d_39\">\n    <path d=\"M 49.633125 113.193552 \nL 69.163125 106.859084 \n\" clip-path=\"url(#p17309ea81b)\" style=\"fill: none; stroke-dasharray: 9.6,2.4,1.5,2.4; stroke-dashoffset: 0; stroke: #2ca02c; stroke-width: 1.5\"/>\n   </g>\n   <g id=\"line2d_40\">\n    <path d=\"M 34.954394 13.5 \nL 44.698573 71.74407 \nL 54.442752 113.09885 \nL 64.186931 120.978169 \nL 73.93111 124.69579 \nL 83.675289 127.885713 \n\" clip-path=\"url(#p17309ea81b)\" style=\"fill: none; stroke: #1f77b4; stroke-width: 1.5; stroke-linecap: square\"/>\n   </g>\n   <g id=\"line2d_41\">\n    <path d=\"M 49.633125 112.034981 \nL 69.163125 126.513799 \nL 88.693125 131.409572 \n\" clip-path=\"url(#p17309ea81b)\" style=\"fill: none; stroke-dasharray: 5.55,2.4; stroke-dashoffset: 0; stroke: #ff7f0e; stroke-width: 1.5\"/>\n   </g>\n   <g id=\"line2d_42\">\n    <path d=\"M 49.633125 113.193552 \nL 69.163125 106.859084 \nL 88.693125 104.880733 \n\" clip-path=\"url(#p17309ea81b)\" style=\"fill: none; stroke-dasharray: 9.6,2.4,1.5,2.4; stroke-dashoffset: 0; stroke: #2ca02c; stroke-width: 1.5\"/>\n   </g>\n   <g id=\"line2d_43\">\n    <path d=\"M 34.954394 13.5 \nL 44.698573 71.74407 \nL 54.442752 113.09885 \nL 64.186931 120.978169 \nL 73.93111 124.69579 \nL 83.675289 127.885713 \nL 93.419468 129.950529 \n\" clip-path=\"url(#p17309ea81b)\" style=\"fill: none; stroke: #1f77b4; stroke-width: 1.5; stroke-linecap: square\"/>\n   </g>\n   <g id=\"line2d_44\">\n    <path d=\"M 49.633125 112.034981 \nL 69.163125 126.513799 \nL 88.693125 131.409572 \n\" clip-path=\"url(#p17309ea81b)\" style=\"fill: none; stroke-dasharray: 5.55,2.4; stroke-dashoffset: 0; stroke: #ff7f0e; stroke-width: 1.5\"/>\n   </g>\n   <g id=\"line2d_45\">\n    <path d=\"M 49.633125 113.193552 \nL 69.163125 106.859084 \nL 88.693125 104.880733 \n\" clip-path=\"url(#p17309ea81b)\" style=\"fill: none; stroke-dasharray: 9.6,2.4,1.5,2.4; stroke-dashoffset: 0; stroke: #2ca02c; stroke-width: 1.5\"/>\n   </g>\n   <g id=\"line2d_46\">\n    <path d=\"M 34.954394 13.5 \nL 44.698573 71.74407 \nL 54.442752 113.09885 \nL 64.186931 120.978169 \nL 73.93111 124.69579 \nL 83.675289 127.885713 \nL 93.419468 129.950529 \nL 103.163647 131.225688 \n\" clip-path=\"url(#p17309ea81b)\" style=\"fill: none; stroke: #1f77b4; stroke-width: 1.5; stroke-linecap: square\"/>\n   </g>\n   <g id=\"line2d_47\">\n    <path d=\"M 49.633125 112.034981 \nL 69.163125 126.513799 \nL 88.693125 131.409572 \n\" clip-path=\"url(#p17309ea81b)\" style=\"fill: none; stroke-dasharray: 5.55,2.4; stroke-dashoffset: 0; stroke: #ff7f0e; stroke-width: 1.5\"/>\n   </g>\n   <g id=\"line2d_48\">\n    <path d=\"M 49.633125 113.193552 \nL 69.163125 106.859084 \nL 88.693125 104.880733 \n\" clip-path=\"url(#p17309ea81b)\" style=\"fill: none; stroke-dasharray: 9.6,2.4,1.5,2.4; stroke-dashoffset: 0; stroke: #2ca02c; stroke-width: 1.5\"/>\n   </g>\n   <g id=\"line2d_49\">\n    <path d=\"M 34.954394 13.5 \nL 44.698573 71.74407 \nL 54.442752 113.09885 \nL 64.186931 120.978169 \nL 73.93111 124.69579 \nL 83.675289 127.885713 \nL 93.419468 129.950529 \nL 103.163647 131.225688 \n\" clip-path=\"url(#p17309ea81b)\" style=\"fill: none; stroke: #1f77b4; stroke-width: 1.5; stroke-linecap: square\"/>\n   </g>\n   <g id=\"line2d_50\">\n    <path d=\"M 49.633125 112.034981 \nL 69.163125 126.513799 \nL 88.693125 131.409572 \nL 108.223125 133.609605 \n\" clip-path=\"url(#p17309ea81b)\" style=\"fill: none; stroke-dasharray: 5.55,2.4; stroke-dashoffset: 0; stroke: #ff7f0e; stroke-width: 1.5\"/>\n   </g>\n   <g id=\"line2d_51\">\n    <path d=\"M 49.633125 113.193552 \nL 69.163125 106.859084 \nL 88.693125 104.880733 \n\" clip-path=\"url(#p17309ea81b)\" style=\"fill: none; stroke-dasharray: 9.6,2.4,1.5,2.4; stroke-dashoffset: 0; stroke: #2ca02c; stroke-width: 1.5\"/>\n   </g>\n   <g id=\"line2d_52\">\n    <path d=\"M 34.954394 13.5 \nL 44.698573 71.74407 \nL 54.442752 113.09885 \nL 64.186931 120.978169 \nL 73.93111 124.69579 \nL 83.675289 127.885713 \nL 93.419468 129.950529 \nL 103.163647 131.225688 \n\" clip-path=\"url(#p17309ea81b)\" style=\"fill: none; stroke: #1f77b4; stroke-width: 1.5; stroke-linecap: square\"/>\n   </g>\n   <g id=\"line2d_53\">\n    <path d=\"M 49.633125 112.034981 \nL 69.163125 126.513799 \nL 88.693125 131.409572 \nL 108.223125 133.609605 \n\" clip-path=\"url(#p17309ea81b)\" style=\"fill: none; stroke-dasharray: 5.55,2.4; stroke-dashoffset: 0; stroke: #ff7f0e; stroke-width: 1.5\"/>\n   </g>\n   <g id=\"line2d_54\">\n    <path d=\"M 49.633125 113.193552 \nL 69.163125 106.859084 \nL 88.693125 104.880733 \nL 108.223125 104.325297 \n\" clip-path=\"url(#p17309ea81b)\" style=\"fill: none; stroke-dasharray: 9.6,2.4,1.5,2.4; stroke-dashoffset: 0; stroke: #2ca02c; stroke-width: 1.5\"/>\n   </g>\n   <g id=\"line2d_55\">\n    <path d=\"M 34.954394 13.5 \nL 44.698573 71.74407 \nL 54.442752 113.09885 \nL 64.186931 120.978169 \nL 73.93111 124.69579 \nL 83.675289 127.885713 \nL 93.419468 129.950529 \nL 103.163647 131.225688 \nL 112.907826 132.660889 \n\" clip-path=\"url(#p17309ea81b)\" style=\"fill: none; stroke: #1f77b4; stroke-width: 1.5; stroke-linecap: square\"/>\n   </g>\n   <g id=\"line2d_56\">\n    <path d=\"M 49.633125 112.034981 \nL 69.163125 126.513799 \nL 88.693125 131.409572 \nL 108.223125 133.609605 \n\" clip-path=\"url(#p17309ea81b)\" style=\"fill: none; stroke-dasharray: 5.55,2.4; stroke-dashoffset: 0; stroke: #ff7f0e; stroke-width: 1.5\"/>\n   </g>\n   <g id=\"line2d_57\">\n    <path d=\"M 49.633125 113.193552 \nL 69.163125 106.859084 \nL 88.693125 104.880733 \nL 108.223125 104.325297 \n\" clip-path=\"url(#p17309ea81b)\" style=\"fill: none; stroke-dasharray: 9.6,2.4,1.5,2.4; stroke-dashoffset: 0; stroke: #2ca02c; stroke-width: 1.5\"/>\n   </g>\n   <g id=\"line2d_58\">\n    <path d=\"M 34.954394 13.5 \nL 44.698573 71.74407 \nL 54.442752 113.09885 \nL 64.186931 120.978169 \nL 73.93111 124.69579 \nL 83.675289 127.885713 \nL 93.419468 129.950529 \nL 103.163647 131.225688 \nL 112.907826 132.660889 \nL 122.652006 133.964673 \n\" clip-path=\"url(#p17309ea81b)\" style=\"fill: none; stroke: #1f77b4; stroke-width: 1.5; stroke-linecap: square\"/>\n   </g>\n   <g id=\"line2d_59\">\n    <path d=\"M 49.633125 112.034981 \nL 69.163125 126.513799 \nL 88.693125 131.409572 \nL 108.223125 133.609605 \n\" clip-path=\"url(#p17309ea81b)\" style=\"fill: none; stroke-dasharray: 5.55,2.4; stroke-dashoffset: 0; stroke: #ff7f0e; stroke-width: 1.5\"/>\n   </g>\n   <g id=\"line2d_60\">\n    <path d=\"M 49.633125 113.193552 \nL 69.163125 106.859084 \nL 88.693125 104.880733 \nL 108.223125 104.325297 \n\" clip-path=\"url(#p17309ea81b)\" style=\"fill: none; stroke-dasharray: 9.6,2.4,1.5,2.4; stroke-dashoffset: 0; stroke: #2ca02c; stroke-width: 1.5\"/>\n   </g>\n   <g id=\"line2d_61\">\n    <path d=\"M 34.954394 13.5 \nL 44.698573 71.74407 \nL 54.442752 113.09885 \nL 64.186931 120.978169 \nL 73.93111 124.69579 \nL 83.675289 127.885713 \nL 93.419468 129.950529 \nL 103.163647 131.225688 \nL 112.907826 132.660889 \nL 122.652006 133.964673 \n\" clip-path=\"url(#p17309ea81b)\" style=\"fill: none; stroke: #1f77b4; stroke-width: 1.5; stroke-linecap: square\"/>\n   </g>\n   <g id=\"line2d_62\">\n    <path d=\"M 49.633125 112.034981 \nL 69.163125 126.513799 \nL 88.693125 131.409572 \nL 108.223125 133.609605 \nL 127.753125 134.796813 \n\" clip-path=\"url(#p17309ea81b)\" style=\"fill: none; stroke-dasharray: 5.55,2.4; stroke-dashoffset: 0; stroke: #ff7f0e; stroke-width: 1.5\"/>\n   </g>\n   <g id=\"line2d_63\">\n    <path d=\"M 49.633125 113.193552 \nL 69.163125 106.859084 \nL 88.693125 104.880733 \nL 108.223125 104.325297 \n\" clip-path=\"url(#p17309ea81b)\" style=\"fill: none; stroke-dasharray: 9.6,2.4,1.5,2.4; stroke-dashoffset: 0; stroke: #2ca02c; stroke-width: 1.5\"/>\n   </g>\n   <g id=\"line2d_64\">\n    <path d=\"M 34.954394 13.5 \nL 44.698573 71.74407 \nL 54.442752 113.09885 \nL 64.186931 120.978169 \nL 73.93111 124.69579 \nL 83.675289 127.885713 \nL 93.419468 129.950529 \nL 103.163647 131.225688 \nL 112.907826 132.660889 \nL 122.652006 133.964673 \n\" clip-path=\"url(#p17309ea81b)\" style=\"fill: none; stroke: #1f77b4; stroke-width: 1.5; stroke-linecap: square\"/>\n   </g>\n   <g id=\"line2d_65\">\n    <path d=\"M 49.633125 112.034981 \nL 69.163125 126.513799 \nL 88.693125 131.409572 \nL 108.223125 133.609605 \nL 127.753125 134.796813 \n\" clip-path=\"url(#p17309ea81b)\" style=\"fill: none; stroke-dasharray: 5.55,2.4; stroke-dashoffset: 0; stroke: #ff7f0e; stroke-width: 1.5\"/>\n   </g>\n   <g id=\"line2d_66\">\n    <path d=\"M 49.633125 113.193552 \nL 69.163125 106.859084 \nL 88.693125 104.880733 \nL 108.223125 104.325297 \nL 127.753125 103.570153 \n\" clip-path=\"url(#p17309ea81b)\" style=\"fill: none; stroke-dasharray: 9.6,2.4,1.5,2.4; stroke-dashoffset: 0; stroke: #2ca02c; stroke-width: 1.5\"/>\n   </g>\n   <g id=\"line2d_67\">\n    <path d=\"M 34.954394 13.5 \nL 44.698573 71.74407 \nL 54.442752 113.09885 \nL 64.186931 120.978169 \nL 73.93111 124.69579 \nL 83.675289 127.885713 \nL 93.419468 129.950529 \nL 103.163647 131.225688 \nL 112.907826 132.660889 \nL 122.652006 133.964673 \nL 132.396185 135.081123 \n\" clip-path=\"url(#p17309ea81b)\" style=\"fill: none; stroke: #1f77b4; stroke-width: 1.5; stroke-linecap: square\"/>\n   </g>\n   <g id=\"line2d_68\">\n    <path d=\"M 49.633125 112.034981 \nL 69.163125 126.513799 \nL 88.693125 131.409572 \nL 108.223125 133.609605 \nL 127.753125 134.796813 \n\" clip-path=\"url(#p17309ea81b)\" style=\"fill: none; stroke-dasharray: 5.55,2.4; stroke-dashoffset: 0; stroke: #ff7f0e; stroke-width: 1.5\"/>\n   </g>\n   <g id=\"line2d_69\">\n    <path d=\"M 49.633125 113.193552 \nL 69.163125 106.859084 \nL 88.693125 104.880733 \nL 108.223125 104.325297 \nL 127.753125 103.570153 \n\" clip-path=\"url(#p17309ea81b)\" style=\"fill: none; stroke-dasharray: 9.6,2.4,1.5,2.4; stroke-dashoffset: 0; stroke: #2ca02c; stroke-width: 1.5\"/>\n   </g>\n   <g id=\"line2d_70\">\n    <path d=\"M 34.954394 13.5 \nL 44.698573 71.74407 \nL 54.442752 113.09885 \nL 64.186931 120.978169 \nL 73.93111 124.69579 \nL 83.675289 127.885713 \nL 93.419468 129.950529 \nL 103.163647 131.225688 \nL 112.907826 132.660889 \nL 122.652006 133.964673 \nL 132.396185 135.081123 \nL 142.140364 134.976855 \n\" clip-path=\"url(#p17309ea81b)\" style=\"fill: none; stroke: #1f77b4; stroke-width: 1.5; stroke-linecap: square\"/>\n   </g>\n   <g id=\"line2d_71\">\n    <path d=\"M 49.633125 112.034981 \nL 69.163125 126.513799 \nL 88.693125 131.409572 \nL 108.223125 133.609605 \nL 127.753125 134.796813 \n\" clip-path=\"url(#p17309ea81b)\" style=\"fill: none; stroke-dasharray: 5.55,2.4; stroke-dashoffset: 0; stroke: #ff7f0e; stroke-width: 1.5\"/>\n   </g>\n   <g id=\"line2d_72\">\n    <path d=\"M 49.633125 113.193552 \nL 69.163125 106.859084 \nL 88.693125 104.880733 \nL 108.223125 104.325297 \nL 127.753125 103.570153 \n\" clip-path=\"url(#p17309ea81b)\" style=\"fill: none; stroke-dasharray: 9.6,2.4,1.5,2.4; stroke-dashoffset: 0; stroke: #2ca02c; stroke-width: 1.5\"/>\n   </g>\n   <g id=\"line2d_73\">\n    <path d=\"M 34.954394 13.5 \nL 44.698573 71.74407 \nL 54.442752 113.09885 \nL 64.186931 120.978169 \nL 73.93111 124.69579 \nL 83.675289 127.885713 \nL 93.419468 129.950529 \nL 103.163647 131.225688 \nL 112.907826 132.660889 \nL 122.652006 133.964673 \nL 132.396185 135.081123 \nL 142.140364 134.976855 \n\" clip-path=\"url(#p17309ea81b)\" style=\"fill: none; stroke: #1f77b4; stroke-width: 1.5; stroke-linecap: square\"/>\n   </g>\n   <g id=\"line2d_74\">\n    <path d=\"M 49.633125 112.034981 \nL 69.163125 126.513799 \nL 88.693125 131.409572 \nL 108.223125 133.609605 \nL 127.753125 134.796813 \nL 147.283125 135.269318 \n\" clip-path=\"url(#p17309ea81b)\" style=\"fill: none; stroke-dasharray: 5.55,2.4; stroke-dashoffset: 0; stroke: #ff7f0e; stroke-width: 1.5\"/>\n   </g>\n   <g id=\"line2d_75\">\n    <path d=\"M 49.633125 113.193552 \nL 69.163125 106.859084 \nL 88.693125 104.880733 \nL 108.223125 104.325297 \nL 127.753125 103.570153 \n\" clip-path=\"url(#p17309ea81b)\" style=\"fill: none; stroke-dasharray: 9.6,2.4,1.5,2.4; stroke-dashoffset: 0; stroke: #2ca02c; stroke-width: 1.5\"/>\n   </g>\n   <g id=\"line2d_76\">\n    <path d=\"M 34.954394 13.5 \nL 44.698573 71.74407 \nL 54.442752 113.09885 \nL 64.186931 120.978169 \nL 73.93111 124.69579 \nL 83.675289 127.885713 \nL 93.419468 129.950529 \nL 103.163647 131.225688 \nL 112.907826 132.660889 \nL 122.652006 133.964673 \nL 132.396185 135.081123 \nL 142.140364 134.976855 \n\" clip-path=\"url(#p17309ea81b)\" style=\"fill: none; stroke: #1f77b4; stroke-width: 1.5; stroke-linecap: square\"/>\n   </g>\n   <g id=\"line2d_77\">\n    <path d=\"M 49.633125 112.034981 \nL 69.163125 126.513799 \nL 88.693125 131.409572 \nL 108.223125 133.609605 \nL 127.753125 134.796813 \nL 147.283125 135.269318 \n\" clip-path=\"url(#p17309ea81b)\" style=\"fill: none; stroke-dasharray: 5.55,2.4; stroke-dashoffset: 0; stroke: #ff7f0e; stroke-width: 1.5\"/>\n   </g>\n   <g id=\"line2d_78\">\n    <path d=\"M 49.633125 113.193552 \nL 69.163125 106.859084 \nL 88.693125 104.880733 \nL 108.223125 104.325297 \nL 127.753125 103.570153 \nL 147.283125 103.732416 \n\" clip-path=\"url(#p17309ea81b)\" style=\"fill: none; stroke-dasharray: 9.6,2.4,1.5,2.4; stroke-dashoffset: 0; stroke: #2ca02c; stroke-width: 1.5\"/>\n   </g>\n   <g id=\"line2d_79\">\n    <path d=\"M 34.954394 13.5 \nL 44.698573 71.74407 \nL 54.442752 113.09885 \nL 64.186931 120.978169 \nL 73.93111 124.69579 \nL 83.675289 127.885713 \nL 93.419468 129.950529 \nL 103.163647 131.225688 \nL 112.907826 132.660889 \nL 122.652006 133.964673 \nL 132.396185 135.081123 \nL 142.140364 134.976855 \nL 151.884543 136.213199 \n\" clip-path=\"url(#p17309ea81b)\" style=\"fill: none; stroke: #1f77b4; stroke-width: 1.5; stroke-linecap: square\"/>\n   </g>\n   <g id=\"line2d_80\">\n    <path d=\"M 49.633125 112.034981 \nL 69.163125 126.513799 \nL 88.693125 131.409572 \nL 108.223125 133.609605 \nL 127.753125 134.796813 \nL 147.283125 135.269318 \n\" clip-path=\"url(#p17309ea81b)\" style=\"fill: none; stroke-dasharray: 5.55,2.4; stroke-dashoffset: 0; stroke: #ff7f0e; stroke-width: 1.5\"/>\n   </g>\n   <g id=\"line2d_81\">\n    <path d=\"M 49.633125 113.193552 \nL 69.163125 106.859084 \nL 88.693125 104.880733 \nL 108.223125 104.325297 \nL 127.753125 103.570153 \nL 147.283125 103.732416 \n\" clip-path=\"url(#p17309ea81b)\" style=\"fill: none; stroke-dasharray: 9.6,2.4,1.5,2.4; stroke-dashoffset: 0; stroke: #2ca02c; stroke-width: 1.5\"/>\n   </g>\n   <g id=\"line2d_82\">\n    <path d=\"M 34.954394 13.5 \nL 44.698573 71.74407 \nL 54.442752 113.09885 \nL 64.186931 120.978169 \nL 73.93111 124.69579 \nL 83.675289 127.885713 \nL 93.419468 129.950529 \nL 103.163647 131.225688 \nL 112.907826 132.660889 \nL 122.652006 133.964673 \nL 132.396185 135.081123 \nL 142.140364 134.976855 \nL 151.884543 136.213199 \nL 161.628722 136.663532 \n\" clip-path=\"url(#p17309ea81b)\" style=\"fill: none; stroke: #1f77b4; stroke-width: 1.5; stroke-linecap: square\"/>\n   </g>\n   <g id=\"line2d_83\">\n    <path d=\"M 49.633125 112.034981 \nL 69.163125 126.513799 \nL 88.693125 131.409572 \nL 108.223125 133.609605 \nL 127.753125 134.796813 \nL 147.283125 135.269318 \n\" clip-path=\"url(#p17309ea81b)\" style=\"fill: none; stroke-dasharray: 5.55,2.4; stroke-dashoffset: 0; stroke: #ff7f0e; stroke-width: 1.5\"/>\n   </g>\n   <g id=\"line2d_84\">\n    <path d=\"M 49.633125 113.193552 \nL 69.163125 106.859084 \nL 88.693125 104.880733 \nL 108.223125 104.325297 \nL 127.753125 103.570153 \nL 147.283125 103.732416 \n\" clip-path=\"url(#p17309ea81b)\" style=\"fill: none; stroke-dasharray: 9.6,2.4,1.5,2.4; stroke-dashoffset: 0; stroke: #2ca02c; stroke-width: 1.5\"/>\n   </g>\n   <g id=\"line2d_85\">\n    <path d=\"M 34.954394 13.5 \nL 44.698573 71.74407 \nL 54.442752 113.09885 \nL 64.186931 120.978169 \nL 73.93111 124.69579 \nL 83.675289 127.885713 \nL 93.419468 129.950529 \nL 103.163647 131.225688 \nL 112.907826 132.660889 \nL 122.652006 133.964673 \nL 132.396185 135.081123 \nL 142.140364 134.976855 \nL 151.884543 136.213199 \nL 161.628722 136.663532 \n\" clip-path=\"url(#p17309ea81b)\" style=\"fill: none; stroke: #1f77b4; stroke-width: 1.5; stroke-linecap: square\"/>\n   </g>\n   <g id=\"line2d_86\">\n    <path d=\"M 49.633125 112.034981 \nL 69.163125 126.513799 \nL 88.693125 131.409572 \nL 108.223125 133.609605 \nL 127.753125 134.796813 \nL 147.283125 135.269318 \nL 166.813125 136.771788 \n\" clip-path=\"url(#p17309ea81b)\" style=\"fill: none; stroke-dasharray: 5.55,2.4; stroke-dashoffset: 0; stroke: #ff7f0e; stroke-width: 1.5\"/>\n   </g>\n   <g id=\"line2d_87\">\n    <path d=\"M 49.633125 113.193552 \nL 69.163125 106.859084 \nL 88.693125 104.880733 \nL 108.223125 104.325297 \nL 127.753125 103.570153 \nL 147.283125 103.732416 \n\" clip-path=\"url(#p17309ea81b)\" style=\"fill: none; stroke-dasharray: 9.6,2.4,1.5,2.4; stroke-dashoffset: 0; stroke: #2ca02c; stroke-width: 1.5\"/>\n   </g>\n   <g id=\"line2d_88\">\n    <path d=\"M 34.954394 13.5 \nL 44.698573 71.74407 \nL 54.442752 113.09885 \nL 64.186931 120.978169 \nL 73.93111 124.69579 \nL 83.675289 127.885713 \nL 93.419468 129.950529 \nL 103.163647 131.225688 \nL 112.907826 132.660889 \nL 122.652006 133.964673 \nL 132.396185 135.081123 \nL 142.140364 134.976855 \nL 151.884543 136.213199 \nL 161.628722 136.663532 \n\" clip-path=\"url(#p17309ea81b)\" style=\"fill: none; stroke: #1f77b4; stroke-width: 1.5; stroke-linecap: square\"/>\n   </g>\n   <g id=\"line2d_89\">\n    <path d=\"M 49.633125 112.034981 \nL 69.163125 126.513799 \nL 88.693125 131.409572 \nL 108.223125 133.609605 \nL 127.753125 134.796813 \nL 147.283125 135.269318 \nL 166.813125 136.771788 \n\" clip-path=\"url(#p17309ea81b)\" style=\"fill: none; stroke-dasharray: 5.55,2.4; stroke-dashoffset: 0; stroke: #ff7f0e; stroke-width: 1.5\"/>\n   </g>\n   <g id=\"line2d_90\">\n    <path d=\"M 49.633125 113.193552 \nL 69.163125 106.859084 \nL 88.693125 104.880733 \nL 108.223125 104.325297 \nL 127.753125 103.570153 \nL 147.283125 103.732416 \nL 166.813125 103.058403 \n\" clip-path=\"url(#p17309ea81b)\" style=\"fill: none; stroke-dasharray: 9.6,2.4,1.5,2.4; stroke-dashoffset: 0; stroke: #2ca02c; stroke-width: 1.5\"/>\n   </g>\n   <g id=\"line2d_91\">\n    <path d=\"M 34.954394 13.5 \nL 44.698573 71.74407 \nL 54.442752 113.09885 \nL 64.186931 120.978169 \nL 73.93111 124.69579 \nL 83.675289 127.885713 \nL 93.419468 129.950529 \nL 103.163647 131.225688 \nL 112.907826 132.660889 \nL 122.652006 133.964673 \nL 132.396185 135.081123 \nL 142.140364 134.976855 \nL 151.884543 136.213199 \nL 161.628722 136.663532 \nL 171.372901 137.277624 \n\" clip-path=\"url(#p17309ea81b)\" style=\"fill: none; stroke: #1f77b4; stroke-width: 1.5; stroke-linecap: square\"/>\n   </g>\n   <g id=\"line2d_92\">\n    <path d=\"M 49.633125 112.034981 \nL 69.163125 126.513799 \nL 88.693125 131.409572 \nL 108.223125 133.609605 \nL 127.753125 134.796813 \nL 147.283125 135.269318 \nL 166.813125 136.771788 \n\" clip-path=\"url(#p17309ea81b)\" style=\"fill: none; stroke-dasharray: 5.55,2.4; stroke-dashoffset: 0; stroke: #ff7f0e; stroke-width: 1.5\"/>\n   </g>\n   <g id=\"line2d_93\">\n    <path d=\"M 49.633125 113.193552 \nL 69.163125 106.859084 \nL 88.693125 104.880733 \nL 108.223125 104.325297 \nL 127.753125 103.570153 \nL 147.283125 103.732416 \nL 166.813125 103.058403 \n\" clip-path=\"url(#p17309ea81b)\" style=\"fill: none; stroke-dasharray: 9.6,2.4,1.5,2.4; stroke-dashoffset: 0; stroke: #2ca02c; stroke-width: 1.5\"/>\n   </g>\n   <g id=\"line2d_94\">\n    <path d=\"M 34.954394 13.5 \nL 44.698573 71.74407 \nL 54.442752 113.09885 \nL 64.186931 120.978169 \nL 73.93111 124.69579 \nL 83.675289 127.885713 \nL 93.419468 129.950529 \nL 103.163647 131.225688 \nL 112.907826 132.660889 \nL 122.652006 133.964673 \nL 132.396185 135.081123 \nL 142.140364 134.976855 \nL 151.884543 136.213199 \nL 161.628722 136.663532 \nL 171.372901 137.277624 \nL 181.11708 137.807264 \n\" clip-path=\"url(#p17309ea81b)\" style=\"fill: none; stroke: #1f77b4; stroke-width: 1.5; stroke-linecap: square\"/>\n   </g>\n   <g id=\"line2d_95\">\n    <path d=\"M 49.633125 112.034981 \nL 69.163125 126.513799 \nL 88.693125 131.409572 \nL 108.223125 133.609605 \nL 127.753125 134.796813 \nL 147.283125 135.269318 \nL 166.813125 136.771788 \n\" clip-path=\"url(#p17309ea81b)\" style=\"fill: none; stroke-dasharray: 5.55,2.4; stroke-dashoffset: 0; stroke: #ff7f0e; stroke-width: 1.5\"/>\n   </g>\n   <g id=\"line2d_96\">\n    <path d=\"M 49.633125 113.193552 \nL 69.163125 106.859084 \nL 88.693125 104.880733 \nL 108.223125 104.325297 \nL 127.753125 103.570153 \nL 147.283125 103.732416 \nL 166.813125 103.058403 \n\" clip-path=\"url(#p17309ea81b)\" style=\"fill: none; stroke-dasharray: 9.6,2.4,1.5,2.4; stroke-dashoffset: 0; stroke: #2ca02c; stroke-width: 1.5\"/>\n   </g>\n   <g id=\"line2d_97\">\n    <path d=\"M 34.954394 13.5 \nL 44.698573 71.74407 \nL 54.442752 113.09885 \nL 64.186931 120.978169 \nL 73.93111 124.69579 \nL 83.675289 127.885713 \nL 93.419468 129.950529 \nL 103.163647 131.225688 \nL 112.907826 132.660889 \nL 122.652006 133.964673 \nL 132.396185 135.081123 \nL 142.140364 134.976855 \nL 151.884543 136.213199 \nL 161.628722 136.663532 \nL 171.372901 137.277624 \nL 181.11708 137.807264 \n\" clip-path=\"url(#p17309ea81b)\" style=\"fill: none; stroke: #1f77b4; stroke-width: 1.5; stroke-linecap: square\"/>\n   </g>\n   <g id=\"line2d_98\">\n    <path d=\"M 49.633125 112.034981 \nL 69.163125 126.513799 \nL 88.693125 131.409572 \nL 108.223125 133.609605 \nL 127.753125 134.796813 \nL 147.283125 135.269318 \nL 166.813125 136.771788 \nL 186.343125 138.233297 \n\" clip-path=\"url(#p17309ea81b)\" style=\"fill: none; stroke-dasharray: 5.55,2.4; stroke-dashoffset: 0; stroke: #ff7f0e; stroke-width: 1.5\"/>\n   </g>\n   <g id=\"line2d_99\">\n    <path d=\"M 49.633125 113.193552 \nL 69.163125 106.859084 \nL 88.693125 104.880733 \nL 108.223125 104.325297 \nL 127.753125 103.570153 \nL 147.283125 103.732416 \nL 166.813125 103.058403 \n\" clip-path=\"url(#p17309ea81b)\" style=\"fill: none; stroke-dasharray: 9.6,2.4,1.5,2.4; stroke-dashoffset: 0; stroke: #2ca02c; stroke-width: 1.5\"/>\n   </g>\n   <g id=\"line2d_100\">\n    <path d=\"M 34.954394 13.5 \nL 44.698573 71.74407 \nL 54.442752 113.09885 \nL 64.186931 120.978169 \nL 73.93111 124.69579 \nL 83.675289 127.885713 \nL 93.419468 129.950529 \nL 103.163647 131.225688 \nL 112.907826 132.660889 \nL 122.652006 133.964673 \nL 132.396185 135.081123 \nL 142.140364 134.976855 \nL 151.884543 136.213199 \nL 161.628722 136.663532 \nL 171.372901 137.277624 \nL 181.11708 137.807264 \n\" clip-path=\"url(#p17309ea81b)\" style=\"fill: none; stroke: #1f77b4; stroke-width: 1.5; stroke-linecap: square\"/>\n   </g>\n   <g id=\"line2d_101\">\n    <path d=\"M 49.633125 112.034981 \nL 69.163125 126.513799 \nL 88.693125 131.409572 \nL 108.223125 133.609605 \nL 127.753125 134.796813 \nL 147.283125 135.269318 \nL 166.813125 136.771788 \nL 186.343125 138.233297 \n\" clip-path=\"url(#p17309ea81b)\" style=\"fill: none; stroke-dasharray: 5.55,2.4; stroke-dashoffset: 0; stroke: #ff7f0e; stroke-width: 1.5\"/>\n   </g>\n   <g id=\"line2d_102\">\n    <path d=\"M 49.633125 113.193552 \nL 69.163125 106.859084 \nL 88.693125 104.880733 \nL 108.223125 104.325297 \nL 127.753125 103.570153 \nL 147.283125 103.732416 \nL 166.813125 103.058403 \nL 186.343125 102.465522 \n\" clip-path=\"url(#p17309ea81b)\" style=\"fill: none; stroke-dasharray: 9.6,2.4,1.5,2.4; stroke-dashoffset: 0; stroke: #2ca02c; stroke-width: 1.5\"/>\n   </g>\n   <g id=\"line2d_103\">\n    <path d=\"M 34.954394 13.5 \nL 44.698573 71.74407 \nL 54.442752 113.09885 \nL 64.186931 120.978169 \nL 73.93111 124.69579 \nL 83.675289 127.885713 \nL 93.419468 129.950529 \nL 103.163647 131.225688 \nL 112.907826 132.660889 \nL 122.652006 133.964673 \nL 132.396185 135.081123 \nL 142.140364 134.976855 \nL 151.884543 136.213199 \nL 161.628722 136.663532 \nL 171.372901 137.277624 \nL 181.11708 137.807264 \nL 190.861259 138.308448 \n\" clip-path=\"url(#p17309ea81b)\" style=\"fill: none; stroke: #1f77b4; stroke-width: 1.5; stroke-linecap: square\"/>\n   </g>\n   <g id=\"line2d_104\">\n    <path d=\"M 49.633125 112.034981 \nL 69.163125 126.513799 \nL 88.693125 131.409572 \nL 108.223125 133.609605 \nL 127.753125 134.796813 \nL 147.283125 135.269318 \nL 166.813125 136.771788 \nL 186.343125 138.233297 \n\" clip-path=\"url(#p17309ea81b)\" style=\"fill: none; stroke-dasharray: 5.55,2.4; stroke-dashoffset: 0; stroke: #ff7f0e; stroke-width: 1.5\"/>\n   </g>\n   <g id=\"line2d_105\">\n    <path d=\"M 49.633125 113.193552 \nL 69.163125 106.859084 \nL 88.693125 104.880733 \nL 108.223125 104.325297 \nL 127.753125 103.570153 \nL 147.283125 103.732416 \nL 166.813125 103.058403 \nL 186.343125 102.465522 \n\" clip-path=\"url(#p17309ea81b)\" style=\"fill: none; stroke-dasharray: 9.6,2.4,1.5,2.4; stroke-dashoffset: 0; stroke: #2ca02c; stroke-width: 1.5\"/>\n   </g>\n   <g id=\"line2d_106\">\n    <path d=\"M 34.954394 13.5 \nL 44.698573 71.74407 \nL 54.442752 113.09885 \nL 64.186931 120.978169 \nL 73.93111 124.69579 \nL 83.675289 127.885713 \nL 93.419468 129.950529 \nL 103.163647 131.225688 \nL 112.907826 132.660889 \nL 122.652006 133.964673 \nL 132.396185 135.081123 \nL 142.140364 134.976855 \nL 151.884543 136.213199 \nL 161.628722 136.663532 \nL 171.372901 137.277624 \nL 181.11708 137.807264 \nL 190.861259 138.308448 \nL 200.605438 138.774198 \n\" clip-path=\"url(#p17309ea81b)\" style=\"fill: none; stroke: #1f77b4; stroke-width: 1.5; stroke-linecap: square\"/>\n   </g>\n   <g id=\"line2d_107\">\n    <path d=\"M 49.633125 112.034981 \nL 69.163125 126.513799 \nL 88.693125 131.409572 \nL 108.223125 133.609605 \nL 127.753125 134.796813 \nL 147.283125 135.269318 \nL 166.813125 136.771788 \nL 186.343125 138.233297 \n\" clip-path=\"url(#p17309ea81b)\" style=\"fill: none; stroke-dasharray: 5.55,2.4; stroke-dashoffset: 0; stroke: #ff7f0e; stroke-width: 1.5\"/>\n   </g>\n   <g id=\"line2d_108\">\n    <path d=\"M 49.633125 113.193552 \nL 69.163125 106.859084 \nL 88.693125 104.880733 \nL 108.223125 104.325297 \nL 127.753125 103.570153 \nL 147.283125 103.732416 \nL 166.813125 103.058403 \nL 186.343125 102.465522 \n\" clip-path=\"url(#p17309ea81b)\" style=\"fill: none; stroke-dasharray: 9.6,2.4,1.5,2.4; stroke-dashoffset: 0; stroke: #2ca02c; stroke-width: 1.5\"/>\n   </g>\n   <g id=\"line2d_109\">\n    <path d=\"M 34.954394 13.5 \nL 44.698573 71.74407 \nL 54.442752 113.09885 \nL 64.186931 120.978169 \nL 73.93111 124.69579 \nL 83.675289 127.885713 \nL 93.419468 129.950529 \nL 103.163647 131.225688 \nL 112.907826 132.660889 \nL 122.652006 133.964673 \nL 132.396185 135.081123 \nL 142.140364 134.976855 \nL 151.884543 136.213199 \nL 161.628722 136.663532 \nL 171.372901 137.277624 \nL 181.11708 137.807264 \nL 190.861259 138.308448 \nL 200.605438 138.774198 \n\" clip-path=\"url(#p17309ea81b)\" style=\"fill: none; stroke: #1f77b4; stroke-width: 1.5; stroke-linecap: square\"/>\n   </g>\n   <g id=\"line2d_110\">\n    <path d=\"M 49.633125 112.034981 \nL 69.163125 126.513799 \nL 88.693125 131.409572 \nL 108.223125 133.609605 \nL 127.753125 134.796813 \nL 147.283125 135.269318 \nL 166.813125 136.771788 \nL 186.343125 138.233297 \nL 205.873125 139.327666 \n\" clip-path=\"url(#p17309ea81b)\" style=\"fill: none; stroke-dasharray: 5.55,2.4; stroke-dashoffset: 0; stroke: #ff7f0e; stroke-width: 1.5\"/>\n   </g>\n   <g id=\"line2d_111\">\n    <path d=\"M 49.633125 113.193552 \nL 69.163125 106.859084 \nL 88.693125 104.880733 \nL 108.223125 104.325297 \nL 127.753125 103.570153 \nL 147.283125 103.732416 \nL 166.813125 103.058403 \nL 186.343125 102.465522 \n\" clip-path=\"url(#p17309ea81b)\" style=\"fill: none; stroke-dasharray: 9.6,2.4,1.5,2.4; stroke-dashoffset: 0; stroke: #2ca02c; stroke-width: 1.5\"/>\n   </g>\n   <g id=\"line2d_112\">\n    <path d=\"M 34.954394 13.5 \nL 44.698573 71.74407 \nL 54.442752 113.09885 \nL 64.186931 120.978169 \nL 73.93111 124.69579 \nL 83.675289 127.885713 \nL 93.419468 129.950529 \nL 103.163647 131.225688 \nL 112.907826 132.660889 \nL 122.652006 133.964673 \nL 132.396185 135.081123 \nL 142.140364 134.976855 \nL 151.884543 136.213199 \nL 161.628722 136.663532 \nL 171.372901 137.277624 \nL 181.11708 137.807264 \nL 190.861259 138.308448 \nL 200.605438 138.774198 \n\" clip-path=\"url(#p17309ea81b)\" style=\"fill: none; stroke: #1f77b4; stroke-width: 1.5; stroke-linecap: square\"/>\n   </g>\n   <g id=\"line2d_113\">\n    <path d=\"M 49.633125 112.034981 \nL 69.163125 126.513799 \nL 88.693125 131.409572 \nL 108.223125 133.609605 \nL 127.753125 134.796813 \nL 147.283125 135.269318 \nL 166.813125 136.771788 \nL 186.343125 138.233297 \nL 205.873125 139.327666 \n\" clip-path=\"url(#p17309ea81b)\" style=\"fill: none; stroke-dasharray: 5.55,2.4; stroke-dashoffset: 0; stroke: #ff7f0e; stroke-width: 1.5\"/>\n   </g>\n   <g id=\"line2d_114\">\n    <path d=\"M 49.633125 113.193552 \nL 69.163125 106.859084 \nL 88.693125 104.880733 \nL 108.223125 104.325297 \nL 127.753125 103.570153 \nL 147.283125 103.732416 \nL 166.813125 103.058403 \nL 186.343125 102.465522 \nL 205.873125 102.00994 \n\" clip-path=\"url(#p17309ea81b)\" style=\"fill: none; stroke-dasharray: 9.6,2.4,1.5,2.4; stroke-dashoffset: 0; stroke: #2ca02c; stroke-width: 1.5\"/>\n   </g>\n   <g id=\"line2d_115\">\n    <path d=\"M 34.954394 13.5 \nL 44.698573 71.74407 \nL 54.442752 113.09885 \nL 64.186931 120.978169 \nL 73.93111 124.69579 \nL 83.675289 127.885713 \nL 93.419468 129.950529 \nL 103.163647 131.225688 \nL 112.907826 132.660889 \nL 122.652006 133.964673 \nL 132.396185 135.081123 \nL 142.140364 134.976855 \nL 151.884543 136.213199 \nL 161.628722 136.663532 \nL 171.372901 137.277624 \nL 181.11708 137.807264 \nL 190.861259 138.308448 \nL 200.605438 138.774198 \nL 210.349618 139.5 \n\" clip-path=\"url(#p17309ea81b)\" style=\"fill: none; stroke: #1f77b4; stroke-width: 1.5; stroke-linecap: square\"/>\n   </g>\n   <g id=\"line2d_116\">\n    <path d=\"M 49.633125 112.034981 \nL 69.163125 126.513799 \nL 88.693125 131.409572 \nL 108.223125 133.609605 \nL 127.753125 134.796813 \nL 147.283125 135.269318 \nL 166.813125 136.771788 \nL 186.343125 138.233297 \nL 205.873125 139.327666 \n\" clip-path=\"url(#p17309ea81b)\" style=\"fill: none; stroke-dasharray: 5.55,2.4; stroke-dashoffset: 0; stroke: #ff7f0e; stroke-width: 1.5\"/>\n   </g>\n   <g id=\"line2d_117\">\n    <path d=\"M 49.633125 113.193552 \nL 69.163125 106.859084 \nL 88.693125 104.880733 \nL 108.223125 104.325297 \nL 127.753125 103.570153 \nL 147.283125 103.732416 \nL 166.813125 103.058403 \nL 186.343125 102.465522 \nL 205.873125 102.00994 \n\" clip-path=\"url(#p17309ea81b)\" style=\"fill: none; stroke-dasharray: 9.6,2.4,1.5,2.4; stroke-dashoffset: 0; stroke: #2ca02c; stroke-width: 1.5\"/>\n   </g>\n   <g id=\"line2d_118\">\n    <path d=\"M 34.954394 13.5 \nL 44.698573 71.74407 \nL 54.442752 113.09885 \nL 64.186931 120.978169 \nL 73.93111 124.69579 \nL 83.675289 127.885713 \nL 93.419468 129.950529 \nL 103.163647 131.225688 \nL 112.907826 132.660889 \nL 122.652006 133.964673 \nL 132.396185 135.081123 \nL 142.140364 134.976855 \nL 151.884543 136.213199 \nL 161.628722 136.663532 \nL 171.372901 137.277624 \nL 181.11708 137.807264 \nL 190.861259 138.308448 \nL 200.605438 138.774198 \nL 210.349618 139.5 \nL 220.093797 139.366517 \n\" clip-path=\"url(#p17309ea81b)\" style=\"fill: none; stroke: #1f77b4; stroke-width: 1.5; stroke-linecap: square\"/>\n   </g>\n   <g id=\"line2d_119\">\n    <path d=\"M 49.633125 112.034981 \nL 69.163125 126.513799 \nL 88.693125 131.409572 \nL 108.223125 133.609605 \nL 127.753125 134.796813 \nL 147.283125 135.269318 \nL 166.813125 136.771788 \nL 186.343125 138.233297 \nL 205.873125 139.327666 \n\" clip-path=\"url(#p17309ea81b)\" style=\"fill: none; stroke-dasharray: 5.55,2.4; stroke-dashoffset: 0; stroke: #ff7f0e; stroke-width: 1.5\"/>\n   </g>\n   <g id=\"line2d_120\">\n    <path d=\"M 49.633125 113.193552 \nL 69.163125 106.859084 \nL 88.693125 104.880733 \nL 108.223125 104.325297 \nL 127.753125 103.570153 \nL 147.283125 103.732416 \nL 166.813125 103.058403 \nL 186.343125 102.465522 \nL 205.873125 102.00994 \n\" clip-path=\"url(#p17309ea81b)\" style=\"fill: none; stroke-dasharray: 9.6,2.4,1.5,2.4; stroke-dashoffset: 0; stroke: #2ca02c; stroke-width: 1.5\"/>\n   </g>\n   <g id=\"line2d_121\">\n    <path d=\"M 34.954394 13.5 \nL 44.698573 71.74407 \nL 54.442752 113.09885 \nL 64.186931 120.978169 \nL 73.93111 124.69579 \nL 83.675289 127.885713 \nL 93.419468 129.950529 \nL 103.163647 131.225688 \nL 112.907826 132.660889 \nL 122.652006 133.964673 \nL 132.396185 135.081123 \nL 142.140364 134.976855 \nL 151.884543 136.213199 \nL 161.628722 136.663532 \nL 171.372901 137.277624 \nL 181.11708 137.807264 \nL 190.861259 138.308448 \nL 200.605438 138.774198 \nL 210.349618 139.5 \nL 220.093797 139.366517 \n\" clip-path=\"url(#p17309ea81b)\" style=\"fill: none; stroke: #1f77b4; stroke-width: 1.5; stroke-linecap: square\"/>\n   </g>\n   <g id=\"line2d_122\">\n    <path d=\"M 49.633125 112.034981 \nL 69.163125 126.513799 \nL 88.693125 131.409572 \nL 108.223125 133.609605 \nL 127.753125 134.796813 \nL 147.283125 135.269318 \nL 166.813125 136.771788 \nL 186.343125 138.233297 \nL 205.873125 139.327666 \nL 225.403125 139.261717 \n\" clip-path=\"url(#p17309ea81b)\" style=\"fill: none; stroke-dasharray: 5.55,2.4; stroke-dashoffset: 0; stroke: #ff7f0e; stroke-width: 1.5\"/>\n   </g>\n   <g id=\"line2d_123\">\n    <path d=\"M 49.633125 113.193552 \nL 69.163125 106.859084 \nL 88.693125 104.880733 \nL 108.223125 104.325297 \nL 127.753125 103.570153 \nL 147.283125 103.732416 \nL 166.813125 103.058403 \nL 186.343125 102.465522 \nL 205.873125 102.00994 \n\" clip-path=\"url(#p17309ea81b)\" style=\"fill: none; stroke-dasharray: 9.6,2.4,1.5,2.4; stroke-dashoffset: 0; stroke: #2ca02c; stroke-width: 1.5\"/>\n   </g>\n   <g id=\"line2d_124\">\n    <path d=\"M 34.954394 13.5 \nL 44.698573 71.74407 \nL 54.442752 113.09885 \nL 64.186931 120.978169 \nL 73.93111 124.69579 \nL 83.675289 127.885713 \nL 93.419468 129.950529 \nL 103.163647 131.225688 \nL 112.907826 132.660889 \nL 122.652006 133.964673 \nL 132.396185 135.081123 \nL 142.140364 134.976855 \nL 151.884543 136.213199 \nL 161.628722 136.663532 \nL 171.372901 137.277624 \nL 181.11708 137.807264 \nL 190.861259 138.308448 \nL 200.605438 138.774198 \nL 210.349618 139.5 \nL 220.093797 139.366517 \n\" clip-path=\"url(#p17309ea81b)\" style=\"fill: none; stroke: #1f77b4; stroke-width: 1.5; stroke-linecap: square\"/>\n   </g>\n   <g id=\"line2d_125\">\n    <path d=\"M 49.633125 112.034981 \nL 69.163125 126.513799 \nL 88.693125 131.409572 \nL 108.223125 133.609605 \nL 127.753125 134.796813 \nL 147.283125 135.269318 \nL 166.813125 136.771788 \nL 186.343125 138.233297 \nL 205.873125 139.327666 \nL 225.403125 139.261717 \n\" clip-path=\"url(#p17309ea81b)\" style=\"fill: none; stroke-dasharray: 5.55,2.4; stroke-dashoffset: 0; stroke: #ff7f0e; stroke-width: 1.5\"/>\n   </g>\n   <g id=\"line2d_126\">\n    <path d=\"M 49.633125 113.193552 \nL 69.163125 106.859084 \nL 88.693125 104.880733 \nL 108.223125 104.325297 \nL 127.753125 103.570153 \nL 147.283125 103.732416 \nL 166.813125 103.058403 \nL 186.343125 102.465522 \nL 205.873125 102.00994 \nL 225.403125 101.903845 \n\" clip-path=\"url(#p17309ea81b)\" style=\"fill: none; stroke-dasharray: 9.6,2.4,1.5,2.4; stroke-dashoffset: 0; stroke: #2ca02c; stroke-width: 1.5\"/>\n   </g>\n   <g id=\"patch_3\">\n    <path d=\"M 30.103125 145.8 \nL 30.103125 7.2 \n\" style=\"fill: none; stroke: #000000; stroke-width: 0.8; stroke-linejoin: miter; stroke-linecap: square\"/>\n   </g>\n   <g id=\"patch_4\">\n    <path d=\"M 225.403125 145.8 \nL 225.403125 7.2 \n\" style=\"fill: none; stroke: #000000; stroke-width: 0.8; stroke-linejoin: miter; stroke-linecap: square\"/>\n   </g>\n   <g id=\"patch_5\">\n    <path d=\"M 30.103125 145.8 \nL 225.403125 145.8 \n\" style=\"fill: none; stroke: #000000; stroke-width: 0.8; stroke-linejoin: miter; stroke-linecap: square\"/>\n   </g>\n   <g id=\"patch_6\">\n    <path d=\"M 30.103125 7.2 \nL 225.403125 7.2 \n\" style=\"fill: none; stroke: #000000; stroke-width: 0.8; stroke-linejoin: miter; stroke-linecap: square\"/>\n   </g>\n   <g id=\"legend_1\">\n    <g id=\"patch_7\">\n     <path d=\"M 138.8125 60.06875 \nL 218.403125 60.06875 \nQ 220.403125 60.06875 220.403125 58.06875 \nL 220.403125 14.2 \nQ 220.403125 12.2 218.403125 12.2 \nL 138.8125 12.2 \nQ 136.8125 12.2 136.8125 14.2 \nL 136.8125 58.06875 \nQ 136.8125 60.06875 138.8125 60.06875 \nz\n\" style=\"fill: #ffffff; opacity: 0.8; stroke: #cccccc; stroke-linejoin: miter\"/>\n    </g>\n    <g id=\"line2d_127\">\n     <path d=\"M 140.8125 20.298438 \nL 150.8125 20.298438 \nL 160.8125 20.298438 \n\" style=\"fill: none; stroke: #1f77b4; stroke-width: 1.5; stroke-linecap: square\"/>\n    </g>\n    <g id=\"text_12\">\n     <!-- train_loss -->\n     <g transform=\"translate(168.8125 23.798438) scale(0.1 -0.1)\">\n      <defs>\n       <path id=\"DejaVuSans-74\" d=\"M 1172 4494 \nL 1172 3500 \nL 2356 3500 \nL 2356 3053 \nL 1172 3053 \nL 1172 1153 \nQ 1172 725 1289 603 \nQ 1406 481 1766 481 \nL 2356 481 \nL 2356 0 \nL 1766 0 \nQ 1100 0 847 248 \nQ 594 497 594 1153 \nL 594 3053 \nL 172 3053 \nL 172 3500 \nL 594 3500 \nL 594 4494 \nL 1172 4494 \nz\n\" transform=\"scale(0.015625)\"/>\n       <path id=\"DejaVuSans-72\" d=\"M 2631 2963 \nQ 2534 3019 2420 3045 \nQ 2306 3072 2169 3072 \nQ 1681 3072 1420 2755 \nQ 1159 2438 1159 1844 \nL 1159 0 \nL 581 0 \nL 581 3500 \nL 1159 3500 \nL 1159 2956 \nQ 1341 3275 1631 3429 \nQ 1922 3584 2338 3584 \nQ 2397 3584 2469 3576 \nQ 2541 3569 2628 3553 \nL 2631 2963 \nz\n\" transform=\"scale(0.015625)\"/>\n       <path id=\"DejaVuSans-61\" d=\"M 2194 1759 \nQ 1497 1759 1228 1600 \nQ 959 1441 959 1056 \nQ 959 750 1161 570 \nQ 1363 391 1709 391 \nQ 2188 391 2477 730 \nQ 2766 1069 2766 1631 \nL 2766 1759 \nL 2194 1759 \nz\nM 3341 1997 \nL 3341 0 \nL 2766 0 \nL 2766 531 \nQ 2569 213 2275 61 \nQ 1981 -91 1556 -91 \nQ 1019 -91 701 211 \nQ 384 513 384 1019 \nQ 384 1609 779 1909 \nQ 1175 2209 1959 2209 \nL 2766 2209 \nL 2766 2266 \nQ 2766 2663 2505 2880 \nQ 2244 3097 1772 3097 \nQ 1472 3097 1187 3025 \nQ 903 2953 641 2809 \nL 641 3341 \nQ 956 3463 1253 3523 \nQ 1550 3584 1831 3584 \nQ 2591 3584 2966 3190 \nQ 3341 2797 3341 1997 \nz\n\" transform=\"scale(0.015625)\"/>\n       <path id=\"DejaVuSans-69\" d=\"M 603 3500 \nL 1178 3500 \nL 1178 0 \nL 603 0 \nL 603 3500 \nz\nM 603 4863 \nL 1178 4863 \nL 1178 4134 \nL 603 4134 \nL 603 4863 \nz\n\" transform=\"scale(0.015625)\"/>\n       <path id=\"DejaVuSans-6e\" d=\"M 3513 2113 \nL 3513 0 \nL 2938 0 \nL 2938 2094 \nQ 2938 2591 2744 2837 \nQ 2550 3084 2163 3084 \nQ 1697 3084 1428 2787 \nQ 1159 2491 1159 1978 \nL 1159 0 \nL 581 0 \nL 581 3500 \nL 1159 3500 \nL 1159 2956 \nQ 1366 3272 1645 3428 \nQ 1925 3584 2291 3584 \nQ 2894 3584 3203 3211 \nQ 3513 2838 3513 2113 \nz\n\" transform=\"scale(0.015625)\"/>\n       <path id=\"DejaVuSans-5f\" d=\"M 3263 -1063 \nL 3263 -1509 \nL -63 -1509 \nL -63 -1063 \nL 3263 -1063 \nz\n\" transform=\"scale(0.015625)\"/>\n       <path id=\"DejaVuSans-6c\" d=\"M 603 4863 \nL 1178 4863 \nL 1178 0 \nL 603 0 \nL 603 4863 \nz\n\" transform=\"scale(0.015625)\"/>\n       <path id=\"DejaVuSans-73\" d=\"M 2834 3397 \nL 2834 2853 \nQ 2591 2978 2328 3040 \nQ 2066 3103 1784 3103 \nQ 1356 3103 1142 2972 \nQ 928 2841 928 2578 \nQ 928 2378 1081 2264 \nQ 1234 2150 1697 2047 \nL 1894 2003 \nQ 2506 1872 2764 1633 \nQ 3022 1394 3022 966 \nQ 3022 478 2636 193 \nQ 2250 -91 1575 -91 \nQ 1294 -91 989 -36 \nQ 684 19 347 128 \nL 347 722 \nQ 666 556 975 473 \nQ 1284 391 1588 391 \nQ 1994 391 2212 530 \nQ 2431 669 2431 922 \nQ 2431 1156 2273 1281 \nQ 2116 1406 1581 1522 \nL 1381 1569 \nQ 847 1681 609 1914 \nQ 372 2147 372 2553 \nQ 372 3047 722 3315 \nQ 1072 3584 1716 3584 \nQ 2034 3584 2315 3537 \nQ 2597 3491 2834 3397 \nz\n\" transform=\"scale(0.015625)\"/>\n      </defs>\n      <use xlink:href=\"#DejaVuSans-74\"/>\n      <use xlink:href=\"#DejaVuSans-72\" x=\"39.208984\"/>\n      <use xlink:href=\"#DejaVuSans-61\" x=\"80.322266\"/>\n      <use xlink:href=\"#DejaVuSans-69\" x=\"141.601562\"/>\n      <use xlink:href=\"#DejaVuSans-6e\" x=\"169.384766\"/>\n      <use xlink:href=\"#DejaVuSans-5f\" x=\"232.763672\"/>\n      <use xlink:href=\"#DejaVuSans-6c\" x=\"282.763672\"/>\n      <use xlink:href=\"#DejaVuSans-6f\" x=\"310.546875\"/>\n      <use xlink:href=\"#DejaVuSans-73\" x=\"371.728516\"/>\n      <use xlink:href=\"#DejaVuSans-73\" x=\"423.828125\"/>\n     </g>\n    </g>\n    <g id=\"line2d_128\">\n     <path d=\"M 140.8125 35.254688 \nL 150.8125 35.254688 \nL 160.8125 35.254688 \n\" style=\"fill: none; stroke-dasharray: 5.55,2.4; stroke-dashoffset: 0; stroke: #ff7f0e; stroke-width: 1.5\"/>\n    </g>\n    <g id=\"text_13\">\n     <!-- val_loss -->\n     <g transform=\"translate(168.8125 38.754688) scale(0.1 -0.1)\">\n      <defs>\n       <path id=\"DejaVuSans-76\" d=\"M 191 3500 \nL 800 3500 \nL 1894 563 \nL 2988 3500 \nL 3597 3500 \nL 2284 0 \nL 1503 0 \nL 191 3500 \nz\n\" transform=\"scale(0.015625)\"/>\n      </defs>\n      <use xlink:href=\"#DejaVuSans-76\"/>\n      <use xlink:href=\"#DejaVuSans-61\" x=\"59.179688\"/>\n      <use xlink:href=\"#DejaVuSans-6c\" x=\"120.458984\"/>\n      <use xlink:href=\"#DejaVuSans-5f\" x=\"148.242188\"/>\n      <use xlink:href=\"#DejaVuSans-6c\" x=\"198.242188\"/>\n      <use xlink:href=\"#DejaVuSans-6f\" x=\"226.025391\"/>\n      <use xlink:href=\"#DejaVuSans-73\" x=\"287.207031\"/>\n      <use xlink:href=\"#DejaVuSans-73\" x=\"339.306641\"/>\n     </g>\n    </g>\n    <g id=\"line2d_129\">\n     <path d=\"M 140.8125 50.210938 \nL 150.8125 50.210938 \nL 160.8125 50.210938 \n\" style=\"fill: none; stroke-dasharray: 9.6,2.4,1.5,2.4; stroke-dashoffset: 0; stroke: #2ca02c; stroke-width: 1.5\"/>\n    </g>\n    <g id=\"text_14\">\n     <!-- val_acc -->\n     <g transform=\"translate(168.8125 53.710938) scale(0.1 -0.1)\">\n      <use xlink:href=\"#DejaVuSans-76\"/>\n      <use xlink:href=\"#DejaVuSans-61\" x=\"59.179688\"/>\n      <use xlink:href=\"#DejaVuSans-6c\" x=\"120.458984\"/>\n      <use xlink:href=\"#DejaVuSans-5f\" x=\"148.242188\"/>\n      <use xlink:href=\"#DejaVuSans-61\" x=\"198.242188\"/>\n      <use xlink:href=\"#DejaVuSans-63\" x=\"259.521484\"/>\n      <use xlink:href=\"#DejaVuSans-63\" x=\"314.501953\"/>\n     </g>\n    </g>\n   </g>\n  </g>\n </g>\n <defs>\n  <clipPath id=\"p17309ea81b\">\n   <rect x=\"30.103125\" y=\"7.2\" width=\"195.3\" height=\"138.6\"/>\n  </clipPath>\n </defs>\n</svg>\n"
          },
          "metadata": {}
        }
      ],
      "source": [
        "model = VGG(arch=((1, 16), (1, 32), (2, 64), (2, 128), (2, 128)), lr=0.01)\n",
        "trainer = d2l.Trainer(max_epochs=10, num_gpus=1)\n",
        "data = d2l.FashionMNIST(batch_size=128, resize=(224, 224))\n",
        "model.apply_init([next(iter(data.get_dataloader(True)))[0]], d2l.init_cnn)\n",
        "trainer.fit(model, data)"
      ]
    },
    {
      "cell_type": "markdown",
      "id": "Bw0AzcqtXv72",
      "metadata": {
        "id": "Bw0AzcqtXv72"
      },
      "source": [
        "## Exercises\n",
        "\n",
        "\n",
        "1. Compared with AlexNet, VGG is much slower in terms of computation, and it also needs more GPU memory.\n",
        "    1. Compare the number of parameters needed for AlexNet and VGG.\n",
        "    1. Compare the number of floating point operations used in the convolutional layers and in the fully connected layers.\n",
        "    1. How could you reduce the computational cost created by the fully connected layers?\n",
        "1. When displaying the dimensions associated with the various layers of the network, we only see the information associated with eight blocks (plus some auxiliary transforms), even though the network has 11 layers. Where did the remaining three layers go?\n",
        "1. Use Table 1 in the VGG paper :cite:`Simonyan.Zisserman.2014` to construct other common models, such as VGG-16 or VGG-19.\n",
        "1. Upsampling the resolution in Fashion-MNIST eight-fold from $28 \\times 28$ to $224 \\times 224$ dimensions is very wasteful. Try modifying the network architecture and resolution conversion, e.g., to 56 or to 84 dimensions for its input instead. Can you do so without reducing the accuracy of the network? Consult the VGG paper :cite:`Simonyan.Zisserman.2014` for ideas on adding more nonlinearities prior to downsampling."
      ]
    },
    {
      "cell_type": "markdown",
      "id": "FeV9v0yqXxpg",
      "metadata": {
        "id": "FeV9v0yqXxpg"
      },
      "source": [
        "# 8.3 Network in Network (NiN)"
      ]
    },
    {
      "cell_type": "code",
      "execution_count": 11,
      "id": "3mvhnbe7Y5WE",
      "metadata": {
        "id": "3mvhnbe7Y5WE"
      },
      "outputs": [],
      "source": [
        "import torch\n",
        "from torch import nn\n",
        "from torch.nn import functional as F\n",
        "from d2l import torch as d2l"
      ]
    },
    {
      "cell_type": "code",
      "execution_count": 12,
      "id": "538cefc3",
      "metadata": {
        "id": "538cefc3"
      },
      "outputs": [],
      "source": [
        "def nin_block(out_channels, kernel_size, strides, padding):\n",
        "    return nn.Sequential(\n",
        "        nn.LazyConv2d(out_channels, kernel_size, strides, padding), nn.ReLU(),\n",
        "        nn.LazyConv2d(out_channels, kernel_size=1), nn.ReLU(),\n",
        "        nn.LazyConv2d(out_channels, kernel_size=1), nn.ReLU())"
      ]
    },
    {
      "cell_type": "markdown",
      "id": "YFBq8EUcYOPY",
      "metadata": {
        "id": "YFBq8EUcYOPY"
      },
      "source": [
        "## [**NiN Model**]"
      ]
    },
    {
      "cell_type": "code",
      "execution_count": 13,
      "id": "200542dc",
      "metadata": {
        "id": "200542dc"
      },
      "outputs": [],
      "source": [
        "class NiN(d2l.Classifier):\n",
        "    def __init__(self, lr=0.1, num_classes=10):\n",
        "        super().__init__()\n",
        "        self.save_hyperparameters()\n",
        "        self.net = nn.Sequential(\n",
        "            nin_block(96, kernel_size=11, strides=4, padding=0),\n",
        "            nn.MaxPool2d(3, stride=2),\n",
        "            nin_block(256, kernel_size=5, strides=1, padding=2),\n",
        "            nn.MaxPool2d(3, stride=2),\n",
        "            nin_block(384, kernel_size=3, strides=1, padding=1),\n",
        "            nn.MaxPool2d(3, stride=2),\n",
        "            nn.Dropout(0.5),\n",
        "            nin_block(num_classes, kernel_size=3, strides=1, padding=1),\n",
        "            nn.AdaptiveAvgPool2d((1, 1)),\n",
        "            nn.Flatten())\n",
        "        self.net.apply(d2l.init_cnn)"
      ]
    },
    {
      "cell_type": "code",
      "execution_count": 14,
      "id": "c0a1fe2c",
      "metadata": {
        "colab": {
          "base_uri": "https://localhost:8080/"
        },
        "id": "c0a1fe2c",
        "outputId": "ded0da73-3509-46cb-ef77-ebf10e2b60ad"
      },
      "outputs": [
        {
          "output_type": "stream",
          "name": "stdout",
          "text": [
            "Sequential output shape:\t torch.Size([1, 96, 54, 54])\n",
            "MaxPool2d output shape:\t torch.Size([1, 96, 26, 26])\n",
            "Sequential output shape:\t torch.Size([1, 256, 26, 26])\n",
            "MaxPool2d output shape:\t torch.Size([1, 256, 12, 12])\n",
            "Sequential output shape:\t torch.Size([1, 384, 12, 12])\n",
            "MaxPool2d output shape:\t torch.Size([1, 384, 5, 5])\n",
            "Dropout output shape:\t torch.Size([1, 384, 5, 5])\n",
            "Sequential output shape:\t torch.Size([1, 10, 5, 5])\n",
            "AdaptiveAvgPool2d output shape:\t torch.Size([1, 10, 1, 1])\n",
            "Flatten output shape:\t torch.Size([1, 10])\n"
          ]
        }
      ],
      "source": [
        "NiN().layer_summary((1, 1, 224, 224))"
      ]
    },
    {
      "cell_type": "markdown",
      "id": "5y4pOHbdYh35",
      "metadata": {
        "id": "5y4pOHbdYh35"
      },
      "source": [
        "## [**Training**]"
      ]
    },
    {
      "cell_type": "code",
      "execution_count": 15,
      "id": "111948ca",
      "metadata": {
        "colab": {
          "base_uri": "https://localhost:8080/",
          "height": 265
        },
        "id": "111948ca",
        "outputId": "6a9687f5-7a1c-4ac4-d217-ff63b4a0cef7"
      },
      "outputs": [
        {
          "output_type": "display_data",
          "data": {
            "text/plain": [
              "<Figure size 350x250 with 1 Axes>"
            ],
            "image/svg+xml": "<?xml version=\"1.0\" encoding=\"utf-8\" standalone=\"no\"?>\n<!DOCTYPE svg PUBLIC \"-//W3C//DTD SVG 1.1//EN\"\n  \"http://www.w3.org/Graphics/SVG/1.1/DTD/svg11.dtd\">\n<svg xmlns:xlink=\"http://www.w3.org/1999/xlink\" width=\"238.965625pt\" height=\"183.35625pt\" viewBox=\"0 0 238.965625 183.35625\" xmlns=\"http://www.w3.org/2000/svg\" version=\"1.1\">\n <metadata>\n  <rdf:RDF xmlns:dc=\"http://purl.org/dc/elements/1.1/\" xmlns:cc=\"http://creativecommons.org/ns#\" xmlns:rdf=\"http://www.w3.org/1999/02/22-rdf-syntax-ns#\">\n   <cc:Work>\n    <dc:type rdf:resource=\"http://purl.org/dc/dcmitype/StillImage\"/>\n    <dc:date>2024-10-05T14:24:42.466075</dc:date>\n    <dc:format>image/svg+xml</dc:format>\n    <dc:creator>\n     <cc:Agent>\n      <dc:title>Matplotlib v3.7.2, https://matplotlib.org/</dc:title>\n     </cc:Agent>\n    </dc:creator>\n   </cc:Work>\n  </rdf:RDF>\n </metadata>\n <defs>\n  <style type=\"text/css\">*{stroke-linejoin: round; stroke-linecap: butt}</style>\n </defs>\n <g id=\"figure_1\">\n  <g id=\"patch_1\">\n   <path d=\"M 0 183.35625 \nL 238.965625 183.35625 \nL 238.965625 0 \nL 0 0 \nz\n\" style=\"fill: #ffffff\"/>\n  </g>\n  <g id=\"axes_1\">\n   <g id=\"patch_2\">\n    <path d=\"M 30.103125 145.8 \nL 225.403125 145.8 \nL 225.403125 7.2 \nL 30.103125 7.2 \nz\n\" style=\"fill: #ffffff\"/>\n   </g>\n   <g id=\"matplotlib.axis_1\">\n    <g id=\"xtick_1\">\n     <g id=\"line2d_1\">\n      <defs>\n       <path id=\"mcdd407c8e2\" d=\"M 0 0 \nL 0 3.5 \n\" style=\"stroke: #000000; stroke-width: 0.8\"/>\n      </defs>\n      <g>\n       <use xlink:href=\"#mcdd407c8e2\" x=\"30.103125\" y=\"145.8\" style=\"stroke: #000000; stroke-width: 0.8\"/>\n      </g>\n     </g>\n     <g id=\"text_1\">\n      <!-- 0 -->\n      <g transform=\"translate(26.921875 160.398438) scale(0.1 -0.1)\">\n       <defs>\n        <path id=\"DejaVuSans-30\" d=\"M 2034 4250 \nQ 1547 4250 1301 3770 \nQ 1056 3291 1056 2328 \nQ 1056 1369 1301 889 \nQ 1547 409 2034 409 \nQ 2525 409 2770 889 \nQ 3016 1369 3016 2328 \nQ 3016 3291 2770 3770 \nQ 2525 4250 2034 4250 \nz\nM 2034 4750 \nQ 2819 4750 3233 4129 \nQ 3647 3509 3647 2328 \nQ 3647 1150 3233 529 \nQ 2819 -91 2034 -91 \nQ 1250 -91 836 529 \nQ 422 1150 422 2328 \nQ 422 3509 836 4129 \nQ 1250 4750 2034 4750 \nz\n\" transform=\"scale(0.015625)\"/>\n       </defs>\n       <use xlink:href=\"#DejaVuSans-30\"/>\n      </g>\n     </g>\n    </g>\n    <g id=\"xtick_2\">\n     <g id=\"line2d_2\">\n      <g>\n       <use xlink:href=\"#mcdd407c8e2\" x=\"69.163125\" y=\"145.8\" style=\"stroke: #000000; stroke-width: 0.8\"/>\n      </g>\n     </g>\n     <g id=\"text_2\">\n      <!-- 2 -->\n      <g transform=\"translate(65.981875 160.398438) scale(0.1 -0.1)\">\n       <defs>\n        <path id=\"DejaVuSans-32\" d=\"M 1228 531 \nL 3431 531 \nL 3431 0 \nL 469 0 \nL 469 531 \nQ 828 903 1448 1529 \nQ 2069 2156 2228 2338 \nQ 2531 2678 2651 2914 \nQ 2772 3150 2772 3378 \nQ 2772 3750 2511 3984 \nQ 2250 4219 1831 4219 \nQ 1534 4219 1204 4116 \nQ 875 4013 500 3803 \nL 500 4441 \nQ 881 4594 1212 4672 \nQ 1544 4750 1819 4750 \nQ 2544 4750 2975 4387 \nQ 3406 4025 3406 3419 \nQ 3406 3131 3298 2873 \nQ 3191 2616 2906 2266 \nQ 2828 2175 2409 1742 \nQ 1991 1309 1228 531 \nz\n\" transform=\"scale(0.015625)\"/>\n       </defs>\n       <use xlink:href=\"#DejaVuSans-32\"/>\n      </g>\n     </g>\n    </g>\n    <g id=\"xtick_3\">\n     <g id=\"line2d_3\">\n      <g>\n       <use xlink:href=\"#mcdd407c8e2\" x=\"108.223125\" y=\"145.8\" style=\"stroke: #000000; stroke-width: 0.8\"/>\n      </g>\n     </g>\n     <g id=\"text_3\">\n      <!-- 4 -->\n      <g transform=\"translate(105.041875 160.398438) scale(0.1 -0.1)\">\n       <defs>\n        <path id=\"DejaVuSans-34\" d=\"M 2419 4116 \nL 825 1625 \nL 2419 1625 \nL 2419 4116 \nz\nM 2253 4666 \nL 3047 4666 \nL 3047 1625 \nL 3713 1625 \nL 3713 1100 \nL 3047 1100 \nL 3047 0 \nL 2419 0 \nL 2419 1100 \nL 313 1100 \nL 313 1709 \nL 2253 4666 \nz\n\" transform=\"scale(0.015625)\"/>\n       </defs>\n       <use xlink:href=\"#DejaVuSans-34\"/>\n      </g>\n     </g>\n    </g>\n    <g id=\"xtick_4\">\n     <g id=\"line2d_4\">\n      <g>\n       <use xlink:href=\"#mcdd407c8e2\" x=\"147.283125\" y=\"145.8\" style=\"stroke: #000000; stroke-width: 0.8\"/>\n      </g>\n     </g>\n     <g id=\"text_4\">\n      <!-- 6 -->\n      <g transform=\"translate(144.101875 160.398438) scale(0.1 -0.1)\">\n       <defs>\n        <path id=\"DejaVuSans-36\" d=\"M 2113 2584 \nQ 1688 2584 1439 2293 \nQ 1191 2003 1191 1497 \nQ 1191 994 1439 701 \nQ 1688 409 2113 409 \nQ 2538 409 2786 701 \nQ 3034 994 3034 1497 \nQ 3034 2003 2786 2293 \nQ 2538 2584 2113 2584 \nz\nM 3366 4563 \nL 3366 3988 \nQ 3128 4100 2886 4159 \nQ 2644 4219 2406 4219 \nQ 1781 4219 1451 3797 \nQ 1122 3375 1075 2522 \nQ 1259 2794 1537 2939 \nQ 1816 3084 2150 3084 \nQ 2853 3084 3261 2657 \nQ 3669 2231 3669 1497 \nQ 3669 778 3244 343 \nQ 2819 -91 2113 -91 \nQ 1303 -91 875 529 \nQ 447 1150 447 2328 \nQ 447 3434 972 4092 \nQ 1497 4750 2381 4750 \nQ 2619 4750 2861 4703 \nQ 3103 4656 3366 4563 \nz\n\" transform=\"scale(0.015625)\"/>\n       </defs>\n       <use xlink:href=\"#DejaVuSans-36\"/>\n      </g>\n     </g>\n    </g>\n    <g id=\"xtick_5\">\n     <g id=\"line2d_5\">\n      <g>\n       <use xlink:href=\"#mcdd407c8e2\" x=\"186.343125\" y=\"145.8\" style=\"stroke: #000000; stroke-width: 0.8\"/>\n      </g>\n     </g>\n     <g id=\"text_5\">\n      <!-- 8 -->\n      <g transform=\"translate(183.161875 160.398438) scale(0.1 -0.1)\">\n       <defs>\n        <path id=\"DejaVuSans-38\" d=\"M 2034 2216 \nQ 1584 2216 1326 1975 \nQ 1069 1734 1069 1313 \nQ 1069 891 1326 650 \nQ 1584 409 2034 409 \nQ 2484 409 2743 651 \nQ 3003 894 3003 1313 \nQ 3003 1734 2745 1975 \nQ 2488 2216 2034 2216 \nz\nM 1403 2484 \nQ 997 2584 770 2862 \nQ 544 3141 544 3541 \nQ 544 4100 942 4425 \nQ 1341 4750 2034 4750 \nQ 2731 4750 3128 4425 \nQ 3525 4100 3525 3541 \nQ 3525 3141 3298 2862 \nQ 3072 2584 2669 2484 \nQ 3125 2378 3379 2068 \nQ 3634 1759 3634 1313 \nQ 3634 634 3220 271 \nQ 2806 -91 2034 -91 \nQ 1263 -91 848 271 \nQ 434 634 434 1313 \nQ 434 1759 690 2068 \nQ 947 2378 1403 2484 \nz\nM 1172 3481 \nQ 1172 3119 1398 2916 \nQ 1625 2713 2034 2713 \nQ 2441 2713 2670 2916 \nQ 2900 3119 2900 3481 \nQ 2900 3844 2670 4047 \nQ 2441 4250 2034 4250 \nQ 1625 4250 1398 4047 \nQ 1172 3844 1172 3481 \nz\n\" transform=\"scale(0.015625)\"/>\n       </defs>\n       <use xlink:href=\"#DejaVuSans-38\"/>\n      </g>\n     </g>\n    </g>\n    <g id=\"xtick_6\">\n     <g id=\"line2d_6\">\n      <g>\n       <use xlink:href=\"#mcdd407c8e2\" x=\"225.403125\" y=\"145.8\" style=\"stroke: #000000; stroke-width: 0.8\"/>\n      </g>\n     </g>\n     <g id=\"text_6\">\n      <!-- 10 -->\n      <g transform=\"translate(219.040625 160.398438) scale(0.1 -0.1)\">\n       <defs>\n        <path id=\"DejaVuSans-31\" d=\"M 794 531 \nL 1825 531 \nL 1825 4091 \nL 703 3866 \nL 703 4441 \nL 1819 4666 \nL 2450 4666 \nL 2450 531 \nL 3481 531 \nL 3481 0 \nL 794 0 \nL 794 531 \nz\n\" transform=\"scale(0.015625)\"/>\n       </defs>\n       <use xlink:href=\"#DejaVuSans-31\"/>\n       <use xlink:href=\"#DejaVuSans-30\" x=\"63.623047\"/>\n      </g>\n     </g>\n    </g>\n    <g id=\"text_7\">\n     <!-- epoch -->\n     <g transform=\"translate(112.525 174.076563) scale(0.1 -0.1)\">\n      <defs>\n       <path id=\"DejaVuSans-65\" d=\"M 3597 1894 \nL 3597 1613 \nL 953 1613 \nQ 991 1019 1311 708 \nQ 1631 397 2203 397 \nQ 2534 397 2845 478 \nQ 3156 559 3463 722 \nL 3463 178 \nQ 3153 47 2828 -22 \nQ 2503 -91 2169 -91 \nQ 1331 -91 842 396 \nQ 353 884 353 1716 \nQ 353 2575 817 3079 \nQ 1281 3584 2069 3584 \nQ 2775 3584 3186 3129 \nQ 3597 2675 3597 1894 \nz\nM 3022 2063 \nQ 3016 2534 2758 2815 \nQ 2500 3097 2075 3097 \nQ 1594 3097 1305 2825 \nQ 1016 2553 972 2059 \nL 3022 2063 \nz\n\" transform=\"scale(0.015625)\"/>\n       <path id=\"DejaVuSans-70\" d=\"M 1159 525 \nL 1159 -1331 \nL 581 -1331 \nL 581 3500 \nL 1159 3500 \nL 1159 2969 \nQ 1341 3281 1617 3432 \nQ 1894 3584 2278 3584 \nQ 2916 3584 3314 3078 \nQ 3713 2572 3713 1747 \nQ 3713 922 3314 415 \nQ 2916 -91 2278 -91 \nQ 1894 -91 1617 61 \nQ 1341 213 1159 525 \nz\nM 3116 1747 \nQ 3116 2381 2855 2742 \nQ 2594 3103 2138 3103 \nQ 1681 3103 1420 2742 \nQ 1159 2381 1159 1747 \nQ 1159 1113 1420 752 \nQ 1681 391 2138 391 \nQ 2594 391 2855 752 \nQ 3116 1113 3116 1747 \nz\n\" transform=\"scale(0.015625)\"/>\n       <path id=\"DejaVuSans-6f\" d=\"M 1959 3097 \nQ 1497 3097 1228 2736 \nQ 959 2375 959 1747 \nQ 959 1119 1226 758 \nQ 1494 397 1959 397 \nQ 2419 397 2687 759 \nQ 2956 1122 2956 1747 \nQ 2956 2369 2687 2733 \nQ 2419 3097 1959 3097 \nz\nM 1959 3584 \nQ 2709 3584 3137 3096 \nQ 3566 2609 3566 1747 \nQ 3566 888 3137 398 \nQ 2709 -91 1959 -91 \nQ 1206 -91 779 398 \nQ 353 888 353 1747 \nQ 353 2609 779 3096 \nQ 1206 3584 1959 3584 \nz\n\" transform=\"scale(0.015625)\"/>\n       <path id=\"DejaVuSans-63\" d=\"M 3122 3366 \nL 3122 2828 \nQ 2878 2963 2633 3030 \nQ 2388 3097 2138 3097 \nQ 1578 3097 1268 2742 \nQ 959 2388 959 1747 \nQ 959 1106 1268 751 \nQ 1578 397 2138 397 \nQ 2388 397 2633 464 \nQ 2878 531 3122 666 \nL 3122 134 \nQ 2881 22 2623 -34 \nQ 2366 -91 2075 -91 \nQ 1284 -91 818 406 \nQ 353 903 353 1747 \nQ 353 2603 823 3093 \nQ 1294 3584 2113 3584 \nQ 2378 3584 2631 3529 \nQ 2884 3475 3122 3366 \nz\n\" transform=\"scale(0.015625)\"/>\n       <path id=\"DejaVuSans-68\" d=\"M 3513 2113 \nL 3513 0 \nL 2938 0 \nL 2938 2094 \nQ 2938 2591 2744 2837 \nQ 2550 3084 2163 3084 \nQ 1697 3084 1428 2787 \nQ 1159 2491 1159 1978 \nL 1159 0 \nL 581 0 \nL 581 4863 \nL 1159 4863 \nL 1159 2956 \nQ 1366 3272 1645 3428 \nQ 1925 3584 2291 3584 \nQ 2894 3584 3203 3211 \nQ 3513 2838 3513 2113 \nz\n\" transform=\"scale(0.015625)\"/>\n      </defs>\n      <use xlink:href=\"#DejaVuSans-65\"/>\n      <use xlink:href=\"#DejaVuSans-70\" x=\"61.523438\"/>\n      <use xlink:href=\"#DejaVuSans-6f\" x=\"125\"/>\n      <use xlink:href=\"#DejaVuSans-63\" x=\"186.181641\"/>\n      <use xlink:href=\"#DejaVuSans-68\" x=\"241.162109\"/>\n     </g>\n    </g>\n   </g>\n   <g id=\"matplotlib.axis_2\">\n    <g id=\"ytick_1\">\n     <g id=\"line2d_7\">\n      <defs>\n       <path id=\"m7ec8c933e1\" d=\"M 0 0 \nL -3.5 0 \n\" style=\"stroke: #000000; stroke-width: 0.8\"/>\n      </defs>\n      <g>\n       <use xlink:href=\"#m7ec8c933e1\" x=\"30.103125\" y=\"117.325091\" style=\"stroke: #000000; stroke-width: 0.8\"/>\n      </g>\n     </g>\n     <g id=\"text_8\">\n      <!-- 0.5 -->\n      <g transform=\"translate(7.2 121.12431) scale(0.1 -0.1)\">\n       <defs>\n        <path id=\"DejaVuSans-2e\" d=\"M 684 794 \nL 1344 794 \nL 1344 0 \nL 684 0 \nL 684 794 \nz\n\" transform=\"scale(0.015625)\"/>\n        <path id=\"DejaVuSans-35\" d=\"M 691 4666 \nL 3169 4666 \nL 3169 4134 \nL 1269 4134 \nL 1269 2991 \nQ 1406 3038 1543 3061 \nQ 1681 3084 1819 3084 \nQ 2600 3084 3056 2656 \nQ 3513 2228 3513 1497 \nQ 3513 744 3044 326 \nQ 2575 -91 1722 -91 \nQ 1428 -91 1123 -41 \nQ 819 9 494 109 \nL 494 744 \nQ 775 591 1075 516 \nQ 1375 441 1709 441 \nQ 2250 441 2565 725 \nQ 2881 1009 2881 1497 \nQ 2881 1984 2565 2268 \nQ 2250 2553 1709 2553 \nQ 1456 2553 1204 2497 \nQ 953 2441 691 2322 \nL 691 4666 \nz\n\" transform=\"scale(0.015625)\"/>\n       </defs>\n       <use xlink:href=\"#DejaVuSans-30\"/>\n       <use xlink:href=\"#DejaVuSans-2e\" x=\"63.623047\"/>\n       <use xlink:href=\"#DejaVuSans-35\" x=\"95.410156\"/>\n      </g>\n     </g>\n    </g>\n    <g id=\"ytick_2\">\n     <g id=\"line2d_8\">\n      <g>\n       <use xlink:href=\"#m7ec8c933e1\" x=\"30.103125\" y=\"88.540408\" style=\"stroke: #000000; stroke-width: 0.8\"/>\n      </g>\n     </g>\n     <g id=\"text_9\">\n      <!-- 1.0 -->\n      <g transform=\"translate(7.2 92.339627) scale(0.1 -0.1)\">\n       <use xlink:href=\"#DejaVuSans-31\"/>\n       <use xlink:href=\"#DejaVuSans-2e\" x=\"63.623047\"/>\n       <use xlink:href=\"#DejaVuSans-30\" x=\"95.410156\"/>\n      </g>\n     </g>\n    </g>\n    <g id=\"ytick_3\">\n     <g id=\"line2d_9\">\n      <g>\n       <use xlink:href=\"#m7ec8c933e1\" x=\"30.103125\" y=\"59.755726\" style=\"stroke: #000000; stroke-width: 0.8\"/>\n      </g>\n     </g>\n     <g id=\"text_10\">\n      <!-- 1.5 -->\n      <g transform=\"translate(7.2 63.554944) scale(0.1 -0.1)\">\n       <use xlink:href=\"#DejaVuSans-31\"/>\n       <use xlink:href=\"#DejaVuSans-2e\" x=\"63.623047\"/>\n       <use xlink:href=\"#DejaVuSans-35\" x=\"95.410156\"/>\n      </g>\n     </g>\n    </g>\n    <g id=\"ytick_4\">\n     <g id=\"line2d_10\">\n      <g>\n       <use xlink:href=\"#m7ec8c933e1\" x=\"30.103125\" y=\"30.971043\" style=\"stroke: #000000; stroke-width: 0.8\"/>\n      </g>\n     </g>\n     <g id=\"text_11\">\n      <!-- 2.0 -->\n      <g transform=\"translate(7.2 34.770262) scale(0.1 -0.1)\">\n       <use xlink:href=\"#DejaVuSans-32\"/>\n       <use xlink:href=\"#DejaVuSans-2e\" x=\"63.623047\"/>\n       <use xlink:href=\"#DejaVuSans-30\" x=\"95.410156\"/>\n      </g>\n     </g>\n    </g>\n   </g>\n   <g id=\"line2d_11\">\n    <path d=\"M 34.954394 13.5 \n\" clip-path=\"url(#p1b9313a758)\" style=\"fill: none; stroke: #1f77b4; stroke-width: 1.5; stroke-linecap: square\"/>\n   </g>\n   <g id=\"line2d_12\">\n    <path d=\"M 34.954394 13.5 \nL 44.698573 21.335918 \n\" clip-path=\"url(#p1b9313a758)\" style=\"fill: none; stroke: #1f77b4; stroke-width: 1.5; stroke-linecap: square\"/>\n   </g>\n   <g id=\"line2d_13\">\n    <path d=\"M 34.954394 13.5 \nL 44.698573 21.335918 \n\" clip-path=\"url(#p1b9313a758)\" style=\"fill: none; stroke: #1f77b4; stroke-width: 1.5; stroke-linecap: square\"/>\n   </g>\n   <g id=\"line2d_14\">\n    <path d=\"M 49.633125 14.625899 \n\" clip-path=\"url(#p1b9313a758)\" style=\"fill: none; stroke-dasharray: 5.55,2.4; stroke-dashoffset: 0; stroke: #ff7f0e; stroke-width: 1.5\"/>\n   </g>\n   <g id=\"line2d_15\"/>\n   <g id=\"line2d_16\">\n    <path d=\"M 34.954394 13.5 \nL 44.698573 21.335918 \n\" clip-path=\"url(#p1b9313a758)\" style=\"fill: none; stroke: #1f77b4; stroke-width: 1.5; stroke-linecap: square\"/>\n   </g>\n   <g id=\"line2d_17\">\n    <path d=\"M 49.633125 14.625899 \n\" clip-path=\"url(#p1b9313a758)\" style=\"fill: none; stroke-dasharray: 5.55,2.4; stroke-dashoffset: 0; stroke: #ff7f0e; stroke-width: 1.5\"/>\n   </g>\n   <g id=\"line2d_18\">\n    <path d=\"M 49.633125 139.5 \n\" clip-path=\"url(#p1b9313a758)\" style=\"fill: none; stroke-dasharray: 9.6,2.4,1.5,2.4; stroke-dashoffset: 0; stroke: #2ca02c; stroke-width: 1.5\"/>\n   </g>\n   <g id=\"line2d_19\">\n    <path d=\"M 34.954394 13.5 \nL 44.698573 21.335918 \nL 54.442752 48.63853 \n\" clip-path=\"url(#p1b9313a758)\" style=\"fill: none; stroke: #1f77b4; stroke-width: 1.5; stroke-linecap: square\"/>\n   </g>\n   <g id=\"line2d_20\">\n    <path d=\"M 49.633125 14.625899 \n\" clip-path=\"url(#p1b9313a758)\" style=\"fill: none; stroke-dasharray: 5.55,2.4; stroke-dashoffset: 0; stroke: #ff7f0e; stroke-width: 1.5\"/>\n   </g>\n   <g id=\"line2d_21\">\n    <path d=\"M 49.633125 139.5 \n\" clip-path=\"url(#p1b9313a758)\" style=\"fill: none; stroke-dasharray: 9.6,2.4,1.5,2.4; stroke-dashoffset: 0; stroke: #2ca02c; stroke-width: 1.5\"/>\n   </g>\n   <g id=\"line2d_22\">\n    <path d=\"M 34.954394 13.5 \nL 44.698573 21.335918 \nL 54.442752 48.63853 \nL 64.186931 64.686193 \n\" clip-path=\"url(#p1b9313a758)\" style=\"fill: none; stroke: #1f77b4; stroke-width: 1.5; stroke-linecap: square\"/>\n   </g>\n   <g id=\"line2d_23\">\n    <path d=\"M 49.633125 14.625899 \n\" clip-path=\"url(#p1b9313a758)\" style=\"fill: none; stroke-dasharray: 5.55,2.4; stroke-dashoffset: 0; stroke: #ff7f0e; stroke-width: 1.5\"/>\n   </g>\n   <g id=\"line2d_24\">\n    <path d=\"M 49.633125 139.5 \n\" clip-path=\"url(#p1b9313a758)\" style=\"fill: none; stroke-dasharray: 9.6,2.4,1.5,2.4; stroke-dashoffset: 0; stroke: #2ca02c; stroke-width: 1.5\"/>\n   </g>\n   <g id=\"line2d_25\">\n    <path d=\"M 34.954394 13.5 \nL 44.698573 21.335918 \nL 54.442752 48.63853 \nL 64.186931 64.686193 \n\" clip-path=\"url(#p1b9313a758)\" style=\"fill: none; stroke: #1f77b4; stroke-width: 1.5; stroke-linecap: square\"/>\n   </g>\n   <g id=\"line2d_26\">\n    <path d=\"M 49.633125 14.625899 \nL 69.163125 70.640858 \n\" clip-path=\"url(#p1b9313a758)\" style=\"fill: none; stroke-dasharray: 5.55,2.4; stroke-dashoffset: 0; stroke: #ff7f0e; stroke-width: 1.5\"/>\n   </g>\n   <g id=\"line2d_27\">\n    <path d=\"M 49.633125 139.5 \n\" clip-path=\"url(#p1b9313a758)\" style=\"fill: none; stroke-dasharray: 9.6,2.4,1.5,2.4; stroke-dashoffset: 0; stroke: #2ca02c; stroke-width: 1.5\"/>\n   </g>\n   <g id=\"line2d_28\">\n    <path d=\"M 34.954394 13.5 \nL 44.698573 21.335918 \nL 54.442752 48.63853 \nL 64.186931 64.686193 \n\" clip-path=\"url(#p1b9313a758)\" style=\"fill: none; stroke: #1f77b4; stroke-width: 1.5; stroke-linecap: square\"/>\n   </g>\n   <g id=\"line2d_29\">\n    <path d=\"M 49.633125 14.625899 \nL 69.163125 70.640858 \n\" clip-path=\"url(#p1b9313a758)\" style=\"fill: none; stroke-dasharray: 5.55,2.4; stroke-dashoffset: 0; stroke: #ff7f0e; stroke-width: 1.5\"/>\n   </g>\n   <g id=\"line2d_30\">\n    <path d=\"M 49.633125 139.5 \nL 69.163125 112.423269 \n\" clip-path=\"url(#p1b9313a758)\" style=\"fill: none; stroke-dasharray: 9.6,2.4,1.5,2.4; stroke-dashoffset: 0; stroke: #2ca02c; stroke-width: 1.5\"/>\n   </g>\n   <g id=\"line2d_31\">\n    <path d=\"M 34.954394 13.5 \nL 44.698573 21.335918 \nL 54.442752 48.63853 \nL 64.186931 64.686193 \nL 73.93111 73.897927 \n\" clip-path=\"url(#p1b9313a758)\" style=\"fill: none; stroke: #1f77b4; stroke-width: 1.5; stroke-linecap: square\"/>\n   </g>\n   <g id=\"line2d_32\">\n    <path d=\"M 49.633125 14.625899 \nL 69.163125 70.640858 \n\" clip-path=\"url(#p1b9313a758)\" style=\"fill: none; stroke-dasharray: 5.55,2.4; stroke-dashoffset: 0; stroke: #ff7f0e; stroke-width: 1.5\"/>\n   </g>\n   <g id=\"line2d_33\">\n    <path d=\"M 49.633125 139.5 \nL 69.163125 112.423269 \n\" clip-path=\"url(#p1b9313a758)\" style=\"fill: none; stroke-dasharray: 9.6,2.4,1.5,2.4; stroke-dashoffset: 0; stroke: #2ca02c; stroke-width: 1.5\"/>\n   </g>\n   <g id=\"line2d_34\">\n    <path d=\"M 34.954394 13.5 \nL 44.698573 21.335918 \nL 54.442752 48.63853 \nL 64.186931 64.686193 \nL 73.93111 73.897927 \nL 83.675289 79.985589 \n\" clip-path=\"url(#p1b9313a758)\" style=\"fill: none; stroke: #1f77b4; stroke-width: 1.5; stroke-linecap: square\"/>\n   </g>\n   <g id=\"line2d_35\">\n    <path d=\"M 49.633125 14.625899 \nL 69.163125 70.640858 \n\" clip-path=\"url(#p1b9313a758)\" style=\"fill: none; stroke-dasharray: 5.55,2.4; stroke-dashoffset: 0; stroke: #ff7f0e; stroke-width: 1.5\"/>\n   </g>\n   <g id=\"line2d_36\">\n    <path d=\"M 49.633125 139.5 \nL 69.163125 112.423269 \n\" clip-path=\"url(#p1b9313a758)\" style=\"fill: none; stroke-dasharray: 9.6,2.4,1.5,2.4; stroke-dashoffset: 0; stroke: #2ca02c; stroke-width: 1.5\"/>\n   </g>\n   <g id=\"line2d_37\">\n    <path d=\"M 34.954394 13.5 \nL 44.698573 21.335918 \nL 54.442752 48.63853 \nL 64.186931 64.686193 \nL 73.93111 73.897927 \nL 83.675289 79.985589 \n\" clip-path=\"url(#p1b9313a758)\" style=\"fill: none; stroke: #1f77b4; stroke-width: 1.5; stroke-linecap: square\"/>\n   </g>\n   <g id=\"line2d_38\">\n    <path d=\"M 49.633125 14.625899 \nL 69.163125 70.640858 \nL 88.693125 85.403008 \n\" clip-path=\"url(#p1b9313a758)\" style=\"fill: none; stroke-dasharray: 5.55,2.4; stroke-dashoffset: 0; stroke: #ff7f0e; stroke-width: 1.5\"/>\n   </g>\n   <g id=\"line2d_39\">\n    <path d=\"M 49.633125 139.5 \nL 69.163125 112.423269 \n\" clip-path=\"url(#p1b9313a758)\" style=\"fill: none; stroke-dasharray: 9.6,2.4,1.5,2.4; stroke-dashoffset: 0; stroke: #2ca02c; stroke-width: 1.5\"/>\n   </g>\n   <g id=\"line2d_40\">\n    <path d=\"M 34.954394 13.5 \nL 44.698573 21.335918 \nL 54.442752 48.63853 \nL 64.186931 64.686193 \nL 73.93111 73.897927 \nL 83.675289 79.985589 \n\" clip-path=\"url(#p1b9313a758)\" style=\"fill: none; stroke: #1f77b4; stroke-width: 1.5; stroke-linecap: square\"/>\n   </g>\n   <g id=\"line2d_41\">\n    <path d=\"M 49.633125 14.625899 \nL 69.163125 70.640858 \nL 88.693125 85.403008 \n\" clip-path=\"url(#p1b9313a758)\" style=\"fill: none; stroke-dasharray: 5.55,2.4; stroke-dashoffset: 0; stroke: #ff7f0e; stroke-width: 1.5\"/>\n   </g>\n   <g id=\"line2d_42\">\n    <path d=\"M 49.633125 139.5 \nL 69.163125 112.423269 \nL 88.693125 109.309104 \n\" clip-path=\"url(#p1b9313a758)\" style=\"fill: none; stroke-dasharray: 9.6,2.4,1.5,2.4; stroke-dashoffset: 0; stroke: #2ca02c; stroke-width: 1.5\"/>\n   </g>\n   <g id=\"line2d_43\">\n    <path d=\"M 34.954394 13.5 \nL 44.698573 21.335918 \nL 54.442752 48.63853 \nL 64.186931 64.686193 \nL 73.93111 73.897927 \nL 83.675289 79.985589 \nL 93.419468 84.249814 \n\" clip-path=\"url(#p1b9313a758)\" style=\"fill: none; stroke: #1f77b4; stroke-width: 1.5; stroke-linecap: square\"/>\n   </g>\n   <g id=\"line2d_44\">\n    <path d=\"M 49.633125 14.625899 \nL 69.163125 70.640858 \nL 88.693125 85.403008 \n\" clip-path=\"url(#p1b9313a758)\" style=\"fill: none; stroke-dasharray: 5.55,2.4; stroke-dashoffset: 0; stroke: #ff7f0e; stroke-width: 1.5\"/>\n   </g>\n   <g id=\"line2d_45\">\n    <path d=\"M 49.633125 139.5 \nL 69.163125 112.423269 \nL 88.693125 109.309104 \n\" clip-path=\"url(#p1b9313a758)\" style=\"fill: none; stroke-dasharray: 9.6,2.4,1.5,2.4; stroke-dashoffset: 0; stroke: #2ca02c; stroke-width: 1.5\"/>\n   </g>\n   <g id=\"line2d_46\">\n    <path d=\"M 34.954394 13.5 \nL 44.698573 21.335918 \nL 54.442752 48.63853 \nL 64.186931 64.686193 \nL 73.93111 73.897927 \nL 83.675289 79.985589 \nL 93.419468 84.249814 \nL 103.163647 87.415223 \n\" clip-path=\"url(#p1b9313a758)\" style=\"fill: none; stroke: #1f77b4; stroke-width: 1.5; stroke-linecap: square\"/>\n   </g>\n   <g id=\"line2d_47\">\n    <path d=\"M 49.633125 14.625899 \nL 69.163125 70.640858 \nL 88.693125 85.403008 \n\" clip-path=\"url(#p1b9313a758)\" style=\"fill: none; stroke-dasharray: 5.55,2.4; stroke-dashoffset: 0; stroke: #ff7f0e; stroke-width: 1.5\"/>\n   </g>\n   <g id=\"line2d_48\">\n    <path d=\"M 49.633125 139.5 \nL 69.163125 112.423269 \nL 88.693125 109.309104 \n\" clip-path=\"url(#p1b9313a758)\" style=\"fill: none; stroke-dasharray: 9.6,2.4,1.5,2.4; stroke-dashoffset: 0; stroke: #2ca02c; stroke-width: 1.5\"/>\n   </g>\n   <g id=\"line2d_49\">\n    <path d=\"M 34.954394 13.5 \nL 44.698573 21.335918 \nL 54.442752 48.63853 \nL 64.186931 64.686193 \nL 73.93111 73.897927 \nL 83.675289 79.985589 \nL 93.419468 84.249814 \nL 103.163647 87.415223 \n\" clip-path=\"url(#p1b9313a758)\" style=\"fill: none; stroke: #1f77b4; stroke-width: 1.5; stroke-linecap: square\"/>\n   </g>\n   <g id=\"line2d_50\">\n    <path d=\"M 49.633125 14.625899 \nL 69.163125 70.640858 \nL 88.693125 85.403008 \nL 108.223125 87.220048 \n\" clip-path=\"url(#p1b9313a758)\" style=\"fill: none; stroke-dasharray: 5.55,2.4; stroke-dashoffset: 0; stroke: #ff7f0e; stroke-width: 1.5\"/>\n   </g>\n   <g id=\"line2d_51\">\n    <path d=\"M 49.633125 139.5 \nL 69.163125 112.423269 \nL 88.693125 109.309104 \n\" clip-path=\"url(#p1b9313a758)\" style=\"fill: none; stroke-dasharray: 9.6,2.4,1.5,2.4; stroke-dashoffset: 0; stroke: #2ca02c; stroke-width: 1.5\"/>\n   </g>\n   <g id=\"line2d_52\">\n    <path d=\"M 34.954394 13.5 \nL 44.698573 21.335918 \nL 54.442752 48.63853 \nL 64.186931 64.686193 \nL 73.93111 73.897927 \nL 83.675289 79.985589 \nL 93.419468 84.249814 \nL 103.163647 87.415223 \n\" clip-path=\"url(#p1b9313a758)\" style=\"fill: none; stroke: #1f77b4; stroke-width: 1.5; stroke-linecap: square\"/>\n   </g>\n   <g id=\"line2d_53\">\n    <path d=\"M 49.633125 14.625899 \nL 69.163125 70.640858 \nL 88.693125 85.403008 \nL 108.223125 87.220048 \n\" clip-path=\"url(#p1b9313a758)\" style=\"fill: none; stroke-dasharray: 5.55,2.4; stroke-dashoffset: 0; stroke: #ff7f0e; stroke-width: 1.5\"/>\n   </g>\n   <g id=\"line2d_54\">\n    <path d=\"M 49.633125 139.5 \nL 69.163125 112.423269 \nL 88.693125 109.309104 \nL 108.223125 109.161081 \n\" clip-path=\"url(#p1b9313a758)\" style=\"fill: none; stroke-dasharray: 9.6,2.4,1.5,2.4; stroke-dashoffset: 0; stroke: #2ca02c; stroke-width: 1.5\"/>\n   </g>\n   <g id=\"line2d_55\">\n    <path d=\"M 34.954394 13.5 \nL 44.698573 21.335918 \nL 54.442752 48.63853 \nL 64.186931 64.686193 \nL 73.93111 73.897927 \nL 83.675289 79.985589 \nL 93.419468 84.249814 \nL 103.163647 87.415223 \nL 112.907826 95.085357 \n\" clip-path=\"url(#p1b9313a758)\" style=\"fill: none; stroke: #1f77b4; stroke-width: 1.5; stroke-linecap: square\"/>\n   </g>\n   <g id=\"line2d_56\">\n    <path d=\"M 49.633125 14.625899 \nL 69.163125 70.640858 \nL 88.693125 85.403008 \nL 108.223125 87.220048 \n\" clip-path=\"url(#p1b9313a758)\" style=\"fill: none; stroke-dasharray: 5.55,2.4; stroke-dashoffset: 0; stroke: #ff7f0e; stroke-width: 1.5\"/>\n   </g>\n   <g id=\"line2d_57\">\n    <path d=\"M 49.633125 139.5 \nL 69.163125 112.423269 \nL 88.693125 109.309104 \nL 108.223125 109.161081 \n\" clip-path=\"url(#p1b9313a758)\" style=\"fill: none; stroke-dasharray: 9.6,2.4,1.5,2.4; stroke-dashoffset: 0; stroke: #2ca02c; stroke-width: 1.5\"/>\n   </g>\n   <g id=\"line2d_58\">\n    <path d=\"M 34.954394 13.5 \nL 44.698573 21.335918 \nL 54.442752 48.63853 \nL 64.186931 64.686193 \nL 73.93111 73.897927 \nL 83.675289 79.985589 \nL 93.419468 84.249814 \nL 103.163647 87.415223 \nL 112.907826 95.085357 \nL 122.652006 99.778957 \n\" clip-path=\"url(#p1b9313a758)\" style=\"fill: none; stroke: #1f77b4; stroke-width: 1.5; stroke-linecap: square\"/>\n   </g>\n   <g id=\"line2d_59\">\n    <path d=\"M 49.633125 14.625899 \nL 69.163125 70.640858 \nL 88.693125 85.403008 \nL 108.223125 87.220048 \n\" clip-path=\"url(#p1b9313a758)\" style=\"fill: none; stroke-dasharray: 5.55,2.4; stroke-dashoffset: 0; stroke: #ff7f0e; stroke-width: 1.5\"/>\n   </g>\n   <g id=\"line2d_60\">\n    <path d=\"M 49.633125 139.5 \nL 69.163125 112.423269 \nL 88.693125 109.309104 \nL 108.223125 109.161081 \n\" clip-path=\"url(#p1b9313a758)\" style=\"fill: none; stroke-dasharray: 9.6,2.4,1.5,2.4; stroke-dashoffset: 0; stroke: #2ca02c; stroke-width: 1.5\"/>\n   </g>\n   <g id=\"line2d_61\">\n    <path d=\"M 34.954394 13.5 \nL 44.698573 21.335918 \nL 54.442752 48.63853 \nL 64.186931 64.686193 \nL 73.93111 73.897927 \nL 83.675289 79.985589 \nL 93.419468 84.249814 \nL 103.163647 87.415223 \nL 112.907826 95.085357 \nL 122.652006 99.778957 \n\" clip-path=\"url(#p1b9313a758)\" style=\"fill: none; stroke: #1f77b4; stroke-width: 1.5; stroke-linecap: square\"/>\n   </g>\n   <g id=\"line2d_62\">\n    <path d=\"M 49.633125 14.625899 \nL 69.163125 70.640858 \nL 88.693125 85.403008 \nL 108.223125 87.220048 \nL 127.753125 101.339794 \n\" clip-path=\"url(#p1b9313a758)\" style=\"fill: none; stroke-dasharray: 5.55,2.4; stroke-dashoffset: 0; stroke: #ff7f0e; stroke-width: 1.5\"/>\n   </g>\n   <g id=\"line2d_63\">\n    <path d=\"M 49.633125 139.5 \nL 69.163125 112.423269 \nL 88.693125 109.309104 \nL 108.223125 109.161081 \n\" clip-path=\"url(#p1b9313a758)\" style=\"fill: none; stroke-dasharray: 9.6,2.4,1.5,2.4; stroke-dashoffset: 0; stroke: #2ca02c; stroke-width: 1.5\"/>\n   </g>\n   <g id=\"line2d_64\">\n    <path d=\"M 34.954394 13.5 \nL 44.698573 21.335918 \nL 54.442752 48.63853 \nL 64.186931 64.686193 \nL 73.93111 73.897927 \nL 83.675289 79.985589 \nL 93.419468 84.249814 \nL 103.163647 87.415223 \nL 112.907826 95.085357 \nL 122.652006 99.778957 \n\" clip-path=\"url(#p1b9313a758)\" style=\"fill: none; stroke: #1f77b4; stroke-width: 1.5; stroke-linecap: square\"/>\n   </g>\n   <g id=\"line2d_65\">\n    <path d=\"M 49.633125 14.625899 \nL 69.163125 70.640858 \nL 88.693125 85.403008 \nL 108.223125 87.220048 \nL 127.753125 101.339794 \n\" clip-path=\"url(#p1b9313a758)\" style=\"fill: none; stroke-dasharray: 5.55,2.4; stroke-dashoffset: 0; stroke: #ff7f0e; stroke-width: 1.5\"/>\n   </g>\n   <g id=\"line2d_66\">\n    <path d=\"M 49.633125 139.5 \nL 69.163125 112.423269 \nL 88.693125 109.309104 \nL 108.223125 109.161081 \nL 127.753125 105.181553 \n\" clip-path=\"url(#p1b9313a758)\" style=\"fill: none; stroke-dasharray: 9.6,2.4,1.5,2.4; stroke-dashoffset: 0; stroke: #2ca02c; stroke-width: 1.5\"/>\n   </g>\n   <g id=\"line2d_67\">\n    <path d=\"M 34.954394 13.5 \nL 44.698573 21.335918 \nL 54.442752 48.63853 \nL 64.186931 64.686193 \nL 73.93111 73.897927 \nL 83.675289 79.985589 \nL 93.419468 84.249814 \nL 103.163647 87.415223 \nL 112.907826 95.085357 \nL 122.652006 99.778957 \nL 132.396185 103.341254 \n\" clip-path=\"url(#p1b9313a758)\" style=\"fill: none; stroke: #1f77b4; stroke-width: 1.5; stroke-linecap: square\"/>\n   </g>\n   <g id=\"line2d_68\">\n    <path d=\"M 49.633125 14.625899 \nL 69.163125 70.640858 \nL 88.693125 85.403008 \nL 108.223125 87.220048 \nL 127.753125 101.339794 \n\" clip-path=\"url(#p1b9313a758)\" style=\"fill: none; stroke-dasharray: 5.55,2.4; stroke-dashoffset: 0; stroke: #ff7f0e; stroke-width: 1.5\"/>\n   </g>\n   <g id=\"line2d_69\">\n    <path d=\"M 49.633125 139.5 \nL 69.163125 112.423269 \nL 88.693125 109.309104 \nL 108.223125 109.161081 \nL 127.753125 105.181553 \n\" clip-path=\"url(#p1b9313a758)\" style=\"fill: none; stroke-dasharray: 9.6,2.4,1.5,2.4; stroke-dashoffset: 0; stroke: #2ca02c; stroke-width: 1.5\"/>\n   </g>\n   <g id=\"line2d_70\">\n    <path d=\"M 34.954394 13.5 \nL 44.698573 21.335918 \nL 54.442752 48.63853 \nL 64.186931 64.686193 \nL 73.93111 73.897927 \nL 83.675289 79.985589 \nL 93.419468 84.249814 \nL 103.163647 87.415223 \nL 112.907826 95.085357 \nL 122.652006 99.778957 \nL 132.396185 103.341254 \nL 142.140364 105.2865 \n\" clip-path=\"url(#p1b9313a758)\" style=\"fill: none; stroke: #1f77b4; stroke-width: 1.5; stroke-linecap: square\"/>\n   </g>\n   <g id=\"line2d_71\">\n    <path d=\"M 49.633125 14.625899 \nL 69.163125 70.640858 \nL 88.693125 85.403008 \nL 108.223125 87.220048 \nL 127.753125 101.339794 \n\" clip-path=\"url(#p1b9313a758)\" style=\"fill: none; stroke-dasharray: 5.55,2.4; stroke-dashoffset: 0; stroke: #ff7f0e; stroke-width: 1.5\"/>\n   </g>\n   <g id=\"line2d_72\">\n    <path d=\"M 49.633125 139.5 \nL 69.163125 112.423269 \nL 88.693125 109.309104 \nL 108.223125 109.161081 \nL 127.753125 105.181553 \n\" clip-path=\"url(#p1b9313a758)\" style=\"fill: none; stroke-dasharray: 9.6,2.4,1.5,2.4; stroke-dashoffset: 0; stroke: #2ca02c; stroke-width: 1.5\"/>\n   </g>\n   <g id=\"line2d_73\">\n    <path d=\"M 34.954394 13.5 \nL 44.698573 21.335918 \nL 54.442752 48.63853 \nL 64.186931 64.686193 \nL 73.93111 73.897927 \nL 83.675289 79.985589 \nL 93.419468 84.249814 \nL 103.163647 87.415223 \nL 112.907826 95.085357 \nL 122.652006 99.778957 \nL 132.396185 103.341254 \nL 142.140364 105.2865 \n\" clip-path=\"url(#p1b9313a758)\" style=\"fill: none; stroke: #1f77b4; stroke-width: 1.5; stroke-linecap: square\"/>\n   </g>\n   <g id=\"line2d_74\">\n    <path d=\"M 49.633125 14.625899 \nL 69.163125 70.640858 \nL 88.693125 85.403008 \nL 108.223125 87.220048 \nL 127.753125 101.339794 \nL 147.283125 105.441341 \n\" clip-path=\"url(#p1b9313a758)\" style=\"fill: none; stroke-dasharray: 5.55,2.4; stroke-dashoffset: 0; stroke: #ff7f0e; stroke-width: 1.5\"/>\n   </g>\n   <g id=\"line2d_75\">\n    <path d=\"M 49.633125 139.5 \nL 69.163125 112.423269 \nL 88.693125 109.309104 \nL 108.223125 109.161081 \nL 127.753125 105.181553 \n\" clip-path=\"url(#p1b9313a758)\" style=\"fill: none; stroke-dasharray: 9.6,2.4,1.5,2.4; stroke-dashoffset: 0; stroke: #2ca02c; stroke-width: 1.5\"/>\n   </g>\n   <g id=\"line2d_76\">\n    <path d=\"M 34.954394 13.5 \nL 44.698573 21.335918 \nL 54.442752 48.63853 \nL 64.186931 64.686193 \nL 73.93111 73.897927 \nL 83.675289 79.985589 \nL 93.419468 84.249814 \nL 103.163647 87.415223 \nL 112.907826 95.085357 \nL 122.652006 99.778957 \nL 132.396185 103.341254 \nL 142.140364 105.2865 \n\" clip-path=\"url(#p1b9313a758)\" style=\"fill: none; stroke: #1f77b4; stroke-width: 1.5; stroke-linecap: square\"/>\n   </g>\n   <g id=\"line2d_77\">\n    <path d=\"M 49.633125 14.625899 \nL 69.163125 70.640858 \nL 88.693125 85.403008 \nL 108.223125 87.220048 \nL 127.753125 101.339794 \nL 147.283125 105.441341 \n\" clip-path=\"url(#p1b9313a758)\" style=\"fill: none; stroke-dasharray: 5.55,2.4; stroke-dashoffset: 0; stroke: #ff7f0e; stroke-width: 1.5\"/>\n   </g>\n   <g id=\"line2d_78\">\n    <path d=\"M 49.633125 139.5 \nL 69.163125 112.423269 \nL 88.693125 109.309104 \nL 108.223125 109.161081 \nL 127.753125 105.181553 \nL 147.283125 103.980294 \n\" clip-path=\"url(#p1b9313a758)\" style=\"fill: none; stroke-dasharray: 9.6,2.4,1.5,2.4; stroke-dashoffset: 0; stroke: #2ca02c; stroke-width: 1.5\"/>\n   </g>\n   <g id=\"line2d_79\">\n    <path d=\"M 34.954394 13.5 \nL 44.698573 21.335918 \nL 54.442752 48.63853 \nL 64.186931 64.686193 \nL 73.93111 73.897927 \nL 83.675289 79.985589 \nL 93.419468 84.249814 \nL 103.163647 87.415223 \nL 112.907826 95.085357 \nL 122.652006 99.778957 \nL 132.396185 103.341254 \nL 142.140364 105.2865 \nL 151.884543 106.288351 \n\" clip-path=\"url(#p1b9313a758)\" style=\"fill: none; stroke: #1f77b4; stroke-width: 1.5; stroke-linecap: square\"/>\n   </g>\n   <g id=\"line2d_80\">\n    <path d=\"M 49.633125 14.625899 \nL 69.163125 70.640858 \nL 88.693125 85.403008 \nL 108.223125 87.220048 \nL 127.753125 101.339794 \nL 147.283125 105.441341 \n\" clip-path=\"url(#p1b9313a758)\" style=\"fill: none; stroke-dasharray: 5.55,2.4; stroke-dashoffset: 0; stroke: #ff7f0e; stroke-width: 1.5\"/>\n   </g>\n   <g id=\"line2d_81\">\n    <path d=\"M 49.633125 139.5 \nL 69.163125 112.423269 \nL 88.693125 109.309104 \nL 108.223125 109.161081 \nL 127.753125 105.181553 \nL 147.283125 103.980294 \n\" clip-path=\"url(#p1b9313a758)\" style=\"fill: none; stroke-dasharray: 9.6,2.4,1.5,2.4; stroke-dashoffset: 0; stroke: #2ca02c; stroke-width: 1.5\"/>\n   </g>\n   <g id=\"line2d_82\">\n    <path d=\"M 34.954394 13.5 \nL 44.698573 21.335918 \nL 54.442752 48.63853 \nL 64.186931 64.686193 \nL 73.93111 73.897927 \nL 83.675289 79.985589 \nL 93.419468 84.249814 \nL 103.163647 87.415223 \nL 112.907826 95.085357 \nL 122.652006 99.778957 \nL 132.396185 103.341254 \nL 142.140364 105.2865 \nL 151.884543 106.288351 \nL 161.628722 107.537656 \n\" clip-path=\"url(#p1b9313a758)\" style=\"fill: none; stroke: #1f77b4; stroke-width: 1.5; stroke-linecap: square\"/>\n   </g>\n   <g id=\"line2d_83\">\n    <path d=\"M 49.633125 14.625899 \nL 69.163125 70.640858 \nL 88.693125 85.403008 \nL 108.223125 87.220048 \nL 127.753125 101.339794 \nL 147.283125 105.441341 \n\" clip-path=\"url(#p1b9313a758)\" style=\"fill: none; stroke-dasharray: 5.55,2.4; stroke-dashoffset: 0; stroke: #ff7f0e; stroke-width: 1.5\"/>\n   </g>\n   <g id=\"line2d_84\">\n    <path d=\"M 49.633125 139.5 \nL 69.163125 112.423269 \nL 88.693125 109.309104 \nL 108.223125 109.161081 \nL 127.753125 105.181553 \nL 147.283125 103.980294 \n\" clip-path=\"url(#p1b9313a758)\" style=\"fill: none; stroke-dasharray: 9.6,2.4,1.5,2.4; stroke-dashoffset: 0; stroke: #2ca02c; stroke-width: 1.5\"/>\n   </g>\n   <g id=\"line2d_85\">\n    <path d=\"M 34.954394 13.5 \nL 44.698573 21.335918 \nL 54.442752 48.63853 \nL 64.186931 64.686193 \nL 73.93111 73.897927 \nL 83.675289 79.985589 \nL 93.419468 84.249814 \nL 103.163647 87.415223 \nL 112.907826 95.085357 \nL 122.652006 99.778957 \nL 132.396185 103.341254 \nL 142.140364 105.2865 \nL 151.884543 106.288351 \nL 161.628722 107.537656 \n\" clip-path=\"url(#p1b9313a758)\" style=\"fill: none; stroke: #1f77b4; stroke-width: 1.5; stroke-linecap: square\"/>\n   </g>\n   <g id=\"line2d_86\">\n    <path d=\"M 49.633125 14.625899 \nL 69.163125 70.640858 \nL 88.693125 85.403008 \nL 108.223125 87.220048 \nL 127.753125 101.339794 \nL 147.283125 105.441341 \nL 166.813125 108.011648 \n\" clip-path=\"url(#p1b9313a758)\" style=\"fill: none; stroke-dasharray: 5.55,2.4; stroke-dashoffset: 0; stroke: #ff7f0e; stroke-width: 1.5\"/>\n   </g>\n   <g id=\"line2d_87\">\n    <path d=\"M 49.633125 139.5 \nL 69.163125 112.423269 \nL 88.693125 109.309104 \nL 108.223125 109.161081 \nL 127.753125 105.181553 \nL 147.283125 103.980294 \n\" clip-path=\"url(#p1b9313a758)\" style=\"fill: none; stroke-dasharray: 9.6,2.4,1.5,2.4; stroke-dashoffset: 0; stroke: #2ca02c; stroke-width: 1.5\"/>\n   </g>\n   <g id=\"line2d_88\">\n    <path d=\"M 34.954394 13.5 \nL 44.698573 21.335918 \nL 54.442752 48.63853 \nL 64.186931 64.686193 \nL 73.93111 73.897927 \nL 83.675289 79.985589 \nL 93.419468 84.249814 \nL 103.163647 87.415223 \nL 112.907826 95.085357 \nL 122.652006 99.778957 \nL 132.396185 103.341254 \nL 142.140364 105.2865 \nL 151.884543 106.288351 \nL 161.628722 107.537656 \n\" clip-path=\"url(#p1b9313a758)\" style=\"fill: none; stroke: #1f77b4; stroke-width: 1.5; stroke-linecap: square\"/>\n   </g>\n   <g id=\"line2d_89\">\n    <path d=\"M 49.633125 14.625899 \nL 69.163125 70.640858 \nL 88.693125 85.403008 \nL 108.223125 87.220048 \nL 127.753125 101.339794 \nL 147.283125 105.441341 \nL 166.813125 108.011648 \n\" clip-path=\"url(#p1b9313a758)\" style=\"fill: none; stroke-dasharray: 5.55,2.4; stroke-dashoffset: 0; stroke: #ff7f0e; stroke-width: 1.5\"/>\n   </g>\n   <g id=\"line2d_90\">\n    <path d=\"M 49.633125 139.5 \nL 69.163125 112.423269 \nL 88.693125 109.309104 \nL 108.223125 109.161081 \nL 127.753125 105.181553 \nL 147.283125 103.980294 \nL 166.813125 102.835966 \n\" clip-path=\"url(#p1b9313a758)\" style=\"fill: none; stroke-dasharray: 9.6,2.4,1.5,2.4; stroke-dashoffset: 0; stroke: #2ca02c; stroke-width: 1.5\"/>\n   </g>\n   <g id=\"line2d_91\">\n    <path d=\"M 34.954394 13.5 \nL 44.698573 21.335918 \nL 54.442752 48.63853 \nL 64.186931 64.686193 \nL 73.93111 73.897927 \nL 83.675289 79.985589 \nL 93.419468 84.249814 \nL 103.163647 87.415223 \nL 112.907826 95.085357 \nL 122.652006 99.778957 \nL 132.396185 103.341254 \nL 142.140364 105.2865 \nL 151.884543 106.288351 \nL 161.628722 107.537656 \nL 171.372901 108.393697 \n\" clip-path=\"url(#p1b9313a758)\" style=\"fill: none; stroke: #1f77b4; stroke-width: 1.5; stroke-linecap: square\"/>\n   </g>\n   <g id=\"line2d_92\">\n    <path d=\"M 49.633125 14.625899 \nL 69.163125 70.640858 \nL 88.693125 85.403008 \nL 108.223125 87.220048 \nL 127.753125 101.339794 \nL 147.283125 105.441341 \nL 166.813125 108.011648 \n\" clip-path=\"url(#p1b9313a758)\" style=\"fill: none; stroke-dasharray: 5.55,2.4; stroke-dashoffset: 0; stroke: #ff7f0e; stroke-width: 1.5\"/>\n   </g>\n   <g id=\"line2d_93\">\n    <path d=\"M 49.633125 139.5 \nL 69.163125 112.423269 \nL 88.693125 109.309104 \nL 108.223125 109.161081 \nL 127.753125 105.181553 \nL 147.283125 103.980294 \nL 166.813125 102.835966 \n\" clip-path=\"url(#p1b9313a758)\" style=\"fill: none; stroke-dasharray: 9.6,2.4,1.5,2.4; stroke-dashoffset: 0; stroke: #2ca02c; stroke-width: 1.5\"/>\n   </g>\n   <g id=\"line2d_94\">\n    <path d=\"M 34.954394 13.5 \nL 44.698573 21.335918 \nL 54.442752 48.63853 \nL 64.186931 64.686193 \nL 73.93111 73.897927 \nL 83.675289 79.985589 \nL 93.419468 84.249814 \nL 103.163647 87.415223 \nL 112.907826 95.085357 \nL 122.652006 99.778957 \nL 132.396185 103.341254 \nL 142.140364 105.2865 \nL 151.884543 106.288351 \nL 161.628722 107.537656 \nL 171.372901 108.393697 \nL 181.11708 109.186027 \n\" clip-path=\"url(#p1b9313a758)\" style=\"fill: none; stroke: #1f77b4; stroke-width: 1.5; stroke-linecap: square\"/>\n   </g>\n   <g id=\"line2d_95\">\n    <path d=\"M 49.633125 14.625899 \nL 69.163125 70.640858 \nL 88.693125 85.403008 \nL 108.223125 87.220048 \nL 127.753125 101.339794 \nL 147.283125 105.441341 \nL 166.813125 108.011648 \n\" clip-path=\"url(#p1b9313a758)\" style=\"fill: none; stroke-dasharray: 5.55,2.4; stroke-dashoffset: 0; stroke: #ff7f0e; stroke-width: 1.5\"/>\n   </g>\n   <g id=\"line2d_96\">\n    <path d=\"M 49.633125 139.5 \nL 69.163125 112.423269 \nL 88.693125 109.309104 \nL 108.223125 109.161081 \nL 127.753125 105.181553 \nL 147.283125 103.980294 \nL 166.813125 102.835966 \n\" clip-path=\"url(#p1b9313a758)\" style=\"fill: none; stroke-dasharray: 9.6,2.4,1.5,2.4; stroke-dashoffset: 0; stroke: #2ca02c; stroke-width: 1.5\"/>\n   </g>\n   <g id=\"line2d_97\">\n    <path d=\"M 34.954394 13.5 \nL 44.698573 21.335918 \nL 54.442752 48.63853 \nL 64.186931 64.686193 \nL 73.93111 73.897927 \nL 83.675289 79.985589 \nL 93.419468 84.249814 \nL 103.163647 87.415223 \nL 112.907826 95.085357 \nL 122.652006 99.778957 \nL 132.396185 103.341254 \nL 142.140364 105.2865 \nL 151.884543 106.288351 \nL 161.628722 107.537656 \nL 171.372901 108.393697 \nL 181.11708 109.186027 \n\" clip-path=\"url(#p1b9313a758)\" style=\"fill: none; stroke: #1f77b4; stroke-width: 1.5; stroke-linecap: square\"/>\n   </g>\n   <g id=\"line2d_98\">\n    <path d=\"M 49.633125 14.625899 \nL 69.163125 70.640858 \nL 88.693125 85.403008 \nL 108.223125 87.220048 \nL 127.753125 101.339794 \nL 147.283125 105.441341 \nL 166.813125 108.011648 \nL 186.343125 109.842584 \n\" clip-path=\"url(#p1b9313a758)\" style=\"fill: none; stroke-dasharray: 5.55,2.4; stroke-dashoffset: 0; stroke: #ff7f0e; stroke-width: 1.5\"/>\n   </g>\n   <g id=\"line2d_99\">\n    <path d=\"M 49.633125 139.5 \nL 69.163125 112.423269 \nL 88.693125 109.309104 \nL 108.223125 109.161081 \nL 127.753125 105.181553 \nL 147.283125 103.980294 \nL 166.813125 102.835966 \n\" clip-path=\"url(#p1b9313a758)\" style=\"fill: none; stroke-dasharray: 9.6,2.4,1.5,2.4; stroke-dashoffset: 0; stroke: #2ca02c; stroke-width: 1.5\"/>\n   </g>\n   <g id=\"line2d_100\">\n    <path d=\"M 34.954394 13.5 \nL 44.698573 21.335918 \nL 54.442752 48.63853 \nL 64.186931 64.686193 \nL 73.93111 73.897927 \nL 83.675289 79.985589 \nL 93.419468 84.249814 \nL 103.163647 87.415223 \nL 112.907826 95.085357 \nL 122.652006 99.778957 \nL 132.396185 103.341254 \nL 142.140364 105.2865 \nL 151.884543 106.288351 \nL 161.628722 107.537656 \nL 171.372901 108.393697 \nL 181.11708 109.186027 \n\" clip-path=\"url(#p1b9313a758)\" style=\"fill: none; stroke: #1f77b4; stroke-width: 1.5; stroke-linecap: square\"/>\n   </g>\n   <g id=\"line2d_101\">\n    <path d=\"M 49.633125 14.625899 \nL 69.163125 70.640858 \nL 88.693125 85.403008 \nL 108.223125 87.220048 \nL 127.753125 101.339794 \nL 147.283125 105.441341 \nL 166.813125 108.011648 \nL 186.343125 109.842584 \n\" clip-path=\"url(#p1b9313a758)\" style=\"fill: none; stroke-dasharray: 5.55,2.4; stroke-dashoffset: 0; stroke: #ff7f0e; stroke-width: 1.5\"/>\n   </g>\n   <g id=\"line2d_102\">\n    <path d=\"M 49.633125 139.5 \nL 69.163125 112.423269 \nL 88.693125 109.309104 \nL 108.223125 109.161081 \nL 127.753125 105.181553 \nL 147.283125 103.980294 \nL 166.813125 102.835966 \nL 186.343125 102.500069 \n\" clip-path=\"url(#p1b9313a758)\" style=\"fill: none; stroke-dasharray: 9.6,2.4,1.5,2.4; stroke-dashoffset: 0; stroke: #2ca02c; stroke-width: 1.5\"/>\n   </g>\n   <g id=\"line2d_103\">\n    <path d=\"M 34.954394 13.5 \nL 44.698573 21.335918 \nL 54.442752 48.63853 \nL 64.186931 64.686193 \nL 73.93111 73.897927 \nL 83.675289 79.985589 \nL 93.419468 84.249814 \nL 103.163647 87.415223 \nL 112.907826 95.085357 \nL 122.652006 99.778957 \nL 132.396185 103.341254 \nL 142.140364 105.2865 \nL 151.884543 106.288351 \nL 161.628722 107.537656 \nL 171.372901 108.393697 \nL 181.11708 109.186027 \nL 190.861259 110.321896 \n\" clip-path=\"url(#p1b9313a758)\" style=\"fill: none; stroke: #1f77b4; stroke-width: 1.5; stroke-linecap: square\"/>\n   </g>\n   <g id=\"line2d_104\">\n    <path d=\"M 49.633125 14.625899 \nL 69.163125 70.640858 \nL 88.693125 85.403008 \nL 108.223125 87.220048 \nL 127.753125 101.339794 \nL 147.283125 105.441341 \nL 166.813125 108.011648 \nL 186.343125 109.842584 \n\" clip-path=\"url(#p1b9313a758)\" style=\"fill: none; stroke-dasharray: 5.55,2.4; stroke-dashoffset: 0; stroke: #ff7f0e; stroke-width: 1.5\"/>\n   </g>\n   <g id=\"line2d_105\">\n    <path d=\"M 49.633125 139.5 \nL 69.163125 112.423269 \nL 88.693125 109.309104 \nL 108.223125 109.161081 \nL 127.753125 105.181553 \nL 147.283125 103.980294 \nL 166.813125 102.835966 \nL 186.343125 102.500069 \n\" clip-path=\"url(#p1b9313a758)\" style=\"fill: none; stroke-dasharray: 9.6,2.4,1.5,2.4; stroke-dashoffset: 0; stroke: #2ca02c; stroke-width: 1.5\"/>\n   </g>\n   <g id=\"line2d_106\">\n    <path d=\"M 34.954394 13.5 \nL 44.698573 21.335918 \nL 54.442752 48.63853 \nL 64.186931 64.686193 \nL 73.93111 73.897927 \nL 83.675289 79.985589 \nL 93.419468 84.249814 \nL 103.163647 87.415223 \nL 112.907826 95.085357 \nL 122.652006 99.778957 \nL 132.396185 103.341254 \nL 142.140364 105.2865 \nL 151.884543 106.288351 \nL 161.628722 107.537656 \nL 171.372901 108.393697 \nL 181.11708 109.186027 \nL 190.861259 110.321896 \nL 200.605438 110.558633 \n\" clip-path=\"url(#p1b9313a758)\" style=\"fill: none; stroke: #1f77b4; stroke-width: 1.5; stroke-linecap: square\"/>\n   </g>\n   <g id=\"line2d_107\">\n    <path d=\"M 49.633125 14.625899 \nL 69.163125 70.640858 \nL 88.693125 85.403008 \nL 108.223125 87.220048 \nL 127.753125 101.339794 \nL 147.283125 105.441341 \nL 166.813125 108.011648 \nL 186.343125 109.842584 \n\" clip-path=\"url(#p1b9313a758)\" style=\"fill: none; stroke-dasharray: 5.55,2.4; stroke-dashoffset: 0; stroke: #ff7f0e; stroke-width: 1.5\"/>\n   </g>\n   <g id=\"line2d_108\">\n    <path d=\"M 49.633125 139.5 \nL 69.163125 112.423269 \nL 88.693125 109.309104 \nL 108.223125 109.161081 \nL 127.753125 105.181553 \nL 147.283125 103.980294 \nL 166.813125 102.835966 \nL 186.343125 102.500069 \n\" clip-path=\"url(#p1b9313a758)\" style=\"fill: none; stroke-dasharray: 9.6,2.4,1.5,2.4; stroke-dashoffset: 0; stroke: #2ca02c; stroke-width: 1.5\"/>\n   </g>\n   <g id=\"line2d_109\">\n    <path d=\"M 34.954394 13.5 \nL 44.698573 21.335918 \nL 54.442752 48.63853 \nL 64.186931 64.686193 \nL 73.93111 73.897927 \nL 83.675289 79.985589 \nL 93.419468 84.249814 \nL 103.163647 87.415223 \nL 112.907826 95.085357 \nL 122.652006 99.778957 \nL 132.396185 103.341254 \nL 142.140364 105.2865 \nL 151.884543 106.288351 \nL 161.628722 107.537656 \nL 171.372901 108.393697 \nL 181.11708 109.186027 \nL 190.861259 110.321896 \nL 200.605438 110.558633 \n\" clip-path=\"url(#p1b9313a758)\" style=\"fill: none; stroke: #1f77b4; stroke-width: 1.5; stroke-linecap: square\"/>\n   </g>\n   <g id=\"line2d_110\">\n    <path d=\"M 49.633125 14.625899 \nL 69.163125 70.640858 \nL 88.693125 85.403008 \nL 108.223125 87.220048 \nL 127.753125 101.339794 \nL 147.283125 105.441341 \nL 166.813125 108.011648 \nL 186.343125 109.842584 \nL 205.873125 111.022468 \n\" clip-path=\"url(#p1b9313a758)\" style=\"fill: none; stroke-dasharray: 5.55,2.4; stroke-dashoffset: 0; stroke: #ff7f0e; stroke-width: 1.5\"/>\n   </g>\n   <g id=\"line2d_111\">\n    <path d=\"M 49.633125 139.5 \nL 69.163125 112.423269 \nL 88.693125 109.309104 \nL 108.223125 109.161081 \nL 127.753125 105.181553 \nL 147.283125 103.980294 \nL 166.813125 102.835966 \nL 186.343125 102.500069 \n\" clip-path=\"url(#p1b9313a758)\" style=\"fill: none; stroke-dasharray: 9.6,2.4,1.5,2.4; stroke-dashoffset: 0; stroke: #2ca02c; stroke-width: 1.5\"/>\n   </g>\n   <g id=\"line2d_112\">\n    <path d=\"M 34.954394 13.5 \nL 44.698573 21.335918 \nL 54.442752 48.63853 \nL 64.186931 64.686193 \nL 73.93111 73.897927 \nL 83.675289 79.985589 \nL 93.419468 84.249814 \nL 103.163647 87.415223 \nL 112.907826 95.085357 \nL 122.652006 99.778957 \nL 132.396185 103.341254 \nL 142.140364 105.2865 \nL 151.884543 106.288351 \nL 161.628722 107.537656 \nL 171.372901 108.393697 \nL 181.11708 109.186027 \nL 190.861259 110.321896 \nL 200.605438 110.558633 \n\" clip-path=\"url(#p1b9313a758)\" style=\"fill: none; stroke: #1f77b4; stroke-width: 1.5; stroke-linecap: square\"/>\n   </g>\n   <g id=\"line2d_113\">\n    <path d=\"M 49.633125 14.625899 \nL 69.163125 70.640858 \nL 88.693125 85.403008 \nL 108.223125 87.220048 \nL 127.753125 101.339794 \nL 147.283125 105.441341 \nL 166.813125 108.011648 \nL 186.343125 109.842584 \nL 205.873125 111.022468 \n\" clip-path=\"url(#p1b9313a758)\" style=\"fill: none; stroke-dasharray: 5.55,2.4; stroke-dashoffset: 0; stroke: #ff7f0e; stroke-width: 1.5\"/>\n   </g>\n   <g id=\"line2d_114\">\n    <path d=\"M 49.633125 139.5 \nL 69.163125 112.423269 \nL 88.693125 109.309104 \nL 108.223125 109.161081 \nL 127.753125 105.181553 \nL 147.283125 103.980294 \nL 166.813125 102.835966 \nL 186.343125 102.500069 \nL 205.873125 102.101547 \n\" clip-path=\"url(#p1b9313a758)\" style=\"fill: none; stroke-dasharray: 9.6,2.4,1.5,2.4; stroke-dashoffset: 0; stroke: #2ca02c; stroke-width: 1.5\"/>\n   </g>\n   <g id=\"line2d_115\">\n    <path d=\"M 34.954394 13.5 \nL 44.698573 21.335918 \nL 54.442752 48.63853 \nL 64.186931 64.686193 \nL 73.93111 73.897927 \nL 83.675289 79.985589 \nL 93.419468 84.249814 \nL 103.163647 87.415223 \nL 112.907826 95.085357 \nL 122.652006 99.778957 \nL 132.396185 103.341254 \nL 142.140364 105.2865 \nL 151.884543 106.288351 \nL 161.628722 107.537656 \nL 171.372901 108.393697 \nL 181.11708 109.186027 \nL 190.861259 110.321896 \nL 200.605438 110.558633 \nL 210.349618 111.448597 \n\" clip-path=\"url(#p1b9313a758)\" style=\"fill: none; stroke: #1f77b4; stroke-width: 1.5; stroke-linecap: square\"/>\n   </g>\n   <g id=\"line2d_116\">\n    <path d=\"M 49.633125 14.625899 \nL 69.163125 70.640858 \nL 88.693125 85.403008 \nL 108.223125 87.220048 \nL 127.753125 101.339794 \nL 147.283125 105.441341 \nL 166.813125 108.011648 \nL 186.343125 109.842584 \nL 205.873125 111.022468 \n\" clip-path=\"url(#p1b9313a758)\" style=\"fill: none; stroke-dasharray: 5.55,2.4; stroke-dashoffset: 0; stroke: #ff7f0e; stroke-width: 1.5\"/>\n   </g>\n   <g id=\"line2d_117\">\n    <path d=\"M 49.633125 139.5 \nL 69.163125 112.423269 \nL 88.693125 109.309104 \nL 108.223125 109.161081 \nL 127.753125 105.181553 \nL 147.283125 103.980294 \nL 166.813125 102.835966 \nL 186.343125 102.500069 \nL 205.873125 102.101547 \n\" clip-path=\"url(#p1b9313a758)\" style=\"fill: none; stroke-dasharray: 9.6,2.4,1.5,2.4; stroke-dashoffset: 0; stroke: #2ca02c; stroke-width: 1.5\"/>\n   </g>\n   <g id=\"line2d_118\">\n    <path d=\"M 34.954394 13.5 \nL 44.698573 21.335918 \nL 54.442752 48.63853 \nL 64.186931 64.686193 \nL 73.93111 73.897927 \nL 83.675289 79.985589 \nL 93.419468 84.249814 \nL 103.163647 87.415223 \nL 112.907826 95.085357 \nL 122.652006 99.778957 \nL 132.396185 103.341254 \nL 142.140364 105.2865 \nL 151.884543 106.288351 \nL 161.628722 107.537656 \nL 171.372901 108.393697 \nL 181.11708 109.186027 \nL 190.861259 110.321896 \nL 200.605438 110.558633 \nL 210.349618 111.448597 \nL 220.093797 111.492274 \n\" clip-path=\"url(#p1b9313a758)\" style=\"fill: none; stroke: #1f77b4; stroke-width: 1.5; stroke-linecap: square\"/>\n   </g>\n   <g id=\"line2d_119\">\n    <path d=\"M 49.633125 14.625899 \nL 69.163125 70.640858 \nL 88.693125 85.403008 \nL 108.223125 87.220048 \nL 127.753125 101.339794 \nL 147.283125 105.441341 \nL 166.813125 108.011648 \nL 186.343125 109.842584 \nL 205.873125 111.022468 \n\" clip-path=\"url(#p1b9313a758)\" style=\"fill: none; stroke-dasharray: 5.55,2.4; stroke-dashoffset: 0; stroke: #ff7f0e; stroke-width: 1.5\"/>\n   </g>\n   <g id=\"line2d_120\">\n    <path d=\"M 49.633125 139.5 \nL 69.163125 112.423269 \nL 88.693125 109.309104 \nL 108.223125 109.161081 \nL 127.753125 105.181553 \nL 147.283125 103.980294 \nL 166.813125 102.835966 \nL 186.343125 102.500069 \nL 205.873125 102.101547 \n\" clip-path=\"url(#p1b9313a758)\" style=\"fill: none; stroke-dasharray: 9.6,2.4,1.5,2.4; stroke-dashoffset: 0; stroke: #2ca02c; stroke-width: 1.5\"/>\n   </g>\n   <g id=\"line2d_121\">\n    <path d=\"M 34.954394 13.5 \nL 44.698573 21.335918 \nL 54.442752 48.63853 \nL 64.186931 64.686193 \nL 73.93111 73.897927 \nL 83.675289 79.985589 \nL 93.419468 84.249814 \nL 103.163647 87.415223 \nL 112.907826 95.085357 \nL 122.652006 99.778957 \nL 132.396185 103.341254 \nL 142.140364 105.2865 \nL 151.884543 106.288351 \nL 161.628722 107.537656 \nL 171.372901 108.393697 \nL 181.11708 109.186027 \nL 190.861259 110.321896 \nL 200.605438 110.558633 \nL 210.349618 111.448597 \nL 220.093797 111.492274 \n\" clip-path=\"url(#p1b9313a758)\" style=\"fill: none; stroke: #1f77b4; stroke-width: 1.5; stroke-linecap: square\"/>\n   </g>\n   <g id=\"line2d_122\">\n    <path d=\"M 49.633125 14.625899 \nL 69.163125 70.640858 \nL 88.693125 85.403008 \nL 108.223125 87.220048 \nL 127.753125 101.339794 \nL 147.283125 105.441341 \nL 166.813125 108.011648 \nL 186.343125 109.842584 \nL 205.873125 111.022468 \nL 225.403125 111.131295 \n\" clip-path=\"url(#p1b9313a758)\" style=\"fill: none; stroke-dasharray: 5.55,2.4; stroke-dashoffset: 0; stroke: #ff7f0e; stroke-width: 1.5\"/>\n   </g>\n   <g id=\"line2d_123\">\n    <path d=\"M 49.633125 139.5 \nL 69.163125 112.423269 \nL 88.693125 109.309104 \nL 108.223125 109.161081 \nL 127.753125 105.181553 \nL 147.283125 103.980294 \nL 166.813125 102.835966 \nL 186.343125 102.500069 \nL 205.873125 102.101547 \n\" clip-path=\"url(#p1b9313a758)\" style=\"fill: none; stroke-dasharray: 9.6,2.4,1.5,2.4; stroke-dashoffset: 0; stroke: #2ca02c; stroke-width: 1.5\"/>\n   </g>\n   <g id=\"line2d_124\">\n    <path d=\"M 34.954394 13.5 \nL 44.698573 21.335918 \nL 54.442752 48.63853 \nL 64.186931 64.686193 \nL 73.93111 73.897927 \nL 83.675289 79.985589 \nL 93.419468 84.249814 \nL 103.163647 87.415223 \nL 112.907826 95.085357 \nL 122.652006 99.778957 \nL 132.396185 103.341254 \nL 142.140364 105.2865 \nL 151.884543 106.288351 \nL 161.628722 107.537656 \nL 171.372901 108.393697 \nL 181.11708 109.186027 \nL 190.861259 110.321896 \nL 200.605438 110.558633 \nL 210.349618 111.448597 \nL 220.093797 111.492274 \n\" clip-path=\"url(#p1b9313a758)\" style=\"fill: none; stroke: #1f77b4; stroke-width: 1.5; stroke-linecap: square\"/>\n   </g>\n   <g id=\"line2d_125\">\n    <path d=\"M 49.633125 14.625899 \nL 69.163125 70.640858 \nL 88.693125 85.403008 \nL 108.223125 87.220048 \nL 127.753125 101.339794 \nL 147.283125 105.441341 \nL 166.813125 108.011648 \nL 186.343125 109.842584 \nL 205.873125 111.022468 \nL 225.403125 111.131295 \n\" clip-path=\"url(#p1b9313a758)\" style=\"fill: none; stroke-dasharray: 5.55,2.4; stroke-dashoffset: 0; stroke: #ff7f0e; stroke-width: 1.5\"/>\n   </g>\n   <g id=\"line2d_126\">\n    <path d=\"M 49.633125 139.5 \nL 69.163125 112.423269 \nL 88.693125 109.309104 \nL 108.223125 109.161081 \nL 127.753125 105.181553 \nL 147.283125 103.980294 \nL 166.813125 102.835966 \nL 186.343125 102.500069 \nL 205.873125 102.101547 \nL 225.403125 101.970604 \n\" clip-path=\"url(#p1b9313a758)\" style=\"fill: none; stroke-dasharray: 9.6,2.4,1.5,2.4; stroke-dashoffset: 0; stroke: #2ca02c; stroke-width: 1.5\"/>\n   </g>\n   <g id=\"patch_3\">\n    <path d=\"M 30.103125 145.8 \nL 30.103125 7.2 \n\" style=\"fill: none; stroke: #000000; stroke-width: 0.8; stroke-linejoin: miter; stroke-linecap: square\"/>\n   </g>\n   <g id=\"patch_4\">\n    <path d=\"M 225.403125 145.8 \nL 225.403125 7.2 \n\" style=\"fill: none; stroke: #000000; stroke-width: 0.8; stroke-linejoin: miter; stroke-linecap: square\"/>\n   </g>\n   <g id=\"patch_5\">\n    <path d=\"M 30.103125 145.8 \nL 225.403125 145.8 \n\" style=\"fill: none; stroke: #000000; stroke-width: 0.8; stroke-linejoin: miter; stroke-linecap: square\"/>\n   </g>\n   <g id=\"patch_6\">\n    <path d=\"M 30.103125 7.2 \nL 225.403125 7.2 \n\" style=\"fill: none; stroke: #000000; stroke-width: 0.8; stroke-linejoin: miter; stroke-linecap: square\"/>\n   </g>\n   <g id=\"legend_1\">\n    <g id=\"patch_7\">\n     <path d=\"M 138.8125 60.06875 \nL 218.403125 60.06875 \nQ 220.403125 60.06875 220.403125 58.06875 \nL 220.403125 14.2 \nQ 220.403125 12.2 218.403125 12.2 \nL 138.8125 12.2 \nQ 136.8125 12.2 136.8125 14.2 \nL 136.8125 58.06875 \nQ 136.8125 60.06875 138.8125 60.06875 \nz\n\" style=\"fill: #ffffff; opacity: 0.8; stroke: #cccccc; stroke-linejoin: miter\"/>\n    </g>\n    <g id=\"line2d_127\">\n     <path d=\"M 140.8125 20.298438 \nL 150.8125 20.298438 \nL 160.8125 20.298438 \n\" style=\"fill: none; stroke: #1f77b4; stroke-width: 1.5; stroke-linecap: square\"/>\n    </g>\n    <g id=\"text_12\">\n     <!-- train_loss -->\n     <g transform=\"translate(168.8125 23.798438) scale(0.1 -0.1)\">\n      <defs>\n       <path id=\"DejaVuSans-74\" d=\"M 1172 4494 \nL 1172 3500 \nL 2356 3500 \nL 2356 3053 \nL 1172 3053 \nL 1172 1153 \nQ 1172 725 1289 603 \nQ 1406 481 1766 481 \nL 2356 481 \nL 2356 0 \nL 1766 0 \nQ 1100 0 847 248 \nQ 594 497 594 1153 \nL 594 3053 \nL 172 3053 \nL 172 3500 \nL 594 3500 \nL 594 4494 \nL 1172 4494 \nz\n\" transform=\"scale(0.015625)\"/>\n       <path id=\"DejaVuSans-72\" d=\"M 2631 2963 \nQ 2534 3019 2420 3045 \nQ 2306 3072 2169 3072 \nQ 1681 3072 1420 2755 \nQ 1159 2438 1159 1844 \nL 1159 0 \nL 581 0 \nL 581 3500 \nL 1159 3500 \nL 1159 2956 \nQ 1341 3275 1631 3429 \nQ 1922 3584 2338 3584 \nQ 2397 3584 2469 3576 \nQ 2541 3569 2628 3553 \nL 2631 2963 \nz\n\" transform=\"scale(0.015625)\"/>\n       <path id=\"DejaVuSans-61\" d=\"M 2194 1759 \nQ 1497 1759 1228 1600 \nQ 959 1441 959 1056 \nQ 959 750 1161 570 \nQ 1363 391 1709 391 \nQ 2188 391 2477 730 \nQ 2766 1069 2766 1631 \nL 2766 1759 \nL 2194 1759 \nz\nM 3341 1997 \nL 3341 0 \nL 2766 0 \nL 2766 531 \nQ 2569 213 2275 61 \nQ 1981 -91 1556 -91 \nQ 1019 -91 701 211 \nQ 384 513 384 1019 \nQ 384 1609 779 1909 \nQ 1175 2209 1959 2209 \nL 2766 2209 \nL 2766 2266 \nQ 2766 2663 2505 2880 \nQ 2244 3097 1772 3097 \nQ 1472 3097 1187 3025 \nQ 903 2953 641 2809 \nL 641 3341 \nQ 956 3463 1253 3523 \nQ 1550 3584 1831 3584 \nQ 2591 3584 2966 3190 \nQ 3341 2797 3341 1997 \nz\n\" transform=\"scale(0.015625)\"/>\n       <path id=\"DejaVuSans-69\" d=\"M 603 3500 \nL 1178 3500 \nL 1178 0 \nL 603 0 \nL 603 3500 \nz\nM 603 4863 \nL 1178 4863 \nL 1178 4134 \nL 603 4134 \nL 603 4863 \nz\n\" transform=\"scale(0.015625)\"/>\n       <path id=\"DejaVuSans-6e\" d=\"M 3513 2113 \nL 3513 0 \nL 2938 0 \nL 2938 2094 \nQ 2938 2591 2744 2837 \nQ 2550 3084 2163 3084 \nQ 1697 3084 1428 2787 \nQ 1159 2491 1159 1978 \nL 1159 0 \nL 581 0 \nL 581 3500 \nL 1159 3500 \nL 1159 2956 \nQ 1366 3272 1645 3428 \nQ 1925 3584 2291 3584 \nQ 2894 3584 3203 3211 \nQ 3513 2838 3513 2113 \nz\n\" transform=\"scale(0.015625)\"/>\n       <path id=\"DejaVuSans-5f\" d=\"M 3263 -1063 \nL 3263 -1509 \nL -63 -1509 \nL -63 -1063 \nL 3263 -1063 \nz\n\" transform=\"scale(0.015625)\"/>\n       <path id=\"DejaVuSans-6c\" d=\"M 603 4863 \nL 1178 4863 \nL 1178 0 \nL 603 0 \nL 603 4863 \nz\n\" transform=\"scale(0.015625)\"/>\n       <path id=\"DejaVuSans-73\" d=\"M 2834 3397 \nL 2834 2853 \nQ 2591 2978 2328 3040 \nQ 2066 3103 1784 3103 \nQ 1356 3103 1142 2972 \nQ 928 2841 928 2578 \nQ 928 2378 1081 2264 \nQ 1234 2150 1697 2047 \nL 1894 2003 \nQ 2506 1872 2764 1633 \nQ 3022 1394 3022 966 \nQ 3022 478 2636 193 \nQ 2250 -91 1575 -91 \nQ 1294 -91 989 -36 \nQ 684 19 347 128 \nL 347 722 \nQ 666 556 975 473 \nQ 1284 391 1588 391 \nQ 1994 391 2212 530 \nQ 2431 669 2431 922 \nQ 2431 1156 2273 1281 \nQ 2116 1406 1581 1522 \nL 1381 1569 \nQ 847 1681 609 1914 \nQ 372 2147 372 2553 \nQ 372 3047 722 3315 \nQ 1072 3584 1716 3584 \nQ 2034 3584 2315 3537 \nQ 2597 3491 2834 3397 \nz\n\" transform=\"scale(0.015625)\"/>\n      </defs>\n      <use xlink:href=\"#DejaVuSans-74\"/>\n      <use xlink:href=\"#DejaVuSans-72\" x=\"39.208984\"/>\n      <use xlink:href=\"#DejaVuSans-61\" x=\"80.322266\"/>\n      <use xlink:href=\"#DejaVuSans-69\" x=\"141.601562\"/>\n      <use xlink:href=\"#DejaVuSans-6e\" x=\"169.384766\"/>\n      <use xlink:href=\"#DejaVuSans-5f\" x=\"232.763672\"/>\n      <use xlink:href=\"#DejaVuSans-6c\" x=\"282.763672\"/>\n      <use xlink:href=\"#DejaVuSans-6f\" x=\"310.546875\"/>\n      <use xlink:href=\"#DejaVuSans-73\" x=\"371.728516\"/>\n      <use xlink:href=\"#DejaVuSans-73\" x=\"423.828125\"/>\n     </g>\n    </g>\n    <g id=\"line2d_128\">\n     <path d=\"M 140.8125 35.254688 \nL 150.8125 35.254688 \nL 160.8125 35.254688 \n\" style=\"fill: none; stroke-dasharray: 5.55,2.4; stroke-dashoffset: 0; stroke: #ff7f0e; stroke-width: 1.5\"/>\n    </g>\n    <g id=\"text_13\">\n     <!-- val_loss -->\n     <g transform=\"translate(168.8125 38.754688) scale(0.1 -0.1)\">\n      <defs>\n       <path id=\"DejaVuSans-76\" d=\"M 191 3500 \nL 800 3500 \nL 1894 563 \nL 2988 3500 \nL 3597 3500 \nL 2284 0 \nL 1503 0 \nL 191 3500 \nz\n\" transform=\"scale(0.015625)\"/>\n      </defs>\n      <use xlink:href=\"#DejaVuSans-76\"/>\n      <use xlink:href=\"#DejaVuSans-61\" x=\"59.179688\"/>\n      <use xlink:href=\"#DejaVuSans-6c\" x=\"120.458984\"/>\n      <use xlink:href=\"#DejaVuSans-5f\" x=\"148.242188\"/>\n      <use xlink:href=\"#DejaVuSans-6c\" x=\"198.242188\"/>\n      <use xlink:href=\"#DejaVuSans-6f\" x=\"226.025391\"/>\n      <use xlink:href=\"#DejaVuSans-73\" x=\"287.207031\"/>\n      <use xlink:href=\"#DejaVuSans-73\" x=\"339.306641\"/>\n     </g>\n    </g>\n    <g id=\"line2d_129\">\n     <path d=\"M 140.8125 50.210938 \nL 150.8125 50.210938 \nL 160.8125 50.210938 \n\" style=\"fill: none; stroke-dasharray: 9.6,2.4,1.5,2.4; stroke-dashoffset: 0; stroke: #2ca02c; stroke-width: 1.5\"/>\n    </g>\n    <g id=\"text_14\">\n     <!-- val_acc -->\n     <g transform=\"translate(168.8125 53.710938) scale(0.1 -0.1)\">\n      <use xlink:href=\"#DejaVuSans-76\"/>\n      <use xlink:href=\"#DejaVuSans-61\" x=\"59.179688\"/>\n      <use xlink:href=\"#DejaVuSans-6c\" x=\"120.458984\"/>\n      <use xlink:href=\"#DejaVuSans-5f\" x=\"148.242188\"/>\n      <use xlink:href=\"#DejaVuSans-61\" x=\"198.242188\"/>\n      <use xlink:href=\"#DejaVuSans-63\" x=\"259.521484\"/>\n      <use xlink:href=\"#DejaVuSans-63\" x=\"314.501953\"/>\n     </g>\n    </g>\n   </g>\n  </g>\n </g>\n <defs>\n  <clipPath id=\"p1b9313a758\">\n   <rect x=\"30.103125\" y=\"7.2\" width=\"195.3\" height=\"138.6\"/>\n  </clipPath>\n </defs>\n</svg>\n"
          },
          "metadata": {}
        }
      ],
      "source": [
        "model = NiN(lr=0.05)\n",
        "trainer = d2l.Trainer(max_epochs=10, num_gpus=1)\n",
        "data = d2l.FashionMNIST(batch_size=128, resize=(224, 224))\n",
        "model.apply_init([next(iter(data.get_dataloader(True)))[0]], d2l.init_cnn)\n",
        "trainer.fit(model, data)"
      ]
    },
    {
      "cell_type": "markdown",
      "id": "uQu8TJavYn7N",
      "metadata": {
        "id": "uQu8TJavYn7N"
      },
      "source": [
        "## Exercises\n",
        "\n",
        "1. Why are there two $1\\times 1$ convolutional layers per NiN block? Increase their number to three. Reduce their number to one. What changes?\n",
        "1. What changes if you replace the $1 \\times 1$ convolutions by $3 \\times 3$ convolutions?\n",
        "1. What happens if you replace the global average pooling by a fully connected layer (speed, accuracy, number of parameters)?\n",
        "1. Calculate the resource usage for NiN.\n",
        "    1. What is the number of parameters?\n",
        "    1. What is the amount of computation?\n",
        "    1. What is the amount of memory needed during training?\n",
        "    1. What is the amount of memory needed during prediction?\n",
        "1. What are possible problems with reducing the $384 \\times 5 \\times 5$ representation to a $10 \\times 5 \\times 5$ representation in one step?\n",
        "1. Use the structural design decisions in VGG that led to VGG-11, VGG-16, and VGG-19 to design a family of NiN-like networks."
      ]
    },
    {
      "cell_type": "markdown",
      "id": "XpJIIIixYpdu",
      "metadata": {
        "id": "XpJIIIixYpdu"
      },
      "source": [
        "# 8.4 Multi-Branch Network (GoogLeNet)"
      ]
    },
    {
      "cell_type": "code",
      "execution_count": 16,
      "id": "066f8e89",
      "metadata": {
        "id": "066f8e89"
      },
      "outputs": [],
      "source": [
        "import torch\n",
        "from torch import nn\n",
        "from torch.nn import functional as F\n",
        "from d2l import torch as d2l"
      ]
    },
    {
      "cell_type": "markdown",
      "id": "85oXpwKMY8Nc",
      "metadata": {
        "id": "85oXpwKMY8Nc"
      },
      "source": [
        "## (**Inception Blocks**)"
      ]
    },
    {
      "cell_type": "code",
      "execution_count": 17,
      "id": "7deda9e0",
      "metadata": {
        "id": "7deda9e0"
      },
      "outputs": [],
      "source": [
        "class Inception(nn.Module):\n",
        "    # c1--c4 are the number of output channels for each branch\n",
        "    def __init__(self, c1, c2, c3, c4, **kwargs):\n",
        "        super(Inception, self).__init__(**kwargs)\n",
        "        # Branch 1\n",
        "        self.b1_1 = nn.LazyConv2d(c1, kernel_size=1)\n",
        "        # Branch 2\n",
        "        self.b2_1 = nn.LazyConv2d(c2[0], kernel_size=1)\n",
        "        self.b2_2 = nn.LazyConv2d(c2[1], kernel_size=3, padding=1)\n",
        "        # Branch 3\n",
        "        self.b3_1 = nn.LazyConv2d(c3[0], kernel_size=1)\n",
        "        self.b3_2 = nn.LazyConv2d(c3[1], kernel_size=5, padding=2)\n",
        "        # Branch 4\n",
        "        self.b4_1 = nn.MaxPool2d(kernel_size=3, stride=1, padding=1)\n",
        "        self.b4_2 = nn.LazyConv2d(c4, kernel_size=1)\n",
        "\n",
        "    def forward(self, x):\n",
        "        b1 = F.relu(self.b1_1(x))\n",
        "        b2 = F.relu(self.b2_2(F.relu(self.b2_1(x))))\n",
        "        b3 = F.relu(self.b3_2(F.relu(self.b3_1(x))))\n",
        "        b4 = F.relu(self.b4_2(self.b4_1(x)))\n",
        "        return torch.cat((b1, b2, b3, b4), dim=1)"
      ]
    },
    {
      "cell_type": "markdown",
      "id": "MqNokfhBZCGx",
      "metadata": {
        "id": "MqNokfhBZCGx"
      },
      "source": [
        "## [**GoogLeNet Model**]"
      ]
    },
    {
      "cell_type": "code",
      "execution_count": 18,
      "id": "95b8f516",
      "metadata": {
        "id": "95b8f516"
      },
      "outputs": [],
      "source": [
        "class GoogleNet(d2l.Classifier):\n",
        "    def b1(self):\n",
        "        return nn.Sequential(\n",
        "            nn.LazyConv2d(64, kernel_size=7, stride=2, padding=3),\n",
        "            nn.ReLU(), nn.MaxPool2d(kernel_size=3, stride=2, padding=1))"
      ]
    },
    {
      "cell_type": "code",
      "execution_count": 19,
      "id": "f2f1ae36",
      "metadata": {
        "id": "f2f1ae36"
      },
      "outputs": [],
      "source": [
        "@d2l.add_to_class(GoogleNet)\n",
        "def b2(self):\n",
        "    return nn.Sequential(\n",
        "        nn.LazyConv2d(64, kernel_size=1), nn.ReLU(),\n",
        "        nn.LazyConv2d(192, kernel_size=3, padding=1), nn.ReLU(),\n",
        "        nn.MaxPool2d(kernel_size=3, stride=2, padding=1))"
      ]
    },
    {
      "cell_type": "code",
      "execution_count": 20,
      "id": "33a37805",
      "metadata": {
        "id": "33a37805"
      },
      "outputs": [],
      "source": [
        "@d2l.add_to_class(GoogleNet)\n",
        "def b3(self):\n",
        "    return nn.Sequential(Inception(64, (96, 128), (16, 32), 32),\n",
        "                         Inception(128, (128, 192), (32, 96), 64),\n",
        "                         nn.MaxPool2d(kernel_size=3, stride=2, padding=1))"
      ]
    },
    {
      "cell_type": "code",
      "execution_count": 21,
      "id": "2beb4b7a",
      "metadata": {
        "id": "2beb4b7a"
      },
      "outputs": [],
      "source": [
        "@d2l.add_to_class(GoogleNet)\n",
        "def b4(self):\n",
        "    return nn.Sequential(Inception(192, (96, 208), (16, 48), 64),\n",
        "                         Inception(160, (112, 224), (24, 64), 64),\n",
        "                         Inception(128, (128, 256), (24, 64), 64),\n",
        "                         Inception(112, (144, 288), (32, 64), 64),\n",
        "                         Inception(256, (160, 320), (32, 128), 128),\n",
        "                         nn.MaxPool2d(kernel_size=3, stride=2, padding=1))"
      ]
    },
    {
      "cell_type": "code",
      "execution_count": 22,
      "id": "8b836927",
      "metadata": {
        "id": "8b836927"
      },
      "outputs": [],
      "source": [
        "@d2l.add_to_class(GoogleNet)\n",
        "def b5(self):\n",
        "    return nn.Sequential(Inception(256, (160, 320), (32, 128), 128),\n",
        "                         Inception(384, (192, 384), (48, 128), 128),\n",
        "                         nn.AdaptiveAvgPool2d((1,1)), nn.Flatten())"
      ]
    },
    {
      "cell_type": "code",
      "execution_count": 23,
      "id": "fe47c47d",
      "metadata": {
        "id": "fe47c47d"
      },
      "outputs": [],
      "source": [
        "@d2l.add_to_class(GoogleNet)\n",
        "def __init__(self, lr=0.1, num_classes=10):\n",
        "    super(GoogleNet, self).__init__()\n",
        "    self.save_hyperparameters()\n",
        "    self.net = nn.Sequential(self.b1(), self.b2(), self.b3(), self.b4(),\n",
        "                             self.b5(), nn.LazyLinear(num_classes))\n",
        "    self.net.apply(d2l.init_cnn)"
      ]
    },
    {
      "cell_type": "code",
      "execution_count": 24,
      "id": "83b695b7",
      "metadata": {
        "colab": {
          "base_uri": "https://localhost:8080/"
        },
        "id": "83b695b7",
        "outputId": "fbfa5c39-ea97-4d26-e1df-a266a88f1743"
      },
      "outputs": [
        {
          "output_type": "stream",
          "name": "stdout",
          "text": [
            "Sequential output shape:\t torch.Size([1, 64, 24, 24])\n",
            "Sequential output shape:\t torch.Size([1, 192, 12, 12])\n",
            "Sequential output shape:\t torch.Size([1, 480, 6, 6])\n",
            "Sequential output shape:\t torch.Size([1, 832, 3, 3])\n",
            "Sequential output shape:\t torch.Size([1, 1024])\n",
            "Linear output shape:\t torch.Size([1, 10])\n"
          ]
        }
      ],
      "source": [
        "model = GoogleNet().layer_summary((1, 1, 96, 96))"
      ]
    },
    {
      "cell_type": "markdown",
      "id": "E0lTEeehZNnu",
      "metadata": {
        "id": "E0lTEeehZNnu"
      },
      "source": [
        "## [**Training**]"
      ]
    },
    {
      "cell_type": "code",
      "execution_count": 25,
      "id": "d52cffee",
      "metadata": {
        "colab": {
          "base_uri": "https://localhost:8080/",
          "height": 265
        },
        "id": "d52cffee",
        "outputId": "35f0b317-376d-4252-e9fa-1159945b4736"
      },
      "outputs": [
        {
          "output_type": "display_data",
          "data": {
            "text/plain": [
              "<Figure size 350x250 with 1 Axes>"
            ],
            "image/svg+xml": "<?xml version=\"1.0\" encoding=\"utf-8\" standalone=\"no\"?>\n<!DOCTYPE svg PUBLIC \"-//W3C//DTD SVG 1.1//EN\"\n  \"http://www.w3.org/Graphics/SVG/1.1/DTD/svg11.dtd\">\n<svg xmlns:xlink=\"http://www.w3.org/1999/xlink\" width=\"238.965625pt\" height=\"183.35625pt\" viewBox=\"0 0 238.965625 183.35625\" xmlns=\"http://www.w3.org/2000/svg\" version=\"1.1\">\n <metadata>\n  <rdf:RDF xmlns:dc=\"http://purl.org/dc/elements/1.1/\" xmlns:cc=\"http://creativecommons.org/ns#\" xmlns:rdf=\"http://www.w3.org/1999/02/22-rdf-syntax-ns#\">\n   <cc:Work>\n    <dc:type rdf:resource=\"http://purl.org/dc/dcmitype/StillImage\"/>\n    <dc:date>2024-10-05T14:32:51.433792</dc:date>\n    <dc:format>image/svg+xml</dc:format>\n    <dc:creator>\n     <cc:Agent>\n      <dc:title>Matplotlib v3.7.2, https://matplotlib.org/</dc:title>\n     </cc:Agent>\n    </dc:creator>\n   </cc:Work>\n  </rdf:RDF>\n </metadata>\n <defs>\n  <style type=\"text/css\">*{stroke-linejoin: round; stroke-linecap: butt}</style>\n </defs>\n <g id=\"figure_1\">\n  <g id=\"patch_1\">\n   <path d=\"M 0 183.35625 \nL 238.965625 183.35625 \nL 238.965625 0 \nL 0 0 \nz\n\" style=\"fill: #ffffff\"/>\n  </g>\n  <g id=\"axes_1\">\n   <g id=\"patch_2\">\n    <path d=\"M 30.103125 145.8 \nL 225.403125 145.8 \nL 225.403125 7.2 \nL 30.103125 7.2 \nz\n\" style=\"fill: #ffffff\"/>\n   </g>\n   <g id=\"matplotlib.axis_1\">\n    <g id=\"xtick_1\">\n     <g id=\"line2d_1\">\n      <defs>\n       <path id=\"m355aa56992\" d=\"M 0 0 \nL 0 3.5 \n\" style=\"stroke: #000000; stroke-width: 0.8\"/>\n      </defs>\n      <g>\n       <use xlink:href=\"#m355aa56992\" x=\"30.103125\" y=\"145.8\" style=\"stroke: #000000; stroke-width: 0.8\"/>\n      </g>\n     </g>\n     <g id=\"text_1\">\n      <!-- 0 -->\n      <g transform=\"translate(26.921875 160.398438) scale(0.1 -0.1)\">\n       <defs>\n        <path id=\"DejaVuSans-30\" d=\"M 2034 4250 \nQ 1547 4250 1301 3770 \nQ 1056 3291 1056 2328 \nQ 1056 1369 1301 889 \nQ 1547 409 2034 409 \nQ 2525 409 2770 889 \nQ 3016 1369 3016 2328 \nQ 3016 3291 2770 3770 \nQ 2525 4250 2034 4250 \nz\nM 2034 4750 \nQ 2819 4750 3233 4129 \nQ 3647 3509 3647 2328 \nQ 3647 1150 3233 529 \nQ 2819 -91 2034 -91 \nQ 1250 -91 836 529 \nQ 422 1150 422 2328 \nQ 422 3509 836 4129 \nQ 1250 4750 2034 4750 \nz\n\" transform=\"scale(0.015625)\"/>\n       </defs>\n       <use xlink:href=\"#DejaVuSans-30\"/>\n      </g>\n     </g>\n    </g>\n    <g id=\"xtick_2\">\n     <g id=\"line2d_2\">\n      <g>\n       <use xlink:href=\"#m355aa56992\" x=\"69.163125\" y=\"145.8\" style=\"stroke: #000000; stroke-width: 0.8\"/>\n      </g>\n     </g>\n     <g id=\"text_2\">\n      <!-- 2 -->\n      <g transform=\"translate(65.981875 160.398438) scale(0.1 -0.1)\">\n       <defs>\n        <path id=\"DejaVuSans-32\" d=\"M 1228 531 \nL 3431 531 \nL 3431 0 \nL 469 0 \nL 469 531 \nQ 828 903 1448 1529 \nQ 2069 2156 2228 2338 \nQ 2531 2678 2651 2914 \nQ 2772 3150 2772 3378 \nQ 2772 3750 2511 3984 \nQ 2250 4219 1831 4219 \nQ 1534 4219 1204 4116 \nQ 875 4013 500 3803 \nL 500 4441 \nQ 881 4594 1212 4672 \nQ 1544 4750 1819 4750 \nQ 2544 4750 2975 4387 \nQ 3406 4025 3406 3419 \nQ 3406 3131 3298 2873 \nQ 3191 2616 2906 2266 \nQ 2828 2175 2409 1742 \nQ 1991 1309 1228 531 \nz\n\" transform=\"scale(0.015625)\"/>\n       </defs>\n       <use xlink:href=\"#DejaVuSans-32\"/>\n      </g>\n     </g>\n    </g>\n    <g id=\"xtick_3\">\n     <g id=\"line2d_3\">\n      <g>\n       <use xlink:href=\"#m355aa56992\" x=\"108.223125\" y=\"145.8\" style=\"stroke: #000000; stroke-width: 0.8\"/>\n      </g>\n     </g>\n     <g id=\"text_3\">\n      <!-- 4 -->\n      <g transform=\"translate(105.041875 160.398438) scale(0.1 -0.1)\">\n       <defs>\n        <path id=\"DejaVuSans-34\" d=\"M 2419 4116 \nL 825 1625 \nL 2419 1625 \nL 2419 4116 \nz\nM 2253 4666 \nL 3047 4666 \nL 3047 1625 \nL 3713 1625 \nL 3713 1100 \nL 3047 1100 \nL 3047 0 \nL 2419 0 \nL 2419 1100 \nL 313 1100 \nL 313 1709 \nL 2253 4666 \nz\n\" transform=\"scale(0.015625)\"/>\n       </defs>\n       <use xlink:href=\"#DejaVuSans-34\"/>\n      </g>\n     </g>\n    </g>\n    <g id=\"xtick_4\">\n     <g id=\"line2d_4\">\n      <g>\n       <use xlink:href=\"#m355aa56992\" x=\"147.283125\" y=\"145.8\" style=\"stroke: #000000; stroke-width: 0.8\"/>\n      </g>\n     </g>\n     <g id=\"text_4\">\n      <!-- 6 -->\n      <g transform=\"translate(144.101875 160.398438) scale(0.1 -0.1)\">\n       <defs>\n        <path id=\"DejaVuSans-36\" d=\"M 2113 2584 \nQ 1688 2584 1439 2293 \nQ 1191 2003 1191 1497 \nQ 1191 994 1439 701 \nQ 1688 409 2113 409 \nQ 2538 409 2786 701 \nQ 3034 994 3034 1497 \nQ 3034 2003 2786 2293 \nQ 2538 2584 2113 2584 \nz\nM 3366 4563 \nL 3366 3988 \nQ 3128 4100 2886 4159 \nQ 2644 4219 2406 4219 \nQ 1781 4219 1451 3797 \nQ 1122 3375 1075 2522 \nQ 1259 2794 1537 2939 \nQ 1816 3084 2150 3084 \nQ 2853 3084 3261 2657 \nQ 3669 2231 3669 1497 \nQ 3669 778 3244 343 \nQ 2819 -91 2113 -91 \nQ 1303 -91 875 529 \nQ 447 1150 447 2328 \nQ 447 3434 972 4092 \nQ 1497 4750 2381 4750 \nQ 2619 4750 2861 4703 \nQ 3103 4656 3366 4563 \nz\n\" transform=\"scale(0.015625)\"/>\n       </defs>\n       <use xlink:href=\"#DejaVuSans-36\"/>\n      </g>\n     </g>\n    </g>\n    <g id=\"xtick_5\">\n     <g id=\"line2d_5\">\n      <g>\n       <use xlink:href=\"#m355aa56992\" x=\"186.343125\" y=\"145.8\" style=\"stroke: #000000; stroke-width: 0.8\"/>\n      </g>\n     </g>\n     <g id=\"text_5\">\n      <!-- 8 -->\n      <g transform=\"translate(183.161875 160.398438) scale(0.1 -0.1)\">\n       <defs>\n        <path id=\"DejaVuSans-38\" d=\"M 2034 2216 \nQ 1584 2216 1326 1975 \nQ 1069 1734 1069 1313 \nQ 1069 891 1326 650 \nQ 1584 409 2034 409 \nQ 2484 409 2743 651 \nQ 3003 894 3003 1313 \nQ 3003 1734 2745 1975 \nQ 2488 2216 2034 2216 \nz\nM 1403 2484 \nQ 997 2584 770 2862 \nQ 544 3141 544 3541 \nQ 544 4100 942 4425 \nQ 1341 4750 2034 4750 \nQ 2731 4750 3128 4425 \nQ 3525 4100 3525 3541 \nQ 3525 3141 3298 2862 \nQ 3072 2584 2669 2484 \nQ 3125 2378 3379 2068 \nQ 3634 1759 3634 1313 \nQ 3634 634 3220 271 \nQ 2806 -91 2034 -91 \nQ 1263 -91 848 271 \nQ 434 634 434 1313 \nQ 434 1759 690 2068 \nQ 947 2378 1403 2484 \nz\nM 1172 3481 \nQ 1172 3119 1398 2916 \nQ 1625 2713 2034 2713 \nQ 2441 2713 2670 2916 \nQ 2900 3119 2900 3481 \nQ 2900 3844 2670 4047 \nQ 2441 4250 2034 4250 \nQ 1625 4250 1398 4047 \nQ 1172 3844 1172 3481 \nz\n\" transform=\"scale(0.015625)\"/>\n       </defs>\n       <use xlink:href=\"#DejaVuSans-38\"/>\n      </g>\n     </g>\n    </g>\n    <g id=\"xtick_6\">\n     <g id=\"line2d_6\">\n      <g>\n       <use xlink:href=\"#m355aa56992\" x=\"225.403125\" y=\"145.8\" style=\"stroke: #000000; stroke-width: 0.8\"/>\n      </g>\n     </g>\n     <g id=\"text_6\">\n      <!-- 10 -->\n      <g transform=\"translate(219.040625 160.398438) scale(0.1 -0.1)\">\n       <defs>\n        <path id=\"DejaVuSans-31\" d=\"M 794 531 \nL 1825 531 \nL 1825 4091 \nL 703 3866 \nL 703 4441 \nL 1819 4666 \nL 2450 4666 \nL 2450 531 \nL 3481 531 \nL 3481 0 \nL 794 0 \nL 794 531 \nz\n\" transform=\"scale(0.015625)\"/>\n       </defs>\n       <use xlink:href=\"#DejaVuSans-31\"/>\n       <use xlink:href=\"#DejaVuSans-30\" x=\"63.623047\"/>\n      </g>\n     </g>\n    </g>\n    <g id=\"text_7\">\n     <!-- epoch -->\n     <g transform=\"translate(112.525 174.076563) scale(0.1 -0.1)\">\n      <defs>\n       <path id=\"DejaVuSans-65\" d=\"M 3597 1894 \nL 3597 1613 \nL 953 1613 \nQ 991 1019 1311 708 \nQ 1631 397 2203 397 \nQ 2534 397 2845 478 \nQ 3156 559 3463 722 \nL 3463 178 \nQ 3153 47 2828 -22 \nQ 2503 -91 2169 -91 \nQ 1331 -91 842 396 \nQ 353 884 353 1716 \nQ 353 2575 817 3079 \nQ 1281 3584 2069 3584 \nQ 2775 3584 3186 3129 \nQ 3597 2675 3597 1894 \nz\nM 3022 2063 \nQ 3016 2534 2758 2815 \nQ 2500 3097 2075 3097 \nQ 1594 3097 1305 2825 \nQ 1016 2553 972 2059 \nL 3022 2063 \nz\n\" transform=\"scale(0.015625)\"/>\n       <path id=\"DejaVuSans-70\" d=\"M 1159 525 \nL 1159 -1331 \nL 581 -1331 \nL 581 3500 \nL 1159 3500 \nL 1159 2969 \nQ 1341 3281 1617 3432 \nQ 1894 3584 2278 3584 \nQ 2916 3584 3314 3078 \nQ 3713 2572 3713 1747 \nQ 3713 922 3314 415 \nQ 2916 -91 2278 -91 \nQ 1894 -91 1617 61 \nQ 1341 213 1159 525 \nz\nM 3116 1747 \nQ 3116 2381 2855 2742 \nQ 2594 3103 2138 3103 \nQ 1681 3103 1420 2742 \nQ 1159 2381 1159 1747 \nQ 1159 1113 1420 752 \nQ 1681 391 2138 391 \nQ 2594 391 2855 752 \nQ 3116 1113 3116 1747 \nz\n\" transform=\"scale(0.015625)\"/>\n       <path id=\"DejaVuSans-6f\" d=\"M 1959 3097 \nQ 1497 3097 1228 2736 \nQ 959 2375 959 1747 \nQ 959 1119 1226 758 \nQ 1494 397 1959 397 \nQ 2419 397 2687 759 \nQ 2956 1122 2956 1747 \nQ 2956 2369 2687 2733 \nQ 2419 3097 1959 3097 \nz\nM 1959 3584 \nQ 2709 3584 3137 3096 \nQ 3566 2609 3566 1747 \nQ 3566 888 3137 398 \nQ 2709 -91 1959 -91 \nQ 1206 -91 779 398 \nQ 353 888 353 1747 \nQ 353 2609 779 3096 \nQ 1206 3584 1959 3584 \nz\n\" transform=\"scale(0.015625)\"/>\n       <path id=\"DejaVuSans-63\" d=\"M 3122 3366 \nL 3122 2828 \nQ 2878 2963 2633 3030 \nQ 2388 3097 2138 3097 \nQ 1578 3097 1268 2742 \nQ 959 2388 959 1747 \nQ 959 1106 1268 751 \nQ 1578 397 2138 397 \nQ 2388 397 2633 464 \nQ 2878 531 3122 666 \nL 3122 134 \nQ 2881 22 2623 -34 \nQ 2366 -91 2075 -91 \nQ 1284 -91 818 406 \nQ 353 903 353 1747 \nQ 353 2603 823 3093 \nQ 1294 3584 2113 3584 \nQ 2378 3584 2631 3529 \nQ 2884 3475 3122 3366 \nz\n\" transform=\"scale(0.015625)\"/>\n       <path id=\"DejaVuSans-68\" d=\"M 3513 2113 \nL 3513 0 \nL 2938 0 \nL 2938 2094 \nQ 2938 2591 2744 2837 \nQ 2550 3084 2163 3084 \nQ 1697 3084 1428 2787 \nQ 1159 2491 1159 1978 \nL 1159 0 \nL 581 0 \nL 581 4863 \nL 1159 4863 \nL 1159 2956 \nQ 1366 3272 1645 3428 \nQ 1925 3584 2291 3584 \nQ 2894 3584 3203 3211 \nQ 3513 2838 3513 2113 \nz\n\" transform=\"scale(0.015625)\"/>\n      </defs>\n      <use xlink:href=\"#DejaVuSans-65\"/>\n      <use xlink:href=\"#DejaVuSans-70\" x=\"61.523438\"/>\n      <use xlink:href=\"#DejaVuSans-6f\" x=\"125\"/>\n      <use xlink:href=\"#DejaVuSans-63\" x=\"186.181641\"/>\n      <use xlink:href=\"#DejaVuSans-68\" x=\"241.162109\"/>\n     </g>\n    </g>\n   </g>\n   <g id=\"matplotlib.axis_2\">\n    <g id=\"ytick_1\">\n     <g id=\"line2d_7\">\n      <defs>\n       <path id=\"m6b6f5e022b\" d=\"M 0 0 \nL -3.5 0 \n\" style=\"stroke: #000000; stroke-width: 0.8\"/>\n      </defs>\n      <g>\n       <use xlink:href=\"#m6b6f5e022b\" x=\"30.103125\" y=\"145.195438\" style=\"stroke: #000000; stroke-width: 0.8\"/>\n      </g>\n     </g>\n     <g id=\"text_8\">\n      <!-- 0.0 -->\n      <g transform=\"translate(7.2 148.994657) scale(0.1 -0.1)\">\n       <defs>\n        <path id=\"DejaVuSans-2e\" d=\"M 684 794 \nL 1344 794 \nL 1344 0 \nL 684 0 \nL 684 794 \nz\n\" transform=\"scale(0.015625)\"/>\n       </defs>\n       <use xlink:href=\"#DejaVuSans-30\"/>\n       <use xlink:href=\"#DejaVuSans-2e\" x=\"63.623047\"/>\n       <use xlink:href=\"#DejaVuSans-30\" x=\"95.410156\"/>\n      </g>\n     </g>\n    </g>\n    <g id=\"ytick_2\">\n     <g id=\"line2d_8\">\n      <g>\n       <use xlink:href=\"#m6b6f5e022b\" x=\"30.103125\" y=\"116.599475\" style=\"stroke: #000000; stroke-width: 0.8\"/>\n      </g>\n     </g>\n     <g id=\"text_9\">\n      <!-- 0.5 -->\n      <g transform=\"translate(7.2 120.398693) scale(0.1 -0.1)\">\n       <defs>\n        <path id=\"DejaVuSans-35\" d=\"M 691 4666 \nL 3169 4666 \nL 3169 4134 \nL 1269 4134 \nL 1269 2991 \nQ 1406 3038 1543 3061 \nQ 1681 3084 1819 3084 \nQ 2600 3084 3056 2656 \nQ 3513 2228 3513 1497 \nQ 3513 744 3044 326 \nQ 2575 -91 1722 -91 \nQ 1428 -91 1123 -41 \nQ 819 9 494 109 \nL 494 744 \nQ 775 591 1075 516 \nQ 1375 441 1709 441 \nQ 2250 441 2565 725 \nQ 2881 1009 2881 1497 \nQ 2881 1984 2565 2268 \nQ 2250 2553 1709 2553 \nQ 1456 2553 1204 2497 \nQ 953 2441 691 2322 \nL 691 4666 \nz\n\" transform=\"scale(0.015625)\"/>\n       </defs>\n       <use xlink:href=\"#DejaVuSans-30\"/>\n       <use xlink:href=\"#DejaVuSans-2e\" x=\"63.623047\"/>\n       <use xlink:href=\"#DejaVuSans-35\" x=\"95.410156\"/>\n      </g>\n     </g>\n    </g>\n    <g id=\"ytick_3\">\n     <g id=\"line2d_9\">\n      <g>\n       <use xlink:href=\"#m6b6f5e022b\" x=\"30.103125\" y=\"88.003511\" style=\"stroke: #000000; stroke-width: 0.8\"/>\n      </g>\n     </g>\n     <g id=\"text_10\">\n      <!-- 1.0 -->\n      <g transform=\"translate(7.2 91.80273) scale(0.1 -0.1)\">\n       <use xlink:href=\"#DejaVuSans-31\"/>\n       <use xlink:href=\"#DejaVuSans-2e\" x=\"63.623047\"/>\n       <use xlink:href=\"#DejaVuSans-30\" x=\"95.410156\"/>\n      </g>\n     </g>\n    </g>\n    <g id=\"ytick_4\">\n     <g id=\"line2d_10\">\n      <g>\n       <use xlink:href=\"#m6b6f5e022b\" x=\"30.103125\" y=\"59.407548\" style=\"stroke: #000000; stroke-width: 0.8\"/>\n      </g>\n     </g>\n     <g id=\"text_11\">\n      <!-- 1.5 -->\n      <g transform=\"translate(7.2 63.206766) scale(0.1 -0.1)\">\n       <use xlink:href=\"#DejaVuSans-31\"/>\n       <use xlink:href=\"#DejaVuSans-2e\" x=\"63.623047\"/>\n       <use xlink:href=\"#DejaVuSans-35\" x=\"95.410156\"/>\n      </g>\n     </g>\n    </g>\n    <g id=\"ytick_5\">\n     <g id=\"line2d_11\">\n      <g>\n       <use xlink:href=\"#m6b6f5e022b\" x=\"30.103125\" y=\"30.811584\" style=\"stroke: #000000; stroke-width: 0.8\"/>\n      </g>\n     </g>\n     <g id=\"text_12\">\n      <!-- 2.0 -->\n      <g transform=\"translate(7.2 34.610803) scale(0.1 -0.1)\">\n       <use xlink:href=\"#DejaVuSans-32\"/>\n       <use xlink:href=\"#DejaVuSans-2e\" x=\"63.623047\"/>\n       <use xlink:href=\"#DejaVuSans-30\" x=\"95.410156\"/>\n      </g>\n     </g>\n    </g>\n   </g>\n   <g id=\"line2d_12\">\n    <path d=\"M 34.954394 13.5 \n\" clip-path=\"url(#p05edf659fc)\" style=\"fill: none; stroke: #1f77b4; stroke-width: 1.5; stroke-linecap: square\"/>\n   </g>\n   <g id=\"line2d_13\">\n    <path d=\"M 34.954394 13.5 \nL 44.698573 13.547964 \n\" clip-path=\"url(#p05edf659fc)\" style=\"fill: none; stroke: #1f77b4; stroke-width: 1.5; stroke-linecap: square\"/>\n   </g>\n   <g id=\"line2d_14\">\n    <path d=\"M 34.954394 13.5 \nL 44.698573 13.547964 \n\" clip-path=\"url(#p05edf659fc)\" style=\"fill: none; stroke: #1f77b4; stroke-width: 1.5; stroke-linecap: square\"/>\n   </g>\n   <g id=\"line2d_15\">\n    <path d=\"M 49.633125 13.575235 \n\" clip-path=\"url(#p05edf659fc)\" style=\"fill: none; stroke-dasharray: 5.55,2.4; stroke-dashoffset: 0; stroke: #ff7f0e; stroke-width: 1.5\"/>\n   </g>\n   <g id=\"line2d_16\"/>\n   <g id=\"line2d_17\">\n    <path d=\"M 34.954394 13.5 \nL 44.698573 13.547964 \n\" clip-path=\"url(#p05edf659fc)\" style=\"fill: none; stroke: #1f77b4; stroke-width: 1.5; stroke-linecap: square\"/>\n   </g>\n   <g id=\"line2d_18\">\n    <path d=\"M 49.633125 13.575235 \n\" clip-path=\"url(#p05edf659fc)\" style=\"fill: none; stroke-dasharray: 5.55,2.4; stroke-dashoffset: 0; stroke: #ff7f0e; stroke-width: 1.5\"/>\n   </g>\n   <g id=\"line2d_19\">\n    <path d=\"M 49.633125 139.5 \n\" clip-path=\"url(#p05edf659fc)\" style=\"fill: none; stroke-dasharray: 9.6,2.4,1.5,2.4; stroke-dashoffset: 0; stroke: #2ca02c; stroke-width: 1.5\"/>\n   </g>\n   <g id=\"line2d_20\">\n    <path d=\"M 34.954394 13.5 \nL 44.698573 13.547964 \nL 54.442752 13.594017 \n\" clip-path=\"url(#p05edf659fc)\" style=\"fill: none; stroke: #1f77b4; stroke-width: 1.5; stroke-linecap: square\"/>\n   </g>\n   <g id=\"line2d_21\">\n    <path d=\"M 49.633125 13.575235 \n\" clip-path=\"url(#p05edf659fc)\" style=\"fill: none; stroke-dasharray: 5.55,2.4; stroke-dashoffset: 0; stroke: #ff7f0e; stroke-width: 1.5\"/>\n   </g>\n   <g id=\"line2d_22\">\n    <path d=\"M 49.633125 139.5 \n\" clip-path=\"url(#p05edf659fc)\" style=\"fill: none; stroke-dasharray: 9.6,2.4,1.5,2.4; stroke-dashoffset: 0; stroke: #2ca02c; stroke-width: 1.5\"/>\n   </g>\n   <g id=\"line2d_23\">\n    <path d=\"M 34.954394 13.5 \nL 44.698573 13.547964 \nL 54.442752 13.594017 \nL 64.186931 13.634151 \n\" clip-path=\"url(#p05edf659fc)\" style=\"fill: none; stroke: #1f77b4; stroke-width: 1.5; stroke-linecap: square\"/>\n   </g>\n   <g id=\"line2d_24\">\n    <path d=\"M 49.633125 13.575235 \n\" clip-path=\"url(#p05edf659fc)\" style=\"fill: none; stroke-dasharray: 5.55,2.4; stroke-dashoffset: 0; stroke: #ff7f0e; stroke-width: 1.5\"/>\n   </g>\n   <g id=\"line2d_25\">\n    <path d=\"M 49.633125 139.5 \n\" clip-path=\"url(#p05edf659fc)\" style=\"fill: none; stroke-dasharray: 9.6,2.4,1.5,2.4; stroke-dashoffset: 0; stroke: #2ca02c; stroke-width: 1.5\"/>\n   </g>\n   <g id=\"line2d_26\">\n    <path d=\"M 34.954394 13.5 \nL 44.698573 13.547964 \nL 54.442752 13.594017 \nL 64.186931 13.634151 \n\" clip-path=\"url(#p05edf659fc)\" style=\"fill: none; stroke: #1f77b4; stroke-width: 1.5; stroke-linecap: square\"/>\n   </g>\n   <g id=\"line2d_27\">\n    <path d=\"M 49.633125 13.575235 \nL 69.163125 13.680477 \n\" clip-path=\"url(#p05edf659fc)\" style=\"fill: none; stroke-dasharray: 5.55,2.4; stroke-dashoffset: 0; stroke: #ff7f0e; stroke-width: 1.5\"/>\n   </g>\n   <g id=\"line2d_28\">\n    <path d=\"M 49.633125 139.5 \n\" clip-path=\"url(#p05edf659fc)\" style=\"fill: none; stroke-dasharray: 9.6,2.4,1.5,2.4; stroke-dashoffset: 0; stroke: #2ca02c; stroke-width: 1.5\"/>\n   </g>\n   <g id=\"line2d_29\">\n    <path d=\"M 34.954394 13.5 \nL 44.698573 13.547964 \nL 54.442752 13.594017 \nL 64.186931 13.634151 \n\" clip-path=\"url(#p05edf659fc)\" style=\"fill: none; stroke: #1f77b4; stroke-width: 1.5; stroke-linecap: square\"/>\n   </g>\n   <g id=\"line2d_30\">\n    <path d=\"M 49.633125 13.575235 \nL 69.163125 13.680477 \n\" clip-path=\"url(#p05edf659fc)\" style=\"fill: none; stroke-dasharray: 5.55,2.4; stroke-dashoffset: 0; stroke: #ff7f0e; stroke-width: 1.5\"/>\n   </g>\n   <g id=\"line2d_31\">\n    <path d=\"M 49.633125 139.5 \nL 69.163125 130.422365 \n\" clip-path=\"url(#p05edf659fc)\" style=\"fill: none; stroke-dasharray: 9.6,2.4,1.5,2.4; stroke-dashoffset: 0; stroke: #2ca02c; stroke-width: 1.5\"/>\n   </g>\n   <g id=\"line2d_32\">\n    <path d=\"M 34.954394 13.5 \nL 44.698573 13.547964 \nL 54.442752 13.594017 \nL 64.186931 13.634151 \nL 73.93111 13.721825 \n\" clip-path=\"url(#p05edf659fc)\" style=\"fill: none; stroke: #1f77b4; stroke-width: 1.5; stroke-linecap: square\"/>\n   </g>\n   <g id=\"line2d_33\">\n    <path d=\"M 49.633125 13.575235 \nL 69.163125 13.680477 \n\" clip-path=\"url(#p05edf659fc)\" style=\"fill: none; stroke-dasharray: 5.55,2.4; stroke-dashoffset: 0; stroke: #ff7f0e; stroke-width: 1.5\"/>\n   </g>\n   <g id=\"line2d_34\">\n    <path d=\"M 49.633125 139.5 \nL 69.163125 130.422365 \n\" clip-path=\"url(#p05edf659fc)\" style=\"fill: none; stroke-dasharray: 9.6,2.4,1.5,2.4; stroke-dashoffset: 0; stroke: #2ca02c; stroke-width: 1.5\"/>\n   </g>\n   <g id=\"line2d_35\">\n    <path d=\"M 34.954394 13.5 \nL 44.698573 13.547964 \nL 54.442752 13.594017 \nL 64.186931 13.634151 \nL 73.93111 13.721825 \nL 83.675289 13.865622 \n\" clip-path=\"url(#p05edf659fc)\" style=\"fill: none; stroke: #1f77b4; stroke-width: 1.5; stroke-linecap: square\"/>\n   </g>\n   <g id=\"line2d_36\">\n    <path d=\"M 49.633125 13.575235 \nL 69.163125 13.680477 \n\" clip-path=\"url(#p05edf659fc)\" style=\"fill: none; stroke-dasharray: 5.55,2.4; stroke-dashoffset: 0; stroke: #ff7f0e; stroke-width: 1.5\"/>\n   </g>\n   <g id=\"line2d_37\">\n    <path d=\"M 49.633125 139.5 \nL 69.163125 130.422365 \n\" clip-path=\"url(#p05edf659fc)\" style=\"fill: none; stroke-dasharray: 9.6,2.4,1.5,2.4; stroke-dashoffset: 0; stroke: #2ca02c; stroke-width: 1.5\"/>\n   </g>\n   <g id=\"line2d_38\">\n    <path d=\"M 34.954394 13.5 \nL 44.698573 13.547964 \nL 54.442752 13.594017 \nL 64.186931 13.634151 \nL 73.93111 13.721825 \nL 83.675289 13.865622 \n\" clip-path=\"url(#p05edf659fc)\" style=\"fill: none; stroke: #1f77b4; stroke-width: 1.5; stroke-linecap: square\"/>\n   </g>\n   <g id=\"line2d_39\">\n    <path d=\"M 49.633125 13.575235 \nL 69.163125 13.680477 \nL 88.693125 13.991644 \n\" clip-path=\"url(#p05edf659fc)\" style=\"fill: none; stroke-dasharray: 5.55,2.4; stroke-dashoffset: 0; stroke: #ff7f0e; stroke-width: 1.5\"/>\n   </g>\n   <g id=\"line2d_40\">\n    <path d=\"M 49.633125 139.5 \nL 69.163125 130.422365 \n\" clip-path=\"url(#p05edf659fc)\" style=\"fill: none; stroke-dasharray: 9.6,2.4,1.5,2.4; stroke-dashoffset: 0; stroke: #2ca02c; stroke-width: 1.5\"/>\n   </g>\n   <g id=\"line2d_41\">\n    <path d=\"M 34.954394 13.5 \nL 44.698573 13.547964 \nL 54.442752 13.594017 \nL 64.186931 13.634151 \nL 73.93111 13.721825 \nL 83.675289 13.865622 \n\" clip-path=\"url(#p05edf659fc)\" style=\"fill: none; stroke: #1f77b4; stroke-width: 1.5; stroke-linecap: square\"/>\n   </g>\n   <g id=\"line2d_42\">\n    <path d=\"M 49.633125 13.575235 \nL 69.163125 13.680477 \nL 88.693125 13.991644 \n\" clip-path=\"url(#p05edf659fc)\" style=\"fill: none; stroke-dasharray: 5.55,2.4; stroke-dashoffset: 0; stroke: #ff7f0e; stroke-width: 1.5\"/>\n   </g>\n   <g id=\"line2d_43\">\n    <path d=\"M 49.633125 139.5 \nL 69.163125 130.422365 \nL 88.693125 130.773028 \n\" clip-path=\"url(#p05edf659fc)\" style=\"fill: none; stroke-dasharray: 9.6,2.4,1.5,2.4; stroke-dashoffset: 0; stroke: #2ca02c; stroke-width: 1.5\"/>\n   </g>\n   <g id=\"line2d_44\">\n    <path d=\"M 34.954394 13.5 \nL 44.698573 13.547964 \nL 54.442752 13.594017 \nL 64.186931 13.634151 \nL 73.93111 13.721825 \nL 83.675289 13.865622 \nL 93.419468 14.210721 \n\" clip-path=\"url(#p05edf659fc)\" style=\"fill: none; stroke: #1f77b4; stroke-width: 1.5; stroke-linecap: square\"/>\n   </g>\n   <g id=\"line2d_45\">\n    <path d=\"M 49.633125 13.575235 \nL 69.163125 13.680477 \nL 88.693125 13.991644 \n\" clip-path=\"url(#p05edf659fc)\" style=\"fill: none; stroke-dasharray: 5.55,2.4; stroke-dashoffset: 0; stroke: #ff7f0e; stroke-width: 1.5\"/>\n   </g>\n   <g id=\"line2d_46\">\n    <path d=\"M 49.633125 139.5 \nL 69.163125 130.422365 \nL 88.693125 130.773028 \n\" clip-path=\"url(#p05edf659fc)\" style=\"fill: none; stroke-dasharray: 9.6,2.4,1.5,2.4; stroke-dashoffset: 0; stroke: #2ca02c; stroke-width: 1.5\"/>\n   </g>\n   <g id=\"line2d_47\">\n    <path d=\"M 34.954394 13.5 \nL 44.698573 13.547964 \nL 54.442752 13.594017 \nL 64.186931 13.634151 \nL 73.93111 13.721825 \nL 83.675289 13.865622 \nL 93.419468 14.210721 \nL 103.163647 15.353191 \n\" clip-path=\"url(#p05edf659fc)\" style=\"fill: none; stroke: #1f77b4; stroke-width: 1.5; stroke-linecap: square\"/>\n   </g>\n   <g id=\"line2d_48\">\n    <path d=\"M 49.633125 13.575235 \nL 69.163125 13.680477 \nL 88.693125 13.991644 \n\" clip-path=\"url(#p05edf659fc)\" style=\"fill: none; stroke-dasharray: 5.55,2.4; stroke-dashoffset: 0; stroke: #ff7f0e; stroke-width: 1.5\"/>\n   </g>\n   <g id=\"line2d_49\">\n    <path d=\"M 49.633125 139.5 \nL 69.163125 130.422365 \nL 88.693125 130.773028 \n\" clip-path=\"url(#p05edf659fc)\" style=\"fill: none; stroke-dasharray: 9.6,2.4,1.5,2.4; stroke-dashoffset: 0; stroke: #2ca02c; stroke-width: 1.5\"/>\n   </g>\n   <g id=\"line2d_50\">\n    <path d=\"M 34.954394 13.5 \nL 44.698573 13.547964 \nL 54.442752 13.594017 \nL 64.186931 13.634151 \nL 73.93111 13.721825 \nL 83.675289 13.865622 \nL 93.419468 14.210721 \nL 103.163647 15.353191 \n\" clip-path=\"url(#p05edf659fc)\" style=\"fill: none; stroke: #1f77b4; stroke-width: 1.5; stroke-linecap: square\"/>\n   </g>\n   <g id=\"line2d_51\">\n    <path d=\"M 49.633125 13.575235 \nL 69.163125 13.680477 \nL 88.693125 13.991644 \nL 108.223125 16.849559 \n\" clip-path=\"url(#p05edf659fc)\" style=\"fill: none; stroke-dasharray: 5.55,2.4; stroke-dashoffset: 0; stroke: #ff7f0e; stroke-width: 1.5\"/>\n   </g>\n   <g id=\"line2d_52\">\n    <path d=\"M 49.633125 139.5 \nL 69.163125 130.422365 \nL 88.693125 130.773028 \n\" clip-path=\"url(#p05edf659fc)\" style=\"fill: none; stroke-dasharray: 9.6,2.4,1.5,2.4; stroke-dashoffset: 0; stroke: #2ca02c; stroke-width: 1.5\"/>\n   </g>\n   <g id=\"line2d_53\">\n    <path d=\"M 34.954394 13.5 \nL 44.698573 13.547964 \nL 54.442752 13.594017 \nL 64.186931 13.634151 \nL 73.93111 13.721825 \nL 83.675289 13.865622 \nL 93.419468 14.210721 \nL 103.163647 15.353191 \n\" clip-path=\"url(#p05edf659fc)\" style=\"fill: none; stroke: #1f77b4; stroke-width: 1.5; stroke-linecap: square\"/>\n   </g>\n   <g id=\"line2d_54\">\n    <path d=\"M 49.633125 13.575235 \nL 69.163125 13.680477 \nL 88.693125 13.991644 \nL 108.223125 16.849559 \n\" clip-path=\"url(#p05edf659fc)\" style=\"fill: none; stroke-dasharray: 5.55,2.4; stroke-dashoffset: 0; stroke: #ff7f0e; stroke-width: 1.5\"/>\n   </g>\n   <g id=\"line2d_55\">\n    <path d=\"M 49.633125 139.5 \nL 69.163125 130.422365 \nL 88.693125 130.773028 \nL 108.223125 123.940764 \n\" clip-path=\"url(#p05edf659fc)\" style=\"fill: none; stroke-dasharray: 9.6,2.4,1.5,2.4; stroke-dashoffset: 0; stroke: #2ca02c; stroke-width: 1.5\"/>\n   </g>\n   <g id=\"line2d_56\">\n    <path d=\"M 34.954394 13.5 \nL 44.698573 13.547964 \nL 54.442752 13.594017 \nL 64.186931 13.634151 \nL 73.93111 13.721825 \nL 83.675289 13.865622 \nL 93.419468 14.210721 \nL 103.163647 15.353191 \nL 112.907826 23.101517 \n\" clip-path=\"url(#p05edf659fc)\" style=\"fill: none; stroke: #1f77b4; stroke-width: 1.5; stroke-linecap: square\"/>\n   </g>\n   <g id=\"line2d_57\">\n    <path d=\"M 49.633125 13.575235 \nL 69.163125 13.680477 \nL 88.693125 13.991644 \nL 108.223125 16.849559 \n\" clip-path=\"url(#p05edf659fc)\" style=\"fill: none; stroke-dasharray: 5.55,2.4; stroke-dashoffset: 0; stroke: #ff7f0e; stroke-width: 1.5\"/>\n   </g>\n   <g id=\"line2d_58\">\n    <path d=\"M 49.633125 139.5 \nL 69.163125 130.422365 \nL 88.693125 130.773028 \nL 108.223125 123.940764 \n\" clip-path=\"url(#p05edf659fc)\" style=\"fill: none; stroke-dasharray: 9.6,2.4,1.5,2.4; stroke-dashoffset: 0; stroke: #2ca02c; stroke-width: 1.5\"/>\n   </g>\n   <g id=\"line2d_59\">\n    <path d=\"M 34.954394 13.5 \nL 44.698573 13.547964 \nL 54.442752 13.594017 \nL 64.186931 13.634151 \nL 73.93111 13.721825 \nL 83.675289 13.865622 \nL 93.419468 14.210721 \nL 103.163647 15.353191 \nL 112.907826 23.101517 \nL 122.652006 49.599175 \n\" clip-path=\"url(#p05edf659fc)\" style=\"fill: none; stroke: #1f77b4; stroke-width: 1.5; stroke-linecap: square\"/>\n   </g>\n   <g id=\"line2d_60\">\n    <path d=\"M 49.633125 13.575235 \nL 69.163125 13.680477 \nL 88.693125 13.991644 \nL 108.223125 16.849559 \n\" clip-path=\"url(#p05edf659fc)\" style=\"fill: none; stroke-dasharray: 5.55,2.4; stroke-dashoffset: 0; stroke: #ff7f0e; stroke-width: 1.5\"/>\n   </g>\n   <g id=\"line2d_61\">\n    <path d=\"M 49.633125 139.5 \nL 69.163125 130.422365 \nL 88.693125 130.773028 \nL 108.223125 123.940764 \n\" clip-path=\"url(#p05edf659fc)\" style=\"fill: none; stroke-dasharray: 9.6,2.4,1.5,2.4; stroke-dashoffset: 0; stroke: #2ca02c; stroke-width: 1.5\"/>\n   </g>\n   <g id=\"line2d_62\">\n    <path d=\"M 34.954394 13.5 \nL 44.698573 13.547964 \nL 54.442752 13.594017 \nL 64.186931 13.634151 \nL 73.93111 13.721825 \nL 83.675289 13.865622 \nL 93.419468 14.210721 \nL 103.163647 15.353191 \nL 112.907826 23.101517 \nL 122.652006 49.599175 \n\" clip-path=\"url(#p05edf659fc)\" style=\"fill: none; stroke: #1f77b4; stroke-width: 1.5; stroke-linecap: square\"/>\n   </g>\n   <g id=\"line2d_63\">\n    <path d=\"M 49.633125 13.575235 \nL 69.163125 13.680477 \nL 88.693125 13.991644 \nL 108.223125 16.849559 \nL 127.753125 68.696503 \n\" clip-path=\"url(#p05edf659fc)\" style=\"fill: none; stroke-dasharray: 5.55,2.4; stroke-dashoffset: 0; stroke: #ff7f0e; stroke-width: 1.5\"/>\n   </g>\n   <g id=\"line2d_64\">\n    <path d=\"M 49.633125 139.5 \nL 69.163125 130.422365 \nL 88.693125 130.773028 \nL 108.223125 123.940764 \n\" clip-path=\"url(#p05edf659fc)\" style=\"fill: none; stroke-dasharray: 9.6,2.4,1.5,2.4; stroke-dashoffset: 0; stroke: #2ca02c; stroke-width: 1.5\"/>\n   </g>\n   <g id=\"line2d_65\">\n    <path d=\"M 34.954394 13.5 \nL 44.698573 13.547964 \nL 54.442752 13.594017 \nL 64.186931 13.634151 \nL 73.93111 13.721825 \nL 83.675289 13.865622 \nL 93.419468 14.210721 \nL 103.163647 15.353191 \nL 112.907826 23.101517 \nL 122.652006 49.599175 \n\" clip-path=\"url(#p05edf659fc)\" style=\"fill: none; stroke: #1f77b4; stroke-width: 1.5; stroke-linecap: square\"/>\n   </g>\n   <g id=\"line2d_66\">\n    <path d=\"M 49.633125 13.575235 \nL 69.163125 13.680477 \nL 88.693125 13.991644 \nL 108.223125 16.849559 \nL 127.753125 68.696503 \n\" clip-path=\"url(#p05edf659fc)\" style=\"fill: none; stroke-dasharray: 5.55,2.4; stroke-dashoffset: 0; stroke: #ff7f0e; stroke-width: 1.5\"/>\n   </g>\n   <g id=\"line2d_67\">\n    <path d=\"M 49.633125 139.5 \nL 69.163125 130.422365 \nL 88.693125 130.773028 \nL 108.223125 123.940764 \nL 127.753125 118.064339 \n\" clip-path=\"url(#p05edf659fc)\" style=\"fill: none; stroke-dasharray: 9.6,2.4,1.5,2.4; stroke-dashoffset: 0; stroke: #2ca02c; stroke-width: 1.5\"/>\n   </g>\n   <g id=\"line2d_68\">\n    <path d=\"M 34.954394 13.5 \nL 44.698573 13.547964 \nL 54.442752 13.594017 \nL 64.186931 13.634151 \nL 73.93111 13.721825 \nL 83.675289 13.865622 \nL 93.419468 14.210721 \nL 103.163647 15.353191 \nL 112.907826 23.101517 \nL 122.652006 49.599175 \nL 132.396185 73.005484 \n\" clip-path=\"url(#p05edf659fc)\" style=\"fill: none; stroke: #1f77b4; stroke-width: 1.5; stroke-linecap: square\"/>\n   </g>\n   <g id=\"line2d_69\">\n    <path d=\"M 49.633125 13.575235 \nL 69.163125 13.680477 \nL 88.693125 13.991644 \nL 108.223125 16.849559 \nL 127.753125 68.696503 \n\" clip-path=\"url(#p05edf659fc)\" style=\"fill: none; stroke-dasharray: 5.55,2.4; stroke-dashoffset: 0; stroke: #ff7f0e; stroke-width: 1.5\"/>\n   </g>\n   <g id=\"line2d_70\">\n    <path d=\"M 49.633125 139.5 \nL 69.163125 130.422365 \nL 88.693125 130.773028 \nL 108.223125 123.940764 \nL 127.753125 118.064339 \n\" clip-path=\"url(#p05edf659fc)\" style=\"fill: none; stroke-dasharray: 9.6,2.4,1.5,2.4; stroke-dashoffset: 0; stroke: #2ca02c; stroke-width: 1.5\"/>\n   </g>\n   <g id=\"line2d_71\">\n    <path d=\"M 34.954394 13.5 \nL 44.698573 13.547964 \nL 54.442752 13.594017 \nL 64.186931 13.634151 \nL 73.93111 13.721825 \nL 83.675289 13.865622 \nL 93.419468 14.210721 \nL 103.163647 15.353191 \nL 112.907826 23.101517 \nL 122.652006 49.599175 \nL 132.396185 73.005484 \nL 142.140364 89.969565 \n\" clip-path=\"url(#p05edf659fc)\" style=\"fill: none; stroke: #1f77b4; stroke-width: 1.5; stroke-linecap: square\"/>\n   </g>\n   <g id=\"line2d_72\">\n    <path d=\"M 49.633125 13.575235 \nL 69.163125 13.680477 \nL 88.693125 13.991644 \nL 108.223125 16.849559 \nL 127.753125 68.696503 \n\" clip-path=\"url(#p05edf659fc)\" style=\"fill: none; stroke-dasharray: 5.55,2.4; stroke-dashoffset: 0; stroke: #ff7f0e; stroke-width: 1.5\"/>\n   </g>\n   <g id=\"line2d_73\">\n    <path d=\"M 49.633125 139.5 \nL 69.163125 130.422365 \nL 88.693125 130.773028 \nL 108.223125 123.940764 \nL 127.753125 118.064339 \n\" clip-path=\"url(#p05edf659fc)\" style=\"fill: none; stroke-dasharray: 9.6,2.4,1.5,2.4; stroke-dashoffset: 0; stroke: #2ca02c; stroke-width: 1.5\"/>\n   </g>\n   <g id=\"line2d_74\">\n    <path d=\"M 34.954394 13.5 \nL 44.698573 13.547964 \nL 54.442752 13.594017 \nL 64.186931 13.634151 \nL 73.93111 13.721825 \nL 83.675289 13.865622 \nL 93.419468 14.210721 \nL 103.163647 15.353191 \nL 112.907826 23.101517 \nL 122.652006 49.599175 \nL 132.396185 73.005484 \nL 142.140364 89.969565 \n\" clip-path=\"url(#p05edf659fc)\" style=\"fill: none; stroke: #1f77b4; stroke-width: 1.5; stroke-linecap: square\"/>\n   </g>\n   <g id=\"line2d_75\">\n    <path d=\"M 49.633125 13.575235 \nL 69.163125 13.680477 \nL 88.693125 13.991644 \nL 108.223125 16.849559 \nL 127.753125 68.696503 \nL 147.283125 95.989941 \n\" clip-path=\"url(#p05edf659fc)\" style=\"fill: none; stroke-dasharray: 5.55,2.4; stroke-dashoffset: 0; stroke: #ff7f0e; stroke-width: 1.5\"/>\n   </g>\n   <g id=\"line2d_76\">\n    <path d=\"M 49.633125 139.5 \nL 69.163125 130.422365 \nL 88.693125 130.773028 \nL 108.223125 123.940764 \nL 127.753125 118.064339 \n\" clip-path=\"url(#p05edf659fc)\" style=\"fill: none; stroke-dasharray: 9.6,2.4,1.5,2.4; stroke-dashoffset: 0; stroke: #2ca02c; stroke-width: 1.5\"/>\n   </g>\n   <g id=\"line2d_77\">\n    <path d=\"M 34.954394 13.5 \nL 44.698573 13.547964 \nL 54.442752 13.594017 \nL 64.186931 13.634151 \nL 73.93111 13.721825 \nL 83.675289 13.865622 \nL 93.419468 14.210721 \nL 103.163647 15.353191 \nL 112.907826 23.101517 \nL 122.652006 49.599175 \nL 132.396185 73.005484 \nL 142.140364 89.969565 \n\" clip-path=\"url(#p05edf659fc)\" style=\"fill: none; stroke: #1f77b4; stroke-width: 1.5; stroke-linecap: square\"/>\n   </g>\n   <g id=\"line2d_78\">\n    <path d=\"M 49.633125 13.575235 \nL 69.163125 13.680477 \nL 88.693125 13.991644 \nL 108.223125 16.849559 \nL 127.753125 68.696503 \nL 147.283125 95.989941 \n\" clip-path=\"url(#p05edf659fc)\" style=\"fill: none; stroke-dasharray: 5.55,2.4; stroke-dashoffset: 0; stroke: #ff7f0e; stroke-width: 1.5\"/>\n   </g>\n   <g id=\"line2d_79\">\n    <path d=\"M 49.633125 139.5 \nL 69.163125 130.422365 \nL 88.693125 130.773028 \nL 108.223125 123.940764 \nL 127.753125 118.064339 \nL 147.283125 107.069372 \n\" clip-path=\"url(#p05edf659fc)\" style=\"fill: none; stroke-dasharray: 9.6,2.4,1.5,2.4; stroke-dashoffset: 0; stroke: #2ca02c; stroke-width: 1.5\"/>\n   </g>\n   <g id=\"line2d_80\">\n    <path d=\"M 34.954394 13.5 \nL 44.698573 13.547964 \nL 54.442752 13.594017 \nL 64.186931 13.634151 \nL 73.93111 13.721825 \nL 83.675289 13.865622 \nL 93.419468 14.210721 \nL 103.163647 15.353191 \nL 112.907826 23.101517 \nL 122.652006 49.599175 \nL 132.396185 73.005484 \nL 142.140364 89.969565 \nL 151.884543 96.802976 \n\" clip-path=\"url(#p05edf659fc)\" style=\"fill: none; stroke: #1f77b4; stroke-width: 1.5; stroke-linecap: square\"/>\n   </g>\n   <g id=\"line2d_81\">\n    <path d=\"M 49.633125 13.575235 \nL 69.163125 13.680477 \nL 88.693125 13.991644 \nL 108.223125 16.849559 \nL 127.753125 68.696503 \nL 147.283125 95.989941 \n\" clip-path=\"url(#p05edf659fc)\" style=\"fill: none; stroke-dasharray: 5.55,2.4; stroke-dashoffset: 0; stroke: #ff7f0e; stroke-width: 1.5\"/>\n   </g>\n   <g id=\"line2d_82\">\n    <path d=\"M 49.633125 139.5 \nL 69.163125 130.422365 \nL 88.693125 130.773028 \nL 108.223125 123.940764 \nL 127.753125 118.064339 \nL 147.283125 107.069372 \n\" clip-path=\"url(#p05edf659fc)\" style=\"fill: none; stroke-dasharray: 9.6,2.4,1.5,2.4; stroke-dashoffset: 0; stroke: #2ca02c; stroke-width: 1.5\"/>\n   </g>\n   <g id=\"line2d_83\">\n    <path d=\"M 34.954394 13.5 \nL 44.698573 13.547964 \nL 54.442752 13.594017 \nL 64.186931 13.634151 \nL 73.93111 13.721825 \nL 83.675289 13.865622 \nL 93.419468 14.210721 \nL 103.163647 15.353191 \nL 112.907826 23.101517 \nL 122.652006 49.599175 \nL 132.396185 73.005484 \nL 142.140364 89.969565 \nL 151.884543 96.802976 \nL 161.628722 102.571461 \n\" clip-path=\"url(#p05edf659fc)\" style=\"fill: none; stroke: #1f77b4; stroke-width: 1.5; stroke-linecap: square\"/>\n   </g>\n   <g id=\"line2d_84\">\n    <path d=\"M 49.633125 13.575235 \nL 69.163125 13.680477 \nL 88.693125 13.991644 \nL 108.223125 16.849559 \nL 127.753125 68.696503 \nL 147.283125 95.989941 \n\" clip-path=\"url(#p05edf659fc)\" style=\"fill: none; stroke-dasharray: 5.55,2.4; stroke-dashoffset: 0; stroke: #ff7f0e; stroke-width: 1.5\"/>\n   </g>\n   <g id=\"line2d_85\">\n    <path d=\"M 49.633125 139.5 \nL 69.163125 130.422365 \nL 88.693125 130.773028 \nL 108.223125 123.940764 \nL 127.753125 118.064339 \nL 147.283125 107.069372 \n\" clip-path=\"url(#p05edf659fc)\" style=\"fill: none; stroke-dasharray: 9.6,2.4,1.5,2.4; stroke-dashoffset: 0; stroke: #2ca02c; stroke-width: 1.5\"/>\n   </g>\n   <g id=\"line2d_86\">\n    <path d=\"M 34.954394 13.5 \nL 44.698573 13.547964 \nL 54.442752 13.594017 \nL 64.186931 13.634151 \nL 73.93111 13.721825 \nL 83.675289 13.865622 \nL 93.419468 14.210721 \nL 103.163647 15.353191 \nL 112.907826 23.101517 \nL 122.652006 49.599175 \nL 132.396185 73.005484 \nL 142.140364 89.969565 \nL 151.884543 96.802976 \nL 161.628722 102.571461 \n\" clip-path=\"url(#p05edf659fc)\" style=\"fill: none; stroke: #1f77b4; stroke-width: 1.5; stroke-linecap: square\"/>\n   </g>\n   <g id=\"line2d_87\">\n    <path d=\"M 49.633125 13.575235 \nL 69.163125 13.680477 \nL 88.693125 13.991644 \nL 108.223125 16.849559 \nL 127.753125 68.696503 \nL 147.283125 95.989941 \nL 166.813125 106.988093 \n\" clip-path=\"url(#p05edf659fc)\" style=\"fill: none; stroke-dasharray: 5.55,2.4; stroke-dashoffset: 0; stroke: #ff7f0e; stroke-width: 1.5\"/>\n   </g>\n   <g id=\"line2d_88\">\n    <path d=\"M 49.633125 139.5 \nL 69.163125 130.422365 \nL 88.693125 130.773028 \nL 108.223125 123.940764 \nL 127.753125 118.064339 \nL 147.283125 107.069372 \n\" clip-path=\"url(#p05edf659fc)\" style=\"fill: none; stroke-dasharray: 9.6,2.4,1.5,2.4; stroke-dashoffset: 0; stroke: #2ca02c; stroke-width: 1.5\"/>\n   </g>\n   <g id=\"line2d_89\">\n    <path d=\"M 34.954394 13.5 \nL 44.698573 13.547964 \nL 54.442752 13.594017 \nL 64.186931 13.634151 \nL 73.93111 13.721825 \nL 83.675289 13.865622 \nL 93.419468 14.210721 \nL 103.163647 15.353191 \nL 112.907826 23.101517 \nL 122.652006 49.599175 \nL 132.396185 73.005484 \nL 142.140364 89.969565 \nL 151.884543 96.802976 \nL 161.628722 102.571461 \n\" clip-path=\"url(#p05edf659fc)\" style=\"fill: none; stroke: #1f77b4; stroke-width: 1.5; stroke-linecap: square\"/>\n   </g>\n   <g id=\"line2d_90\">\n    <path d=\"M 49.633125 13.575235 \nL 69.163125 13.680477 \nL 88.693125 13.991644 \nL 108.223125 16.849559 \nL 127.753125 68.696503 \nL 147.283125 95.989941 \nL 166.813125 106.988093 \n\" clip-path=\"url(#p05edf659fc)\" style=\"fill: none; stroke-dasharray: 5.55,2.4; stroke-dashoffset: 0; stroke: #ff7f0e; stroke-width: 1.5\"/>\n   </g>\n   <g id=\"line2d_91\">\n    <path d=\"M 49.633125 139.5 \nL 69.163125 130.422365 \nL 88.693125 130.773028 \nL 108.223125 123.940764 \nL 127.753125 118.064339 \nL 147.283125 107.069372 \nL 166.813125 102.878389 \n\" clip-path=\"url(#p05edf659fc)\" style=\"fill: none; stroke-dasharray: 9.6,2.4,1.5,2.4; stroke-dashoffset: 0; stroke: #2ca02c; stroke-width: 1.5\"/>\n   </g>\n   <g id=\"line2d_92\">\n    <path d=\"M 34.954394 13.5 \nL 44.698573 13.547964 \nL 54.442752 13.594017 \nL 64.186931 13.634151 \nL 73.93111 13.721825 \nL 83.675289 13.865622 \nL 93.419468 14.210721 \nL 103.163647 15.353191 \nL 112.907826 23.101517 \nL 122.652006 49.599175 \nL 132.396185 73.005484 \nL 142.140364 89.969565 \nL 151.884543 96.802976 \nL 161.628722 102.571461 \nL 171.372901 106.751889 \n\" clip-path=\"url(#p05edf659fc)\" style=\"fill: none; stroke: #1f77b4; stroke-width: 1.5; stroke-linecap: square\"/>\n   </g>\n   <g id=\"line2d_93\">\n    <path d=\"M 49.633125 13.575235 \nL 69.163125 13.680477 \nL 88.693125 13.991644 \nL 108.223125 16.849559 \nL 127.753125 68.696503 \nL 147.283125 95.989941 \nL 166.813125 106.988093 \n\" clip-path=\"url(#p05edf659fc)\" style=\"fill: none; stroke-dasharray: 5.55,2.4; stroke-dashoffset: 0; stroke: #ff7f0e; stroke-width: 1.5\"/>\n   </g>\n   <g id=\"line2d_94\">\n    <path d=\"M 49.633125 139.5 \nL 69.163125 130.422365 \nL 88.693125 130.773028 \nL 108.223125 123.940764 \nL 127.753125 118.064339 \nL 147.283125 107.069372 \nL 166.813125 102.878389 \n\" clip-path=\"url(#p05edf659fc)\" style=\"fill: none; stroke-dasharray: 9.6,2.4,1.5,2.4; stroke-dashoffset: 0; stroke: #2ca02c; stroke-width: 1.5\"/>\n   </g>\n   <g id=\"line2d_95\">\n    <path d=\"M 34.954394 13.5 \nL 44.698573 13.547964 \nL 54.442752 13.594017 \nL 64.186931 13.634151 \nL 73.93111 13.721825 \nL 83.675289 13.865622 \nL 93.419468 14.210721 \nL 103.163647 15.353191 \nL 112.907826 23.101517 \nL 122.652006 49.599175 \nL 132.396185 73.005484 \nL 142.140364 89.969565 \nL 151.884543 96.802976 \nL 161.628722 102.571461 \nL 171.372901 106.751889 \nL 181.11708 107.833215 \n\" clip-path=\"url(#p05edf659fc)\" style=\"fill: none; stroke: #1f77b4; stroke-width: 1.5; stroke-linecap: square\"/>\n   </g>\n   <g id=\"line2d_96\">\n    <path d=\"M 49.633125 13.575235 \nL 69.163125 13.680477 \nL 88.693125 13.991644 \nL 108.223125 16.849559 \nL 127.753125 68.696503 \nL 147.283125 95.989941 \nL 166.813125 106.988093 \n\" clip-path=\"url(#p05edf659fc)\" style=\"fill: none; stroke-dasharray: 5.55,2.4; stroke-dashoffset: 0; stroke: #ff7f0e; stroke-width: 1.5\"/>\n   </g>\n   <g id=\"line2d_97\">\n    <path d=\"M 49.633125 139.5 \nL 69.163125 130.422365 \nL 88.693125 130.773028 \nL 108.223125 123.940764 \nL 127.753125 118.064339 \nL 147.283125 107.069372 \nL 166.813125 102.878389 \n\" clip-path=\"url(#p05edf659fc)\" style=\"fill: none; stroke-dasharray: 9.6,2.4,1.5,2.4; stroke-dashoffset: 0; stroke: #2ca02c; stroke-width: 1.5\"/>\n   </g>\n   <g id=\"line2d_98\">\n    <path d=\"M 34.954394 13.5 \nL 44.698573 13.547964 \nL 54.442752 13.594017 \nL 64.186931 13.634151 \nL 73.93111 13.721825 \nL 83.675289 13.865622 \nL 93.419468 14.210721 \nL 103.163647 15.353191 \nL 112.907826 23.101517 \nL 122.652006 49.599175 \nL 132.396185 73.005484 \nL 142.140364 89.969565 \nL 151.884543 96.802976 \nL 161.628722 102.571461 \nL 171.372901 106.751889 \nL 181.11708 107.833215 \n\" clip-path=\"url(#p05edf659fc)\" style=\"fill: none; stroke: #1f77b4; stroke-width: 1.5; stroke-linecap: square\"/>\n   </g>\n   <g id=\"line2d_99\">\n    <path d=\"M 49.633125 13.575235 \nL 69.163125 13.680477 \nL 88.693125 13.991644 \nL 108.223125 16.849559 \nL 127.753125 68.696503 \nL 147.283125 95.989941 \nL 166.813125 106.988093 \nL 186.343125 108.442506 \n\" clip-path=\"url(#p05edf659fc)\" style=\"fill: none; stroke-dasharray: 5.55,2.4; stroke-dashoffset: 0; stroke: #ff7f0e; stroke-width: 1.5\"/>\n   </g>\n   <g id=\"line2d_100\">\n    <path d=\"M 49.633125 139.5 \nL 69.163125 130.422365 \nL 88.693125 130.773028 \nL 108.223125 123.940764 \nL 127.753125 118.064339 \nL 147.283125 107.069372 \nL 166.813125 102.878389 \n\" clip-path=\"url(#p05edf659fc)\" style=\"fill: none; stroke-dasharray: 9.6,2.4,1.5,2.4; stroke-dashoffset: 0; stroke: #2ca02c; stroke-width: 1.5\"/>\n   </g>\n   <g id=\"line2d_101\">\n    <path d=\"M 34.954394 13.5 \nL 44.698573 13.547964 \nL 54.442752 13.594017 \nL 64.186931 13.634151 \nL 73.93111 13.721825 \nL 83.675289 13.865622 \nL 93.419468 14.210721 \nL 103.163647 15.353191 \nL 112.907826 23.101517 \nL 122.652006 49.599175 \nL 132.396185 73.005484 \nL 142.140364 89.969565 \nL 151.884543 96.802976 \nL 161.628722 102.571461 \nL 171.372901 106.751889 \nL 181.11708 107.833215 \n\" clip-path=\"url(#p05edf659fc)\" style=\"fill: none; stroke: #1f77b4; stroke-width: 1.5; stroke-linecap: square\"/>\n   </g>\n   <g id=\"line2d_102\">\n    <path d=\"M 49.633125 13.575235 \nL 69.163125 13.680477 \nL 88.693125 13.991644 \nL 108.223125 16.849559 \nL 127.753125 68.696503 \nL 147.283125 95.989941 \nL 166.813125 106.988093 \nL 186.343125 108.442506 \n\" clip-path=\"url(#p05edf659fc)\" style=\"fill: none; stroke-dasharray: 5.55,2.4; stroke-dashoffset: 0; stroke: #ff7f0e; stroke-width: 1.5\"/>\n   </g>\n   <g id=\"line2d_103\">\n    <path d=\"M 49.633125 139.5 \nL 69.163125 130.422365 \nL 88.693125 130.773028 \nL 108.223125 123.940764 \nL 127.753125 118.064339 \nL 147.283125 107.069372 \nL 166.813125 102.878389 \nL 186.343125 101.775499 \n\" clip-path=\"url(#p05edf659fc)\" style=\"fill: none; stroke-dasharray: 9.6,2.4,1.5,2.4; stroke-dashoffset: 0; stroke: #2ca02c; stroke-width: 1.5\"/>\n   </g>\n   <g id=\"line2d_104\">\n    <path d=\"M 34.954394 13.5 \nL 44.698573 13.547964 \nL 54.442752 13.594017 \nL 64.186931 13.634151 \nL 73.93111 13.721825 \nL 83.675289 13.865622 \nL 93.419468 14.210721 \nL 103.163647 15.353191 \nL 112.907826 23.101517 \nL 122.652006 49.599175 \nL 132.396185 73.005484 \nL 142.140364 89.969565 \nL 151.884543 96.802976 \nL 161.628722 102.571461 \nL 171.372901 106.751889 \nL 181.11708 107.833215 \nL 190.861259 111.165838 \n\" clip-path=\"url(#p05edf659fc)\" style=\"fill: none; stroke: #1f77b4; stroke-width: 1.5; stroke-linecap: square\"/>\n   </g>\n   <g id=\"line2d_105\">\n    <path d=\"M 49.633125 13.575235 \nL 69.163125 13.680477 \nL 88.693125 13.991644 \nL 108.223125 16.849559 \nL 127.753125 68.696503 \nL 147.283125 95.989941 \nL 166.813125 106.988093 \nL 186.343125 108.442506 \n\" clip-path=\"url(#p05edf659fc)\" style=\"fill: none; stroke-dasharray: 5.55,2.4; stroke-dashoffset: 0; stroke: #ff7f0e; stroke-width: 1.5\"/>\n   </g>\n   <g id=\"line2d_106\">\n    <path d=\"M 49.633125 139.5 \nL 69.163125 130.422365 \nL 88.693125 130.773028 \nL 108.223125 123.940764 \nL 127.753125 118.064339 \nL 147.283125 107.069372 \nL 166.813125 102.878389 \nL 186.343125 101.775499 \n\" clip-path=\"url(#p05edf659fc)\" style=\"fill: none; stroke-dasharray: 9.6,2.4,1.5,2.4; stroke-dashoffset: 0; stroke: #2ca02c; stroke-width: 1.5\"/>\n   </g>\n   <g id=\"line2d_107\">\n    <path d=\"M 34.954394 13.5 \nL 44.698573 13.547964 \nL 54.442752 13.594017 \nL 64.186931 13.634151 \nL 73.93111 13.721825 \nL 83.675289 13.865622 \nL 93.419468 14.210721 \nL 103.163647 15.353191 \nL 112.907826 23.101517 \nL 122.652006 49.599175 \nL 132.396185 73.005484 \nL 142.140364 89.969565 \nL 151.884543 96.802976 \nL 161.628722 102.571461 \nL 171.372901 106.751889 \nL 181.11708 107.833215 \nL 190.861259 111.165838 \nL 200.605438 113.944098 \n\" clip-path=\"url(#p05edf659fc)\" style=\"fill: none; stroke: #1f77b4; stroke-width: 1.5; stroke-linecap: square\"/>\n   </g>\n   <g id=\"line2d_108\">\n    <path d=\"M 49.633125 13.575235 \nL 69.163125 13.680477 \nL 88.693125 13.991644 \nL 108.223125 16.849559 \nL 127.753125 68.696503 \nL 147.283125 95.989941 \nL 166.813125 106.988093 \nL 186.343125 108.442506 \n\" clip-path=\"url(#p05edf659fc)\" style=\"fill: none; stroke-dasharray: 5.55,2.4; stroke-dashoffset: 0; stroke: #ff7f0e; stroke-width: 1.5\"/>\n   </g>\n   <g id=\"line2d_109\">\n    <path d=\"M 49.633125 139.5 \nL 69.163125 130.422365 \nL 88.693125 130.773028 \nL 108.223125 123.940764 \nL 127.753125 118.064339 \nL 147.283125 107.069372 \nL 166.813125 102.878389 \nL 186.343125 101.775499 \n\" clip-path=\"url(#p05edf659fc)\" style=\"fill: none; stroke-dasharray: 9.6,2.4,1.5,2.4; stroke-dashoffset: 0; stroke: #2ca02c; stroke-width: 1.5\"/>\n   </g>\n   <g id=\"line2d_110\">\n    <path d=\"M 34.954394 13.5 \nL 44.698573 13.547964 \nL 54.442752 13.594017 \nL 64.186931 13.634151 \nL 73.93111 13.721825 \nL 83.675289 13.865622 \nL 93.419468 14.210721 \nL 103.163647 15.353191 \nL 112.907826 23.101517 \nL 122.652006 49.599175 \nL 132.396185 73.005484 \nL 142.140364 89.969565 \nL 151.884543 96.802976 \nL 161.628722 102.571461 \nL 171.372901 106.751889 \nL 181.11708 107.833215 \nL 190.861259 111.165838 \nL 200.605438 113.944098 \n\" clip-path=\"url(#p05edf659fc)\" style=\"fill: none; stroke: #1f77b4; stroke-width: 1.5; stroke-linecap: square\"/>\n   </g>\n   <g id=\"line2d_111\">\n    <path d=\"M 49.633125 13.575235 \nL 69.163125 13.680477 \nL 88.693125 13.991644 \nL 108.223125 16.849559 \nL 127.753125 68.696503 \nL 147.283125 95.989941 \nL 166.813125 106.988093 \nL 186.343125 108.442506 \nL 205.873125 115.47649 \n\" clip-path=\"url(#p05edf659fc)\" style=\"fill: none; stroke-dasharray: 5.55,2.4; stroke-dashoffset: 0; stroke: #ff7f0e; stroke-width: 1.5\"/>\n   </g>\n   <g id=\"line2d_112\">\n    <path d=\"M 49.633125 139.5 \nL 69.163125 130.422365 \nL 88.693125 130.773028 \nL 108.223125 123.940764 \nL 127.753125 118.064339 \nL 147.283125 107.069372 \nL 166.813125 102.878389 \nL 186.343125 101.775499 \n\" clip-path=\"url(#p05edf659fc)\" style=\"fill: none; stroke-dasharray: 9.6,2.4,1.5,2.4; stroke-dashoffset: 0; stroke: #2ca02c; stroke-width: 1.5\"/>\n   </g>\n   <g id=\"line2d_113\">\n    <path d=\"M 34.954394 13.5 \nL 44.698573 13.547964 \nL 54.442752 13.594017 \nL 64.186931 13.634151 \nL 73.93111 13.721825 \nL 83.675289 13.865622 \nL 93.419468 14.210721 \nL 103.163647 15.353191 \nL 112.907826 23.101517 \nL 122.652006 49.599175 \nL 132.396185 73.005484 \nL 142.140364 89.969565 \nL 151.884543 96.802976 \nL 161.628722 102.571461 \nL 171.372901 106.751889 \nL 181.11708 107.833215 \nL 190.861259 111.165838 \nL 200.605438 113.944098 \n\" clip-path=\"url(#p05edf659fc)\" style=\"fill: none; stroke: #1f77b4; stroke-width: 1.5; stroke-linecap: square\"/>\n   </g>\n   <g id=\"line2d_114\">\n    <path d=\"M 49.633125 13.575235 \nL 69.163125 13.680477 \nL 88.693125 13.991644 \nL 108.223125 16.849559 \nL 127.753125 68.696503 \nL 147.283125 95.989941 \nL 166.813125 106.988093 \nL 186.343125 108.442506 \nL 205.873125 115.47649 \n\" clip-path=\"url(#p05edf659fc)\" style=\"fill: none; stroke-dasharray: 5.55,2.4; stroke-dashoffset: 0; stroke: #ff7f0e; stroke-width: 1.5\"/>\n   </g>\n   <g id=\"line2d_115\">\n    <path d=\"M 49.633125 139.5 \nL 69.163125 130.422365 \nL 88.693125 130.773028 \nL 108.223125 123.940764 \nL 127.753125 118.064339 \nL 147.283125 107.069372 \nL 166.813125 102.878389 \nL 186.343125 101.775499 \nL 205.873125 99.30955 \n\" clip-path=\"url(#p05edf659fc)\" style=\"fill: none; stroke-dasharray: 9.6,2.4,1.5,2.4; stroke-dashoffset: 0; stroke: #2ca02c; stroke-width: 1.5\"/>\n   </g>\n   <g id=\"line2d_116\">\n    <path d=\"M 34.954394 13.5 \nL 44.698573 13.547964 \nL 54.442752 13.594017 \nL 64.186931 13.634151 \nL 73.93111 13.721825 \nL 83.675289 13.865622 \nL 93.419468 14.210721 \nL 103.163647 15.353191 \nL 112.907826 23.101517 \nL 122.652006 49.599175 \nL 132.396185 73.005484 \nL 142.140364 89.969565 \nL 151.884543 96.802976 \nL 161.628722 102.571461 \nL 171.372901 106.751889 \nL 181.11708 107.833215 \nL 190.861259 111.165838 \nL 200.605438 113.944098 \nL 210.349618 115.178933 \n\" clip-path=\"url(#p05edf659fc)\" style=\"fill: none; stroke: #1f77b4; stroke-width: 1.5; stroke-linecap: square\"/>\n   </g>\n   <g id=\"line2d_117\">\n    <path d=\"M 49.633125 13.575235 \nL 69.163125 13.680477 \nL 88.693125 13.991644 \nL 108.223125 16.849559 \nL 127.753125 68.696503 \nL 147.283125 95.989941 \nL 166.813125 106.988093 \nL 186.343125 108.442506 \nL 205.873125 115.47649 \n\" clip-path=\"url(#p05edf659fc)\" style=\"fill: none; stroke-dasharray: 5.55,2.4; stroke-dashoffset: 0; stroke: #ff7f0e; stroke-width: 1.5\"/>\n   </g>\n   <g id=\"line2d_118\">\n    <path d=\"M 49.633125 139.5 \nL 69.163125 130.422365 \nL 88.693125 130.773028 \nL 108.223125 123.940764 \nL 127.753125 118.064339 \nL 147.283125 107.069372 \nL 166.813125 102.878389 \nL 186.343125 101.775499 \nL 205.873125 99.30955 \n\" clip-path=\"url(#p05edf659fc)\" style=\"fill: none; stroke-dasharray: 9.6,2.4,1.5,2.4; stroke-dashoffset: 0; stroke: #2ca02c; stroke-width: 1.5\"/>\n   </g>\n   <g id=\"line2d_119\">\n    <path d=\"M 34.954394 13.5 \nL 44.698573 13.547964 \nL 54.442752 13.594017 \nL 64.186931 13.634151 \nL 73.93111 13.721825 \nL 83.675289 13.865622 \nL 93.419468 14.210721 \nL 103.163647 15.353191 \nL 112.907826 23.101517 \nL 122.652006 49.599175 \nL 132.396185 73.005484 \nL 142.140364 89.969565 \nL 151.884543 96.802976 \nL 161.628722 102.571461 \nL 171.372901 106.751889 \nL 181.11708 107.833215 \nL 190.861259 111.165838 \nL 200.605438 113.944098 \nL 210.349618 115.178933 \nL 220.093797 116.554829 \n\" clip-path=\"url(#p05edf659fc)\" style=\"fill: none; stroke: #1f77b4; stroke-width: 1.5; stroke-linecap: square\"/>\n   </g>\n   <g id=\"line2d_120\">\n    <path d=\"M 49.633125 13.575235 \nL 69.163125 13.680477 \nL 88.693125 13.991644 \nL 108.223125 16.849559 \nL 127.753125 68.696503 \nL 147.283125 95.989941 \nL 166.813125 106.988093 \nL 186.343125 108.442506 \nL 205.873125 115.47649 \n\" clip-path=\"url(#p05edf659fc)\" style=\"fill: none; stroke-dasharray: 5.55,2.4; stroke-dashoffset: 0; stroke: #ff7f0e; stroke-width: 1.5\"/>\n   </g>\n   <g id=\"line2d_121\">\n    <path d=\"M 49.633125 139.5 \nL 69.163125 130.422365 \nL 88.693125 130.773028 \nL 108.223125 123.940764 \nL 127.753125 118.064339 \nL 147.283125 107.069372 \nL 166.813125 102.878389 \nL 186.343125 101.775499 \nL 205.873125 99.30955 \n\" clip-path=\"url(#p05edf659fc)\" style=\"fill: none; stroke-dasharray: 9.6,2.4,1.5,2.4; stroke-dashoffset: 0; stroke: #2ca02c; stroke-width: 1.5\"/>\n   </g>\n   <g id=\"line2d_122\">\n    <path d=\"M 34.954394 13.5 \nL 44.698573 13.547964 \nL 54.442752 13.594017 \nL 64.186931 13.634151 \nL 73.93111 13.721825 \nL 83.675289 13.865622 \nL 93.419468 14.210721 \nL 103.163647 15.353191 \nL 112.907826 23.101517 \nL 122.652006 49.599175 \nL 132.396185 73.005484 \nL 142.140364 89.969565 \nL 151.884543 96.802976 \nL 161.628722 102.571461 \nL 171.372901 106.751889 \nL 181.11708 107.833215 \nL 190.861259 111.165838 \nL 200.605438 113.944098 \nL 210.349618 115.178933 \nL 220.093797 116.554829 \n\" clip-path=\"url(#p05edf659fc)\" style=\"fill: none; stroke: #1f77b4; stroke-width: 1.5; stroke-linecap: square\"/>\n   </g>\n   <g id=\"line2d_123\">\n    <path d=\"M 49.633125 13.575235 \nL 69.163125 13.680477 \nL 88.693125 13.991644 \nL 108.223125 16.849559 \nL 127.753125 68.696503 \nL 147.283125 95.989941 \nL 166.813125 106.988093 \nL 186.343125 108.442506 \nL 205.873125 115.47649 \nL 225.403125 115.078874 \n\" clip-path=\"url(#p05edf659fc)\" style=\"fill: none; stroke-dasharray: 5.55,2.4; stroke-dashoffset: 0; stroke: #ff7f0e; stroke-width: 1.5\"/>\n   </g>\n   <g id=\"line2d_124\">\n    <path d=\"M 49.633125 139.5 \nL 69.163125 130.422365 \nL 88.693125 130.773028 \nL 108.223125 123.940764 \nL 127.753125 118.064339 \nL 147.283125 107.069372 \nL 166.813125 102.878389 \nL 186.343125 101.775499 \nL 205.873125 99.30955 \n\" clip-path=\"url(#p05edf659fc)\" style=\"fill: none; stroke-dasharray: 9.6,2.4,1.5,2.4; stroke-dashoffset: 0; stroke: #2ca02c; stroke-width: 1.5\"/>\n   </g>\n   <g id=\"line2d_125\">\n    <path d=\"M 34.954394 13.5 \nL 44.698573 13.547964 \nL 54.442752 13.594017 \nL 64.186931 13.634151 \nL 73.93111 13.721825 \nL 83.675289 13.865622 \nL 93.419468 14.210721 \nL 103.163647 15.353191 \nL 112.907826 23.101517 \nL 122.652006 49.599175 \nL 132.396185 73.005484 \nL 142.140364 89.969565 \nL 151.884543 96.802976 \nL 161.628722 102.571461 \nL 171.372901 106.751889 \nL 181.11708 107.833215 \nL 190.861259 111.165838 \nL 200.605438 113.944098 \nL 210.349618 115.178933 \nL 220.093797 116.554829 \n\" clip-path=\"url(#p05edf659fc)\" style=\"fill: none; stroke: #1f77b4; stroke-width: 1.5; stroke-linecap: square\"/>\n   </g>\n   <g id=\"line2d_126\">\n    <path d=\"M 49.633125 13.575235 \nL 69.163125 13.680477 \nL 88.693125 13.991644 \nL 108.223125 16.849559 \nL 127.753125 68.696503 \nL 147.283125 95.989941 \nL 166.813125 106.988093 \nL 186.343125 108.442506 \nL 205.873125 115.47649 \nL 225.403125 115.078874 \n\" clip-path=\"url(#p05edf659fc)\" style=\"fill: none; stroke-dasharray: 5.55,2.4; stroke-dashoffset: 0; stroke: #ff7f0e; stroke-width: 1.5\"/>\n   </g>\n   <g id=\"line2d_127\">\n    <path d=\"M 49.633125 139.5 \nL 69.163125 130.422365 \nL 88.693125 130.773028 \nL 108.223125 123.940764 \nL 127.753125 118.064339 \nL 147.283125 107.069372 \nL 166.813125 102.878389 \nL 186.343125 101.775499 \nL 205.873125 99.30955 \nL 225.403125 99.603654 \n\" clip-path=\"url(#p05edf659fc)\" style=\"fill: none; stroke-dasharray: 9.6,2.4,1.5,2.4; stroke-dashoffset: 0; stroke: #2ca02c; stroke-width: 1.5\"/>\n   </g>\n   <g id=\"patch_3\">\n    <path d=\"M 30.103125 145.8 \nL 30.103125 7.2 \n\" style=\"fill: none; stroke: #000000; stroke-width: 0.8; stroke-linejoin: miter; stroke-linecap: square\"/>\n   </g>\n   <g id=\"patch_4\">\n    <path d=\"M 225.403125 145.8 \nL 225.403125 7.2 \n\" style=\"fill: none; stroke: #000000; stroke-width: 0.8; stroke-linejoin: miter; stroke-linecap: square\"/>\n   </g>\n   <g id=\"patch_5\">\n    <path d=\"M 30.103125 145.8 \nL 225.403125 145.8 \n\" style=\"fill: none; stroke: #000000; stroke-width: 0.8; stroke-linejoin: miter; stroke-linecap: square\"/>\n   </g>\n   <g id=\"patch_6\">\n    <path d=\"M 30.103125 7.2 \nL 225.403125 7.2 \n\" style=\"fill: none; stroke: #000000; stroke-width: 0.8; stroke-linejoin: miter; stroke-linecap: square\"/>\n   </g>\n   <g id=\"legend_1\">\n    <g id=\"patch_7\">\n     <path d=\"M 138.8125 60.06875 \nL 218.403125 60.06875 \nQ 220.403125 60.06875 220.403125 58.06875 \nL 220.403125 14.2 \nQ 220.403125 12.2 218.403125 12.2 \nL 138.8125 12.2 \nQ 136.8125 12.2 136.8125 14.2 \nL 136.8125 58.06875 \nQ 136.8125 60.06875 138.8125 60.06875 \nz\n\" style=\"fill: #ffffff; opacity: 0.8; stroke: #cccccc; stroke-linejoin: miter\"/>\n    </g>\n    <g id=\"line2d_128\">\n     <path d=\"M 140.8125 20.298438 \nL 150.8125 20.298438 \nL 160.8125 20.298438 \n\" style=\"fill: none; stroke: #1f77b4; stroke-width: 1.5; stroke-linecap: square\"/>\n    </g>\n    <g id=\"text_13\">\n     <!-- train_loss -->\n     <g transform=\"translate(168.8125 23.798438) scale(0.1 -0.1)\">\n      <defs>\n       <path id=\"DejaVuSans-74\" d=\"M 1172 4494 \nL 1172 3500 \nL 2356 3500 \nL 2356 3053 \nL 1172 3053 \nL 1172 1153 \nQ 1172 725 1289 603 \nQ 1406 481 1766 481 \nL 2356 481 \nL 2356 0 \nL 1766 0 \nQ 1100 0 847 248 \nQ 594 497 594 1153 \nL 594 3053 \nL 172 3053 \nL 172 3500 \nL 594 3500 \nL 594 4494 \nL 1172 4494 \nz\n\" transform=\"scale(0.015625)\"/>\n       <path id=\"DejaVuSans-72\" d=\"M 2631 2963 \nQ 2534 3019 2420 3045 \nQ 2306 3072 2169 3072 \nQ 1681 3072 1420 2755 \nQ 1159 2438 1159 1844 \nL 1159 0 \nL 581 0 \nL 581 3500 \nL 1159 3500 \nL 1159 2956 \nQ 1341 3275 1631 3429 \nQ 1922 3584 2338 3584 \nQ 2397 3584 2469 3576 \nQ 2541 3569 2628 3553 \nL 2631 2963 \nz\n\" transform=\"scale(0.015625)\"/>\n       <path id=\"DejaVuSans-61\" d=\"M 2194 1759 \nQ 1497 1759 1228 1600 \nQ 959 1441 959 1056 \nQ 959 750 1161 570 \nQ 1363 391 1709 391 \nQ 2188 391 2477 730 \nQ 2766 1069 2766 1631 \nL 2766 1759 \nL 2194 1759 \nz\nM 3341 1997 \nL 3341 0 \nL 2766 0 \nL 2766 531 \nQ 2569 213 2275 61 \nQ 1981 -91 1556 -91 \nQ 1019 -91 701 211 \nQ 384 513 384 1019 \nQ 384 1609 779 1909 \nQ 1175 2209 1959 2209 \nL 2766 2209 \nL 2766 2266 \nQ 2766 2663 2505 2880 \nQ 2244 3097 1772 3097 \nQ 1472 3097 1187 3025 \nQ 903 2953 641 2809 \nL 641 3341 \nQ 956 3463 1253 3523 \nQ 1550 3584 1831 3584 \nQ 2591 3584 2966 3190 \nQ 3341 2797 3341 1997 \nz\n\" transform=\"scale(0.015625)\"/>\n       <path id=\"DejaVuSans-69\" d=\"M 603 3500 \nL 1178 3500 \nL 1178 0 \nL 603 0 \nL 603 3500 \nz\nM 603 4863 \nL 1178 4863 \nL 1178 4134 \nL 603 4134 \nL 603 4863 \nz\n\" transform=\"scale(0.015625)\"/>\n       <path id=\"DejaVuSans-6e\" d=\"M 3513 2113 \nL 3513 0 \nL 2938 0 \nL 2938 2094 \nQ 2938 2591 2744 2837 \nQ 2550 3084 2163 3084 \nQ 1697 3084 1428 2787 \nQ 1159 2491 1159 1978 \nL 1159 0 \nL 581 0 \nL 581 3500 \nL 1159 3500 \nL 1159 2956 \nQ 1366 3272 1645 3428 \nQ 1925 3584 2291 3584 \nQ 2894 3584 3203 3211 \nQ 3513 2838 3513 2113 \nz\n\" transform=\"scale(0.015625)\"/>\n       <path id=\"DejaVuSans-5f\" d=\"M 3263 -1063 \nL 3263 -1509 \nL -63 -1509 \nL -63 -1063 \nL 3263 -1063 \nz\n\" transform=\"scale(0.015625)\"/>\n       <path id=\"DejaVuSans-6c\" d=\"M 603 4863 \nL 1178 4863 \nL 1178 0 \nL 603 0 \nL 603 4863 \nz\n\" transform=\"scale(0.015625)\"/>\n       <path id=\"DejaVuSans-73\" d=\"M 2834 3397 \nL 2834 2853 \nQ 2591 2978 2328 3040 \nQ 2066 3103 1784 3103 \nQ 1356 3103 1142 2972 \nQ 928 2841 928 2578 \nQ 928 2378 1081 2264 \nQ 1234 2150 1697 2047 \nL 1894 2003 \nQ 2506 1872 2764 1633 \nQ 3022 1394 3022 966 \nQ 3022 478 2636 193 \nQ 2250 -91 1575 -91 \nQ 1294 -91 989 -36 \nQ 684 19 347 128 \nL 347 722 \nQ 666 556 975 473 \nQ 1284 391 1588 391 \nQ 1994 391 2212 530 \nQ 2431 669 2431 922 \nQ 2431 1156 2273 1281 \nQ 2116 1406 1581 1522 \nL 1381 1569 \nQ 847 1681 609 1914 \nQ 372 2147 372 2553 \nQ 372 3047 722 3315 \nQ 1072 3584 1716 3584 \nQ 2034 3584 2315 3537 \nQ 2597 3491 2834 3397 \nz\n\" transform=\"scale(0.015625)\"/>\n      </defs>\n      <use xlink:href=\"#DejaVuSans-74\"/>\n      <use xlink:href=\"#DejaVuSans-72\" x=\"39.208984\"/>\n      <use xlink:href=\"#DejaVuSans-61\" x=\"80.322266\"/>\n      <use xlink:href=\"#DejaVuSans-69\" x=\"141.601562\"/>\n      <use xlink:href=\"#DejaVuSans-6e\" x=\"169.384766\"/>\n      <use xlink:href=\"#DejaVuSans-5f\" x=\"232.763672\"/>\n      <use xlink:href=\"#DejaVuSans-6c\" x=\"282.763672\"/>\n      <use xlink:href=\"#DejaVuSans-6f\" x=\"310.546875\"/>\n      <use xlink:href=\"#DejaVuSans-73\" x=\"371.728516\"/>\n      <use xlink:href=\"#DejaVuSans-73\" x=\"423.828125\"/>\n     </g>\n    </g>\n    <g id=\"line2d_129\">\n     <path d=\"M 140.8125 35.254688 \nL 150.8125 35.254688 \nL 160.8125 35.254688 \n\" style=\"fill: none; stroke-dasharray: 5.55,2.4; stroke-dashoffset: 0; stroke: #ff7f0e; stroke-width: 1.5\"/>\n    </g>\n    <g id=\"text_14\">\n     <!-- val_loss -->\n     <g transform=\"translate(168.8125 38.754688) scale(0.1 -0.1)\">\n      <defs>\n       <path id=\"DejaVuSans-76\" d=\"M 191 3500 \nL 800 3500 \nL 1894 563 \nL 2988 3500 \nL 3597 3500 \nL 2284 0 \nL 1503 0 \nL 191 3500 \nz\n\" transform=\"scale(0.015625)\"/>\n      </defs>\n      <use xlink:href=\"#DejaVuSans-76\"/>\n      <use xlink:href=\"#DejaVuSans-61\" x=\"59.179688\"/>\n      <use xlink:href=\"#DejaVuSans-6c\" x=\"120.458984\"/>\n      <use xlink:href=\"#DejaVuSans-5f\" x=\"148.242188\"/>\n      <use xlink:href=\"#DejaVuSans-6c\" x=\"198.242188\"/>\n      <use xlink:href=\"#DejaVuSans-6f\" x=\"226.025391\"/>\n      <use xlink:href=\"#DejaVuSans-73\" x=\"287.207031\"/>\n      <use xlink:href=\"#DejaVuSans-73\" x=\"339.306641\"/>\n     </g>\n    </g>\n    <g id=\"line2d_130\">\n     <path d=\"M 140.8125 50.210938 \nL 150.8125 50.210938 \nL 160.8125 50.210938 \n\" style=\"fill: none; stroke-dasharray: 9.6,2.4,1.5,2.4; stroke-dashoffset: 0; stroke: #2ca02c; stroke-width: 1.5\"/>\n    </g>\n    <g id=\"text_15\">\n     <!-- val_acc -->\n     <g transform=\"translate(168.8125 53.710938) scale(0.1 -0.1)\">\n      <use xlink:href=\"#DejaVuSans-76\"/>\n      <use xlink:href=\"#DejaVuSans-61\" x=\"59.179688\"/>\n      <use xlink:href=\"#DejaVuSans-6c\" x=\"120.458984\"/>\n      <use xlink:href=\"#DejaVuSans-5f\" x=\"148.242188\"/>\n      <use xlink:href=\"#DejaVuSans-61\" x=\"198.242188\"/>\n      <use xlink:href=\"#DejaVuSans-63\" x=\"259.521484\"/>\n      <use xlink:href=\"#DejaVuSans-63\" x=\"314.501953\"/>\n     </g>\n    </g>\n   </g>\n  </g>\n </g>\n <defs>\n  <clipPath id=\"p05edf659fc\">\n   <rect x=\"30.103125\" y=\"7.2\" width=\"195.3\" height=\"138.6\"/>\n  </clipPath>\n </defs>\n</svg>\n"
          },
          "metadata": {}
        }
      ],
      "source": [
        "model = GoogleNet(lr=0.01)\n",
        "trainer = d2l.Trainer(max_epochs=10, num_gpus=1)\n",
        "data = d2l.FashionMNIST(batch_size=128, resize=(96, 96))\n",
        "model.apply_init([next(iter(data.get_dataloader(True)))[0]], d2l.init_cnn)\n",
        "trainer.fit(model, data)"
      ]
    },
    {
      "cell_type": "markdown",
      "id": "QJ4uaTipZWOn",
      "metadata": {
        "id": "QJ4uaTipZWOn"
      },
      "source": [
        "## Exercises\n",
        "\n",
        "1. GoogLeNet was so successful that it went through a number of iterations, progressively improving speed and accuracy. Try to implement and run some of them. They include the following:\n",
        "    1. Add a batch normalization layer :cite:`Ioffe.Szegedy.2015`, as described later in :numref:`sec_batch_norm`.\n",
        "    1. Make adjustments to the Inception block (width, choice and order of convolutions), as described in :citet:`Szegedy.Vanhoucke.Ioffe.ea.2016`.\n",
        "    1. Use label smoothing for model regularization, as described in :citet:`Szegedy.Vanhoucke.Ioffe.ea.2016`.\n",
        "    1. Make further adjustments to the Inception block by adding residual connection :cite:`Szegedy.Ioffe.Vanhoucke.ea.2017`, as described later in :numref:`sec_resnet`.\n",
        "1. What is the minimum image size needed for GoogLeNet to work?\n",
        "1. Can you design a variant of GoogLeNet that works on Fashion-MNIST's native resolution of $28 \\times 28$ pixels? How would you need to change the stem, the body, and the head of the network, if anything at all?\n",
        "1. Compare the model parameter sizes of AlexNet, VGG, NiN, and GoogLeNet. How do the latter two network\n",
        "   architectures significantly reduce the model parameter size?\n",
        "1. Compare the amount of computation needed in GoogLeNet and AlexNet. How does this affect the design of an accelerator chip, e.g., in terms of memory size, memory bandwidth, cache size, the amount of computation, and the benefit of specialized operations?"
      ]
    },
    {
      "cell_type": "markdown",
      "id": "kzRExKXHZXna",
      "metadata": {
        "id": "kzRExKXHZXna"
      },
      "source": [
        "# 8.5 Batch Normalization"
      ]
    },
    {
      "cell_type": "code",
      "execution_count": 26,
      "id": "f7b44765",
      "metadata": {
        "id": "f7b44765"
      },
      "outputs": [],
      "source": [
        "import torch\n",
        "from torch import nn\n",
        "from d2l import torch as d2l"
      ]
    },
    {
      "cell_type": "markdown",
      "id": "VAVTNW5DZmww",
      "metadata": {
        "id": "VAVTNW5DZmww"
      },
      "source": [
        "## Training Deep Networks"
      ]
    },
    {
      "cell_type": "code",
      "execution_count": 27,
      "id": "9a79b8f2",
      "metadata": {
        "id": "9a79b8f2"
      },
      "outputs": [],
      "source": [
        "def batch_norm(X, gamma, beta, moving_mean, moving_var, eps, momentum):\n",
        "    # Use is_grad_enabled to determine whether we are in training mode\n",
        "    if not torch.is_grad_enabled():\n",
        "        # In prediction mode, use mean and variance obtained by moving average\n",
        "        X_hat = (X - moving_mean) / torch.sqrt(moving_var + eps)\n",
        "    else:\n",
        "        assert len(X.shape) in (2, 4)\n",
        "        if len(X.shape) == 2:\n",
        "            # When using a fully connected layer, calculate the mean and\n",
        "            # variance on the feature dimension\n",
        "            mean = X.mean(dim=0)\n",
        "            var = ((X - mean) ** 2).mean(dim=0)\n",
        "        else:\n",
        "            # When using a two-dimensional convolutional layer, calculate the\n",
        "            # mean and variance on the channel dimension (axis=1). Here we\n",
        "            # need to maintain the shape of X, so that the broadcasting\n",
        "            # operation can be carried out later\n",
        "            mean = X.mean(dim=(0, 2, 3), keepdim=True)\n",
        "            var = ((X - mean) ** 2).mean(dim=(0, 2, 3), keepdim=True)\n",
        "        # In training mode, the current mean and variance are used\n",
        "        X_hat = (X - mean) / torch.sqrt(var + eps)\n",
        "        # Update the mean and variance using moving average\n",
        "        moving_mean = (1.0 - momentum) * moving_mean + momentum * mean\n",
        "        moving_var = (1.0 - momentum) * moving_var + momentum * var\n",
        "    Y = gamma * X_hat + beta  # Scale and shift\n",
        "    return Y, moving_mean.data, moving_var.data"
      ]
    },
    {
      "cell_type": "code",
      "execution_count": 28,
      "id": "8a591dd1",
      "metadata": {
        "id": "8a591dd1"
      },
      "outputs": [],
      "source": [
        "class BatchNorm(nn.Module):\n",
        "    # num_features: the number of outputs for a fully connected layer or the\n",
        "    # number of output channels for a convolutional layer. num_dims: 2 for a\n",
        "    # fully connected layer and 4 for a convolutional layer\n",
        "    def __init__(self, num_features, num_dims):\n",
        "        super().__init__()\n",
        "        if num_dims == 2:\n",
        "            shape = (1, num_features)\n",
        "        else:\n",
        "            shape = (1, num_features, 1, 1)\n",
        "        # The scale parameter and the shift parameter (model parameters) are\n",
        "        # initialized to 1 and 0, respectively\n",
        "        self.gamma = nn.Parameter(torch.ones(shape))\n",
        "        self.beta = nn.Parameter(torch.zeros(shape))\n",
        "        # The variables that are not model parameters are initialized to 0 and\n",
        "        # 1\n",
        "        self.moving_mean = torch.zeros(shape)\n",
        "        self.moving_var = torch.ones(shape)\n",
        "\n",
        "    def forward(self, X):\n",
        "        # If X is not on the main memory, copy moving_mean and moving_var to\n",
        "        # the device where X is located\n",
        "        if self.moving_mean.device != X.device:\n",
        "            self.moving_mean = self.moving_mean.to(X.device)\n",
        "            self.moving_var = self.moving_var.to(X.device)\n",
        "        # Save the updated moving_mean and moving_var\n",
        "        Y, self.moving_mean, self.moving_var = batch_norm(\n",
        "            X, self.gamma, self.beta, self.moving_mean,\n",
        "            self.moving_var, eps=1e-5, momentum=0.1)\n",
        "        return Y"
      ]
    },
    {
      "cell_type": "markdown",
      "id": "Jso5tgMBZtjQ",
      "metadata": {
        "id": "Jso5tgMBZtjQ"
      },
      "source": [
        "## [**LeNet with Batch Normalization**]"
      ]
    },
    {
      "cell_type": "code",
      "execution_count": 29,
      "id": "21c51c36",
      "metadata": {
        "id": "21c51c36"
      },
      "outputs": [],
      "source": [
        "class BNLeNetScratch(d2l.Classifier):\n",
        "    def __init__(self, lr=0.1, num_classes=10):\n",
        "        super().__init__()\n",
        "        self.save_hyperparameters()\n",
        "        self.net = nn.Sequential(\n",
        "            nn.LazyConv2d(6, kernel_size=5), BatchNorm(6, num_dims=4),\n",
        "            nn.Sigmoid(), nn.AvgPool2d(kernel_size=2, stride=2),\n",
        "            nn.LazyConv2d(16, kernel_size=5), BatchNorm(16, num_dims=4),\n",
        "            nn.Sigmoid(), nn.AvgPool2d(kernel_size=2, stride=2),\n",
        "            nn.Flatten(), nn.LazyLinear(120),\n",
        "            BatchNorm(120, num_dims=2), nn.Sigmoid(), nn.LazyLinear(84),\n",
        "            BatchNorm(84, num_dims=2), nn.Sigmoid(),\n",
        "            nn.LazyLinear(num_classes))"
      ]
    },
    {
      "cell_type": "code",
      "execution_count": 30,
      "id": "064cdd64",
      "metadata": {
        "colab": {
          "base_uri": "https://localhost:8080/",
          "height": 265
        },
        "id": "064cdd64",
        "outputId": "fdf8ba87-a342-46dd-a6f0-8a0cc87fcbf2"
      },
      "outputs": [
        {
          "output_type": "display_data",
          "data": {
            "text/plain": [
              "<Figure size 350x250 with 1 Axes>"
            ],
            "image/svg+xml": "<?xml version=\"1.0\" encoding=\"utf-8\" standalone=\"no\"?>\n<!DOCTYPE svg PUBLIC \"-//W3C//DTD SVG 1.1//EN\"\n  \"http://www.w3.org/Graphics/SVG/1.1/DTD/svg11.dtd\">\n<svg xmlns:xlink=\"http://www.w3.org/1999/xlink\" width=\"238.965625pt\" height=\"183.35625pt\" viewBox=\"0 0 238.965625 183.35625\" xmlns=\"http://www.w3.org/2000/svg\" version=\"1.1\">\n <metadata>\n  <rdf:RDF xmlns:dc=\"http://purl.org/dc/elements/1.1/\" xmlns:cc=\"http://creativecommons.org/ns#\" xmlns:rdf=\"http://www.w3.org/1999/02/22-rdf-syntax-ns#\">\n   <cc:Work>\n    <dc:type rdf:resource=\"http://purl.org/dc/dcmitype/StillImage\"/>\n    <dc:date>2024-10-05T14:35:17.990172</dc:date>\n    <dc:format>image/svg+xml</dc:format>\n    <dc:creator>\n     <cc:Agent>\n      <dc:title>Matplotlib v3.7.2, https://matplotlib.org/</dc:title>\n     </cc:Agent>\n    </dc:creator>\n   </cc:Work>\n  </rdf:RDF>\n </metadata>\n <defs>\n  <style type=\"text/css\">*{stroke-linejoin: round; stroke-linecap: butt}</style>\n </defs>\n <g id=\"figure_1\">\n  <g id=\"patch_1\">\n   <path d=\"M 0 183.35625 \nL 238.965625 183.35625 \nL 238.965625 0 \nL 0 0 \nz\n\" style=\"fill: #ffffff\"/>\n  </g>\n  <g id=\"axes_1\">\n   <g id=\"patch_2\">\n    <path d=\"M 30.103125 145.8 \nL 225.403125 145.8 \nL 225.403125 7.2 \nL 30.103125 7.2 \nz\n\" style=\"fill: #ffffff\"/>\n   </g>\n   <g id=\"matplotlib.axis_1\">\n    <g id=\"xtick_1\">\n     <g id=\"line2d_1\">\n      <defs>\n       <path id=\"m6046f53ae5\" d=\"M 0 0 \nL 0 3.5 \n\" style=\"stroke: #000000; stroke-width: 0.8\"/>\n      </defs>\n      <g>\n       <use xlink:href=\"#m6046f53ae5\" x=\"30.103125\" y=\"145.8\" style=\"stroke: #000000; stroke-width: 0.8\"/>\n      </g>\n     </g>\n     <g id=\"text_1\">\n      <!-- 0 -->\n      <g transform=\"translate(26.921875 160.398438) scale(0.1 -0.1)\">\n       <defs>\n        <path id=\"DejaVuSans-30\" d=\"M 2034 4250 \nQ 1547 4250 1301 3770 \nQ 1056 3291 1056 2328 \nQ 1056 1369 1301 889 \nQ 1547 409 2034 409 \nQ 2525 409 2770 889 \nQ 3016 1369 3016 2328 \nQ 3016 3291 2770 3770 \nQ 2525 4250 2034 4250 \nz\nM 2034 4750 \nQ 2819 4750 3233 4129 \nQ 3647 3509 3647 2328 \nQ 3647 1150 3233 529 \nQ 2819 -91 2034 -91 \nQ 1250 -91 836 529 \nQ 422 1150 422 2328 \nQ 422 3509 836 4129 \nQ 1250 4750 2034 4750 \nz\n\" transform=\"scale(0.015625)\"/>\n       </defs>\n       <use xlink:href=\"#DejaVuSans-30\"/>\n      </g>\n     </g>\n    </g>\n    <g id=\"xtick_2\">\n     <g id=\"line2d_2\">\n      <g>\n       <use xlink:href=\"#m6046f53ae5\" x=\"69.163125\" y=\"145.8\" style=\"stroke: #000000; stroke-width: 0.8\"/>\n      </g>\n     </g>\n     <g id=\"text_2\">\n      <!-- 2 -->\n      <g transform=\"translate(65.981875 160.398438) scale(0.1 -0.1)\">\n       <defs>\n        <path id=\"DejaVuSans-32\" d=\"M 1228 531 \nL 3431 531 \nL 3431 0 \nL 469 0 \nL 469 531 \nQ 828 903 1448 1529 \nQ 2069 2156 2228 2338 \nQ 2531 2678 2651 2914 \nQ 2772 3150 2772 3378 \nQ 2772 3750 2511 3984 \nQ 2250 4219 1831 4219 \nQ 1534 4219 1204 4116 \nQ 875 4013 500 3803 \nL 500 4441 \nQ 881 4594 1212 4672 \nQ 1544 4750 1819 4750 \nQ 2544 4750 2975 4387 \nQ 3406 4025 3406 3419 \nQ 3406 3131 3298 2873 \nQ 3191 2616 2906 2266 \nQ 2828 2175 2409 1742 \nQ 1991 1309 1228 531 \nz\n\" transform=\"scale(0.015625)\"/>\n       </defs>\n       <use xlink:href=\"#DejaVuSans-32\"/>\n      </g>\n     </g>\n    </g>\n    <g id=\"xtick_3\">\n     <g id=\"line2d_3\">\n      <g>\n       <use xlink:href=\"#m6046f53ae5\" x=\"108.223125\" y=\"145.8\" style=\"stroke: #000000; stroke-width: 0.8\"/>\n      </g>\n     </g>\n     <g id=\"text_3\">\n      <!-- 4 -->\n      <g transform=\"translate(105.041875 160.398438) scale(0.1 -0.1)\">\n       <defs>\n        <path id=\"DejaVuSans-34\" d=\"M 2419 4116 \nL 825 1625 \nL 2419 1625 \nL 2419 4116 \nz\nM 2253 4666 \nL 3047 4666 \nL 3047 1625 \nL 3713 1625 \nL 3713 1100 \nL 3047 1100 \nL 3047 0 \nL 2419 0 \nL 2419 1100 \nL 313 1100 \nL 313 1709 \nL 2253 4666 \nz\n\" transform=\"scale(0.015625)\"/>\n       </defs>\n       <use xlink:href=\"#DejaVuSans-34\"/>\n      </g>\n     </g>\n    </g>\n    <g id=\"xtick_4\">\n     <g id=\"line2d_4\">\n      <g>\n       <use xlink:href=\"#m6046f53ae5\" x=\"147.283125\" y=\"145.8\" style=\"stroke: #000000; stroke-width: 0.8\"/>\n      </g>\n     </g>\n     <g id=\"text_4\">\n      <!-- 6 -->\n      <g transform=\"translate(144.101875 160.398438) scale(0.1 -0.1)\">\n       <defs>\n        <path id=\"DejaVuSans-36\" d=\"M 2113 2584 \nQ 1688 2584 1439 2293 \nQ 1191 2003 1191 1497 \nQ 1191 994 1439 701 \nQ 1688 409 2113 409 \nQ 2538 409 2786 701 \nQ 3034 994 3034 1497 \nQ 3034 2003 2786 2293 \nQ 2538 2584 2113 2584 \nz\nM 3366 4563 \nL 3366 3988 \nQ 3128 4100 2886 4159 \nQ 2644 4219 2406 4219 \nQ 1781 4219 1451 3797 \nQ 1122 3375 1075 2522 \nQ 1259 2794 1537 2939 \nQ 1816 3084 2150 3084 \nQ 2853 3084 3261 2657 \nQ 3669 2231 3669 1497 \nQ 3669 778 3244 343 \nQ 2819 -91 2113 -91 \nQ 1303 -91 875 529 \nQ 447 1150 447 2328 \nQ 447 3434 972 4092 \nQ 1497 4750 2381 4750 \nQ 2619 4750 2861 4703 \nQ 3103 4656 3366 4563 \nz\n\" transform=\"scale(0.015625)\"/>\n       </defs>\n       <use xlink:href=\"#DejaVuSans-36\"/>\n      </g>\n     </g>\n    </g>\n    <g id=\"xtick_5\">\n     <g id=\"line2d_5\">\n      <g>\n       <use xlink:href=\"#m6046f53ae5\" x=\"186.343125\" y=\"145.8\" style=\"stroke: #000000; stroke-width: 0.8\"/>\n      </g>\n     </g>\n     <g id=\"text_5\">\n      <!-- 8 -->\n      <g transform=\"translate(183.161875 160.398438) scale(0.1 -0.1)\">\n       <defs>\n        <path id=\"DejaVuSans-38\" d=\"M 2034 2216 \nQ 1584 2216 1326 1975 \nQ 1069 1734 1069 1313 \nQ 1069 891 1326 650 \nQ 1584 409 2034 409 \nQ 2484 409 2743 651 \nQ 3003 894 3003 1313 \nQ 3003 1734 2745 1975 \nQ 2488 2216 2034 2216 \nz\nM 1403 2484 \nQ 997 2584 770 2862 \nQ 544 3141 544 3541 \nQ 544 4100 942 4425 \nQ 1341 4750 2034 4750 \nQ 2731 4750 3128 4425 \nQ 3525 4100 3525 3541 \nQ 3525 3141 3298 2862 \nQ 3072 2584 2669 2484 \nQ 3125 2378 3379 2068 \nQ 3634 1759 3634 1313 \nQ 3634 634 3220 271 \nQ 2806 -91 2034 -91 \nQ 1263 -91 848 271 \nQ 434 634 434 1313 \nQ 434 1759 690 2068 \nQ 947 2378 1403 2484 \nz\nM 1172 3481 \nQ 1172 3119 1398 2916 \nQ 1625 2713 2034 2713 \nQ 2441 2713 2670 2916 \nQ 2900 3119 2900 3481 \nQ 2900 3844 2670 4047 \nQ 2441 4250 2034 4250 \nQ 1625 4250 1398 4047 \nQ 1172 3844 1172 3481 \nz\n\" transform=\"scale(0.015625)\"/>\n       </defs>\n       <use xlink:href=\"#DejaVuSans-38\"/>\n      </g>\n     </g>\n    </g>\n    <g id=\"xtick_6\">\n     <g id=\"line2d_6\">\n      <g>\n       <use xlink:href=\"#m6046f53ae5\" x=\"225.403125\" y=\"145.8\" style=\"stroke: #000000; stroke-width: 0.8\"/>\n      </g>\n     </g>\n     <g id=\"text_6\">\n      <!-- 10 -->\n      <g transform=\"translate(219.040625 160.398438) scale(0.1 -0.1)\">\n       <defs>\n        <path id=\"DejaVuSans-31\" d=\"M 794 531 \nL 1825 531 \nL 1825 4091 \nL 703 3866 \nL 703 4441 \nL 1819 4666 \nL 2450 4666 \nL 2450 531 \nL 3481 531 \nL 3481 0 \nL 794 0 \nL 794 531 \nz\n\" transform=\"scale(0.015625)\"/>\n       </defs>\n       <use xlink:href=\"#DejaVuSans-31\"/>\n       <use xlink:href=\"#DejaVuSans-30\" x=\"63.623047\"/>\n      </g>\n     </g>\n    </g>\n    <g id=\"text_7\">\n     <!-- epoch -->\n     <g transform=\"translate(112.525 174.076563) scale(0.1 -0.1)\">\n      <defs>\n       <path id=\"DejaVuSans-65\" d=\"M 3597 1894 \nL 3597 1613 \nL 953 1613 \nQ 991 1019 1311 708 \nQ 1631 397 2203 397 \nQ 2534 397 2845 478 \nQ 3156 559 3463 722 \nL 3463 178 \nQ 3153 47 2828 -22 \nQ 2503 -91 2169 -91 \nQ 1331 -91 842 396 \nQ 353 884 353 1716 \nQ 353 2575 817 3079 \nQ 1281 3584 2069 3584 \nQ 2775 3584 3186 3129 \nQ 3597 2675 3597 1894 \nz\nM 3022 2063 \nQ 3016 2534 2758 2815 \nQ 2500 3097 2075 3097 \nQ 1594 3097 1305 2825 \nQ 1016 2553 972 2059 \nL 3022 2063 \nz\n\" transform=\"scale(0.015625)\"/>\n       <path id=\"DejaVuSans-70\" d=\"M 1159 525 \nL 1159 -1331 \nL 581 -1331 \nL 581 3500 \nL 1159 3500 \nL 1159 2969 \nQ 1341 3281 1617 3432 \nQ 1894 3584 2278 3584 \nQ 2916 3584 3314 3078 \nQ 3713 2572 3713 1747 \nQ 3713 922 3314 415 \nQ 2916 -91 2278 -91 \nQ 1894 -91 1617 61 \nQ 1341 213 1159 525 \nz\nM 3116 1747 \nQ 3116 2381 2855 2742 \nQ 2594 3103 2138 3103 \nQ 1681 3103 1420 2742 \nQ 1159 2381 1159 1747 \nQ 1159 1113 1420 752 \nQ 1681 391 2138 391 \nQ 2594 391 2855 752 \nQ 3116 1113 3116 1747 \nz\n\" transform=\"scale(0.015625)\"/>\n       <path id=\"DejaVuSans-6f\" d=\"M 1959 3097 \nQ 1497 3097 1228 2736 \nQ 959 2375 959 1747 \nQ 959 1119 1226 758 \nQ 1494 397 1959 397 \nQ 2419 397 2687 759 \nQ 2956 1122 2956 1747 \nQ 2956 2369 2687 2733 \nQ 2419 3097 1959 3097 \nz\nM 1959 3584 \nQ 2709 3584 3137 3096 \nQ 3566 2609 3566 1747 \nQ 3566 888 3137 398 \nQ 2709 -91 1959 -91 \nQ 1206 -91 779 398 \nQ 353 888 353 1747 \nQ 353 2609 779 3096 \nQ 1206 3584 1959 3584 \nz\n\" transform=\"scale(0.015625)\"/>\n       <path id=\"DejaVuSans-63\" d=\"M 3122 3366 \nL 3122 2828 \nQ 2878 2963 2633 3030 \nQ 2388 3097 2138 3097 \nQ 1578 3097 1268 2742 \nQ 959 2388 959 1747 \nQ 959 1106 1268 751 \nQ 1578 397 2138 397 \nQ 2388 397 2633 464 \nQ 2878 531 3122 666 \nL 3122 134 \nQ 2881 22 2623 -34 \nQ 2366 -91 2075 -91 \nQ 1284 -91 818 406 \nQ 353 903 353 1747 \nQ 353 2603 823 3093 \nQ 1294 3584 2113 3584 \nQ 2378 3584 2631 3529 \nQ 2884 3475 3122 3366 \nz\n\" transform=\"scale(0.015625)\"/>\n       <path id=\"DejaVuSans-68\" d=\"M 3513 2113 \nL 3513 0 \nL 2938 0 \nL 2938 2094 \nQ 2938 2591 2744 2837 \nQ 2550 3084 2163 3084 \nQ 1697 3084 1428 2787 \nQ 1159 2491 1159 1978 \nL 1159 0 \nL 581 0 \nL 581 4863 \nL 1159 4863 \nL 1159 2956 \nQ 1366 3272 1645 3428 \nQ 1925 3584 2291 3584 \nQ 2894 3584 3203 3211 \nQ 3513 2838 3513 2113 \nz\n\" transform=\"scale(0.015625)\"/>\n      </defs>\n      <use xlink:href=\"#DejaVuSans-65\"/>\n      <use xlink:href=\"#DejaVuSans-70\" x=\"61.523438\"/>\n      <use xlink:href=\"#DejaVuSans-6f\" x=\"125\"/>\n      <use xlink:href=\"#DejaVuSans-63\" x=\"186.181641\"/>\n      <use xlink:href=\"#DejaVuSans-68\" x=\"241.162109\"/>\n     </g>\n    </g>\n   </g>\n   <g id=\"matplotlib.axis_2\">\n    <g id=\"ytick_1\">\n     <g id=\"line2d_7\">\n      <defs>\n       <path id=\"mb32483bb23\" d=\"M 0 0 \nL -3.5 0 \n\" style=\"stroke: #000000; stroke-width: 0.8\"/>\n      </defs>\n      <g>\n       <use xlink:href=\"#mb32483bb23\" x=\"30.103125\" y=\"121.522454\" style=\"stroke: #000000; stroke-width: 0.8\"/>\n      </g>\n     </g>\n     <g id=\"text_8\">\n      <!-- 0.4 -->\n      <g transform=\"translate(7.2 125.321672) scale(0.1 -0.1)\">\n       <defs>\n        <path id=\"DejaVuSans-2e\" d=\"M 684 794 \nL 1344 794 \nL 1344 0 \nL 684 0 \nL 684 794 \nz\n\" transform=\"scale(0.015625)\"/>\n       </defs>\n       <use xlink:href=\"#DejaVuSans-30\"/>\n       <use xlink:href=\"#DejaVuSans-2e\" x=\"63.623047\"/>\n       <use xlink:href=\"#DejaVuSans-34\" x=\"95.410156\"/>\n      </g>\n     </g>\n    </g>\n    <g id=\"ytick_2\">\n     <g id=\"line2d_8\">\n      <g>\n       <use xlink:href=\"#mb32483bb23\" x=\"30.103125\" y=\"81.621953\" style=\"stroke: #000000; stroke-width: 0.8\"/>\n      </g>\n     </g>\n     <g id=\"text_9\">\n      <!-- 0.6 -->\n      <g transform=\"translate(7.2 85.421172) scale(0.1 -0.1)\">\n       <use xlink:href=\"#DejaVuSans-30\"/>\n       <use xlink:href=\"#DejaVuSans-2e\" x=\"63.623047\"/>\n       <use xlink:href=\"#DejaVuSans-36\" x=\"95.410156\"/>\n      </g>\n     </g>\n    </g>\n    <g id=\"ytick_3\">\n     <g id=\"line2d_9\">\n      <g>\n       <use xlink:href=\"#mb32483bb23\" x=\"30.103125\" y=\"41.721453\" style=\"stroke: #000000; stroke-width: 0.8\"/>\n      </g>\n     </g>\n     <g id=\"text_10\">\n      <!-- 0.8 -->\n      <g transform=\"translate(7.2 45.520671) scale(0.1 -0.1)\">\n       <use xlink:href=\"#DejaVuSans-30\"/>\n       <use xlink:href=\"#DejaVuSans-2e\" x=\"63.623047\"/>\n       <use xlink:href=\"#DejaVuSans-38\" x=\"95.410156\"/>\n      </g>\n     </g>\n    </g>\n   </g>\n   <g id=\"line2d_10\">\n    <path d=\"M 34.954394 13.5 \n\" clip-path=\"url(#p79cba0d739)\" style=\"fill: none; stroke: #1f77b4; stroke-width: 1.5; stroke-linecap: square\"/>\n   </g>\n   <g id=\"line2d_11\">\n    <path d=\"M 34.954394 13.5 \nL 44.698573 80.610212 \n\" clip-path=\"url(#p79cba0d739)\" style=\"fill: none; stroke: #1f77b4; stroke-width: 1.5; stroke-linecap: square\"/>\n   </g>\n   <g id=\"line2d_12\">\n    <path d=\"M 34.954394 13.5 \nL 44.698573 80.610212 \n\" clip-path=\"url(#p79cba0d739)\" style=\"fill: none; stroke: #1f77b4; stroke-width: 1.5; stroke-linecap: square\"/>\n   </g>\n   <g id=\"line2d_13\">\n    <path d=\"M 49.633125 75.790921 \n\" clip-path=\"url(#p79cba0d739)\" style=\"fill: none; stroke-dasharray: 5.55,2.4; stroke-dashoffset: 0; stroke: #ff7f0e; stroke-width: 1.5\"/>\n   </g>\n   <g id=\"line2d_14\"/>\n   <g id=\"line2d_15\">\n    <path d=\"M 34.954394 13.5 \nL 44.698573 80.610212 \n\" clip-path=\"url(#p79cba0d739)\" style=\"fill: none; stroke: #1f77b4; stroke-width: 1.5; stroke-linecap: square\"/>\n   </g>\n   <g id=\"line2d_16\">\n    <path d=\"M 49.633125 75.790921 \n\" clip-path=\"url(#p79cba0d739)\" style=\"fill: none; stroke-dasharray: 5.55,2.4; stroke-dashoffset: 0; stroke: #ff7f0e; stroke-width: 1.5\"/>\n   </g>\n   <g id=\"line2d_17\">\n    <path d=\"M 49.633125 45.738334 \n\" clip-path=\"url(#p79cba0d739)\" style=\"fill: none; stroke-dasharray: 9.6,2.4,1.5,2.4; stroke-dashoffset: 0; stroke: #2ca02c; stroke-width: 1.5\"/>\n   </g>\n   <g id=\"line2d_18\">\n    <path d=\"M 34.954394 13.5 \nL 44.698573 80.610212 \nL 54.442752 96.852203 \n\" clip-path=\"url(#p79cba0d739)\" style=\"fill: none; stroke: #1f77b4; stroke-width: 1.5; stroke-linecap: square\"/>\n   </g>\n   <g id=\"line2d_19\">\n    <path d=\"M 49.633125 75.790921 \n\" clip-path=\"url(#p79cba0d739)\" style=\"fill: none; stroke-dasharray: 5.55,2.4; stroke-dashoffset: 0; stroke: #ff7f0e; stroke-width: 1.5\"/>\n   </g>\n   <g id=\"line2d_20\">\n    <path d=\"M 49.633125 45.738334 \n\" clip-path=\"url(#p79cba0d739)\" style=\"fill: none; stroke-dasharray: 9.6,2.4,1.5,2.4; stroke-dashoffset: 0; stroke: #2ca02c; stroke-width: 1.5\"/>\n   </g>\n   <g id=\"line2d_21\">\n    <path d=\"M 34.954394 13.5 \nL 44.698573 80.610212 \nL 54.442752 96.852203 \nL 64.186931 103.376448 \n\" clip-path=\"url(#p79cba0d739)\" style=\"fill: none; stroke: #1f77b4; stroke-width: 1.5; stroke-linecap: square\"/>\n   </g>\n   <g id=\"line2d_22\">\n    <path d=\"M 49.633125 75.790921 \n\" clip-path=\"url(#p79cba0d739)\" style=\"fill: none; stroke-dasharray: 5.55,2.4; stroke-dashoffset: 0; stroke: #ff7f0e; stroke-width: 1.5\"/>\n   </g>\n   <g id=\"line2d_23\">\n    <path d=\"M 49.633125 45.738334 \n\" clip-path=\"url(#p79cba0d739)\" style=\"fill: none; stroke-dasharray: 9.6,2.4,1.5,2.4; stroke-dashoffset: 0; stroke: #2ca02c; stroke-width: 1.5\"/>\n   </g>\n   <g id=\"line2d_24\">\n    <path d=\"M 34.954394 13.5 \nL 44.698573 80.610212 \nL 54.442752 96.852203 \nL 64.186931 103.376448 \n\" clip-path=\"url(#p79cba0d739)\" style=\"fill: none; stroke: #1f77b4; stroke-width: 1.5; stroke-linecap: square\"/>\n   </g>\n   <g id=\"line2d_25\">\n    <path d=\"M 49.633125 75.790921 \nL 69.163125 80.589847 \n\" clip-path=\"url(#p79cba0d739)\" style=\"fill: none; stroke-dasharray: 5.55,2.4; stroke-dashoffset: 0; stroke: #ff7f0e; stroke-width: 1.5\"/>\n   </g>\n   <g id=\"line2d_26\">\n    <path d=\"M 49.633125 45.738334 \n\" clip-path=\"url(#p79cba0d739)\" style=\"fill: none; stroke-dasharray: 9.6,2.4,1.5,2.4; stroke-dashoffset: 0; stroke: #2ca02c; stroke-width: 1.5\"/>\n   </g>\n   <g id=\"line2d_27\">\n    <path d=\"M 34.954394 13.5 \nL 44.698573 80.610212 \nL 54.442752 96.852203 \nL 64.186931 103.376448 \n\" clip-path=\"url(#p79cba0d739)\" style=\"fill: none; stroke: #1f77b4; stroke-width: 1.5; stroke-linecap: square\"/>\n   </g>\n   <g id=\"line2d_28\">\n    <path d=\"M 49.633125 75.790921 \nL 69.163125 80.589847 \n\" clip-path=\"url(#p79cba0d739)\" style=\"fill: none; stroke-dasharray: 5.55,2.4; stroke-dashoffset: 0; stroke: #ff7f0e; stroke-width: 1.5\"/>\n   </g>\n   <g id=\"line2d_29\">\n    <path d=\"M 49.633125 45.738334 \nL 69.163125 41.970041 \n\" clip-path=\"url(#p79cba0d739)\" style=\"fill: none; stroke-dasharray: 9.6,2.4,1.5,2.4; stroke-dashoffset: 0; stroke: #2ca02c; stroke-width: 1.5\"/>\n   </g>\n   <g id=\"line2d_30\">\n    <path d=\"M 34.954394 13.5 \nL 44.698573 80.610212 \nL 54.442752 96.852203 \nL 64.186931 103.376448 \nL 73.93111 109.038801 \n\" clip-path=\"url(#p79cba0d739)\" style=\"fill: none; stroke: #1f77b4; stroke-width: 1.5; stroke-linecap: square\"/>\n   </g>\n   <g id=\"line2d_31\">\n    <path d=\"M 49.633125 75.790921 \nL 69.163125 80.589847 \n\" clip-path=\"url(#p79cba0d739)\" style=\"fill: none; stroke-dasharray: 5.55,2.4; stroke-dashoffset: 0; stroke: #ff7f0e; stroke-width: 1.5\"/>\n   </g>\n   <g id=\"line2d_32\">\n    <path d=\"M 49.633125 45.738334 \nL 69.163125 41.970041 \n\" clip-path=\"url(#p79cba0d739)\" style=\"fill: none; stroke-dasharray: 9.6,2.4,1.5,2.4; stroke-dashoffset: 0; stroke: #2ca02c; stroke-width: 1.5\"/>\n   </g>\n   <g id=\"line2d_33\">\n    <path d=\"M 34.954394 13.5 \nL 44.698573 80.610212 \nL 54.442752 96.852203 \nL 64.186931 103.376448 \nL 73.93111 109.038801 \nL 83.675289 114.863147 \n\" clip-path=\"url(#p79cba0d739)\" style=\"fill: none; stroke: #1f77b4; stroke-width: 1.5; stroke-linecap: square\"/>\n   </g>\n   <g id=\"line2d_34\">\n    <path d=\"M 49.633125 75.790921 \nL 69.163125 80.589847 \n\" clip-path=\"url(#p79cba0d739)\" style=\"fill: none; stroke-dasharray: 5.55,2.4; stroke-dashoffset: 0; stroke: #ff7f0e; stroke-width: 1.5\"/>\n   </g>\n   <g id=\"line2d_35\">\n    <path d=\"M 49.633125 45.738334 \nL 69.163125 41.970041 \n\" clip-path=\"url(#p79cba0d739)\" style=\"fill: none; stroke-dasharray: 9.6,2.4,1.5,2.4; stroke-dashoffset: 0; stroke: #2ca02c; stroke-width: 1.5\"/>\n   </g>\n   <g id=\"line2d_36\">\n    <path d=\"M 34.954394 13.5 \nL 44.698573 80.610212 \nL 54.442752 96.852203 \nL 64.186931 103.376448 \nL 73.93111 109.038801 \nL 83.675289 114.863147 \n\" clip-path=\"url(#p79cba0d739)\" style=\"fill: none; stroke: #1f77b4; stroke-width: 1.5; stroke-linecap: square\"/>\n   </g>\n   <g id=\"line2d_37\">\n    <path d=\"M 49.633125 75.790921 \nL 69.163125 80.589847 \nL 88.693125 106.97749 \n\" clip-path=\"url(#p79cba0d739)\" style=\"fill: none; stroke-dasharray: 5.55,2.4; stroke-dashoffset: 0; stroke: #ff7f0e; stroke-width: 1.5\"/>\n   </g>\n   <g id=\"line2d_38\">\n    <path d=\"M 49.633125 45.738334 \nL 69.163125 41.970041 \n\" clip-path=\"url(#p79cba0d739)\" style=\"fill: none; stroke-dasharray: 9.6,2.4,1.5,2.4; stroke-dashoffset: 0; stroke: #2ca02c; stroke-width: 1.5\"/>\n   </g>\n   <g id=\"line2d_39\">\n    <path d=\"M 34.954394 13.5 \nL 44.698573 80.610212 \nL 54.442752 96.852203 \nL 64.186931 103.376448 \nL 73.93111 109.038801 \nL 83.675289 114.863147 \n\" clip-path=\"url(#p79cba0d739)\" style=\"fill: none; stroke: #1f77b4; stroke-width: 1.5; stroke-linecap: square\"/>\n   </g>\n   <g id=\"line2d_40\">\n    <path d=\"M 49.633125 75.790921 \nL 69.163125 80.589847 \nL 88.693125 106.97749 \n\" clip-path=\"url(#p79cba0d739)\" style=\"fill: none; stroke-dasharray: 5.55,2.4; stroke-dashoffset: 0; stroke: #ff7f0e; stroke-width: 1.5\"/>\n   </g>\n   <g id=\"line2d_41\">\n    <path d=\"M 49.633125 45.738334 \nL 69.163125 41.970041 \nL 88.693125 36.031527 \n\" clip-path=\"url(#p79cba0d739)\" style=\"fill: none; stroke-dasharray: 9.6,2.4,1.5,2.4; stroke-dashoffset: 0; stroke: #2ca02c; stroke-width: 1.5\"/>\n   </g>\n   <g id=\"line2d_42\">\n    <path d=\"M 34.954394 13.5 \nL 44.698573 80.610212 \nL 54.442752 96.852203 \nL 64.186931 103.376448 \nL 73.93111 109.038801 \nL 83.675289 114.863147 \nL 93.419468 118.356175 \n\" clip-path=\"url(#p79cba0d739)\" style=\"fill: none; stroke: #1f77b4; stroke-width: 1.5; stroke-linecap: square\"/>\n   </g>\n   <g id=\"line2d_43\">\n    <path d=\"M 49.633125 75.790921 \nL 69.163125 80.589847 \nL 88.693125 106.97749 \n\" clip-path=\"url(#p79cba0d739)\" style=\"fill: none; stroke-dasharray: 5.55,2.4; stroke-dashoffset: 0; stroke: #ff7f0e; stroke-width: 1.5\"/>\n   </g>\n   <g id=\"line2d_44\">\n    <path d=\"M 49.633125 45.738334 \nL 69.163125 41.970041 \nL 88.693125 36.031527 \n\" clip-path=\"url(#p79cba0d739)\" style=\"fill: none; stroke-dasharray: 9.6,2.4,1.5,2.4; stroke-dashoffset: 0; stroke: #2ca02c; stroke-width: 1.5\"/>\n   </g>\n   <g id=\"line2d_45\">\n    <path d=\"M 34.954394 13.5 \nL 44.698573 80.610212 \nL 54.442752 96.852203 \nL 64.186931 103.376448 \nL 73.93111 109.038801 \nL 83.675289 114.863147 \nL 93.419468 118.356175 \nL 103.163647 118.707057 \n\" clip-path=\"url(#p79cba0d739)\" style=\"fill: none; stroke: #1f77b4; stroke-width: 1.5; stroke-linecap: square\"/>\n   </g>\n   <g id=\"line2d_46\">\n    <path d=\"M 49.633125 75.790921 \nL 69.163125 80.589847 \nL 88.693125 106.97749 \n\" clip-path=\"url(#p79cba0d739)\" style=\"fill: none; stroke-dasharray: 5.55,2.4; stroke-dashoffset: 0; stroke: #ff7f0e; stroke-width: 1.5\"/>\n   </g>\n   <g id=\"line2d_47\">\n    <path d=\"M 49.633125 45.738334 \nL 69.163125 41.970041 \nL 88.693125 36.031527 \n\" clip-path=\"url(#p79cba0d739)\" style=\"fill: none; stroke-dasharray: 9.6,2.4,1.5,2.4; stroke-dashoffset: 0; stroke: #2ca02c; stroke-width: 1.5\"/>\n   </g>\n   <g id=\"line2d_48\">\n    <path d=\"M 34.954394 13.5 \nL 44.698573 80.610212 \nL 54.442752 96.852203 \nL 64.186931 103.376448 \nL 73.93111 109.038801 \nL 83.675289 114.863147 \nL 93.419468 118.356175 \nL 103.163647 118.707057 \n\" clip-path=\"url(#p79cba0d739)\" style=\"fill: none; stroke: #1f77b4; stroke-width: 1.5; stroke-linecap: square\"/>\n   </g>\n   <g id=\"line2d_49\">\n    <path d=\"M 49.633125 75.790921 \nL 69.163125 80.589847 \nL 88.693125 106.97749 \nL 108.223125 112.084254 \n\" clip-path=\"url(#p79cba0d739)\" style=\"fill: none; stroke-dasharray: 5.55,2.4; stroke-dashoffset: 0; stroke: #ff7f0e; stroke-width: 1.5\"/>\n   </g>\n   <g id=\"line2d_50\">\n    <path d=\"M 49.633125 45.738334 \nL 69.163125 41.970041 \nL 88.693125 36.031527 \n\" clip-path=\"url(#p79cba0d739)\" style=\"fill: none; stroke-dasharray: 9.6,2.4,1.5,2.4; stroke-dashoffset: 0; stroke: #2ca02c; stroke-width: 1.5\"/>\n   </g>\n   <g id=\"line2d_51\">\n    <path d=\"M 34.954394 13.5 \nL 44.698573 80.610212 \nL 54.442752 96.852203 \nL 64.186931 103.376448 \nL 73.93111 109.038801 \nL 83.675289 114.863147 \nL 93.419468 118.356175 \nL 103.163647 118.707057 \n\" clip-path=\"url(#p79cba0d739)\" style=\"fill: none; stroke: #1f77b4; stroke-width: 1.5; stroke-linecap: square\"/>\n   </g>\n   <g id=\"line2d_52\">\n    <path d=\"M 49.633125 75.790921 \nL 69.163125 80.589847 \nL 88.693125 106.97749 \nL 108.223125 112.084254 \n\" clip-path=\"url(#p79cba0d739)\" style=\"fill: none; stroke-dasharray: 5.55,2.4; stroke-dashoffset: 0; stroke: #ff7f0e; stroke-width: 1.5\"/>\n   </g>\n   <g id=\"line2d_53\">\n    <path d=\"M 49.633125 45.738334 \nL 69.163125 41.970041 \nL 88.693125 36.031527 \nL 108.223125 33.723201 \n\" clip-path=\"url(#p79cba0d739)\" style=\"fill: none; stroke-dasharray: 9.6,2.4,1.5,2.4; stroke-dashoffset: 0; stroke: #2ca02c; stroke-width: 1.5\"/>\n   </g>\n   <g id=\"line2d_54\">\n    <path d=\"M 34.954394 13.5 \nL 44.698573 80.610212 \nL 54.442752 96.852203 \nL 64.186931 103.376448 \nL 73.93111 109.038801 \nL 83.675289 114.863147 \nL 93.419468 118.356175 \nL 103.163647 118.707057 \nL 112.907826 123.79931 \n\" clip-path=\"url(#p79cba0d739)\" style=\"fill: none; stroke: #1f77b4; stroke-width: 1.5; stroke-linecap: square\"/>\n   </g>\n   <g id=\"line2d_55\">\n    <path d=\"M 49.633125 75.790921 \nL 69.163125 80.589847 \nL 88.693125 106.97749 \nL 108.223125 112.084254 \n\" clip-path=\"url(#p79cba0d739)\" style=\"fill: none; stroke-dasharray: 5.55,2.4; stroke-dashoffset: 0; stroke: #ff7f0e; stroke-width: 1.5\"/>\n   </g>\n   <g id=\"line2d_56\">\n    <path d=\"M 49.633125 45.738334 \nL 69.163125 41.970041 \nL 88.693125 36.031527 \nL 108.223125 33.723201 \n\" clip-path=\"url(#p79cba0d739)\" style=\"fill: none; stroke-dasharray: 9.6,2.4,1.5,2.4; stroke-dashoffset: 0; stroke: #2ca02c; stroke-width: 1.5\"/>\n   </g>\n   <g id=\"line2d_57\">\n    <path d=\"M 34.954394 13.5 \nL 44.698573 80.610212 \nL 54.442752 96.852203 \nL 64.186931 103.376448 \nL 73.93111 109.038801 \nL 83.675289 114.863147 \nL 93.419468 118.356175 \nL 103.163647 118.707057 \nL 112.907826 123.79931 \nL 122.652006 124.233526 \n\" clip-path=\"url(#p79cba0d739)\" style=\"fill: none; stroke: #1f77b4; stroke-width: 1.5; stroke-linecap: square\"/>\n   </g>\n   <g id=\"line2d_58\">\n    <path d=\"M 49.633125 75.790921 \nL 69.163125 80.589847 \nL 88.693125 106.97749 \nL 108.223125 112.084254 \n\" clip-path=\"url(#p79cba0d739)\" style=\"fill: none; stroke-dasharray: 5.55,2.4; stroke-dashoffset: 0; stroke: #ff7f0e; stroke-width: 1.5\"/>\n   </g>\n   <g id=\"line2d_59\">\n    <path d=\"M 49.633125 45.738334 \nL 69.163125 41.970041 \nL 88.693125 36.031527 \nL 108.223125 33.723201 \n\" clip-path=\"url(#p79cba0d739)\" style=\"fill: none; stroke-dasharray: 9.6,2.4,1.5,2.4; stroke-dashoffset: 0; stroke: #2ca02c; stroke-width: 1.5\"/>\n   </g>\n   <g id=\"line2d_60\">\n    <path d=\"M 34.954394 13.5 \nL 44.698573 80.610212 \nL 54.442752 96.852203 \nL 64.186931 103.376448 \nL 73.93111 109.038801 \nL 83.675289 114.863147 \nL 93.419468 118.356175 \nL 103.163647 118.707057 \nL 112.907826 123.79931 \nL 122.652006 124.233526 \n\" clip-path=\"url(#p79cba0d739)\" style=\"fill: none; stroke: #1f77b4; stroke-width: 1.5; stroke-linecap: square\"/>\n   </g>\n   <g id=\"line2d_61\">\n    <path d=\"M 49.633125 75.790921 \nL 69.163125 80.589847 \nL 88.693125 106.97749 \nL 108.223125 112.084254 \nL 127.753125 115.577862 \n\" clip-path=\"url(#p79cba0d739)\" style=\"fill: none; stroke-dasharray: 5.55,2.4; stroke-dashoffset: 0; stroke: #ff7f0e; stroke-width: 1.5\"/>\n   </g>\n   <g id=\"line2d_62\">\n    <path d=\"M 49.633125 45.738334 \nL 69.163125 41.970041 \nL 88.693125 36.031527 \nL 108.223125 33.723201 \n\" clip-path=\"url(#p79cba0d739)\" style=\"fill: none; stroke-dasharray: 9.6,2.4,1.5,2.4; stroke-dashoffset: 0; stroke: #2ca02c; stroke-width: 1.5\"/>\n   </g>\n   <g id=\"line2d_63\">\n    <path d=\"M 34.954394 13.5 \nL 44.698573 80.610212 \nL 54.442752 96.852203 \nL 64.186931 103.376448 \nL 73.93111 109.038801 \nL 83.675289 114.863147 \nL 93.419468 118.356175 \nL 103.163647 118.707057 \nL 112.907826 123.79931 \nL 122.652006 124.233526 \n\" clip-path=\"url(#p79cba0d739)\" style=\"fill: none; stroke: #1f77b4; stroke-width: 1.5; stroke-linecap: square\"/>\n   </g>\n   <g id=\"line2d_64\">\n    <path d=\"M 49.633125 75.790921 \nL 69.163125 80.589847 \nL 88.693125 106.97749 \nL 108.223125 112.084254 \nL 127.753125 115.577862 \n\" clip-path=\"url(#p79cba0d739)\" style=\"fill: none; stroke-dasharray: 5.55,2.4; stroke-dashoffset: 0; stroke: #ff7f0e; stroke-width: 1.5\"/>\n   </g>\n   <g id=\"line2d_65\">\n    <path d=\"M 49.633125 45.738334 \nL 69.163125 41.970041 \nL 88.693125 36.031527 \nL 108.223125 33.723201 \nL 127.753125 31.710815 \n\" clip-path=\"url(#p79cba0d739)\" style=\"fill: none; stroke-dasharray: 9.6,2.4,1.5,2.4; stroke-dashoffset: 0; stroke: #2ca02c; stroke-width: 1.5\"/>\n   </g>\n   <g id=\"line2d_66\">\n    <path d=\"M 34.954394 13.5 \nL 44.698573 80.610212 \nL 54.442752 96.852203 \nL 64.186931 103.376448 \nL 73.93111 109.038801 \nL 83.675289 114.863147 \nL 93.419468 118.356175 \nL 103.163647 118.707057 \nL 112.907826 123.79931 \nL 122.652006 124.233526 \nL 132.396185 127.951544 \n\" clip-path=\"url(#p79cba0d739)\" style=\"fill: none; stroke: #1f77b4; stroke-width: 1.5; stroke-linecap: square\"/>\n   </g>\n   <g id=\"line2d_67\">\n    <path d=\"M 49.633125 75.790921 \nL 69.163125 80.589847 \nL 88.693125 106.97749 \nL 108.223125 112.084254 \nL 127.753125 115.577862 \n\" clip-path=\"url(#p79cba0d739)\" style=\"fill: none; stroke-dasharray: 5.55,2.4; stroke-dashoffset: 0; stroke: #ff7f0e; stroke-width: 1.5\"/>\n   </g>\n   <g id=\"line2d_68\">\n    <path d=\"M 49.633125 45.738334 \nL 69.163125 41.970041 \nL 88.693125 36.031527 \nL 108.223125 33.723201 \nL 127.753125 31.710815 \n\" clip-path=\"url(#p79cba0d739)\" style=\"fill: none; stroke-dasharray: 9.6,2.4,1.5,2.4; stroke-dashoffset: 0; stroke: #2ca02c; stroke-width: 1.5\"/>\n   </g>\n   <g id=\"line2d_69\">\n    <path d=\"M 34.954394 13.5 \nL 44.698573 80.610212 \nL 54.442752 96.852203 \nL 64.186931 103.376448 \nL 73.93111 109.038801 \nL 83.675289 114.863147 \nL 93.419468 118.356175 \nL 103.163647 118.707057 \nL 112.907826 123.79931 \nL 122.652006 124.233526 \nL 132.396185 127.951544 \nL 142.140364 128.138879 \n\" clip-path=\"url(#p79cba0d739)\" style=\"fill: none; stroke: #1f77b4; stroke-width: 1.5; stroke-linecap: square\"/>\n   </g>\n   <g id=\"line2d_70\">\n    <path d=\"M 49.633125 75.790921 \nL 69.163125 80.589847 \nL 88.693125 106.97749 \nL 108.223125 112.084254 \nL 127.753125 115.577862 \n\" clip-path=\"url(#p79cba0d739)\" style=\"fill: none; stroke-dasharray: 5.55,2.4; stroke-dashoffset: 0; stroke: #ff7f0e; stroke-width: 1.5\"/>\n   </g>\n   <g id=\"line2d_71\">\n    <path d=\"M 49.633125 45.738334 \nL 69.163125 41.970041 \nL 88.693125 36.031527 \nL 108.223125 33.723201 \nL 127.753125 31.710815 \n\" clip-path=\"url(#p79cba0d739)\" style=\"fill: none; stroke-dasharray: 9.6,2.4,1.5,2.4; stroke-dashoffset: 0; stroke: #2ca02c; stroke-width: 1.5\"/>\n   </g>\n   <g id=\"line2d_72\">\n    <path d=\"M 34.954394 13.5 \nL 44.698573 80.610212 \nL 54.442752 96.852203 \nL 64.186931 103.376448 \nL 73.93111 109.038801 \nL 83.675289 114.863147 \nL 93.419468 118.356175 \nL 103.163647 118.707057 \nL 112.907826 123.79931 \nL 122.652006 124.233526 \nL 132.396185 127.951544 \nL 142.140364 128.138879 \n\" clip-path=\"url(#p79cba0d739)\" style=\"fill: none; stroke: #1f77b4; stroke-width: 1.5; stroke-linecap: square\"/>\n   </g>\n   <g id=\"line2d_73\">\n    <path d=\"M 49.633125 75.790921 \nL 69.163125 80.589847 \nL 88.693125 106.97749 \nL 108.223125 112.084254 \nL 127.753125 115.577862 \nL 147.283125 101.99179 \n\" clip-path=\"url(#p79cba0d739)\" style=\"fill: none; stroke-dasharray: 5.55,2.4; stroke-dashoffset: 0; stroke: #ff7f0e; stroke-width: 1.5\"/>\n   </g>\n   <g id=\"line2d_74\">\n    <path d=\"M 49.633125 45.738334 \nL 69.163125 41.970041 \nL 88.693125 36.031527 \nL 108.223125 33.723201 \nL 127.753125 31.710815 \n\" clip-path=\"url(#p79cba0d739)\" style=\"fill: none; stroke-dasharray: 9.6,2.4,1.5,2.4; stroke-dashoffset: 0; stroke: #2ca02c; stroke-width: 1.5\"/>\n   </g>\n   <g id=\"line2d_75\">\n    <path d=\"M 34.954394 13.5 \nL 44.698573 80.610212 \nL 54.442752 96.852203 \nL 64.186931 103.376448 \nL 73.93111 109.038801 \nL 83.675289 114.863147 \nL 93.419468 118.356175 \nL 103.163647 118.707057 \nL 112.907826 123.79931 \nL 122.652006 124.233526 \nL 132.396185 127.951544 \nL 142.140364 128.138879 \n\" clip-path=\"url(#p79cba0d739)\" style=\"fill: none; stroke: #1f77b4; stroke-width: 1.5; stroke-linecap: square\"/>\n   </g>\n   <g id=\"line2d_76\">\n    <path d=\"M 49.633125 75.790921 \nL 69.163125 80.589847 \nL 88.693125 106.97749 \nL 108.223125 112.084254 \nL 127.753125 115.577862 \nL 147.283125 101.99179 \n\" clip-path=\"url(#p79cba0d739)\" style=\"fill: none; stroke-dasharray: 5.55,2.4; stroke-dashoffset: 0; stroke: #ff7f0e; stroke-width: 1.5\"/>\n   </g>\n   <g id=\"line2d_77\">\n    <path d=\"M 49.633125 45.738334 \nL 69.163125 41.970041 \nL 88.693125 36.031527 \nL 108.223125 33.723201 \nL 127.753125 31.710815 \nL 147.283125 37.590141 \n\" clip-path=\"url(#p79cba0d739)\" style=\"fill: none; stroke-dasharray: 9.6,2.4,1.5,2.4; stroke-dashoffset: 0; stroke: #2ca02c; stroke-width: 1.5\"/>\n   </g>\n   <g id=\"line2d_78\">\n    <path d=\"M 34.954394 13.5 \nL 44.698573 80.610212 \nL 54.442752 96.852203 \nL 64.186931 103.376448 \nL 73.93111 109.038801 \nL 83.675289 114.863147 \nL 93.419468 118.356175 \nL 103.163647 118.707057 \nL 112.907826 123.79931 \nL 122.652006 124.233526 \nL 132.396185 127.951544 \nL 142.140364 128.138879 \nL 151.884543 130.722302 \n\" clip-path=\"url(#p79cba0d739)\" style=\"fill: none; stroke: #1f77b4; stroke-width: 1.5; stroke-linecap: square\"/>\n   </g>\n   <g id=\"line2d_79\">\n    <path d=\"M 49.633125 75.790921 \nL 69.163125 80.589847 \nL 88.693125 106.97749 \nL 108.223125 112.084254 \nL 127.753125 115.577862 \nL 147.283125 101.99179 \n\" clip-path=\"url(#p79cba0d739)\" style=\"fill: none; stroke-dasharray: 5.55,2.4; stroke-dashoffset: 0; stroke: #ff7f0e; stroke-width: 1.5\"/>\n   </g>\n   <g id=\"line2d_80\">\n    <path d=\"M 49.633125 45.738334 \nL 69.163125 41.970041 \nL 88.693125 36.031527 \nL 108.223125 33.723201 \nL 127.753125 31.710815 \nL 147.283125 37.590141 \n\" clip-path=\"url(#p79cba0d739)\" style=\"fill: none; stroke-dasharray: 9.6,2.4,1.5,2.4; stroke-dashoffset: 0; stroke: #2ca02c; stroke-width: 1.5\"/>\n   </g>\n   <g id=\"line2d_81\">\n    <path d=\"M 34.954394 13.5 \nL 44.698573 80.610212 \nL 54.442752 96.852203 \nL 64.186931 103.376448 \nL 73.93111 109.038801 \nL 83.675289 114.863147 \nL 93.419468 118.356175 \nL 103.163647 118.707057 \nL 112.907826 123.79931 \nL 122.652006 124.233526 \nL 132.396185 127.951544 \nL 142.140364 128.138879 \nL 151.884543 130.722302 \nL 161.628722 131.538458 \n\" clip-path=\"url(#p79cba0d739)\" style=\"fill: none; stroke: #1f77b4; stroke-width: 1.5; stroke-linecap: square\"/>\n   </g>\n   <g id=\"line2d_82\">\n    <path d=\"M 49.633125 75.790921 \nL 69.163125 80.589847 \nL 88.693125 106.97749 \nL 108.223125 112.084254 \nL 127.753125 115.577862 \nL 147.283125 101.99179 \n\" clip-path=\"url(#p79cba0d739)\" style=\"fill: none; stroke-dasharray: 5.55,2.4; stroke-dashoffset: 0; stroke: #ff7f0e; stroke-width: 1.5\"/>\n   </g>\n   <g id=\"line2d_83\">\n    <path d=\"M 49.633125 45.738334 \nL 69.163125 41.970041 \nL 88.693125 36.031527 \nL 108.223125 33.723201 \nL 127.753125 31.710815 \nL 147.283125 37.590141 \n\" clip-path=\"url(#p79cba0d739)\" style=\"fill: none; stroke-dasharray: 9.6,2.4,1.5,2.4; stroke-dashoffset: 0; stroke: #2ca02c; stroke-width: 1.5\"/>\n   </g>\n   <g id=\"line2d_84\">\n    <path d=\"M 34.954394 13.5 \nL 44.698573 80.610212 \nL 54.442752 96.852203 \nL 64.186931 103.376448 \nL 73.93111 109.038801 \nL 83.675289 114.863147 \nL 93.419468 118.356175 \nL 103.163647 118.707057 \nL 112.907826 123.79931 \nL 122.652006 124.233526 \nL 132.396185 127.951544 \nL 142.140364 128.138879 \nL 151.884543 130.722302 \nL 161.628722 131.538458 \n\" clip-path=\"url(#p79cba0d739)\" style=\"fill: none; stroke: #1f77b4; stroke-width: 1.5; stroke-linecap: square\"/>\n   </g>\n   <g id=\"line2d_85\">\n    <path d=\"M 49.633125 75.790921 \nL 69.163125 80.589847 \nL 88.693125 106.97749 \nL 108.223125 112.084254 \nL 127.753125 115.577862 \nL 147.283125 101.99179 \nL 166.813125 124.465495 \n\" clip-path=\"url(#p79cba0d739)\" style=\"fill: none; stroke-dasharray: 5.55,2.4; stroke-dashoffset: 0; stroke: #ff7f0e; stroke-width: 1.5\"/>\n   </g>\n   <g id=\"line2d_86\">\n    <path d=\"M 49.633125 45.738334 \nL 69.163125 41.970041 \nL 88.693125 36.031527 \nL 108.223125 33.723201 \nL 127.753125 31.710815 \nL 147.283125 37.590141 \n\" clip-path=\"url(#p79cba0d739)\" style=\"fill: none; stroke-dasharray: 9.6,2.4,1.5,2.4; stroke-dashoffset: 0; stroke: #2ca02c; stroke-width: 1.5\"/>\n   </g>\n   <g id=\"line2d_87\">\n    <path d=\"M 34.954394 13.5 \nL 44.698573 80.610212 \nL 54.442752 96.852203 \nL 64.186931 103.376448 \nL 73.93111 109.038801 \nL 83.675289 114.863147 \nL 93.419468 118.356175 \nL 103.163647 118.707057 \nL 112.907826 123.79931 \nL 122.652006 124.233526 \nL 132.396185 127.951544 \nL 142.140364 128.138879 \nL 151.884543 130.722302 \nL 161.628722 131.538458 \n\" clip-path=\"url(#p79cba0d739)\" style=\"fill: none; stroke: #1f77b4; stroke-width: 1.5; stroke-linecap: square\"/>\n   </g>\n   <g id=\"line2d_88\">\n    <path d=\"M 49.633125 75.790921 \nL 69.163125 80.589847 \nL 88.693125 106.97749 \nL 108.223125 112.084254 \nL 127.753125 115.577862 \nL 147.283125 101.99179 \nL 166.813125 124.465495 \n\" clip-path=\"url(#p79cba0d739)\" style=\"fill: none; stroke-dasharray: 5.55,2.4; stroke-dashoffset: 0; stroke: #ff7f0e; stroke-width: 1.5\"/>\n   </g>\n   <g id=\"line2d_89\">\n    <path d=\"M 49.633125 45.738334 \nL 69.163125 41.970041 \nL 88.693125 36.031527 \nL 108.223125 33.723201 \nL 127.753125 31.710815 \nL 147.283125 37.590141 \nL 166.813125 29.619511 \n\" clip-path=\"url(#p79cba0d739)\" style=\"fill: none; stroke-dasharray: 9.6,2.4,1.5,2.4; stroke-dashoffset: 0; stroke: #2ca02c; stroke-width: 1.5\"/>\n   </g>\n   <g id=\"line2d_90\">\n    <path d=\"M 34.954394 13.5 \nL 44.698573 80.610212 \nL 54.442752 96.852203 \nL 64.186931 103.376448 \nL 73.93111 109.038801 \nL 83.675289 114.863147 \nL 93.419468 118.356175 \nL 103.163647 118.707057 \nL 112.907826 123.79931 \nL 122.652006 124.233526 \nL 132.396185 127.951544 \nL 142.140364 128.138879 \nL 151.884543 130.722302 \nL 161.628722 131.538458 \nL 171.372901 134.345009 \n\" clip-path=\"url(#p79cba0d739)\" style=\"fill: none; stroke: #1f77b4; stroke-width: 1.5; stroke-linecap: square\"/>\n   </g>\n   <g id=\"line2d_91\">\n    <path d=\"M 49.633125 75.790921 \nL 69.163125 80.589847 \nL 88.693125 106.97749 \nL 108.223125 112.084254 \nL 127.753125 115.577862 \nL 147.283125 101.99179 \nL 166.813125 124.465495 \n\" clip-path=\"url(#p79cba0d739)\" style=\"fill: none; stroke-dasharray: 5.55,2.4; stroke-dashoffset: 0; stroke: #ff7f0e; stroke-width: 1.5\"/>\n   </g>\n   <g id=\"line2d_92\">\n    <path d=\"M 49.633125 45.738334 \nL 69.163125 41.970041 \nL 88.693125 36.031527 \nL 108.223125 33.723201 \nL 127.753125 31.710815 \nL 147.283125 37.590141 \nL 166.813125 29.619511 \n\" clip-path=\"url(#p79cba0d739)\" style=\"fill: none; stroke-dasharray: 9.6,2.4,1.5,2.4; stroke-dashoffset: 0; stroke: #2ca02c; stroke-width: 1.5\"/>\n   </g>\n   <g id=\"line2d_93\">\n    <path d=\"M 34.954394 13.5 \nL 44.698573 80.610212 \nL 54.442752 96.852203 \nL 64.186931 103.376448 \nL 73.93111 109.038801 \nL 83.675289 114.863147 \nL 93.419468 118.356175 \nL 103.163647 118.707057 \nL 112.907826 123.79931 \nL 122.652006 124.233526 \nL 132.396185 127.951544 \nL 142.140364 128.138879 \nL 151.884543 130.722302 \nL 161.628722 131.538458 \nL 171.372901 134.345009 \nL 181.11708 134.338504 \n\" clip-path=\"url(#p79cba0d739)\" style=\"fill: none; stroke: #1f77b4; stroke-width: 1.5; stroke-linecap: square\"/>\n   </g>\n   <g id=\"line2d_94\">\n    <path d=\"M 49.633125 75.790921 \nL 69.163125 80.589847 \nL 88.693125 106.97749 \nL 108.223125 112.084254 \nL 127.753125 115.577862 \nL 147.283125 101.99179 \nL 166.813125 124.465495 \n\" clip-path=\"url(#p79cba0d739)\" style=\"fill: none; stroke-dasharray: 5.55,2.4; stroke-dashoffset: 0; stroke: #ff7f0e; stroke-width: 1.5\"/>\n   </g>\n   <g id=\"line2d_95\">\n    <path d=\"M 49.633125 45.738334 \nL 69.163125 41.970041 \nL 88.693125 36.031527 \nL 108.223125 33.723201 \nL 127.753125 31.710815 \nL 147.283125 37.590141 \nL 166.813125 29.619511 \n\" clip-path=\"url(#p79cba0d739)\" style=\"fill: none; stroke-dasharray: 9.6,2.4,1.5,2.4; stroke-dashoffset: 0; stroke: #2ca02c; stroke-width: 1.5\"/>\n   </g>\n   <g id=\"line2d_96\">\n    <path d=\"M 34.954394 13.5 \nL 44.698573 80.610212 \nL 54.442752 96.852203 \nL 64.186931 103.376448 \nL 73.93111 109.038801 \nL 83.675289 114.863147 \nL 93.419468 118.356175 \nL 103.163647 118.707057 \nL 112.907826 123.79931 \nL 122.652006 124.233526 \nL 132.396185 127.951544 \nL 142.140364 128.138879 \nL 151.884543 130.722302 \nL 161.628722 131.538458 \nL 171.372901 134.345009 \nL 181.11708 134.338504 \n\" clip-path=\"url(#p79cba0d739)\" style=\"fill: none; stroke: #1f77b4; stroke-width: 1.5; stroke-linecap: square\"/>\n   </g>\n   <g id=\"line2d_97\">\n    <path d=\"M 49.633125 75.790921 \nL 69.163125 80.589847 \nL 88.693125 106.97749 \nL 108.223125 112.084254 \nL 127.753125 115.577862 \nL 147.283125 101.99179 \nL 166.813125 124.465495 \nL 186.343125 116.612817 \n\" clip-path=\"url(#p79cba0d739)\" style=\"fill: none; stroke-dasharray: 5.55,2.4; stroke-dashoffset: 0; stroke: #ff7f0e; stroke-width: 1.5\"/>\n   </g>\n   <g id=\"line2d_98\">\n    <path d=\"M 49.633125 45.738334 \nL 69.163125 41.970041 \nL 88.693125 36.031527 \nL 108.223125 33.723201 \nL 127.753125 31.710815 \nL 147.283125 37.590141 \nL 166.813125 29.619511 \n\" clip-path=\"url(#p79cba0d739)\" style=\"fill: none; stroke-dasharray: 9.6,2.4,1.5,2.4; stroke-dashoffset: 0; stroke: #2ca02c; stroke-width: 1.5\"/>\n   </g>\n   <g id=\"line2d_99\">\n    <path d=\"M 34.954394 13.5 \nL 44.698573 80.610212 \nL 54.442752 96.852203 \nL 64.186931 103.376448 \nL 73.93111 109.038801 \nL 83.675289 114.863147 \nL 93.419468 118.356175 \nL 103.163647 118.707057 \nL 112.907826 123.79931 \nL 122.652006 124.233526 \nL 132.396185 127.951544 \nL 142.140364 128.138879 \nL 151.884543 130.722302 \nL 161.628722 131.538458 \nL 171.372901 134.345009 \nL 181.11708 134.338504 \n\" clip-path=\"url(#p79cba0d739)\" style=\"fill: none; stroke: #1f77b4; stroke-width: 1.5; stroke-linecap: square\"/>\n   </g>\n   <g id=\"line2d_100\">\n    <path d=\"M 49.633125 75.790921 \nL 69.163125 80.589847 \nL 88.693125 106.97749 \nL 108.223125 112.084254 \nL 127.753125 115.577862 \nL 147.283125 101.99179 \nL 166.813125 124.465495 \nL 186.343125 116.612817 \n\" clip-path=\"url(#p79cba0d739)\" style=\"fill: none; stroke-dasharray: 5.55,2.4; stroke-dashoffset: 0; stroke: #ff7f0e; stroke-width: 1.5\"/>\n   </g>\n   <g id=\"line2d_101\">\n    <path d=\"M 49.633125 45.738334 \nL 69.163125 41.970041 \nL 88.693125 36.031527 \nL 108.223125 33.723201 \nL 127.753125 31.710815 \nL 147.283125 37.590141 \nL 166.813125 29.619511 \nL 186.343125 33.604826 \n\" clip-path=\"url(#p79cba0d739)\" style=\"fill: none; stroke-dasharray: 9.6,2.4,1.5,2.4; stroke-dashoffset: 0; stroke: #2ca02c; stroke-width: 1.5\"/>\n   </g>\n   <g id=\"line2d_102\">\n    <path d=\"M 34.954394 13.5 \nL 44.698573 80.610212 \nL 54.442752 96.852203 \nL 64.186931 103.376448 \nL 73.93111 109.038801 \nL 83.675289 114.863147 \nL 93.419468 118.356175 \nL 103.163647 118.707057 \nL 112.907826 123.79931 \nL 122.652006 124.233526 \nL 132.396185 127.951544 \nL 142.140364 128.138879 \nL 151.884543 130.722302 \nL 161.628722 131.538458 \nL 171.372901 134.345009 \nL 181.11708 134.338504 \nL 190.861259 136.009172 \n\" clip-path=\"url(#p79cba0d739)\" style=\"fill: none; stroke: #1f77b4; stroke-width: 1.5; stroke-linecap: square\"/>\n   </g>\n   <g id=\"line2d_103\">\n    <path d=\"M 49.633125 75.790921 \nL 69.163125 80.589847 \nL 88.693125 106.97749 \nL 108.223125 112.084254 \nL 127.753125 115.577862 \nL 147.283125 101.99179 \nL 166.813125 124.465495 \nL 186.343125 116.612817 \n\" clip-path=\"url(#p79cba0d739)\" style=\"fill: none; stroke-dasharray: 5.55,2.4; stroke-dashoffset: 0; stroke: #ff7f0e; stroke-width: 1.5\"/>\n   </g>\n   <g id=\"line2d_104\">\n    <path d=\"M 49.633125 45.738334 \nL 69.163125 41.970041 \nL 88.693125 36.031527 \nL 108.223125 33.723201 \nL 127.753125 31.710815 \nL 147.283125 37.590141 \nL 166.813125 29.619511 \nL 186.343125 33.604826 \n\" clip-path=\"url(#p79cba0d739)\" style=\"fill: none; stroke-dasharray: 9.6,2.4,1.5,2.4; stroke-dashoffset: 0; stroke: #2ca02c; stroke-width: 1.5\"/>\n   </g>\n   <g id=\"line2d_105\">\n    <path d=\"M 34.954394 13.5 \nL 44.698573 80.610212 \nL 54.442752 96.852203 \nL 64.186931 103.376448 \nL 73.93111 109.038801 \nL 83.675289 114.863147 \nL 93.419468 118.356175 \nL 103.163647 118.707057 \nL 112.907826 123.79931 \nL 122.652006 124.233526 \nL 132.396185 127.951544 \nL 142.140364 128.138879 \nL 151.884543 130.722302 \nL 161.628722 131.538458 \nL 171.372901 134.345009 \nL 181.11708 134.338504 \nL 190.861259 136.009172 \nL 200.605438 137.738022 \n\" clip-path=\"url(#p79cba0d739)\" style=\"fill: none; stroke: #1f77b4; stroke-width: 1.5; stroke-linecap: square\"/>\n   </g>\n   <g id=\"line2d_106\">\n    <path d=\"M 49.633125 75.790921 \nL 69.163125 80.589847 \nL 88.693125 106.97749 \nL 108.223125 112.084254 \nL 127.753125 115.577862 \nL 147.283125 101.99179 \nL 166.813125 124.465495 \nL 186.343125 116.612817 \n\" clip-path=\"url(#p79cba0d739)\" style=\"fill: none; stroke-dasharray: 5.55,2.4; stroke-dashoffset: 0; stroke: #ff7f0e; stroke-width: 1.5\"/>\n   </g>\n   <g id=\"line2d_107\">\n    <path d=\"M 49.633125 45.738334 \nL 69.163125 41.970041 \nL 88.693125 36.031527 \nL 108.223125 33.723201 \nL 127.753125 31.710815 \nL 147.283125 37.590141 \nL 166.813125 29.619511 \nL 186.343125 33.604826 \n\" clip-path=\"url(#p79cba0d739)\" style=\"fill: none; stroke-dasharray: 9.6,2.4,1.5,2.4; stroke-dashoffset: 0; stroke: #2ca02c; stroke-width: 1.5\"/>\n   </g>\n   <g id=\"line2d_108\">\n    <path d=\"M 34.954394 13.5 \nL 44.698573 80.610212 \nL 54.442752 96.852203 \nL 64.186931 103.376448 \nL 73.93111 109.038801 \nL 83.675289 114.863147 \nL 93.419468 118.356175 \nL 103.163647 118.707057 \nL 112.907826 123.79931 \nL 122.652006 124.233526 \nL 132.396185 127.951544 \nL 142.140364 128.138879 \nL 151.884543 130.722302 \nL 161.628722 131.538458 \nL 171.372901 134.345009 \nL 181.11708 134.338504 \nL 190.861259 136.009172 \nL 200.605438 137.738022 \n\" clip-path=\"url(#p79cba0d739)\" style=\"fill: none; stroke: #1f77b4; stroke-width: 1.5; stroke-linecap: square\"/>\n   </g>\n   <g id=\"line2d_109\">\n    <path d=\"M 49.633125 75.790921 \nL 69.163125 80.589847 \nL 88.693125 106.97749 \nL 108.223125 112.084254 \nL 127.753125 115.577862 \nL 147.283125 101.99179 \nL 166.813125 124.465495 \nL 186.343125 116.612817 \nL 205.873125 110.125312 \n\" clip-path=\"url(#p79cba0d739)\" style=\"fill: none; stroke-dasharray: 5.55,2.4; stroke-dashoffset: 0; stroke: #ff7f0e; stroke-width: 1.5\"/>\n   </g>\n   <g id=\"line2d_110\">\n    <path d=\"M 49.633125 45.738334 \nL 69.163125 41.970041 \nL 88.693125 36.031527 \nL 108.223125 33.723201 \nL 127.753125 31.710815 \nL 147.283125 37.590141 \nL 166.813125 29.619511 \nL 186.343125 33.604826 \n\" clip-path=\"url(#p79cba0d739)\" style=\"fill: none; stroke-dasharray: 9.6,2.4,1.5,2.4; stroke-dashoffset: 0; stroke: #2ca02c; stroke-width: 1.5\"/>\n   </g>\n   <g id=\"line2d_111\">\n    <path d=\"M 34.954394 13.5 \nL 44.698573 80.610212 \nL 54.442752 96.852203 \nL 64.186931 103.376448 \nL 73.93111 109.038801 \nL 83.675289 114.863147 \nL 93.419468 118.356175 \nL 103.163647 118.707057 \nL 112.907826 123.79931 \nL 122.652006 124.233526 \nL 132.396185 127.951544 \nL 142.140364 128.138879 \nL 151.884543 130.722302 \nL 161.628722 131.538458 \nL 171.372901 134.345009 \nL 181.11708 134.338504 \nL 190.861259 136.009172 \nL 200.605438 137.738022 \n\" clip-path=\"url(#p79cba0d739)\" style=\"fill: none; stroke: #1f77b4; stroke-width: 1.5; stroke-linecap: square\"/>\n   </g>\n   <g id=\"line2d_112\">\n    <path d=\"M 49.633125 75.790921 \nL 69.163125 80.589847 \nL 88.693125 106.97749 \nL 108.223125 112.084254 \nL 127.753125 115.577862 \nL 147.283125 101.99179 \nL 166.813125 124.465495 \nL 186.343125 116.612817 \nL 205.873125 110.125312 \n\" clip-path=\"url(#p79cba0d739)\" style=\"fill: none; stroke-dasharray: 5.55,2.4; stroke-dashoffset: 0; stroke: #ff7f0e; stroke-width: 1.5\"/>\n   </g>\n   <g id=\"line2d_113\">\n    <path d=\"M 49.633125 45.738334 \nL 69.163125 41.970041 \nL 88.693125 36.031527 \nL 108.223125 33.723201 \nL 127.753125 31.710815 \nL 147.283125 37.590141 \nL 166.813125 29.619511 \nL 186.343125 33.604826 \nL 205.873125 36.011798 \n\" clip-path=\"url(#p79cba0d739)\" style=\"fill: none; stroke-dasharray: 9.6,2.4,1.5,2.4; stroke-dashoffset: 0; stroke: #2ca02c; stroke-width: 1.5\"/>\n   </g>\n   <g id=\"line2d_114\">\n    <path d=\"M 34.954394 13.5 \nL 44.698573 80.610212 \nL 54.442752 96.852203 \nL 64.186931 103.376448 \nL 73.93111 109.038801 \nL 83.675289 114.863147 \nL 93.419468 118.356175 \nL 103.163647 118.707057 \nL 112.907826 123.79931 \nL 122.652006 124.233526 \nL 132.396185 127.951544 \nL 142.140364 128.138879 \nL 151.884543 130.722302 \nL 161.628722 131.538458 \nL 171.372901 134.345009 \nL 181.11708 134.338504 \nL 190.861259 136.009172 \nL 200.605438 137.738022 \nL 210.349618 138.43732 \n\" clip-path=\"url(#p79cba0d739)\" style=\"fill: none; stroke: #1f77b4; stroke-width: 1.5; stroke-linecap: square\"/>\n   </g>\n   <g id=\"line2d_115\">\n    <path d=\"M 49.633125 75.790921 \nL 69.163125 80.589847 \nL 88.693125 106.97749 \nL 108.223125 112.084254 \nL 127.753125 115.577862 \nL 147.283125 101.99179 \nL 166.813125 124.465495 \nL 186.343125 116.612817 \nL 205.873125 110.125312 \n\" clip-path=\"url(#p79cba0d739)\" style=\"fill: none; stroke-dasharray: 5.55,2.4; stroke-dashoffset: 0; stroke: #ff7f0e; stroke-width: 1.5\"/>\n   </g>\n   <g id=\"line2d_116\">\n    <path d=\"M 49.633125 45.738334 \nL 69.163125 41.970041 \nL 88.693125 36.031527 \nL 108.223125 33.723201 \nL 127.753125 31.710815 \nL 147.283125 37.590141 \nL 166.813125 29.619511 \nL 186.343125 33.604826 \nL 205.873125 36.011798 \n\" clip-path=\"url(#p79cba0d739)\" style=\"fill: none; stroke-dasharray: 9.6,2.4,1.5,2.4; stroke-dashoffset: 0; stroke: #2ca02c; stroke-width: 1.5\"/>\n   </g>\n   <g id=\"line2d_117\">\n    <path d=\"M 34.954394 13.5 \nL 44.698573 80.610212 \nL 54.442752 96.852203 \nL 64.186931 103.376448 \nL 73.93111 109.038801 \nL 83.675289 114.863147 \nL 93.419468 118.356175 \nL 103.163647 118.707057 \nL 112.907826 123.79931 \nL 122.652006 124.233526 \nL 132.396185 127.951544 \nL 142.140364 128.138879 \nL 151.884543 130.722302 \nL 161.628722 131.538458 \nL 171.372901 134.345009 \nL 181.11708 134.338504 \nL 190.861259 136.009172 \nL 200.605438 137.738022 \nL 210.349618 138.43732 \nL 220.093797 139.5 \n\" clip-path=\"url(#p79cba0d739)\" style=\"fill: none; stroke: #1f77b4; stroke-width: 1.5; stroke-linecap: square\"/>\n   </g>\n   <g id=\"line2d_118\">\n    <path d=\"M 49.633125 75.790921 \nL 69.163125 80.589847 \nL 88.693125 106.97749 \nL 108.223125 112.084254 \nL 127.753125 115.577862 \nL 147.283125 101.99179 \nL 166.813125 124.465495 \nL 186.343125 116.612817 \nL 205.873125 110.125312 \n\" clip-path=\"url(#p79cba0d739)\" style=\"fill: none; stroke-dasharray: 5.55,2.4; stroke-dashoffset: 0; stroke: #ff7f0e; stroke-width: 1.5\"/>\n   </g>\n   <g id=\"line2d_119\">\n    <path d=\"M 49.633125 45.738334 \nL 69.163125 41.970041 \nL 88.693125 36.031527 \nL 108.223125 33.723201 \nL 127.753125 31.710815 \nL 147.283125 37.590141 \nL 166.813125 29.619511 \nL 186.343125 33.604826 \nL 205.873125 36.011798 \n\" clip-path=\"url(#p79cba0d739)\" style=\"fill: none; stroke-dasharray: 9.6,2.4,1.5,2.4; stroke-dashoffset: 0; stroke: #2ca02c; stroke-width: 1.5\"/>\n   </g>\n   <g id=\"line2d_120\">\n    <path d=\"M 34.954394 13.5 \nL 44.698573 80.610212 \nL 54.442752 96.852203 \nL 64.186931 103.376448 \nL 73.93111 109.038801 \nL 83.675289 114.863147 \nL 93.419468 118.356175 \nL 103.163647 118.707057 \nL 112.907826 123.79931 \nL 122.652006 124.233526 \nL 132.396185 127.951544 \nL 142.140364 128.138879 \nL 151.884543 130.722302 \nL 161.628722 131.538458 \nL 171.372901 134.345009 \nL 181.11708 134.338504 \nL 190.861259 136.009172 \nL 200.605438 137.738022 \nL 210.349618 138.43732 \nL 220.093797 139.5 \n\" clip-path=\"url(#p79cba0d739)\" style=\"fill: none; stroke: #1f77b4; stroke-width: 1.5; stroke-linecap: square\"/>\n   </g>\n   <g id=\"line2d_121\">\n    <path d=\"M 49.633125 75.790921 \nL 69.163125 80.589847 \nL 88.693125 106.97749 \nL 108.223125 112.084254 \nL 127.753125 115.577862 \nL 147.283125 101.99179 \nL 166.813125 124.465495 \nL 186.343125 116.612817 \nL 205.873125 110.125312 \nL 225.403125 128.643082 \n\" clip-path=\"url(#p79cba0d739)\" style=\"fill: none; stroke-dasharray: 5.55,2.4; stroke-dashoffset: 0; stroke: #ff7f0e; stroke-width: 1.5\"/>\n   </g>\n   <g id=\"line2d_122\">\n    <path d=\"M 49.633125 45.738334 \nL 69.163125 41.970041 \nL 88.693125 36.031527 \nL 108.223125 33.723201 \nL 127.753125 31.710815 \nL 147.283125 37.590141 \nL 166.813125 29.619511 \nL 186.343125 33.604826 \nL 205.873125 36.011798 \n\" clip-path=\"url(#p79cba0d739)\" style=\"fill: none; stroke-dasharray: 9.6,2.4,1.5,2.4; stroke-dashoffset: 0; stroke: #2ca02c; stroke-width: 1.5\"/>\n   </g>\n   <g id=\"line2d_123\">\n    <path d=\"M 34.954394 13.5 \nL 44.698573 80.610212 \nL 54.442752 96.852203 \nL 64.186931 103.376448 \nL 73.93111 109.038801 \nL 83.675289 114.863147 \nL 93.419468 118.356175 \nL 103.163647 118.707057 \nL 112.907826 123.79931 \nL 122.652006 124.233526 \nL 132.396185 127.951544 \nL 142.140364 128.138879 \nL 151.884543 130.722302 \nL 161.628722 131.538458 \nL 171.372901 134.345009 \nL 181.11708 134.338504 \nL 190.861259 136.009172 \nL 200.605438 137.738022 \nL 210.349618 138.43732 \nL 220.093797 139.5 \n\" clip-path=\"url(#p79cba0d739)\" style=\"fill: none; stroke: #1f77b4; stroke-width: 1.5; stroke-linecap: square\"/>\n   </g>\n   <g id=\"line2d_124\">\n    <path d=\"M 49.633125 75.790921 \nL 69.163125 80.589847 \nL 88.693125 106.97749 \nL 108.223125 112.084254 \nL 127.753125 115.577862 \nL 147.283125 101.99179 \nL 166.813125 124.465495 \nL 186.343125 116.612817 \nL 205.873125 110.125312 \nL 225.403125 128.643082 \n\" clip-path=\"url(#p79cba0d739)\" style=\"fill: none; stroke-dasharray: 5.55,2.4; stroke-dashoffset: 0; stroke: #ff7f0e; stroke-width: 1.5\"/>\n   </g>\n   <g id=\"line2d_125\">\n    <path d=\"M 49.633125 45.738334 \nL 69.163125 41.970041 \nL 88.693125 36.031527 \nL 108.223125 33.723201 \nL 127.753125 31.710815 \nL 147.283125 37.590141 \nL 166.813125 29.619511 \nL 186.343125 33.604826 \nL 205.873125 36.011798 \nL 225.403125 28.25819 \n\" clip-path=\"url(#p79cba0d739)\" style=\"fill: none; stroke-dasharray: 9.6,2.4,1.5,2.4; stroke-dashoffset: 0; stroke: #2ca02c; stroke-width: 1.5\"/>\n   </g>\n   <g id=\"patch_3\">\n    <path d=\"M 30.103125 145.8 \nL 30.103125 7.2 \n\" style=\"fill: none; stroke: #000000; stroke-width: 0.8; stroke-linejoin: miter; stroke-linecap: square\"/>\n   </g>\n   <g id=\"patch_4\">\n    <path d=\"M 225.403125 145.8 \nL 225.403125 7.2 \n\" style=\"fill: none; stroke: #000000; stroke-width: 0.8; stroke-linejoin: miter; stroke-linecap: square\"/>\n   </g>\n   <g id=\"patch_5\">\n    <path d=\"M 30.103125 145.8 \nL 225.403125 145.8 \n\" style=\"fill: none; stroke: #000000; stroke-width: 0.8; stroke-linejoin: miter; stroke-linecap: square\"/>\n   </g>\n   <g id=\"patch_6\">\n    <path d=\"M 30.103125 7.2 \nL 225.403125 7.2 \n\" style=\"fill: none; stroke: #000000; stroke-width: 0.8; stroke-linejoin: miter; stroke-linecap: square\"/>\n   </g>\n   <g id=\"legend_1\">\n    <g id=\"patch_7\">\n     <path d=\"M 138.8125 100.434375 \nL 218.403125 100.434375 \nQ 220.403125 100.434375 220.403125 98.434375 \nL 220.403125 54.565625 \nQ 220.403125 52.565625 218.403125 52.565625 \nL 138.8125 52.565625 \nQ 136.8125 52.565625 136.8125 54.565625 \nL 136.8125 98.434375 \nQ 136.8125 100.434375 138.8125 100.434375 \nz\n\" style=\"fill: #ffffff; opacity: 0.8; stroke: #cccccc; stroke-linejoin: miter\"/>\n    </g>\n    <g id=\"line2d_126\">\n     <path d=\"M 140.8125 60.664063 \nL 150.8125 60.664063 \nL 160.8125 60.664063 \n\" style=\"fill: none; stroke: #1f77b4; stroke-width: 1.5; stroke-linecap: square\"/>\n    </g>\n    <g id=\"text_11\">\n     <!-- train_loss -->\n     <g transform=\"translate(168.8125 64.164063) scale(0.1 -0.1)\">\n      <defs>\n       <path id=\"DejaVuSans-74\" d=\"M 1172 4494 \nL 1172 3500 \nL 2356 3500 \nL 2356 3053 \nL 1172 3053 \nL 1172 1153 \nQ 1172 725 1289 603 \nQ 1406 481 1766 481 \nL 2356 481 \nL 2356 0 \nL 1766 0 \nQ 1100 0 847 248 \nQ 594 497 594 1153 \nL 594 3053 \nL 172 3053 \nL 172 3500 \nL 594 3500 \nL 594 4494 \nL 1172 4494 \nz\n\" transform=\"scale(0.015625)\"/>\n       <path id=\"DejaVuSans-72\" d=\"M 2631 2963 \nQ 2534 3019 2420 3045 \nQ 2306 3072 2169 3072 \nQ 1681 3072 1420 2755 \nQ 1159 2438 1159 1844 \nL 1159 0 \nL 581 0 \nL 581 3500 \nL 1159 3500 \nL 1159 2956 \nQ 1341 3275 1631 3429 \nQ 1922 3584 2338 3584 \nQ 2397 3584 2469 3576 \nQ 2541 3569 2628 3553 \nL 2631 2963 \nz\n\" transform=\"scale(0.015625)\"/>\n       <path id=\"DejaVuSans-61\" d=\"M 2194 1759 \nQ 1497 1759 1228 1600 \nQ 959 1441 959 1056 \nQ 959 750 1161 570 \nQ 1363 391 1709 391 \nQ 2188 391 2477 730 \nQ 2766 1069 2766 1631 \nL 2766 1759 \nL 2194 1759 \nz\nM 3341 1997 \nL 3341 0 \nL 2766 0 \nL 2766 531 \nQ 2569 213 2275 61 \nQ 1981 -91 1556 -91 \nQ 1019 -91 701 211 \nQ 384 513 384 1019 \nQ 384 1609 779 1909 \nQ 1175 2209 1959 2209 \nL 2766 2209 \nL 2766 2266 \nQ 2766 2663 2505 2880 \nQ 2244 3097 1772 3097 \nQ 1472 3097 1187 3025 \nQ 903 2953 641 2809 \nL 641 3341 \nQ 956 3463 1253 3523 \nQ 1550 3584 1831 3584 \nQ 2591 3584 2966 3190 \nQ 3341 2797 3341 1997 \nz\n\" transform=\"scale(0.015625)\"/>\n       <path id=\"DejaVuSans-69\" d=\"M 603 3500 \nL 1178 3500 \nL 1178 0 \nL 603 0 \nL 603 3500 \nz\nM 603 4863 \nL 1178 4863 \nL 1178 4134 \nL 603 4134 \nL 603 4863 \nz\n\" transform=\"scale(0.015625)\"/>\n       <path id=\"DejaVuSans-6e\" d=\"M 3513 2113 \nL 3513 0 \nL 2938 0 \nL 2938 2094 \nQ 2938 2591 2744 2837 \nQ 2550 3084 2163 3084 \nQ 1697 3084 1428 2787 \nQ 1159 2491 1159 1978 \nL 1159 0 \nL 581 0 \nL 581 3500 \nL 1159 3500 \nL 1159 2956 \nQ 1366 3272 1645 3428 \nQ 1925 3584 2291 3584 \nQ 2894 3584 3203 3211 \nQ 3513 2838 3513 2113 \nz\n\" transform=\"scale(0.015625)\"/>\n       <path id=\"DejaVuSans-5f\" d=\"M 3263 -1063 \nL 3263 -1509 \nL -63 -1509 \nL -63 -1063 \nL 3263 -1063 \nz\n\" transform=\"scale(0.015625)\"/>\n       <path id=\"DejaVuSans-6c\" d=\"M 603 4863 \nL 1178 4863 \nL 1178 0 \nL 603 0 \nL 603 4863 \nz\n\" transform=\"scale(0.015625)\"/>\n       <path id=\"DejaVuSans-73\" d=\"M 2834 3397 \nL 2834 2853 \nQ 2591 2978 2328 3040 \nQ 2066 3103 1784 3103 \nQ 1356 3103 1142 2972 \nQ 928 2841 928 2578 \nQ 928 2378 1081 2264 \nQ 1234 2150 1697 2047 \nL 1894 2003 \nQ 2506 1872 2764 1633 \nQ 3022 1394 3022 966 \nQ 3022 478 2636 193 \nQ 2250 -91 1575 -91 \nQ 1294 -91 989 -36 \nQ 684 19 347 128 \nL 347 722 \nQ 666 556 975 473 \nQ 1284 391 1588 391 \nQ 1994 391 2212 530 \nQ 2431 669 2431 922 \nQ 2431 1156 2273 1281 \nQ 2116 1406 1581 1522 \nL 1381 1569 \nQ 847 1681 609 1914 \nQ 372 2147 372 2553 \nQ 372 3047 722 3315 \nQ 1072 3584 1716 3584 \nQ 2034 3584 2315 3537 \nQ 2597 3491 2834 3397 \nz\n\" transform=\"scale(0.015625)\"/>\n      </defs>\n      <use xlink:href=\"#DejaVuSans-74\"/>\n      <use xlink:href=\"#DejaVuSans-72\" x=\"39.208984\"/>\n      <use xlink:href=\"#DejaVuSans-61\" x=\"80.322266\"/>\n      <use xlink:href=\"#DejaVuSans-69\" x=\"141.601562\"/>\n      <use xlink:href=\"#DejaVuSans-6e\" x=\"169.384766\"/>\n      <use xlink:href=\"#DejaVuSans-5f\" x=\"232.763672\"/>\n      <use xlink:href=\"#DejaVuSans-6c\" x=\"282.763672\"/>\n      <use xlink:href=\"#DejaVuSans-6f\" x=\"310.546875\"/>\n      <use xlink:href=\"#DejaVuSans-73\" x=\"371.728516\"/>\n      <use xlink:href=\"#DejaVuSans-73\" x=\"423.828125\"/>\n     </g>\n    </g>\n    <g id=\"line2d_127\">\n     <path d=\"M 140.8125 75.620313 \nL 150.8125 75.620313 \nL 160.8125 75.620313 \n\" style=\"fill: none; stroke-dasharray: 5.55,2.4; stroke-dashoffset: 0; stroke: #ff7f0e; stroke-width: 1.5\"/>\n    </g>\n    <g id=\"text_12\">\n     <!-- val_loss -->\n     <g transform=\"translate(168.8125 79.120313) scale(0.1 -0.1)\">\n      <defs>\n       <path id=\"DejaVuSans-76\" d=\"M 191 3500 \nL 800 3500 \nL 1894 563 \nL 2988 3500 \nL 3597 3500 \nL 2284 0 \nL 1503 0 \nL 191 3500 \nz\n\" transform=\"scale(0.015625)\"/>\n      </defs>\n      <use xlink:href=\"#DejaVuSans-76\"/>\n      <use xlink:href=\"#DejaVuSans-61\" x=\"59.179688\"/>\n      <use xlink:href=\"#DejaVuSans-6c\" x=\"120.458984\"/>\n      <use xlink:href=\"#DejaVuSans-5f\" x=\"148.242188\"/>\n      <use xlink:href=\"#DejaVuSans-6c\" x=\"198.242188\"/>\n      <use xlink:href=\"#DejaVuSans-6f\" x=\"226.025391\"/>\n      <use xlink:href=\"#DejaVuSans-73\" x=\"287.207031\"/>\n      <use xlink:href=\"#DejaVuSans-73\" x=\"339.306641\"/>\n     </g>\n    </g>\n    <g id=\"line2d_128\">\n     <path d=\"M 140.8125 90.576563 \nL 150.8125 90.576563 \nL 160.8125 90.576563 \n\" style=\"fill: none; stroke-dasharray: 9.6,2.4,1.5,2.4; stroke-dashoffset: 0; stroke: #2ca02c; stroke-width: 1.5\"/>\n    </g>\n    <g id=\"text_13\">\n     <!-- val_acc -->\n     <g transform=\"translate(168.8125 94.076563) scale(0.1 -0.1)\">\n      <use xlink:href=\"#DejaVuSans-76\"/>\n      <use xlink:href=\"#DejaVuSans-61\" x=\"59.179688\"/>\n      <use xlink:href=\"#DejaVuSans-6c\" x=\"120.458984\"/>\n      <use xlink:href=\"#DejaVuSans-5f\" x=\"148.242188\"/>\n      <use xlink:href=\"#DejaVuSans-61\" x=\"198.242188\"/>\n      <use xlink:href=\"#DejaVuSans-63\" x=\"259.521484\"/>\n      <use xlink:href=\"#DejaVuSans-63\" x=\"314.501953\"/>\n     </g>\n    </g>\n   </g>\n  </g>\n </g>\n <defs>\n  <clipPath id=\"p79cba0d739\">\n   <rect x=\"30.103125\" y=\"7.2\" width=\"195.3\" height=\"138.6\"/>\n  </clipPath>\n </defs>\n</svg>\n"
          },
          "metadata": {}
        }
      ],
      "source": [
        "trainer = d2l.Trainer(max_epochs=10, num_gpus=1)\n",
        "data = d2l.FashionMNIST(batch_size=128)\n",
        "model = BNLeNetScratch(lr=0.1)\n",
        "model.apply_init([next(iter(data.get_dataloader(True)))[0]], d2l.init_cnn)\n",
        "trainer.fit(model, data)"
      ]
    },
    {
      "cell_type": "code",
      "execution_count": 31,
      "id": "4969fdc2",
      "metadata": {
        "colab": {
          "base_uri": "https://localhost:8080/"
        },
        "id": "4969fdc2",
        "outputId": "969223da-764a-4e77-e545-4634281b709a"
      },
      "outputs": [
        {
          "output_type": "execute_result",
          "data": {
            "text/plain": [
              "(tensor([1.7936, 1.9801, 1.5917, 1.7133, 1.8933, 1.9329], device='cuda:0',\n",
              "        grad_fn=<ViewBackward0>),\n",
              " tensor([-1.1680, -0.7623,  0.6988, -0.9211, -1.1936, -0.4938], device='cuda:0',\n",
              "        grad_fn=<ViewBackward0>))"
            ]
          },
          "metadata": {},
          "execution_count": 31
        }
      ],
      "source": [
        "model.net[1].gamma.reshape((-1,)), model.net[1].beta.reshape((-1,))"
      ]
    },
    {
      "cell_type": "markdown",
      "id": "QDiiL7KwZzrB",
      "metadata": {
        "id": "QDiiL7KwZzrB"
      },
      "source": [
        "## [**Concise Implementation**]"
      ]
    },
    {
      "cell_type": "code",
      "execution_count": 32,
      "id": "ef2ab147",
      "metadata": {
        "id": "ef2ab147"
      },
      "outputs": [],
      "source": [
        "class BNLeNet(d2l.Classifier):\n",
        "    def __init__(self, lr=0.1, num_classes=10):\n",
        "        super().__init__()\n",
        "        self.save_hyperparameters()\n",
        "        self.net = nn.Sequential(\n",
        "            nn.LazyConv2d(6, kernel_size=5), nn.LazyBatchNorm2d(),\n",
        "            nn.Sigmoid(), nn.AvgPool2d(kernel_size=2, stride=2),\n",
        "            nn.LazyConv2d(16, kernel_size=5), nn.LazyBatchNorm2d(),\n",
        "            nn.Sigmoid(), nn.AvgPool2d(kernel_size=2, stride=2),\n",
        "            nn.Flatten(), nn.LazyLinear(120), nn.LazyBatchNorm1d(),\n",
        "            nn.Sigmoid(), nn.LazyLinear(84), nn.LazyBatchNorm1d(),\n",
        "            nn.Sigmoid(), nn.LazyLinear(num_classes))"
      ]
    },
    {
      "cell_type": "code",
      "execution_count": 33,
      "id": "0d6aaf49",
      "metadata": {
        "colab": {
          "base_uri": "https://localhost:8080/",
          "height": 265
        },
        "id": "0d6aaf49",
        "outputId": "81867bae-6d06-4a23-c02b-23fa031de985"
      },
      "outputs": [
        {
          "output_type": "display_data",
          "data": {
            "text/plain": [
              "<Figure size 350x250 with 1 Axes>"
            ],
            "image/svg+xml": "<?xml version=\"1.0\" encoding=\"utf-8\" standalone=\"no\"?>\n<!DOCTYPE svg PUBLIC \"-//W3C//DTD SVG 1.1//EN\"\n  \"http://www.w3.org/Graphics/SVG/1.1/DTD/svg11.dtd\">\n<svg xmlns:xlink=\"http://www.w3.org/1999/xlink\" width=\"238.965625pt\" height=\"183.35625pt\" viewBox=\"0 0 238.965625 183.35625\" xmlns=\"http://www.w3.org/2000/svg\" version=\"1.1\">\n <metadata>\n  <rdf:RDF xmlns:dc=\"http://purl.org/dc/elements/1.1/\" xmlns:cc=\"http://creativecommons.org/ns#\" xmlns:rdf=\"http://www.w3.org/1999/02/22-rdf-syntax-ns#\">\n   <cc:Work>\n    <dc:type rdf:resource=\"http://purl.org/dc/dcmitype/StillImage\"/>\n    <dc:date>2024-10-05T14:37:27.684500</dc:date>\n    <dc:format>image/svg+xml</dc:format>\n    <dc:creator>\n     <cc:Agent>\n      <dc:title>Matplotlib v3.7.2, https://matplotlib.org/</dc:title>\n     </cc:Agent>\n    </dc:creator>\n   </cc:Work>\n  </rdf:RDF>\n </metadata>\n <defs>\n  <style type=\"text/css\">*{stroke-linejoin: round; stroke-linecap: butt}</style>\n </defs>\n <g id=\"figure_1\">\n  <g id=\"patch_1\">\n   <path d=\"M 0 183.35625 \nL 238.965625 183.35625 \nL 238.965625 0 \nL 0 0 \nz\n\" style=\"fill: #ffffff\"/>\n  </g>\n  <g id=\"axes_1\">\n   <g id=\"patch_2\">\n    <path d=\"M 30.103125 145.8 \nL 225.403125 145.8 \nL 225.403125 7.2 \nL 30.103125 7.2 \nz\n\" style=\"fill: #ffffff\"/>\n   </g>\n   <g id=\"matplotlib.axis_1\">\n    <g id=\"xtick_1\">\n     <g id=\"line2d_1\">\n      <defs>\n       <path id=\"mffb5999216\" d=\"M 0 0 \nL 0 3.5 \n\" style=\"stroke: #000000; stroke-width: 0.8\"/>\n      </defs>\n      <g>\n       <use xlink:href=\"#mffb5999216\" x=\"30.103125\" y=\"145.8\" style=\"stroke: #000000; stroke-width: 0.8\"/>\n      </g>\n     </g>\n     <g id=\"text_1\">\n      <!-- 0 -->\n      <g transform=\"translate(26.921875 160.398438) scale(0.1 -0.1)\">\n       <defs>\n        <path id=\"DejaVuSans-30\" d=\"M 2034 4250 \nQ 1547 4250 1301 3770 \nQ 1056 3291 1056 2328 \nQ 1056 1369 1301 889 \nQ 1547 409 2034 409 \nQ 2525 409 2770 889 \nQ 3016 1369 3016 2328 \nQ 3016 3291 2770 3770 \nQ 2525 4250 2034 4250 \nz\nM 2034 4750 \nQ 2819 4750 3233 4129 \nQ 3647 3509 3647 2328 \nQ 3647 1150 3233 529 \nQ 2819 -91 2034 -91 \nQ 1250 -91 836 529 \nQ 422 1150 422 2328 \nQ 422 3509 836 4129 \nQ 1250 4750 2034 4750 \nz\n\" transform=\"scale(0.015625)\"/>\n       </defs>\n       <use xlink:href=\"#DejaVuSans-30\"/>\n      </g>\n     </g>\n    </g>\n    <g id=\"xtick_2\">\n     <g id=\"line2d_2\">\n      <g>\n       <use xlink:href=\"#mffb5999216\" x=\"69.163125\" y=\"145.8\" style=\"stroke: #000000; stroke-width: 0.8\"/>\n      </g>\n     </g>\n     <g id=\"text_2\">\n      <!-- 2 -->\n      <g transform=\"translate(65.981875 160.398438) scale(0.1 -0.1)\">\n       <defs>\n        <path id=\"DejaVuSans-32\" d=\"M 1228 531 \nL 3431 531 \nL 3431 0 \nL 469 0 \nL 469 531 \nQ 828 903 1448 1529 \nQ 2069 2156 2228 2338 \nQ 2531 2678 2651 2914 \nQ 2772 3150 2772 3378 \nQ 2772 3750 2511 3984 \nQ 2250 4219 1831 4219 \nQ 1534 4219 1204 4116 \nQ 875 4013 500 3803 \nL 500 4441 \nQ 881 4594 1212 4672 \nQ 1544 4750 1819 4750 \nQ 2544 4750 2975 4387 \nQ 3406 4025 3406 3419 \nQ 3406 3131 3298 2873 \nQ 3191 2616 2906 2266 \nQ 2828 2175 2409 1742 \nQ 1991 1309 1228 531 \nz\n\" transform=\"scale(0.015625)\"/>\n       </defs>\n       <use xlink:href=\"#DejaVuSans-32\"/>\n      </g>\n     </g>\n    </g>\n    <g id=\"xtick_3\">\n     <g id=\"line2d_3\">\n      <g>\n       <use xlink:href=\"#mffb5999216\" x=\"108.223125\" y=\"145.8\" style=\"stroke: #000000; stroke-width: 0.8\"/>\n      </g>\n     </g>\n     <g id=\"text_3\">\n      <!-- 4 -->\n      <g transform=\"translate(105.041875 160.398438) scale(0.1 -0.1)\">\n       <defs>\n        <path id=\"DejaVuSans-34\" d=\"M 2419 4116 \nL 825 1625 \nL 2419 1625 \nL 2419 4116 \nz\nM 2253 4666 \nL 3047 4666 \nL 3047 1625 \nL 3713 1625 \nL 3713 1100 \nL 3047 1100 \nL 3047 0 \nL 2419 0 \nL 2419 1100 \nL 313 1100 \nL 313 1709 \nL 2253 4666 \nz\n\" transform=\"scale(0.015625)\"/>\n       </defs>\n       <use xlink:href=\"#DejaVuSans-34\"/>\n      </g>\n     </g>\n    </g>\n    <g id=\"xtick_4\">\n     <g id=\"line2d_4\">\n      <g>\n       <use xlink:href=\"#mffb5999216\" x=\"147.283125\" y=\"145.8\" style=\"stroke: #000000; stroke-width: 0.8\"/>\n      </g>\n     </g>\n     <g id=\"text_4\">\n      <!-- 6 -->\n      <g transform=\"translate(144.101875 160.398438) scale(0.1 -0.1)\">\n       <defs>\n        <path id=\"DejaVuSans-36\" d=\"M 2113 2584 \nQ 1688 2584 1439 2293 \nQ 1191 2003 1191 1497 \nQ 1191 994 1439 701 \nQ 1688 409 2113 409 \nQ 2538 409 2786 701 \nQ 3034 994 3034 1497 \nQ 3034 2003 2786 2293 \nQ 2538 2584 2113 2584 \nz\nM 3366 4563 \nL 3366 3988 \nQ 3128 4100 2886 4159 \nQ 2644 4219 2406 4219 \nQ 1781 4219 1451 3797 \nQ 1122 3375 1075 2522 \nQ 1259 2794 1537 2939 \nQ 1816 3084 2150 3084 \nQ 2853 3084 3261 2657 \nQ 3669 2231 3669 1497 \nQ 3669 778 3244 343 \nQ 2819 -91 2113 -91 \nQ 1303 -91 875 529 \nQ 447 1150 447 2328 \nQ 447 3434 972 4092 \nQ 1497 4750 2381 4750 \nQ 2619 4750 2861 4703 \nQ 3103 4656 3366 4563 \nz\n\" transform=\"scale(0.015625)\"/>\n       </defs>\n       <use xlink:href=\"#DejaVuSans-36\"/>\n      </g>\n     </g>\n    </g>\n    <g id=\"xtick_5\">\n     <g id=\"line2d_5\">\n      <g>\n       <use xlink:href=\"#mffb5999216\" x=\"186.343125\" y=\"145.8\" style=\"stroke: #000000; stroke-width: 0.8\"/>\n      </g>\n     </g>\n     <g id=\"text_5\">\n      <!-- 8 -->\n      <g transform=\"translate(183.161875 160.398438) scale(0.1 -0.1)\">\n       <defs>\n        <path id=\"DejaVuSans-38\" d=\"M 2034 2216 \nQ 1584 2216 1326 1975 \nQ 1069 1734 1069 1313 \nQ 1069 891 1326 650 \nQ 1584 409 2034 409 \nQ 2484 409 2743 651 \nQ 3003 894 3003 1313 \nQ 3003 1734 2745 1975 \nQ 2488 2216 2034 2216 \nz\nM 1403 2484 \nQ 997 2584 770 2862 \nQ 544 3141 544 3541 \nQ 544 4100 942 4425 \nQ 1341 4750 2034 4750 \nQ 2731 4750 3128 4425 \nQ 3525 4100 3525 3541 \nQ 3525 3141 3298 2862 \nQ 3072 2584 2669 2484 \nQ 3125 2378 3379 2068 \nQ 3634 1759 3634 1313 \nQ 3634 634 3220 271 \nQ 2806 -91 2034 -91 \nQ 1263 -91 848 271 \nQ 434 634 434 1313 \nQ 434 1759 690 2068 \nQ 947 2378 1403 2484 \nz\nM 1172 3481 \nQ 1172 3119 1398 2916 \nQ 1625 2713 2034 2713 \nQ 2441 2713 2670 2916 \nQ 2900 3119 2900 3481 \nQ 2900 3844 2670 4047 \nQ 2441 4250 2034 4250 \nQ 1625 4250 1398 4047 \nQ 1172 3844 1172 3481 \nz\n\" transform=\"scale(0.015625)\"/>\n       </defs>\n       <use xlink:href=\"#DejaVuSans-38\"/>\n      </g>\n     </g>\n    </g>\n    <g id=\"xtick_6\">\n     <g id=\"line2d_6\">\n      <g>\n       <use xlink:href=\"#mffb5999216\" x=\"225.403125\" y=\"145.8\" style=\"stroke: #000000; stroke-width: 0.8\"/>\n      </g>\n     </g>\n     <g id=\"text_6\">\n      <!-- 10 -->\n      <g transform=\"translate(219.040625 160.398438) scale(0.1 -0.1)\">\n       <defs>\n        <path id=\"DejaVuSans-31\" d=\"M 794 531 \nL 1825 531 \nL 1825 4091 \nL 703 3866 \nL 703 4441 \nL 1819 4666 \nL 2450 4666 \nL 2450 531 \nL 3481 531 \nL 3481 0 \nL 794 0 \nL 794 531 \nz\n\" transform=\"scale(0.015625)\"/>\n       </defs>\n       <use xlink:href=\"#DejaVuSans-31\"/>\n       <use xlink:href=\"#DejaVuSans-30\" x=\"63.623047\"/>\n      </g>\n     </g>\n    </g>\n    <g id=\"text_7\">\n     <!-- epoch -->\n     <g transform=\"translate(112.525 174.076563) scale(0.1 -0.1)\">\n      <defs>\n       <path id=\"DejaVuSans-65\" d=\"M 3597 1894 \nL 3597 1613 \nL 953 1613 \nQ 991 1019 1311 708 \nQ 1631 397 2203 397 \nQ 2534 397 2845 478 \nQ 3156 559 3463 722 \nL 3463 178 \nQ 3153 47 2828 -22 \nQ 2503 -91 2169 -91 \nQ 1331 -91 842 396 \nQ 353 884 353 1716 \nQ 353 2575 817 3079 \nQ 1281 3584 2069 3584 \nQ 2775 3584 3186 3129 \nQ 3597 2675 3597 1894 \nz\nM 3022 2063 \nQ 3016 2534 2758 2815 \nQ 2500 3097 2075 3097 \nQ 1594 3097 1305 2825 \nQ 1016 2553 972 2059 \nL 3022 2063 \nz\n\" transform=\"scale(0.015625)\"/>\n       <path id=\"DejaVuSans-70\" d=\"M 1159 525 \nL 1159 -1331 \nL 581 -1331 \nL 581 3500 \nL 1159 3500 \nL 1159 2969 \nQ 1341 3281 1617 3432 \nQ 1894 3584 2278 3584 \nQ 2916 3584 3314 3078 \nQ 3713 2572 3713 1747 \nQ 3713 922 3314 415 \nQ 2916 -91 2278 -91 \nQ 1894 -91 1617 61 \nQ 1341 213 1159 525 \nz\nM 3116 1747 \nQ 3116 2381 2855 2742 \nQ 2594 3103 2138 3103 \nQ 1681 3103 1420 2742 \nQ 1159 2381 1159 1747 \nQ 1159 1113 1420 752 \nQ 1681 391 2138 391 \nQ 2594 391 2855 752 \nQ 3116 1113 3116 1747 \nz\n\" transform=\"scale(0.015625)\"/>\n       <path id=\"DejaVuSans-6f\" d=\"M 1959 3097 \nQ 1497 3097 1228 2736 \nQ 959 2375 959 1747 \nQ 959 1119 1226 758 \nQ 1494 397 1959 397 \nQ 2419 397 2687 759 \nQ 2956 1122 2956 1747 \nQ 2956 2369 2687 2733 \nQ 2419 3097 1959 3097 \nz\nM 1959 3584 \nQ 2709 3584 3137 3096 \nQ 3566 2609 3566 1747 \nQ 3566 888 3137 398 \nQ 2709 -91 1959 -91 \nQ 1206 -91 779 398 \nQ 353 888 353 1747 \nQ 353 2609 779 3096 \nQ 1206 3584 1959 3584 \nz\n\" transform=\"scale(0.015625)\"/>\n       <path id=\"DejaVuSans-63\" d=\"M 3122 3366 \nL 3122 2828 \nQ 2878 2963 2633 3030 \nQ 2388 3097 2138 3097 \nQ 1578 3097 1268 2742 \nQ 959 2388 959 1747 \nQ 959 1106 1268 751 \nQ 1578 397 2138 397 \nQ 2388 397 2633 464 \nQ 2878 531 3122 666 \nL 3122 134 \nQ 2881 22 2623 -34 \nQ 2366 -91 2075 -91 \nQ 1284 -91 818 406 \nQ 353 903 353 1747 \nQ 353 2603 823 3093 \nQ 1294 3584 2113 3584 \nQ 2378 3584 2631 3529 \nQ 2884 3475 3122 3366 \nz\n\" transform=\"scale(0.015625)\"/>\n       <path id=\"DejaVuSans-68\" d=\"M 3513 2113 \nL 3513 0 \nL 2938 0 \nL 2938 2094 \nQ 2938 2591 2744 2837 \nQ 2550 3084 2163 3084 \nQ 1697 3084 1428 2787 \nQ 1159 2491 1159 1978 \nL 1159 0 \nL 581 0 \nL 581 4863 \nL 1159 4863 \nL 1159 2956 \nQ 1366 3272 1645 3428 \nQ 1925 3584 2291 3584 \nQ 2894 3584 3203 3211 \nQ 3513 2838 3513 2113 \nz\n\" transform=\"scale(0.015625)\"/>\n      </defs>\n      <use xlink:href=\"#DejaVuSans-65\"/>\n      <use xlink:href=\"#DejaVuSans-70\" x=\"61.523438\"/>\n      <use xlink:href=\"#DejaVuSans-6f\" x=\"125\"/>\n      <use xlink:href=\"#DejaVuSans-63\" x=\"186.181641\"/>\n      <use xlink:href=\"#DejaVuSans-68\" x=\"241.162109\"/>\n     </g>\n    </g>\n   </g>\n   <g id=\"matplotlib.axis_2\">\n    <g id=\"ytick_1\">\n     <g id=\"line2d_7\">\n      <defs>\n       <path id=\"mb6d98768c7\" d=\"M 0 0 \nL -3.5 0 \n\" style=\"stroke: #000000; stroke-width: 0.8\"/>\n      </defs>\n      <g>\n       <use xlink:href=\"#mb6d98768c7\" x=\"30.103125\" y=\"120.011408\" style=\"stroke: #000000; stroke-width: 0.8\"/>\n      </g>\n     </g>\n     <g id=\"text_8\">\n      <!-- 0.4 -->\n      <g transform=\"translate(7.2 123.810626) scale(0.1 -0.1)\">\n       <defs>\n        <path id=\"DejaVuSans-2e\" d=\"M 684 794 \nL 1344 794 \nL 1344 0 \nL 684 0 \nL 684 794 \nz\n\" transform=\"scale(0.015625)\"/>\n       </defs>\n       <use xlink:href=\"#DejaVuSans-30\"/>\n       <use xlink:href=\"#DejaVuSans-2e\" x=\"63.623047\"/>\n       <use xlink:href=\"#DejaVuSans-34\" x=\"95.410156\"/>\n      </g>\n     </g>\n    </g>\n    <g id=\"ytick_2\">\n     <g id=\"line2d_8\">\n      <g>\n       <use xlink:href=\"#mb6d98768c7\" x=\"30.103125\" y=\"79.116515\" style=\"stroke: #000000; stroke-width: 0.8\"/>\n      </g>\n     </g>\n     <g id=\"text_9\">\n      <!-- 0.6 -->\n      <g transform=\"translate(7.2 82.915733) scale(0.1 -0.1)\">\n       <use xlink:href=\"#DejaVuSans-30\"/>\n       <use xlink:href=\"#DejaVuSans-2e\" x=\"63.623047\"/>\n       <use xlink:href=\"#DejaVuSans-36\" x=\"95.410156\"/>\n      </g>\n     </g>\n    </g>\n    <g id=\"ytick_3\">\n     <g id=\"line2d_9\">\n      <g>\n       <use xlink:href=\"#mb6d98768c7\" x=\"30.103125\" y=\"38.221622\" style=\"stroke: #000000; stroke-width: 0.8\"/>\n      </g>\n     </g>\n     <g id=\"text_10\">\n      <!-- 0.8 -->\n      <g transform=\"translate(7.2 42.02084) scale(0.1 -0.1)\">\n       <use xlink:href=\"#DejaVuSans-30\"/>\n       <use xlink:href=\"#DejaVuSans-2e\" x=\"63.623047\"/>\n       <use xlink:href=\"#DejaVuSans-38\" x=\"95.410156\"/>\n      </g>\n     </g>\n    </g>\n   </g>\n   <g id=\"line2d_10\">\n    <path d=\"M 34.954394 13.5 \n\" clip-path=\"url(#pa15164f563)\" style=\"fill: none; stroke: #1f77b4; stroke-width: 1.5; stroke-linecap: square\"/>\n   </g>\n   <g id=\"line2d_11\">\n    <path d=\"M 34.954394 13.5 \nL 44.698573 80.357571 \n\" clip-path=\"url(#pa15164f563)\" style=\"fill: none; stroke: #1f77b4; stroke-width: 1.5; stroke-linecap: square\"/>\n   </g>\n   <g id=\"line2d_12\">\n    <path d=\"M 34.954394 13.5 \nL 44.698573 80.357571 \n\" clip-path=\"url(#pa15164f563)\" style=\"fill: none; stroke: #1f77b4; stroke-width: 1.5; stroke-linecap: square\"/>\n   </g>\n   <g id=\"line2d_13\">\n    <path d=\"M 49.633125 86.044967 \n\" clip-path=\"url(#pa15164f563)\" style=\"fill: none; stroke-dasharray: 5.55,2.4; stroke-dashoffset: 0; stroke: #ff7f0e; stroke-width: 1.5\"/>\n   </g>\n   <g id=\"line2d_14\"/>\n   <g id=\"line2d_15\">\n    <path d=\"M 34.954394 13.5 \nL 44.698573 80.357571 \n\" clip-path=\"url(#pa15164f563)\" style=\"fill: none; stroke: #1f77b4; stroke-width: 1.5; stroke-linecap: square\"/>\n   </g>\n   <g id=\"line2d_16\">\n    <path d=\"M 49.633125 86.044967 \n\" clip-path=\"url(#pa15164f563)\" style=\"fill: none; stroke-dasharray: 5.55,2.4; stroke-dashoffset: 0; stroke: #ff7f0e; stroke-width: 1.5\"/>\n   </g>\n   <g id=\"line2d_17\">\n    <path d=\"M 49.633125 36.171215 \n\" clip-path=\"url(#pa15164f563)\" style=\"fill: none; stroke-dasharray: 9.6,2.4,1.5,2.4; stroke-dashoffset: 0; stroke: #2ca02c; stroke-width: 1.5\"/>\n   </g>\n   <g id=\"line2d_18\">\n    <path d=\"M 34.954394 13.5 \nL 44.698573 80.357571 \nL 54.442752 97.680558 \n\" clip-path=\"url(#pa15164f563)\" style=\"fill: none; stroke: #1f77b4; stroke-width: 1.5; stroke-linecap: square\"/>\n   </g>\n   <g id=\"line2d_19\">\n    <path d=\"M 49.633125 86.044967 \n\" clip-path=\"url(#pa15164f563)\" style=\"fill: none; stroke-dasharray: 5.55,2.4; stroke-dashoffset: 0; stroke: #ff7f0e; stroke-width: 1.5\"/>\n   </g>\n   <g id=\"line2d_20\">\n    <path d=\"M 49.633125 36.171215 \n\" clip-path=\"url(#pa15164f563)\" style=\"fill: none; stroke-dasharray: 9.6,2.4,1.5,2.4; stroke-dashoffset: 0; stroke: #2ca02c; stroke-width: 1.5\"/>\n   </g>\n   <g id=\"line2d_21\">\n    <path d=\"M 34.954394 13.5 \nL 44.698573 80.357571 \nL 54.442752 97.680558 \nL 64.186931 102.911665 \n\" clip-path=\"url(#pa15164f563)\" style=\"fill: none; stroke: #1f77b4; stroke-width: 1.5; stroke-linecap: square\"/>\n   </g>\n   <g id=\"line2d_22\">\n    <path d=\"M 49.633125 86.044967 \n\" clip-path=\"url(#pa15164f563)\" style=\"fill: none; stroke-dasharray: 5.55,2.4; stroke-dashoffset: 0; stroke: #ff7f0e; stroke-width: 1.5\"/>\n   </g>\n   <g id=\"line2d_23\">\n    <path d=\"M 49.633125 36.171215 \n\" clip-path=\"url(#pa15164f563)\" style=\"fill: none; stroke-dasharray: 9.6,2.4,1.5,2.4; stroke-dashoffset: 0; stroke: #2ca02c; stroke-width: 1.5\"/>\n   </g>\n   <g id=\"line2d_24\">\n    <path d=\"M 34.954394 13.5 \nL 44.698573 80.357571 \nL 54.442752 97.680558 \nL 64.186931 102.911665 \n\" clip-path=\"url(#pa15164f563)\" style=\"fill: none; stroke: #1f77b4; stroke-width: 1.5; stroke-linecap: square\"/>\n   </g>\n   <g id=\"line2d_25\">\n    <path d=\"M 49.633125 86.044967 \nL 69.163125 92.504423 \n\" clip-path=\"url(#pa15164f563)\" style=\"fill: none; stroke-dasharray: 5.55,2.4; stroke-dashoffset: 0; stroke: #ff7f0e; stroke-width: 1.5\"/>\n   </g>\n   <g id=\"line2d_26\">\n    <path d=\"M 49.633125 36.171215 \n\" clip-path=\"url(#pa15164f563)\" style=\"fill: none; stroke-dasharray: 9.6,2.4,1.5,2.4; stroke-dashoffset: 0; stroke: #2ca02c; stroke-width: 1.5\"/>\n   </g>\n   <g id=\"line2d_27\">\n    <path d=\"M 34.954394 13.5 \nL 44.698573 80.357571 \nL 54.442752 97.680558 \nL 64.186931 102.911665 \n\" clip-path=\"url(#pa15164f563)\" style=\"fill: none; stroke: #1f77b4; stroke-width: 1.5; stroke-linecap: square\"/>\n   </g>\n   <g id=\"line2d_28\">\n    <path d=\"M 49.633125 86.044967 \nL 69.163125 92.504423 \n\" clip-path=\"url(#pa15164f563)\" style=\"fill: none; stroke-dasharray: 5.55,2.4; stroke-dashoffset: 0; stroke: #ff7f0e; stroke-width: 1.5\"/>\n   </g>\n   <g id=\"line2d_29\">\n    <path d=\"M 49.633125 36.171215 \nL 69.163125 34.81641 \n\" clip-path=\"url(#pa15164f563)\" style=\"fill: none; stroke-dasharray: 9.6,2.4,1.5,2.4; stroke-dashoffset: 0; stroke: #2ca02c; stroke-width: 1.5\"/>\n   </g>\n   <g id=\"line2d_30\">\n    <path d=\"M 34.954394 13.5 \nL 44.698573 80.357571 \nL 54.442752 97.680558 \nL 64.186931 102.911665 \nL 73.93111 110.804696 \n\" clip-path=\"url(#pa15164f563)\" style=\"fill: none; stroke: #1f77b4; stroke-width: 1.5; stroke-linecap: square\"/>\n   </g>\n   <g id=\"line2d_31\">\n    <path d=\"M 49.633125 86.044967 \nL 69.163125 92.504423 \n\" clip-path=\"url(#pa15164f563)\" style=\"fill: none; stroke-dasharray: 5.55,2.4; stroke-dashoffset: 0; stroke: #ff7f0e; stroke-width: 1.5\"/>\n   </g>\n   <g id=\"line2d_32\">\n    <path d=\"M 49.633125 36.171215 \nL 69.163125 34.81641 \n\" clip-path=\"url(#pa15164f563)\" style=\"fill: none; stroke-dasharray: 9.6,2.4,1.5,2.4; stroke-dashoffset: 0; stroke: #2ca02c; stroke-width: 1.5\"/>\n   </g>\n   <g id=\"line2d_33\">\n    <path d=\"M 34.954394 13.5 \nL 44.698573 80.357571 \nL 54.442752 97.680558 \nL 64.186931 102.911665 \nL 73.93111 110.804696 \nL 83.675289 114.203082 \n\" clip-path=\"url(#pa15164f563)\" style=\"fill: none; stroke: #1f77b4; stroke-width: 1.5; stroke-linecap: square\"/>\n   </g>\n   <g id=\"line2d_34\">\n    <path d=\"M 49.633125 86.044967 \nL 69.163125 92.504423 \n\" clip-path=\"url(#pa15164f563)\" style=\"fill: none; stroke-dasharray: 5.55,2.4; stroke-dashoffset: 0; stroke: #ff7f0e; stroke-width: 1.5\"/>\n   </g>\n   <g id=\"line2d_35\">\n    <path d=\"M 49.633125 36.171215 \nL 69.163125 34.81641 \n\" clip-path=\"url(#pa15164f563)\" style=\"fill: none; stroke-dasharray: 9.6,2.4,1.5,2.4; stroke-dashoffset: 0; stroke: #2ca02c; stroke-width: 1.5\"/>\n   </g>\n   <g id=\"line2d_36\">\n    <path d=\"M 34.954394 13.5 \nL 44.698573 80.357571 \nL 54.442752 97.680558 \nL 64.186931 102.911665 \nL 73.93111 110.804696 \nL 83.675289 114.203082 \n\" clip-path=\"url(#pa15164f563)\" style=\"fill: none; stroke: #1f77b4; stroke-width: 1.5; stroke-linecap: square\"/>\n   </g>\n   <g id=\"line2d_37\">\n    <path d=\"M 49.633125 86.044967 \nL 69.163125 92.504423 \nL 88.693125 108.673552 \n\" clip-path=\"url(#pa15164f563)\" style=\"fill: none; stroke-dasharray: 5.55,2.4; stroke-dashoffset: 0; stroke: #ff7f0e; stroke-width: 1.5\"/>\n   </g>\n   <g id=\"line2d_38\">\n    <path d=\"M 49.633125 36.171215 \nL 69.163125 34.81641 \n\" clip-path=\"url(#pa15164f563)\" style=\"fill: none; stroke-dasharray: 9.6,2.4,1.5,2.4; stroke-dashoffset: 0; stroke: #2ca02c; stroke-width: 1.5\"/>\n   </g>\n   <g id=\"line2d_39\">\n    <path d=\"M 34.954394 13.5 \nL 44.698573 80.357571 \nL 54.442752 97.680558 \nL 64.186931 102.911665 \nL 73.93111 110.804696 \nL 83.675289 114.203082 \n\" clip-path=\"url(#pa15164f563)\" style=\"fill: none; stroke: #1f77b4; stroke-width: 1.5; stroke-linecap: square\"/>\n   </g>\n   <g id=\"line2d_40\">\n    <path d=\"M 49.633125 86.044967 \nL 69.163125 92.504423 \nL 88.693125 108.673552 \n\" clip-path=\"url(#pa15164f563)\" style=\"fill: none; stroke-dasharray: 5.55,2.4; stroke-dashoffset: 0; stroke: #ff7f0e; stroke-width: 1.5\"/>\n   </g>\n   <g id=\"line2d_41\">\n    <path d=\"M 49.633125 36.171215 \nL 69.163125 34.81641 \nL 88.693125 29.862272 \n\" clip-path=\"url(#pa15164f563)\" style=\"fill: none; stroke-dasharray: 9.6,2.4,1.5,2.4; stroke-dashoffset: 0; stroke: #2ca02c; stroke-width: 1.5\"/>\n   </g>\n   <g id=\"line2d_42\">\n    <path d=\"M 34.954394 13.5 \nL 44.698573 80.357571 \nL 54.442752 97.680558 \nL 64.186931 102.911665 \nL 73.93111 110.804696 \nL 83.675289 114.203082 \nL 93.419468 119.025558 \n\" clip-path=\"url(#pa15164f563)\" style=\"fill: none; stroke: #1f77b4; stroke-width: 1.5; stroke-linecap: square\"/>\n   </g>\n   <g id=\"line2d_43\">\n    <path d=\"M 49.633125 86.044967 \nL 69.163125 92.504423 \nL 88.693125 108.673552 \n\" clip-path=\"url(#pa15164f563)\" style=\"fill: none; stroke-dasharray: 5.55,2.4; stroke-dashoffset: 0; stroke: #ff7f0e; stroke-width: 1.5\"/>\n   </g>\n   <g id=\"line2d_44\">\n    <path d=\"M 49.633125 36.171215 \nL 69.163125 34.81641 \nL 88.693125 29.862272 \n\" clip-path=\"url(#pa15164f563)\" style=\"fill: none; stroke-dasharray: 9.6,2.4,1.5,2.4; stroke-dashoffset: 0; stroke: #2ca02c; stroke-width: 1.5\"/>\n   </g>\n   <g id=\"line2d_45\">\n    <path d=\"M 34.954394 13.5 \nL 44.698573 80.357571 \nL 54.442752 97.680558 \nL 64.186931 102.911665 \nL 73.93111 110.804696 \nL 83.675289 114.203082 \nL 93.419468 119.025558 \nL 103.163647 120.216532 \n\" clip-path=\"url(#pa15164f563)\" style=\"fill: none; stroke: #1f77b4; stroke-width: 1.5; stroke-linecap: square\"/>\n   </g>\n   <g id=\"line2d_46\">\n    <path d=\"M 49.633125 86.044967 \nL 69.163125 92.504423 \nL 88.693125 108.673552 \n\" clip-path=\"url(#pa15164f563)\" style=\"fill: none; stroke-dasharray: 5.55,2.4; stroke-dashoffset: 0; stroke: #ff7f0e; stroke-width: 1.5\"/>\n   </g>\n   <g id=\"line2d_47\">\n    <path d=\"M 49.633125 36.171215 \nL 69.163125 34.81641 \nL 88.693125 29.862272 \n\" clip-path=\"url(#pa15164f563)\" style=\"fill: none; stroke-dasharray: 9.6,2.4,1.5,2.4; stroke-dashoffset: 0; stroke: #2ca02c; stroke-width: 1.5\"/>\n   </g>\n   <g id=\"line2d_48\">\n    <path d=\"M 34.954394 13.5 \nL 44.698573 80.357571 \nL 54.442752 97.680558 \nL 64.186931 102.911665 \nL 73.93111 110.804696 \nL 83.675289 114.203082 \nL 93.419468 119.025558 \nL 103.163647 120.216532 \n\" clip-path=\"url(#pa15164f563)\" style=\"fill: none; stroke: #1f77b4; stroke-width: 1.5; stroke-linecap: square\"/>\n   </g>\n   <g id=\"line2d_49\">\n    <path d=\"M 49.633125 86.044967 \nL 69.163125 92.504423 \nL 88.693125 108.673552 \nL 108.223125 109.040566 \n\" clip-path=\"url(#pa15164f563)\" style=\"fill: none; stroke-dasharray: 5.55,2.4; stroke-dashoffset: 0; stroke: #ff7f0e; stroke-width: 1.5\"/>\n   </g>\n   <g id=\"line2d_50\">\n    <path d=\"M 49.633125 36.171215 \nL 69.163125 34.81641 \nL 88.693125 29.862272 \n\" clip-path=\"url(#pa15164f563)\" style=\"fill: none; stroke-dasharray: 9.6,2.4,1.5,2.4; stroke-dashoffset: 0; stroke: #2ca02c; stroke-width: 1.5\"/>\n   </g>\n   <g id=\"line2d_51\">\n    <path d=\"M 34.954394 13.5 \nL 44.698573 80.357571 \nL 54.442752 97.680558 \nL 64.186931 102.911665 \nL 73.93111 110.804696 \nL 83.675289 114.203082 \nL 93.419468 119.025558 \nL 103.163647 120.216532 \n\" clip-path=\"url(#pa15164f563)\" style=\"fill: none; stroke: #1f77b4; stroke-width: 1.5; stroke-linecap: square\"/>\n   </g>\n   <g id=\"line2d_52\">\n    <path d=\"M 49.633125 86.044967 \nL 69.163125 92.504423 \nL 88.693125 108.673552 \nL 108.223125 109.040566 \n\" clip-path=\"url(#pa15164f563)\" style=\"fill: none; stroke-dasharray: 5.55,2.4; stroke-dashoffset: 0; stroke: #ff7f0e; stroke-width: 1.5\"/>\n   </g>\n   <g id=\"line2d_53\">\n    <path d=\"M 49.633125 36.171215 \nL 69.163125 34.81641 \nL 88.693125 29.862272 \nL 108.223125 29.82183 \n\" clip-path=\"url(#pa15164f563)\" style=\"fill: none; stroke-dasharray: 9.6,2.4,1.5,2.4; stroke-dashoffset: 0; stroke: #2ca02c; stroke-width: 1.5\"/>\n   </g>\n   <g id=\"line2d_54\">\n    <path d=\"M 34.954394 13.5 \nL 44.698573 80.357571 \nL 54.442752 97.680558 \nL 64.186931 102.911665 \nL 73.93111 110.804696 \nL 83.675289 114.203082 \nL 93.419468 119.025558 \nL 103.163647 120.216532 \nL 112.907826 121.908567 \n\" clip-path=\"url(#pa15164f563)\" style=\"fill: none; stroke: #1f77b4; stroke-width: 1.5; stroke-linecap: square\"/>\n   </g>\n   <g id=\"line2d_55\">\n    <path d=\"M 49.633125 86.044967 \nL 69.163125 92.504423 \nL 88.693125 108.673552 \nL 108.223125 109.040566 \n\" clip-path=\"url(#pa15164f563)\" style=\"fill: none; stroke-dasharray: 5.55,2.4; stroke-dashoffset: 0; stroke: #ff7f0e; stroke-width: 1.5\"/>\n   </g>\n   <g id=\"line2d_56\">\n    <path d=\"M 49.633125 36.171215 \nL 69.163125 34.81641 \nL 88.693125 29.862272 \nL 108.223125 29.82183 \n\" clip-path=\"url(#pa15164f563)\" style=\"fill: none; stroke-dasharray: 9.6,2.4,1.5,2.4; stroke-dashoffset: 0; stroke: #2ca02c; stroke-width: 1.5\"/>\n   </g>\n   <g id=\"line2d_57\">\n    <path d=\"M 34.954394 13.5 \nL 44.698573 80.357571 \nL 54.442752 97.680558 \nL 64.186931 102.911665 \nL 73.93111 110.804696 \nL 83.675289 114.203082 \nL 93.419468 119.025558 \nL 103.163647 120.216532 \nL 112.907826 121.908567 \nL 122.652006 126.482576 \n\" clip-path=\"url(#pa15164f563)\" style=\"fill: none; stroke: #1f77b4; stroke-width: 1.5; stroke-linecap: square\"/>\n   </g>\n   <g id=\"line2d_58\">\n    <path d=\"M 49.633125 86.044967 \nL 69.163125 92.504423 \nL 88.693125 108.673552 \nL 108.223125 109.040566 \n\" clip-path=\"url(#pa15164f563)\" style=\"fill: none; stroke-dasharray: 5.55,2.4; stroke-dashoffset: 0; stroke: #ff7f0e; stroke-width: 1.5\"/>\n   </g>\n   <g id=\"line2d_59\">\n    <path d=\"M 49.633125 36.171215 \nL 69.163125 34.81641 \nL 88.693125 29.862272 \nL 108.223125 29.82183 \n\" clip-path=\"url(#pa15164f563)\" style=\"fill: none; stroke-dasharray: 9.6,2.4,1.5,2.4; stroke-dashoffset: 0; stroke: #2ca02c; stroke-width: 1.5\"/>\n   </g>\n   <g id=\"line2d_60\">\n    <path d=\"M 34.954394 13.5 \nL 44.698573 80.357571 \nL 54.442752 97.680558 \nL 64.186931 102.911665 \nL 73.93111 110.804696 \nL 83.675289 114.203082 \nL 93.419468 119.025558 \nL 103.163647 120.216532 \nL 112.907826 121.908567 \nL 122.652006 126.482576 \n\" clip-path=\"url(#pa15164f563)\" style=\"fill: none; stroke: #1f77b4; stroke-width: 1.5; stroke-linecap: square\"/>\n   </g>\n   <g id=\"line2d_61\">\n    <path d=\"M 49.633125 86.044967 \nL 69.163125 92.504423 \nL 88.693125 108.673552 \nL 108.223125 109.040566 \nL 127.753125 118.142574 \n\" clip-path=\"url(#pa15164f563)\" style=\"fill: none; stroke-dasharray: 5.55,2.4; stroke-dashoffset: 0; stroke: #ff7f0e; stroke-width: 1.5\"/>\n   </g>\n   <g id=\"line2d_62\">\n    <path d=\"M 49.633125 36.171215 \nL 69.163125 34.81641 \nL 88.693125 29.862272 \nL 108.223125 29.82183 \n\" clip-path=\"url(#pa15164f563)\" style=\"fill: none; stroke-dasharray: 9.6,2.4,1.5,2.4; stroke-dashoffset: 0; stroke: #2ca02c; stroke-width: 1.5\"/>\n   </g>\n   <g id=\"line2d_63\">\n    <path d=\"M 34.954394 13.5 \nL 44.698573 80.357571 \nL 54.442752 97.680558 \nL 64.186931 102.911665 \nL 73.93111 110.804696 \nL 83.675289 114.203082 \nL 93.419468 119.025558 \nL 103.163647 120.216532 \nL 112.907826 121.908567 \nL 122.652006 126.482576 \n\" clip-path=\"url(#pa15164f563)\" style=\"fill: none; stroke: #1f77b4; stroke-width: 1.5; stroke-linecap: square\"/>\n   </g>\n   <g id=\"line2d_64\">\n    <path d=\"M 49.633125 86.044967 \nL 69.163125 92.504423 \nL 88.693125 108.673552 \nL 108.223125 109.040566 \nL 127.753125 118.142574 \n\" clip-path=\"url(#pa15164f563)\" style=\"fill: none; stroke-dasharray: 5.55,2.4; stroke-dashoffset: 0; stroke: #ff7f0e; stroke-width: 1.5\"/>\n   </g>\n   <g id=\"line2d_65\">\n    <path d=\"M 49.633125 36.171215 \nL 69.163125 34.81641 \nL 88.693125 29.862272 \nL 108.223125 29.82183 \nL 127.753125 26.748242 \n\" clip-path=\"url(#pa15164f563)\" style=\"fill: none; stroke-dasharray: 9.6,2.4,1.5,2.4; stroke-dashoffset: 0; stroke: #2ca02c; stroke-width: 1.5\"/>\n   </g>\n   <g id=\"line2d_66\">\n    <path d=\"M 34.954394 13.5 \nL 44.698573 80.357571 \nL 54.442752 97.680558 \nL 64.186931 102.911665 \nL 73.93111 110.804696 \nL 83.675289 114.203082 \nL 93.419468 119.025558 \nL 103.163647 120.216532 \nL 112.907826 121.908567 \nL 122.652006 126.482576 \nL 132.396185 127.667829 \n\" clip-path=\"url(#pa15164f563)\" style=\"fill: none; stroke: #1f77b4; stroke-width: 1.5; stroke-linecap: square\"/>\n   </g>\n   <g id=\"line2d_67\">\n    <path d=\"M 49.633125 86.044967 \nL 69.163125 92.504423 \nL 88.693125 108.673552 \nL 108.223125 109.040566 \nL 127.753125 118.142574 \n\" clip-path=\"url(#pa15164f563)\" style=\"fill: none; stroke-dasharray: 5.55,2.4; stroke-dashoffset: 0; stroke: #ff7f0e; stroke-width: 1.5\"/>\n   </g>\n   <g id=\"line2d_68\">\n    <path d=\"M 49.633125 36.171215 \nL 69.163125 34.81641 \nL 88.693125 29.862272 \nL 108.223125 29.82183 \nL 127.753125 26.748242 \n\" clip-path=\"url(#pa15164f563)\" style=\"fill: none; stroke-dasharray: 9.6,2.4,1.5,2.4; stroke-dashoffset: 0; stroke: #2ca02c; stroke-width: 1.5\"/>\n   </g>\n   <g id=\"line2d_69\">\n    <path d=\"M 34.954394 13.5 \nL 44.698573 80.357571 \nL 54.442752 97.680558 \nL 64.186931 102.911665 \nL 73.93111 110.804696 \nL 83.675289 114.203082 \nL 93.419468 119.025558 \nL 103.163647 120.216532 \nL 112.907826 121.908567 \nL 122.652006 126.482576 \nL 132.396185 127.667829 \nL 142.140364 129.165948 \n\" clip-path=\"url(#pa15164f563)\" style=\"fill: none; stroke: #1f77b4; stroke-width: 1.5; stroke-linecap: square\"/>\n   </g>\n   <g id=\"line2d_70\">\n    <path d=\"M 49.633125 86.044967 \nL 69.163125 92.504423 \nL 88.693125 108.673552 \nL 108.223125 109.040566 \nL 127.753125 118.142574 \n\" clip-path=\"url(#pa15164f563)\" style=\"fill: none; stroke-dasharray: 5.55,2.4; stroke-dashoffset: 0; stroke: #ff7f0e; stroke-width: 1.5\"/>\n   </g>\n   <g id=\"line2d_71\">\n    <path d=\"M 49.633125 36.171215 \nL 69.163125 34.81641 \nL 88.693125 29.862272 \nL 108.223125 29.82183 \nL 127.753125 26.748242 \n\" clip-path=\"url(#pa15164f563)\" style=\"fill: none; stroke-dasharray: 9.6,2.4,1.5,2.4; stroke-dashoffset: 0; stroke: #2ca02c; stroke-width: 1.5\"/>\n   </g>\n   <g id=\"line2d_72\">\n    <path d=\"M 34.954394 13.5 \nL 44.698573 80.357571 \nL 54.442752 97.680558 \nL 64.186931 102.911665 \nL 73.93111 110.804696 \nL 83.675289 114.203082 \nL 93.419468 119.025558 \nL 103.163647 120.216532 \nL 112.907826 121.908567 \nL 122.652006 126.482576 \nL 132.396185 127.667829 \nL 142.140364 129.165948 \n\" clip-path=\"url(#pa15164f563)\" style=\"fill: none; stroke: #1f77b4; stroke-width: 1.5; stroke-linecap: square\"/>\n   </g>\n   <g id=\"line2d_73\">\n    <path d=\"M 49.633125 86.044967 \nL 69.163125 92.504423 \nL 88.693125 108.673552 \nL 108.223125 109.040566 \nL 127.753125 118.142574 \nL 147.283125 125.862723 \n\" clip-path=\"url(#pa15164f563)\" style=\"fill: none; stroke-dasharray: 5.55,2.4; stroke-dashoffset: 0; stroke: #ff7f0e; stroke-width: 1.5\"/>\n   </g>\n   <g id=\"line2d_74\">\n    <path d=\"M 49.633125 36.171215 \nL 69.163125 34.81641 \nL 88.693125 29.862272 \nL 108.223125 29.82183 \nL 127.753125 26.748242 \n\" clip-path=\"url(#pa15164f563)\" style=\"fill: none; stroke-dasharray: 9.6,2.4,1.5,2.4; stroke-dashoffset: 0; stroke: #2ca02c; stroke-width: 1.5\"/>\n   </g>\n   <g id=\"line2d_75\">\n    <path d=\"M 34.954394 13.5 \nL 44.698573 80.357571 \nL 54.442752 97.680558 \nL 64.186931 102.911665 \nL 73.93111 110.804696 \nL 83.675289 114.203082 \nL 93.419468 119.025558 \nL 103.163647 120.216532 \nL 112.907826 121.908567 \nL 122.652006 126.482576 \nL 132.396185 127.667829 \nL 142.140364 129.165948 \n\" clip-path=\"url(#pa15164f563)\" style=\"fill: none; stroke: #1f77b4; stroke-width: 1.5; stroke-linecap: square\"/>\n   </g>\n   <g id=\"line2d_76\">\n    <path d=\"M 49.633125 86.044967 \nL 69.163125 92.504423 \nL 88.693125 108.673552 \nL 108.223125 109.040566 \nL 127.753125 118.142574 \nL 147.283125 125.862723 \n\" clip-path=\"url(#pa15164f563)\" style=\"fill: none; stroke-dasharray: 5.55,2.4; stroke-dashoffset: 0; stroke: #ff7f0e; stroke-width: 1.5\"/>\n   </g>\n   <g id=\"line2d_77\">\n    <path d=\"M 49.633125 36.171215 \nL 69.163125 34.81641 \nL 88.693125 29.862272 \nL 108.223125 29.82183 \nL 127.753125 26.748242 \nL 147.283125 24.867692 \n\" clip-path=\"url(#pa15164f563)\" style=\"fill: none; stroke-dasharray: 9.6,2.4,1.5,2.4; stroke-dashoffset: 0; stroke: #2ca02c; stroke-width: 1.5\"/>\n   </g>\n   <g id=\"line2d_78\">\n    <path d=\"M 34.954394 13.5 \nL 44.698573 80.357571 \nL 54.442752 97.680558 \nL 64.186931 102.911665 \nL 73.93111 110.804696 \nL 83.675289 114.203082 \nL 93.419468 119.025558 \nL 103.163647 120.216532 \nL 112.907826 121.908567 \nL 122.652006 126.482576 \nL 132.396185 127.667829 \nL 142.140364 129.165948 \nL 151.884543 131.885939 \n\" clip-path=\"url(#pa15164f563)\" style=\"fill: none; stroke: #1f77b4; stroke-width: 1.5; stroke-linecap: square\"/>\n   </g>\n   <g id=\"line2d_79\">\n    <path d=\"M 49.633125 86.044967 \nL 69.163125 92.504423 \nL 88.693125 108.673552 \nL 108.223125 109.040566 \nL 127.753125 118.142574 \nL 147.283125 125.862723 \n\" clip-path=\"url(#pa15164f563)\" style=\"fill: none; stroke-dasharray: 5.55,2.4; stroke-dashoffset: 0; stroke: #ff7f0e; stroke-width: 1.5\"/>\n   </g>\n   <g id=\"line2d_80\">\n    <path d=\"M 49.633125 36.171215 \nL 69.163125 34.81641 \nL 88.693125 29.862272 \nL 108.223125 29.82183 \nL 127.753125 26.748242 \nL 147.283125 24.867692 \n\" clip-path=\"url(#pa15164f563)\" style=\"fill: none; stroke-dasharray: 9.6,2.4,1.5,2.4; stroke-dashoffset: 0; stroke: #2ca02c; stroke-width: 1.5\"/>\n   </g>\n   <g id=\"line2d_81\">\n    <path d=\"M 34.954394 13.5 \nL 44.698573 80.357571 \nL 54.442752 97.680558 \nL 64.186931 102.911665 \nL 73.93111 110.804696 \nL 83.675289 114.203082 \nL 93.419468 119.025558 \nL 103.163647 120.216532 \nL 112.907826 121.908567 \nL 122.652006 126.482576 \nL 132.396185 127.667829 \nL 142.140364 129.165948 \nL 151.884543 131.885939 \nL 161.628722 132.316758 \n\" clip-path=\"url(#pa15164f563)\" style=\"fill: none; stroke: #1f77b4; stroke-width: 1.5; stroke-linecap: square\"/>\n   </g>\n   <g id=\"line2d_82\">\n    <path d=\"M 49.633125 86.044967 \nL 69.163125 92.504423 \nL 88.693125 108.673552 \nL 108.223125 109.040566 \nL 127.753125 118.142574 \nL 147.283125 125.862723 \n\" clip-path=\"url(#pa15164f563)\" style=\"fill: none; stroke-dasharray: 5.55,2.4; stroke-dashoffset: 0; stroke: #ff7f0e; stroke-width: 1.5\"/>\n   </g>\n   <g id=\"line2d_83\">\n    <path d=\"M 49.633125 36.171215 \nL 69.163125 34.81641 \nL 88.693125 29.862272 \nL 108.223125 29.82183 \nL 127.753125 26.748242 \nL 147.283125 24.867692 \n\" clip-path=\"url(#pa15164f563)\" style=\"fill: none; stroke-dasharray: 9.6,2.4,1.5,2.4; stroke-dashoffset: 0; stroke: #2ca02c; stroke-width: 1.5\"/>\n   </g>\n   <g id=\"line2d_84\">\n    <path d=\"M 34.954394 13.5 \nL 44.698573 80.357571 \nL 54.442752 97.680558 \nL 64.186931 102.911665 \nL 73.93111 110.804696 \nL 83.675289 114.203082 \nL 93.419468 119.025558 \nL 103.163647 120.216532 \nL 112.907826 121.908567 \nL 122.652006 126.482576 \nL 132.396185 127.667829 \nL 142.140364 129.165948 \nL 151.884543 131.885939 \nL 161.628722 132.316758 \n\" clip-path=\"url(#pa15164f563)\" style=\"fill: none; stroke: #1f77b4; stroke-width: 1.5; stroke-linecap: square\"/>\n   </g>\n   <g id=\"line2d_85\">\n    <path d=\"M 49.633125 86.044967 \nL 69.163125 92.504423 \nL 88.693125 108.673552 \nL 108.223125 109.040566 \nL 127.753125 118.142574 \nL 147.283125 125.862723 \nL 166.813125 108.195596 \n\" clip-path=\"url(#pa15164f563)\" style=\"fill: none; stroke-dasharray: 5.55,2.4; stroke-dashoffset: 0; stroke: #ff7f0e; stroke-width: 1.5\"/>\n   </g>\n   <g id=\"line2d_86\">\n    <path d=\"M 49.633125 36.171215 \nL 69.163125 34.81641 \nL 88.693125 29.862272 \nL 108.223125 29.82183 \nL 127.753125 26.748242 \nL 147.283125 24.867692 \n\" clip-path=\"url(#pa15164f563)\" style=\"fill: none; stroke-dasharray: 9.6,2.4,1.5,2.4; stroke-dashoffset: 0; stroke: #2ca02c; stroke-width: 1.5\"/>\n   </g>\n   <g id=\"line2d_87\">\n    <path d=\"M 34.954394 13.5 \nL 44.698573 80.357571 \nL 54.442752 97.680558 \nL 64.186931 102.911665 \nL 73.93111 110.804696 \nL 83.675289 114.203082 \nL 93.419468 119.025558 \nL 103.163647 120.216532 \nL 112.907826 121.908567 \nL 122.652006 126.482576 \nL 132.396185 127.667829 \nL 142.140364 129.165948 \nL 151.884543 131.885939 \nL 161.628722 132.316758 \n\" clip-path=\"url(#pa15164f563)\" style=\"fill: none; stroke: #1f77b4; stroke-width: 1.5; stroke-linecap: square\"/>\n   </g>\n   <g id=\"line2d_88\">\n    <path d=\"M 49.633125 86.044967 \nL 69.163125 92.504423 \nL 88.693125 108.673552 \nL 108.223125 109.040566 \nL 127.753125 118.142574 \nL 147.283125 125.862723 \nL 166.813125 108.195596 \n\" clip-path=\"url(#pa15164f563)\" style=\"fill: none; stroke-dasharray: 5.55,2.4; stroke-dashoffset: 0; stroke: #ff7f0e; stroke-width: 1.5\"/>\n   </g>\n   <g id=\"line2d_89\">\n    <path d=\"M 49.633125 36.171215 \nL 69.163125 34.81641 \nL 88.693125 29.862272 \nL 108.223125 29.82183 \nL 127.753125 26.748242 \nL 147.283125 24.867692 \nL 166.813125 32.1068 \n\" clip-path=\"url(#pa15164f563)\" style=\"fill: none; stroke-dasharray: 9.6,2.4,1.5,2.4; stroke-dashoffset: 0; stroke: #2ca02c; stroke-width: 1.5\"/>\n   </g>\n   <g id=\"line2d_90\">\n    <path d=\"M 34.954394 13.5 \nL 44.698573 80.357571 \nL 54.442752 97.680558 \nL 64.186931 102.911665 \nL 73.93111 110.804696 \nL 83.675289 114.203082 \nL 93.419468 119.025558 \nL 103.163647 120.216532 \nL 112.907826 121.908567 \nL 122.652006 126.482576 \nL 132.396185 127.667829 \nL 142.140364 129.165948 \nL 151.884543 131.885939 \nL 161.628722 132.316758 \nL 171.372901 133.328432 \n\" clip-path=\"url(#pa15164f563)\" style=\"fill: none; stroke: #1f77b4; stroke-width: 1.5; stroke-linecap: square\"/>\n   </g>\n   <g id=\"line2d_91\">\n    <path d=\"M 49.633125 86.044967 \nL 69.163125 92.504423 \nL 88.693125 108.673552 \nL 108.223125 109.040566 \nL 127.753125 118.142574 \nL 147.283125 125.862723 \nL 166.813125 108.195596 \n\" clip-path=\"url(#pa15164f563)\" style=\"fill: none; stroke-dasharray: 5.55,2.4; stroke-dashoffset: 0; stroke: #ff7f0e; stroke-width: 1.5\"/>\n   </g>\n   <g id=\"line2d_92\">\n    <path d=\"M 49.633125 36.171215 \nL 69.163125 34.81641 \nL 88.693125 29.862272 \nL 108.223125 29.82183 \nL 127.753125 26.748242 \nL 147.283125 24.867692 \nL 166.813125 32.1068 \n\" clip-path=\"url(#pa15164f563)\" style=\"fill: none; stroke-dasharray: 9.6,2.4,1.5,2.4; stroke-dashoffset: 0; stroke: #2ca02c; stroke-width: 1.5\"/>\n   </g>\n   <g id=\"line2d_93\">\n    <path d=\"M 34.954394 13.5 \nL 44.698573 80.357571 \nL 54.442752 97.680558 \nL 64.186931 102.911665 \nL 73.93111 110.804696 \nL 83.675289 114.203082 \nL 93.419468 119.025558 \nL 103.163647 120.216532 \nL 112.907826 121.908567 \nL 122.652006 126.482576 \nL 132.396185 127.667829 \nL 142.140364 129.165948 \nL 151.884543 131.885939 \nL 161.628722 132.316758 \nL 171.372901 133.328432 \nL 181.11708 134.749983 \n\" clip-path=\"url(#pa15164f563)\" style=\"fill: none; stroke: #1f77b4; stroke-width: 1.5; stroke-linecap: square\"/>\n   </g>\n   <g id=\"line2d_94\">\n    <path d=\"M 49.633125 86.044967 \nL 69.163125 92.504423 \nL 88.693125 108.673552 \nL 108.223125 109.040566 \nL 127.753125 118.142574 \nL 147.283125 125.862723 \nL 166.813125 108.195596 \n\" clip-path=\"url(#pa15164f563)\" style=\"fill: none; stroke-dasharray: 5.55,2.4; stroke-dashoffset: 0; stroke: #ff7f0e; stroke-width: 1.5\"/>\n   </g>\n   <g id=\"line2d_95\">\n    <path d=\"M 49.633125 36.171215 \nL 69.163125 34.81641 \nL 88.693125 29.862272 \nL 108.223125 29.82183 \nL 127.753125 26.748242 \nL 147.283125 24.867692 \nL 166.813125 32.1068 \n\" clip-path=\"url(#pa15164f563)\" style=\"fill: none; stroke-dasharray: 9.6,2.4,1.5,2.4; stroke-dashoffset: 0; stroke: #2ca02c; stroke-width: 1.5\"/>\n   </g>\n   <g id=\"line2d_96\">\n    <path d=\"M 34.954394 13.5 \nL 44.698573 80.357571 \nL 54.442752 97.680558 \nL 64.186931 102.911665 \nL 73.93111 110.804696 \nL 83.675289 114.203082 \nL 93.419468 119.025558 \nL 103.163647 120.216532 \nL 112.907826 121.908567 \nL 122.652006 126.482576 \nL 132.396185 127.667829 \nL 142.140364 129.165948 \nL 151.884543 131.885939 \nL 161.628722 132.316758 \nL 171.372901 133.328432 \nL 181.11708 134.749983 \n\" clip-path=\"url(#pa15164f563)\" style=\"fill: none; stroke: #1f77b4; stroke-width: 1.5; stroke-linecap: square\"/>\n   </g>\n   <g id=\"line2d_97\">\n    <path d=\"M 49.633125 86.044967 \nL 69.163125 92.504423 \nL 88.693125 108.673552 \nL 108.223125 109.040566 \nL 127.753125 118.142574 \nL 147.283125 125.862723 \nL 166.813125 108.195596 \nL 186.343125 128.27655 \n\" clip-path=\"url(#pa15164f563)\" style=\"fill: none; stroke-dasharray: 5.55,2.4; stroke-dashoffset: 0; stroke: #ff7f0e; stroke-width: 1.5\"/>\n   </g>\n   <g id=\"line2d_98\">\n    <path d=\"M 49.633125 36.171215 \nL 69.163125 34.81641 \nL 88.693125 29.862272 \nL 108.223125 29.82183 \nL 127.753125 26.748242 \nL 147.283125 24.867692 \nL 166.813125 32.1068 \n\" clip-path=\"url(#pa15164f563)\" style=\"fill: none; stroke-dasharray: 9.6,2.4,1.5,2.4; stroke-dashoffset: 0; stroke: #2ca02c; stroke-width: 1.5\"/>\n   </g>\n   <g id=\"line2d_99\">\n    <path d=\"M 34.954394 13.5 \nL 44.698573 80.357571 \nL 54.442752 97.680558 \nL 64.186931 102.911665 \nL 73.93111 110.804696 \nL 83.675289 114.203082 \nL 93.419468 119.025558 \nL 103.163647 120.216532 \nL 112.907826 121.908567 \nL 122.652006 126.482576 \nL 132.396185 127.667829 \nL 142.140364 129.165948 \nL 151.884543 131.885939 \nL 161.628722 132.316758 \nL 171.372901 133.328432 \nL 181.11708 134.749983 \n\" clip-path=\"url(#pa15164f563)\" style=\"fill: none; stroke: #1f77b4; stroke-width: 1.5; stroke-linecap: square\"/>\n   </g>\n   <g id=\"line2d_100\">\n    <path d=\"M 49.633125 86.044967 \nL 69.163125 92.504423 \nL 88.693125 108.673552 \nL 108.223125 109.040566 \nL 127.753125 118.142574 \nL 147.283125 125.862723 \nL 166.813125 108.195596 \nL 186.343125 128.27655 \n\" clip-path=\"url(#pa15164f563)\" style=\"fill: none; stroke-dasharray: 5.55,2.4; stroke-dashoffset: 0; stroke: #ff7f0e; stroke-width: 1.5\"/>\n   </g>\n   <g id=\"line2d_101\">\n    <path d=\"M 49.633125 36.171215 \nL 69.163125 34.81641 \nL 88.693125 29.862272 \nL 108.223125 29.82183 \nL 127.753125 26.748242 \nL 147.283125 24.867692 \nL 166.813125 32.1068 \nL 186.343125 23.674655 \n\" clip-path=\"url(#pa15164f563)\" style=\"fill: none; stroke-dasharray: 9.6,2.4,1.5,2.4; stroke-dashoffset: 0; stroke: #2ca02c; stroke-width: 1.5\"/>\n   </g>\n   <g id=\"line2d_102\">\n    <path d=\"M 34.954394 13.5 \nL 44.698573 80.357571 \nL 54.442752 97.680558 \nL 64.186931 102.911665 \nL 73.93111 110.804696 \nL 83.675289 114.203082 \nL 93.419468 119.025558 \nL 103.163647 120.216532 \nL 112.907826 121.908567 \nL 122.652006 126.482576 \nL 132.396185 127.667829 \nL 142.140364 129.165948 \nL 151.884543 131.885939 \nL 161.628722 132.316758 \nL 171.372901 133.328432 \nL 181.11708 134.749983 \nL 190.861259 137.472517 \n\" clip-path=\"url(#pa15164f563)\" style=\"fill: none; stroke: #1f77b4; stroke-width: 1.5; stroke-linecap: square\"/>\n   </g>\n   <g id=\"line2d_103\">\n    <path d=\"M 49.633125 86.044967 \nL 69.163125 92.504423 \nL 88.693125 108.673552 \nL 108.223125 109.040566 \nL 127.753125 118.142574 \nL 147.283125 125.862723 \nL 166.813125 108.195596 \nL 186.343125 128.27655 \n\" clip-path=\"url(#pa15164f563)\" style=\"fill: none; stroke-dasharray: 5.55,2.4; stroke-dashoffset: 0; stroke: #ff7f0e; stroke-width: 1.5\"/>\n   </g>\n   <g id=\"line2d_104\">\n    <path d=\"M 49.633125 36.171215 \nL 69.163125 34.81641 \nL 88.693125 29.862272 \nL 108.223125 29.82183 \nL 127.753125 26.748242 \nL 147.283125 24.867692 \nL 166.813125 32.1068 \nL 186.343125 23.674655 \n\" clip-path=\"url(#pa15164f563)\" style=\"fill: none; stroke-dasharray: 9.6,2.4,1.5,2.4; stroke-dashoffset: 0; stroke: #2ca02c; stroke-width: 1.5\"/>\n   </g>\n   <g id=\"line2d_105\">\n    <path d=\"M 34.954394 13.5 \nL 44.698573 80.357571 \nL 54.442752 97.680558 \nL 64.186931 102.911665 \nL 73.93111 110.804696 \nL 83.675289 114.203082 \nL 93.419468 119.025558 \nL 103.163647 120.216532 \nL 112.907826 121.908567 \nL 122.652006 126.482576 \nL 132.396185 127.667829 \nL 142.140364 129.165948 \nL 151.884543 131.885939 \nL 161.628722 132.316758 \nL 171.372901 133.328432 \nL 181.11708 134.749983 \nL 190.861259 137.472517 \nL 200.605438 136.764224 \n\" clip-path=\"url(#pa15164f563)\" style=\"fill: none; stroke: #1f77b4; stroke-width: 1.5; stroke-linecap: square\"/>\n   </g>\n   <g id=\"line2d_106\">\n    <path d=\"M 49.633125 86.044967 \nL 69.163125 92.504423 \nL 88.693125 108.673552 \nL 108.223125 109.040566 \nL 127.753125 118.142574 \nL 147.283125 125.862723 \nL 166.813125 108.195596 \nL 186.343125 128.27655 \n\" clip-path=\"url(#pa15164f563)\" style=\"fill: none; stroke-dasharray: 5.55,2.4; stroke-dashoffset: 0; stroke: #ff7f0e; stroke-width: 1.5\"/>\n   </g>\n   <g id=\"line2d_107\">\n    <path d=\"M 49.633125 36.171215 \nL 69.163125 34.81641 \nL 88.693125 29.862272 \nL 108.223125 29.82183 \nL 127.753125 26.748242 \nL 147.283125 24.867692 \nL 166.813125 32.1068 \nL 186.343125 23.674655 \n\" clip-path=\"url(#pa15164f563)\" style=\"fill: none; stroke-dasharray: 9.6,2.4,1.5,2.4; stroke-dashoffset: 0; stroke: #2ca02c; stroke-width: 1.5\"/>\n   </g>\n   <g id=\"line2d_108\">\n    <path d=\"M 34.954394 13.5 \nL 44.698573 80.357571 \nL 54.442752 97.680558 \nL 64.186931 102.911665 \nL 73.93111 110.804696 \nL 83.675289 114.203082 \nL 93.419468 119.025558 \nL 103.163647 120.216532 \nL 112.907826 121.908567 \nL 122.652006 126.482576 \nL 132.396185 127.667829 \nL 142.140364 129.165948 \nL 151.884543 131.885939 \nL 161.628722 132.316758 \nL 171.372901 133.328432 \nL 181.11708 134.749983 \nL 190.861259 137.472517 \nL 200.605438 136.764224 \n\" clip-path=\"url(#pa15164f563)\" style=\"fill: none; stroke: #1f77b4; stroke-width: 1.5; stroke-linecap: square\"/>\n   </g>\n   <g id=\"line2d_109\">\n    <path d=\"M 49.633125 86.044967 \nL 69.163125 92.504423 \nL 88.693125 108.673552 \nL 108.223125 109.040566 \nL 127.753125 118.142574 \nL 147.283125 125.862723 \nL 166.813125 108.195596 \nL 186.343125 128.27655 \nL 205.873125 129.097982 \n\" clip-path=\"url(#pa15164f563)\" style=\"fill: none; stroke-dasharray: 5.55,2.4; stroke-dashoffset: 0; stroke: #ff7f0e; stroke-width: 1.5\"/>\n   </g>\n   <g id=\"line2d_110\">\n    <path d=\"M 49.633125 36.171215 \nL 69.163125 34.81641 \nL 88.693125 29.862272 \nL 108.223125 29.82183 \nL 127.753125 26.748242 \nL 147.283125 24.867692 \nL 166.813125 32.1068 \nL 186.343125 23.674655 \n\" clip-path=\"url(#pa15164f563)\" style=\"fill: none; stroke-dasharray: 9.6,2.4,1.5,2.4; stroke-dashoffset: 0; stroke: #2ca02c; stroke-width: 1.5\"/>\n   </g>\n   <g id=\"line2d_111\">\n    <path d=\"M 34.954394 13.5 \nL 44.698573 80.357571 \nL 54.442752 97.680558 \nL 64.186931 102.911665 \nL 73.93111 110.804696 \nL 83.675289 114.203082 \nL 93.419468 119.025558 \nL 103.163647 120.216532 \nL 112.907826 121.908567 \nL 122.652006 126.482576 \nL 132.396185 127.667829 \nL 142.140364 129.165948 \nL 151.884543 131.885939 \nL 161.628722 132.316758 \nL 171.372901 133.328432 \nL 181.11708 134.749983 \nL 190.861259 137.472517 \nL 200.605438 136.764224 \n\" clip-path=\"url(#pa15164f563)\" style=\"fill: none; stroke: #1f77b4; stroke-width: 1.5; stroke-linecap: square\"/>\n   </g>\n   <g id=\"line2d_112\">\n    <path d=\"M 49.633125 86.044967 \nL 69.163125 92.504423 \nL 88.693125 108.673552 \nL 108.223125 109.040566 \nL 127.753125 118.142574 \nL 147.283125 125.862723 \nL 166.813125 108.195596 \nL 186.343125 128.27655 \nL 205.873125 129.097982 \n\" clip-path=\"url(#pa15164f563)\" style=\"fill: none; stroke-dasharray: 5.55,2.4; stroke-dashoffset: 0; stroke: #ff7f0e; stroke-width: 1.5\"/>\n   </g>\n   <g id=\"line2d_113\">\n    <path d=\"M 49.633125 36.171215 \nL 69.163125 34.81641 \nL 88.693125 29.862272 \nL 108.223125 29.82183 \nL 127.753125 26.748242 \nL 147.283125 24.867692 \nL 166.813125 32.1068 \nL 186.343125 23.674655 \nL 205.873125 23.472445 \n\" clip-path=\"url(#pa15164f563)\" style=\"fill: none; stroke-dasharray: 9.6,2.4,1.5,2.4; stroke-dashoffset: 0; stroke: #2ca02c; stroke-width: 1.5\"/>\n   </g>\n   <g id=\"line2d_114\">\n    <path d=\"M 34.954394 13.5 \nL 44.698573 80.357571 \nL 54.442752 97.680558 \nL 64.186931 102.911665 \nL 73.93111 110.804696 \nL 83.675289 114.203082 \nL 93.419468 119.025558 \nL 103.163647 120.216532 \nL 112.907826 121.908567 \nL 122.652006 126.482576 \nL 132.396185 127.667829 \nL 142.140364 129.165948 \nL 151.884543 131.885939 \nL 161.628722 132.316758 \nL 171.372901 133.328432 \nL 181.11708 134.749983 \nL 190.861259 137.472517 \nL 200.605438 136.764224 \nL 210.349618 138.700742 \n\" clip-path=\"url(#pa15164f563)\" style=\"fill: none; stroke: #1f77b4; stroke-width: 1.5; stroke-linecap: square\"/>\n   </g>\n   <g id=\"line2d_115\">\n    <path d=\"M 49.633125 86.044967 \nL 69.163125 92.504423 \nL 88.693125 108.673552 \nL 108.223125 109.040566 \nL 127.753125 118.142574 \nL 147.283125 125.862723 \nL 166.813125 108.195596 \nL 186.343125 128.27655 \nL 205.873125 129.097982 \n\" clip-path=\"url(#pa15164f563)\" style=\"fill: none; stroke-dasharray: 5.55,2.4; stroke-dashoffset: 0; stroke: #ff7f0e; stroke-width: 1.5\"/>\n   </g>\n   <g id=\"line2d_116\">\n    <path d=\"M 49.633125 36.171215 \nL 69.163125 34.81641 \nL 88.693125 29.862272 \nL 108.223125 29.82183 \nL 127.753125 26.748242 \nL 147.283125 24.867692 \nL 166.813125 32.1068 \nL 186.343125 23.674655 \nL 205.873125 23.472445 \n\" clip-path=\"url(#pa15164f563)\" style=\"fill: none; stroke-dasharray: 9.6,2.4,1.5,2.4; stroke-dashoffset: 0; stroke: #2ca02c; stroke-width: 1.5\"/>\n   </g>\n   <g id=\"line2d_117\">\n    <path d=\"M 34.954394 13.5 \nL 44.698573 80.357571 \nL 54.442752 97.680558 \nL 64.186931 102.911665 \nL 73.93111 110.804696 \nL 83.675289 114.203082 \nL 93.419468 119.025558 \nL 103.163647 120.216532 \nL 112.907826 121.908567 \nL 122.652006 126.482576 \nL 132.396185 127.667829 \nL 142.140364 129.165948 \nL 151.884543 131.885939 \nL 161.628722 132.316758 \nL 171.372901 133.328432 \nL 181.11708 134.749983 \nL 190.861259 137.472517 \nL 200.605438 136.764224 \nL 210.349618 138.700742 \nL 220.093797 139.5 \n\" clip-path=\"url(#pa15164f563)\" style=\"fill: none; stroke: #1f77b4; stroke-width: 1.5; stroke-linecap: square\"/>\n   </g>\n   <g id=\"line2d_118\">\n    <path d=\"M 49.633125 86.044967 \nL 69.163125 92.504423 \nL 88.693125 108.673552 \nL 108.223125 109.040566 \nL 127.753125 118.142574 \nL 147.283125 125.862723 \nL 166.813125 108.195596 \nL 186.343125 128.27655 \nL 205.873125 129.097982 \n\" clip-path=\"url(#pa15164f563)\" style=\"fill: none; stroke-dasharray: 5.55,2.4; stroke-dashoffset: 0; stroke: #ff7f0e; stroke-width: 1.5\"/>\n   </g>\n   <g id=\"line2d_119\">\n    <path d=\"M 49.633125 36.171215 \nL 69.163125 34.81641 \nL 88.693125 29.862272 \nL 108.223125 29.82183 \nL 127.753125 26.748242 \nL 147.283125 24.867692 \nL 166.813125 32.1068 \nL 186.343125 23.674655 \nL 205.873125 23.472445 \n\" clip-path=\"url(#pa15164f563)\" style=\"fill: none; stroke-dasharray: 9.6,2.4,1.5,2.4; stroke-dashoffset: 0; stroke: #2ca02c; stroke-width: 1.5\"/>\n   </g>\n   <g id=\"line2d_120\">\n    <path d=\"M 34.954394 13.5 \nL 44.698573 80.357571 \nL 54.442752 97.680558 \nL 64.186931 102.911665 \nL 73.93111 110.804696 \nL 83.675289 114.203082 \nL 93.419468 119.025558 \nL 103.163647 120.216532 \nL 112.907826 121.908567 \nL 122.652006 126.482576 \nL 132.396185 127.667829 \nL 142.140364 129.165948 \nL 151.884543 131.885939 \nL 161.628722 132.316758 \nL 171.372901 133.328432 \nL 181.11708 134.749983 \nL 190.861259 137.472517 \nL 200.605438 136.764224 \nL 210.349618 138.700742 \nL 220.093797 139.5 \n\" clip-path=\"url(#pa15164f563)\" style=\"fill: none; stroke: #1f77b4; stroke-width: 1.5; stroke-linecap: square\"/>\n   </g>\n   <g id=\"line2d_121\">\n    <path d=\"M 49.633125 86.044967 \nL 69.163125 92.504423 \nL 88.693125 108.673552 \nL 108.223125 109.040566 \nL 127.753125 118.142574 \nL 147.283125 125.862723 \nL 166.813125 108.195596 \nL 186.343125 128.27655 \nL 205.873125 129.097982 \nL 225.403125 122.706234 \n\" clip-path=\"url(#pa15164f563)\" style=\"fill: none; stroke-dasharray: 5.55,2.4; stroke-dashoffset: 0; stroke: #ff7f0e; stroke-width: 1.5\"/>\n   </g>\n   <g id=\"line2d_122\">\n    <path d=\"M 49.633125 36.171215 \nL 69.163125 34.81641 \nL 88.693125 29.862272 \nL 108.223125 29.82183 \nL 127.753125 26.748242 \nL 147.283125 24.867692 \nL 166.813125 32.1068 \nL 186.343125 23.674655 \nL 205.873125 23.472445 \n\" clip-path=\"url(#pa15164f563)\" style=\"fill: none; stroke-dasharray: 9.6,2.4,1.5,2.4; stroke-dashoffset: 0; stroke: #2ca02c; stroke-width: 1.5\"/>\n   </g>\n   <g id=\"line2d_123\">\n    <path d=\"M 34.954394 13.5 \nL 44.698573 80.357571 \nL 54.442752 97.680558 \nL 64.186931 102.911665 \nL 73.93111 110.804696 \nL 83.675289 114.203082 \nL 93.419468 119.025558 \nL 103.163647 120.216532 \nL 112.907826 121.908567 \nL 122.652006 126.482576 \nL 132.396185 127.667829 \nL 142.140364 129.165948 \nL 151.884543 131.885939 \nL 161.628722 132.316758 \nL 171.372901 133.328432 \nL 181.11708 134.749983 \nL 190.861259 137.472517 \nL 200.605438 136.764224 \nL 210.349618 138.700742 \nL 220.093797 139.5 \n\" clip-path=\"url(#pa15164f563)\" style=\"fill: none; stroke: #1f77b4; stroke-width: 1.5; stroke-linecap: square\"/>\n   </g>\n   <g id=\"line2d_124\">\n    <path d=\"M 49.633125 86.044967 \nL 69.163125 92.504423 \nL 88.693125 108.673552 \nL 108.223125 109.040566 \nL 127.753125 118.142574 \nL 147.283125 125.862723 \nL 166.813125 108.195596 \nL 186.343125 128.27655 \nL 205.873125 129.097982 \nL 225.403125 122.706234 \n\" clip-path=\"url(#pa15164f563)\" style=\"fill: none; stroke-dasharray: 5.55,2.4; stroke-dashoffset: 0; stroke: #ff7f0e; stroke-width: 1.5\"/>\n   </g>\n   <g id=\"line2d_125\">\n    <path d=\"M 49.633125 36.171215 \nL 69.163125 34.81641 \nL 88.693125 29.862272 \nL 108.223125 29.82183 \nL 127.753125 26.748242 \nL 147.283125 24.867692 \nL 166.813125 32.1068 \nL 186.343125 23.674655 \nL 205.873125 23.472445 \nL 225.403125 26.829126 \n\" clip-path=\"url(#pa15164f563)\" style=\"fill: none; stroke-dasharray: 9.6,2.4,1.5,2.4; stroke-dashoffset: 0; stroke: #2ca02c; stroke-width: 1.5\"/>\n   </g>\n   <g id=\"patch_3\">\n    <path d=\"M 30.103125 145.8 \nL 30.103125 7.2 \n\" style=\"fill: none; stroke: #000000; stroke-width: 0.8; stroke-linejoin: miter; stroke-linecap: square\"/>\n   </g>\n   <g id=\"patch_4\">\n    <path d=\"M 225.403125 145.8 \nL 225.403125 7.2 \n\" style=\"fill: none; stroke: #000000; stroke-width: 0.8; stroke-linejoin: miter; stroke-linecap: square\"/>\n   </g>\n   <g id=\"patch_5\">\n    <path d=\"M 30.103125 145.8 \nL 225.403125 145.8 \n\" style=\"fill: none; stroke: #000000; stroke-width: 0.8; stroke-linejoin: miter; stroke-linecap: square\"/>\n   </g>\n   <g id=\"patch_6\">\n    <path d=\"M 30.103125 7.2 \nL 225.403125 7.2 \n\" style=\"fill: none; stroke: #000000; stroke-width: 0.8; stroke-linejoin: miter; stroke-linecap: square\"/>\n   </g>\n   <g id=\"legend_1\">\n    <g id=\"patch_7\">\n     <path d=\"M 138.8125 100.434375 \nL 218.403125 100.434375 \nQ 220.403125 100.434375 220.403125 98.434375 \nL 220.403125 54.565625 \nQ 220.403125 52.565625 218.403125 52.565625 \nL 138.8125 52.565625 \nQ 136.8125 52.565625 136.8125 54.565625 \nL 136.8125 98.434375 \nQ 136.8125 100.434375 138.8125 100.434375 \nz\n\" style=\"fill: #ffffff; opacity: 0.8; stroke: #cccccc; stroke-linejoin: miter\"/>\n    </g>\n    <g id=\"line2d_126\">\n     <path d=\"M 140.8125 60.664063 \nL 150.8125 60.664063 \nL 160.8125 60.664063 \n\" style=\"fill: none; stroke: #1f77b4; stroke-width: 1.5; stroke-linecap: square\"/>\n    </g>\n    <g id=\"text_11\">\n     <!-- train_loss -->\n     <g transform=\"translate(168.8125 64.164063) scale(0.1 -0.1)\">\n      <defs>\n       <path id=\"DejaVuSans-74\" d=\"M 1172 4494 \nL 1172 3500 \nL 2356 3500 \nL 2356 3053 \nL 1172 3053 \nL 1172 1153 \nQ 1172 725 1289 603 \nQ 1406 481 1766 481 \nL 2356 481 \nL 2356 0 \nL 1766 0 \nQ 1100 0 847 248 \nQ 594 497 594 1153 \nL 594 3053 \nL 172 3053 \nL 172 3500 \nL 594 3500 \nL 594 4494 \nL 1172 4494 \nz\n\" transform=\"scale(0.015625)\"/>\n       <path id=\"DejaVuSans-72\" d=\"M 2631 2963 \nQ 2534 3019 2420 3045 \nQ 2306 3072 2169 3072 \nQ 1681 3072 1420 2755 \nQ 1159 2438 1159 1844 \nL 1159 0 \nL 581 0 \nL 581 3500 \nL 1159 3500 \nL 1159 2956 \nQ 1341 3275 1631 3429 \nQ 1922 3584 2338 3584 \nQ 2397 3584 2469 3576 \nQ 2541 3569 2628 3553 \nL 2631 2963 \nz\n\" transform=\"scale(0.015625)\"/>\n       <path id=\"DejaVuSans-61\" d=\"M 2194 1759 \nQ 1497 1759 1228 1600 \nQ 959 1441 959 1056 \nQ 959 750 1161 570 \nQ 1363 391 1709 391 \nQ 2188 391 2477 730 \nQ 2766 1069 2766 1631 \nL 2766 1759 \nL 2194 1759 \nz\nM 3341 1997 \nL 3341 0 \nL 2766 0 \nL 2766 531 \nQ 2569 213 2275 61 \nQ 1981 -91 1556 -91 \nQ 1019 -91 701 211 \nQ 384 513 384 1019 \nQ 384 1609 779 1909 \nQ 1175 2209 1959 2209 \nL 2766 2209 \nL 2766 2266 \nQ 2766 2663 2505 2880 \nQ 2244 3097 1772 3097 \nQ 1472 3097 1187 3025 \nQ 903 2953 641 2809 \nL 641 3341 \nQ 956 3463 1253 3523 \nQ 1550 3584 1831 3584 \nQ 2591 3584 2966 3190 \nQ 3341 2797 3341 1997 \nz\n\" transform=\"scale(0.015625)\"/>\n       <path id=\"DejaVuSans-69\" d=\"M 603 3500 \nL 1178 3500 \nL 1178 0 \nL 603 0 \nL 603 3500 \nz\nM 603 4863 \nL 1178 4863 \nL 1178 4134 \nL 603 4134 \nL 603 4863 \nz\n\" transform=\"scale(0.015625)\"/>\n       <path id=\"DejaVuSans-6e\" d=\"M 3513 2113 \nL 3513 0 \nL 2938 0 \nL 2938 2094 \nQ 2938 2591 2744 2837 \nQ 2550 3084 2163 3084 \nQ 1697 3084 1428 2787 \nQ 1159 2491 1159 1978 \nL 1159 0 \nL 581 0 \nL 581 3500 \nL 1159 3500 \nL 1159 2956 \nQ 1366 3272 1645 3428 \nQ 1925 3584 2291 3584 \nQ 2894 3584 3203 3211 \nQ 3513 2838 3513 2113 \nz\n\" transform=\"scale(0.015625)\"/>\n       <path id=\"DejaVuSans-5f\" d=\"M 3263 -1063 \nL 3263 -1509 \nL -63 -1509 \nL -63 -1063 \nL 3263 -1063 \nz\n\" transform=\"scale(0.015625)\"/>\n       <path id=\"DejaVuSans-6c\" d=\"M 603 4863 \nL 1178 4863 \nL 1178 0 \nL 603 0 \nL 603 4863 \nz\n\" transform=\"scale(0.015625)\"/>\n       <path id=\"DejaVuSans-73\" d=\"M 2834 3397 \nL 2834 2853 \nQ 2591 2978 2328 3040 \nQ 2066 3103 1784 3103 \nQ 1356 3103 1142 2972 \nQ 928 2841 928 2578 \nQ 928 2378 1081 2264 \nQ 1234 2150 1697 2047 \nL 1894 2003 \nQ 2506 1872 2764 1633 \nQ 3022 1394 3022 966 \nQ 3022 478 2636 193 \nQ 2250 -91 1575 -91 \nQ 1294 -91 989 -36 \nQ 684 19 347 128 \nL 347 722 \nQ 666 556 975 473 \nQ 1284 391 1588 391 \nQ 1994 391 2212 530 \nQ 2431 669 2431 922 \nQ 2431 1156 2273 1281 \nQ 2116 1406 1581 1522 \nL 1381 1569 \nQ 847 1681 609 1914 \nQ 372 2147 372 2553 \nQ 372 3047 722 3315 \nQ 1072 3584 1716 3584 \nQ 2034 3584 2315 3537 \nQ 2597 3491 2834 3397 \nz\n\" transform=\"scale(0.015625)\"/>\n      </defs>\n      <use xlink:href=\"#DejaVuSans-74\"/>\n      <use xlink:href=\"#DejaVuSans-72\" x=\"39.208984\"/>\n      <use xlink:href=\"#DejaVuSans-61\" x=\"80.322266\"/>\n      <use xlink:href=\"#DejaVuSans-69\" x=\"141.601562\"/>\n      <use xlink:href=\"#DejaVuSans-6e\" x=\"169.384766\"/>\n      <use xlink:href=\"#DejaVuSans-5f\" x=\"232.763672\"/>\n      <use xlink:href=\"#DejaVuSans-6c\" x=\"282.763672\"/>\n      <use xlink:href=\"#DejaVuSans-6f\" x=\"310.546875\"/>\n      <use xlink:href=\"#DejaVuSans-73\" x=\"371.728516\"/>\n      <use xlink:href=\"#DejaVuSans-73\" x=\"423.828125\"/>\n     </g>\n    </g>\n    <g id=\"line2d_127\">\n     <path d=\"M 140.8125 75.620313 \nL 150.8125 75.620313 \nL 160.8125 75.620313 \n\" style=\"fill: none; stroke-dasharray: 5.55,2.4; stroke-dashoffset: 0; stroke: #ff7f0e; stroke-width: 1.5\"/>\n    </g>\n    <g id=\"text_12\">\n     <!-- val_loss -->\n     <g transform=\"translate(168.8125 79.120313) scale(0.1 -0.1)\">\n      <defs>\n       <path id=\"DejaVuSans-76\" d=\"M 191 3500 \nL 800 3500 \nL 1894 563 \nL 2988 3500 \nL 3597 3500 \nL 2284 0 \nL 1503 0 \nL 191 3500 \nz\n\" transform=\"scale(0.015625)\"/>\n      </defs>\n      <use xlink:href=\"#DejaVuSans-76\"/>\n      <use xlink:href=\"#DejaVuSans-61\" x=\"59.179688\"/>\n      <use xlink:href=\"#DejaVuSans-6c\" x=\"120.458984\"/>\n      <use xlink:href=\"#DejaVuSans-5f\" x=\"148.242188\"/>\n      <use xlink:href=\"#DejaVuSans-6c\" x=\"198.242188\"/>\n      <use xlink:href=\"#DejaVuSans-6f\" x=\"226.025391\"/>\n      <use xlink:href=\"#DejaVuSans-73\" x=\"287.207031\"/>\n      <use xlink:href=\"#DejaVuSans-73\" x=\"339.306641\"/>\n     </g>\n    </g>\n    <g id=\"line2d_128\">\n     <path d=\"M 140.8125 90.576563 \nL 150.8125 90.576563 \nL 160.8125 90.576563 \n\" style=\"fill: none; stroke-dasharray: 9.6,2.4,1.5,2.4; stroke-dashoffset: 0; stroke: #2ca02c; stroke-width: 1.5\"/>\n    </g>\n    <g id=\"text_13\">\n     <!-- val_acc -->\n     <g transform=\"translate(168.8125 94.076563) scale(0.1 -0.1)\">\n      <use xlink:href=\"#DejaVuSans-76\"/>\n      <use xlink:href=\"#DejaVuSans-61\" x=\"59.179688\"/>\n      <use xlink:href=\"#DejaVuSans-6c\" x=\"120.458984\"/>\n      <use xlink:href=\"#DejaVuSans-5f\" x=\"148.242188\"/>\n      <use xlink:href=\"#DejaVuSans-61\" x=\"198.242188\"/>\n      <use xlink:href=\"#DejaVuSans-63\" x=\"259.521484\"/>\n      <use xlink:href=\"#DejaVuSans-63\" x=\"314.501953\"/>\n     </g>\n    </g>\n   </g>\n  </g>\n </g>\n <defs>\n  <clipPath id=\"pa15164f563\">\n   <rect x=\"30.103125\" y=\"7.2\" width=\"195.3\" height=\"138.6\"/>\n  </clipPath>\n </defs>\n</svg>\n"
          },
          "metadata": {}
        }
      ],
      "source": [
        "trainer = d2l.Trainer(max_epochs=10, num_gpus=1)\n",
        "data = d2l.FashionMNIST(batch_size=128)\n",
        "model = BNLeNet(lr=0.1)\n",
        "model.apply_init([next(iter(data.get_dataloader(True)))[0]], d2l.init_cnn)\n",
        "trainer.fit(model, data)"
      ]
    },
    {
      "cell_type": "markdown",
      "id": "Ji060NidZ6iv",
      "metadata": {
        "id": "Ji060NidZ6iv"
      },
      "source": [
        "## Exercises\n",
        "\n",
        "1. Should we remove the bias parameter from the fully connected layer or the convolutional layer before the batch normalization? Why?\n",
        "1. Compare the learning rates for LeNet with and without batch normalization.\n",
        "    1. Plot the increase in validation accuracy.\n",
        "    1. How large can you make the learning rate before the optimization fails in both cases?\n",
        "1. Do we need batch normalization in every layer? Experiment with it.\n",
        "1. Implement a \"lite\" version of batch normalization that only removes the mean, or alternatively one that\n",
        "   only removes the variance. How does it behave?\n",
        "1. Fix the parameters `beta` and `gamma`. Observe and analyze the results.\n",
        "1. Can you replace dropout by batch normalization? How does the behavior change?\n",
        "1. Research ideas: think of other normalization transforms that you can apply:\n",
        "    1. Can you apply the probability integral transform?\n",
        "    1. Can you use a full-rank covariance estimate? Why should you probably not do that?\n",
        "    1. Can you use other compact matrix variants (block-diagonal, low-displacement rank, Monarch, etc.)?\n",
        "    1. Does a sparsification compression act as a regularizer?\n",
        "    1. Are there other projections (e.g., convex cone, symmetry group-specific transforms) that you can use?\n"
      ]
    },
    {
      "cell_type": "markdown",
      "id": "0mUsX_q7aW2v",
      "metadata": {
        "id": "0mUsX_q7aW2v"
      },
      "source": [
        "# 8.6 Residual Network (ResNet) and ResNeXt"
      ]
    },
    {
      "cell_type": "code",
      "execution_count": 34,
      "id": "d6e5d075",
      "metadata": {
        "id": "d6e5d075"
      },
      "outputs": [],
      "source": [
        "import torch\n",
        "from torch import nn\n",
        "from torch.nn import functional as F\n",
        "from d2l import torch as d2l"
      ]
    },
    {
      "cell_type": "markdown",
      "id": "eug4SnsLalbi",
      "metadata": {
        "id": "eug4SnsLalbi"
      },
      "source": [
        "## Function Classes"
      ]
    },
    {
      "cell_type": "code",
      "execution_count": 35,
      "id": "35fa7497",
      "metadata": {
        "id": "35fa7497"
      },
      "outputs": [],
      "source": [
        "class Residual(nn.Module):  #@save\n",
        "    \"\"\"The Residual block of ResNet models.\"\"\"\n",
        "    def __init__(self, num_channels, use_1x1conv=False, strides=1):\n",
        "        super().__init__()\n",
        "        self.conv1 = nn.LazyConv2d(num_channels, kernel_size=3, padding=1,\n",
        "                                   stride=strides)\n",
        "        self.conv2 = nn.LazyConv2d(num_channels, kernel_size=3, padding=1)\n",
        "        if use_1x1conv:\n",
        "            self.conv3 = nn.LazyConv2d(num_channels, kernel_size=1,\n",
        "                                       stride=strides)\n",
        "        else:\n",
        "            self.conv3 = None\n",
        "        self.bn1 = nn.LazyBatchNorm2d()\n",
        "        self.bn2 = nn.LazyBatchNorm2d()\n",
        "\n",
        "    def forward(self, X):\n",
        "        Y = F.relu(self.bn1(self.conv1(X)))\n",
        "        Y = self.bn2(self.conv2(Y))\n",
        "        if self.conv3:\n",
        "            X = self.conv3(X)\n",
        "        Y += X\n",
        "        return F.relu(Y)"
      ]
    },
    {
      "cell_type": "code",
      "execution_count": 36,
      "id": "2057b8bc",
      "metadata": {
        "colab": {
          "base_uri": "https://localhost:8080/"
        },
        "id": "2057b8bc",
        "outputId": "1f0d8744-15e5-45d4-d65a-8d3174567ebe"
      },
      "outputs": [
        {
          "output_type": "execute_result",
          "data": {
            "text/plain": [
              "torch.Size([4, 3, 6, 6])"
            ]
          },
          "metadata": {},
          "execution_count": 36
        }
      ],
      "source": [
        "blk = Residual(3)\n",
        "X = torch.randn(4, 3, 6, 6)\n",
        "blk(X).shape"
      ]
    },
    {
      "cell_type": "code",
      "execution_count": 37,
      "id": "341c1c55",
      "metadata": {
        "colab": {
          "base_uri": "https://localhost:8080/"
        },
        "id": "341c1c55",
        "outputId": "1a20e040-9791-4096-e74f-fa2c18458444"
      },
      "outputs": [
        {
          "output_type": "execute_result",
          "data": {
            "text/plain": [
              "torch.Size([4, 6, 3, 3])"
            ]
          },
          "metadata": {},
          "execution_count": 37
        }
      ],
      "source": [
        "blk = Residual(6, use_1x1conv=True, strides=2)\n",
        "blk(X).shape"
      ]
    },
    {
      "cell_type": "markdown",
      "id": "HPTgYB0la1Xt",
      "metadata": {
        "id": "HPTgYB0la1Xt"
      },
      "source": [
        "## [**ResNet Model**]"
      ]
    },
    {
      "cell_type": "code",
      "execution_count": 38,
      "id": "393dd8de",
      "metadata": {
        "id": "393dd8de"
      },
      "outputs": [],
      "source": [
        "class ResNet(d2l.Classifier):\n",
        "    def b1(self):\n",
        "        return nn.Sequential(\n",
        "            nn.LazyConv2d(64, kernel_size=7, stride=2, padding=3),\n",
        "            nn.LazyBatchNorm2d(), nn.ReLU(),\n",
        "            nn.MaxPool2d(kernel_size=3, stride=2, padding=1))"
      ]
    },
    {
      "cell_type": "code",
      "execution_count": 39,
      "id": "4d92b69c",
      "metadata": {
        "id": "4d92b69c"
      },
      "outputs": [],
      "source": [
        "@d2l.add_to_class(ResNet)\n",
        "def block(self, num_residuals, num_channels, first_block=False):\n",
        "    blk = []\n",
        "    for i in range(num_residuals):\n",
        "        if i == 0 and not first_block:\n",
        "            blk.append(Residual(num_channels, use_1x1conv=True, strides=2))\n",
        "        else:\n",
        "            blk.append(Residual(num_channels))\n",
        "    return nn.Sequential(*blk)"
      ]
    },
    {
      "cell_type": "code",
      "execution_count": 40,
      "id": "0019ee3f",
      "metadata": {
        "id": "0019ee3f"
      },
      "outputs": [],
      "source": [
        "@d2l.add_to_class(ResNet)\n",
        "def __init__(self, arch, lr=0.1, num_classes=10):\n",
        "    super(ResNet, self).__init__()\n",
        "    self.save_hyperparameters()\n",
        "    self.net = nn.Sequential(self.b1())\n",
        "    for i, b in enumerate(arch):\n",
        "        self.net.add_module(f'b{i+2}', self.block(*b, first_block=(i==0)))\n",
        "    self.net.add_module('last', nn.Sequential(\n",
        "        nn.AdaptiveAvgPool2d((1, 1)), nn.Flatten(),\n",
        "        nn.LazyLinear(num_classes)))\n",
        "    self.net.apply(d2l.init_cnn)"
      ]
    },
    {
      "cell_type": "code",
      "execution_count": 41,
      "id": "61e60e34",
      "metadata": {
        "id": "61e60e34"
      },
      "outputs": [],
      "source": [
        "class ResNet18(ResNet):\n",
        "    def __init__(self, lr=0.1, num_classes=10):\n",
        "        super().__init__(((2, 64), (2, 128), (2, 256), (2, 512)),\n",
        "                       lr, num_classes)"
      ]
    },
    {
      "cell_type": "code",
      "execution_count": 42,
      "id": "f153f6ed",
      "metadata": {
        "colab": {
          "base_uri": "https://localhost:8080/"
        },
        "id": "f153f6ed",
        "outputId": "5a5ef30f-c5d1-45b8-e9b0-d1b2396ef53b"
      },
      "outputs": [
        {
          "output_type": "stream",
          "name": "stdout",
          "text": [
            "Sequential output shape:\t torch.Size([1, 64, 24, 24])\n",
            "Sequential output shape:\t torch.Size([1, 64, 24, 24])\n",
            "Sequential output shape:\t torch.Size([1, 128, 12, 12])\n",
            "Sequential output shape:\t torch.Size([1, 256, 6, 6])\n",
            "Sequential output shape:\t torch.Size([1, 512, 3, 3])\n",
            "Sequential output shape:\t torch.Size([1, 10])\n"
          ]
        }
      ],
      "source": [
        "ResNet18().layer_summary((1, 1, 96, 96))"
      ]
    },
    {
      "cell_type": "markdown",
      "id": "4notjNFgbFBj",
      "metadata": {
        "id": "4notjNFgbFBj"
      },
      "source": [
        "## [**Training**]"
      ]
    },
    {
      "cell_type": "code",
      "execution_count": 43,
      "id": "61b87bb9",
      "metadata": {
        "colab": {
          "base_uri": "https://localhost:8080/",
          "height": 265
        },
        "id": "61b87bb9",
        "outputId": "89492575-e5d1-485a-fb48-06173121e64a"
      },
      "outputs": [
        {
          "output_type": "display_data",
          "data": {
            "text/plain": [
              "<Figure size 350x250 with 1 Axes>"
            ],
            "image/svg+xml": "<?xml version=\"1.0\" encoding=\"utf-8\" standalone=\"no\"?>\n<!DOCTYPE svg PUBLIC \"-//W3C//DTD SVG 1.1//EN\"\n  \"http://www.w3.org/Graphics/SVG/1.1/DTD/svg11.dtd\">\n<svg xmlns:xlink=\"http://www.w3.org/1999/xlink\" width=\"238.965625pt\" height=\"183.35625pt\" viewBox=\"0 0 238.965625 183.35625\" xmlns=\"http://www.w3.org/2000/svg\" version=\"1.1\">\n <metadata>\n  <rdf:RDF xmlns:dc=\"http://purl.org/dc/elements/1.1/\" xmlns:cc=\"http://creativecommons.org/ns#\" xmlns:rdf=\"http://www.w3.org/1999/02/22-rdf-syntax-ns#\">\n   <cc:Work>\n    <dc:type rdf:resource=\"http://purl.org/dc/dcmitype/StillImage\"/>\n    <dc:date>2024-10-05T14:44:55.368913</dc:date>\n    <dc:format>image/svg+xml</dc:format>\n    <dc:creator>\n     <cc:Agent>\n      <dc:title>Matplotlib v3.7.2, https://matplotlib.org/</dc:title>\n     </cc:Agent>\n    </dc:creator>\n   </cc:Work>\n  </rdf:RDF>\n </metadata>\n <defs>\n  <style type=\"text/css\">*{stroke-linejoin: round; stroke-linecap: butt}</style>\n </defs>\n <g id=\"figure_1\">\n  <g id=\"patch_1\">\n   <path d=\"M 0 183.35625 \nL 238.965625 183.35625 \nL 238.965625 0 \nL 0 0 \nz\n\" style=\"fill: #ffffff\"/>\n  </g>\n  <g id=\"axes_1\">\n   <g id=\"patch_2\">\n    <path d=\"M 30.103125 145.8 \nL 225.403125 145.8 \nL 225.403125 7.2 \nL 30.103125 7.2 \nz\n\" style=\"fill: #ffffff\"/>\n   </g>\n   <g id=\"matplotlib.axis_1\">\n    <g id=\"xtick_1\">\n     <g id=\"line2d_1\">\n      <defs>\n       <path id=\"m49e975ca1a\" d=\"M 0 0 \nL 0 3.5 \n\" style=\"stroke: #000000; stroke-width: 0.8\"/>\n      </defs>\n      <g>\n       <use xlink:href=\"#m49e975ca1a\" x=\"30.103125\" y=\"145.8\" style=\"stroke: #000000; stroke-width: 0.8\"/>\n      </g>\n     </g>\n     <g id=\"text_1\">\n      <!-- 0 -->\n      <g transform=\"translate(26.921875 160.398438) scale(0.1 -0.1)\">\n       <defs>\n        <path id=\"DejaVuSans-30\" d=\"M 2034 4250 \nQ 1547 4250 1301 3770 \nQ 1056 3291 1056 2328 \nQ 1056 1369 1301 889 \nQ 1547 409 2034 409 \nQ 2525 409 2770 889 \nQ 3016 1369 3016 2328 \nQ 3016 3291 2770 3770 \nQ 2525 4250 2034 4250 \nz\nM 2034 4750 \nQ 2819 4750 3233 4129 \nQ 3647 3509 3647 2328 \nQ 3647 1150 3233 529 \nQ 2819 -91 2034 -91 \nQ 1250 -91 836 529 \nQ 422 1150 422 2328 \nQ 422 3509 836 4129 \nQ 1250 4750 2034 4750 \nz\n\" transform=\"scale(0.015625)\"/>\n       </defs>\n       <use xlink:href=\"#DejaVuSans-30\"/>\n      </g>\n     </g>\n    </g>\n    <g id=\"xtick_2\">\n     <g id=\"line2d_2\">\n      <g>\n       <use xlink:href=\"#m49e975ca1a\" x=\"69.163125\" y=\"145.8\" style=\"stroke: #000000; stroke-width: 0.8\"/>\n      </g>\n     </g>\n     <g id=\"text_2\">\n      <!-- 2 -->\n      <g transform=\"translate(65.981875 160.398438) scale(0.1 -0.1)\">\n       <defs>\n        <path id=\"DejaVuSans-32\" d=\"M 1228 531 \nL 3431 531 \nL 3431 0 \nL 469 0 \nL 469 531 \nQ 828 903 1448 1529 \nQ 2069 2156 2228 2338 \nQ 2531 2678 2651 2914 \nQ 2772 3150 2772 3378 \nQ 2772 3750 2511 3984 \nQ 2250 4219 1831 4219 \nQ 1534 4219 1204 4116 \nQ 875 4013 500 3803 \nL 500 4441 \nQ 881 4594 1212 4672 \nQ 1544 4750 1819 4750 \nQ 2544 4750 2975 4387 \nQ 3406 4025 3406 3419 \nQ 3406 3131 3298 2873 \nQ 3191 2616 2906 2266 \nQ 2828 2175 2409 1742 \nQ 1991 1309 1228 531 \nz\n\" transform=\"scale(0.015625)\"/>\n       </defs>\n       <use xlink:href=\"#DejaVuSans-32\"/>\n      </g>\n     </g>\n    </g>\n    <g id=\"xtick_3\">\n     <g id=\"line2d_3\">\n      <g>\n       <use xlink:href=\"#m49e975ca1a\" x=\"108.223125\" y=\"145.8\" style=\"stroke: #000000; stroke-width: 0.8\"/>\n      </g>\n     </g>\n     <g id=\"text_3\">\n      <!-- 4 -->\n      <g transform=\"translate(105.041875 160.398438) scale(0.1 -0.1)\">\n       <defs>\n        <path id=\"DejaVuSans-34\" d=\"M 2419 4116 \nL 825 1625 \nL 2419 1625 \nL 2419 4116 \nz\nM 2253 4666 \nL 3047 4666 \nL 3047 1625 \nL 3713 1625 \nL 3713 1100 \nL 3047 1100 \nL 3047 0 \nL 2419 0 \nL 2419 1100 \nL 313 1100 \nL 313 1709 \nL 2253 4666 \nz\n\" transform=\"scale(0.015625)\"/>\n       </defs>\n       <use xlink:href=\"#DejaVuSans-34\"/>\n      </g>\n     </g>\n    </g>\n    <g id=\"xtick_4\">\n     <g id=\"line2d_4\">\n      <g>\n       <use xlink:href=\"#m49e975ca1a\" x=\"147.283125\" y=\"145.8\" style=\"stroke: #000000; stroke-width: 0.8\"/>\n      </g>\n     </g>\n     <g id=\"text_4\">\n      <!-- 6 -->\n      <g transform=\"translate(144.101875 160.398438) scale(0.1 -0.1)\">\n       <defs>\n        <path id=\"DejaVuSans-36\" d=\"M 2113 2584 \nQ 1688 2584 1439 2293 \nQ 1191 2003 1191 1497 \nQ 1191 994 1439 701 \nQ 1688 409 2113 409 \nQ 2538 409 2786 701 \nQ 3034 994 3034 1497 \nQ 3034 2003 2786 2293 \nQ 2538 2584 2113 2584 \nz\nM 3366 4563 \nL 3366 3988 \nQ 3128 4100 2886 4159 \nQ 2644 4219 2406 4219 \nQ 1781 4219 1451 3797 \nQ 1122 3375 1075 2522 \nQ 1259 2794 1537 2939 \nQ 1816 3084 2150 3084 \nQ 2853 3084 3261 2657 \nQ 3669 2231 3669 1497 \nQ 3669 778 3244 343 \nQ 2819 -91 2113 -91 \nQ 1303 -91 875 529 \nQ 447 1150 447 2328 \nQ 447 3434 972 4092 \nQ 1497 4750 2381 4750 \nQ 2619 4750 2861 4703 \nQ 3103 4656 3366 4563 \nz\n\" transform=\"scale(0.015625)\"/>\n       </defs>\n       <use xlink:href=\"#DejaVuSans-36\"/>\n      </g>\n     </g>\n    </g>\n    <g id=\"xtick_5\">\n     <g id=\"line2d_5\">\n      <g>\n       <use xlink:href=\"#m49e975ca1a\" x=\"186.343125\" y=\"145.8\" style=\"stroke: #000000; stroke-width: 0.8\"/>\n      </g>\n     </g>\n     <g id=\"text_5\">\n      <!-- 8 -->\n      <g transform=\"translate(183.161875 160.398438) scale(0.1 -0.1)\">\n       <defs>\n        <path id=\"DejaVuSans-38\" d=\"M 2034 2216 \nQ 1584 2216 1326 1975 \nQ 1069 1734 1069 1313 \nQ 1069 891 1326 650 \nQ 1584 409 2034 409 \nQ 2484 409 2743 651 \nQ 3003 894 3003 1313 \nQ 3003 1734 2745 1975 \nQ 2488 2216 2034 2216 \nz\nM 1403 2484 \nQ 997 2584 770 2862 \nQ 544 3141 544 3541 \nQ 544 4100 942 4425 \nQ 1341 4750 2034 4750 \nQ 2731 4750 3128 4425 \nQ 3525 4100 3525 3541 \nQ 3525 3141 3298 2862 \nQ 3072 2584 2669 2484 \nQ 3125 2378 3379 2068 \nQ 3634 1759 3634 1313 \nQ 3634 634 3220 271 \nQ 2806 -91 2034 -91 \nQ 1263 -91 848 271 \nQ 434 634 434 1313 \nQ 434 1759 690 2068 \nQ 947 2378 1403 2484 \nz\nM 1172 3481 \nQ 1172 3119 1398 2916 \nQ 1625 2713 2034 2713 \nQ 2441 2713 2670 2916 \nQ 2900 3119 2900 3481 \nQ 2900 3844 2670 4047 \nQ 2441 4250 2034 4250 \nQ 1625 4250 1398 4047 \nQ 1172 3844 1172 3481 \nz\n\" transform=\"scale(0.015625)\"/>\n       </defs>\n       <use xlink:href=\"#DejaVuSans-38\"/>\n      </g>\n     </g>\n    </g>\n    <g id=\"xtick_6\">\n     <g id=\"line2d_6\">\n      <g>\n       <use xlink:href=\"#m49e975ca1a\" x=\"225.403125\" y=\"145.8\" style=\"stroke: #000000; stroke-width: 0.8\"/>\n      </g>\n     </g>\n     <g id=\"text_6\">\n      <!-- 10 -->\n      <g transform=\"translate(219.040625 160.398438) scale(0.1 -0.1)\">\n       <defs>\n        <path id=\"DejaVuSans-31\" d=\"M 794 531 \nL 1825 531 \nL 1825 4091 \nL 703 3866 \nL 703 4441 \nL 1819 4666 \nL 2450 4666 \nL 2450 531 \nL 3481 531 \nL 3481 0 \nL 794 0 \nL 794 531 \nz\n\" transform=\"scale(0.015625)\"/>\n       </defs>\n       <use xlink:href=\"#DejaVuSans-31\"/>\n       <use xlink:href=\"#DejaVuSans-30\" x=\"63.623047\"/>\n      </g>\n     </g>\n    </g>\n    <g id=\"text_7\">\n     <!-- epoch -->\n     <g transform=\"translate(112.525 174.076563) scale(0.1 -0.1)\">\n      <defs>\n       <path id=\"DejaVuSans-65\" d=\"M 3597 1894 \nL 3597 1613 \nL 953 1613 \nQ 991 1019 1311 708 \nQ 1631 397 2203 397 \nQ 2534 397 2845 478 \nQ 3156 559 3463 722 \nL 3463 178 \nQ 3153 47 2828 -22 \nQ 2503 -91 2169 -91 \nQ 1331 -91 842 396 \nQ 353 884 353 1716 \nQ 353 2575 817 3079 \nQ 1281 3584 2069 3584 \nQ 2775 3584 3186 3129 \nQ 3597 2675 3597 1894 \nz\nM 3022 2063 \nQ 3016 2534 2758 2815 \nQ 2500 3097 2075 3097 \nQ 1594 3097 1305 2825 \nQ 1016 2553 972 2059 \nL 3022 2063 \nz\n\" transform=\"scale(0.015625)\"/>\n       <path id=\"DejaVuSans-70\" d=\"M 1159 525 \nL 1159 -1331 \nL 581 -1331 \nL 581 3500 \nL 1159 3500 \nL 1159 2969 \nQ 1341 3281 1617 3432 \nQ 1894 3584 2278 3584 \nQ 2916 3584 3314 3078 \nQ 3713 2572 3713 1747 \nQ 3713 922 3314 415 \nQ 2916 -91 2278 -91 \nQ 1894 -91 1617 61 \nQ 1341 213 1159 525 \nz\nM 3116 1747 \nQ 3116 2381 2855 2742 \nQ 2594 3103 2138 3103 \nQ 1681 3103 1420 2742 \nQ 1159 2381 1159 1747 \nQ 1159 1113 1420 752 \nQ 1681 391 2138 391 \nQ 2594 391 2855 752 \nQ 3116 1113 3116 1747 \nz\n\" transform=\"scale(0.015625)\"/>\n       <path id=\"DejaVuSans-6f\" d=\"M 1959 3097 \nQ 1497 3097 1228 2736 \nQ 959 2375 959 1747 \nQ 959 1119 1226 758 \nQ 1494 397 1959 397 \nQ 2419 397 2687 759 \nQ 2956 1122 2956 1747 \nQ 2956 2369 2687 2733 \nQ 2419 3097 1959 3097 \nz\nM 1959 3584 \nQ 2709 3584 3137 3096 \nQ 3566 2609 3566 1747 \nQ 3566 888 3137 398 \nQ 2709 -91 1959 -91 \nQ 1206 -91 779 398 \nQ 353 888 353 1747 \nQ 353 2609 779 3096 \nQ 1206 3584 1959 3584 \nz\n\" transform=\"scale(0.015625)\"/>\n       <path id=\"DejaVuSans-63\" d=\"M 3122 3366 \nL 3122 2828 \nQ 2878 2963 2633 3030 \nQ 2388 3097 2138 3097 \nQ 1578 3097 1268 2742 \nQ 959 2388 959 1747 \nQ 959 1106 1268 751 \nQ 1578 397 2138 397 \nQ 2388 397 2633 464 \nQ 2878 531 3122 666 \nL 3122 134 \nQ 2881 22 2623 -34 \nQ 2366 -91 2075 -91 \nQ 1284 -91 818 406 \nQ 353 903 353 1747 \nQ 353 2603 823 3093 \nQ 1294 3584 2113 3584 \nQ 2378 3584 2631 3529 \nQ 2884 3475 3122 3366 \nz\n\" transform=\"scale(0.015625)\"/>\n       <path id=\"DejaVuSans-68\" d=\"M 3513 2113 \nL 3513 0 \nL 2938 0 \nL 2938 2094 \nQ 2938 2591 2744 2837 \nQ 2550 3084 2163 3084 \nQ 1697 3084 1428 2787 \nQ 1159 2491 1159 1978 \nL 1159 0 \nL 581 0 \nL 581 4863 \nL 1159 4863 \nL 1159 2956 \nQ 1366 3272 1645 3428 \nQ 1925 3584 2291 3584 \nQ 2894 3584 3203 3211 \nQ 3513 2838 3513 2113 \nz\n\" transform=\"scale(0.015625)\"/>\n      </defs>\n      <use xlink:href=\"#DejaVuSans-65\"/>\n      <use xlink:href=\"#DejaVuSans-70\" x=\"61.523438\"/>\n      <use xlink:href=\"#DejaVuSans-6f\" x=\"125\"/>\n      <use xlink:href=\"#DejaVuSans-63\" x=\"186.181641\"/>\n      <use xlink:href=\"#DejaVuSans-68\" x=\"241.162109\"/>\n     </g>\n    </g>\n   </g>\n   <g id=\"matplotlib.axis_2\">\n    <g id=\"ytick_1\">\n     <g id=\"line2d_7\">\n      <defs>\n       <path id=\"m9b7abb686e\" d=\"M 0 0 \nL -3.5 0 \n\" style=\"stroke: #000000; stroke-width: 0.8\"/>\n      </defs>\n      <g>\n       <use xlink:href=\"#m9b7abb686e\" x=\"30.103125\" y=\"142.814021\" style=\"stroke: #000000; stroke-width: 0.8\"/>\n      </g>\n     </g>\n     <g id=\"text_8\">\n      <!-- 0.0 -->\n      <g transform=\"translate(7.2 146.61324) scale(0.1 -0.1)\">\n       <defs>\n        <path id=\"DejaVuSans-2e\" d=\"M 684 794 \nL 1344 794 \nL 1344 0 \nL 684 0 \nL 684 794 \nz\n\" transform=\"scale(0.015625)\"/>\n       </defs>\n       <use xlink:href=\"#DejaVuSans-30\"/>\n       <use xlink:href=\"#DejaVuSans-2e\" x=\"63.623047\"/>\n       <use xlink:href=\"#DejaVuSans-30\" x=\"95.410156\"/>\n      </g>\n     </g>\n    </g>\n    <g id=\"ytick_2\">\n     <g id=\"line2d_8\">\n      <g>\n       <use xlink:href=\"#m9b7abb686e\" x=\"30.103125\" y=\"114.53191\" style=\"stroke: #000000; stroke-width: 0.8\"/>\n      </g>\n     </g>\n     <g id=\"text_9\">\n      <!-- 0.2 -->\n      <g transform=\"translate(7.2 118.331129) scale(0.1 -0.1)\">\n       <use xlink:href=\"#DejaVuSans-30\"/>\n       <use xlink:href=\"#DejaVuSans-2e\" x=\"63.623047\"/>\n       <use xlink:href=\"#DejaVuSans-32\" x=\"95.410156\"/>\n      </g>\n     </g>\n    </g>\n    <g id=\"ytick_3\">\n     <g id=\"line2d_9\">\n      <g>\n       <use xlink:href=\"#m9b7abb686e\" x=\"30.103125\" y=\"86.2498\" style=\"stroke: #000000; stroke-width: 0.8\"/>\n      </g>\n     </g>\n     <g id=\"text_10\">\n      <!-- 0.4 -->\n      <g transform=\"translate(7.2 90.049019) scale(0.1 -0.1)\">\n       <use xlink:href=\"#DejaVuSans-30\"/>\n       <use xlink:href=\"#DejaVuSans-2e\" x=\"63.623047\"/>\n       <use xlink:href=\"#DejaVuSans-34\" x=\"95.410156\"/>\n      </g>\n     </g>\n    </g>\n    <g id=\"ytick_4\">\n     <g id=\"line2d_10\">\n      <g>\n       <use xlink:href=\"#m9b7abb686e\" x=\"30.103125\" y=\"57.967689\" style=\"stroke: #000000; stroke-width: 0.8\"/>\n      </g>\n     </g>\n     <g id=\"text_11\">\n      <!-- 0.6 -->\n      <g transform=\"translate(7.2 61.766908) scale(0.1 -0.1)\">\n       <use xlink:href=\"#DejaVuSans-30\"/>\n       <use xlink:href=\"#DejaVuSans-2e\" x=\"63.623047\"/>\n       <use xlink:href=\"#DejaVuSans-36\" x=\"95.410156\"/>\n      </g>\n     </g>\n    </g>\n    <g id=\"ytick_5\">\n     <g id=\"line2d_11\">\n      <g>\n       <use xlink:href=\"#m9b7abb686e\" x=\"30.103125\" y=\"29.685579\" style=\"stroke: #000000; stroke-width: 0.8\"/>\n      </g>\n     </g>\n     <g id=\"text_12\">\n      <!-- 0.8 -->\n      <g transform=\"translate(7.2 33.484798) scale(0.1 -0.1)\">\n       <use xlink:href=\"#DejaVuSans-30\"/>\n       <use xlink:href=\"#DejaVuSans-2e\" x=\"63.623047\"/>\n       <use xlink:href=\"#DejaVuSans-38\" x=\"95.410156\"/>\n      </g>\n     </g>\n    </g>\n   </g>\n   <g id=\"line2d_12\">\n    <path d=\"M 34.954394 64.298425 \n\" clip-path=\"url(#p331e73b934)\" style=\"fill: none; stroke: #1f77b4; stroke-width: 1.5; stroke-linecap: square\"/>\n   </g>\n   <g id=\"line2d_13\">\n    <path d=\"M 34.954394 64.298425 \nL 44.698573 95.468689 \n\" clip-path=\"url(#p331e73b934)\" style=\"fill: none; stroke: #1f77b4; stroke-width: 1.5; stroke-linecap: square\"/>\n   </g>\n   <g id=\"line2d_14\">\n    <path d=\"M 34.954394 64.298425 \nL 44.698573 95.468689 \n\" clip-path=\"url(#p331e73b934)\" style=\"fill: none; stroke: #1f77b4; stroke-width: 1.5; stroke-linecap: square\"/>\n   </g>\n   <g id=\"line2d_15\">\n    <path d=\"M 49.633125 94.440587 \n\" clip-path=\"url(#p331e73b934)\" style=\"fill: none; stroke-dasharray: 5.55,2.4; stroke-dashoffset: 0; stroke: #ff7f0e; stroke-width: 1.5\"/>\n   </g>\n   <g id=\"line2d_16\"/>\n   <g id=\"line2d_17\">\n    <path d=\"M 34.954394 64.298425 \nL 44.698573 95.468689 \n\" clip-path=\"url(#p331e73b934)\" style=\"fill: none; stroke: #1f77b4; stroke-width: 1.5; stroke-linecap: square\"/>\n   </g>\n   <g id=\"line2d_18\">\n    <path d=\"M 49.633125 94.440587 \n\" clip-path=\"url(#p331e73b934)\" style=\"fill: none; stroke-dasharray: 5.55,2.4; stroke-dashoffset: 0; stroke: #ff7f0e; stroke-width: 1.5\"/>\n   </g>\n   <g id=\"line2d_19\">\n    <path d=\"M 49.633125 18.953928 \n\" clip-path=\"url(#p331e73b934)\" style=\"fill: none; stroke-dasharray: 9.6,2.4,1.5,2.4; stroke-dashoffset: 0; stroke: #2ca02c; stroke-width: 1.5\"/>\n   </g>\n   <g id=\"line2d_20\">\n    <path d=\"M 34.954394 64.298425 \nL 44.698573 95.468689 \nL 54.442752 104.552087 \n\" clip-path=\"url(#p331e73b934)\" style=\"fill: none; stroke: #1f77b4; stroke-width: 1.5; stroke-linecap: square\"/>\n   </g>\n   <g id=\"line2d_21\">\n    <path d=\"M 49.633125 94.440587 \n\" clip-path=\"url(#p331e73b934)\" style=\"fill: none; stroke-dasharray: 5.55,2.4; stroke-dashoffset: 0; stroke: #ff7f0e; stroke-width: 1.5\"/>\n   </g>\n   <g id=\"line2d_22\">\n    <path d=\"M 49.633125 18.953928 \n\" clip-path=\"url(#p331e73b934)\" style=\"fill: none; stroke-dasharray: 9.6,2.4,1.5,2.4; stroke-dashoffset: 0; stroke: #2ca02c; stroke-width: 1.5\"/>\n   </g>\n   <g id=\"line2d_23\">\n    <path d=\"M 34.954394 64.298425 \nL 44.698573 95.468689 \nL 54.442752 104.552087 \nL 64.186931 106.271497 \n\" clip-path=\"url(#p331e73b934)\" style=\"fill: none; stroke: #1f77b4; stroke-width: 1.5; stroke-linecap: square\"/>\n   </g>\n   <g id=\"line2d_24\">\n    <path d=\"M 49.633125 94.440587 \n\" clip-path=\"url(#p331e73b934)\" style=\"fill: none; stroke-dasharray: 5.55,2.4; stroke-dashoffset: 0; stroke: #ff7f0e; stroke-width: 1.5\"/>\n   </g>\n   <g id=\"line2d_25\">\n    <path d=\"M 49.633125 18.953928 \n\" clip-path=\"url(#p331e73b934)\" style=\"fill: none; stroke-dasharray: 9.6,2.4,1.5,2.4; stroke-dashoffset: 0; stroke: #2ca02c; stroke-width: 1.5\"/>\n   </g>\n   <g id=\"line2d_26\">\n    <path d=\"M 34.954394 64.298425 \nL 44.698573 95.468689 \nL 54.442752 104.552087 \nL 64.186931 106.271497 \n\" clip-path=\"url(#p331e73b934)\" style=\"fill: none; stroke: #1f77b4; stroke-width: 1.5; stroke-linecap: square\"/>\n   </g>\n   <g id=\"line2d_27\">\n    <path d=\"M 49.633125 94.440587 \nL 69.163125 99.890283 \n\" clip-path=\"url(#p331e73b934)\" style=\"fill: none; stroke-dasharray: 5.55,2.4; stroke-dashoffset: 0; stroke: #ff7f0e; stroke-width: 1.5\"/>\n   </g>\n   <g id=\"line2d_28\">\n    <path d=\"M 49.633125 18.953928 \n\" clip-path=\"url(#p331e73b934)\" style=\"fill: none; stroke-dasharray: 9.6,2.4,1.5,2.4; stroke-dashoffset: 0; stroke: #2ca02c; stroke-width: 1.5\"/>\n   </g>\n   <g id=\"line2d_29\">\n    <path d=\"M 34.954394 64.298425 \nL 44.698573 95.468689 \nL 54.442752 104.552087 \nL 64.186931 106.271497 \n\" clip-path=\"url(#p331e73b934)\" style=\"fill: none; stroke: #1f77b4; stroke-width: 1.5; stroke-linecap: square\"/>\n   </g>\n   <g id=\"line2d_30\">\n    <path d=\"M 49.633125 94.440587 \nL 69.163125 99.890283 \n\" clip-path=\"url(#p331e73b934)\" style=\"fill: none; stroke-dasharray: 5.55,2.4; stroke-dashoffset: 0; stroke: #ff7f0e; stroke-width: 1.5\"/>\n   </g>\n   <g id=\"line2d_31\">\n    <path d=\"M 49.633125 18.953928 \nL 69.163125 16.954154 \n\" clip-path=\"url(#p331e73b934)\" style=\"fill: none; stroke-dasharray: 9.6,2.4,1.5,2.4; stroke-dashoffset: 0; stroke: #2ca02c; stroke-width: 1.5\"/>\n   </g>\n   <g id=\"line2d_32\">\n    <path d=\"M 34.954394 64.298425 \nL 44.698573 95.468689 \nL 54.442752 104.552087 \nL 64.186931 106.271497 \nL 73.93111 113.175595 \n\" clip-path=\"url(#p331e73b934)\" style=\"fill: none; stroke: #1f77b4; stroke-width: 1.5; stroke-linecap: square\"/>\n   </g>\n   <g id=\"line2d_33\">\n    <path d=\"M 49.633125 94.440587 \nL 69.163125 99.890283 \n\" clip-path=\"url(#p331e73b934)\" style=\"fill: none; stroke-dasharray: 5.55,2.4; stroke-dashoffset: 0; stroke: #ff7f0e; stroke-width: 1.5\"/>\n   </g>\n   <g id=\"line2d_34\">\n    <path d=\"M 49.633125 18.953928 \nL 69.163125 16.954154 \n\" clip-path=\"url(#p331e73b934)\" style=\"fill: none; stroke-dasharray: 9.6,2.4,1.5,2.4; stroke-dashoffset: 0; stroke: #2ca02c; stroke-width: 1.5\"/>\n   </g>\n   <g id=\"line2d_35\">\n    <path d=\"M 34.954394 64.298425 \nL 44.698573 95.468689 \nL 54.442752 104.552087 \nL 64.186931 106.271497 \nL 73.93111 113.175595 \nL 83.675289 113.583491 \n\" clip-path=\"url(#p331e73b934)\" style=\"fill: none; stroke: #1f77b4; stroke-width: 1.5; stroke-linecap: square\"/>\n   </g>\n   <g id=\"line2d_36\">\n    <path d=\"M 49.633125 94.440587 \nL 69.163125 99.890283 \n\" clip-path=\"url(#p331e73b934)\" style=\"fill: none; stroke-dasharray: 5.55,2.4; stroke-dashoffset: 0; stroke: #ff7f0e; stroke-width: 1.5\"/>\n   </g>\n   <g id=\"line2d_37\">\n    <path d=\"M 49.633125 18.953928 \nL 69.163125 16.954154 \n\" clip-path=\"url(#p331e73b934)\" style=\"fill: none; stroke-dasharray: 9.6,2.4,1.5,2.4; stroke-dashoffset: 0; stroke: #2ca02c; stroke-width: 1.5\"/>\n   </g>\n   <g id=\"line2d_38\">\n    <path d=\"M 34.954394 64.298425 \nL 44.698573 95.468689 \nL 54.442752 104.552087 \nL 64.186931 106.271497 \nL 73.93111 113.175595 \nL 83.675289 113.583491 \n\" clip-path=\"url(#p331e73b934)\" style=\"fill: none; stroke: #1f77b4; stroke-width: 1.5; stroke-linecap: square\"/>\n   </g>\n   <g id=\"line2d_39\">\n    <path d=\"M 49.633125 94.440587 \nL 69.163125 99.890283 \nL 88.693125 105.274134 \n\" clip-path=\"url(#p331e73b934)\" style=\"fill: none; stroke-dasharray: 5.55,2.4; stroke-dashoffset: 0; stroke: #ff7f0e; stroke-width: 1.5\"/>\n   </g>\n   <g id=\"line2d_40\">\n    <path d=\"M 49.633125 18.953928 \nL 69.163125 16.954154 \n\" clip-path=\"url(#p331e73b934)\" style=\"fill: none; stroke-dasharray: 9.6,2.4,1.5,2.4; stroke-dashoffset: 0; stroke: #2ca02c; stroke-width: 1.5\"/>\n   </g>\n   <g id=\"line2d_41\">\n    <path d=\"M 34.954394 64.298425 \nL 44.698573 95.468689 \nL 54.442752 104.552087 \nL 64.186931 106.271497 \nL 73.93111 113.175595 \nL 83.675289 113.583491 \n\" clip-path=\"url(#p331e73b934)\" style=\"fill: none; stroke: #1f77b4; stroke-width: 1.5; stroke-linecap: square\"/>\n   </g>\n   <g id=\"line2d_42\">\n    <path d=\"M 49.633125 94.440587 \nL 69.163125 99.890283 \nL 88.693125 105.274134 \n\" clip-path=\"url(#p331e73b934)\" style=\"fill: none; stroke-dasharray: 5.55,2.4; stroke-dashoffset: 0; stroke: #ff7f0e; stroke-width: 1.5\"/>\n   </g>\n   <g id=\"line2d_43\">\n    <path d=\"M 49.633125 18.953928 \nL 69.163125 16.954154 \nL 88.693125 15.2061 \n\" clip-path=\"url(#p331e73b934)\" style=\"fill: none; stroke-dasharray: 9.6,2.4,1.5,2.4; stroke-dashoffset: 0; stroke: #2ca02c; stroke-width: 1.5\"/>\n   </g>\n   <g id=\"line2d_44\">\n    <path d=\"M 34.954394 64.298425 \nL 44.698573 95.468689 \nL 54.442752 104.552087 \nL 64.186931 106.271497 \nL 73.93111 113.175595 \nL 83.675289 113.583491 \nL 93.419468 119.463353 \n\" clip-path=\"url(#p331e73b934)\" style=\"fill: none; stroke: #1f77b4; stroke-width: 1.5; stroke-linecap: square\"/>\n   </g>\n   <g id=\"line2d_45\">\n    <path d=\"M 49.633125 94.440587 \nL 69.163125 99.890283 \nL 88.693125 105.274134 \n\" clip-path=\"url(#p331e73b934)\" style=\"fill: none; stroke-dasharray: 5.55,2.4; stroke-dashoffset: 0; stroke: #ff7f0e; stroke-width: 1.5\"/>\n   </g>\n   <g id=\"line2d_46\">\n    <path d=\"M 49.633125 18.953928 \nL 69.163125 16.954154 \nL 88.693125 15.2061 \n\" clip-path=\"url(#p331e73b934)\" style=\"fill: none; stroke-dasharray: 9.6,2.4,1.5,2.4; stroke-dashoffset: 0; stroke: #2ca02c; stroke-width: 1.5\"/>\n   </g>\n   <g id=\"line2d_47\">\n    <path d=\"M 34.954394 64.298425 \nL 44.698573 95.468689 \nL 54.442752 104.552087 \nL 64.186931 106.271497 \nL 73.93111 113.175595 \nL 83.675289 113.583491 \nL 93.419468 119.463353 \nL 103.163647 119.395958 \n\" clip-path=\"url(#p331e73b934)\" style=\"fill: none; stroke: #1f77b4; stroke-width: 1.5; stroke-linecap: square\"/>\n   </g>\n   <g id=\"line2d_48\">\n    <path d=\"M 49.633125 94.440587 \nL 69.163125 99.890283 \nL 88.693125 105.274134 \n\" clip-path=\"url(#p331e73b934)\" style=\"fill: none; stroke-dasharray: 5.55,2.4; stroke-dashoffset: 0; stroke: #ff7f0e; stroke-width: 1.5\"/>\n   </g>\n   <g id=\"line2d_49\">\n    <path d=\"M 49.633125 18.953928 \nL 69.163125 16.954154 \nL 88.693125 15.2061 \n\" clip-path=\"url(#p331e73b934)\" style=\"fill: none; stroke-dasharray: 9.6,2.4,1.5,2.4; stroke-dashoffset: 0; stroke: #2ca02c; stroke-width: 1.5\"/>\n   </g>\n   <g id=\"line2d_50\">\n    <path d=\"M 34.954394 64.298425 \nL 44.698573 95.468689 \nL 54.442752 104.552087 \nL 64.186931 106.271497 \nL 73.93111 113.175595 \nL 83.675289 113.583491 \nL 93.419468 119.463353 \nL 103.163647 119.395958 \n\" clip-path=\"url(#p331e73b934)\" style=\"fill: none; stroke: #1f77b4; stroke-width: 1.5; stroke-linecap: square\"/>\n   </g>\n   <g id=\"line2d_51\">\n    <path d=\"M 49.633125 94.440587 \nL 69.163125 99.890283 \nL 88.693125 105.274134 \nL 108.223125 98.573199 \n\" clip-path=\"url(#p331e73b934)\" style=\"fill: none; stroke-dasharray: 5.55,2.4; stroke-dashoffset: 0; stroke: #ff7f0e; stroke-width: 1.5\"/>\n   </g>\n   <g id=\"line2d_52\">\n    <path d=\"M 49.633125 18.953928 \nL 69.163125 16.954154 \nL 88.693125 15.2061 \n\" clip-path=\"url(#p331e73b934)\" style=\"fill: none; stroke-dasharray: 9.6,2.4,1.5,2.4; stroke-dashoffset: 0; stroke: #2ca02c; stroke-width: 1.5\"/>\n   </g>\n   <g id=\"line2d_53\">\n    <path d=\"M 34.954394 64.298425 \nL 44.698573 95.468689 \nL 54.442752 104.552087 \nL 64.186931 106.271497 \nL 73.93111 113.175595 \nL 83.675289 113.583491 \nL 93.419468 119.463353 \nL 103.163647 119.395958 \n\" clip-path=\"url(#p331e73b934)\" style=\"fill: none; stroke: #1f77b4; stroke-width: 1.5; stroke-linecap: square\"/>\n   </g>\n   <g id=\"line2d_54\">\n    <path d=\"M 49.633125 94.440587 \nL 69.163125 99.890283 \nL 88.693125 105.274134 \nL 108.223125 98.573199 \n\" clip-path=\"url(#p331e73b934)\" style=\"fill: none; stroke-dasharray: 5.55,2.4; stroke-dashoffset: 0; stroke: #ff7f0e; stroke-width: 1.5\"/>\n   </g>\n   <g id=\"line2d_55\">\n    <path d=\"M 49.633125 18.953928 \nL 69.163125 16.954154 \nL 88.693125 15.2061 \nL 108.223125 17.457594 \n\" clip-path=\"url(#p331e73b934)\" style=\"fill: none; stroke-dasharray: 9.6,2.4,1.5,2.4; stroke-dashoffset: 0; stroke: #2ca02c; stroke-width: 1.5\"/>\n   </g>\n   <g id=\"line2d_56\">\n    <path d=\"M 34.954394 64.298425 \nL 44.698573 95.468689 \nL 54.442752 104.552087 \nL 64.186931 106.271497 \nL 73.93111 113.175595 \nL 83.675289 113.583491 \nL 93.419468 119.463353 \nL 103.163647 119.395958 \nL 112.907826 124.96047 \n\" clip-path=\"url(#p331e73b934)\" style=\"fill: none; stroke: #1f77b4; stroke-width: 1.5; stroke-linecap: square\"/>\n   </g>\n   <g id=\"line2d_57\">\n    <path d=\"M 49.633125 94.440587 \nL 69.163125 99.890283 \nL 88.693125 105.274134 \nL 108.223125 98.573199 \n\" clip-path=\"url(#p331e73b934)\" style=\"fill: none; stroke-dasharray: 5.55,2.4; stroke-dashoffset: 0; stroke: #ff7f0e; stroke-width: 1.5\"/>\n   </g>\n   <g id=\"line2d_58\">\n    <path d=\"M 49.633125 18.953928 \nL 69.163125 16.954154 \nL 88.693125 15.2061 \nL 108.223125 17.457594 \n\" clip-path=\"url(#p331e73b934)\" style=\"fill: none; stroke-dasharray: 9.6,2.4,1.5,2.4; stroke-dashoffset: 0; stroke: #2ca02c; stroke-width: 1.5\"/>\n   </g>\n   <g id=\"line2d_59\">\n    <path d=\"M 34.954394 64.298425 \nL 44.698573 95.468689 \nL 54.442752 104.552087 \nL 64.186931 106.271497 \nL 73.93111 113.175595 \nL 83.675289 113.583491 \nL 93.419468 119.463353 \nL 103.163647 119.395958 \nL 112.907826 124.96047 \nL 122.652006 123.820301 \n\" clip-path=\"url(#p331e73b934)\" style=\"fill: none; stroke: #1f77b4; stroke-width: 1.5; stroke-linecap: square\"/>\n   </g>\n   <g id=\"line2d_60\">\n    <path d=\"M 49.633125 94.440587 \nL 69.163125 99.890283 \nL 88.693125 105.274134 \nL 108.223125 98.573199 \n\" clip-path=\"url(#p331e73b934)\" style=\"fill: none; stroke-dasharray: 5.55,2.4; stroke-dashoffset: 0; stroke: #ff7f0e; stroke-width: 1.5\"/>\n   </g>\n   <g id=\"line2d_61\">\n    <path d=\"M 49.633125 18.953928 \nL 69.163125 16.954154 \nL 88.693125 15.2061 \nL 108.223125 17.457594 \n\" clip-path=\"url(#p331e73b934)\" style=\"fill: none; stroke-dasharray: 9.6,2.4,1.5,2.4; stroke-dashoffset: 0; stroke: #2ca02c; stroke-width: 1.5\"/>\n   </g>\n   <g id=\"line2d_62\">\n    <path d=\"M 34.954394 64.298425 \nL 44.698573 95.468689 \nL 54.442752 104.552087 \nL 64.186931 106.271497 \nL 73.93111 113.175595 \nL 83.675289 113.583491 \nL 93.419468 119.463353 \nL 103.163647 119.395958 \nL 112.907826 124.96047 \nL 122.652006 123.820301 \n\" clip-path=\"url(#p331e73b934)\" style=\"fill: none; stroke: #1f77b4; stroke-width: 1.5; stroke-linecap: square\"/>\n   </g>\n   <g id=\"line2d_63\">\n    <path d=\"M 49.633125 94.440587 \nL 69.163125 99.890283 \nL 88.693125 105.274134 \nL 108.223125 98.573199 \nL 127.753125 105.994151 \n\" clip-path=\"url(#p331e73b934)\" style=\"fill: none; stroke-dasharray: 5.55,2.4; stroke-dashoffset: 0; stroke: #ff7f0e; stroke-width: 1.5\"/>\n   </g>\n   <g id=\"line2d_64\">\n    <path d=\"M 49.633125 18.953928 \nL 69.163125 16.954154 \nL 88.693125 15.2061 \nL 108.223125 17.457594 \n\" clip-path=\"url(#p331e73b934)\" style=\"fill: none; stroke-dasharray: 9.6,2.4,1.5,2.4; stroke-dashoffset: 0; stroke: #2ca02c; stroke-width: 1.5\"/>\n   </g>\n   <g id=\"line2d_65\">\n    <path d=\"M 34.954394 64.298425 \nL 44.698573 95.468689 \nL 54.442752 104.552087 \nL 64.186931 106.271497 \nL 73.93111 113.175595 \nL 83.675289 113.583491 \nL 93.419468 119.463353 \nL 103.163647 119.395958 \nL 112.907826 124.96047 \nL 122.652006 123.820301 \n\" clip-path=\"url(#p331e73b934)\" style=\"fill: none; stroke: #1f77b4; stroke-width: 1.5; stroke-linecap: square\"/>\n   </g>\n   <g id=\"line2d_66\">\n    <path d=\"M 49.633125 94.440587 \nL 69.163125 99.890283 \nL 88.693125 105.274134 \nL 108.223125 98.573199 \nL 127.753125 105.994151 \n\" clip-path=\"url(#p331e73b934)\" style=\"fill: none; stroke-dasharray: 5.55,2.4; stroke-dashoffset: 0; stroke: #ff7f0e; stroke-width: 1.5\"/>\n   </g>\n   <g id=\"line2d_67\">\n    <path d=\"M 49.633125 18.953928 \nL 69.163125 16.954154 \nL 88.693125 15.2061 \nL 108.223125 17.457594 \nL 127.753125 13.919533 \n\" clip-path=\"url(#p331e73b934)\" style=\"fill: none; stroke-dasharray: 9.6,2.4,1.5,2.4; stroke-dashoffset: 0; stroke: #2ca02c; stroke-width: 1.5\"/>\n   </g>\n   <g id=\"line2d_68\">\n    <path d=\"M 34.954394 64.298425 \nL 44.698573 95.468689 \nL 54.442752 104.552087 \nL 64.186931 106.271497 \nL 73.93111 113.175595 \nL 83.675289 113.583491 \nL 93.419468 119.463353 \nL 103.163647 119.395958 \nL 112.907826 124.96047 \nL 122.652006 123.820301 \nL 132.396185 129.565284 \n\" clip-path=\"url(#p331e73b934)\" style=\"fill: none; stroke: #1f77b4; stroke-width: 1.5; stroke-linecap: square\"/>\n   </g>\n   <g id=\"line2d_69\">\n    <path d=\"M 49.633125 94.440587 \nL 69.163125 99.890283 \nL 88.693125 105.274134 \nL 108.223125 98.573199 \nL 127.753125 105.994151 \n\" clip-path=\"url(#p331e73b934)\" style=\"fill: none; stroke-dasharray: 5.55,2.4; stroke-dashoffset: 0; stroke: #ff7f0e; stroke-width: 1.5\"/>\n   </g>\n   <g id=\"line2d_70\">\n    <path d=\"M 49.633125 18.953928 \nL 69.163125 16.954154 \nL 88.693125 15.2061 \nL 108.223125 17.457594 \nL 127.753125 13.919533 \n\" clip-path=\"url(#p331e73b934)\" style=\"fill: none; stroke-dasharray: 9.6,2.4,1.5,2.4; stroke-dashoffset: 0; stroke: #2ca02c; stroke-width: 1.5\"/>\n   </g>\n   <g id=\"line2d_71\">\n    <path d=\"M 34.954394 64.298425 \nL 44.698573 95.468689 \nL 54.442752 104.552087 \nL 64.186931 106.271497 \nL 73.93111 113.175595 \nL 83.675289 113.583491 \nL 93.419468 119.463353 \nL 103.163647 119.395958 \nL 112.907826 124.96047 \nL 122.652006 123.820301 \nL 132.396185 129.565284 \nL 142.140364 128.047832 \n\" clip-path=\"url(#p331e73b934)\" style=\"fill: none; stroke: #1f77b4; stroke-width: 1.5; stroke-linecap: square\"/>\n   </g>\n   <g id=\"line2d_72\">\n    <path d=\"M 49.633125 94.440587 \nL 69.163125 99.890283 \nL 88.693125 105.274134 \nL 108.223125 98.573199 \nL 127.753125 105.994151 \n\" clip-path=\"url(#p331e73b934)\" style=\"fill: none; stroke-dasharray: 5.55,2.4; stroke-dashoffset: 0; stroke: #ff7f0e; stroke-width: 1.5\"/>\n   </g>\n   <g id=\"line2d_73\">\n    <path d=\"M 49.633125 18.953928 \nL 69.163125 16.954154 \nL 88.693125 15.2061 \nL 108.223125 17.457594 \nL 127.753125 13.919533 \n\" clip-path=\"url(#p331e73b934)\" style=\"fill: none; stroke-dasharray: 9.6,2.4,1.5,2.4; stroke-dashoffset: 0; stroke: #2ca02c; stroke-width: 1.5\"/>\n   </g>\n   <g id=\"line2d_74\">\n    <path d=\"M 34.954394 64.298425 \nL 44.698573 95.468689 \nL 54.442752 104.552087 \nL 64.186931 106.271497 \nL 73.93111 113.175595 \nL 83.675289 113.583491 \nL 93.419468 119.463353 \nL 103.163647 119.395958 \nL 112.907826 124.96047 \nL 122.652006 123.820301 \nL 132.396185 129.565284 \nL 142.140364 128.047832 \n\" clip-path=\"url(#p331e73b934)\" style=\"fill: none; stroke: #1f77b4; stroke-width: 1.5; stroke-linecap: square\"/>\n   </g>\n   <g id=\"line2d_75\">\n    <path d=\"M 49.633125 94.440587 \nL 69.163125 99.890283 \nL 88.693125 105.274134 \nL 108.223125 98.573199 \nL 127.753125 105.994151 \nL 147.283125 97.405271 \n\" clip-path=\"url(#p331e73b934)\" style=\"fill: none; stroke-dasharray: 5.55,2.4; stroke-dashoffset: 0; stroke: #ff7f0e; stroke-width: 1.5\"/>\n   </g>\n   <g id=\"line2d_76\">\n    <path d=\"M 49.633125 18.953928 \nL 69.163125 16.954154 \nL 88.693125 15.2061 \nL 108.223125 17.457594 \nL 127.753125 13.919533 \n\" clip-path=\"url(#p331e73b934)\" style=\"fill: none; stroke-dasharray: 9.6,2.4,1.5,2.4; stroke-dashoffset: 0; stroke: #2ca02c; stroke-width: 1.5\"/>\n   </g>\n   <g id=\"line2d_77\">\n    <path d=\"M 34.954394 64.298425 \nL 44.698573 95.468689 \nL 54.442752 104.552087 \nL 64.186931 106.271497 \nL 73.93111 113.175595 \nL 83.675289 113.583491 \nL 93.419468 119.463353 \nL 103.163647 119.395958 \nL 112.907826 124.96047 \nL 122.652006 123.820301 \nL 132.396185 129.565284 \nL 142.140364 128.047832 \n\" clip-path=\"url(#p331e73b934)\" style=\"fill: none; stroke: #1f77b4; stroke-width: 1.5; stroke-linecap: square\"/>\n   </g>\n   <g id=\"line2d_78\">\n    <path d=\"M 49.633125 94.440587 \nL 69.163125 99.890283 \nL 88.693125 105.274134 \nL 108.223125 98.573199 \nL 127.753125 105.994151 \nL 147.283125 97.405271 \n\" clip-path=\"url(#p331e73b934)\" style=\"fill: none; stroke-dasharray: 5.55,2.4; stroke-dashoffset: 0; stroke: #ff7f0e; stroke-width: 1.5\"/>\n   </g>\n   <g id=\"line2d_79\">\n    <path d=\"M 49.633125 18.953928 \nL 69.163125 16.954154 \nL 88.693125 15.2061 \nL 108.223125 17.457594 \nL 127.753125 13.919533 \nL 147.283125 16.031182 \n\" clip-path=\"url(#p331e73b934)\" style=\"fill: none; stroke-dasharray: 9.6,2.4,1.5,2.4; stroke-dashoffset: 0; stroke: #2ca02c; stroke-width: 1.5\"/>\n   </g>\n   <g id=\"line2d_80\">\n    <path d=\"M 34.954394 64.298425 \nL 44.698573 95.468689 \nL 54.442752 104.552087 \nL 64.186931 106.271497 \nL 73.93111 113.175595 \nL 83.675289 113.583491 \nL 93.419468 119.463353 \nL 103.163647 119.395958 \nL 112.907826 124.96047 \nL 122.652006 123.820301 \nL 132.396185 129.565284 \nL 142.140364 128.047832 \nL 151.884543 133.450922 \n\" clip-path=\"url(#p331e73b934)\" style=\"fill: none; stroke: #1f77b4; stroke-width: 1.5; stroke-linecap: square\"/>\n   </g>\n   <g id=\"line2d_81\">\n    <path d=\"M 49.633125 94.440587 \nL 69.163125 99.890283 \nL 88.693125 105.274134 \nL 108.223125 98.573199 \nL 127.753125 105.994151 \nL 147.283125 97.405271 \n\" clip-path=\"url(#p331e73b934)\" style=\"fill: none; stroke-dasharray: 5.55,2.4; stroke-dashoffset: 0; stroke: #ff7f0e; stroke-width: 1.5\"/>\n   </g>\n   <g id=\"line2d_82\">\n    <path d=\"M 49.633125 18.953928 \nL 69.163125 16.954154 \nL 88.693125 15.2061 \nL 108.223125 17.457594 \nL 127.753125 13.919533 \nL 147.283125 16.031182 \n\" clip-path=\"url(#p331e73b934)\" style=\"fill: none; stroke-dasharray: 9.6,2.4,1.5,2.4; stroke-dashoffset: 0; stroke: #2ca02c; stroke-width: 1.5\"/>\n   </g>\n   <g id=\"line2d_83\">\n    <path d=\"M 34.954394 64.298425 \nL 44.698573 95.468689 \nL 54.442752 104.552087 \nL 64.186931 106.271497 \nL 73.93111 113.175595 \nL 83.675289 113.583491 \nL 93.419468 119.463353 \nL 103.163647 119.395958 \nL 112.907826 124.96047 \nL 122.652006 123.820301 \nL 132.396185 129.565284 \nL 142.140364 128.047832 \nL 151.884543 133.450922 \nL 161.628722 131.226227 \n\" clip-path=\"url(#p331e73b934)\" style=\"fill: none; stroke: #1f77b4; stroke-width: 1.5; stroke-linecap: square\"/>\n   </g>\n   <g id=\"line2d_84\">\n    <path d=\"M 49.633125 94.440587 \nL 69.163125 99.890283 \nL 88.693125 105.274134 \nL 108.223125 98.573199 \nL 127.753125 105.994151 \nL 147.283125 97.405271 \n\" clip-path=\"url(#p331e73b934)\" style=\"fill: none; stroke-dasharray: 5.55,2.4; stroke-dashoffset: 0; stroke: #ff7f0e; stroke-width: 1.5\"/>\n   </g>\n   <g id=\"line2d_85\">\n    <path d=\"M 49.633125 18.953928 \nL 69.163125 16.954154 \nL 88.693125 15.2061 \nL 108.223125 17.457594 \nL 127.753125 13.919533 \nL 147.283125 16.031182 \n\" clip-path=\"url(#p331e73b934)\" style=\"fill: none; stroke-dasharray: 9.6,2.4,1.5,2.4; stroke-dashoffset: 0; stroke: #2ca02c; stroke-width: 1.5\"/>\n   </g>\n   <g id=\"line2d_86\">\n    <path d=\"M 34.954394 64.298425 \nL 44.698573 95.468689 \nL 54.442752 104.552087 \nL 64.186931 106.271497 \nL 73.93111 113.175595 \nL 83.675289 113.583491 \nL 93.419468 119.463353 \nL 103.163647 119.395958 \nL 112.907826 124.96047 \nL 122.652006 123.820301 \nL 132.396185 129.565284 \nL 142.140364 128.047832 \nL 151.884543 133.450922 \nL 161.628722 131.226227 \n\" clip-path=\"url(#p331e73b934)\" style=\"fill: none; stroke: #1f77b4; stroke-width: 1.5; stroke-linecap: square\"/>\n   </g>\n   <g id=\"line2d_87\">\n    <path d=\"M 49.633125 94.440587 \nL 69.163125 99.890283 \nL 88.693125 105.274134 \nL 108.223125 98.573199 \nL 127.753125 105.994151 \nL 147.283125 97.405271 \nL 166.813125 92.855321 \n\" clip-path=\"url(#p331e73b934)\" style=\"fill: none; stroke-dasharray: 5.55,2.4; stroke-dashoffset: 0; stroke: #ff7f0e; stroke-width: 1.5\"/>\n   </g>\n   <g id=\"line2d_88\">\n    <path d=\"M 49.633125 18.953928 \nL 69.163125 16.954154 \nL 88.693125 15.2061 \nL 108.223125 17.457594 \nL 127.753125 13.919533 \nL 147.283125 16.031182 \n\" clip-path=\"url(#p331e73b934)\" style=\"fill: none; stroke-dasharray: 9.6,2.4,1.5,2.4; stroke-dashoffset: 0; stroke: #2ca02c; stroke-width: 1.5\"/>\n   </g>\n   <g id=\"line2d_89\">\n    <path d=\"M 34.954394 64.298425 \nL 44.698573 95.468689 \nL 54.442752 104.552087 \nL 64.186931 106.271497 \nL 73.93111 113.175595 \nL 83.675289 113.583491 \nL 93.419468 119.463353 \nL 103.163647 119.395958 \nL 112.907826 124.96047 \nL 122.652006 123.820301 \nL 132.396185 129.565284 \nL 142.140364 128.047832 \nL 151.884543 133.450922 \nL 161.628722 131.226227 \n\" clip-path=\"url(#p331e73b934)\" style=\"fill: none; stroke: #1f77b4; stroke-width: 1.5; stroke-linecap: square\"/>\n   </g>\n   <g id=\"line2d_90\">\n    <path d=\"M 49.633125 94.440587 \nL 69.163125 99.890283 \nL 88.693125 105.274134 \nL 108.223125 98.573199 \nL 127.753125 105.994151 \nL 147.283125 97.405271 \nL 166.813125 92.855321 \n\" clip-path=\"url(#p331e73b934)\" style=\"fill: none; stroke-dasharray: 5.55,2.4; stroke-dashoffset: 0; stroke: #ff7f0e; stroke-width: 1.5\"/>\n   </g>\n   <g id=\"line2d_91\">\n    <path d=\"M 49.633125 18.953928 \nL 69.163125 16.954154 \nL 88.693125 15.2061 \nL 108.223125 17.457594 \nL 127.753125 13.919533 \nL 147.283125 16.031182 \nL 166.813125 17.79322 \n\" clip-path=\"url(#p331e73b934)\" style=\"fill: none; stroke-dasharray: 9.6,2.4,1.5,2.4; stroke-dashoffset: 0; stroke: #2ca02c; stroke-width: 1.5\"/>\n   </g>\n   <g id=\"line2d_92\">\n    <path d=\"M 34.954394 64.298425 \nL 44.698573 95.468689 \nL 54.442752 104.552087 \nL 64.186931 106.271497 \nL 73.93111 113.175595 \nL 83.675289 113.583491 \nL 93.419468 119.463353 \nL 103.163647 119.395958 \nL 112.907826 124.96047 \nL 122.652006 123.820301 \nL 132.396185 129.565284 \nL 142.140364 128.047832 \nL 151.884543 133.450922 \nL 161.628722 131.226227 \nL 171.372901 135.491611 \n\" clip-path=\"url(#p331e73b934)\" style=\"fill: none; stroke: #1f77b4; stroke-width: 1.5; stroke-linecap: square\"/>\n   </g>\n   <g id=\"line2d_93\">\n    <path d=\"M 49.633125 94.440587 \nL 69.163125 99.890283 \nL 88.693125 105.274134 \nL 108.223125 98.573199 \nL 127.753125 105.994151 \nL 147.283125 97.405271 \nL 166.813125 92.855321 \n\" clip-path=\"url(#p331e73b934)\" style=\"fill: none; stroke-dasharray: 5.55,2.4; stroke-dashoffset: 0; stroke: #ff7f0e; stroke-width: 1.5\"/>\n   </g>\n   <g id=\"line2d_94\">\n    <path d=\"M 49.633125 18.953928 \nL 69.163125 16.954154 \nL 88.693125 15.2061 \nL 108.223125 17.457594 \nL 127.753125 13.919533 \nL 147.283125 16.031182 \nL 166.813125 17.79322 \n\" clip-path=\"url(#p331e73b934)\" style=\"fill: none; stroke-dasharray: 9.6,2.4,1.5,2.4; stroke-dashoffset: 0; stroke: #2ca02c; stroke-width: 1.5\"/>\n   </g>\n   <g id=\"line2d_95\">\n    <path d=\"M 34.954394 64.298425 \nL 44.698573 95.468689 \nL 54.442752 104.552087 \nL 64.186931 106.271497 \nL 73.93111 113.175595 \nL 83.675289 113.583491 \nL 93.419468 119.463353 \nL 103.163647 119.395958 \nL 112.907826 124.96047 \nL 122.652006 123.820301 \nL 132.396185 129.565284 \nL 142.140364 128.047832 \nL 151.884543 133.450922 \nL 161.628722 131.226227 \nL 171.372901 135.491611 \nL 181.11708 135.07428 \n\" clip-path=\"url(#p331e73b934)\" style=\"fill: none; stroke: #1f77b4; stroke-width: 1.5; stroke-linecap: square\"/>\n   </g>\n   <g id=\"line2d_96\">\n    <path d=\"M 49.633125 94.440587 \nL 69.163125 99.890283 \nL 88.693125 105.274134 \nL 108.223125 98.573199 \nL 127.753125 105.994151 \nL 147.283125 97.405271 \nL 166.813125 92.855321 \n\" clip-path=\"url(#p331e73b934)\" style=\"fill: none; stroke-dasharray: 5.55,2.4; stroke-dashoffset: 0; stroke: #ff7f0e; stroke-width: 1.5\"/>\n   </g>\n   <g id=\"line2d_97\">\n    <path d=\"M 49.633125 18.953928 \nL 69.163125 16.954154 \nL 88.693125 15.2061 \nL 108.223125 17.457594 \nL 127.753125 13.919533 \nL 147.283125 16.031182 \nL 166.813125 17.79322 \n\" clip-path=\"url(#p331e73b934)\" style=\"fill: none; stroke-dasharray: 9.6,2.4,1.5,2.4; stroke-dashoffset: 0; stroke: #2ca02c; stroke-width: 1.5\"/>\n   </g>\n   <g id=\"line2d_98\">\n    <path d=\"M 34.954394 64.298425 \nL 44.698573 95.468689 \nL 54.442752 104.552087 \nL 64.186931 106.271497 \nL 73.93111 113.175595 \nL 83.675289 113.583491 \nL 93.419468 119.463353 \nL 103.163647 119.395958 \nL 112.907826 124.96047 \nL 122.652006 123.820301 \nL 132.396185 129.565284 \nL 142.140364 128.047832 \nL 151.884543 133.450922 \nL 161.628722 131.226227 \nL 171.372901 135.491611 \nL 181.11708 135.07428 \n\" clip-path=\"url(#p331e73b934)\" style=\"fill: none; stroke: #1f77b4; stroke-width: 1.5; stroke-linecap: square\"/>\n   </g>\n   <g id=\"line2d_99\">\n    <path d=\"M 49.633125 94.440587 \nL 69.163125 99.890283 \nL 88.693125 105.274134 \nL 108.223125 98.573199 \nL 127.753125 105.994151 \nL 147.283125 97.405271 \nL 166.813125 92.855321 \nL 186.343125 100.95506 \n\" clip-path=\"url(#p331e73b934)\" style=\"fill: none; stroke-dasharray: 5.55,2.4; stroke-dashoffset: 0; stroke: #ff7f0e; stroke-width: 1.5\"/>\n   </g>\n   <g id=\"line2d_100\">\n    <path d=\"M 49.633125 18.953928 \nL 69.163125 16.954154 \nL 88.693125 15.2061 \nL 108.223125 17.457594 \nL 127.753125 13.919533 \nL 147.283125 16.031182 \nL 166.813125 17.79322 \n\" clip-path=\"url(#p331e73b934)\" style=\"fill: none; stroke-dasharray: 9.6,2.4,1.5,2.4; stroke-dashoffset: 0; stroke: #2ca02c; stroke-width: 1.5\"/>\n   </g>\n   <g id=\"line2d_101\">\n    <path d=\"M 34.954394 64.298425 \nL 44.698573 95.468689 \nL 54.442752 104.552087 \nL 64.186931 106.271497 \nL 73.93111 113.175595 \nL 83.675289 113.583491 \nL 93.419468 119.463353 \nL 103.163647 119.395958 \nL 112.907826 124.96047 \nL 122.652006 123.820301 \nL 132.396185 129.565284 \nL 142.140364 128.047832 \nL 151.884543 133.450922 \nL 161.628722 131.226227 \nL 171.372901 135.491611 \nL 181.11708 135.07428 \n\" clip-path=\"url(#p331e73b934)\" style=\"fill: none; stroke: #1f77b4; stroke-width: 1.5; stroke-linecap: square\"/>\n   </g>\n   <g id=\"line2d_102\">\n    <path d=\"M 49.633125 94.440587 \nL 69.163125 99.890283 \nL 88.693125 105.274134 \nL 108.223125 98.573199 \nL 127.753125 105.994151 \nL 147.283125 97.405271 \nL 166.813125 92.855321 \nL 186.343125 100.95506 \n\" clip-path=\"url(#p331e73b934)\" style=\"fill: none; stroke-dasharray: 5.55,2.4; stroke-dashoffset: 0; stroke: #ff7f0e; stroke-width: 1.5\"/>\n   </g>\n   <g id=\"line2d_103\">\n    <path d=\"M 49.633125 18.953928 \nL 69.163125 16.954154 \nL 88.693125 15.2061 \nL 108.223125 17.457594 \nL 127.753125 13.919533 \nL 147.283125 16.031182 \nL 166.813125 17.79322 \nL 186.343125 14.646723 \n\" clip-path=\"url(#p331e73b934)\" style=\"fill: none; stroke-dasharray: 9.6,2.4,1.5,2.4; stroke-dashoffset: 0; stroke: #2ca02c; stroke-width: 1.5\"/>\n   </g>\n   <g id=\"line2d_104\">\n    <path d=\"M 34.954394 64.298425 \nL 44.698573 95.468689 \nL 54.442752 104.552087 \nL 64.186931 106.271497 \nL 73.93111 113.175595 \nL 83.675289 113.583491 \nL 93.419468 119.463353 \nL 103.163647 119.395958 \nL 112.907826 124.96047 \nL 122.652006 123.820301 \nL 132.396185 129.565284 \nL 142.140364 128.047832 \nL 151.884543 133.450922 \nL 161.628722 131.226227 \nL 171.372901 135.491611 \nL 181.11708 135.07428 \nL 190.861259 137.83234 \n\" clip-path=\"url(#p331e73b934)\" style=\"fill: none; stroke: #1f77b4; stroke-width: 1.5; stroke-linecap: square\"/>\n   </g>\n   <g id=\"line2d_105\">\n    <path d=\"M 49.633125 94.440587 \nL 69.163125 99.890283 \nL 88.693125 105.274134 \nL 108.223125 98.573199 \nL 127.753125 105.994151 \nL 147.283125 97.405271 \nL 166.813125 92.855321 \nL 186.343125 100.95506 \n\" clip-path=\"url(#p331e73b934)\" style=\"fill: none; stroke-dasharray: 5.55,2.4; stroke-dashoffset: 0; stroke: #ff7f0e; stroke-width: 1.5\"/>\n   </g>\n   <g id=\"line2d_106\">\n    <path d=\"M 49.633125 18.953928 \nL 69.163125 16.954154 \nL 88.693125 15.2061 \nL 108.223125 17.457594 \nL 127.753125 13.919533 \nL 147.283125 16.031182 \nL 166.813125 17.79322 \nL 186.343125 14.646723 \n\" clip-path=\"url(#p331e73b934)\" style=\"fill: none; stroke-dasharray: 9.6,2.4,1.5,2.4; stroke-dashoffset: 0; stroke: #2ca02c; stroke-width: 1.5\"/>\n   </g>\n   <g id=\"line2d_107\">\n    <path d=\"M 34.954394 64.298425 \nL 44.698573 95.468689 \nL 54.442752 104.552087 \nL 64.186931 106.271497 \nL 73.93111 113.175595 \nL 83.675289 113.583491 \nL 93.419468 119.463353 \nL 103.163647 119.395958 \nL 112.907826 124.96047 \nL 122.652006 123.820301 \nL 132.396185 129.565284 \nL 142.140364 128.047832 \nL 151.884543 133.450922 \nL 161.628722 131.226227 \nL 171.372901 135.491611 \nL 181.11708 135.07428 \nL 190.861259 137.83234 \nL 200.605438 137.465764 \n\" clip-path=\"url(#p331e73b934)\" style=\"fill: none; stroke: #1f77b4; stroke-width: 1.5; stroke-linecap: square\"/>\n   </g>\n   <g id=\"line2d_108\">\n    <path d=\"M 49.633125 94.440587 \nL 69.163125 99.890283 \nL 88.693125 105.274134 \nL 108.223125 98.573199 \nL 127.753125 105.994151 \nL 147.283125 97.405271 \nL 166.813125 92.855321 \nL 186.343125 100.95506 \n\" clip-path=\"url(#p331e73b934)\" style=\"fill: none; stroke-dasharray: 5.55,2.4; stroke-dashoffset: 0; stroke: #ff7f0e; stroke-width: 1.5\"/>\n   </g>\n   <g id=\"line2d_109\">\n    <path d=\"M 49.633125 18.953928 \nL 69.163125 16.954154 \nL 88.693125 15.2061 \nL 108.223125 17.457594 \nL 127.753125 13.919533 \nL 147.283125 16.031182 \nL 166.813125 17.79322 \nL 186.343125 14.646723 \n\" clip-path=\"url(#p331e73b934)\" style=\"fill: none; stroke-dasharray: 9.6,2.4,1.5,2.4; stroke-dashoffset: 0; stroke: #2ca02c; stroke-width: 1.5\"/>\n   </g>\n   <g id=\"line2d_110\">\n    <path d=\"M 34.954394 64.298425 \nL 44.698573 95.468689 \nL 54.442752 104.552087 \nL 64.186931 106.271497 \nL 73.93111 113.175595 \nL 83.675289 113.583491 \nL 93.419468 119.463353 \nL 103.163647 119.395958 \nL 112.907826 124.96047 \nL 122.652006 123.820301 \nL 132.396185 129.565284 \nL 142.140364 128.047832 \nL 151.884543 133.450922 \nL 161.628722 131.226227 \nL 171.372901 135.491611 \nL 181.11708 135.07428 \nL 190.861259 137.83234 \nL 200.605438 137.465764 \n\" clip-path=\"url(#p331e73b934)\" style=\"fill: none; stroke: #1f77b4; stroke-width: 1.5; stroke-linecap: square\"/>\n   </g>\n   <g id=\"line2d_111\">\n    <path d=\"M 49.633125 94.440587 \nL 69.163125 99.890283 \nL 88.693125 105.274134 \nL 108.223125 98.573199 \nL 127.753125 105.994151 \nL 147.283125 97.405271 \nL 166.813125 92.855321 \nL 186.343125 100.95506 \nL 205.873125 93.392983 \n\" clip-path=\"url(#p331e73b934)\" style=\"fill: none; stroke-dasharray: 5.55,2.4; stroke-dashoffset: 0; stroke: #ff7f0e; stroke-width: 1.5\"/>\n   </g>\n   <g id=\"line2d_112\">\n    <path d=\"M 49.633125 18.953928 \nL 69.163125 16.954154 \nL 88.693125 15.2061 \nL 108.223125 17.457594 \nL 127.753125 13.919533 \nL 147.283125 16.031182 \nL 166.813125 17.79322 \nL 186.343125 14.646723 \n\" clip-path=\"url(#p331e73b934)\" style=\"fill: none; stroke-dasharray: 9.6,2.4,1.5,2.4; stroke-dashoffset: 0; stroke: #2ca02c; stroke-width: 1.5\"/>\n   </g>\n   <g id=\"line2d_113\">\n    <path d=\"M 34.954394 64.298425 \nL 44.698573 95.468689 \nL 54.442752 104.552087 \nL 64.186931 106.271497 \nL 73.93111 113.175595 \nL 83.675289 113.583491 \nL 93.419468 119.463353 \nL 103.163647 119.395958 \nL 112.907826 124.96047 \nL 122.652006 123.820301 \nL 132.396185 129.565284 \nL 142.140364 128.047832 \nL 151.884543 133.450922 \nL 161.628722 131.226227 \nL 171.372901 135.491611 \nL 181.11708 135.07428 \nL 190.861259 137.83234 \nL 200.605438 137.465764 \n\" clip-path=\"url(#p331e73b934)\" style=\"fill: none; stroke: #1f77b4; stroke-width: 1.5; stroke-linecap: square\"/>\n   </g>\n   <g id=\"line2d_114\">\n    <path d=\"M 49.633125 94.440587 \nL 69.163125 99.890283 \nL 88.693125 105.274134 \nL 108.223125 98.573199 \nL 127.753125 105.994151 \nL 147.283125 97.405271 \nL 166.813125 92.855321 \nL 186.343125 100.95506 \nL 205.873125 93.392983 \n\" clip-path=\"url(#p331e73b934)\" style=\"fill: none; stroke-dasharray: 5.55,2.4; stroke-dashoffset: 0; stroke: #ff7f0e; stroke-width: 1.5\"/>\n   </g>\n   <g id=\"line2d_115\">\n    <path d=\"M 49.633125 18.953928 \nL 69.163125 16.954154 \nL 88.693125 15.2061 \nL 108.223125 17.457594 \nL 127.753125 13.919533 \nL 147.283125 16.031182 \nL 166.813125 17.79322 \nL 186.343125 14.646723 \nL 205.873125 15.038287 \n\" clip-path=\"url(#p331e73b934)\" style=\"fill: none; stroke-dasharray: 9.6,2.4,1.5,2.4; stroke-dashoffset: 0; stroke: #2ca02c; stroke-width: 1.5\"/>\n   </g>\n   <g id=\"line2d_116\">\n    <path d=\"M 34.954394 64.298425 \nL 44.698573 95.468689 \nL 54.442752 104.552087 \nL 64.186931 106.271497 \nL 73.93111 113.175595 \nL 83.675289 113.583491 \nL 93.419468 119.463353 \nL 103.163647 119.395958 \nL 112.907826 124.96047 \nL 122.652006 123.820301 \nL 132.396185 129.565284 \nL 142.140364 128.047832 \nL 151.884543 133.450922 \nL 161.628722 131.226227 \nL 171.372901 135.491611 \nL 181.11708 135.07428 \nL 190.861259 137.83234 \nL 200.605438 137.465764 \nL 210.349618 139.5 \n\" clip-path=\"url(#p331e73b934)\" style=\"fill: none; stroke: #1f77b4; stroke-width: 1.5; stroke-linecap: square\"/>\n   </g>\n   <g id=\"line2d_117\">\n    <path d=\"M 49.633125 94.440587 \nL 69.163125 99.890283 \nL 88.693125 105.274134 \nL 108.223125 98.573199 \nL 127.753125 105.994151 \nL 147.283125 97.405271 \nL 166.813125 92.855321 \nL 186.343125 100.95506 \nL 205.873125 93.392983 \n\" clip-path=\"url(#p331e73b934)\" style=\"fill: none; stroke-dasharray: 5.55,2.4; stroke-dashoffset: 0; stroke: #ff7f0e; stroke-width: 1.5\"/>\n   </g>\n   <g id=\"line2d_118\">\n    <path d=\"M 49.633125 18.953928 \nL 69.163125 16.954154 \nL 88.693125 15.2061 \nL 108.223125 17.457594 \nL 127.753125 13.919533 \nL 147.283125 16.031182 \nL 166.813125 17.79322 \nL 186.343125 14.646723 \nL 205.873125 15.038287 \n\" clip-path=\"url(#p331e73b934)\" style=\"fill: none; stroke-dasharray: 9.6,2.4,1.5,2.4; stroke-dashoffset: 0; stroke: #2ca02c; stroke-width: 1.5\"/>\n   </g>\n   <g id=\"line2d_119\">\n    <path d=\"M 34.954394 64.298425 \nL 44.698573 95.468689 \nL 54.442752 104.552087 \nL 64.186931 106.271497 \nL 73.93111 113.175595 \nL 83.675289 113.583491 \nL 93.419468 119.463353 \nL 103.163647 119.395958 \nL 112.907826 124.96047 \nL 122.652006 123.820301 \nL 132.396185 129.565284 \nL 142.140364 128.047832 \nL 151.884543 133.450922 \nL 161.628722 131.226227 \nL 171.372901 135.491611 \nL 181.11708 135.07428 \nL 190.861259 137.83234 \nL 200.605438 137.465764 \nL 210.349618 139.5 \nL 220.093797 138.868572 \n\" clip-path=\"url(#p331e73b934)\" style=\"fill: none; stroke: #1f77b4; stroke-width: 1.5; stroke-linecap: square\"/>\n   </g>\n   <g id=\"line2d_120\">\n    <path d=\"M 49.633125 94.440587 \nL 69.163125 99.890283 \nL 88.693125 105.274134 \nL 108.223125 98.573199 \nL 127.753125 105.994151 \nL 147.283125 97.405271 \nL 166.813125 92.855321 \nL 186.343125 100.95506 \nL 205.873125 93.392983 \n\" clip-path=\"url(#p331e73b934)\" style=\"fill: none; stroke-dasharray: 5.55,2.4; stroke-dashoffset: 0; stroke: #ff7f0e; stroke-width: 1.5\"/>\n   </g>\n   <g id=\"line2d_121\">\n    <path d=\"M 49.633125 18.953928 \nL 69.163125 16.954154 \nL 88.693125 15.2061 \nL 108.223125 17.457594 \nL 127.753125 13.919533 \nL 147.283125 16.031182 \nL 166.813125 17.79322 \nL 186.343125 14.646723 \nL 205.873125 15.038287 \n\" clip-path=\"url(#p331e73b934)\" style=\"fill: none; stroke-dasharray: 9.6,2.4,1.5,2.4; stroke-dashoffset: 0; stroke: #2ca02c; stroke-width: 1.5\"/>\n   </g>\n   <g id=\"line2d_122\">\n    <path d=\"M 34.954394 64.298425 \nL 44.698573 95.468689 \nL 54.442752 104.552087 \nL 64.186931 106.271497 \nL 73.93111 113.175595 \nL 83.675289 113.583491 \nL 93.419468 119.463353 \nL 103.163647 119.395958 \nL 112.907826 124.96047 \nL 122.652006 123.820301 \nL 132.396185 129.565284 \nL 142.140364 128.047832 \nL 151.884543 133.450922 \nL 161.628722 131.226227 \nL 171.372901 135.491611 \nL 181.11708 135.07428 \nL 190.861259 137.83234 \nL 200.605438 137.465764 \nL 210.349618 139.5 \nL 220.093797 138.868572 \n\" clip-path=\"url(#p331e73b934)\" style=\"fill: none; stroke: #1f77b4; stroke-width: 1.5; stroke-linecap: square\"/>\n   </g>\n   <g id=\"line2d_123\">\n    <path d=\"M 49.633125 94.440587 \nL 69.163125 99.890283 \nL 88.693125 105.274134 \nL 108.223125 98.573199 \nL 127.753125 105.994151 \nL 147.283125 97.405271 \nL 166.813125 92.855321 \nL 186.343125 100.95506 \nL 205.873125 93.392983 \nL 225.403125 99.925281 \n\" clip-path=\"url(#p331e73b934)\" style=\"fill: none; stroke-dasharray: 5.55,2.4; stroke-dashoffset: 0; stroke: #ff7f0e; stroke-width: 1.5\"/>\n   </g>\n   <g id=\"line2d_124\">\n    <path d=\"M 49.633125 18.953928 \nL 69.163125 16.954154 \nL 88.693125 15.2061 \nL 108.223125 17.457594 \nL 127.753125 13.919533 \nL 147.283125 16.031182 \nL 166.813125 17.79322 \nL 186.343125 14.646723 \nL 205.873125 15.038287 \n\" clip-path=\"url(#p331e73b934)\" style=\"fill: none; stroke-dasharray: 9.6,2.4,1.5,2.4; stroke-dashoffset: 0; stroke: #2ca02c; stroke-width: 1.5\"/>\n   </g>\n   <g id=\"line2d_125\">\n    <path d=\"M 34.954394 64.298425 \nL 44.698573 95.468689 \nL 54.442752 104.552087 \nL 64.186931 106.271497 \nL 73.93111 113.175595 \nL 83.675289 113.583491 \nL 93.419468 119.463353 \nL 103.163647 119.395958 \nL 112.907826 124.96047 \nL 122.652006 123.820301 \nL 132.396185 129.565284 \nL 142.140364 128.047832 \nL 151.884543 133.450922 \nL 161.628722 131.226227 \nL 171.372901 135.491611 \nL 181.11708 135.07428 \nL 190.861259 137.83234 \nL 200.605438 137.465764 \nL 210.349618 139.5 \nL 220.093797 138.868572 \n\" clip-path=\"url(#p331e73b934)\" style=\"fill: none; stroke: #1f77b4; stroke-width: 1.5; stroke-linecap: square\"/>\n   </g>\n   <g id=\"line2d_126\">\n    <path d=\"M 49.633125 94.440587 \nL 69.163125 99.890283 \nL 88.693125 105.274134 \nL 108.223125 98.573199 \nL 127.753125 105.994151 \nL 147.283125 97.405271 \nL 166.813125 92.855321 \nL 186.343125 100.95506 \nL 205.873125 93.392983 \nL 225.403125 99.925281 \n\" clip-path=\"url(#p331e73b934)\" style=\"fill: none; stroke-dasharray: 5.55,2.4; stroke-dashoffset: 0; stroke: #ff7f0e; stroke-width: 1.5\"/>\n   </g>\n   <g id=\"line2d_127\">\n    <path d=\"M 49.633125 18.953928 \nL 69.163125 16.954154 \nL 88.693125 15.2061 \nL 108.223125 17.457594 \nL 127.753125 13.919533 \nL 147.283125 16.031182 \nL 166.813125 17.79322 \nL 186.343125 14.646723 \nL 205.873125 15.038287 \nL 225.403125 13.5 \n\" clip-path=\"url(#p331e73b934)\" style=\"fill: none; stroke-dasharray: 9.6,2.4,1.5,2.4; stroke-dashoffset: 0; stroke: #2ca02c; stroke-width: 1.5\"/>\n   </g>\n   <g id=\"patch_3\">\n    <path d=\"M 30.103125 145.8 \nL 30.103125 7.2 \n\" style=\"fill: none; stroke: #000000; stroke-width: 0.8; stroke-linejoin: miter; stroke-linecap: square\"/>\n   </g>\n   <g id=\"patch_4\">\n    <path d=\"M 225.403125 145.8 \nL 225.403125 7.2 \n\" style=\"fill: none; stroke: #000000; stroke-width: 0.8; stroke-linejoin: miter; stroke-linecap: square\"/>\n   </g>\n   <g id=\"patch_5\">\n    <path d=\"M 30.103125 145.8 \nL 225.403125 145.8 \n\" style=\"fill: none; stroke: #000000; stroke-width: 0.8; stroke-linejoin: miter; stroke-linecap: square\"/>\n   </g>\n   <g id=\"patch_6\">\n    <path d=\"M 30.103125 7.2 \nL 225.403125 7.2 \n\" style=\"fill: none; stroke: #000000; stroke-width: 0.8; stroke-linejoin: miter; stroke-linecap: square\"/>\n   </g>\n   <g id=\"legend_1\">\n    <g id=\"patch_7\">\n     <path d=\"M 138.8125 100.434375 \nL 218.403125 100.434375 \nQ 220.403125 100.434375 220.403125 98.434375 \nL 220.403125 54.565625 \nQ 220.403125 52.565625 218.403125 52.565625 \nL 138.8125 52.565625 \nQ 136.8125 52.565625 136.8125 54.565625 \nL 136.8125 98.434375 \nQ 136.8125 100.434375 138.8125 100.434375 \nz\n\" style=\"fill: #ffffff; opacity: 0.8; stroke: #cccccc; stroke-linejoin: miter\"/>\n    </g>\n    <g id=\"line2d_128\">\n     <path d=\"M 140.8125 60.664063 \nL 150.8125 60.664063 \nL 160.8125 60.664063 \n\" style=\"fill: none; stroke: #1f77b4; stroke-width: 1.5; stroke-linecap: square\"/>\n    </g>\n    <g id=\"text_13\">\n     <!-- train_loss -->\n     <g transform=\"translate(168.8125 64.164063) scale(0.1 -0.1)\">\n      <defs>\n       <path id=\"DejaVuSans-74\" d=\"M 1172 4494 \nL 1172 3500 \nL 2356 3500 \nL 2356 3053 \nL 1172 3053 \nL 1172 1153 \nQ 1172 725 1289 603 \nQ 1406 481 1766 481 \nL 2356 481 \nL 2356 0 \nL 1766 0 \nQ 1100 0 847 248 \nQ 594 497 594 1153 \nL 594 3053 \nL 172 3053 \nL 172 3500 \nL 594 3500 \nL 594 4494 \nL 1172 4494 \nz\n\" transform=\"scale(0.015625)\"/>\n       <path id=\"DejaVuSans-72\" d=\"M 2631 2963 \nQ 2534 3019 2420 3045 \nQ 2306 3072 2169 3072 \nQ 1681 3072 1420 2755 \nQ 1159 2438 1159 1844 \nL 1159 0 \nL 581 0 \nL 581 3500 \nL 1159 3500 \nL 1159 2956 \nQ 1341 3275 1631 3429 \nQ 1922 3584 2338 3584 \nQ 2397 3584 2469 3576 \nQ 2541 3569 2628 3553 \nL 2631 2963 \nz\n\" transform=\"scale(0.015625)\"/>\n       <path id=\"DejaVuSans-61\" d=\"M 2194 1759 \nQ 1497 1759 1228 1600 \nQ 959 1441 959 1056 \nQ 959 750 1161 570 \nQ 1363 391 1709 391 \nQ 2188 391 2477 730 \nQ 2766 1069 2766 1631 \nL 2766 1759 \nL 2194 1759 \nz\nM 3341 1997 \nL 3341 0 \nL 2766 0 \nL 2766 531 \nQ 2569 213 2275 61 \nQ 1981 -91 1556 -91 \nQ 1019 -91 701 211 \nQ 384 513 384 1019 \nQ 384 1609 779 1909 \nQ 1175 2209 1959 2209 \nL 2766 2209 \nL 2766 2266 \nQ 2766 2663 2505 2880 \nQ 2244 3097 1772 3097 \nQ 1472 3097 1187 3025 \nQ 903 2953 641 2809 \nL 641 3341 \nQ 956 3463 1253 3523 \nQ 1550 3584 1831 3584 \nQ 2591 3584 2966 3190 \nQ 3341 2797 3341 1997 \nz\n\" transform=\"scale(0.015625)\"/>\n       <path id=\"DejaVuSans-69\" d=\"M 603 3500 \nL 1178 3500 \nL 1178 0 \nL 603 0 \nL 603 3500 \nz\nM 603 4863 \nL 1178 4863 \nL 1178 4134 \nL 603 4134 \nL 603 4863 \nz\n\" transform=\"scale(0.015625)\"/>\n       <path id=\"DejaVuSans-6e\" d=\"M 3513 2113 \nL 3513 0 \nL 2938 0 \nL 2938 2094 \nQ 2938 2591 2744 2837 \nQ 2550 3084 2163 3084 \nQ 1697 3084 1428 2787 \nQ 1159 2491 1159 1978 \nL 1159 0 \nL 581 0 \nL 581 3500 \nL 1159 3500 \nL 1159 2956 \nQ 1366 3272 1645 3428 \nQ 1925 3584 2291 3584 \nQ 2894 3584 3203 3211 \nQ 3513 2838 3513 2113 \nz\n\" transform=\"scale(0.015625)\"/>\n       <path id=\"DejaVuSans-5f\" d=\"M 3263 -1063 \nL 3263 -1509 \nL -63 -1509 \nL -63 -1063 \nL 3263 -1063 \nz\n\" transform=\"scale(0.015625)\"/>\n       <path id=\"DejaVuSans-6c\" d=\"M 603 4863 \nL 1178 4863 \nL 1178 0 \nL 603 0 \nL 603 4863 \nz\n\" transform=\"scale(0.015625)\"/>\n       <path id=\"DejaVuSans-73\" d=\"M 2834 3397 \nL 2834 2853 \nQ 2591 2978 2328 3040 \nQ 2066 3103 1784 3103 \nQ 1356 3103 1142 2972 \nQ 928 2841 928 2578 \nQ 928 2378 1081 2264 \nQ 1234 2150 1697 2047 \nL 1894 2003 \nQ 2506 1872 2764 1633 \nQ 3022 1394 3022 966 \nQ 3022 478 2636 193 \nQ 2250 -91 1575 -91 \nQ 1294 -91 989 -36 \nQ 684 19 347 128 \nL 347 722 \nQ 666 556 975 473 \nQ 1284 391 1588 391 \nQ 1994 391 2212 530 \nQ 2431 669 2431 922 \nQ 2431 1156 2273 1281 \nQ 2116 1406 1581 1522 \nL 1381 1569 \nQ 847 1681 609 1914 \nQ 372 2147 372 2553 \nQ 372 3047 722 3315 \nQ 1072 3584 1716 3584 \nQ 2034 3584 2315 3537 \nQ 2597 3491 2834 3397 \nz\n\" transform=\"scale(0.015625)\"/>\n      </defs>\n      <use xlink:href=\"#DejaVuSans-74\"/>\n      <use xlink:href=\"#DejaVuSans-72\" x=\"39.208984\"/>\n      <use xlink:href=\"#DejaVuSans-61\" x=\"80.322266\"/>\n      <use xlink:href=\"#DejaVuSans-69\" x=\"141.601562\"/>\n      <use xlink:href=\"#DejaVuSans-6e\" x=\"169.384766\"/>\n      <use xlink:href=\"#DejaVuSans-5f\" x=\"232.763672\"/>\n      <use xlink:href=\"#DejaVuSans-6c\" x=\"282.763672\"/>\n      <use xlink:href=\"#DejaVuSans-6f\" x=\"310.546875\"/>\n      <use xlink:href=\"#DejaVuSans-73\" x=\"371.728516\"/>\n      <use xlink:href=\"#DejaVuSans-73\" x=\"423.828125\"/>\n     </g>\n    </g>\n    <g id=\"line2d_129\">\n     <path d=\"M 140.8125 75.620313 \nL 150.8125 75.620313 \nL 160.8125 75.620313 \n\" style=\"fill: none; stroke-dasharray: 5.55,2.4; stroke-dashoffset: 0; stroke: #ff7f0e; stroke-width: 1.5\"/>\n    </g>\n    <g id=\"text_14\">\n     <!-- val_loss -->\n     <g transform=\"translate(168.8125 79.120313) scale(0.1 -0.1)\">\n      <defs>\n       <path id=\"DejaVuSans-76\" d=\"M 191 3500 \nL 800 3500 \nL 1894 563 \nL 2988 3500 \nL 3597 3500 \nL 2284 0 \nL 1503 0 \nL 191 3500 \nz\n\" transform=\"scale(0.015625)\"/>\n      </defs>\n      <use xlink:href=\"#DejaVuSans-76\"/>\n      <use xlink:href=\"#DejaVuSans-61\" x=\"59.179688\"/>\n      <use xlink:href=\"#DejaVuSans-6c\" x=\"120.458984\"/>\n      <use xlink:href=\"#DejaVuSans-5f\" x=\"148.242188\"/>\n      <use xlink:href=\"#DejaVuSans-6c\" x=\"198.242188\"/>\n      <use xlink:href=\"#DejaVuSans-6f\" x=\"226.025391\"/>\n      <use xlink:href=\"#DejaVuSans-73\" x=\"287.207031\"/>\n      <use xlink:href=\"#DejaVuSans-73\" x=\"339.306641\"/>\n     </g>\n    </g>\n    <g id=\"line2d_130\">\n     <path d=\"M 140.8125 90.576563 \nL 150.8125 90.576563 \nL 160.8125 90.576563 \n\" style=\"fill: none; stroke-dasharray: 9.6,2.4,1.5,2.4; stroke-dashoffset: 0; stroke: #2ca02c; stroke-width: 1.5\"/>\n    </g>\n    <g id=\"text_15\">\n     <!-- val_acc -->\n     <g transform=\"translate(168.8125 94.076563) scale(0.1 -0.1)\">\n      <use xlink:href=\"#DejaVuSans-76\"/>\n      <use xlink:href=\"#DejaVuSans-61\" x=\"59.179688\"/>\n      <use xlink:href=\"#DejaVuSans-6c\" x=\"120.458984\"/>\n      <use xlink:href=\"#DejaVuSans-5f\" x=\"148.242188\"/>\n      <use xlink:href=\"#DejaVuSans-61\" x=\"198.242188\"/>\n      <use xlink:href=\"#DejaVuSans-63\" x=\"259.521484\"/>\n      <use xlink:href=\"#DejaVuSans-63\" x=\"314.501953\"/>\n     </g>\n    </g>\n   </g>\n  </g>\n </g>\n <defs>\n  <clipPath id=\"p331e73b934\">\n   <rect x=\"30.103125\" y=\"7.2\" width=\"195.3\" height=\"138.6\"/>\n  </clipPath>\n </defs>\n</svg>\n"
          },
          "metadata": {}
        }
      ],
      "source": [
        "model = ResNet18(lr=0.01)\n",
        "trainer = d2l.Trainer(max_epochs=10, num_gpus=1)\n",
        "data = d2l.FashionMNIST(batch_size=128, resize=(96, 96))\n",
        "model.apply_init([next(iter(data.get_dataloader(True)))[0]], d2l.init_cnn)\n",
        "trainer.fit(model, data)"
      ]
    },
    {
      "cell_type": "markdown",
      "id": "zAt6QBcMbIYo",
      "metadata": {
        "id": "zAt6QBcMbIYo"
      },
      "source": [
        "## ResNeXt"
      ]
    },
    {
      "cell_type": "code",
      "execution_count": 44,
      "id": "aa67ceaf",
      "metadata": {
        "id": "aa67ceaf"
      },
      "outputs": [],
      "source": [
        "class ResNeXtBlock(nn.Module):  #@save\n",
        "    \"\"\"The ResNeXt block.\"\"\"\n",
        "    def __init__(self, num_channels, groups, bot_mul, use_1x1conv=False,\n",
        "                 strides=1):\n",
        "        super().__init__()\n",
        "        bot_channels = int(round(num_channels * bot_mul))\n",
        "        self.conv1 = nn.LazyConv2d(bot_channels, kernel_size=1, stride=1)\n",
        "        self.conv2 = nn.LazyConv2d(bot_channels, kernel_size=3,\n",
        "                                   stride=strides, padding=1,\n",
        "                                   groups=bot_channels//groups)\n",
        "        self.conv3 = nn.LazyConv2d(num_channels, kernel_size=1, stride=1)\n",
        "        self.bn1 = nn.LazyBatchNorm2d()\n",
        "        self.bn2 = nn.LazyBatchNorm2d()\n",
        "        self.bn3 = nn.LazyBatchNorm2d()\n",
        "        if use_1x1conv:\n",
        "            self.conv4 = nn.LazyConv2d(num_channels, kernel_size=1,\n",
        "                                       stride=strides)\n",
        "            self.bn4 = nn.LazyBatchNorm2d()\n",
        "        else:\n",
        "            self.conv4 = None\n",
        "\n",
        "    def forward(self, X):\n",
        "        Y = F.relu(self.bn1(self.conv1(X)))\n",
        "        Y = F.relu(self.bn2(self.conv2(Y)))\n",
        "        Y = self.bn3(self.conv3(Y))\n",
        "        if self.conv4:\n",
        "            X = self.bn4(self.conv4(X))\n",
        "        return F.relu(Y + X)"
      ]
    },
    {
      "cell_type": "code",
      "execution_count": 45,
      "id": "ec6906e4",
      "metadata": {
        "colab": {
          "base_uri": "https://localhost:8080/"
        },
        "id": "ec6906e4",
        "outputId": "1879ff06-11cb-45e8-d505-d62bd39c144e"
      },
      "outputs": [
        {
          "output_type": "execute_result",
          "data": {
            "text/plain": [
              "torch.Size([4, 32, 96, 96])"
            ]
          },
          "metadata": {},
          "execution_count": 45
        }
      ],
      "source": [
        "blk = ResNeXtBlock(32, 16, 1)\n",
        "X = torch.randn(4, 32, 96, 96)\n",
        "blk(X).shape"
      ]
    },
    {
      "cell_type": "markdown",
      "id": "ej1BHKq9bOqz",
      "metadata": {
        "id": "ej1BHKq9bOqz"
      },
      "source": [
        "## Exercises\n",
        "\n",
        "1. What are the major differences between the Inception block in :numref:`fig_inception` and the residual block? How do they compare in terms of computation, accuracy, and the classes of functions they can describe?\n",
        "1. Refer to Table 1 in the ResNet paper :cite:`He.Zhang.Ren.ea.2016` to implement different variants of the network.\n",
        "1. For deeper networks, ResNet introduces a \"bottleneck\" architecture to reduce model complexity. Try to implement it.\n",
        "1. In subsequent versions of ResNet, the authors changed the \"convolution, batch normalization, and activation\" structure to the \"batch normalization, activation, and convolution\" structure. Make this improvement yourself. See Figure 1 in :citet:`He.Zhang.Ren.ea.2016*1` for details.\n",
        "1. Why can't we just increase the complexity of functions without bound, even if the function classes are nested?"
      ]
    },
    {
      "cell_type": "markdown",
      "id": "Q6OJk-7DbP1Z",
      "metadata": {
        "id": "Q6OJk-7DbP1Z"
      },
      "source": [
        "# 8.7 Densely Connected Network (DenseNet)"
      ]
    },
    {
      "cell_type": "code",
      "execution_count": 46,
      "id": "898d7836",
      "metadata": {
        "id": "898d7836"
      },
      "outputs": [],
      "source": [
        "import torch\n",
        "from torch import nn\n",
        "from d2l import torch as d2l"
      ]
    },
    {
      "cell_type": "markdown",
      "id": "Gpjm6aMkbbuy",
      "metadata": {
        "id": "Gpjm6aMkbbuy"
      },
      "source": [
        "## From ResNet to DenseNet"
      ]
    },
    {
      "cell_type": "code",
      "execution_count": 47,
      "id": "7d95675e",
      "metadata": {
        "id": "7d95675e"
      },
      "outputs": [],
      "source": [
        "def conv_block(num_channels):\n",
        "    return nn.Sequential(\n",
        "        nn.LazyBatchNorm2d(), nn.ReLU(),\n",
        "        nn.LazyConv2d(num_channels, kernel_size=3, padding=1))"
      ]
    },
    {
      "cell_type": "code",
      "execution_count": 48,
      "id": "805394e3",
      "metadata": {
        "id": "805394e3"
      },
      "outputs": [],
      "source": [
        "class DenseBlock(nn.Module):\n",
        "    def __init__(self, num_convs, num_channels):\n",
        "        super(DenseBlock, self).__init__()\n",
        "        layer = []\n",
        "        for i in range(num_convs):\n",
        "            layer.append(conv_block(num_channels))\n",
        "        self.net = nn.Sequential(*layer)\n",
        "\n",
        "    def forward(self, X):\n",
        "        for blk in self.net:\n",
        "            Y = blk(X)\n",
        "            # Concatenate input and output of each block along the channels\n",
        "            X = torch.cat((X, Y), dim=1)\n",
        "        return X"
      ]
    },
    {
      "cell_type": "code",
      "execution_count": 49,
      "id": "e369c1ad",
      "metadata": {
        "colab": {
          "base_uri": "https://localhost:8080/"
        },
        "id": "e369c1ad",
        "outputId": "55593b72-4dd3-46d3-c4f5-f10d9c831db2"
      },
      "outputs": [
        {
          "output_type": "execute_result",
          "data": {
            "text/plain": [
              "torch.Size([4, 23, 8, 8])"
            ]
          },
          "metadata": {},
          "execution_count": 49
        }
      ],
      "source": [
        "blk = DenseBlock(2, 10)\n",
        "X = torch.randn(4, 3, 8, 8)\n",
        "Y = blk(X)\n",
        "Y.shape"
      ]
    },
    {
      "cell_type": "markdown",
      "id": "qy8UqZp2bhql",
      "metadata": {
        "id": "qy8UqZp2bhql"
      },
      "source": [
        "## [**Transition Layers**]"
      ]
    },
    {
      "cell_type": "code",
      "execution_count": 50,
      "id": "6160cc48",
      "metadata": {
        "id": "6160cc48"
      },
      "outputs": [],
      "source": [
        "def transition_block(num_channels):\n",
        "    return nn.Sequential(\n",
        "        nn.LazyBatchNorm2d(), nn.ReLU(),\n",
        "        nn.LazyConv2d(num_channels, kernel_size=1),\n",
        "        nn.AvgPool2d(kernel_size=2, stride=2))"
      ]
    },
    {
      "cell_type": "code",
      "execution_count": 51,
      "id": "fc0cacfc",
      "metadata": {
        "colab": {
          "base_uri": "https://localhost:8080/"
        },
        "id": "fc0cacfc",
        "outputId": "55569117-568f-4d13-a275-ad5264d5e723"
      },
      "outputs": [
        {
          "output_type": "execute_result",
          "data": {
            "text/plain": [
              "torch.Size([4, 10, 4, 4])"
            ]
          },
          "metadata": {},
          "execution_count": 51
        }
      ],
      "source": [
        "blk = transition_block(10)\n",
        "blk(Y).shape"
      ]
    },
    {
      "cell_type": "markdown",
      "id": "zSa7VyIJbm7K",
      "metadata": {
        "id": "zSa7VyIJbm7K"
      },
      "source": [
        "## [**DenseNet Model**]"
      ]
    },
    {
      "cell_type": "code",
      "execution_count": 52,
      "id": "79e0aaa1",
      "metadata": {
        "id": "79e0aaa1"
      },
      "outputs": [],
      "source": [
        "class DenseNet(d2l.Classifier):\n",
        "    def b1(self):\n",
        "        return nn.Sequential(\n",
        "            nn.LazyConv2d(64, kernel_size=7, stride=2, padding=3),\n",
        "            nn.LazyBatchNorm2d(), nn.ReLU(),\n",
        "            nn.MaxPool2d(kernel_size=3, stride=2, padding=1))"
      ]
    },
    {
      "cell_type": "code",
      "execution_count": 53,
      "id": "58137883",
      "metadata": {
        "id": "58137883"
      },
      "outputs": [],
      "source": [
        "@d2l.add_to_class(DenseNet)\n",
        "def __init__(self, num_channels=64, growth_rate=32, arch=(4, 4, 4, 4),\n",
        "             lr=0.1, num_classes=10):\n",
        "    super(DenseNet, self).__init__()\n",
        "    self.save_hyperparameters()\n",
        "    self.net = nn.Sequential(self.b1())\n",
        "    for i, num_convs in enumerate(arch):\n",
        "        self.net.add_module(f'dense_blk{i+1}', DenseBlock(num_convs,\n",
        "                                                          growth_rate))\n",
        "        # The number of output channels in the previous dense block\n",
        "        num_channels += num_convs * growth_rate\n",
        "        # A transition layer that halves the number of channels is added\n",
        "        # between the dense blocks\n",
        "        if i != len(arch) - 1:\n",
        "            num_channels //= 2\n",
        "            self.net.add_module(f'tran_blk{i+1}', transition_block(\n",
        "                num_channels))\n",
        "    self.net.add_module('last', nn.Sequential(\n",
        "        nn.LazyBatchNorm2d(), nn.ReLU(),\n",
        "        nn.AdaptiveAvgPool2d((1, 1)), nn.Flatten(),\n",
        "        nn.LazyLinear(num_classes)))\n",
        "    self.net.apply(d2l.init_cnn)"
      ]
    },
    {
      "cell_type": "markdown",
      "id": "6Ej1z5uNbq_4",
      "metadata": {
        "id": "6Ej1z5uNbq_4"
      },
      "source": [
        "## [**Training**]"
      ]
    },
    {
      "cell_type": "code",
      "execution_count": 54,
      "id": "ef87c44e",
      "metadata": {
        "colab": {
          "base_uri": "https://localhost:8080/",
          "height": 265
        },
        "id": "ef87c44e",
        "outputId": "4850dcec-f23d-402c-d68a-670021e14e0d"
      },
      "outputs": [
        {
          "output_type": "display_data",
          "data": {
            "text/plain": [
              "<Figure size 350x250 with 1 Axes>"
            ],
            "image/svg+xml": "<?xml version=\"1.0\" encoding=\"utf-8\" standalone=\"no\"?>\n<!DOCTYPE svg PUBLIC \"-//W3C//DTD SVG 1.1//EN\"\n  \"http://www.w3.org/Graphics/SVG/1.1/DTD/svg11.dtd\">\n<svg xmlns:xlink=\"http://www.w3.org/1999/xlink\" width=\"238.965625pt\" height=\"183.35625pt\" viewBox=\"0 0 238.965625 183.35625\" xmlns=\"http://www.w3.org/2000/svg\" version=\"1.1\">\n <metadata>\n  <rdf:RDF xmlns:dc=\"http://purl.org/dc/elements/1.1/\" xmlns:cc=\"http://creativecommons.org/ns#\" xmlns:rdf=\"http://www.w3.org/1999/02/22-rdf-syntax-ns#\">\n   <cc:Work>\n    <dc:type rdf:resource=\"http://purl.org/dc/dcmitype/StillImage\"/>\n    <dc:date>2024-10-05T14:51:05.379770</dc:date>\n    <dc:format>image/svg+xml</dc:format>\n    <dc:creator>\n     <cc:Agent>\n      <dc:title>Matplotlib v3.7.2, https://matplotlib.org/</dc:title>\n     </cc:Agent>\n    </dc:creator>\n   </cc:Work>\n  </rdf:RDF>\n </metadata>\n <defs>\n  <style type=\"text/css\">*{stroke-linejoin: round; stroke-linecap: butt}</style>\n </defs>\n <g id=\"figure_1\">\n  <g id=\"patch_1\">\n   <path d=\"M 0 183.35625 \nL 238.965625 183.35625 \nL 238.965625 0 \nL 0 0 \nz\n\" style=\"fill: #ffffff\"/>\n  </g>\n  <g id=\"axes_1\">\n   <g id=\"patch_2\">\n    <path d=\"M 30.103125 145.8 \nL 225.403125 145.8 \nL 225.403125 7.2 \nL 30.103125 7.2 \nz\n\" style=\"fill: #ffffff\"/>\n   </g>\n   <g id=\"matplotlib.axis_1\">\n    <g id=\"xtick_1\">\n     <g id=\"line2d_1\">\n      <defs>\n       <path id=\"m4d48f5327d\" d=\"M 0 0 \nL 0 3.5 \n\" style=\"stroke: #000000; stroke-width: 0.8\"/>\n      </defs>\n      <g>\n       <use xlink:href=\"#m4d48f5327d\" x=\"30.103125\" y=\"145.8\" style=\"stroke: #000000; stroke-width: 0.8\"/>\n      </g>\n     </g>\n     <g id=\"text_1\">\n      <!-- 0 -->\n      <g transform=\"translate(26.921875 160.398438) scale(0.1 -0.1)\">\n       <defs>\n        <path id=\"DejaVuSans-30\" d=\"M 2034 4250 \nQ 1547 4250 1301 3770 \nQ 1056 3291 1056 2328 \nQ 1056 1369 1301 889 \nQ 1547 409 2034 409 \nQ 2525 409 2770 889 \nQ 3016 1369 3016 2328 \nQ 3016 3291 2770 3770 \nQ 2525 4250 2034 4250 \nz\nM 2034 4750 \nQ 2819 4750 3233 4129 \nQ 3647 3509 3647 2328 \nQ 3647 1150 3233 529 \nQ 2819 -91 2034 -91 \nQ 1250 -91 836 529 \nQ 422 1150 422 2328 \nQ 422 3509 836 4129 \nQ 1250 4750 2034 4750 \nz\n\" transform=\"scale(0.015625)\"/>\n       </defs>\n       <use xlink:href=\"#DejaVuSans-30\"/>\n      </g>\n     </g>\n    </g>\n    <g id=\"xtick_2\">\n     <g id=\"line2d_2\">\n      <g>\n       <use xlink:href=\"#m4d48f5327d\" x=\"69.163125\" y=\"145.8\" style=\"stroke: #000000; stroke-width: 0.8\"/>\n      </g>\n     </g>\n     <g id=\"text_2\">\n      <!-- 2 -->\n      <g transform=\"translate(65.981875 160.398438) scale(0.1 -0.1)\">\n       <defs>\n        <path id=\"DejaVuSans-32\" d=\"M 1228 531 \nL 3431 531 \nL 3431 0 \nL 469 0 \nL 469 531 \nQ 828 903 1448 1529 \nQ 2069 2156 2228 2338 \nQ 2531 2678 2651 2914 \nQ 2772 3150 2772 3378 \nQ 2772 3750 2511 3984 \nQ 2250 4219 1831 4219 \nQ 1534 4219 1204 4116 \nQ 875 4013 500 3803 \nL 500 4441 \nQ 881 4594 1212 4672 \nQ 1544 4750 1819 4750 \nQ 2544 4750 2975 4387 \nQ 3406 4025 3406 3419 \nQ 3406 3131 3298 2873 \nQ 3191 2616 2906 2266 \nQ 2828 2175 2409 1742 \nQ 1991 1309 1228 531 \nz\n\" transform=\"scale(0.015625)\"/>\n       </defs>\n       <use xlink:href=\"#DejaVuSans-32\"/>\n      </g>\n     </g>\n    </g>\n    <g id=\"xtick_3\">\n     <g id=\"line2d_3\">\n      <g>\n       <use xlink:href=\"#m4d48f5327d\" x=\"108.223125\" y=\"145.8\" style=\"stroke: #000000; stroke-width: 0.8\"/>\n      </g>\n     </g>\n     <g id=\"text_3\">\n      <!-- 4 -->\n      <g transform=\"translate(105.041875 160.398438) scale(0.1 -0.1)\">\n       <defs>\n        <path id=\"DejaVuSans-34\" d=\"M 2419 4116 \nL 825 1625 \nL 2419 1625 \nL 2419 4116 \nz\nM 2253 4666 \nL 3047 4666 \nL 3047 1625 \nL 3713 1625 \nL 3713 1100 \nL 3047 1100 \nL 3047 0 \nL 2419 0 \nL 2419 1100 \nL 313 1100 \nL 313 1709 \nL 2253 4666 \nz\n\" transform=\"scale(0.015625)\"/>\n       </defs>\n       <use xlink:href=\"#DejaVuSans-34\"/>\n      </g>\n     </g>\n    </g>\n    <g id=\"xtick_4\">\n     <g id=\"line2d_4\">\n      <g>\n       <use xlink:href=\"#m4d48f5327d\" x=\"147.283125\" y=\"145.8\" style=\"stroke: #000000; stroke-width: 0.8\"/>\n      </g>\n     </g>\n     <g id=\"text_4\">\n      <!-- 6 -->\n      <g transform=\"translate(144.101875 160.398438) scale(0.1 -0.1)\">\n       <defs>\n        <path id=\"DejaVuSans-36\" d=\"M 2113 2584 \nQ 1688 2584 1439 2293 \nQ 1191 2003 1191 1497 \nQ 1191 994 1439 701 \nQ 1688 409 2113 409 \nQ 2538 409 2786 701 \nQ 3034 994 3034 1497 \nQ 3034 2003 2786 2293 \nQ 2538 2584 2113 2584 \nz\nM 3366 4563 \nL 3366 3988 \nQ 3128 4100 2886 4159 \nQ 2644 4219 2406 4219 \nQ 1781 4219 1451 3797 \nQ 1122 3375 1075 2522 \nQ 1259 2794 1537 2939 \nQ 1816 3084 2150 3084 \nQ 2853 3084 3261 2657 \nQ 3669 2231 3669 1497 \nQ 3669 778 3244 343 \nQ 2819 -91 2113 -91 \nQ 1303 -91 875 529 \nQ 447 1150 447 2328 \nQ 447 3434 972 4092 \nQ 1497 4750 2381 4750 \nQ 2619 4750 2861 4703 \nQ 3103 4656 3366 4563 \nz\n\" transform=\"scale(0.015625)\"/>\n       </defs>\n       <use xlink:href=\"#DejaVuSans-36\"/>\n      </g>\n     </g>\n    </g>\n    <g id=\"xtick_5\">\n     <g id=\"line2d_5\">\n      <g>\n       <use xlink:href=\"#m4d48f5327d\" x=\"186.343125\" y=\"145.8\" style=\"stroke: #000000; stroke-width: 0.8\"/>\n      </g>\n     </g>\n     <g id=\"text_5\">\n      <!-- 8 -->\n      <g transform=\"translate(183.161875 160.398438) scale(0.1 -0.1)\">\n       <defs>\n        <path id=\"DejaVuSans-38\" d=\"M 2034 2216 \nQ 1584 2216 1326 1975 \nQ 1069 1734 1069 1313 \nQ 1069 891 1326 650 \nQ 1584 409 2034 409 \nQ 2484 409 2743 651 \nQ 3003 894 3003 1313 \nQ 3003 1734 2745 1975 \nQ 2488 2216 2034 2216 \nz\nM 1403 2484 \nQ 997 2584 770 2862 \nQ 544 3141 544 3541 \nQ 544 4100 942 4425 \nQ 1341 4750 2034 4750 \nQ 2731 4750 3128 4425 \nQ 3525 4100 3525 3541 \nQ 3525 3141 3298 2862 \nQ 3072 2584 2669 2484 \nQ 3125 2378 3379 2068 \nQ 3634 1759 3634 1313 \nQ 3634 634 3220 271 \nQ 2806 -91 2034 -91 \nQ 1263 -91 848 271 \nQ 434 634 434 1313 \nQ 434 1759 690 2068 \nQ 947 2378 1403 2484 \nz\nM 1172 3481 \nQ 1172 3119 1398 2916 \nQ 1625 2713 2034 2713 \nQ 2441 2713 2670 2916 \nQ 2900 3119 2900 3481 \nQ 2900 3844 2670 4047 \nQ 2441 4250 2034 4250 \nQ 1625 4250 1398 4047 \nQ 1172 3844 1172 3481 \nz\n\" transform=\"scale(0.015625)\"/>\n       </defs>\n       <use xlink:href=\"#DejaVuSans-38\"/>\n      </g>\n     </g>\n    </g>\n    <g id=\"xtick_6\">\n     <g id=\"line2d_6\">\n      <g>\n       <use xlink:href=\"#m4d48f5327d\" x=\"225.403125\" y=\"145.8\" style=\"stroke: #000000; stroke-width: 0.8\"/>\n      </g>\n     </g>\n     <g id=\"text_6\">\n      <!-- 10 -->\n      <g transform=\"translate(219.040625 160.398438) scale(0.1 -0.1)\">\n       <defs>\n        <path id=\"DejaVuSans-31\" d=\"M 794 531 \nL 1825 531 \nL 1825 4091 \nL 703 3866 \nL 703 4441 \nL 1819 4666 \nL 2450 4666 \nL 2450 531 \nL 3481 531 \nL 3481 0 \nL 794 0 \nL 794 531 \nz\n\" transform=\"scale(0.015625)\"/>\n       </defs>\n       <use xlink:href=\"#DejaVuSans-31\"/>\n       <use xlink:href=\"#DejaVuSans-30\" x=\"63.623047\"/>\n      </g>\n     </g>\n    </g>\n    <g id=\"text_7\">\n     <!-- epoch -->\n     <g transform=\"translate(112.525 174.076563) scale(0.1 -0.1)\">\n      <defs>\n       <path id=\"DejaVuSans-65\" d=\"M 3597 1894 \nL 3597 1613 \nL 953 1613 \nQ 991 1019 1311 708 \nQ 1631 397 2203 397 \nQ 2534 397 2845 478 \nQ 3156 559 3463 722 \nL 3463 178 \nQ 3153 47 2828 -22 \nQ 2503 -91 2169 -91 \nQ 1331 -91 842 396 \nQ 353 884 353 1716 \nQ 353 2575 817 3079 \nQ 1281 3584 2069 3584 \nQ 2775 3584 3186 3129 \nQ 3597 2675 3597 1894 \nz\nM 3022 2063 \nQ 3016 2534 2758 2815 \nQ 2500 3097 2075 3097 \nQ 1594 3097 1305 2825 \nQ 1016 2553 972 2059 \nL 3022 2063 \nz\n\" transform=\"scale(0.015625)\"/>\n       <path id=\"DejaVuSans-70\" d=\"M 1159 525 \nL 1159 -1331 \nL 581 -1331 \nL 581 3500 \nL 1159 3500 \nL 1159 2969 \nQ 1341 3281 1617 3432 \nQ 1894 3584 2278 3584 \nQ 2916 3584 3314 3078 \nQ 3713 2572 3713 1747 \nQ 3713 922 3314 415 \nQ 2916 -91 2278 -91 \nQ 1894 -91 1617 61 \nQ 1341 213 1159 525 \nz\nM 3116 1747 \nQ 3116 2381 2855 2742 \nQ 2594 3103 2138 3103 \nQ 1681 3103 1420 2742 \nQ 1159 2381 1159 1747 \nQ 1159 1113 1420 752 \nQ 1681 391 2138 391 \nQ 2594 391 2855 752 \nQ 3116 1113 3116 1747 \nz\n\" transform=\"scale(0.015625)\"/>\n       <path id=\"DejaVuSans-6f\" d=\"M 1959 3097 \nQ 1497 3097 1228 2736 \nQ 959 2375 959 1747 \nQ 959 1119 1226 758 \nQ 1494 397 1959 397 \nQ 2419 397 2687 759 \nQ 2956 1122 2956 1747 \nQ 2956 2369 2687 2733 \nQ 2419 3097 1959 3097 \nz\nM 1959 3584 \nQ 2709 3584 3137 3096 \nQ 3566 2609 3566 1747 \nQ 3566 888 3137 398 \nQ 2709 -91 1959 -91 \nQ 1206 -91 779 398 \nQ 353 888 353 1747 \nQ 353 2609 779 3096 \nQ 1206 3584 1959 3584 \nz\n\" transform=\"scale(0.015625)\"/>\n       <path id=\"DejaVuSans-63\" d=\"M 3122 3366 \nL 3122 2828 \nQ 2878 2963 2633 3030 \nQ 2388 3097 2138 3097 \nQ 1578 3097 1268 2742 \nQ 959 2388 959 1747 \nQ 959 1106 1268 751 \nQ 1578 397 2138 397 \nQ 2388 397 2633 464 \nQ 2878 531 3122 666 \nL 3122 134 \nQ 2881 22 2623 -34 \nQ 2366 -91 2075 -91 \nQ 1284 -91 818 406 \nQ 353 903 353 1747 \nQ 353 2603 823 3093 \nQ 1294 3584 2113 3584 \nQ 2378 3584 2631 3529 \nQ 2884 3475 3122 3366 \nz\n\" transform=\"scale(0.015625)\"/>\n       <path id=\"DejaVuSans-68\" d=\"M 3513 2113 \nL 3513 0 \nL 2938 0 \nL 2938 2094 \nQ 2938 2591 2744 2837 \nQ 2550 3084 2163 3084 \nQ 1697 3084 1428 2787 \nQ 1159 2491 1159 1978 \nL 1159 0 \nL 581 0 \nL 581 4863 \nL 1159 4863 \nL 1159 2956 \nQ 1366 3272 1645 3428 \nQ 1925 3584 2291 3584 \nQ 2894 3584 3203 3211 \nQ 3513 2838 3513 2113 \nz\n\" transform=\"scale(0.015625)\"/>\n      </defs>\n      <use xlink:href=\"#DejaVuSans-65\"/>\n      <use xlink:href=\"#DejaVuSans-70\" x=\"61.523438\"/>\n      <use xlink:href=\"#DejaVuSans-6f\" x=\"125\"/>\n      <use xlink:href=\"#DejaVuSans-63\" x=\"186.181641\"/>\n      <use xlink:href=\"#DejaVuSans-68\" x=\"241.162109\"/>\n     </g>\n    </g>\n   </g>\n   <g id=\"matplotlib.axis_2\">\n    <g id=\"ytick_1\">\n     <g id=\"line2d_7\">\n      <defs>\n       <path id=\"mea4c42a8e5\" d=\"M 0 0 \nL -3.5 0 \n\" style=\"stroke: #000000; stroke-width: 0.8\"/>\n      </defs>\n      <g>\n       <use xlink:href=\"#mea4c42a8e5\" x=\"30.103125\" y=\"132.45628\" style=\"stroke: #000000; stroke-width: 0.8\"/>\n      </g>\n     </g>\n     <g id=\"text_8\">\n      <!-- 0.2 -->\n      <g transform=\"translate(7.2 136.255499) scale(0.1 -0.1)\">\n       <defs>\n        <path id=\"DejaVuSans-2e\" d=\"M 684 794 \nL 1344 794 \nL 1344 0 \nL 684 0 \nL 684 794 \nz\n\" transform=\"scale(0.015625)\"/>\n       </defs>\n       <use xlink:href=\"#DejaVuSans-30\"/>\n       <use xlink:href=\"#DejaVuSans-2e\" x=\"63.623047\"/>\n       <use xlink:href=\"#DejaVuSans-32\" x=\"95.410156\"/>\n      </g>\n     </g>\n    </g>\n    <g id=\"ytick_2\">\n     <g id=\"line2d_8\">\n      <g>\n       <use xlink:href=\"#mea4c42a8e5\" x=\"30.103125\" y=\"99.394711\" style=\"stroke: #000000; stroke-width: 0.8\"/>\n      </g>\n     </g>\n     <g id=\"text_9\">\n      <!-- 0.4 -->\n      <g transform=\"translate(7.2 103.19393) scale(0.1 -0.1)\">\n       <use xlink:href=\"#DejaVuSans-30\"/>\n       <use xlink:href=\"#DejaVuSans-2e\" x=\"63.623047\"/>\n       <use xlink:href=\"#DejaVuSans-34\" x=\"95.410156\"/>\n      </g>\n     </g>\n    </g>\n    <g id=\"ytick_3\">\n     <g id=\"line2d_9\">\n      <g>\n       <use xlink:href=\"#mea4c42a8e5\" x=\"30.103125\" y=\"66.333141\" style=\"stroke: #000000; stroke-width: 0.8\"/>\n      </g>\n     </g>\n     <g id=\"text_10\">\n      <!-- 0.6 -->\n      <g transform=\"translate(7.2 70.13236) scale(0.1 -0.1)\">\n       <use xlink:href=\"#DejaVuSans-30\"/>\n       <use xlink:href=\"#DejaVuSans-2e\" x=\"63.623047\"/>\n       <use xlink:href=\"#DejaVuSans-36\" x=\"95.410156\"/>\n      </g>\n     </g>\n    </g>\n    <g id=\"ytick_4\">\n     <g id=\"line2d_10\">\n      <g>\n       <use xlink:href=\"#mea4c42a8e5\" x=\"30.103125\" y=\"33.271572\" style=\"stroke: #000000; stroke-width: 0.8\"/>\n      </g>\n     </g>\n     <g id=\"text_11\">\n      <!-- 0.8 -->\n      <g transform=\"translate(7.2 37.070791) scale(0.1 -0.1)\">\n       <use xlink:href=\"#DejaVuSans-30\"/>\n       <use xlink:href=\"#DejaVuSans-2e\" x=\"63.623047\"/>\n       <use xlink:href=\"#DejaVuSans-38\" x=\"95.410156\"/>\n      </g>\n     </g>\n    </g>\n   </g>\n   <g id=\"line2d_11\">\n    <path d=\"M 34.954394 13.5 \n\" clip-path=\"url(#p868a040ccd)\" style=\"fill: none; stroke: #1f77b4; stroke-width: 1.5; stroke-linecap: square\"/>\n   </g>\n   <g id=\"line2d_12\">\n    <path d=\"M 34.954394 13.5 \nL 44.698573 88.761413 \n\" clip-path=\"url(#p868a040ccd)\" style=\"fill: none; stroke: #1f77b4; stroke-width: 1.5; stroke-linecap: square\"/>\n   </g>\n   <g id=\"line2d_13\">\n    <path d=\"M 34.954394 13.5 \nL 44.698573 88.761413 \n\" clip-path=\"url(#p868a040ccd)\" style=\"fill: none; stroke: #1f77b4; stroke-width: 1.5; stroke-linecap: square\"/>\n   </g>\n   <g id=\"line2d_14\">\n    <path d=\"M 49.633125 86.995059 \n\" clip-path=\"url(#p868a040ccd)\" style=\"fill: none; stroke-dasharray: 5.55,2.4; stroke-dashoffset: 0; stroke: #ff7f0e; stroke-width: 1.5\"/>\n   </g>\n   <g id=\"line2d_15\"/>\n   <g id=\"line2d_16\">\n    <path d=\"M 34.954394 13.5 \nL 44.698573 88.761413 \n\" clip-path=\"url(#p868a040ccd)\" style=\"fill: none; stroke: #1f77b4; stroke-width: 1.5; stroke-linecap: square\"/>\n   </g>\n   <g id=\"line2d_17\">\n    <path d=\"M 49.633125 86.995059 \n\" clip-path=\"url(#p868a040ccd)\" style=\"fill: none; stroke-dasharray: 5.55,2.4; stroke-dashoffset: 0; stroke: #ff7f0e; stroke-width: 1.5\"/>\n   </g>\n   <g id=\"line2d_18\">\n    <path d=\"M 49.633125 30.698446 \n\" clip-path=\"url(#p868a040ccd)\" style=\"fill: none; stroke-dasharray: 9.6,2.4,1.5,2.4; stroke-dashoffset: 0; stroke: #2ca02c; stroke-width: 1.5\"/>\n   </g>\n   <g id=\"line2d_19\">\n    <path d=\"M 34.954394 13.5 \nL 44.698573 88.761413 \nL 54.442752 106.096829 \n\" clip-path=\"url(#p868a040ccd)\" style=\"fill: none; stroke: #1f77b4; stroke-width: 1.5; stroke-linecap: square\"/>\n   </g>\n   <g id=\"line2d_20\">\n    <path d=\"M 49.633125 86.995059 \n\" clip-path=\"url(#p868a040ccd)\" style=\"fill: none; stroke-dasharray: 5.55,2.4; stroke-dashoffset: 0; stroke: #ff7f0e; stroke-width: 1.5\"/>\n   </g>\n   <g id=\"line2d_21\">\n    <path d=\"M 49.633125 30.698446 \n\" clip-path=\"url(#p868a040ccd)\" style=\"fill: none; stroke-dasharray: 9.6,2.4,1.5,2.4; stroke-dashoffset: 0; stroke: #2ca02c; stroke-width: 1.5\"/>\n   </g>\n   <g id=\"line2d_22\">\n    <path d=\"M 34.954394 13.5 \nL 44.698573 88.761413 \nL 54.442752 106.096829 \nL 64.186931 110.95209 \n\" clip-path=\"url(#p868a040ccd)\" style=\"fill: none; stroke: #1f77b4; stroke-width: 1.5; stroke-linecap: square\"/>\n   </g>\n   <g id=\"line2d_23\">\n    <path d=\"M 49.633125 86.995059 \n\" clip-path=\"url(#p868a040ccd)\" style=\"fill: none; stroke-dasharray: 5.55,2.4; stroke-dashoffset: 0; stroke: #ff7f0e; stroke-width: 1.5\"/>\n   </g>\n   <g id=\"line2d_24\">\n    <path d=\"M 49.633125 30.698446 \n\" clip-path=\"url(#p868a040ccd)\" style=\"fill: none; stroke-dasharray: 9.6,2.4,1.5,2.4; stroke-dashoffset: 0; stroke: #2ca02c; stroke-width: 1.5\"/>\n   </g>\n   <g id=\"line2d_25\">\n    <path d=\"M 34.954394 13.5 \nL 44.698573 88.761413 \nL 54.442752 106.096829 \nL 64.186931 110.95209 \n\" clip-path=\"url(#p868a040ccd)\" style=\"fill: none; stroke: #1f77b4; stroke-width: 1.5; stroke-linecap: square\"/>\n   </g>\n   <g id=\"line2d_26\">\n    <path d=\"M 49.633125 86.995059 \nL 69.163125 101.534775 \n\" clip-path=\"url(#p868a040ccd)\" style=\"fill: none; stroke-dasharray: 5.55,2.4; stroke-dashoffset: 0; stroke: #ff7f0e; stroke-width: 1.5\"/>\n   </g>\n   <g id=\"line2d_27\">\n    <path d=\"M 49.633125 30.698446 \n\" clip-path=\"url(#p868a040ccd)\" style=\"fill: none; stroke-dasharray: 9.6,2.4,1.5,2.4; stroke-dashoffset: 0; stroke: #2ca02c; stroke-width: 1.5\"/>\n   </g>\n   <g id=\"line2d_28\">\n    <path d=\"M 34.954394 13.5 \nL 44.698573 88.761413 \nL 54.442752 106.096829 \nL 64.186931 110.95209 \n\" clip-path=\"url(#p868a040ccd)\" style=\"fill: none; stroke: #1f77b4; stroke-width: 1.5; stroke-linecap: square\"/>\n   </g>\n   <g id=\"line2d_29\">\n    <path d=\"M 49.633125 86.995059 \nL 69.163125 101.534775 \n\" clip-path=\"url(#p868a040ccd)\" style=\"fill: none; stroke-dasharray: 5.55,2.4; stroke-dashoffset: 0; stroke: #ff7f0e; stroke-width: 1.5\"/>\n   </g>\n   <g id=\"line2d_30\">\n    <path d=\"M 49.633125 30.698446 \nL 69.163125 22.393819 \n\" clip-path=\"url(#p868a040ccd)\" style=\"fill: none; stroke-dasharray: 9.6,2.4,1.5,2.4; stroke-dashoffset: 0; stroke: #2ca02c; stroke-width: 1.5\"/>\n   </g>\n   <g id=\"line2d_31\">\n    <path d=\"M 34.954394 13.5 \nL 44.698573 88.761413 \nL 54.442752 106.096829 \nL 64.186931 110.95209 \nL 73.93111 117.726367 \n\" clip-path=\"url(#p868a040ccd)\" style=\"fill: none; stroke: #1f77b4; stroke-width: 1.5; stroke-linecap: square\"/>\n   </g>\n   <g id=\"line2d_32\">\n    <path d=\"M 49.633125 86.995059 \nL 69.163125 101.534775 \n\" clip-path=\"url(#p868a040ccd)\" style=\"fill: none; stroke-dasharray: 5.55,2.4; stroke-dashoffset: 0; stroke: #ff7f0e; stroke-width: 1.5\"/>\n   </g>\n   <g id=\"line2d_33\">\n    <path d=\"M 49.633125 30.698446 \nL 69.163125 22.393819 \n\" clip-path=\"url(#p868a040ccd)\" style=\"fill: none; stroke-dasharray: 9.6,2.4,1.5,2.4; stroke-dashoffset: 0; stroke: #2ca02c; stroke-width: 1.5\"/>\n   </g>\n   <g id=\"line2d_34\">\n    <path d=\"M 34.954394 13.5 \nL 44.698573 88.761413 \nL 54.442752 106.096829 \nL 64.186931 110.95209 \nL 73.93111 117.726367 \nL 83.675289 119.374395 \n\" clip-path=\"url(#p868a040ccd)\" style=\"fill: none; stroke: #1f77b4; stroke-width: 1.5; stroke-linecap: square\"/>\n   </g>\n   <g id=\"line2d_35\">\n    <path d=\"M 49.633125 86.995059 \nL 69.163125 101.534775 \n\" clip-path=\"url(#p868a040ccd)\" style=\"fill: none; stroke-dasharray: 5.55,2.4; stroke-dashoffset: 0; stroke: #ff7f0e; stroke-width: 1.5\"/>\n   </g>\n   <g id=\"line2d_36\">\n    <path d=\"M 49.633125 30.698446 \nL 69.163125 22.393819 \n\" clip-path=\"url(#p868a040ccd)\" style=\"fill: none; stroke-dasharray: 9.6,2.4,1.5,2.4; stroke-dashoffset: 0; stroke: #2ca02c; stroke-width: 1.5\"/>\n   </g>\n   <g id=\"line2d_37\">\n    <path d=\"M 34.954394 13.5 \nL 44.698573 88.761413 \nL 54.442752 106.096829 \nL 64.186931 110.95209 \nL 73.93111 117.726367 \nL 83.675289 119.374395 \n\" clip-path=\"url(#p868a040ccd)\" style=\"fill: none; stroke: #1f77b4; stroke-width: 1.5; stroke-linecap: square\"/>\n   </g>\n   <g id=\"line2d_38\">\n    <path d=\"M 49.633125 86.995059 \nL 69.163125 101.534775 \nL 88.693125 115.218736 \n\" clip-path=\"url(#p868a040ccd)\" style=\"fill: none; stroke-dasharray: 5.55,2.4; stroke-dashoffset: 0; stroke: #ff7f0e; stroke-width: 1.5\"/>\n   </g>\n   <g id=\"line2d_39\">\n    <path d=\"M 49.633125 30.698446 \nL 69.163125 22.393819 \n\" clip-path=\"url(#p868a040ccd)\" style=\"fill: none; stroke-dasharray: 9.6,2.4,1.5,2.4; stroke-dashoffset: 0; stroke: #2ca02c; stroke-width: 1.5\"/>\n   </g>\n   <g id=\"line2d_40\">\n    <path d=\"M 34.954394 13.5 \nL 44.698573 88.761413 \nL 54.442752 106.096829 \nL 64.186931 110.95209 \nL 73.93111 117.726367 \nL 83.675289 119.374395 \n\" clip-path=\"url(#p868a040ccd)\" style=\"fill: none; stroke: #1f77b4; stroke-width: 1.5; stroke-linecap: square\"/>\n   </g>\n   <g id=\"line2d_41\">\n    <path d=\"M 49.633125 86.995059 \nL 69.163125 101.534775 \nL 88.693125 115.218736 \n\" clip-path=\"url(#p868a040ccd)\" style=\"fill: none; stroke-dasharray: 5.55,2.4; stroke-dashoffset: 0; stroke: #ff7f0e; stroke-width: 1.5\"/>\n   </g>\n   <g id=\"line2d_42\">\n    <path d=\"M 49.633125 30.698446 \nL 69.163125 22.393819 \nL 88.693125 17.930899 \n\" clip-path=\"url(#p868a040ccd)\" style=\"fill: none; stroke-dasharray: 9.6,2.4,1.5,2.4; stroke-dashoffset: 0; stroke: #2ca02c; stroke-width: 1.5\"/>\n   </g>\n   <g id=\"line2d_43\">\n    <path d=\"M 34.954394 13.5 \nL 44.698573 88.761413 \nL 54.442752 106.096829 \nL 64.186931 110.95209 \nL 73.93111 117.726367 \nL 83.675289 119.374395 \nL 93.419468 124.243591 \n\" clip-path=\"url(#p868a040ccd)\" style=\"fill: none; stroke: #1f77b4; stroke-width: 1.5; stroke-linecap: square\"/>\n   </g>\n   <g id=\"line2d_44\">\n    <path d=\"M 49.633125 86.995059 \nL 69.163125 101.534775 \nL 88.693125 115.218736 \n\" clip-path=\"url(#p868a040ccd)\" style=\"fill: none; stroke-dasharray: 5.55,2.4; stroke-dashoffset: 0; stroke: #ff7f0e; stroke-width: 1.5\"/>\n   </g>\n   <g id=\"line2d_45\">\n    <path d=\"M 49.633125 30.698446 \nL 69.163125 22.393819 \nL 88.693125 17.930899 \n\" clip-path=\"url(#p868a040ccd)\" style=\"fill: none; stroke-dasharray: 9.6,2.4,1.5,2.4; stroke-dashoffset: 0; stroke: #2ca02c; stroke-width: 1.5\"/>\n   </g>\n   <g id=\"line2d_46\">\n    <path d=\"M 34.954394 13.5 \nL 44.698573 88.761413 \nL 54.442752 106.096829 \nL 64.186931 110.95209 \nL 73.93111 117.726367 \nL 83.675289 119.374395 \nL 93.419468 124.243591 \nL 103.163647 124.554934 \n\" clip-path=\"url(#p868a040ccd)\" style=\"fill: none; stroke: #1f77b4; stroke-width: 1.5; stroke-linecap: square\"/>\n   </g>\n   <g id=\"line2d_47\">\n    <path d=\"M 49.633125 86.995059 \nL 69.163125 101.534775 \nL 88.693125 115.218736 \n\" clip-path=\"url(#p868a040ccd)\" style=\"fill: none; stroke-dasharray: 5.55,2.4; stroke-dashoffset: 0; stroke: #ff7f0e; stroke-width: 1.5\"/>\n   </g>\n   <g id=\"line2d_48\">\n    <path d=\"M 49.633125 30.698446 \nL 69.163125 22.393819 \nL 88.693125 17.930899 \n\" clip-path=\"url(#p868a040ccd)\" style=\"fill: none; stroke-dasharray: 9.6,2.4,1.5,2.4; stroke-dashoffset: 0; stroke: #2ca02c; stroke-width: 1.5\"/>\n   </g>\n   <g id=\"line2d_49\">\n    <path d=\"M 34.954394 13.5 \nL 44.698573 88.761413 \nL 54.442752 106.096829 \nL 64.186931 110.95209 \nL 73.93111 117.726367 \nL 83.675289 119.374395 \nL 93.419468 124.243591 \nL 103.163647 124.554934 \n\" clip-path=\"url(#p868a040ccd)\" style=\"fill: none; stroke: #1f77b4; stroke-width: 1.5; stroke-linecap: square\"/>\n   </g>\n   <g id=\"line2d_50\">\n    <path d=\"M 49.633125 86.995059 \nL 69.163125 101.534775 \nL 88.693125 115.218736 \nL 108.223125 110.616023 \n\" clip-path=\"url(#p868a040ccd)\" style=\"fill: none; stroke-dasharray: 5.55,2.4; stroke-dashoffset: 0; stroke: #ff7f0e; stroke-width: 1.5\"/>\n   </g>\n   <g id=\"line2d_51\">\n    <path d=\"M 49.633125 30.698446 \nL 69.163125 22.393819 \nL 88.693125 17.930899 \n\" clip-path=\"url(#p868a040ccd)\" style=\"fill: none; stroke-dasharray: 9.6,2.4,1.5,2.4; stroke-dashoffset: 0; stroke: #2ca02c; stroke-width: 1.5\"/>\n   </g>\n   <g id=\"line2d_52\">\n    <path d=\"M 34.954394 13.5 \nL 44.698573 88.761413 \nL 54.442752 106.096829 \nL 64.186931 110.95209 \nL 73.93111 117.726367 \nL 83.675289 119.374395 \nL 93.419468 124.243591 \nL 103.163647 124.554934 \n\" clip-path=\"url(#p868a040ccd)\" style=\"fill: none; stroke: #1f77b4; stroke-width: 1.5; stroke-linecap: square\"/>\n   </g>\n   <g id=\"line2d_53\">\n    <path d=\"M 49.633125 86.995059 \nL 69.163125 101.534775 \nL 88.693125 115.218736 \nL 108.223125 110.616023 \n\" clip-path=\"url(#p868a040ccd)\" style=\"fill: none; stroke-dasharray: 5.55,2.4; stroke-dashoffset: 0; stroke: #ff7f0e; stroke-width: 1.5\"/>\n   </g>\n   <g id=\"line2d_54\">\n    <path d=\"M 49.633125 30.698446 \nL 69.163125 22.393819 \nL 88.693125 17.930899 \nL 108.223125 20.611921 \n\" clip-path=\"url(#p868a040ccd)\" style=\"fill: none; stroke-dasharray: 9.6,2.4,1.5,2.4; stroke-dashoffset: 0; stroke: #2ca02c; stroke-width: 1.5\"/>\n   </g>\n   <g id=\"line2d_55\">\n    <path d=\"M 34.954394 13.5 \nL 44.698573 88.761413 \nL 54.442752 106.096829 \nL 64.186931 110.95209 \nL 73.93111 117.726367 \nL 83.675289 119.374395 \nL 93.419468 124.243591 \nL 103.163647 124.554934 \nL 112.907826 128.140857 \n\" clip-path=\"url(#p868a040ccd)\" style=\"fill: none; stroke: #1f77b4; stroke-width: 1.5; stroke-linecap: square\"/>\n   </g>\n   <g id=\"line2d_56\">\n    <path d=\"M 49.633125 86.995059 \nL 69.163125 101.534775 \nL 88.693125 115.218736 \nL 108.223125 110.616023 \n\" clip-path=\"url(#p868a040ccd)\" style=\"fill: none; stroke-dasharray: 5.55,2.4; stroke-dashoffset: 0; stroke: #ff7f0e; stroke-width: 1.5\"/>\n   </g>\n   <g id=\"line2d_57\">\n    <path d=\"M 49.633125 30.698446 \nL 69.163125 22.393819 \nL 88.693125 17.930899 \nL 108.223125 20.611921 \n\" clip-path=\"url(#p868a040ccd)\" style=\"fill: none; stroke-dasharray: 9.6,2.4,1.5,2.4; stroke-dashoffset: 0; stroke: #2ca02c; stroke-width: 1.5\"/>\n   </g>\n   <g id=\"line2d_58\">\n    <path d=\"M 34.954394 13.5 \nL 44.698573 88.761413 \nL 54.442752 106.096829 \nL 64.186931 110.95209 \nL 73.93111 117.726367 \nL 83.675289 119.374395 \nL 93.419468 124.243591 \nL 103.163647 124.554934 \nL 112.907826 128.140857 \nL 122.652006 127.544476 \n\" clip-path=\"url(#p868a040ccd)\" style=\"fill: none; stroke: #1f77b4; stroke-width: 1.5; stroke-linecap: square\"/>\n   </g>\n   <g id=\"line2d_59\">\n    <path d=\"M 49.633125 86.995059 \nL 69.163125 101.534775 \nL 88.693125 115.218736 \nL 108.223125 110.616023 \n\" clip-path=\"url(#p868a040ccd)\" style=\"fill: none; stroke-dasharray: 5.55,2.4; stroke-dashoffset: 0; stroke: #ff7f0e; stroke-width: 1.5\"/>\n   </g>\n   <g id=\"line2d_60\">\n    <path d=\"M 49.633125 30.698446 \nL 69.163125 22.393819 \nL 88.693125 17.930899 \nL 108.223125 20.611921 \n\" clip-path=\"url(#p868a040ccd)\" style=\"fill: none; stroke-dasharray: 9.6,2.4,1.5,2.4; stroke-dashoffset: 0; stroke: #2ca02c; stroke-width: 1.5\"/>\n   </g>\n   <g id=\"line2d_61\">\n    <path d=\"M 34.954394 13.5 \nL 44.698573 88.761413 \nL 54.442752 106.096829 \nL 64.186931 110.95209 \nL 73.93111 117.726367 \nL 83.675289 119.374395 \nL 93.419468 124.243591 \nL 103.163647 124.554934 \nL 112.907826 128.140857 \nL 122.652006 127.544476 \n\" clip-path=\"url(#p868a040ccd)\" style=\"fill: none; stroke: #1f77b4; stroke-width: 1.5; stroke-linecap: square\"/>\n   </g>\n   <g id=\"line2d_62\">\n    <path d=\"M 49.633125 86.995059 \nL 69.163125 101.534775 \nL 88.693125 115.218736 \nL 108.223125 110.616023 \nL 127.753125 124.09892 \n\" clip-path=\"url(#p868a040ccd)\" style=\"fill: none; stroke-dasharray: 5.55,2.4; stroke-dashoffset: 0; stroke: #ff7f0e; stroke-width: 1.5\"/>\n   </g>\n   <g id=\"line2d_63\">\n    <path d=\"M 49.633125 30.698446 \nL 69.163125 22.393819 \nL 88.693125 17.930899 \nL 108.223125 20.611921 \n\" clip-path=\"url(#p868a040ccd)\" style=\"fill: none; stroke-dasharray: 9.6,2.4,1.5,2.4; stroke-dashoffset: 0; stroke: #2ca02c; stroke-width: 1.5\"/>\n   </g>\n   <g id=\"line2d_64\">\n    <path d=\"M 34.954394 13.5 \nL 44.698573 88.761413 \nL 54.442752 106.096829 \nL 64.186931 110.95209 \nL 73.93111 117.726367 \nL 83.675289 119.374395 \nL 93.419468 124.243591 \nL 103.163647 124.554934 \nL 112.907826 128.140857 \nL 122.652006 127.544476 \n\" clip-path=\"url(#p868a040ccd)\" style=\"fill: none; stroke: #1f77b4; stroke-width: 1.5; stroke-linecap: square\"/>\n   </g>\n   <g id=\"line2d_65\">\n    <path d=\"M 49.633125 86.995059 \nL 69.163125 101.534775 \nL 88.693125 115.218736 \nL 108.223125 110.616023 \nL 127.753125 124.09892 \n\" clip-path=\"url(#p868a040ccd)\" style=\"fill: none; stroke-dasharray: 5.55,2.4; stroke-dashoffset: 0; stroke: #ff7f0e; stroke-width: 1.5\"/>\n   </g>\n   <g id=\"line2d_66\">\n    <path d=\"M 49.633125 30.698446 \nL 69.163125 22.393819 \nL 88.693125 17.930899 \nL 108.223125 20.611921 \nL 127.753125 15.119096 \n\" clip-path=\"url(#p868a040ccd)\" style=\"fill: none; stroke-dasharray: 9.6,2.4,1.5,2.4; stroke-dashoffset: 0; stroke: #2ca02c; stroke-width: 1.5\"/>\n   </g>\n   <g id=\"line2d_67\">\n    <path d=\"M 34.954394 13.5 \nL 44.698573 88.761413 \nL 54.442752 106.096829 \nL 64.186931 110.95209 \nL 73.93111 117.726367 \nL 83.675289 119.374395 \nL 93.419468 124.243591 \nL 103.163647 124.554934 \nL 112.907826 128.140857 \nL 122.652006 127.544476 \nL 132.396185 131.080059 \n\" clip-path=\"url(#p868a040ccd)\" style=\"fill: none; stroke: #1f77b4; stroke-width: 1.5; stroke-linecap: square\"/>\n   </g>\n   <g id=\"line2d_68\">\n    <path d=\"M 49.633125 86.995059 \nL 69.163125 101.534775 \nL 88.693125 115.218736 \nL 108.223125 110.616023 \nL 127.753125 124.09892 \n\" clip-path=\"url(#p868a040ccd)\" style=\"fill: none; stroke-dasharray: 5.55,2.4; stroke-dashoffset: 0; stroke: #ff7f0e; stroke-width: 1.5\"/>\n   </g>\n   <g id=\"line2d_69\">\n    <path d=\"M 49.633125 30.698446 \nL 69.163125 22.393819 \nL 88.693125 17.930899 \nL 108.223125 20.611921 \nL 127.753125 15.119096 \n\" clip-path=\"url(#p868a040ccd)\" style=\"fill: none; stroke-dasharray: 9.6,2.4,1.5,2.4; stroke-dashoffset: 0; stroke: #2ca02c; stroke-width: 1.5\"/>\n   </g>\n   <g id=\"line2d_70\">\n    <path d=\"M 34.954394 13.5 \nL 44.698573 88.761413 \nL 54.442752 106.096829 \nL 64.186931 110.95209 \nL 73.93111 117.726367 \nL 83.675289 119.374395 \nL 93.419468 124.243591 \nL 103.163647 124.554934 \nL 112.907826 128.140857 \nL 122.652006 127.544476 \nL 132.396185 131.080059 \nL 142.140364 131.19555 \n\" clip-path=\"url(#p868a040ccd)\" style=\"fill: none; stroke: #1f77b4; stroke-width: 1.5; stroke-linecap: square\"/>\n   </g>\n   <g id=\"line2d_71\">\n    <path d=\"M 49.633125 86.995059 \nL 69.163125 101.534775 \nL 88.693125 115.218736 \nL 108.223125 110.616023 \nL 127.753125 124.09892 \n\" clip-path=\"url(#p868a040ccd)\" style=\"fill: none; stroke-dasharray: 5.55,2.4; stroke-dashoffset: 0; stroke: #ff7f0e; stroke-width: 1.5\"/>\n   </g>\n   <g id=\"line2d_72\">\n    <path d=\"M 49.633125 30.698446 \nL 69.163125 22.393819 \nL 88.693125 17.930899 \nL 108.223125 20.611921 \nL 127.753125 15.119096 \n\" clip-path=\"url(#p868a040ccd)\" style=\"fill: none; stroke-dasharray: 9.6,2.4,1.5,2.4; stroke-dashoffset: 0; stroke: #2ca02c; stroke-width: 1.5\"/>\n   </g>\n   <g id=\"line2d_73\">\n    <path d=\"M 34.954394 13.5 \nL 44.698573 88.761413 \nL 54.442752 106.096829 \nL 64.186931 110.95209 \nL 73.93111 117.726367 \nL 83.675289 119.374395 \nL 93.419468 124.243591 \nL 103.163647 124.554934 \nL 112.907826 128.140857 \nL 122.652006 127.544476 \nL 132.396185 131.080059 \nL 142.140364 131.19555 \n\" clip-path=\"url(#p868a040ccd)\" style=\"fill: none; stroke: #1f77b4; stroke-width: 1.5; stroke-linecap: square\"/>\n   </g>\n   <g id=\"line2d_74\">\n    <path d=\"M 49.633125 86.995059 \nL 69.163125 101.534775 \nL 88.693125 115.218736 \nL 108.223125 110.616023 \nL 127.753125 124.09892 \nL 147.283125 112.040321 \n\" clip-path=\"url(#p868a040ccd)\" style=\"fill: none; stroke-dasharray: 5.55,2.4; stroke-dashoffset: 0; stroke: #ff7f0e; stroke-width: 1.5\"/>\n   </g>\n   <g id=\"line2d_75\">\n    <path d=\"M 49.633125 30.698446 \nL 69.163125 22.393819 \nL 88.693125 17.930899 \nL 108.223125 20.611921 \nL 127.753125 15.119096 \n\" clip-path=\"url(#p868a040ccd)\" style=\"fill: none; stroke-dasharray: 9.6,2.4,1.5,2.4; stroke-dashoffset: 0; stroke: #2ca02c; stroke-width: 1.5\"/>\n   </g>\n   <g id=\"line2d_76\">\n    <path d=\"M 34.954394 13.5 \nL 44.698573 88.761413 \nL 54.442752 106.096829 \nL 64.186931 110.95209 \nL 73.93111 117.726367 \nL 83.675289 119.374395 \nL 93.419468 124.243591 \nL 103.163647 124.554934 \nL 112.907826 128.140857 \nL 122.652006 127.544476 \nL 132.396185 131.080059 \nL 142.140364 131.19555 \n\" clip-path=\"url(#p868a040ccd)\" style=\"fill: none; stroke: #1f77b4; stroke-width: 1.5; stroke-linecap: square\"/>\n   </g>\n   <g id=\"line2d_77\">\n    <path d=\"M 49.633125 86.995059 \nL 69.163125 101.534775 \nL 88.693125 115.218736 \nL 108.223125 110.616023 \nL 127.753125 124.09892 \nL 147.283125 112.040321 \n\" clip-path=\"url(#p868a040ccd)\" style=\"fill: none; stroke-dasharray: 5.55,2.4; stroke-dashoffset: 0; stroke: #ff7f0e; stroke-width: 1.5\"/>\n   </g>\n   <g id=\"line2d_78\">\n    <path d=\"M 49.633125 30.698446 \nL 69.163125 22.393819 \nL 88.693125 17.930899 \nL 108.223125 20.611921 \nL 127.753125 15.119096 \nL 147.283125 19.255062 \n\" clip-path=\"url(#p868a040ccd)\" style=\"fill: none; stroke-dasharray: 9.6,2.4,1.5,2.4; stroke-dashoffset: 0; stroke: #2ca02c; stroke-width: 1.5\"/>\n   </g>\n   <g id=\"line2d_79\">\n    <path d=\"M 34.954394 13.5 \nL 44.698573 88.761413 \nL 54.442752 106.096829 \nL 64.186931 110.95209 \nL 73.93111 117.726367 \nL 83.675289 119.374395 \nL 93.419468 124.243591 \nL 103.163647 124.554934 \nL 112.907826 128.140857 \nL 122.652006 127.544476 \nL 132.396185 131.080059 \nL 142.140364 131.19555 \nL 151.884543 134.000041 \n\" clip-path=\"url(#p868a040ccd)\" style=\"fill: none; stroke: #1f77b4; stroke-width: 1.5; stroke-linecap: square\"/>\n   </g>\n   <g id=\"line2d_80\">\n    <path d=\"M 49.633125 86.995059 \nL 69.163125 101.534775 \nL 88.693125 115.218736 \nL 108.223125 110.616023 \nL 127.753125 124.09892 \nL 147.283125 112.040321 \n\" clip-path=\"url(#p868a040ccd)\" style=\"fill: none; stroke-dasharray: 5.55,2.4; stroke-dashoffset: 0; stroke: #ff7f0e; stroke-width: 1.5\"/>\n   </g>\n   <g id=\"line2d_81\">\n    <path d=\"M 49.633125 30.698446 \nL 69.163125 22.393819 \nL 88.693125 17.930899 \nL 108.223125 20.611921 \nL 127.753125 15.119096 \nL 147.283125 19.255062 \n\" clip-path=\"url(#p868a040ccd)\" style=\"fill: none; stroke-dasharray: 9.6,2.4,1.5,2.4; stroke-dashoffset: 0; stroke: #2ca02c; stroke-width: 1.5\"/>\n   </g>\n   <g id=\"line2d_82\">\n    <path d=\"M 34.954394 13.5 \nL 44.698573 88.761413 \nL 54.442752 106.096829 \nL 64.186931 110.95209 \nL 73.93111 117.726367 \nL 83.675289 119.374395 \nL 93.419468 124.243591 \nL 103.163647 124.554934 \nL 112.907826 128.140857 \nL 122.652006 127.544476 \nL 132.396185 131.080059 \nL 142.140364 131.19555 \nL 151.884543 134.000041 \nL 161.628722 133.281549 \n\" clip-path=\"url(#p868a040ccd)\" style=\"fill: none; stroke: #1f77b4; stroke-width: 1.5; stroke-linecap: square\"/>\n   </g>\n   <g id=\"line2d_83\">\n    <path d=\"M 49.633125 86.995059 \nL 69.163125 101.534775 \nL 88.693125 115.218736 \nL 108.223125 110.616023 \nL 127.753125 124.09892 \nL 147.283125 112.040321 \n\" clip-path=\"url(#p868a040ccd)\" style=\"fill: none; stroke-dasharray: 5.55,2.4; stroke-dashoffset: 0; stroke: #ff7f0e; stroke-width: 1.5\"/>\n   </g>\n   <g id=\"line2d_84\">\n    <path d=\"M 49.633125 30.698446 \nL 69.163125 22.393819 \nL 88.693125 17.930899 \nL 108.223125 20.611921 \nL 127.753125 15.119096 \nL 147.283125 19.255062 \n\" clip-path=\"url(#p868a040ccd)\" style=\"fill: none; stroke-dasharray: 9.6,2.4,1.5,2.4; stroke-dashoffset: 0; stroke: #2ca02c; stroke-width: 1.5\"/>\n   </g>\n   <g id=\"line2d_85\">\n    <path d=\"M 34.954394 13.5 \nL 44.698573 88.761413 \nL 54.442752 106.096829 \nL 64.186931 110.95209 \nL 73.93111 117.726367 \nL 83.675289 119.374395 \nL 93.419468 124.243591 \nL 103.163647 124.554934 \nL 112.907826 128.140857 \nL 122.652006 127.544476 \nL 132.396185 131.080059 \nL 142.140364 131.19555 \nL 151.884543 134.000041 \nL 161.628722 133.281549 \n\" clip-path=\"url(#p868a040ccd)\" style=\"fill: none; stroke: #1f77b4; stroke-width: 1.5; stroke-linecap: square\"/>\n   </g>\n   <g id=\"line2d_86\">\n    <path d=\"M 49.633125 86.995059 \nL 69.163125 101.534775 \nL 88.693125 115.218736 \nL 108.223125 110.616023 \nL 127.753125 124.09892 \nL 147.283125 112.040321 \nL 166.813125 109.519269 \n\" clip-path=\"url(#p868a040ccd)\" style=\"fill: none; stroke-dasharray: 5.55,2.4; stroke-dashoffset: 0; stroke: #ff7f0e; stroke-width: 1.5\"/>\n   </g>\n   <g id=\"line2d_87\">\n    <path d=\"M 49.633125 30.698446 \nL 69.163125 22.393819 \nL 88.693125 17.930899 \nL 108.223125 20.611921 \nL 127.753125 15.119096 \nL 147.283125 19.255062 \n\" clip-path=\"url(#p868a040ccd)\" style=\"fill: none; stroke-dasharray: 9.6,2.4,1.5,2.4; stroke-dashoffset: 0; stroke: #2ca02c; stroke-width: 1.5\"/>\n   </g>\n   <g id=\"line2d_88\">\n    <path d=\"M 34.954394 13.5 \nL 44.698573 88.761413 \nL 54.442752 106.096829 \nL 64.186931 110.95209 \nL 73.93111 117.726367 \nL 83.675289 119.374395 \nL 93.419468 124.243591 \nL 103.163647 124.554934 \nL 112.907826 128.140857 \nL 122.652006 127.544476 \nL 132.396185 131.080059 \nL 142.140364 131.19555 \nL 151.884543 134.000041 \nL 161.628722 133.281549 \n\" clip-path=\"url(#p868a040ccd)\" style=\"fill: none; stroke: #1f77b4; stroke-width: 1.5; stroke-linecap: square\"/>\n   </g>\n   <g id=\"line2d_89\">\n    <path d=\"M 49.633125 86.995059 \nL 69.163125 101.534775 \nL 88.693125 115.218736 \nL 108.223125 110.616023 \nL 127.753125 124.09892 \nL 147.283125 112.040321 \nL 166.813125 109.519269 \n\" clip-path=\"url(#p868a040ccd)\" style=\"fill: none; stroke-dasharray: 5.55,2.4; stroke-dashoffset: 0; stroke: #ff7f0e; stroke-width: 1.5\"/>\n   </g>\n   <g id=\"line2d_90\">\n    <path d=\"M 49.633125 30.698446 \nL 69.163125 22.393819 \nL 88.693125 17.930899 \nL 108.223125 20.611921 \nL 127.753125 15.119096 \nL 147.283125 19.255062 \nL 166.813125 20.317662 \n\" clip-path=\"url(#p868a040ccd)\" style=\"fill: none; stroke-dasharray: 9.6,2.4,1.5,2.4; stroke-dashoffset: 0; stroke: #2ca02c; stroke-width: 1.5\"/>\n   </g>\n   <g id=\"line2d_91\">\n    <path d=\"M 34.954394 13.5 \nL 44.698573 88.761413 \nL 54.442752 106.096829 \nL 64.186931 110.95209 \nL 73.93111 117.726367 \nL 83.675289 119.374395 \nL 93.419468 124.243591 \nL 103.163647 124.554934 \nL 112.907826 128.140857 \nL 122.652006 127.544476 \nL 132.396185 131.080059 \nL 142.140364 131.19555 \nL 151.884543 134.000041 \nL 161.628722 133.281549 \nL 171.372901 135.702362 \n\" clip-path=\"url(#p868a040ccd)\" style=\"fill: none; stroke: #1f77b4; stroke-width: 1.5; stroke-linecap: square\"/>\n   </g>\n   <g id=\"line2d_92\">\n    <path d=\"M 49.633125 86.995059 \nL 69.163125 101.534775 \nL 88.693125 115.218736 \nL 108.223125 110.616023 \nL 127.753125 124.09892 \nL 147.283125 112.040321 \nL 166.813125 109.519269 \n\" clip-path=\"url(#p868a040ccd)\" style=\"fill: none; stroke-dasharray: 5.55,2.4; stroke-dashoffset: 0; stroke: #ff7f0e; stroke-width: 1.5\"/>\n   </g>\n   <g id=\"line2d_93\">\n    <path d=\"M 49.633125 30.698446 \nL 69.163125 22.393819 \nL 88.693125 17.930899 \nL 108.223125 20.611921 \nL 127.753125 15.119096 \nL 147.283125 19.255062 \nL 166.813125 20.317662 \n\" clip-path=\"url(#p868a040ccd)\" style=\"fill: none; stroke-dasharray: 9.6,2.4,1.5,2.4; stroke-dashoffset: 0; stroke: #2ca02c; stroke-width: 1.5\"/>\n   </g>\n   <g id=\"line2d_94\">\n    <path d=\"M 34.954394 13.5 \nL 44.698573 88.761413 \nL 54.442752 106.096829 \nL 64.186931 110.95209 \nL 73.93111 117.726367 \nL 83.675289 119.374395 \nL 93.419468 124.243591 \nL 103.163647 124.554934 \nL 112.907826 128.140857 \nL 122.652006 127.544476 \nL 132.396185 131.080059 \nL 142.140364 131.19555 \nL 151.884543 134.000041 \nL 161.628722 133.281549 \nL 171.372901 135.702362 \nL 181.11708 135.635706 \n\" clip-path=\"url(#p868a040ccd)\" style=\"fill: none; stroke: #1f77b4; stroke-width: 1.5; stroke-linecap: square\"/>\n   </g>\n   <g id=\"line2d_95\">\n    <path d=\"M 49.633125 86.995059 \nL 69.163125 101.534775 \nL 88.693125 115.218736 \nL 108.223125 110.616023 \nL 127.753125 124.09892 \nL 147.283125 112.040321 \nL 166.813125 109.519269 \n\" clip-path=\"url(#p868a040ccd)\" style=\"fill: none; stroke-dasharray: 5.55,2.4; stroke-dashoffset: 0; stroke: #ff7f0e; stroke-width: 1.5\"/>\n   </g>\n   <g id=\"line2d_96\">\n    <path d=\"M 49.633125 30.698446 \nL 69.163125 22.393819 \nL 88.693125 17.930899 \nL 108.223125 20.611921 \nL 127.753125 15.119096 \nL 147.283125 19.255062 \nL 166.813125 20.317662 \n\" clip-path=\"url(#p868a040ccd)\" style=\"fill: none; stroke-dasharray: 9.6,2.4,1.5,2.4; stroke-dashoffset: 0; stroke: #2ca02c; stroke-width: 1.5\"/>\n   </g>\n   <g id=\"line2d_97\">\n    <path d=\"M 34.954394 13.5 \nL 44.698573 88.761413 \nL 54.442752 106.096829 \nL 64.186931 110.95209 \nL 73.93111 117.726367 \nL 83.675289 119.374395 \nL 93.419468 124.243591 \nL 103.163647 124.554934 \nL 112.907826 128.140857 \nL 122.652006 127.544476 \nL 132.396185 131.080059 \nL 142.140364 131.19555 \nL 151.884543 134.000041 \nL 161.628722 133.281549 \nL 171.372901 135.702362 \nL 181.11708 135.635706 \n\" clip-path=\"url(#p868a040ccd)\" style=\"fill: none; stroke: #1f77b4; stroke-width: 1.5; stroke-linecap: square\"/>\n   </g>\n   <g id=\"line2d_98\">\n    <path d=\"M 49.633125 86.995059 \nL 69.163125 101.534775 \nL 88.693125 115.218736 \nL 108.223125 110.616023 \nL 127.753125 124.09892 \nL 147.283125 112.040321 \nL 166.813125 109.519269 \nL 186.343125 116.226233 \n\" clip-path=\"url(#p868a040ccd)\" style=\"fill: none; stroke-dasharray: 5.55,2.4; stroke-dashoffset: 0; stroke: #ff7f0e; stroke-width: 1.5\"/>\n   </g>\n   <g id=\"line2d_99\">\n    <path d=\"M 49.633125 30.698446 \nL 69.163125 22.393819 \nL 88.693125 17.930899 \nL 108.223125 20.611921 \nL 127.753125 15.119096 \nL 147.283125 19.255062 \nL 166.813125 20.317662 \n\" clip-path=\"url(#p868a040ccd)\" style=\"fill: none; stroke-dasharray: 9.6,2.4,1.5,2.4; stroke-dashoffset: 0; stroke: #2ca02c; stroke-width: 1.5\"/>\n   </g>\n   <g id=\"line2d_100\">\n    <path d=\"M 34.954394 13.5 \nL 44.698573 88.761413 \nL 54.442752 106.096829 \nL 64.186931 110.95209 \nL 73.93111 117.726367 \nL 83.675289 119.374395 \nL 93.419468 124.243591 \nL 103.163647 124.554934 \nL 112.907826 128.140857 \nL 122.652006 127.544476 \nL 132.396185 131.080059 \nL 142.140364 131.19555 \nL 151.884543 134.000041 \nL 161.628722 133.281549 \nL 171.372901 135.702362 \nL 181.11708 135.635706 \n\" clip-path=\"url(#p868a040ccd)\" style=\"fill: none; stroke: #1f77b4; stroke-width: 1.5; stroke-linecap: square\"/>\n   </g>\n   <g id=\"line2d_101\">\n    <path d=\"M 49.633125 86.995059 \nL 69.163125 101.534775 \nL 88.693125 115.218736 \nL 108.223125 110.616023 \nL 127.753125 124.09892 \nL 147.283125 112.040321 \nL 166.813125 109.519269 \nL 186.343125 116.226233 \n\" clip-path=\"url(#p868a040ccd)\" style=\"fill: none; stroke-dasharray: 5.55,2.4; stroke-dashoffset: 0; stroke: #ff7f0e; stroke-width: 1.5\"/>\n   </g>\n   <g id=\"line2d_102\">\n    <path d=\"M 49.633125 30.698446 \nL 69.163125 22.393819 \nL 88.693125 17.930899 \nL 108.223125 20.611921 \nL 127.753125 15.119096 \nL 147.283125 19.255062 \nL 166.813125 20.317662 \nL 186.343125 17.440469 \n\" clip-path=\"url(#p868a040ccd)\" style=\"fill: none; stroke-dasharray: 9.6,2.4,1.5,2.4; stroke-dashoffset: 0; stroke: #2ca02c; stroke-width: 1.5\"/>\n   </g>\n   <g id=\"line2d_103\">\n    <path d=\"M 34.954394 13.5 \nL 44.698573 88.761413 \nL 54.442752 106.096829 \nL 64.186931 110.95209 \nL 73.93111 117.726367 \nL 83.675289 119.374395 \nL 93.419468 124.243591 \nL 103.163647 124.554934 \nL 112.907826 128.140857 \nL 122.652006 127.544476 \nL 132.396185 131.080059 \nL 142.140364 131.19555 \nL 151.884543 134.000041 \nL 161.628722 133.281549 \nL 171.372901 135.702362 \nL 181.11708 135.635706 \nL 190.861259 137.44499 \n\" clip-path=\"url(#p868a040ccd)\" style=\"fill: none; stroke: #1f77b4; stroke-width: 1.5; stroke-linecap: square\"/>\n   </g>\n   <g id=\"line2d_104\">\n    <path d=\"M 49.633125 86.995059 \nL 69.163125 101.534775 \nL 88.693125 115.218736 \nL 108.223125 110.616023 \nL 127.753125 124.09892 \nL 147.283125 112.040321 \nL 166.813125 109.519269 \nL 186.343125 116.226233 \n\" clip-path=\"url(#p868a040ccd)\" style=\"fill: none; stroke-dasharray: 5.55,2.4; stroke-dashoffset: 0; stroke: #ff7f0e; stroke-width: 1.5\"/>\n   </g>\n   <g id=\"line2d_105\">\n    <path d=\"M 49.633125 30.698446 \nL 69.163125 22.393819 \nL 88.693125 17.930899 \nL 108.223125 20.611921 \nL 127.753125 15.119096 \nL 147.283125 19.255062 \nL 166.813125 20.317662 \nL 186.343125 17.440469 \n\" clip-path=\"url(#p868a040ccd)\" style=\"fill: none; stroke-dasharray: 9.6,2.4,1.5,2.4; stroke-dashoffset: 0; stroke: #2ca02c; stroke-width: 1.5\"/>\n   </g>\n   <g id=\"line2d_106\">\n    <path d=\"M 34.954394 13.5 \nL 44.698573 88.761413 \nL 54.442752 106.096829 \nL 64.186931 110.95209 \nL 73.93111 117.726367 \nL 83.675289 119.374395 \nL 93.419468 124.243591 \nL 103.163647 124.554934 \nL 112.907826 128.140857 \nL 122.652006 127.544476 \nL 132.396185 131.080059 \nL 142.140364 131.19555 \nL 151.884543 134.000041 \nL 161.628722 133.281549 \nL 171.372901 135.702362 \nL 181.11708 135.635706 \nL 190.861259 137.44499 \nL 200.605438 137.793169 \n\" clip-path=\"url(#p868a040ccd)\" style=\"fill: none; stroke: #1f77b4; stroke-width: 1.5; stroke-linecap: square\"/>\n   </g>\n   <g id=\"line2d_107\">\n    <path d=\"M 49.633125 86.995059 \nL 69.163125 101.534775 \nL 88.693125 115.218736 \nL 108.223125 110.616023 \nL 127.753125 124.09892 \nL 147.283125 112.040321 \nL 166.813125 109.519269 \nL 186.343125 116.226233 \n\" clip-path=\"url(#p868a040ccd)\" style=\"fill: none; stroke-dasharray: 5.55,2.4; stroke-dashoffset: 0; stroke: #ff7f0e; stroke-width: 1.5\"/>\n   </g>\n   <g id=\"line2d_108\">\n    <path d=\"M 49.633125 30.698446 \nL 69.163125 22.393819 \nL 88.693125 17.930899 \nL 108.223125 20.611921 \nL 127.753125 15.119096 \nL 147.283125 19.255062 \nL 166.813125 20.317662 \nL 186.343125 17.440469 \n\" clip-path=\"url(#p868a040ccd)\" style=\"fill: none; stroke-dasharray: 9.6,2.4,1.5,2.4; stroke-dashoffset: 0; stroke: #2ca02c; stroke-width: 1.5\"/>\n   </g>\n   <g id=\"line2d_109\">\n    <path d=\"M 34.954394 13.5 \nL 44.698573 88.761413 \nL 54.442752 106.096829 \nL 64.186931 110.95209 \nL 73.93111 117.726367 \nL 83.675289 119.374395 \nL 93.419468 124.243591 \nL 103.163647 124.554934 \nL 112.907826 128.140857 \nL 122.652006 127.544476 \nL 132.396185 131.080059 \nL 142.140364 131.19555 \nL 151.884543 134.000041 \nL 161.628722 133.281549 \nL 171.372901 135.702362 \nL 181.11708 135.635706 \nL 190.861259 137.44499 \nL 200.605438 137.793169 \n\" clip-path=\"url(#p868a040ccd)\" style=\"fill: none; stroke: #1f77b4; stroke-width: 1.5; stroke-linecap: square\"/>\n   </g>\n   <g id=\"line2d_110\">\n    <path d=\"M 49.633125 86.995059 \nL 69.163125 101.534775 \nL 88.693125 115.218736 \nL 108.223125 110.616023 \nL 127.753125 124.09892 \nL 147.283125 112.040321 \nL 166.813125 109.519269 \nL 186.343125 116.226233 \nL 205.873125 74.244697 \n\" clip-path=\"url(#p868a040ccd)\" style=\"fill: none; stroke-dasharray: 5.55,2.4; stroke-dashoffset: 0; stroke: #ff7f0e; stroke-width: 1.5\"/>\n   </g>\n   <g id=\"line2d_111\">\n    <path d=\"M 49.633125 30.698446 \nL 69.163125 22.393819 \nL 88.693125 17.930899 \nL 108.223125 20.611921 \nL 127.753125 15.119096 \nL 147.283125 19.255062 \nL 166.813125 20.317662 \nL 186.343125 17.440469 \n\" clip-path=\"url(#p868a040ccd)\" style=\"fill: none; stroke-dasharray: 9.6,2.4,1.5,2.4; stroke-dashoffset: 0; stroke: #2ca02c; stroke-width: 1.5\"/>\n   </g>\n   <g id=\"line2d_112\">\n    <path d=\"M 34.954394 13.5 \nL 44.698573 88.761413 \nL 54.442752 106.096829 \nL 64.186931 110.95209 \nL 73.93111 117.726367 \nL 83.675289 119.374395 \nL 93.419468 124.243591 \nL 103.163647 124.554934 \nL 112.907826 128.140857 \nL 122.652006 127.544476 \nL 132.396185 131.080059 \nL 142.140364 131.19555 \nL 151.884543 134.000041 \nL 161.628722 133.281549 \nL 171.372901 135.702362 \nL 181.11708 135.635706 \nL 190.861259 137.44499 \nL 200.605438 137.793169 \n\" clip-path=\"url(#p868a040ccd)\" style=\"fill: none; stroke: #1f77b4; stroke-width: 1.5; stroke-linecap: square\"/>\n   </g>\n   <g id=\"line2d_113\">\n    <path d=\"M 49.633125 86.995059 \nL 69.163125 101.534775 \nL 88.693125 115.218736 \nL 108.223125 110.616023 \nL 127.753125 124.09892 \nL 147.283125 112.040321 \nL 166.813125 109.519269 \nL 186.343125 116.226233 \nL 205.873125 74.244697 \n\" clip-path=\"url(#p868a040ccd)\" style=\"fill: none; stroke-dasharray: 5.55,2.4; stroke-dashoffset: 0; stroke: #ff7f0e; stroke-width: 1.5\"/>\n   </g>\n   <g id=\"line2d_114\">\n    <path d=\"M 49.633125 30.698446 \nL 69.163125 22.393819 \nL 88.693125 17.930899 \nL 108.223125 20.611921 \nL 127.753125 15.119096 \nL 147.283125 19.255062 \nL 166.813125 20.317662 \nL 186.343125 17.440469 \nL 205.873125 29.668541 \n\" clip-path=\"url(#p868a040ccd)\" style=\"fill: none; stroke-dasharray: 9.6,2.4,1.5,2.4; stroke-dashoffset: 0; stroke: #2ca02c; stroke-width: 1.5\"/>\n   </g>\n   <g id=\"line2d_115\">\n    <path d=\"M 34.954394 13.5 \nL 44.698573 88.761413 \nL 54.442752 106.096829 \nL 64.186931 110.95209 \nL 73.93111 117.726367 \nL 83.675289 119.374395 \nL 93.419468 124.243591 \nL 103.163647 124.554934 \nL 112.907826 128.140857 \nL 122.652006 127.544476 \nL 132.396185 131.080059 \nL 142.140364 131.19555 \nL 151.884543 134.000041 \nL 161.628722 133.281549 \nL 171.372901 135.702362 \nL 181.11708 135.635706 \nL 190.861259 137.44499 \nL 200.605438 137.793169 \nL 210.349618 139.5 \n\" clip-path=\"url(#p868a040ccd)\" style=\"fill: none; stroke: #1f77b4; stroke-width: 1.5; stroke-linecap: square\"/>\n   </g>\n   <g id=\"line2d_116\">\n    <path d=\"M 49.633125 86.995059 \nL 69.163125 101.534775 \nL 88.693125 115.218736 \nL 108.223125 110.616023 \nL 127.753125 124.09892 \nL 147.283125 112.040321 \nL 166.813125 109.519269 \nL 186.343125 116.226233 \nL 205.873125 74.244697 \n\" clip-path=\"url(#p868a040ccd)\" style=\"fill: none; stroke-dasharray: 5.55,2.4; stroke-dashoffset: 0; stroke: #ff7f0e; stroke-width: 1.5\"/>\n   </g>\n   <g id=\"line2d_117\">\n    <path d=\"M 49.633125 30.698446 \nL 69.163125 22.393819 \nL 88.693125 17.930899 \nL 108.223125 20.611921 \nL 127.753125 15.119096 \nL 147.283125 19.255062 \nL 166.813125 20.317662 \nL 186.343125 17.440469 \nL 205.873125 29.668541 \n\" clip-path=\"url(#p868a040ccd)\" style=\"fill: none; stroke-dasharray: 9.6,2.4,1.5,2.4; stroke-dashoffset: 0; stroke: #2ca02c; stroke-width: 1.5\"/>\n   </g>\n   <g id=\"line2d_118\">\n    <path d=\"M 34.954394 13.5 \nL 44.698573 88.761413 \nL 54.442752 106.096829 \nL 64.186931 110.95209 \nL 73.93111 117.726367 \nL 83.675289 119.374395 \nL 93.419468 124.243591 \nL 103.163647 124.554934 \nL 112.907826 128.140857 \nL 122.652006 127.544476 \nL 132.396185 131.080059 \nL 142.140364 131.19555 \nL 151.884543 134.000041 \nL 161.628722 133.281549 \nL 171.372901 135.702362 \nL 181.11708 135.635706 \nL 190.861259 137.44499 \nL 200.605438 137.793169 \nL 210.349618 139.5 \nL 220.093797 139.010599 \n\" clip-path=\"url(#p868a040ccd)\" style=\"fill: none; stroke: #1f77b4; stroke-width: 1.5; stroke-linecap: square\"/>\n   </g>\n   <g id=\"line2d_119\">\n    <path d=\"M 49.633125 86.995059 \nL 69.163125 101.534775 \nL 88.693125 115.218736 \nL 108.223125 110.616023 \nL 127.753125 124.09892 \nL 147.283125 112.040321 \nL 166.813125 109.519269 \nL 186.343125 116.226233 \nL 205.873125 74.244697 \n\" clip-path=\"url(#p868a040ccd)\" style=\"fill: none; stroke-dasharray: 5.55,2.4; stroke-dashoffset: 0; stroke: #ff7f0e; stroke-width: 1.5\"/>\n   </g>\n   <g id=\"line2d_120\">\n    <path d=\"M 49.633125 30.698446 \nL 69.163125 22.393819 \nL 88.693125 17.930899 \nL 108.223125 20.611921 \nL 127.753125 15.119096 \nL 147.283125 19.255062 \nL 166.813125 20.317662 \nL 186.343125 17.440469 \nL 205.873125 29.668541 \n\" clip-path=\"url(#p868a040ccd)\" style=\"fill: none; stroke-dasharray: 9.6,2.4,1.5,2.4; stroke-dashoffset: 0; stroke: #2ca02c; stroke-width: 1.5\"/>\n   </g>\n   <g id=\"line2d_121\">\n    <path d=\"M 34.954394 13.5 \nL 44.698573 88.761413 \nL 54.442752 106.096829 \nL 64.186931 110.95209 \nL 73.93111 117.726367 \nL 83.675289 119.374395 \nL 93.419468 124.243591 \nL 103.163647 124.554934 \nL 112.907826 128.140857 \nL 122.652006 127.544476 \nL 132.396185 131.080059 \nL 142.140364 131.19555 \nL 151.884543 134.000041 \nL 161.628722 133.281549 \nL 171.372901 135.702362 \nL 181.11708 135.635706 \nL 190.861259 137.44499 \nL 200.605438 137.793169 \nL 210.349618 139.5 \nL 220.093797 139.010599 \n\" clip-path=\"url(#p868a040ccd)\" style=\"fill: none; stroke: #1f77b4; stroke-width: 1.5; stroke-linecap: square\"/>\n   </g>\n   <g id=\"line2d_122\">\n    <path d=\"M 49.633125 86.995059 \nL 69.163125 101.534775 \nL 88.693125 115.218736 \nL 108.223125 110.616023 \nL 127.753125 124.09892 \nL 147.283125 112.040321 \nL 166.813125 109.519269 \nL 186.343125 116.226233 \nL 205.873125 74.244697 \nL 225.403125 123.786667 \n\" clip-path=\"url(#p868a040ccd)\" style=\"fill: none; stroke-dasharray: 5.55,2.4; stroke-dashoffset: 0; stroke: #ff7f0e; stroke-width: 1.5\"/>\n   </g>\n   <g id=\"line2d_123\">\n    <path d=\"M 49.633125 30.698446 \nL 69.163125 22.393819 \nL 88.693125 17.930899 \nL 108.223125 20.611921 \nL 127.753125 15.119096 \nL 147.283125 19.255062 \nL 166.813125 20.317662 \nL 186.343125 17.440469 \nL 205.873125 29.668541 \n\" clip-path=\"url(#p868a040ccd)\" style=\"fill: none; stroke-dasharray: 9.6,2.4,1.5,2.4; stroke-dashoffset: 0; stroke: #2ca02c; stroke-width: 1.5\"/>\n   </g>\n   <g id=\"line2d_124\">\n    <path d=\"M 34.954394 13.5 \nL 44.698573 88.761413 \nL 54.442752 106.096829 \nL 64.186931 110.95209 \nL 73.93111 117.726367 \nL 83.675289 119.374395 \nL 93.419468 124.243591 \nL 103.163647 124.554934 \nL 112.907826 128.140857 \nL 122.652006 127.544476 \nL 132.396185 131.080059 \nL 142.140364 131.19555 \nL 151.884543 134.000041 \nL 161.628722 133.281549 \nL 171.372901 135.702362 \nL 181.11708 135.635706 \nL 190.861259 137.44499 \nL 200.605438 137.793169 \nL 210.349618 139.5 \nL 220.093797 139.010599 \n\" clip-path=\"url(#p868a040ccd)\" style=\"fill: none; stroke: #1f77b4; stroke-width: 1.5; stroke-linecap: square\"/>\n   </g>\n   <g id=\"line2d_125\">\n    <path d=\"M 49.633125 86.995059 \nL 69.163125 101.534775 \nL 88.693125 115.218736 \nL 108.223125 110.616023 \nL 127.753125 124.09892 \nL 147.283125 112.040321 \nL 166.813125 109.519269 \nL 186.343125 116.226233 \nL 205.873125 74.244697 \nL 225.403125 123.786667 \n\" clip-path=\"url(#p868a040ccd)\" style=\"fill: none; stroke-dasharray: 5.55,2.4; stroke-dashoffset: 0; stroke: #ff7f0e; stroke-width: 1.5\"/>\n   </g>\n   <g id=\"line2d_126\">\n    <path d=\"M 49.633125 30.698446 \nL 69.163125 22.393819 \nL 88.693125 17.930899 \nL 108.223125 20.611921 \nL 127.753125 15.119096 \nL 147.283125 19.255062 \nL 166.813125 20.317662 \nL 186.343125 17.440469 \nL 205.873125 29.668541 \nL 225.403125 15.184487 \n\" clip-path=\"url(#p868a040ccd)\" style=\"fill: none; stroke-dasharray: 9.6,2.4,1.5,2.4; stroke-dashoffset: 0; stroke: #2ca02c; stroke-width: 1.5\"/>\n   </g>\n   <g id=\"patch_3\">\n    <path d=\"M 30.103125 145.8 \nL 30.103125 7.2 \n\" style=\"fill: none; stroke: #000000; stroke-width: 0.8; stroke-linejoin: miter; stroke-linecap: square\"/>\n   </g>\n   <g id=\"patch_4\">\n    <path d=\"M 225.403125 145.8 \nL 225.403125 7.2 \n\" style=\"fill: none; stroke: #000000; stroke-width: 0.8; stroke-linejoin: miter; stroke-linecap: square\"/>\n   </g>\n   <g id=\"patch_5\">\n    <path d=\"M 30.103125 145.8 \nL 225.403125 145.8 \n\" style=\"fill: none; stroke: #000000; stroke-width: 0.8; stroke-linejoin: miter; stroke-linecap: square\"/>\n   </g>\n   <g id=\"patch_6\">\n    <path d=\"M 30.103125 7.2 \nL 225.403125 7.2 \n\" style=\"fill: none; stroke: #000000; stroke-width: 0.8; stroke-linejoin: miter; stroke-linecap: square\"/>\n   </g>\n   <g id=\"legend_1\">\n    <g id=\"patch_7\">\n     <path d=\"M 87.957813 100.434375 \nL 167.548438 100.434375 \nQ 169.548438 100.434375 169.548438 98.434375 \nL 169.548438 54.565625 \nQ 169.548438 52.565625 167.548438 52.565625 \nL 87.957813 52.565625 \nQ 85.957813 52.565625 85.957813 54.565625 \nL 85.957813 98.434375 \nQ 85.957813 100.434375 87.957813 100.434375 \nz\n\" style=\"fill: #ffffff; opacity: 0.8; stroke: #cccccc; stroke-linejoin: miter\"/>\n    </g>\n    <g id=\"line2d_127\">\n     <path d=\"M 89.957813 60.664063 \nL 99.957813 60.664063 \nL 109.957813 60.664063 \n\" style=\"fill: none; stroke: #1f77b4; stroke-width: 1.5; stroke-linecap: square\"/>\n    </g>\n    <g id=\"text_12\">\n     <!-- train_loss -->\n     <g transform=\"translate(117.957813 64.164063) scale(0.1 -0.1)\">\n      <defs>\n       <path id=\"DejaVuSans-74\" d=\"M 1172 4494 \nL 1172 3500 \nL 2356 3500 \nL 2356 3053 \nL 1172 3053 \nL 1172 1153 \nQ 1172 725 1289 603 \nQ 1406 481 1766 481 \nL 2356 481 \nL 2356 0 \nL 1766 0 \nQ 1100 0 847 248 \nQ 594 497 594 1153 \nL 594 3053 \nL 172 3053 \nL 172 3500 \nL 594 3500 \nL 594 4494 \nL 1172 4494 \nz\n\" transform=\"scale(0.015625)\"/>\n       <path id=\"DejaVuSans-72\" d=\"M 2631 2963 \nQ 2534 3019 2420 3045 \nQ 2306 3072 2169 3072 \nQ 1681 3072 1420 2755 \nQ 1159 2438 1159 1844 \nL 1159 0 \nL 581 0 \nL 581 3500 \nL 1159 3500 \nL 1159 2956 \nQ 1341 3275 1631 3429 \nQ 1922 3584 2338 3584 \nQ 2397 3584 2469 3576 \nQ 2541 3569 2628 3553 \nL 2631 2963 \nz\n\" transform=\"scale(0.015625)\"/>\n       <path id=\"DejaVuSans-61\" d=\"M 2194 1759 \nQ 1497 1759 1228 1600 \nQ 959 1441 959 1056 \nQ 959 750 1161 570 \nQ 1363 391 1709 391 \nQ 2188 391 2477 730 \nQ 2766 1069 2766 1631 \nL 2766 1759 \nL 2194 1759 \nz\nM 3341 1997 \nL 3341 0 \nL 2766 0 \nL 2766 531 \nQ 2569 213 2275 61 \nQ 1981 -91 1556 -91 \nQ 1019 -91 701 211 \nQ 384 513 384 1019 \nQ 384 1609 779 1909 \nQ 1175 2209 1959 2209 \nL 2766 2209 \nL 2766 2266 \nQ 2766 2663 2505 2880 \nQ 2244 3097 1772 3097 \nQ 1472 3097 1187 3025 \nQ 903 2953 641 2809 \nL 641 3341 \nQ 956 3463 1253 3523 \nQ 1550 3584 1831 3584 \nQ 2591 3584 2966 3190 \nQ 3341 2797 3341 1997 \nz\n\" transform=\"scale(0.015625)\"/>\n       <path id=\"DejaVuSans-69\" d=\"M 603 3500 \nL 1178 3500 \nL 1178 0 \nL 603 0 \nL 603 3500 \nz\nM 603 4863 \nL 1178 4863 \nL 1178 4134 \nL 603 4134 \nL 603 4863 \nz\n\" transform=\"scale(0.015625)\"/>\n       <path id=\"DejaVuSans-6e\" d=\"M 3513 2113 \nL 3513 0 \nL 2938 0 \nL 2938 2094 \nQ 2938 2591 2744 2837 \nQ 2550 3084 2163 3084 \nQ 1697 3084 1428 2787 \nQ 1159 2491 1159 1978 \nL 1159 0 \nL 581 0 \nL 581 3500 \nL 1159 3500 \nL 1159 2956 \nQ 1366 3272 1645 3428 \nQ 1925 3584 2291 3584 \nQ 2894 3584 3203 3211 \nQ 3513 2838 3513 2113 \nz\n\" transform=\"scale(0.015625)\"/>\n       <path id=\"DejaVuSans-5f\" d=\"M 3263 -1063 \nL 3263 -1509 \nL -63 -1509 \nL -63 -1063 \nL 3263 -1063 \nz\n\" transform=\"scale(0.015625)\"/>\n       <path id=\"DejaVuSans-6c\" d=\"M 603 4863 \nL 1178 4863 \nL 1178 0 \nL 603 0 \nL 603 4863 \nz\n\" transform=\"scale(0.015625)\"/>\n       <path id=\"DejaVuSans-73\" d=\"M 2834 3397 \nL 2834 2853 \nQ 2591 2978 2328 3040 \nQ 2066 3103 1784 3103 \nQ 1356 3103 1142 2972 \nQ 928 2841 928 2578 \nQ 928 2378 1081 2264 \nQ 1234 2150 1697 2047 \nL 1894 2003 \nQ 2506 1872 2764 1633 \nQ 3022 1394 3022 966 \nQ 3022 478 2636 193 \nQ 2250 -91 1575 -91 \nQ 1294 -91 989 -36 \nQ 684 19 347 128 \nL 347 722 \nQ 666 556 975 473 \nQ 1284 391 1588 391 \nQ 1994 391 2212 530 \nQ 2431 669 2431 922 \nQ 2431 1156 2273 1281 \nQ 2116 1406 1581 1522 \nL 1381 1569 \nQ 847 1681 609 1914 \nQ 372 2147 372 2553 \nQ 372 3047 722 3315 \nQ 1072 3584 1716 3584 \nQ 2034 3584 2315 3537 \nQ 2597 3491 2834 3397 \nz\n\" transform=\"scale(0.015625)\"/>\n      </defs>\n      <use xlink:href=\"#DejaVuSans-74\"/>\n      <use xlink:href=\"#DejaVuSans-72\" x=\"39.208984\"/>\n      <use xlink:href=\"#DejaVuSans-61\" x=\"80.322266\"/>\n      <use xlink:href=\"#DejaVuSans-69\" x=\"141.601562\"/>\n      <use xlink:href=\"#DejaVuSans-6e\" x=\"169.384766\"/>\n      <use xlink:href=\"#DejaVuSans-5f\" x=\"232.763672\"/>\n      <use xlink:href=\"#DejaVuSans-6c\" x=\"282.763672\"/>\n      <use xlink:href=\"#DejaVuSans-6f\" x=\"310.546875\"/>\n      <use xlink:href=\"#DejaVuSans-73\" x=\"371.728516\"/>\n      <use xlink:href=\"#DejaVuSans-73\" x=\"423.828125\"/>\n     </g>\n    </g>\n    <g id=\"line2d_128\">\n     <path d=\"M 89.957813 75.620313 \nL 99.957813 75.620313 \nL 109.957813 75.620313 \n\" style=\"fill: none; stroke-dasharray: 5.55,2.4; stroke-dashoffset: 0; stroke: #ff7f0e; stroke-width: 1.5\"/>\n    </g>\n    <g id=\"text_13\">\n     <!-- val_loss -->\n     <g transform=\"translate(117.957813 79.120313) scale(0.1 -0.1)\">\n      <defs>\n       <path id=\"DejaVuSans-76\" d=\"M 191 3500 \nL 800 3500 \nL 1894 563 \nL 2988 3500 \nL 3597 3500 \nL 2284 0 \nL 1503 0 \nL 191 3500 \nz\n\" transform=\"scale(0.015625)\"/>\n      </defs>\n      <use xlink:href=\"#DejaVuSans-76\"/>\n      <use xlink:href=\"#DejaVuSans-61\" x=\"59.179688\"/>\n      <use xlink:href=\"#DejaVuSans-6c\" x=\"120.458984\"/>\n      <use xlink:href=\"#DejaVuSans-5f\" x=\"148.242188\"/>\n      <use xlink:href=\"#DejaVuSans-6c\" x=\"198.242188\"/>\n      <use xlink:href=\"#DejaVuSans-6f\" x=\"226.025391\"/>\n      <use xlink:href=\"#DejaVuSans-73\" x=\"287.207031\"/>\n      <use xlink:href=\"#DejaVuSans-73\" x=\"339.306641\"/>\n     </g>\n    </g>\n    <g id=\"line2d_129\">\n     <path d=\"M 89.957813 90.576563 \nL 99.957813 90.576563 \nL 109.957813 90.576563 \n\" style=\"fill: none; stroke-dasharray: 9.6,2.4,1.5,2.4; stroke-dashoffset: 0; stroke: #2ca02c; stroke-width: 1.5\"/>\n    </g>\n    <g id=\"text_14\">\n     <!-- val_acc -->\n     <g transform=\"translate(117.957813 94.076563) scale(0.1 -0.1)\">\n      <use xlink:href=\"#DejaVuSans-76\"/>\n      <use xlink:href=\"#DejaVuSans-61\" x=\"59.179688\"/>\n      <use xlink:href=\"#DejaVuSans-6c\" x=\"120.458984\"/>\n      <use xlink:href=\"#DejaVuSans-5f\" x=\"148.242188\"/>\n      <use xlink:href=\"#DejaVuSans-61\" x=\"198.242188\"/>\n      <use xlink:href=\"#DejaVuSans-63\" x=\"259.521484\"/>\n      <use xlink:href=\"#DejaVuSans-63\" x=\"314.501953\"/>\n     </g>\n    </g>\n   </g>\n  </g>\n </g>\n <defs>\n  <clipPath id=\"p868a040ccd\">\n   <rect x=\"30.103125\" y=\"7.2\" width=\"195.3\" height=\"138.6\"/>\n  </clipPath>\n </defs>\n</svg>\n"
          },
          "metadata": {}
        }
      ],
      "source": [
        "model = DenseNet(lr=0.01)\n",
        "trainer = d2l.Trainer(max_epochs=10, num_gpus=1)\n",
        "data = d2l.FashionMNIST(batch_size=128, resize=(96, 96))\n",
        "trainer.fit(model, data)"
      ]
    },
    {
      "cell_type": "markdown",
      "id": "G9b12fZAbvju",
      "metadata": {
        "id": "G9b12fZAbvju"
      },
      "source": [
        "## Exercises\n",
        "\n",
        "1. Why do we use average pooling rather than max-pooling in the transition layer?\n",
        "1. One of the advantages mentioned in the DenseNet paper is that its model parameters are smaller than those of ResNet. Why is this the case?\n",
        "1. One problem for which DenseNet has been criticized is its high memory consumption.\n",
        "    1. Is this really the case? Try to change the input shape to $224\\times 224$ to compare the actual GPU memory consumption empirically.\n",
        "    1. Can you think of an alternative means of reducing the memory consumption? How would you need to change the framework?\n",
        "1. Implement the various DenseNet versions presented in Table 1 of the DenseNet paper :cite:`Huang.Liu.Van-Der-Maaten.ea.2017`.\n",
        "1. Design an MLP-based model by applying the DenseNet idea. Apply it to the housing price prediction task in :numref:`sec_kaggle_house`."
      ]
    },
    {
      "cell_type": "markdown",
      "id": "lRjGEp6hbwgv",
      "metadata": {
        "id": "lRjGEp6hbwgv"
      },
      "source": [
        "# 8.8 Designing Convolution Network Architectures"
      ]
    },
    {
      "cell_type": "code",
      "execution_count": 55,
      "id": "d2d025e9",
      "metadata": {
        "id": "d2d025e9"
      },
      "outputs": [],
      "source": [
        "import torch\n",
        "from torch import nn\n",
        "from torch.nn import functional as F\n",
        "from d2l import torch as d2l"
      ]
    },
    {
      "cell_type": "markdown",
      "id": "X-wLcr7Bb9FF",
      "metadata": {
        "id": "X-wLcr7Bb9FF"
      },
      "source": [
        "## The AnyNet Design Space"
      ]
    },
    {
      "cell_type": "code",
      "execution_count": 56,
      "id": "0bcf1d35",
      "metadata": {
        "id": "0bcf1d35"
      },
      "outputs": [],
      "source": [
        "class AnyNet(d2l.Classifier):\n",
        "    def stem(self, num_channels):\n",
        "        return nn.Sequential(\n",
        "            nn.LazyConv2d(num_channels, kernel_size=3, stride=2, padding=1),\n",
        "            nn.LazyBatchNorm2d(), nn.ReLU())"
      ]
    },
    {
      "cell_type": "code",
      "execution_count": 57,
      "id": "c6faf93f",
      "metadata": {
        "id": "c6faf93f"
      },
      "outputs": [],
      "source": [
        "@d2l.add_to_class(AnyNet)\n",
        "def stage(self, depth, num_channels, groups, bot_mul):\n",
        "    blk = []\n",
        "    for i in range(depth):\n",
        "        if i == 0:\n",
        "            blk.append(d2l.ResNeXtBlock(num_channels, groups, bot_mul,\n",
        "                use_1x1conv=True, strides=2))\n",
        "        else:\n",
        "            blk.append(d2l.ResNeXtBlock(num_channels, groups, bot_mul))\n",
        "    return nn.Sequential(*blk)"
      ]
    },
    {
      "cell_type": "code",
      "execution_count": 58,
      "id": "18a44834",
      "metadata": {
        "id": "18a44834"
      },
      "outputs": [],
      "source": [
        "@d2l.add_to_class(AnyNet)\n",
        "def __init__(self, arch, stem_channels, lr=0.1, num_classes=10):\n",
        "    super(AnyNet, self).__init__()\n",
        "    self.save_hyperparameters()\n",
        "    self.net = nn.Sequential(self.stem(stem_channels))\n",
        "    for i, s in enumerate(arch):\n",
        "        self.net.add_module(f'stage{i+1}', self.stage(*s))\n",
        "    self.net.add_module('head', nn.Sequential(\n",
        "        nn.AdaptiveAvgPool2d((1, 1)), nn.Flatten(),\n",
        "        nn.LazyLinear(num_classes)))\n",
        "    self.net.apply(d2l.init_cnn)"
      ]
    },
    {
      "cell_type": "markdown",
      "id": "dVeI6UFUcFSj",
      "metadata": {
        "id": "dVeI6UFUcFSj"
      },
      "source": [
        "## Distributions and Parameters of Design Spaces (RegNet)"
      ]
    },
    {
      "cell_type": "code",
      "execution_count": 59,
      "id": "dab5f41a",
      "metadata": {
        "id": "dab5f41a"
      },
      "outputs": [],
      "source": [
        "class RegNetX32(AnyNet):\n",
        "    def __init__(self, lr=0.1, num_classes=10):\n",
        "        stem_channels, groups, bot_mul = 32, 16, 1\n",
        "        depths, channels = (4, 6), (32, 80)\n",
        "        super().__init__(\n",
        "            ((depths[0], channels[0], groups, bot_mul),\n",
        "             (depths[1], channels[1], groups, bot_mul)),\n",
        "            stem_channels, lr, num_classes)"
      ]
    },
    {
      "cell_type": "code",
      "execution_count": 60,
      "id": "75a56c8e",
      "metadata": {
        "colab": {
          "base_uri": "https://localhost:8080/"
        },
        "id": "75a56c8e",
        "outputId": "350e6b4d-a2cb-46f7-f892-b3e52f3844c1"
      },
      "outputs": [
        {
          "output_type": "stream",
          "name": "stdout",
          "text": [
            "Sequential output shape:\t torch.Size([1, 32, 48, 48])\n",
            "Sequential output shape:\t torch.Size([1, 32, 24, 24])\n",
            "Sequential output shape:\t torch.Size([1, 80, 12, 12])\n",
            "Sequential output shape:\t torch.Size([1, 10])\n"
          ]
        }
      ],
      "source": [
        "RegNetX32().layer_summary((1, 1, 96, 96))"
      ]
    },
    {
      "cell_type": "markdown",
      "id": "JJS4aZXlcNDk",
      "metadata": {
        "id": "JJS4aZXlcNDk"
      },
      "source": [
        "## Training"
      ]
    },
    {
      "cell_type": "code",
      "execution_count": 61,
      "id": "91cbec9a",
      "metadata": {
        "colab": {
          "base_uri": "https://localhost:8080/",
          "height": 265
        },
        "id": "91cbec9a",
        "outputId": "448d7a8e-aa01-4274-d064-89b9942db0d4"
      },
      "outputs": [
        {
          "output_type": "display_data",
          "data": {
            "text/plain": [
              "<Figure size 350x250 with 1 Axes>"
            ],
            "image/svg+xml": "<?xml version=\"1.0\" encoding=\"utf-8\" standalone=\"no\"?>\n<!DOCTYPE svg PUBLIC \"-//W3C//DTD SVG 1.1//EN\"\n  \"http://www.w3.org/Graphics/SVG/1.1/DTD/svg11.dtd\">\n<svg xmlns:xlink=\"http://www.w3.org/1999/xlink\" width=\"238.965625pt\" height=\"183.35625pt\" viewBox=\"0 0 238.965625 183.35625\" xmlns=\"http://www.w3.org/2000/svg\" version=\"1.1\">\n <metadata>\n  <rdf:RDF xmlns:dc=\"http://purl.org/dc/elements/1.1/\" xmlns:cc=\"http://creativecommons.org/ns#\" xmlns:rdf=\"http://www.w3.org/1999/02/22-rdf-syntax-ns#\">\n   <cc:Work>\n    <dc:type rdf:resource=\"http://purl.org/dc/dcmitype/StillImage\"/>\n    <dc:date>2024-10-05T14:56:39.669175</dc:date>\n    <dc:format>image/svg+xml</dc:format>\n    <dc:creator>\n     <cc:Agent>\n      <dc:title>Matplotlib v3.7.2, https://matplotlib.org/</dc:title>\n     </cc:Agent>\n    </dc:creator>\n   </cc:Work>\n  </rdf:RDF>\n </metadata>\n <defs>\n  <style type=\"text/css\">*{stroke-linejoin: round; stroke-linecap: butt}</style>\n </defs>\n <g id=\"figure_1\">\n  <g id=\"patch_1\">\n   <path d=\"M 0 183.35625 \nL 238.965625 183.35625 \nL 238.965625 0 \nL 0 0 \nz\n\" style=\"fill: #ffffff\"/>\n  </g>\n  <g id=\"axes_1\">\n   <g id=\"patch_2\">\n    <path d=\"M 30.103125 145.8 \nL 225.403125 145.8 \nL 225.403125 7.2 \nL 30.103125 7.2 \nz\n\" style=\"fill: #ffffff\"/>\n   </g>\n   <g id=\"matplotlib.axis_1\">\n    <g id=\"xtick_1\">\n     <g id=\"line2d_1\">\n      <defs>\n       <path id=\"mf7856ffd7a\" d=\"M 0 0 \nL 0 3.5 \n\" style=\"stroke: #000000; stroke-width: 0.8\"/>\n      </defs>\n      <g>\n       <use xlink:href=\"#mf7856ffd7a\" x=\"30.103125\" y=\"145.8\" style=\"stroke: #000000; stroke-width: 0.8\"/>\n      </g>\n     </g>\n     <g id=\"text_1\">\n      <!-- 0 -->\n      <g transform=\"translate(26.921875 160.398438) scale(0.1 -0.1)\">\n       <defs>\n        <path id=\"DejaVuSans-30\" d=\"M 2034 4250 \nQ 1547 4250 1301 3770 \nQ 1056 3291 1056 2328 \nQ 1056 1369 1301 889 \nQ 1547 409 2034 409 \nQ 2525 409 2770 889 \nQ 3016 1369 3016 2328 \nQ 3016 3291 2770 3770 \nQ 2525 4250 2034 4250 \nz\nM 2034 4750 \nQ 2819 4750 3233 4129 \nQ 3647 3509 3647 2328 \nQ 3647 1150 3233 529 \nQ 2819 -91 2034 -91 \nQ 1250 -91 836 529 \nQ 422 1150 422 2328 \nQ 422 3509 836 4129 \nQ 1250 4750 2034 4750 \nz\n\" transform=\"scale(0.015625)\"/>\n       </defs>\n       <use xlink:href=\"#DejaVuSans-30\"/>\n      </g>\n     </g>\n    </g>\n    <g id=\"xtick_2\">\n     <g id=\"line2d_2\">\n      <g>\n       <use xlink:href=\"#mf7856ffd7a\" x=\"69.163125\" y=\"145.8\" style=\"stroke: #000000; stroke-width: 0.8\"/>\n      </g>\n     </g>\n     <g id=\"text_2\">\n      <!-- 2 -->\n      <g transform=\"translate(65.981875 160.398438) scale(0.1 -0.1)\">\n       <defs>\n        <path id=\"DejaVuSans-32\" d=\"M 1228 531 \nL 3431 531 \nL 3431 0 \nL 469 0 \nL 469 531 \nQ 828 903 1448 1529 \nQ 2069 2156 2228 2338 \nQ 2531 2678 2651 2914 \nQ 2772 3150 2772 3378 \nQ 2772 3750 2511 3984 \nQ 2250 4219 1831 4219 \nQ 1534 4219 1204 4116 \nQ 875 4013 500 3803 \nL 500 4441 \nQ 881 4594 1212 4672 \nQ 1544 4750 1819 4750 \nQ 2544 4750 2975 4387 \nQ 3406 4025 3406 3419 \nQ 3406 3131 3298 2873 \nQ 3191 2616 2906 2266 \nQ 2828 2175 2409 1742 \nQ 1991 1309 1228 531 \nz\n\" transform=\"scale(0.015625)\"/>\n       </defs>\n       <use xlink:href=\"#DejaVuSans-32\"/>\n      </g>\n     </g>\n    </g>\n    <g id=\"xtick_3\">\n     <g id=\"line2d_3\">\n      <g>\n       <use xlink:href=\"#mf7856ffd7a\" x=\"108.223125\" y=\"145.8\" style=\"stroke: #000000; stroke-width: 0.8\"/>\n      </g>\n     </g>\n     <g id=\"text_3\">\n      <!-- 4 -->\n      <g transform=\"translate(105.041875 160.398438) scale(0.1 -0.1)\">\n       <defs>\n        <path id=\"DejaVuSans-34\" d=\"M 2419 4116 \nL 825 1625 \nL 2419 1625 \nL 2419 4116 \nz\nM 2253 4666 \nL 3047 4666 \nL 3047 1625 \nL 3713 1625 \nL 3713 1100 \nL 3047 1100 \nL 3047 0 \nL 2419 0 \nL 2419 1100 \nL 313 1100 \nL 313 1709 \nL 2253 4666 \nz\n\" transform=\"scale(0.015625)\"/>\n       </defs>\n       <use xlink:href=\"#DejaVuSans-34\"/>\n      </g>\n     </g>\n    </g>\n    <g id=\"xtick_4\">\n     <g id=\"line2d_4\">\n      <g>\n       <use xlink:href=\"#mf7856ffd7a\" x=\"147.283125\" y=\"145.8\" style=\"stroke: #000000; stroke-width: 0.8\"/>\n      </g>\n     </g>\n     <g id=\"text_4\">\n      <!-- 6 -->\n      <g transform=\"translate(144.101875 160.398438) scale(0.1 -0.1)\">\n       <defs>\n        <path id=\"DejaVuSans-36\" d=\"M 2113 2584 \nQ 1688 2584 1439 2293 \nQ 1191 2003 1191 1497 \nQ 1191 994 1439 701 \nQ 1688 409 2113 409 \nQ 2538 409 2786 701 \nQ 3034 994 3034 1497 \nQ 3034 2003 2786 2293 \nQ 2538 2584 2113 2584 \nz\nM 3366 4563 \nL 3366 3988 \nQ 3128 4100 2886 4159 \nQ 2644 4219 2406 4219 \nQ 1781 4219 1451 3797 \nQ 1122 3375 1075 2522 \nQ 1259 2794 1537 2939 \nQ 1816 3084 2150 3084 \nQ 2853 3084 3261 2657 \nQ 3669 2231 3669 1497 \nQ 3669 778 3244 343 \nQ 2819 -91 2113 -91 \nQ 1303 -91 875 529 \nQ 447 1150 447 2328 \nQ 447 3434 972 4092 \nQ 1497 4750 2381 4750 \nQ 2619 4750 2861 4703 \nQ 3103 4656 3366 4563 \nz\n\" transform=\"scale(0.015625)\"/>\n       </defs>\n       <use xlink:href=\"#DejaVuSans-36\"/>\n      </g>\n     </g>\n    </g>\n    <g id=\"xtick_5\">\n     <g id=\"line2d_5\">\n      <g>\n       <use xlink:href=\"#mf7856ffd7a\" x=\"186.343125\" y=\"145.8\" style=\"stroke: #000000; stroke-width: 0.8\"/>\n      </g>\n     </g>\n     <g id=\"text_5\">\n      <!-- 8 -->\n      <g transform=\"translate(183.161875 160.398438) scale(0.1 -0.1)\">\n       <defs>\n        <path id=\"DejaVuSans-38\" d=\"M 2034 2216 \nQ 1584 2216 1326 1975 \nQ 1069 1734 1069 1313 \nQ 1069 891 1326 650 \nQ 1584 409 2034 409 \nQ 2484 409 2743 651 \nQ 3003 894 3003 1313 \nQ 3003 1734 2745 1975 \nQ 2488 2216 2034 2216 \nz\nM 1403 2484 \nQ 997 2584 770 2862 \nQ 544 3141 544 3541 \nQ 544 4100 942 4425 \nQ 1341 4750 2034 4750 \nQ 2731 4750 3128 4425 \nQ 3525 4100 3525 3541 \nQ 3525 3141 3298 2862 \nQ 3072 2584 2669 2484 \nQ 3125 2378 3379 2068 \nQ 3634 1759 3634 1313 \nQ 3634 634 3220 271 \nQ 2806 -91 2034 -91 \nQ 1263 -91 848 271 \nQ 434 634 434 1313 \nQ 434 1759 690 2068 \nQ 947 2378 1403 2484 \nz\nM 1172 3481 \nQ 1172 3119 1398 2916 \nQ 1625 2713 2034 2713 \nQ 2441 2713 2670 2916 \nQ 2900 3119 2900 3481 \nQ 2900 3844 2670 4047 \nQ 2441 4250 2034 4250 \nQ 1625 4250 1398 4047 \nQ 1172 3844 1172 3481 \nz\n\" transform=\"scale(0.015625)\"/>\n       </defs>\n       <use xlink:href=\"#DejaVuSans-38\"/>\n      </g>\n     </g>\n    </g>\n    <g id=\"xtick_6\">\n     <g id=\"line2d_6\">\n      <g>\n       <use xlink:href=\"#mf7856ffd7a\" x=\"225.403125\" y=\"145.8\" style=\"stroke: #000000; stroke-width: 0.8\"/>\n      </g>\n     </g>\n     <g id=\"text_6\">\n      <!-- 10 -->\n      <g transform=\"translate(219.040625 160.398438) scale(0.1 -0.1)\">\n       <defs>\n        <path id=\"DejaVuSans-31\" d=\"M 794 531 \nL 1825 531 \nL 1825 4091 \nL 703 3866 \nL 703 4441 \nL 1819 4666 \nL 2450 4666 \nL 2450 531 \nL 3481 531 \nL 3481 0 \nL 794 0 \nL 794 531 \nz\n\" transform=\"scale(0.015625)\"/>\n       </defs>\n       <use xlink:href=\"#DejaVuSans-31\"/>\n       <use xlink:href=\"#DejaVuSans-30\" x=\"63.623047\"/>\n      </g>\n     </g>\n    </g>\n    <g id=\"text_7\">\n     <!-- epoch -->\n     <g transform=\"translate(112.525 174.076563) scale(0.1 -0.1)\">\n      <defs>\n       <path id=\"DejaVuSans-65\" d=\"M 3597 1894 \nL 3597 1613 \nL 953 1613 \nQ 991 1019 1311 708 \nQ 1631 397 2203 397 \nQ 2534 397 2845 478 \nQ 3156 559 3463 722 \nL 3463 178 \nQ 3153 47 2828 -22 \nQ 2503 -91 2169 -91 \nQ 1331 -91 842 396 \nQ 353 884 353 1716 \nQ 353 2575 817 3079 \nQ 1281 3584 2069 3584 \nQ 2775 3584 3186 3129 \nQ 3597 2675 3597 1894 \nz\nM 3022 2063 \nQ 3016 2534 2758 2815 \nQ 2500 3097 2075 3097 \nQ 1594 3097 1305 2825 \nQ 1016 2553 972 2059 \nL 3022 2063 \nz\n\" transform=\"scale(0.015625)\"/>\n       <path id=\"DejaVuSans-70\" d=\"M 1159 525 \nL 1159 -1331 \nL 581 -1331 \nL 581 3500 \nL 1159 3500 \nL 1159 2969 \nQ 1341 3281 1617 3432 \nQ 1894 3584 2278 3584 \nQ 2916 3584 3314 3078 \nQ 3713 2572 3713 1747 \nQ 3713 922 3314 415 \nQ 2916 -91 2278 -91 \nQ 1894 -91 1617 61 \nQ 1341 213 1159 525 \nz\nM 3116 1747 \nQ 3116 2381 2855 2742 \nQ 2594 3103 2138 3103 \nQ 1681 3103 1420 2742 \nQ 1159 2381 1159 1747 \nQ 1159 1113 1420 752 \nQ 1681 391 2138 391 \nQ 2594 391 2855 752 \nQ 3116 1113 3116 1747 \nz\n\" transform=\"scale(0.015625)\"/>\n       <path id=\"DejaVuSans-6f\" d=\"M 1959 3097 \nQ 1497 3097 1228 2736 \nQ 959 2375 959 1747 \nQ 959 1119 1226 758 \nQ 1494 397 1959 397 \nQ 2419 397 2687 759 \nQ 2956 1122 2956 1747 \nQ 2956 2369 2687 2733 \nQ 2419 3097 1959 3097 \nz\nM 1959 3584 \nQ 2709 3584 3137 3096 \nQ 3566 2609 3566 1747 \nQ 3566 888 3137 398 \nQ 2709 -91 1959 -91 \nQ 1206 -91 779 398 \nQ 353 888 353 1747 \nQ 353 2609 779 3096 \nQ 1206 3584 1959 3584 \nz\n\" transform=\"scale(0.015625)\"/>\n       <path id=\"DejaVuSans-63\" d=\"M 3122 3366 \nL 3122 2828 \nQ 2878 2963 2633 3030 \nQ 2388 3097 2138 3097 \nQ 1578 3097 1268 2742 \nQ 959 2388 959 1747 \nQ 959 1106 1268 751 \nQ 1578 397 2138 397 \nQ 2388 397 2633 464 \nQ 2878 531 3122 666 \nL 3122 134 \nQ 2881 22 2623 -34 \nQ 2366 -91 2075 -91 \nQ 1284 -91 818 406 \nQ 353 903 353 1747 \nQ 353 2603 823 3093 \nQ 1294 3584 2113 3584 \nQ 2378 3584 2631 3529 \nQ 2884 3475 3122 3366 \nz\n\" transform=\"scale(0.015625)\"/>\n       <path id=\"DejaVuSans-68\" d=\"M 3513 2113 \nL 3513 0 \nL 2938 0 \nL 2938 2094 \nQ 2938 2591 2744 2837 \nQ 2550 3084 2163 3084 \nQ 1697 3084 1428 2787 \nQ 1159 2491 1159 1978 \nL 1159 0 \nL 581 0 \nL 581 4863 \nL 1159 4863 \nL 1159 2956 \nQ 1366 3272 1645 3428 \nQ 1925 3584 2291 3584 \nQ 2894 3584 3203 3211 \nQ 3513 2838 3513 2113 \nz\n\" transform=\"scale(0.015625)\"/>\n      </defs>\n      <use xlink:href=\"#DejaVuSans-65\"/>\n      <use xlink:href=\"#DejaVuSans-70\" x=\"61.523438\"/>\n      <use xlink:href=\"#DejaVuSans-6f\" x=\"125\"/>\n      <use xlink:href=\"#DejaVuSans-63\" x=\"186.181641\"/>\n      <use xlink:href=\"#DejaVuSans-68\" x=\"241.162109\"/>\n     </g>\n    </g>\n   </g>\n   <g id=\"matplotlib.axis_2\">\n    <g id=\"ytick_1\">\n     <g id=\"line2d_7\">\n      <defs>\n       <path id=\"m198e63ac44\" d=\"M 0 0 \nL -3.5 0 \n\" style=\"stroke: #000000; stroke-width: 0.8\"/>\n      </defs>\n      <g>\n       <use xlink:href=\"#m198e63ac44\" x=\"30.103125\" y=\"131.658411\" style=\"stroke: #000000; stroke-width: 0.8\"/>\n      </g>\n     </g>\n     <g id=\"text_8\">\n      <!-- 0.2 -->\n      <g transform=\"translate(7.2 135.45763) scale(0.1 -0.1)\">\n       <defs>\n        <path id=\"DejaVuSans-2e\" d=\"M 684 794 \nL 1344 794 \nL 1344 0 \nL 684 0 \nL 684 794 \nz\n\" transform=\"scale(0.015625)\"/>\n       </defs>\n       <use xlink:href=\"#DejaVuSans-30\"/>\n       <use xlink:href=\"#DejaVuSans-2e\" x=\"63.623047\"/>\n       <use xlink:href=\"#DejaVuSans-32\" x=\"95.410156\"/>\n      </g>\n     </g>\n    </g>\n    <g id=\"ytick_2\">\n     <g id=\"line2d_8\">\n      <g>\n       <use xlink:href=\"#m198e63ac44\" x=\"30.103125\" y=\"98.230723\" style=\"stroke: #000000; stroke-width: 0.8\"/>\n      </g>\n     </g>\n     <g id=\"text_9\">\n      <!-- 0.4 -->\n      <g transform=\"translate(7.2 102.029941) scale(0.1 -0.1)\">\n       <use xlink:href=\"#DejaVuSans-30\"/>\n       <use xlink:href=\"#DejaVuSans-2e\" x=\"63.623047\"/>\n       <use xlink:href=\"#DejaVuSans-34\" x=\"95.410156\"/>\n      </g>\n     </g>\n    </g>\n    <g id=\"ytick_3\">\n     <g id=\"line2d_9\">\n      <g>\n       <use xlink:href=\"#m198e63ac44\" x=\"30.103125\" y=\"64.803034\" style=\"stroke: #000000; stroke-width: 0.8\"/>\n      </g>\n     </g>\n     <g id=\"text_10\">\n      <!-- 0.6 -->\n      <g transform=\"translate(7.2 68.602253) scale(0.1 -0.1)\">\n       <use xlink:href=\"#DejaVuSans-30\"/>\n       <use xlink:href=\"#DejaVuSans-2e\" x=\"63.623047\"/>\n       <use xlink:href=\"#DejaVuSans-36\" x=\"95.410156\"/>\n      </g>\n     </g>\n    </g>\n    <g id=\"ytick_4\">\n     <g id=\"line2d_10\">\n      <g>\n       <use xlink:href=\"#m198e63ac44\" x=\"30.103125\" y=\"31.375346\" style=\"stroke: #000000; stroke-width: 0.8\"/>\n      </g>\n     </g>\n     <g id=\"text_11\">\n      <!-- 0.8 -->\n      <g transform=\"translate(7.2 35.174564) scale(0.1 -0.1)\">\n       <use xlink:href=\"#DejaVuSans-30\"/>\n       <use xlink:href=\"#DejaVuSans-2e\" x=\"63.623047\"/>\n       <use xlink:href=\"#DejaVuSans-38\" x=\"95.410156\"/>\n      </g>\n     </g>\n    </g>\n   </g>\n   <g id=\"line2d_11\">\n    <path d=\"M 34.954394 13.5 \n\" clip-path=\"url(#pc847f9d4db)\" style=\"fill: none; stroke: #1f77b4; stroke-width: 1.5; stroke-linecap: square\"/>\n   </g>\n   <g id=\"line2d_12\">\n    <path d=\"M 34.954394 13.5 \nL 44.698573 85.672309 \n\" clip-path=\"url(#pc847f9d4db)\" style=\"fill: none; stroke: #1f77b4; stroke-width: 1.5; stroke-linecap: square\"/>\n   </g>\n   <g id=\"line2d_13\">\n    <path d=\"M 34.954394 13.5 \nL 44.698573 85.672309 \n\" clip-path=\"url(#pc847f9d4db)\" style=\"fill: none; stroke: #1f77b4; stroke-width: 1.5; stroke-linecap: square\"/>\n   </g>\n   <g id=\"line2d_14\">\n    <path d=\"M 49.633125 84.308374 \n\" clip-path=\"url(#pc847f9d4db)\" style=\"fill: none; stroke-dasharray: 5.55,2.4; stroke-dashoffset: 0; stroke: #ff7f0e; stroke-width: 1.5\"/>\n   </g>\n   <g id=\"line2d_15\"/>\n   <g id=\"line2d_16\">\n    <path d=\"M 34.954394 13.5 \nL 44.698573 85.672309 \n\" clip-path=\"url(#pc847f9d4db)\" style=\"fill: none; stroke: #1f77b4; stroke-width: 1.5; stroke-linecap: square\"/>\n   </g>\n   <g id=\"line2d_17\">\n    <path d=\"M 49.633125 84.308374 \n\" clip-path=\"url(#pc847f9d4db)\" style=\"fill: none; stroke-dasharray: 5.55,2.4; stroke-dashoffset: 0; stroke: #ff7f0e; stroke-width: 1.5\"/>\n   </g>\n   <g id=\"line2d_18\">\n    <path d=\"M 49.633125 25.368808 \n\" clip-path=\"url(#pc847f9d4db)\" style=\"fill: none; stroke-dasharray: 9.6,2.4,1.5,2.4; stroke-dashoffset: 0; stroke: #2ca02c; stroke-width: 1.5\"/>\n   </g>\n   <g id=\"line2d_19\">\n    <path d=\"M 34.954394 13.5 \nL 44.698573 85.672309 \nL 54.442752 102.012522 \n\" clip-path=\"url(#pc847f9d4db)\" style=\"fill: none; stroke: #1f77b4; stroke-width: 1.5; stroke-linecap: square\"/>\n   </g>\n   <g id=\"line2d_20\">\n    <path d=\"M 49.633125 84.308374 \n\" clip-path=\"url(#pc847f9d4db)\" style=\"fill: none; stroke-dasharray: 5.55,2.4; stroke-dashoffset: 0; stroke: #ff7f0e; stroke-width: 1.5\"/>\n   </g>\n   <g id=\"line2d_21\">\n    <path d=\"M 49.633125 25.368808 \n\" clip-path=\"url(#pc847f9d4db)\" style=\"fill: none; stroke-dasharray: 9.6,2.4,1.5,2.4; stroke-dashoffset: 0; stroke: #2ca02c; stroke-width: 1.5\"/>\n   </g>\n   <g id=\"line2d_22\">\n    <path d=\"M 34.954394 13.5 \nL 44.698573 85.672309 \nL 54.442752 102.012522 \nL 64.186931 110.087639 \n\" clip-path=\"url(#pc847f9d4db)\" style=\"fill: none; stroke: #1f77b4; stroke-width: 1.5; stroke-linecap: square\"/>\n   </g>\n   <g id=\"line2d_23\">\n    <path d=\"M 49.633125 84.308374 \n\" clip-path=\"url(#pc847f9d4db)\" style=\"fill: none; stroke-dasharray: 5.55,2.4; stroke-dashoffset: 0; stroke: #ff7f0e; stroke-width: 1.5\"/>\n   </g>\n   <g id=\"line2d_24\">\n    <path d=\"M 49.633125 25.368808 \n\" clip-path=\"url(#pc847f9d4db)\" style=\"fill: none; stroke-dasharray: 9.6,2.4,1.5,2.4; stroke-dashoffset: 0; stroke: #2ca02c; stroke-width: 1.5\"/>\n   </g>\n   <g id=\"line2d_25\">\n    <path d=\"M 34.954394 13.5 \nL 44.698573 85.672309 \nL 54.442752 102.012522 \nL 64.186931 110.087639 \n\" clip-path=\"url(#pc847f9d4db)\" style=\"fill: none; stroke: #1f77b4; stroke-width: 1.5; stroke-linecap: square\"/>\n   </g>\n   <g id=\"line2d_26\">\n    <path d=\"M 49.633125 84.308374 \nL 69.163125 56.492893 \n\" clip-path=\"url(#pc847f9d4db)\" style=\"fill: none; stroke-dasharray: 5.55,2.4; stroke-dashoffset: 0; stroke: #ff7f0e; stroke-width: 1.5\"/>\n   </g>\n   <g id=\"line2d_27\">\n    <path d=\"M 49.633125 25.368808 \n\" clip-path=\"url(#pc847f9d4db)\" style=\"fill: none; stroke-dasharray: 9.6,2.4,1.5,2.4; stroke-dashoffset: 0; stroke: #2ca02c; stroke-width: 1.5\"/>\n   </g>\n   <g id=\"line2d_28\">\n    <path d=\"M 34.954394 13.5 \nL 44.698573 85.672309 \nL 54.442752 102.012522 \nL 64.186931 110.087639 \n\" clip-path=\"url(#pc847f9d4db)\" style=\"fill: none; stroke: #1f77b4; stroke-width: 1.5; stroke-linecap: square\"/>\n   </g>\n   <g id=\"line2d_29\">\n    <path d=\"M 49.633125 84.308374 \nL 69.163125 56.492893 \n\" clip-path=\"url(#pc847f9d4db)\" style=\"fill: none; stroke-dasharray: 5.55,2.4; stroke-dashoffset: 0; stroke: #ff7f0e; stroke-width: 1.5\"/>\n   </g>\n   <g id=\"line2d_30\">\n    <path d=\"M 49.633125 25.368808 \nL 69.163125 34.839766 \n\" clip-path=\"url(#pc847f9d4db)\" style=\"fill: none; stroke-dasharray: 9.6,2.4,1.5,2.4; stroke-dashoffset: 0; stroke: #2ca02c; stroke-width: 1.5\"/>\n   </g>\n   <g id=\"line2d_31\">\n    <path d=\"M 34.954394 13.5 \nL 44.698573 85.672309 \nL 54.442752 102.012522 \nL 64.186931 110.087639 \nL 73.93111 115.850364 \n\" clip-path=\"url(#pc847f9d4db)\" style=\"fill: none; stroke: #1f77b4; stroke-width: 1.5; stroke-linecap: square\"/>\n   </g>\n   <g id=\"line2d_32\">\n    <path d=\"M 49.633125 84.308374 \nL 69.163125 56.492893 \n\" clip-path=\"url(#pc847f9d4db)\" style=\"fill: none; stroke-dasharray: 5.55,2.4; stroke-dashoffset: 0; stroke: #ff7f0e; stroke-width: 1.5\"/>\n   </g>\n   <g id=\"line2d_33\">\n    <path d=\"M 49.633125 25.368808 \nL 69.163125 34.839766 \n\" clip-path=\"url(#pc847f9d4db)\" style=\"fill: none; stroke-dasharray: 9.6,2.4,1.5,2.4; stroke-dashoffset: 0; stroke: #2ca02c; stroke-width: 1.5\"/>\n   </g>\n   <g id=\"line2d_34\">\n    <path d=\"M 34.954394 13.5 \nL 44.698573 85.672309 \nL 54.442752 102.012522 \nL 64.186931 110.087639 \nL 73.93111 115.850364 \nL 83.675289 117.833913 \n\" clip-path=\"url(#pc847f9d4db)\" style=\"fill: none; stroke: #1f77b4; stroke-width: 1.5; stroke-linecap: square\"/>\n   </g>\n   <g id=\"line2d_35\">\n    <path d=\"M 49.633125 84.308374 \nL 69.163125 56.492893 \n\" clip-path=\"url(#pc847f9d4db)\" style=\"fill: none; stroke-dasharray: 5.55,2.4; stroke-dashoffset: 0; stroke: #ff7f0e; stroke-width: 1.5\"/>\n   </g>\n   <g id=\"line2d_36\">\n    <path d=\"M 49.633125 25.368808 \nL 69.163125 34.839766 \n\" clip-path=\"url(#pc847f9d4db)\" style=\"fill: none; stroke-dasharray: 9.6,2.4,1.5,2.4; stroke-dashoffset: 0; stroke: #2ca02c; stroke-width: 1.5\"/>\n   </g>\n   <g id=\"line2d_37\">\n    <path d=\"M 34.954394 13.5 \nL 44.698573 85.672309 \nL 54.442752 102.012522 \nL 64.186931 110.087639 \nL 73.93111 115.850364 \nL 83.675289 117.833913 \n\" clip-path=\"url(#pc847f9d4db)\" style=\"fill: none; stroke: #1f77b4; stroke-width: 1.5; stroke-linecap: square\"/>\n   </g>\n   <g id=\"line2d_38\">\n    <path d=\"M 49.633125 84.308374 \nL 69.163125 56.492893 \nL 88.693125 114.074433 \n\" clip-path=\"url(#pc847f9d4db)\" style=\"fill: none; stroke-dasharray: 5.55,2.4; stroke-dashoffset: 0; stroke: #ff7f0e; stroke-width: 1.5\"/>\n   </g>\n   <g id=\"line2d_39\">\n    <path d=\"M 49.633125 25.368808 \nL 69.163125 34.839766 \n\" clip-path=\"url(#pc847f9d4db)\" style=\"fill: none; stroke-dasharray: 9.6,2.4,1.5,2.4; stroke-dashoffset: 0; stroke: #2ca02c; stroke-width: 1.5\"/>\n   </g>\n   <g id=\"line2d_40\">\n    <path d=\"M 34.954394 13.5 \nL 44.698573 85.672309 \nL 54.442752 102.012522 \nL 64.186931 110.087639 \nL 73.93111 115.850364 \nL 83.675289 117.833913 \n\" clip-path=\"url(#pc847f9d4db)\" style=\"fill: none; stroke: #1f77b4; stroke-width: 1.5; stroke-linecap: square\"/>\n   </g>\n   <g id=\"line2d_41\">\n    <path d=\"M 49.633125 84.308374 \nL 69.163125 56.492893 \nL 88.693125 114.074433 \n\" clip-path=\"url(#pc847f9d4db)\" style=\"fill: none; stroke-dasharray: 5.55,2.4; stroke-dashoffset: 0; stroke: #ff7f0e; stroke-width: 1.5\"/>\n   </g>\n   <g id=\"line2d_42\">\n    <path d=\"M 49.633125 25.368808 \nL 69.163125 34.839766 \nL 88.693125 15.997022 \n\" clip-path=\"url(#pc847f9d4db)\" style=\"fill: none; stroke-dasharray: 9.6,2.4,1.5,2.4; stroke-dashoffset: 0; stroke: #2ca02c; stroke-width: 1.5\"/>\n   </g>\n   <g id=\"line2d_43\">\n    <path d=\"M 34.954394 13.5 \nL 44.698573 85.672309 \nL 54.442752 102.012522 \nL 64.186931 110.087639 \nL 73.93111 115.850364 \nL 83.675289 117.833913 \nL 93.419468 122.80205 \n\" clip-path=\"url(#pc847f9d4db)\" style=\"fill: none; stroke: #1f77b4; stroke-width: 1.5; stroke-linecap: square\"/>\n   </g>\n   <g id=\"line2d_44\">\n    <path d=\"M 49.633125 84.308374 \nL 69.163125 56.492893 \nL 88.693125 114.074433 \n\" clip-path=\"url(#pc847f9d4db)\" style=\"fill: none; stroke-dasharray: 5.55,2.4; stroke-dashoffset: 0; stroke: #ff7f0e; stroke-width: 1.5\"/>\n   </g>\n   <g id=\"line2d_45\">\n    <path d=\"M 49.633125 25.368808 \nL 69.163125 34.839766 \nL 88.693125 15.997022 \n\" clip-path=\"url(#pc847f9d4db)\" style=\"fill: none; stroke-dasharray: 9.6,2.4,1.5,2.4; stroke-dashoffset: 0; stroke: #2ca02c; stroke-width: 1.5\"/>\n   </g>\n   <g id=\"line2d_46\">\n    <path d=\"M 34.954394 13.5 \nL 44.698573 85.672309 \nL 54.442752 102.012522 \nL 64.186931 110.087639 \nL 73.93111 115.850364 \nL 83.675289 117.833913 \nL 93.419468 122.80205 \nL 103.163647 122.422887 \n\" clip-path=\"url(#pc847f9d4db)\" style=\"fill: none; stroke: #1f77b4; stroke-width: 1.5; stroke-linecap: square\"/>\n   </g>\n   <g id=\"line2d_47\">\n    <path d=\"M 49.633125 84.308374 \nL 69.163125 56.492893 \nL 88.693125 114.074433 \n\" clip-path=\"url(#pc847f9d4db)\" style=\"fill: none; stroke-dasharray: 5.55,2.4; stroke-dashoffset: 0; stroke: #ff7f0e; stroke-width: 1.5\"/>\n   </g>\n   <g id=\"line2d_48\">\n    <path d=\"M 49.633125 25.368808 \nL 69.163125 34.839766 \nL 88.693125 15.997022 \n\" clip-path=\"url(#pc847f9d4db)\" style=\"fill: none; stroke-dasharray: 9.6,2.4,1.5,2.4; stroke-dashoffset: 0; stroke: #2ca02c; stroke-width: 1.5\"/>\n   </g>\n   <g id=\"line2d_49\">\n    <path d=\"M 34.954394 13.5 \nL 44.698573 85.672309 \nL 54.442752 102.012522 \nL 64.186931 110.087639 \nL 73.93111 115.850364 \nL 83.675289 117.833913 \nL 93.419468 122.80205 \nL 103.163647 122.422887 \n\" clip-path=\"url(#pc847f9d4db)\" style=\"fill: none; stroke: #1f77b4; stroke-width: 1.5; stroke-linecap: square\"/>\n   </g>\n   <g id=\"line2d_50\">\n    <path d=\"M 49.633125 84.308374 \nL 69.163125 56.492893 \nL 88.693125 114.074433 \nL 108.223125 109.21187 \n\" clip-path=\"url(#pc847f9d4db)\" style=\"fill: none; stroke-dasharray: 5.55,2.4; stroke-dashoffset: 0; stroke: #ff7f0e; stroke-width: 1.5\"/>\n   </g>\n   <g id=\"line2d_51\">\n    <path d=\"M 49.633125 25.368808 \nL 69.163125 34.839766 \nL 88.693125 15.997022 \n\" clip-path=\"url(#pc847f9d4db)\" style=\"fill: none; stroke-dasharray: 9.6,2.4,1.5,2.4; stroke-dashoffset: 0; stroke: #2ca02c; stroke-width: 1.5\"/>\n   </g>\n   <g id=\"line2d_52\">\n    <path d=\"M 34.954394 13.5 \nL 44.698573 85.672309 \nL 54.442752 102.012522 \nL 64.186931 110.087639 \nL 73.93111 115.850364 \nL 83.675289 117.833913 \nL 93.419468 122.80205 \nL 103.163647 122.422887 \n\" clip-path=\"url(#pc847f9d4db)\" style=\"fill: none; stroke: #1f77b4; stroke-width: 1.5; stroke-linecap: square\"/>\n   </g>\n   <g id=\"line2d_53\">\n    <path d=\"M 49.633125 84.308374 \nL 69.163125 56.492893 \nL 88.693125 114.074433 \nL 108.223125 109.21187 \n\" clip-path=\"url(#pc847f9d4db)\" style=\"fill: none; stroke-dasharray: 5.55,2.4; stroke-dashoffset: 0; stroke: #ff7f0e; stroke-width: 1.5\"/>\n   </g>\n   <g id=\"line2d_54\">\n    <path d=\"M 49.633125 25.368808 \nL 69.163125 34.839766 \nL 88.693125 15.997022 \nL 108.223125 18.079641 \n\" clip-path=\"url(#pc847f9d4db)\" style=\"fill: none; stroke-dasharray: 9.6,2.4,1.5,2.4; stroke-dashoffset: 0; stroke: #2ca02c; stroke-width: 1.5\"/>\n   </g>\n   <g id=\"line2d_55\">\n    <path d=\"M 34.954394 13.5 \nL 44.698573 85.672309 \nL 54.442752 102.012522 \nL 64.186931 110.087639 \nL 73.93111 115.850364 \nL 83.675289 117.833913 \nL 93.419468 122.80205 \nL 103.163647 122.422887 \nL 112.907826 127.567246 \n\" clip-path=\"url(#pc847f9d4db)\" style=\"fill: none; stroke: #1f77b4; stroke-width: 1.5; stroke-linecap: square\"/>\n   </g>\n   <g id=\"line2d_56\">\n    <path d=\"M 49.633125 84.308374 \nL 69.163125 56.492893 \nL 88.693125 114.074433 \nL 108.223125 109.21187 \n\" clip-path=\"url(#pc847f9d4db)\" style=\"fill: none; stroke-dasharray: 5.55,2.4; stroke-dashoffset: 0; stroke: #ff7f0e; stroke-width: 1.5\"/>\n   </g>\n   <g id=\"line2d_57\">\n    <path d=\"M 49.633125 25.368808 \nL 69.163125 34.839766 \nL 88.693125 15.997022 \nL 108.223125 18.079641 \n\" clip-path=\"url(#pc847f9d4db)\" style=\"fill: none; stroke-dasharray: 9.6,2.4,1.5,2.4; stroke-dashoffset: 0; stroke: #2ca02c; stroke-width: 1.5\"/>\n   </g>\n   <g id=\"line2d_58\">\n    <path d=\"M 34.954394 13.5 \nL 44.698573 85.672309 \nL 54.442752 102.012522 \nL 64.186931 110.087639 \nL 73.93111 115.850364 \nL 83.675289 117.833913 \nL 93.419468 122.80205 \nL 103.163647 122.422887 \nL 112.907826 127.567246 \nL 122.652006 126.957546 \n\" clip-path=\"url(#pc847f9d4db)\" style=\"fill: none; stroke: #1f77b4; stroke-width: 1.5; stroke-linecap: square\"/>\n   </g>\n   <g id=\"line2d_59\">\n    <path d=\"M 49.633125 84.308374 \nL 69.163125 56.492893 \nL 88.693125 114.074433 \nL 108.223125 109.21187 \n\" clip-path=\"url(#pc847f9d4db)\" style=\"fill: none; stroke-dasharray: 5.55,2.4; stroke-dashoffset: 0; stroke: #ff7f0e; stroke-width: 1.5\"/>\n   </g>\n   <g id=\"line2d_60\">\n    <path d=\"M 49.633125 25.368808 \nL 69.163125 34.839766 \nL 88.693125 15.997022 \nL 108.223125 18.079641 \n\" clip-path=\"url(#pc847f9d4db)\" style=\"fill: none; stroke-dasharray: 9.6,2.4,1.5,2.4; stroke-dashoffset: 0; stroke: #2ca02c; stroke-width: 1.5\"/>\n   </g>\n   <g id=\"line2d_61\">\n    <path d=\"M 34.954394 13.5 \nL 44.698573 85.672309 \nL 54.442752 102.012522 \nL 64.186931 110.087639 \nL 73.93111 115.850364 \nL 83.675289 117.833913 \nL 93.419468 122.80205 \nL 103.163647 122.422887 \nL 112.907826 127.567246 \nL 122.652006 126.957546 \n\" clip-path=\"url(#pc847f9d4db)\" style=\"fill: none; stroke: #1f77b4; stroke-width: 1.5; stroke-linecap: square\"/>\n   </g>\n   <g id=\"line2d_62\">\n    <path d=\"M 49.633125 84.308374 \nL 69.163125 56.492893 \nL 88.693125 114.074433 \nL 108.223125 109.21187 \nL 127.753125 110.618842 \n\" clip-path=\"url(#pc847f9d4db)\" style=\"fill: none; stroke-dasharray: 5.55,2.4; stroke-dashoffset: 0; stroke: #ff7f0e; stroke-width: 1.5\"/>\n   </g>\n   <g id=\"line2d_63\">\n    <path d=\"M 49.633125 25.368808 \nL 69.163125 34.839766 \nL 88.693125 15.997022 \nL 108.223125 18.079641 \n\" clip-path=\"url(#pc847f9d4db)\" style=\"fill: none; stroke-dasharray: 9.6,2.4,1.5,2.4; stroke-dashoffset: 0; stroke: #2ca02c; stroke-width: 1.5\"/>\n   </g>\n   <g id=\"line2d_64\">\n    <path d=\"M 34.954394 13.5 \nL 44.698573 85.672309 \nL 54.442752 102.012522 \nL 64.186931 110.087639 \nL 73.93111 115.850364 \nL 83.675289 117.833913 \nL 93.419468 122.80205 \nL 103.163647 122.422887 \nL 112.907826 127.567246 \nL 122.652006 126.957546 \n\" clip-path=\"url(#pc847f9d4db)\" style=\"fill: none; stroke: #1f77b4; stroke-width: 1.5; stroke-linecap: square\"/>\n   </g>\n   <g id=\"line2d_65\">\n    <path d=\"M 49.633125 84.308374 \nL 69.163125 56.492893 \nL 88.693125 114.074433 \nL 108.223125 109.21187 \nL 127.753125 110.618842 \n\" clip-path=\"url(#pc847f9d4db)\" style=\"fill: none; stroke-dasharray: 5.55,2.4; stroke-dashoffset: 0; stroke: #ff7f0e; stroke-width: 1.5\"/>\n   </g>\n   <g id=\"line2d_66\">\n    <path d=\"M 49.633125 25.368808 \nL 69.163125 34.839766 \nL 88.693125 15.997022 \nL 108.223125 18.079641 \nL 127.753125 16.823458 \n\" clip-path=\"url(#pc847f9d4db)\" style=\"fill: none; stroke-dasharray: 9.6,2.4,1.5,2.4; stroke-dashoffset: 0; stroke: #2ca02c; stroke-width: 1.5\"/>\n   </g>\n   <g id=\"line2d_67\">\n    <path d=\"M 34.954394 13.5 \nL 44.698573 85.672309 \nL 54.442752 102.012522 \nL 64.186931 110.087639 \nL 73.93111 115.850364 \nL 83.675289 117.833913 \nL 93.419468 122.80205 \nL 103.163647 122.422887 \nL 112.907826 127.567246 \nL 122.652006 126.957546 \nL 132.396185 131.12154 \n\" clip-path=\"url(#pc847f9d4db)\" style=\"fill: none; stroke: #1f77b4; stroke-width: 1.5; stroke-linecap: square\"/>\n   </g>\n   <g id=\"line2d_68\">\n    <path d=\"M 49.633125 84.308374 \nL 69.163125 56.492893 \nL 88.693125 114.074433 \nL 108.223125 109.21187 \nL 127.753125 110.618842 \n\" clip-path=\"url(#pc847f9d4db)\" style=\"fill: none; stroke-dasharray: 5.55,2.4; stroke-dashoffset: 0; stroke: #ff7f0e; stroke-width: 1.5\"/>\n   </g>\n   <g id=\"line2d_69\">\n    <path d=\"M 49.633125 25.368808 \nL 69.163125 34.839766 \nL 88.693125 15.997022 \nL 108.223125 18.079641 \nL 127.753125 16.823458 \n\" clip-path=\"url(#pc847f9d4db)\" style=\"fill: none; stroke-dasharray: 9.6,2.4,1.5,2.4; stroke-dashoffset: 0; stroke: #2ca02c; stroke-width: 1.5\"/>\n   </g>\n   <g id=\"line2d_70\">\n    <path d=\"M 34.954394 13.5 \nL 44.698573 85.672309 \nL 54.442752 102.012522 \nL 64.186931 110.087639 \nL 73.93111 115.850364 \nL 83.675289 117.833913 \nL 93.419468 122.80205 \nL 103.163647 122.422887 \nL 112.907826 127.567246 \nL 122.652006 126.957546 \nL 132.396185 131.12154 \nL 142.140364 129.704634 \n\" clip-path=\"url(#pc847f9d4db)\" style=\"fill: none; stroke: #1f77b4; stroke-width: 1.5; stroke-linecap: square\"/>\n   </g>\n   <g id=\"line2d_71\">\n    <path d=\"M 49.633125 84.308374 \nL 69.163125 56.492893 \nL 88.693125 114.074433 \nL 108.223125 109.21187 \nL 127.753125 110.618842 \n\" clip-path=\"url(#pc847f9d4db)\" style=\"fill: none; stroke-dasharray: 5.55,2.4; stroke-dashoffset: 0; stroke: #ff7f0e; stroke-width: 1.5\"/>\n   </g>\n   <g id=\"line2d_72\">\n    <path d=\"M 49.633125 25.368808 \nL 69.163125 34.839766 \nL 88.693125 15.997022 \nL 108.223125 18.079641 \nL 127.753125 16.823458 \n\" clip-path=\"url(#pc847f9d4db)\" style=\"fill: none; stroke-dasharray: 9.6,2.4,1.5,2.4; stroke-dashoffset: 0; stroke: #2ca02c; stroke-width: 1.5\"/>\n   </g>\n   <g id=\"line2d_73\">\n    <path d=\"M 34.954394 13.5 \nL 44.698573 85.672309 \nL 54.442752 102.012522 \nL 64.186931 110.087639 \nL 73.93111 115.850364 \nL 83.675289 117.833913 \nL 93.419468 122.80205 \nL 103.163647 122.422887 \nL 112.907826 127.567246 \nL 122.652006 126.957546 \nL 132.396185 131.12154 \nL 142.140364 129.704634 \n\" clip-path=\"url(#pc847f9d4db)\" style=\"fill: none; stroke: #1f77b4; stroke-width: 1.5; stroke-linecap: square\"/>\n   </g>\n   <g id=\"line2d_74\">\n    <path d=\"M 49.633125 84.308374 \nL 69.163125 56.492893 \nL 88.693125 114.074433 \nL 108.223125 109.21187 \nL 127.753125 110.618842 \nL 147.283125 112.688633 \n\" clip-path=\"url(#pc847f9d4db)\" style=\"fill: none; stroke-dasharray: 5.55,2.4; stroke-dashoffset: 0; stroke: #ff7f0e; stroke-width: 1.5\"/>\n   </g>\n   <g id=\"line2d_75\">\n    <path d=\"M 49.633125 25.368808 \nL 69.163125 34.839766 \nL 88.693125 15.997022 \nL 108.223125 18.079641 \nL 127.753125 16.823458 \n\" clip-path=\"url(#pc847f9d4db)\" style=\"fill: none; stroke-dasharray: 9.6,2.4,1.5,2.4; stroke-dashoffset: 0; stroke: #2ca02c; stroke-width: 1.5\"/>\n   </g>\n   <g id=\"line2d_76\">\n    <path d=\"M 34.954394 13.5 \nL 44.698573 85.672309 \nL 54.442752 102.012522 \nL 64.186931 110.087639 \nL 73.93111 115.850364 \nL 83.675289 117.833913 \nL 93.419468 122.80205 \nL 103.163647 122.422887 \nL 112.907826 127.567246 \nL 122.652006 126.957546 \nL 132.396185 131.12154 \nL 142.140364 129.704634 \n\" clip-path=\"url(#pc847f9d4db)\" style=\"fill: none; stroke: #1f77b4; stroke-width: 1.5; stroke-linecap: square\"/>\n   </g>\n   <g id=\"line2d_77\">\n    <path d=\"M 49.633125 84.308374 \nL 69.163125 56.492893 \nL 88.693125 114.074433 \nL 108.223125 109.21187 \nL 127.753125 110.618842 \nL 147.283125 112.688633 \n\" clip-path=\"url(#pc847f9d4db)\" style=\"fill: none; stroke-dasharray: 5.55,2.4; stroke-dashoffset: 0; stroke: #ff7f0e; stroke-width: 1.5\"/>\n   </g>\n   <g id=\"line2d_78\">\n    <path d=\"M 49.633125 25.368808 \nL 69.163125 34.839766 \nL 88.693125 15.997022 \nL 108.223125 18.079641 \nL 127.753125 16.823458 \nL 147.283125 16.80693 \n\" clip-path=\"url(#pc847f9d4db)\" style=\"fill: none; stroke-dasharray: 9.6,2.4,1.5,2.4; stroke-dashoffset: 0; stroke: #2ca02c; stroke-width: 1.5\"/>\n   </g>\n   <g id=\"line2d_79\">\n    <path d=\"M 34.954394 13.5 \nL 44.698573 85.672309 \nL 54.442752 102.012522 \nL 64.186931 110.087639 \nL 73.93111 115.850364 \nL 83.675289 117.833913 \nL 93.419468 122.80205 \nL 103.163647 122.422887 \nL 112.907826 127.567246 \nL 122.652006 126.957546 \nL 132.396185 131.12154 \nL 142.140364 129.704634 \nL 151.884543 133.022089 \n\" clip-path=\"url(#pc847f9d4db)\" style=\"fill: none; stroke: #1f77b4; stroke-width: 1.5; stroke-linecap: square\"/>\n   </g>\n   <g id=\"line2d_80\">\n    <path d=\"M 49.633125 84.308374 \nL 69.163125 56.492893 \nL 88.693125 114.074433 \nL 108.223125 109.21187 \nL 127.753125 110.618842 \nL 147.283125 112.688633 \n\" clip-path=\"url(#pc847f9d4db)\" style=\"fill: none; stroke-dasharray: 5.55,2.4; stroke-dashoffset: 0; stroke: #ff7f0e; stroke-width: 1.5\"/>\n   </g>\n   <g id=\"line2d_81\">\n    <path d=\"M 49.633125 25.368808 \nL 69.163125 34.839766 \nL 88.693125 15.997022 \nL 108.223125 18.079641 \nL 127.753125 16.823458 \nL 147.283125 16.80693 \n\" clip-path=\"url(#pc847f9d4db)\" style=\"fill: none; stroke-dasharray: 9.6,2.4,1.5,2.4; stroke-dashoffset: 0; stroke: #2ca02c; stroke-width: 1.5\"/>\n   </g>\n   <g id=\"line2d_82\">\n    <path d=\"M 34.954394 13.5 \nL 44.698573 85.672309 \nL 54.442752 102.012522 \nL 64.186931 110.087639 \nL 73.93111 115.850364 \nL 83.675289 117.833913 \nL 93.419468 122.80205 \nL 103.163647 122.422887 \nL 112.907826 127.567246 \nL 122.652006 126.957546 \nL 132.396185 131.12154 \nL 142.140364 129.704634 \nL 151.884543 133.022089 \nL 161.628722 132.245165 \n\" clip-path=\"url(#pc847f9d4db)\" style=\"fill: none; stroke: #1f77b4; stroke-width: 1.5; stroke-linecap: square\"/>\n   </g>\n   <g id=\"line2d_83\">\n    <path d=\"M 49.633125 84.308374 \nL 69.163125 56.492893 \nL 88.693125 114.074433 \nL 108.223125 109.21187 \nL 127.753125 110.618842 \nL 147.283125 112.688633 \n\" clip-path=\"url(#pc847f9d4db)\" style=\"fill: none; stroke-dasharray: 5.55,2.4; stroke-dashoffset: 0; stroke: #ff7f0e; stroke-width: 1.5\"/>\n   </g>\n   <g id=\"line2d_84\">\n    <path d=\"M 49.633125 25.368808 \nL 69.163125 34.839766 \nL 88.693125 15.997022 \nL 108.223125 18.079641 \nL 127.753125 16.823458 \nL 147.283125 16.80693 \n\" clip-path=\"url(#pc847f9d4db)\" style=\"fill: none; stroke-dasharray: 9.6,2.4,1.5,2.4; stroke-dashoffset: 0; stroke: #2ca02c; stroke-width: 1.5\"/>\n   </g>\n   <g id=\"line2d_85\">\n    <path d=\"M 34.954394 13.5 \nL 44.698573 85.672309 \nL 54.442752 102.012522 \nL 64.186931 110.087639 \nL 73.93111 115.850364 \nL 83.675289 117.833913 \nL 93.419468 122.80205 \nL 103.163647 122.422887 \nL 112.907826 127.567246 \nL 122.652006 126.957546 \nL 132.396185 131.12154 \nL 142.140364 129.704634 \nL 151.884543 133.022089 \nL 161.628722 132.245165 \n\" clip-path=\"url(#pc847f9d4db)\" style=\"fill: none; stroke: #1f77b4; stroke-width: 1.5; stroke-linecap: square\"/>\n   </g>\n   <g id=\"line2d_86\">\n    <path d=\"M 49.633125 84.308374 \nL 69.163125 56.492893 \nL 88.693125 114.074433 \nL 108.223125 109.21187 \nL 127.753125 110.618842 \nL 147.283125 112.688633 \nL 166.813125 113.698169 \n\" clip-path=\"url(#pc847f9d4db)\" style=\"fill: none; stroke-dasharray: 5.55,2.4; stroke-dashoffset: 0; stroke: #ff7f0e; stroke-width: 1.5\"/>\n   </g>\n   <g id=\"line2d_87\">\n    <path d=\"M 49.633125 25.368808 \nL 69.163125 34.839766 \nL 88.693125 15.997022 \nL 108.223125 18.079641 \nL 127.753125 16.823458 \nL 147.283125 16.80693 \n\" clip-path=\"url(#pc847f9d4db)\" style=\"fill: none; stroke-dasharray: 9.6,2.4,1.5,2.4; stroke-dashoffset: 0; stroke: #2ca02c; stroke-width: 1.5\"/>\n   </g>\n   <g id=\"line2d_88\">\n    <path d=\"M 34.954394 13.5 \nL 44.698573 85.672309 \nL 54.442752 102.012522 \nL 64.186931 110.087639 \nL 73.93111 115.850364 \nL 83.675289 117.833913 \nL 93.419468 122.80205 \nL 103.163647 122.422887 \nL 112.907826 127.567246 \nL 122.652006 126.957546 \nL 132.396185 131.12154 \nL 142.140364 129.704634 \nL 151.884543 133.022089 \nL 161.628722 132.245165 \n\" clip-path=\"url(#pc847f9d4db)\" style=\"fill: none; stroke: #1f77b4; stroke-width: 1.5; stroke-linecap: square\"/>\n   </g>\n   <g id=\"line2d_89\">\n    <path d=\"M 49.633125 84.308374 \nL 69.163125 56.492893 \nL 88.693125 114.074433 \nL 108.223125 109.21187 \nL 127.753125 110.618842 \nL 147.283125 112.688633 \nL 166.813125 113.698169 \n\" clip-path=\"url(#pc847f9d4db)\" style=\"fill: none; stroke-dasharray: 5.55,2.4; stroke-dashoffset: 0; stroke: #ff7f0e; stroke-width: 1.5\"/>\n   </g>\n   <g id=\"line2d_90\">\n    <path d=\"M 49.633125 25.368808 \nL 69.163125 34.839766 \nL 88.693125 15.997022 \nL 108.223125 18.079641 \nL 127.753125 16.823458 \nL 147.283125 16.80693 \nL 166.813125 15.89785 \n\" clip-path=\"url(#pc847f9d4db)\" style=\"fill: none; stroke-dasharray: 9.6,2.4,1.5,2.4; stroke-dashoffset: 0; stroke: #2ca02c; stroke-width: 1.5\"/>\n   </g>\n   <g id=\"line2d_91\">\n    <path d=\"M 34.954394 13.5 \nL 44.698573 85.672309 \nL 54.442752 102.012522 \nL 64.186931 110.087639 \nL 73.93111 115.850364 \nL 83.675289 117.833913 \nL 93.419468 122.80205 \nL 103.163647 122.422887 \nL 112.907826 127.567246 \nL 122.652006 126.957546 \nL 132.396185 131.12154 \nL 142.140364 129.704634 \nL 151.884543 133.022089 \nL 161.628722 132.245165 \nL 171.372901 135.242355 \n\" clip-path=\"url(#pc847f9d4db)\" style=\"fill: none; stroke: #1f77b4; stroke-width: 1.5; stroke-linecap: square\"/>\n   </g>\n   <g id=\"line2d_92\">\n    <path d=\"M 49.633125 84.308374 \nL 69.163125 56.492893 \nL 88.693125 114.074433 \nL 108.223125 109.21187 \nL 127.753125 110.618842 \nL 147.283125 112.688633 \nL 166.813125 113.698169 \n\" clip-path=\"url(#pc847f9d4db)\" style=\"fill: none; stroke-dasharray: 5.55,2.4; stroke-dashoffset: 0; stroke: #ff7f0e; stroke-width: 1.5\"/>\n   </g>\n   <g id=\"line2d_93\">\n    <path d=\"M 49.633125 25.368808 \nL 69.163125 34.839766 \nL 88.693125 15.997022 \nL 108.223125 18.079641 \nL 127.753125 16.823458 \nL 147.283125 16.80693 \nL 166.813125 15.89785 \n\" clip-path=\"url(#pc847f9d4db)\" style=\"fill: none; stroke-dasharray: 9.6,2.4,1.5,2.4; stroke-dashoffset: 0; stroke: #2ca02c; stroke-width: 1.5\"/>\n   </g>\n   <g id=\"line2d_94\">\n    <path d=\"M 34.954394 13.5 \nL 44.698573 85.672309 \nL 54.442752 102.012522 \nL 64.186931 110.087639 \nL 73.93111 115.850364 \nL 83.675289 117.833913 \nL 93.419468 122.80205 \nL 103.163647 122.422887 \nL 112.907826 127.567246 \nL 122.652006 126.957546 \nL 132.396185 131.12154 \nL 142.140364 129.704634 \nL 151.884543 133.022089 \nL 161.628722 132.245165 \nL 171.372901 135.242355 \nL 181.11708 134.316679 \n\" clip-path=\"url(#pc847f9d4db)\" style=\"fill: none; stroke: #1f77b4; stroke-width: 1.5; stroke-linecap: square\"/>\n   </g>\n   <g id=\"line2d_95\">\n    <path d=\"M 49.633125 84.308374 \nL 69.163125 56.492893 \nL 88.693125 114.074433 \nL 108.223125 109.21187 \nL 127.753125 110.618842 \nL 147.283125 112.688633 \nL 166.813125 113.698169 \n\" clip-path=\"url(#pc847f9d4db)\" style=\"fill: none; stroke-dasharray: 5.55,2.4; stroke-dashoffset: 0; stroke: #ff7f0e; stroke-width: 1.5\"/>\n   </g>\n   <g id=\"line2d_96\">\n    <path d=\"M 49.633125 25.368808 \nL 69.163125 34.839766 \nL 88.693125 15.997022 \nL 108.223125 18.079641 \nL 127.753125 16.823458 \nL 147.283125 16.80693 \nL 166.813125 15.89785 \n\" clip-path=\"url(#pc847f9d4db)\" style=\"fill: none; stroke-dasharray: 9.6,2.4,1.5,2.4; stroke-dashoffset: 0; stroke: #2ca02c; stroke-width: 1.5\"/>\n   </g>\n   <g id=\"line2d_97\">\n    <path d=\"M 34.954394 13.5 \nL 44.698573 85.672309 \nL 54.442752 102.012522 \nL 64.186931 110.087639 \nL 73.93111 115.850364 \nL 83.675289 117.833913 \nL 93.419468 122.80205 \nL 103.163647 122.422887 \nL 112.907826 127.567246 \nL 122.652006 126.957546 \nL 132.396185 131.12154 \nL 142.140364 129.704634 \nL 151.884543 133.022089 \nL 161.628722 132.245165 \nL 171.372901 135.242355 \nL 181.11708 134.316679 \n\" clip-path=\"url(#pc847f9d4db)\" style=\"fill: none; stroke: #1f77b4; stroke-width: 1.5; stroke-linecap: square\"/>\n   </g>\n   <g id=\"line2d_98\">\n    <path d=\"M 49.633125 84.308374 \nL 69.163125 56.492893 \nL 88.693125 114.074433 \nL 108.223125 109.21187 \nL 127.753125 110.618842 \nL 147.283125 112.688633 \nL 166.813125 113.698169 \nL 186.343125 110.94606 \n\" clip-path=\"url(#pc847f9d4db)\" style=\"fill: none; stroke-dasharray: 5.55,2.4; stroke-dashoffset: 0; stroke: #ff7f0e; stroke-width: 1.5\"/>\n   </g>\n   <g id=\"line2d_99\">\n    <path d=\"M 49.633125 25.368808 \nL 69.163125 34.839766 \nL 88.693125 15.997022 \nL 108.223125 18.079641 \nL 127.753125 16.823458 \nL 147.283125 16.80693 \nL 166.813125 15.89785 \n\" clip-path=\"url(#pc847f9d4db)\" style=\"fill: none; stroke-dasharray: 9.6,2.4,1.5,2.4; stroke-dashoffset: 0; stroke: #2ca02c; stroke-width: 1.5\"/>\n   </g>\n   <g id=\"line2d_100\">\n    <path d=\"M 34.954394 13.5 \nL 44.698573 85.672309 \nL 54.442752 102.012522 \nL 64.186931 110.087639 \nL 73.93111 115.850364 \nL 83.675289 117.833913 \nL 93.419468 122.80205 \nL 103.163647 122.422887 \nL 112.907826 127.567246 \nL 122.652006 126.957546 \nL 132.396185 131.12154 \nL 142.140364 129.704634 \nL 151.884543 133.022089 \nL 161.628722 132.245165 \nL 171.372901 135.242355 \nL 181.11708 134.316679 \n\" clip-path=\"url(#pc847f9d4db)\" style=\"fill: none; stroke: #1f77b4; stroke-width: 1.5; stroke-linecap: square\"/>\n   </g>\n   <g id=\"line2d_101\">\n    <path d=\"M 49.633125 84.308374 \nL 69.163125 56.492893 \nL 88.693125 114.074433 \nL 108.223125 109.21187 \nL 127.753125 110.618842 \nL 147.283125 112.688633 \nL 166.813125 113.698169 \nL 186.343125 110.94606 \n\" clip-path=\"url(#pc847f9d4db)\" style=\"fill: none; stroke-dasharray: 5.55,2.4; stroke-dashoffset: 0; stroke: #ff7f0e; stroke-width: 1.5\"/>\n   </g>\n   <g id=\"line2d_102\">\n    <path d=\"M 49.633125 25.368808 \nL 69.163125 34.839766 \nL 88.693125 15.997022 \nL 108.223125 18.079641 \nL 127.753125 16.823458 \nL 147.283125 16.80693 \nL 166.813125 15.89785 \nL 186.343125 16.195367 \n\" clip-path=\"url(#pc847f9d4db)\" style=\"fill: none; stroke-dasharray: 9.6,2.4,1.5,2.4; stroke-dashoffset: 0; stroke: #2ca02c; stroke-width: 1.5\"/>\n   </g>\n   <g id=\"line2d_103\">\n    <path d=\"M 34.954394 13.5 \nL 44.698573 85.672309 \nL 54.442752 102.012522 \nL 64.186931 110.087639 \nL 73.93111 115.850364 \nL 83.675289 117.833913 \nL 93.419468 122.80205 \nL 103.163647 122.422887 \nL 112.907826 127.567246 \nL 122.652006 126.957546 \nL 132.396185 131.12154 \nL 142.140364 129.704634 \nL 151.884543 133.022089 \nL 161.628722 132.245165 \nL 171.372901 135.242355 \nL 181.11708 134.316679 \nL 190.861259 137.827323 \n\" clip-path=\"url(#pc847f9d4db)\" style=\"fill: none; stroke: #1f77b4; stroke-width: 1.5; stroke-linecap: square\"/>\n   </g>\n   <g id=\"line2d_104\">\n    <path d=\"M 49.633125 84.308374 \nL 69.163125 56.492893 \nL 88.693125 114.074433 \nL 108.223125 109.21187 \nL 127.753125 110.618842 \nL 147.283125 112.688633 \nL 166.813125 113.698169 \nL 186.343125 110.94606 \n\" clip-path=\"url(#pc847f9d4db)\" style=\"fill: none; stroke-dasharray: 5.55,2.4; stroke-dashoffset: 0; stroke: #ff7f0e; stroke-width: 1.5\"/>\n   </g>\n   <g id=\"line2d_105\">\n    <path d=\"M 49.633125 25.368808 \nL 69.163125 34.839766 \nL 88.693125 15.997022 \nL 108.223125 18.079641 \nL 127.753125 16.823458 \nL 147.283125 16.80693 \nL 166.813125 15.89785 \nL 186.343125 16.195367 \n\" clip-path=\"url(#pc847f9d4db)\" style=\"fill: none; stroke-dasharray: 9.6,2.4,1.5,2.4; stroke-dashoffset: 0; stroke: #2ca02c; stroke-width: 1.5\"/>\n   </g>\n   <g id=\"line2d_106\">\n    <path d=\"M 34.954394 13.5 \nL 44.698573 85.672309 \nL 54.442752 102.012522 \nL 64.186931 110.087639 \nL 73.93111 115.850364 \nL 83.675289 117.833913 \nL 93.419468 122.80205 \nL 103.163647 122.422887 \nL 112.907826 127.567246 \nL 122.652006 126.957546 \nL 132.396185 131.12154 \nL 142.140364 129.704634 \nL 151.884543 133.022089 \nL 161.628722 132.245165 \nL 171.372901 135.242355 \nL 181.11708 134.316679 \nL 190.861259 137.827323 \nL 200.605438 135.585699 \n\" clip-path=\"url(#pc847f9d4db)\" style=\"fill: none; stroke: #1f77b4; stroke-width: 1.5; stroke-linecap: square\"/>\n   </g>\n   <g id=\"line2d_107\">\n    <path d=\"M 49.633125 84.308374 \nL 69.163125 56.492893 \nL 88.693125 114.074433 \nL 108.223125 109.21187 \nL 127.753125 110.618842 \nL 147.283125 112.688633 \nL 166.813125 113.698169 \nL 186.343125 110.94606 \n\" clip-path=\"url(#pc847f9d4db)\" style=\"fill: none; stroke-dasharray: 5.55,2.4; stroke-dashoffset: 0; stroke: #ff7f0e; stroke-width: 1.5\"/>\n   </g>\n   <g id=\"line2d_108\">\n    <path d=\"M 49.633125 25.368808 \nL 69.163125 34.839766 \nL 88.693125 15.997022 \nL 108.223125 18.079641 \nL 127.753125 16.823458 \nL 147.283125 16.80693 \nL 166.813125 15.89785 \nL 186.343125 16.195367 \n\" clip-path=\"url(#pc847f9d4db)\" style=\"fill: none; stroke-dasharray: 9.6,2.4,1.5,2.4; stroke-dashoffset: 0; stroke: #2ca02c; stroke-width: 1.5\"/>\n   </g>\n   <g id=\"line2d_109\">\n    <path d=\"M 34.954394 13.5 \nL 44.698573 85.672309 \nL 54.442752 102.012522 \nL 64.186931 110.087639 \nL 73.93111 115.850364 \nL 83.675289 117.833913 \nL 93.419468 122.80205 \nL 103.163647 122.422887 \nL 112.907826 127.567246 \nL 122.652006 126.957546 \nL 132.396185 131.12154 \nL 142.140364 129.704634 \nL 151.884543 133.022089 \nL 161.628722 132.245165 \nL 171.372901 135.242355 \nL 181.11708 134.316679 \nL 190.861259 137.827323 \nL 200.605438 135.585699 \n\" clip-path=\"url(#pc847f9d4db)\" style=\"fill: none; stroke: #1f77b4; stroke-width: 1.5; stroke-linecap: square\"/>\n   </g>\n   <g id=\"line2d_110\">\n    <path d=\"M 49.633125 84.308374 \nL 69.163125 56.492893 \nL 88.693125 114.074433 \nL 108.223125 109.21187 \nL 127.753125 110.618842 \nL 147.283125 112.688633 \nL 166.813125 113.698169 \nL 186.343125 110.94606 \nL 205.873125 95.776601 \n\" clip-path=\"url(#pc847f9d4db)\" style=\"fill: none; stroke-dasharray: 5.55,2.4; stroke-dashoffset: 0; stroke: #ff7f0e; stroke-width: 1.5\"/>\n   </g>\n   <g id=\"line2d_111\">\n    <path d=\"M 49.633125 25.368808 \nL 69.163125 34.839766 \nL 88.693125 15.997022 \nL 108.223125 18.079641 \nL 127.753125 16.823458 \nL 147.283125 16.80693 \nL 166.813125 15.89785 \nL 186.343125 16.195367 \n\" clip-path=\"url(#pc847f9d4db)\" style=\"fill: none; stroke-dasharray: 9.6,2.4,1.5,2.4; stroke-dashoffset: 0; stroke: #2ca02c; stroke-width: 1.5\"/>\n   </g>\n   <g id=\"line2d_112\">\n    <path d=\"M 34.954394 13.5 \nL 44.698573 85.672309 \nL 54.442752 102.012522 \nL 64.186931 110.087639 \nL 73.93111 115.850364 \nL 83.675289 117.833913 \nL 93.419468 122.80205 \nL 103.163647 122.422887 \nL 112.907826 127.567246 \nL 122.652006 126.957546 \nL 132.396185 131.12154 \nL 142.140364 129.704634 \nL 151.884543 133.022089 \nL 161.628722 132.245165 \nL 171.372901 135.242355 \nL 181.11708 134.316679 \nL 190.861259 137.827323 \nL 200.605438 135.585699 \n\" clip-path=\"url(#pc847f9d4db)\" style=\"fill: none; stroke: #1f77b4; stroke-width: 1.5; stroke-linecap: square\"/>\n   </g>\n   <g id=\"line2d_113\">\n    <path d=\"M 49.633125 84.308374 \nL 69.163125 56.492893 \nL 88.693125 114.074433 \nL 108.223125 109.21187 \nL 127.753125 110.618842 \nL 147.283125 112.688633 \nL 166.813125 113.698169 \nL 186.343125 110.94606 \nL 205.873125 95.776601 \n\" clip-path=\"url(#pc847f9d4db)\" style=\"fill: none; stroke-dasharray: 5.55,2.4; stroke-dashoffset: 0; stroke: #ff7f0e; stroke-width: 1.5\"/>\n   </g>\n   <g id=\"line2d_114\">\n    <path d=\"M 49.633125 25.368808 \nL 69.163125 34.839766 \nL 88.693125 15.997022 \nL 108.223125 18.079641 \nL 127.753125 16.823458 \nL 147.283125 16.80693 \nL 166.813125 15.89785 \nL 186.343125 16.195367 \nL 205.873125 20.063088 \n\" clip-path=\"url(#pc847f9d4db)\" style=\"fill: none; stroke-dasharray: 9.6,2.4,1.5,2.4; stroke-dashoffset: 0; stroke: #2ca02c; stroke-width: 1.5\"/>\n   </g>\n   <g id=\"line2d_115\">\n    <path d=\"M 34.954394 13.5 \nL 44.698573 85.672309 \nL 54.442752 102.012522 \nL 64.186931 110.087639 \nL 73.93111 115.850364 \nL 83.675289 117.833913 \nL 93.419468 122.80205 \nL 103.163647 122.422887 \nL 112.907826 127.567246 \nL 122.652006 126.957546 \nL 132.396185 131.12154 \nL 142.140364 129.704634 \nL 151.884543 133.022089 \nL 161.628722 132.245165 \nL 171.372901 135.242355 \nL 181.11708 134.316679 \nL 190.861259 137.827323 \nL 200.605438 135.585699 \nL 210.349618 139.5 \n\" clip-path=\"url(#pc847f9d4db)\" style=\"fill: none; stroke: #1f77b4; stroke-width: 1.5; stroke-linecap: square\"/>\n   </g>\n   <g id=\"line2d_116\">\n    <path d=\"M 49.633125 84.308374 \nL 69.163125 56.492893 \nL 88.693125 114.074433 \nL 108.223125 109.21187 \nL 127.753125 110.618842 \nL 147.283125 112.688633 \nL 166.813125 113.698169 \nL 186.343125 110.94606 \nL 205.873125 95.776601 \n\" clip-path=\"url(#pc847f9d4db)\" style=\"fill: none; stroke-dasharray: 5.55,2.4; stroke-dashoffset: 0; stroke: #ff7f0e; stroke-width: 1.5\"/>\n   </g>\n   <g id=\"line2d_117\">\n    <path d=\"M 49.633125 25.368808 \nL 69.163125 34.839766 \nL 88.693125 15.997022 \nL 108.223125 18.079641 \nL 127.753125 16.823458 \nL 147.283125 16.80693 \nL 166.813125 15.89785 \nL 186.343125 16.195367 \nL 205.873125 20.063088 \n\" clip-path=\"url(#pc847f9d4db)\" style=\"fill: none; stroke-dasharray: 9.6,2.4,1.5,2.4; stroke-dashoffset: 0; stroke: #2ca02c; stroke-width: 1.5\"/>\n   </g>\n   <g id=\"line2d_118\">\n    <path d=\"M 34.954394 13.5 \nL 44.698573 85.672309 \nL 54.442752 102.012522 \nL 64.186931 110.087639 \nL 73.93111 115.850364 \nL 83.675289 117.833913 \nL 93.419468 122.80205 \nL 103.163647 122.422887 \nL 112.907826 127.567246 \nL 122.652006 126.957546 \nL 132.396185 131.12154 \nL 142.140364 129.704634 \nL 151.884543 133.022089 \nL 161.628722 132.245165 \nL 171.372901 135.242355 \nL 181.11708 134.316679 \nL 190.861259 137.827323 \nL 200.605438 135.585699 \nL 210.349618 139.5 \nL 220.093797 137.739618 \n\" clip-path=\"url(#pc847f9d4db)\" style=\"fill: none; stroke: #1f77b4; stroke-width: 1.5; stroke-linecap: square\"/>\n   </g>\n   <g id=\"line2d_119\">\n    <path d=\"M 49.633125 84.308374 \nL 69.163125 56.492893 \nL 88.693125 114.074433 \nL 108.223125 109.21187 \nL 127.753125 110.618842 \nL 147.283125 112.688633 \nL 166.813125 113.698169 \nL 186.343125 110.94606 \nL 205.873125 95.776601 \n\" clip-path=\"url(#pc847f9d4db)\" style=\"fill: none; stroke-dasharray: 5.55,2.4; stroke-dashoffset: 0; stroke: #ff7f0e; stroke-width: 1.5\"/>\n   </g>\n   <g id=\"line2d_120\">\n    <path d=\"M 49.633125 25.368808 \nL 69.163125 34.839766 \nL 88.693125 15.997022 \nL 108.223125 18.079641 \nL 127.753125 16.823458 \nL 147.283125 16.80693 \nL 166.813125 15.89785 \nL 186.343125 16.195367 \nL 205.873125 20.063088 \n\" clip-path=\"url(#pc847f9d4db)\" style=\"fill: none; stroke-dasharray: 9.6,2.4,1.5,2.4; stroke-dashoffset: 0; stroke: #2ca02c; stroke-width: 1.5\"/>\n   </g>\n   <g id=\"line2d_121\">\n    <path d=\"M 34.954394 13.5 \nL 44.698573 85.672309 \nL 54.442752 102.012522 \nL 64.186931 110.087639 \nL 73.93111 115.850364 \nL 83.675289 117.833913 \nL 93.419468 122.80205 \nL 103.163647 122.422887 \nL 112.907826 127.567246 \nL 122.652006 126.957546 \nL 132.396185 131.12154 \nL 142.140364 129.704634 \nL 151.884543 133.022089 \nL 161.628722 132.245165 \nL 171.372901 135.242355 \nL 181.11708 134.316679 \nL 190.861259 137.827323 \nL 200.605438 135.585699 \nL 210.349618 139.5 \nL 220.093797 137.739618 \n\" clip-path=\"url(#pc847f9d4db)\" style=\"fill: none; stroke: #1f77b4; stroke-width: 1.5; stroke-linecap: square\"/>\n   </g>\n   <g id=\"line2d_122\">\n    <path d=\"M 49.633125 84.308374 \nL 69.163125 56.492893 \nL 88.693125 114.074433 \nL 108.223125 109.21187 \nL 127.753125 110.618842 \nL 147.283125 112.688633 \nL 166.813125 113.698169 \nL 186.343125 110.94606 \nL 205.873125 95.776601 \nL 225.403125 118.61868 \n\" clip-path=\"url(#pc847f9d4db)\" style=\"fill: none; stroke-dasharray: 5.55,2.4; stroke-dashoffset: 0; stroke: #ff7f0e; stroke-width: 1.5\"/>\n   </g>\n   <g id=\"line2d_123\">\n    <path d=\"M 49.633125 25.368808 \nL 69.163125 34.839766 \nL 88.693125 15.997022 \nL 108.223125 18.079641 \nL 127.753125 16.823458 \nL 147.283125 16.80693 \nL 166.813125 15.89785 \nL 186.343125 16.195367 \nL 205.873125 20.063088 \n\" clip-path=\"url(#pc847f9d4db)\" style=\"fill: none; stroke-dasharray: 9.6,2.4,1.5,2.4; stroke-dashoffset: 0; stroke: #2ca02c; stroke-width: 1.5\"/>\n   </g>\n   <g id=\"line2d_124\">\n    <path d=\"M 34.954394 13.5 \nL 44.698573 85.672309 \nL 54.442752 102.012522 \nL 64.186931 110.087639 \nL 73.93111 115.850364 \nL 83.675289 117.833913 \nL 93.419468 122.80205 \nL 103.163647 122.422887 \nL 112.907826 127.567246 \nL 122.652006 126.957546 \nL 132.396185 131.12154 \nL 142.140364 129.704634 \nL 151.884543 133.022089 \nL 161.628722 132.245165 \nL 171.372901 135.242355 \nL 181.11708 134.316679 \nL 190.861259 137.827323 \nL 200.605438 135.585699 \nL 210.349618 139.5 \nL 220.093797 137.739618 \n\" clip-path=\"url(#pc847f9d4db)\" style=\"fill: none; stroke: #1f77b4; stroke-width: 1.5; stroke-linecap: square\"/>\n   </g>\n   <g id=\"line2d_125\">\n    <path d=\"M 49.633125 84.308374 \nL 69.163125 56.492893 \nL 88.693125 114.074433 \nL 108.223125 109.21187 \nL 127.753125 110.618842 \nL 147.283125 112.688633 \nL 166.813125 113.698169 \nL 186.343125 110.94606 \nL 205.873125 95.776601 \nL 225.403125 118.61868 \n\" clip-path=\"url(#pc847f9d4db)\" style=\"fill: none; stroke-dasharray: 5.55,2.4; stroke-dashoffset: 0; stroke: #ff7f0e; stroke-width: 1.5\"/>\n   </g>\n   <g id=\"line2d_126\">\n    <path d=\"M 49.633125 25.368808 \nL 69.163125 34.839766 \nL 88.693125 15.997022 \nL 108.223125 18.079641 \nL 127.753125 16.823458 \nL 147.283125 16.80693 \nL 166.813125 15.89785 \nL 186.343125 16.195367 \nL 205.873125 20.063088 \nL 225.403125 13.649944 \n\" clip-path=\"url(#pc847f9d4db)\" style=\"fill: none; stroke-dasharray: 9.6,2.4,1.5,2.4; stroke-dashoffset: 0; stroke: #2ca02c; stroke-width: 1.5\"/>\n   </g>\n   <g id=\"patch_3\">\n    <path d=\"M 30.103125 145.8 \nL 30.103125 7.2 \n\" style=\"fill: none; stroke: #000000; stroke-width: 0.8; stroke-linejoin: miter; stroke-linecap: square\"/>\n   </g>\n   <g id=\"patch_4\">\n    <path d=\"M 225.403125 145.8 \nL 225.403125 7.2 \n\" style=\"fill: none; stroke: #000000; stroke-width: 0.8; stroke-linejoin: miter; stroke-linecap: square\"/>\n   </g>\n   <g id=\"patch_5\">\n    <path d=\"M 30.103125 145.8 \nL 225.403125 145.8 \n\" style=\"fill: none; stroke: #000000; stroke-width: 0.8; stroke-linejoin: miter; stroke-linecap: square\"/>\n   </g>\n   <g id=\"patch_6\">\n    <path d=\"M 30.103125 7.2 \nL 225.403125 7.2 \n\" style=\"fill: none; stroke: #000000; stroke-width: 0.8; stroke-linejoin: miter; stroke-linecap: square\"/>\n   </g>\n   <g id=\"legend_1\">\n    <g id=\"patch_7\">\n     <path d=\"M 87.957813 100.434375 \nL 167.548438 100.434375 \nQ 169.548438 100.434375 169.548438 98.434375 \nL 169.548438 54.565625 \nQ 169.548438 52.565625 167.548438 52.565625 \nL 87.957813 52.565625 \nQ 85.957813 52.565625 85.957813 54.565625 \nL 85.957813 98.434375 \nQ 85.957813 100.434375 87.957813 100.434375 \nz\n\" style=\"fill: #ffffff; opacity: 0.8; stroke: #cccccc; stroke-linejoin: miter\"/>\n    </g>\n    <g id=\"line2d_127\">\n     <path d=\"M 89.957813 60.664063 \nL 99.957813 60.664063 \nL 109.957813 60.664063 \n\" style=\"fill: none; stroke: #1f77b4; stroke-width: 1.5; stroke-linecap: square\"/>\n    </g>\n    <g id=\"text_12\">\n     <!-- train_loss -->\n     <g transform=\"translate(117.957813 64.164063) scale(0.1 -0.1)\">\n      <defs>\n       <path id=\"DejaVuSans-74\" d=\"M 1172 4494 \nL 1172 3500 \nL 2356 3500 \nL 2356 3053 \nL 1172 3053 \nL 1172 1153 \nQ 1172 725 1289 603 \nQ 1406 481 1766 481 \nL 2356 481 \nL 2356 0 \nL 1766 0 \nQ 1100 0 847 248 \nQ 594 497 594 1153 \nL 594 3053 \nL 172 3053 \nL 172 3500 \nL 594 3500 \nL 594 4494 \nL 1172 4494 \nz\n\" transform=\"scale(0.015625)\"/>\n       <path id=\"DejaVuSans-72\" d=\"M 2631 2963 \nQ 2534 3019 2420 3045 \nQ 2306 3072 2169 3072 \nQ 1681 3072 1420 2755 \nQ 1159 2438 1159 1844 \nL 1159 0 \nL 581 0 \nL 581 3500 \nL 1159 3500 \nL 1159 2956 \nQ 1341 3275 1631 3429 \nQ 1922 3584 2338 3584 \nQ 2397 3584 2469 3576 \nQ 2541 3569 2628 3553 \nL 2631 2963 \nz\n\" transform=\"scale(0.015625)\"/>\n       <path id=\"DejaVuSans-61\" d=\"M 2194 1759 \nQ 1497 1759 1228 1600 \nQ 959 1441 959 1056 \nQ 959 750 1161 570 \nQ 1363 391 1709 391 \nQ 2188 391 2477 730 \nQ 2766 1069 2766 1631 \nL 2766 1759 \nL 2194 1759 \nz\nM 3341 1997 \nL 3341 0 \nL 2766 0 \nL 2766 531 \nQ 2569 213 2275 61 \nQ 1981 -91 1556 -91 \nQ 1019 -91 701 211 \nQ 384 513 384 1019 \nQ 384 1609 779 1909 \nQ 1175 2209 1959 2209 \nL 2766 2209 \nL 2766 2266 \nQ 2766 2663 2505 2880 \nQ 2244 3097 1772 3097 \nQ 1472 3097 1187 3025 \nQ 903 2953 641 2809 \nL 641 3341 \nQ 956 3463 1253 3523 \nQ 1550 3584 1831 3584 \nQ 2591 3584 2966 3190 \nQ 3341 2797 3341 1997 \nz\n\" transform=\"scale(0.015625)\"/>\n       <path id=\"DejaVuSans-69\" d=\"M 603 3500 \nL 1178 3500 \nL 1178 0 \nL 603 0 \nL 603 3500 \nz\nM 603 4863 \nL 1178 4863 \nL 1178 4134 \nL 603 4134 \nL 603 4863 \nz\n\" transform=\"scale(0.015625)\"/>\n       <path id=\"DejaVuSans-6e\" d=\"M 3513 2113 \nL 3513 0 \nL 2938 0 \nL 2938 2094 \nQ 2938 2591 2744 2837 \nQ 2550 3084 2163 3084 \nQ 1697 3084 1428 2787 \nQ 1159 2491 1159 1978 \nL 1159 0 \nL 581 0 \nL 581 3500 \nL 1159 3500 \nL 1159 2956 \nQ 1366 3272 1645 3428 \nQ 1925 3584 2291 3584 \nQ 2894 3584 3203 3211 \nQ 3513 2838 3513 2113 \nz\n\" transform=\"scale(0.015625)\"/>\n       <path id=\"DejaVuSans-5f\" d=\"M 3263 -1063 \nL 3263 -1509 \nL -63 -1509 \nL -63 -1063 \nL 3263 -1063 \nz\n\" transform=\"scale(0.015625)\"/>\n       <path id=\"DejaVuSans-6c\" d=\"M 603 4863 \nL 1178 4863 \nL 1178 0 \nL 603 0 \nL 603 4863 \nz\n\" transform=\"scale(0.015625)\"/>\n       <path id=\"DejaVuSans-73\" d=\"M 2834 3397 \nL 2834 2853 \nQ 2591 2978 2328 3040 \nQ 2066 3103 1784 3103 \nQ 1356 3103 1142 2972 \nQ 928 2841 928 2578 \nQ 928 2378 1081 2264 \nQ 1234 2150 1697 2047 \nL 1894 2003 \nQ 2506 1872 2764 1633 \nQ 3022 1394 3022 966 \nQ 3022 478 2636 193 \nQ 2250 -91 1575 -91 \nQ 1294 -91 989 -36 \nQ 684 19 347 128 \nL 347 722 \nQ 666 556 975 473 \nQ 1284 391 1588 391 \nQ 1994 391 2212 530 \nQ 2431 669 2431 922 \nQ 2431 1156 2273 1281 \nQ 2116 1406 1581 1522 \nL 1381 1569 \nQ 847 1681 609 1914 \nQ 372 2147 372 2553 \nQ 372 3047 722 3315 \nQ 1072 3584 1716 3584 \nQ 2034 3584 2315 3537 \nQ 2597 3491 2834 3397 \nz\n\" transform=\"scale(0.015625)\"/>\n      </defs>\n      <use xlink:href=\"#DejaVuSans-74\"/>\n      <use xlink:href=\"#DejaVuSans-72\" x=\"39.208984\"/>\n      <use xlink:href=\"#DejaVuSans-61\" x=\"80.322266\"/>\n      <use xlink:href=\"#DejaVuSans-69\" x=\"141.601562\"/>\n      <use xlink:href=\"#DejaVuSans-6e\" x=\"169.384766\"/>\n      <use xlink:href=\"#DejaVuSans-5f\" x=\"232.763672\"/>\n      <use xlink:href=\"#DejaVuSans-6c\" x=\"282.763672\"/>\n      <use xlink:href=\"#DejaVuSans-6f\" x=\"310.546875\"/>\n      <use xlink:href=\"#DejaVuSans-73\" x=\"371.728516\"/>\n      <use xlink:href=\"#DejaVuSans-73\" x=\"423.828125\"/>\n     </g>\n    </g>\n    <g id=\"line2d_128\">\n     <path d=\"M 89.957813 75.620313 \nL 99.957813 75.620313 \nL 109.957813 75.620313 \n\" style=\"fill: none; stroke-dasharray: 5.55,2.4; stroke-dashoffset: 0; stroke: #ff7f0e; stroke-width: 1.5\"/>\n    </g>\n    <g id=\"text_13\">\n     <!-- val_loss -->\n     <g transform=\"translate(117.957813 79.120313) scale(0.1 -0.1)\">\n      <defs>\n       <path id=\"DejaVuSans-76\" d=\"M 191 3500 \nL 800 3500 \nL 1894 563 \nL 2988 3500 \nL 3597 3500 \nL 2284 0 \nL 1503 0 \nL 191 3500 \nz\n\" transform=\"scale(0.015625)\"/>\n      </defs>\n      <use xlink:href=\"#DejaVuSans-76\"/>\n      <use xlink:href=\"#DejaVuSans-61\" x=\"59.179688\"/>\n      <use xlink:href=\"#DejaVuSans-6c\" x=\"120.458984\"/>\n      <use xlink:href=\"#DejaVuSans-5f\" x=\"148.242188\"/>\n      <use xlink:href=\"#DejaVuSans-6c\" x=\"198.242188\"/>\n      <use xlink:href=\"#DejaVuSans-6f\" x=\"226.025391\"/>\n      <use xlink:href=\"#DejaVuSans-73\" x=\"287.207031\"/>\n      <use xlink:href=\"#DejaVuSans-73\" x=\"339.306641\"/>\n     </g>\n    </g>\n    <g id=\"line2d_129\">\n     <path d=\"M 89.957813 90.576563 \nL 99.957813 90.576563 \nL 109.957813 90.576563 \n\" style=\"fill: none; stroke-dasharray: 9.6,2.4,1.5,2.4; stroke-dashoffset: 0; stroke: #2ca02c; stroke-width: 1.5\"/>\n    </g>\n    <g id=\"text_14\">\n     <!-- val_acc -->\n     <g transform=\"translate(117.957813 94.076563) scale(0.1 -0.1)\">\n      <use xlink:href=\"#DejaVuSans-76\"/>\n      <use xlink:href=\"#DejaVuSans-61\" x=\"59.179688\"/>\n      <use xlink:href=\"#DejaVuSans-6c\" x=\"120.458984\"/>\n      <use xlink:href=\"#DejaVuSans-5f\" x=\"148.242188\"/>\n      <use xlink:href=\"#DejaVuSans-61\" x=\"198.242188\"/>\n      <use xlink:href=\"#DejaVuSans-63\" x=\"259.521484\"/>\n      <use xlink:href=\"#DejaVuSans-63\" x=\"314.501953\"/>\n     </g>\n    </g>\n   </g>\n  </g>\n </g>\n <defs>\n  <clipPath id=\"pc847f9d4db\">\n   <rect x=\"30.103125\" y=\"7.2\" width=\"195.3\" height=\"138.6\"/>\n  </clipPath>\n </defs>\n</svg>\n"
          },
          "metadata": {}
        }
      ],
      "source": [
        "model = RegNetX32(lr=0.05)\n",
        "trainer = d2l.Trainer(max_epochs=10, num_gpus=1)\n",
        "data = d2l.FashionMNIST(batch_size=128, resize=(96, 96))\n",
        "trainer.fit(model, data)"
      ]
    },
    {
      "cell_type": "markdown",
      "id": "YAD0IKHUcP8W",
      "metadata": {
        "id": "YAD0IKHUcP8W"
      },
      "source": [
        "## Exercises\n",
        "\n",
        "1. Increase the number of stages to four. Can you design a deeper RegNetX that performs better?\n",
        "1. De-ResNeXt-ify RegNets by replacing the ResNeXt block with the ResNet block. How does your new model perform?\n",
        "1. Implement multiple instances of a \"VioNet\" family by *violating* the design principles of RegNetX. How do they perform? Which of ($d_i$, $c_i$, $g_i$, $b_i$) is the most important factor?\n",
        "1. Your goal is to design the \"perfect\" MLP. Can you use the design principles introduced above to find good architectures? Is it possible to extrapolate from small to large networks?"
      ]
    },
    {
      "cell_type": "markdown",
      "id": "cItUbW-pfMDX",
      "metadata": {
        "id": "cItUbW-pfMDX"
      },
      "source": [
        "# Jawaban 8.1"
      ]
    },
    {
      "cell_type": "markdown",
      "id": "bbgHALNmfPfG",
      "metadata": {
        "id": "bbgHALNmfPfG"
      },
      "source": [
        "## 1"
      ]
    },
    {
      "cell_type": "markdown",
      "id": "vzyfPYuufYHt",
      "metadata": {
        "id": "vzyfPYuufYHt"
      },
      "source": [
        "### 1.1"
      ]
    },
    {
      "cell_type": "code",
      "execution_count": 62,
      "id": "RRgOno66rZ79",
      "metadata": {
        "id": "RRgOno66rZ79"
      },
      "outputs": [],
      "source": [
        "class Alexnet(d2l.Classifier):\n",
        "    def __init__(self,lr=0.1, num_classes=10):\n",
        "        super().__init__()\n",
        "        self.save_hyperparameters()\n",
        "        self.net = nn.Sequential(nn.LazyConv2d(96, kernel_size=11, stride=4, padding=1),\n",
        "                                 nn.ReLU(), nn.MaxPool2d(kernel_size=3, stride=2),\n",
        "                                 nn.LazyConv2d(256, kernel_size=5, padding=2),\n",
        "                                 nn.ReLU(), nn.MaxPool2d(kernel_size=3, stride=2),\n",
        "                                 nn.LazyConv2d(384, kernel_size=3, padding=1),nn.ReLU(),\n",
        "                                 nn.LazyConv2d(384, kernel_size=3, padding=1),nn.ReLU(),\n",
        "                                 nn.LazyConv2d(256, kernel_size=3, padding=1),nn.ReLU(),\n",
        "                                 nn.MaxPool2d(kernel_size=3, stride=2), nn.Flatten(),\n",
        "                                 nn.LazyLinear(4096), nn.ReLU(), nn.Dropout(0.5),\n",
        "                                 nn.LazyLinear(4096), nn.ReLU(), nn.Dropout(0.5),\n",
        "                                 nn.LazyLinear(num_classes)\n",
        "                                 )"
      ]
    },
    {
      "cell_type": "code",
      "execution_count": 63,
      "id": "7uatlXmtfU1d",
      "metadata": {
        "colab": {
          "base_uri": "https://localhost:8080/"
        },
        "id": "7uatlXmtfU1d",
        "outputId": "3d275784-e70c-4a5f-d5b4-46002e79bb71"
      },
      "outputs": [
        {
          "output_type": "execute_result",
          "data": {
            "text/plain": [
              "{'conv': 3747200, 'lr': 43040778}"
            ]
          },
          "metadata": {},
          "execution_count": 63
        }
      ],
      "source": [
        "model = Alexnet()\n",
        "X = torch.randn(1,3, 224, 224)\n",
        "_ = model(X)\n",
        "params = {'conv':0, 'lr':0}\n",
        "for idx, module in enumerate(model.net):\n",
        "    if type(module) not in (nn.Linear,nn.Conv2d):\n",
        "        continue\n",
        "    num = sum(p.numel() for p in module.parameters())\n",
        "    # print(f\"Module {idx + 1}: {num} parameters type:{type(module)}\")\n",
        "    if type(module) == nn.Conv2d:\n",
        "        params['conv'] += num\n",
        "\n",
        "    else:\n",
        "        params['lr'] += num\n",
        "\n",
        "params"
      ]
    },
    {
      "cell_type": "markdown",
      "id": "NdRnQdXGfZ_e",
      "metadata": {
        "id": "NdRnQdXGfZ_e"
      },
      "source": [
        "### 1.2"
      ]
    },
    {
      "cell_type": "code",
      "execution_count": 64,
      "id": "AwHadLCKfTR9",
      "metadata": {
        "colab": {
          "base_uri": "https://localhost:8080/"
        },
        "id": "AwHadLCKfTR9",
        "outputId": "07236f29-457a-4dd9-c28f-702e2cb01c30"
      },
      "outputs": [
        {
          "output_type": "execute_result",
          "data": {
            "text/plain": [
              "{'conv': 962858112, 'lr': 43040778}"
            ]
          },
          "metadata": {},
          "execution_count": 64
        }
      ],
      "source": [
        "x = torch.randn(1,3, 224, 224)\n",
        "params = {'conv':0, 'lr':0}\n",
        "for idx, module in enumerate(model.net):\n",
        "    c_i = x.shape[1]\n",
        "    x = module(x)\n",
        "    if type(module) == nn.Conv2d:\n",
        "        k = [p.shape for p in module.parameters()]\n",
        "        c_o,h_o,w_o = x.shape[1], x.shape[2], x.shape[3]\n",
        "        params['conv'] += c_i*c_o*h_o*w_o*k[0][-1]*k[0][-2]\n",
        "    if type(module) == nn.Linear:\n",
        "        params['lr'] += sum(p.numel() for p in module.parameters())\n",
        "params"
      ]
    },
    {
      "cell_type": "markdown",
      "id": "Qpw6PzYzfcX6",
      "metadata": {
        "id": "Qpw6PzYzfcX6"
      },
      "source": [
        "### 1.3"
      ]
    },
    {
      "cell_type": "markdown",
      "id": "C83Dzwq1fp34",
      "metadata": {
        "id": "C83Dzwq1fp34"
      },
      "source": [
        "Karakteristik memori, termasuk bandwidth baca dan tulis, latensi, dan ukuran, memiliki dampak signifikan pada komputasi baik dalam pelatihan maupun inferensi jaringan neural. Faktor-faktor ini memengaruhi kinerja, efisiensi, dan kecepatan komputasi secara keseluruhan. Berikut ringkasan bagaimana aspek-aspek memori tersebut memengaruhi komputasi dan perbedaan potensial antara pelatihan dan inferensi:\n",
        "\n",
        "**Bandwidth Baca dan Tulis**:\n",
        "- **Efek**: Bandwidth tinggi mempercepat perpindahan data antara memori dan unit pemrosesan, memungkinkan pengambilan dan penyimpanan data lebih efisien.\n",
        "- **Dampak**: Akses data lebih cepat meningkatkan throughput komputasi, mengurangi waktu tunggu data, sehingga mempercepat pelatihan dan inferensi.\n",
        "- **Pelatihan vs Inferensi**: Keduanya diuntungkan dari bandwidth tinggi karena perpindahan data sering menjadi hambatan.\n",
        "\n",
        "**Latensi**:\n",
        "- **Efek**: Latensi adalah waktu yang dibutuhkan untuk mengakses data dari memori. Latensi rendah mempercepat akses data dan komputasi.\n",
        "- **Dampak**: Akses memori dengan latensi rendah mengurangi waktu tunggu data, meningkatkan kecepatan pemrosesan.\n",
        "- **Pelatihan vs Inferensi**: Latensi memengaruhi keduanya. Dalam pelatihan, pembaruan bobot dan komputasi gradien memerlukan akses data dengan latensi rendah, sedangkan inferensi memerlukan respon cepat untuk aplikasi waktu nyata.\n",
        "\n",
        "**Ukuran Memori**:\n",
        "- **Efek**: Ukuran memori menentukan berapa banyak data yang bisa disimpan. Memori yang lebih besar memungkinkan lebih banyak data di-cache, mengurangi perpindahan data yang sering.\n",
        "- **Dampak**: Memori yang cukup memungkinkan caching data yang efisien, menghindari kemacetan memori.\n",
        "- **Pelatihan vs Inferensi**: Keduanya memerlukan memori yang cukup untuk menyimpan hasil antara. Dalam pelatihan, memori besar diperlukan untuk gradien, aktivasi, dan parameter model, sedangkan dalam inferensi, diperlukan untuk menyimpan hasil sementara selama proses feedforward.\n",
        "\n",
        "**Perbedaan Pelatihan dan Inferensi**:\n",
        "- Dalam pelatihan, bandwidth memori sangat penting karena seringnya pembaruan bobot dan gradien selama backpropagation. Proses batch memperbesar kebutuhan bandwidth.\n",
        "- Dalam inferensi, latensi rendah dan bandwidth tinggi penting untuk aplikasi waktu nyata, dengan fokus lebih pada latensi dan waktu respons.\n",
        "\n",
        "**Hierarki Memori**:\n",
        "- Arsitektur modern memiliki tingkatan memori dengan karakteristik yang berbeda (misalnya cache, memori GPU, memori utama). Mengoptimalkan penempatan dan perpindahan data di berbagai tingkatan ini sangat penting untuk kinerja.\n",
        "\n",
        "Secara keseluruhan, karakteristik memori seperti bandwidth tinggi, latensi rendah, ukuran memori yang cukup, dan hierarki memori yang efisien sangat penting untuk kinerja optimal dalam pelatihan dan inferensi jaringan neural."
      ]
    },
    {
      "cell_type": "markdown",
      "id": "UXf9KFl2fzjY",
      "metadata": {
        "id": "UXf9KFl2fzjY"
      },
      "source": [
        "## 2"
      ]
    },
    {
      "cell_type": "markdown",
      "id": "Lf11Y0sZf9NF",
      "metadata": {
        "id": "Lf11Y0sZf9NF"
      },
      "source": [
        "Mengoptimalkan keseimbangan antara komputasi dan bandwidth memori dalam desain chip adalah tugas yang kompleks. Berikut langkah-langkah untuk mengoptimalkan trade-off ini:\n",
        "\n",
        "1. **Tentukan Tujuan Kinerja**: Pahami kebutuhan aplikasi (misalnya, inferensi waktu nyata, pelatihan batch, efisiensi energi) dan tetapkan target kinerja terkait kecepatan komputasi, akses memori, dan efisiensi sistem.\n",
        "2. **Profil Beban Kerja**: Analisis beban kerja aplikasi, termasuk pola akses memori, ukuran data, dan frekuensi komunikasi antara komputasi dan memori.\n",
        "3. **Eksplorasi Arsitektur**: Eksplorasi opsi arsitektur untuk menentukan keseimbangan optimal antara unit komputasi dan subsistem memori (misalnya, ukuran cache, hierarki memori).\n",
        "4. **Desain Hierarki Memori**: Rancang hierarki memori untuk akses data yang efisien dan minimalkan hambatan memori, dengan mempertimbangkan jenis memori (SRAM, DRAM) dan arsitektur interkoneksi.\n",
        "5. **Efisiensi Daya**: Optimalkan konsumsi daya melalui teknik seperti DVFS, clock gating, dan kebijakan akses memori yang efisien energi.\n",
        "6. **Area Chip dan Integrasi**: Seimbangkan area chip antara komputasi dan memori berdasarkan kebutuhan kinerja dan biaya.\n",
        "7. **Peningkatan Bandwidth Memori**: Tingkatkan bandwidth memori dengan bus lebar, antarmuka memori berkecepatan tinggi (misalnya, HBM, GDDR), dan desain pengontrol memori yang efisien.\n",
        "8. **Paralelisme dan Pipeline**: Terapkan paralelisme dan pipelining untuk mengurangi dampak latensi memori pada kinerja.\n",
        "9. **Simulasi dan Pemodelan**: Gunakan alat simulasi untuk mengevaluasi desain dan konfigurasi yang berbeda.\n",
        "10. **Loop Umpan Balik**: Refinement desain berdasarkan hasil simulasi dan benchmark.\n",
        "11. **Validasi dan Pengujian**: Uji dan validasi desain pada berbagai beban kerja.\n",
        "12. **Pertimbangan Dunia Nyata**: Pertimbangkan batasan manufaktur, biaya, dan waktu ke pasar.\n",
        "\n",
        "Optimasi ini memerlukan pertimbangan kinerja, daya, area, dan biaya, serta kolaborasi antara arsitek chip, desainer, dan ahli domain."
      ]
    },
    {
      "cell_type": "markdown",
      "id": "rLdV1Qusf9mq",
      "metadata": {
        "id": "rLdV1Qusf9mq"
      },
      "source": [
        "## 3"
      ]
    },
    {
      "cell_type": "markdown",
      "id": "1-zps1mcf_U8",
      "metadata": {
        "id": "1-zps1mcf_U8"
      },
      "source": [
        "**AlexNet Usang**: AlexNet, meskipun pionir, diperkenalkan pada 2012 dan tidak lagi mewakili model terdepan dalam hal efisiensi dan akurasi dibanding model terbaru.\n",
        "\n",
        "**Kemajuan Arsitektur**: Arsitektur lebih canggih seperti VGG, ResNet, Inception, dan model berbasis Transformer (BERT, GPT) sekarang lebih populer dan memberikan akurasi serta efisiensi yang lebih baik daripada AlexNet.\n",
        "\n",
        "**Model Khusus Domain**: Tergantung pada aplikasinya, insinyur lebih suka menggunakan model yang disesuaikan, seperti EfficientNet untuk klasifikasi gambar atau Faster R-CNN untuk deteksi objek.\n",
        "\n",
        "**Benchmark yang Beragam**: Peneliti kini menguji model di berbagai dataset dan tugas untuk mengevaluasi performa di skenario yang berbeda, bukan hanya satu benchmark.\n",
        "\n",
        "**Aplikasi Dunia Nyata**: Fokus saat ini lebih pada benchmarking model di aplikasi dunia nyata seperti analisis gambar medis, kendaraan otonom, dan pemahaman bahasa alami, menjauh dari AlexNet.\n",
        "\n",
        "**Perkembangan Perangkat Keras & Lunak**: Benchmark dipengaruhi oleh perangkat keras dan perangkat lunak terbaru, sehingga insinyur lebih sering membandingkan model baru yang dioptimalkan untuk teknologi terkini.\n",
        "\n",
        "**Arah Riset**: Riset deep learning kini mengeksplorasi aspek seperti interpretabilitas, ketahanan, dan keadilan model, yang lebih diprioritaskan dibanding penggunaan model lama seperti AlexNet untuk benchmark.\n",
        "\n",
        "Tren ini terus berkembang, dan untuk informasi terbaru, periksa prosiding konferensi, makalah riset, dan benchmark terkini."
      ]
    },
    {
      "cell_type": "markdown",
      "id": "NQ2pyFklf_py",
      "metadata": {
        "id": "NQ2pyFklf_py"
      },
      "source": [
        "## 4"
      ]
    },
    {
      "cell_type": "code",
      "execution_count": 65,
      "id": "0VHBjeI6rwXW",
      "metadata": {
        "id": "0VHBjeI6rwXW"
      },
      "outputs": [],
      "source": [
        "import warnings\n",
        "from torchsummary import summary\n",
        "warnings.filterwarnings(\"ignore\")"
      ]
    },
    {
      "cell_type": "code",
      "execution_count": null,
      "id": "LT2WjSrAkZZi",
      "metadata": {
        "id": "LT2WjSrAkZZi"
      },
      "outputs": [],
      "source": [
        "model = Alexnet(lr=0.01)\n",
        "data = d2l.FashionMNIST(batch_size=128, resize=(224, 224))\n",
        "trainer = d2l.Trainer(max_epochs=20)\n",
        "trainer.fit(model, data)"
      ]
    },
    {
      "cell_type": "markdown",
      "id": "f9C-mwDTkb5j",
      "metadata": {
        "id": "f9C-mwDTkb5j"
      },
      "source": [
        "## 5"
      ]
    },
    {
      "cell_type": "code",
      "execution_count": null,
      "id": "stE7U3X2kc5E",
      "metadata": {
        "id": "stE7U3X2kc5E"
      },
      "outputs": [],
      "source": [
        "class SmallAlexnet(d2l.Classifier):\n",
        "    def __init__(self,lr=0.1, num_classes=10):\n",
        "        super().__init__()\n",
        "        self.save_hyperparameters()\n",
        "        self.net = nn.Sequential(\n",
        "            nn.LazyConv2d(256, kernel_size=3, padding=1),nn.ReLU(),\n",
        "            nn.LazyConv2d(256, kernel_size=3, padding=1),nn.ReLU(),\n",
        "            nn.LazyConv2d(256, kernel_size=3, padding=1),nn.ReLU(),\n",
        "            nn.MaxPool2d(kernel_size=3, stride=2),\n",
        "            nn.LazyConv2d(512, kernel_size=3, padding=1),nn.ReLU(),\n",
        "            nn.LazyConv2d(512, kernel_size=3, padding=1),nn.ReLU(),\n",
        "            nn.LazyConv2d(256, kernel_size=3, padding=1),nn.ReLU(),\n",
        "            nn.MaxPool2d(kernel_size=3, stride=2), nn.Flatten(),\n",
        "            nn.LazyLinear(1024), nn.ReLU(),\n",
        "            nn.LazyLinear(num_classes)\n",
        "            )"
      ]
    },
    {
      "cell_type": "markdown",
      "id": "nDImkX8CkgcE",
      "metadata": {
        "id": "nDImkX8CkgcE"
      },
      "source": [
        "## 6"
      ]
    },
    {
      "cell_type": "markdown",
      "id": "Ea57lGW4kiC7",
      "metadata": {
        "id": "Ea57lGW4kiC7"
      },
      "source": [
        "## 7"
      ]
    },
    {
      "cell_type": "code",
      "execution_count": null,
      "id": "y3eRjtPGkjKm",
      "metadata": {
        "id": "y3eRjtPGkjKm"
      },
      "outputs": [],
      "source": [
        "class LeNet(d2l.Classifier):\n",
        "    def __init__(self, lr=0.1, num_classes=10):\n",
        "        super().__init__()\n",
        "        self.save_hyperparameters()\n",
        "        self.net = nn.Sequential(nn.LazyConv2d(6, kernel_size=5, padding=2),\n",
        "                                 nn.ReLU(),\n",
        "                                 nn.MaxPool2d(kernel_size=2, stride=2),\n",
        "                                 nn.LazyConv2d(16, kernel_size=5),\n",
        "                                 nn.ReLU(),\n",
        "                                 nn.MaxPool2d(kernel_size=2, stride=2),\n",
        "                                 nn.Flatten(),\n",
        "                                 nn.LazyLinear(120),\n",
        "                                 nn.ReLU(), nn.Dropout(0.5),\n",
        "                                 nn.LazyLinear(84),\n",
        "                                 nn.ReLU(), nn.Dropout(0.5),\n",
        "                                 nn.LazyLinear(num_classes))\n",
        "model = LeNet(lr=0.01)\n",
        "data = d2l.FashionMNIST(batch_size=128, resize=(28, 28))\n",
        "trainer = d2l.Trainer(max_epochs=10, num_gpus=1)\n",
        "trainer.fit(model, data)\n",
        "X,y = next(iter(data.get_dataloader(False)))\n",
        "X = X.to('cuda')\n",
        "y = y.to('cuda')\n",
        "y_hat = model(X)\n",
        "print(f'acc: {model.accuracy(y_hat,y).item():.2f}')"
      ]
    },
    {
      "cell_type": "markdown",
      "id": "_7EkH_8Jklm1",
      "metadata": {
        "id": "_7EkH_8Jklm1"
      },
      "source": [
        "## 8"
      ]
    },
    {
      "cell_type": "markdown",
      "id": "_JG6-imjkns_",
      "metadata": {
        "id": "_JG6-imjkns_"
      },
      "source": [
        "Ya, AlexNet dapat sengaja dibuat overfitting dengan memanipulasi beberapa aspek dari proses pelatihan. Overfitting terjadi ketika model sangat bagus pada data pelatihan tetapi gagal menggeneralisasi ke data yang belum pernah dilihat. Berikut beberapa cara untuk membuat AlexNet overfitting:\n",
        "\n",
        "1. **Data Pelatihan Terbatas**: Kurangi jumlah data pelatihan secara signifikan. Dengan sedikit data, model akan cenderung menghafal data tersebut.\n",
        "2. **Model Kompleks**: Tambahkan lebih banyak lapisan, unit, atau filter sehingga model memiliki parameter yang terlalu banyak untuk data kecil.\n",
        "3. **Kurangi Regularisasi**: Hilangkan teknik regularisasi seperti dropout, weight decay, dan augmentasi data yang membantu mencegah overfitting.\n",
        "4. **Tingkat Pembelajaran Rendah**: Gunakan learning rate yang sangat kecil, sehingga model belajar terlalu lambat dan tidak bisa menggeneralisasi dengan baik.\n",
        "5. **Sedikit Epoch**: Latih model dalam jumlah epoch yang terbatas, sehingga model belum cukup waktu untuk mempelajari pola yang bermakna.\n",
        "6. **Label Bersih**: Gunakan label yang bersih tanpa kesalahan, karena label real-world sering mengandung kesalahan yang membantu mencegah overfitting.\n",
        "7. **Tanpa Augmentasi**: Hindari teknik augmentasi data, yang biasanya membantu meningkatkan generalisasi model.\n",
        "8. **Optimizers Kompleks**: Gunakan optimizer seperti Adam dengan pengaturan default yang bisa menyebabkan overfitting lebih cepat.\n",
        "\n",
        "Kombinasi perubahan ini akan membuat AlexNet overfitting pada data pelatihan. Namun, dalam praktiknya, overfitting dihindari dengan regularisasi, augmentasi data, dan penyesuaian hyperparameter agar model dapat menggeneralisasi dengan baik."
      ]
    },
    {
      "cell_type": "markdown",
      "id": "wLpnOUPElFGW",
      "metadata": {
        "id": "wLpnOUPElFGW"
      },
      "source": [
        "# Jawaban 8.2"
      ]
    },
    {
      "cell_type": "markdown",
      "id": "I_26tilBlglB",
      "metadata": {
        "id": "I_26tilBlglB"
      },
      "source": [
        "## 1"
      ]
    },
    {
      "cell_type": "code",
      "execution_count": null,
      "id": "CAGc9KGmuukN",
      "metadata": {
        "id": "CAGc9KGmuukN"
      },
      "outputs": [],
      "source": [
        "def stat_params(net, params):\n",
        "    for idx, module in enumerate(net):\n",
        "        if type(module) not in (nn.Linear,nn.Conv2d):\n",
        "            continue\n",
        "        num = sum(p.numel() for p in module.parameters())\n",
        "        if type(module) == nn.Conv2d:\n",
        "            params['conv'] += num\n",
        "        else:\n",
        "            params['lr'] += num\n",
        "\n",
        "def stat_comp(net, params, x):\n",
        "    for idx, module in enumerate(net):\n",
        "        c_i = x.shape[1]\n",
        "        x = module(x)\n",
        "        if type(module) == nn.Conv2d:\n",
        "            k = [p.shape for p in module.parameters()]\n",
        "            c_o,h_o,w_o = x.shape[1], x.shape[2], x.shape[3]\n",
        "            params['conv'] += c_i*c_o*h_o*w_o*k[0][-1]*k[0][-2]\n",
        "        if type(module) == nn.Linear:\n",
        "            params['lr'] += sum(p.numel() for p in module.parameters())\n",
        "    return x\n",
        "\n",
        "\n",
        "def vgg_block(num_convs, out_channels):\n",
        "    layers = []\n",
        "    for _ in range(num_convs):\n",
        "        layers.append(nn.LazyConv2d(out_channels, kernel_size=3, padding=1))\n",
        "        layers.append(nn.ReLU())\n",
        "    layers.append(nn.MaxPool2d(kernel_size=2, stride=2))\n",
        "    return nn.Sequential(*layers)\n",
        "\n",
        "class VGG(d2l.Classifier):\n",
        "    def __init__(self, arch, lr=0.1, num_classes=10):\n",
        "        super().__init__()\n",
        "        self.save_hyperparameters()\n",
        "        conv_blks = []\n",
        "        for (num_convs, out_channels) in arch:\n",
        "            conv_blks.append(vgg_block(num_convs, out_channels))\n",
        "        self.net = nn.Sequential(*conv_blks, nn.Flatten(),\n",
        "                                 nn.LazyLinear(4096), nn.ReLU(), nn.Dropout(0.5),\n",
        "                                 nn.LazyLinear(4096), nn.ReLU(), nn.Dropout(0.5),\n",
        "                                 nn.LazyLinear(num_classes))\n",
        "        self.net.apply(d2l.init_cnn)"
      ]
    },
    {
      "cell_type": "markdown",
      "id": "lU2bQffEliFS",
      "metadata": {
        "id": "lU2bQffEliFS"
      },
      "source": [
        "### 1.1"
      ]
    },
    {
      "cell_type": "code",
      "execution_count": null,
      "id": "MndQvHM0lkz3",
      "metadata": {
        "id": "MndQvHM0lkz3"
      },
      "outputs": [],
      "source": [
        "arch=((1, 64), (1, 128), (2, 256), (2, 512), (2, 512))\n",
        "vgg = VGG(arch=arch)\n",
        "\n",
        "# Move the model to the CUDA device if available\n",
        "if torch.cuda.is_available():\n",
        "    vgg.cuda()\n",
        "\n",
        "X = torch.randn(1,3, 224, 224)\n",
        "\n",
        "# Move the input tensor to the same device as the model\n",
        "if torch.cuda.is_available():\n",
        "    X = X.cuda()\n",
        "\n",
        "_ = vgg(X)\n",
        "params = {'conv':0, 'lr':0}\n",
        "for idx, module in enumerate(vgg.net):\n",
        "    if type(module) == nn.Sequential:\n",
        "        stat_params(module,params)\n",
        "    if type(module) == nn.Linear:\n",
        "        num = sum(p.numel() for p in module.parameters())\n",
        "        params['lr'] += num\n",
        "summary(vgg, (3, 224, 224))\n",
        "params"
      ]
    },
    {
      "cell_type": "markdown",
      "id": "Gzr1yEsglnzO",
      "metadata": {
        "id": "Gzr1yEsglnzO"
      },
      "source": [
        "### 1.2"
      ]
    },
    {
      "cell_type": "code",
      "execution_count": null,
      "id": "Q8D8vRQklpD1",
      "metadata": {
        "id": "Q8D8vRQklpD1"
      },
      "outputs": [],
      "source": [
        "x = torch.randn(1,3, 224, 224)\n",
        "params = {'conv':0, 'lr':0}\n",
        "for idx, module in enumerate(vgg.net):\n",
        "    if type(module) == nn.Sequential:\n",
        "        x = stat_comp(module, params, x)\n",
        "    if type(module) == nn.Linear:\n",
        "        params['lr'] += sum(p.numel() for p in module.parameters())\n",
        "params"
      ]
    },
    {
      "cell_type": "code",
      "execution_count": null,
      "id": "qYHuopBhlso3",
      "metadata": {
        "id": "qYHuopBhlso3"
      },
      "outputs": [],
      "source": [
        "X = torch.randn(1,3, 224, 224)\n",
        "_ = vgg(X)\n",
        "total_params = sum(p.numel() for p in vgg.parameters())\n",
        "print(\"Total parameters:\", total_params)"
      ]
    },
    {
      "cell_type": "markdown",
      "id": "yejwG-NulqKA",
      "metadata": {
        "id": "yejwG-NulqKA"
      },
      "source": [
        "### 1.3"
      ]
    },
    {
      "cell_type": "markdown",
      "id": "P8xq6Utel19s",
      "metadata": {
        "id": "P8xq6Utel19s"
      },
      "source": [
        "Mengurangi biaya komputasi pada lapisan fully connected dapat meningkatkan efisiensi jaringan neural tanpa mengorbankan kinerja. Berikut beberapa strategi untuk mencapainya:\n",
        "\n",
        "1. **Global Average Pooling (GAP)**: Gantikan fully connected dengan GAP untuk mengurangi jumlah parameter dan komputasi sambil mempertahankan informasi penting.\n",
        "2. **Ganti dengan Lapisan Konvolusi**: Ubah fully connected menjadi lapisan konvolusi 1x1, memungkinkan berbagi bobot dan mengurangi jumlah parameter.\n",
        "3. **Network Pruning**: Identifikasi dan hilangkan koneksi, neuron, atau filter yang tidak diperlukan untuk mengurangi komputasi tanpa mengurangi akurasi.\n",
        "4. **Low-Rank Approximations**: Gunakan matriks low-rank dengan teknik seperti SVD untuk mengurangi parameter dan mempercepat komputasi.\n",
        "5. **Dimensionality Reduction**: Terapkan teknik reduksi dimensi seperti PCA untuk mengurangi input ke lapisan fully connected.\n",
        "6. **Depthwise Separable Convolutions**: Gantikan fully connected dengan depthwise separable convolutions untuk mengurangi komputasi.\n",
        "7. **Quantization**: Kurangi presisi fully connected ke 8-bit untuk menghemat memori dan komputasi.\n",
        "8. **Knowledge Distillation**: Latih jaringan kecil (student) untuk meniru kinerja jaringan besar (teacher) guna mengurangi biaya komputasi.\n",
        "9. **Model Compression**: Gunakan teknik kompresi model seperti Huffman coding dan weight sharing.\n",
        "10. **Arsitektur Hibrida**: Gabungkan lapisan konvolusi dan fully connected di area penting saja.\n",
        "\n",
        "Efektivitas strategi ini bervariasi tergantung arsitektur, dataset, dan tugas, sehingga perlu eksperimentasi dan tuning."
      ]
    },
    {
      "cell_type": "markdown",
      "id": "XTxYURDZl7gS",
      "metadata": {
        "id": "XTxYURDZl7gS"
      },
      "source": [
        "## 2"
      ]
    },
    {
      "cell_type": "markdown",
      "id": "alTeW5tImPYW",
      "metadata": {
        "id": "alTeW5tImPYW"
      },
      "source": [
        "Blok konvolusi dianggap sebagai satu lapisan dalam jaringan, dan tiga blok konvolusi terakhir di VGG masing-masing mengandung dua lapisan konvolusi, yang merupakan tiga lapisan tersisa."
      ]
    },
    {
      "cell_type": "code",
      "execution_count": null,
      "id": "m0W7puh2mVjk",
      "metadata": {
        "id": "m0W7puh2mVjk"
      },
      "outputs": [],
      "source": [
        "vgg"
      ]
    },
    {
      "cell_type": "markdown",
      "id": "6c6JVyg4mQzz",
      "metadata": {
        "id": "6c6JVyg4mQzz"
      },
      "source": [
        "## 3"
      ]
    },
    {
      "cell_type": "code",
      "execution_count": null,
      "id": "qTWHvUEWmS4Z",
      "metadata": {
        "id": "qTWHvUEWmS4Z"
      },
      "outputs": [],
      "source": [
        "arch16=((2, 64), (2, 128), (3, 256), (3, 512), (3, 512))\n",
        "vgg16 = VGG(arch=arch16)\n",
        "vgg16"
      ]
    },
    {
      "cell_type": "code",
      "execution_count": null,
      "id": "saiACgjNmZSK",
      "metadata": {
        "id": "saiACgjNmZSK"
      },
      "outputs": [],
      "source": [
        "arch19=((2, 64), (2, 128), (4, 256), (4, 512), (4, 512))\n",
        "vgg19 = VGG(arch=arch19)\n",
        "vgg19"
      ]
    },
    {
      "cell_type": "markdown",
      "id": "X6qXRE5Kma9_",
      "metadata": {
        "id": "X6qXRE5Kma9_"
      },
      "source": [
        "## 4"
      ]
    },
    {
      "cell_type": "code",
      "execution_count": null,
      "id": "fNAJrx8qmdCD",
      "metadata": {
        "id": "fNAJrx8qmdCD"
      },
      "outputs": [],
      "source": [
        "model = VGG(arch=((3, 128), (3, 256)), lr=0.01)\n",
        "trainer = d2l.Trainer(max_epochs=10, num_gpus=1)\n",
        "data = d2l.FashionMNIST(batch_size=128, resize=(28, 28))\n",
        "trainer.fit(model, data)"
      ]
    },
    {
      "cell_type": "markdown",
      "id": "erTuVT6_ml1N",
      "metadata": {
        "id": "erTuVT6_ml1N"
      },
      "source": [
        "# Jawban 8.3"
      ]
    },
    {
      "cell_type": "code",
      "execution_count": null,
      "id": "fQ__z_SjvCAs",
      "metadata": {
        "id": "fQ__z_SjvCAs"
      },
      "outputs": [],
      "source": [
        "def nin_block(out_channels, kernel_size, strides, padding, conv1s=[[1,0],[1,0]]):\n",
        "    layers = [nn.LazyConv2d(out_channels, kernel_size=kernel_size, stride=strides, padding=padding),nn.ReLU()]\n",
        "    for conv1_size,conv1_padding in conv1s:\n",
        "        layers.append(nn.LazyConv2d(out_channels, kernel_size=conv1_size,padding=conv1_padding))\n",
        "        layers.append(nn.ReLU())\n",
        "    return nn.Sequential(*layers)\n",
        "\n",
        "class Nin(d2l.Classifier):\n",
        "    def __init__(self, arch, lr=0.1):\n",
        "        super().__init__()\n",
        "        self.save_hyperparameters()\n",
        "        layers = []\n",
        "        for i in range(len(arch)-1):\n",
        "            # Pass the first four elements of the tuple as arguments\n",
        "            layers.append(nin_block(*arch[i][:4], conv1s=[[1,0],[1,0]])) # The fifth element was being passed as conv1s\n",
        "            layers.append(nn.MaxPool2d(3, stride=2))\n",
        "        layers.append(nn.Dropout(0.5))\n",
        "        # Pass the first four elements of the tuple as arguments\n",
        "        layers.append(nin_block(*arch[-1][:4], conv1s=[[1,0],[1,0]])) # The fifth element was being passed as conv1s\n",
        "        layers.append(nn.AdaptiveAvgPool2d((1, 1)))\n",
        "        layers.append(nn.Flatten())\n",
        "        self.net = nn.Sequential(*layers)\n",
        "        self.net.apply(d2l.init_cnn)"
      ]
    },
    {
      "cell_type": "markdown",
      "id": "KPzmUy3lmqTG",
      "metadata": {
        "id": "KPzmUy3lmqTG"
      },
      "source": [
        "## 1"
      ]
    },
    {
      "cell_type": "code",
      "execution_count": null,
      "id": "arXTqECXm0N_",
      "metadata": {
        "id": "arXTqECXm0N_"
      },
      "outputs": [],
      "source": [
        "arch = ((96,11,4,0,3),(256,5,1,2,3),(384,3,1,1,3),(10,3,1,1,3))\n",
        "model = Nin(arch)\n",
        "trainer = d2l.Trainer(max_epochs=10, num_gpus=1)\n",
        "trainer.fit(model, data)\n",
        "X,y = next(iter(data.get_dataloader(False)))\n",
        "X = X.to('cuda')\n",
        "y = y.to('cuda')\n",
        "y_hat = model(X)\n",
        "print(f'acc: {model.accuracy(y_hat,y).item():.2f}')"
      ]
    },
    {
      "cell_type": "code",
      "execution_count": null,
      "id": "iDBL9Oacm02S",
      "metadata": {
        "id": "iDBL9Oacm02S"
      },
      "outputs": [],
      "source": [
        "data = d2l.FashionMNIST(batch_size=128, resize=(224, 224))\n",
        "arch = ((96,11,4,0,[[1,0]]),(256,5,1,2,[[1,0]]),(384,3,1,1,[[1,0]]),(10,3,1,1,[[1,0]]))\n",
        "model = Nin(arch, lr=0.05)\n",
        "model.apply_init([next(iter(data.get_dataloader(True)))[0]], d2l.init_cnn)\n",
        "trainer = d2l.Trainer(max_epochs=10, num_gpus=1)\n",
        "trainer.fit(model, data)\n",
        "X,y = next(iter(data.get_dataloader(False)))\n",
        "X = X.to('cuda')\n",
        "y = y.to('cuda')\n",
        "y_hat = model(X)\n",
        "print(f'acc: {model.accuracy(y_hat,y).item():.2f}')"
      ]
    },
    {
      "cell_type": "markdown",
      "id": "rCBjufPGm2te",
      "metadata": {
        "id": "rCBjufPGm2te"
      },
      "source": [
        "## 2"
      ]
    },
    {
      "cell_type": "code",
      "execution_count": null,
      "id": "o2Cks1REm36i",
      "metadata": {
        "id": "o2Cks1REm36i"
      },
      "outputs": [],
      "source": [
        "arch = ((96,11,4,0,[[3,1],[3,1]]),(256,5,1,2,[[3,1],[3,1]]),(384,3,1,1,[[3,1],[3,1]]),(10,3,1,1,[[3,1],[3,1]]))\n",
        "model = Nin(arch)\n",
        "model.apply_init([next(iter(data.get_dataloader(True)))[0]], d2l.init_cnn)\n",
        "trainer = d2l.Trainer(max_epochs=10, num_gpus=1)\n",
        "trainer.fit(model, data)\n",
        "X,y = next(iter(data.get_dataloader(False)))\n",
        "X = X.to('cuda')\n",
        "y = y.to('cuda')\n",
        "y_hat = model(X)\n",
        "print(f'acc: {model.accuracy(y_hat,y).item():.2f}')"
      ]
    },
    {
      "cell_type": "markdown",
      "id": "DZXaoyJanOxC",
      "metadata": {
        "id": "DZXaoyJanOxC"
      },
      "source": [
        "## 3"
      ]
    },
    {
      "cell_type": "code",
      "execution_count": null,
      "id": "31jHXUtmnRQF",
      "metadata": {
        "id": "31jHXUtmnRQF"
      },
      "outputs": [],
      "source": [
        "class MLPNin(d2l.Classifier):\n",
        "    def __init__(self, arch, lr=0.1, num_classes=10):\n",
        "        super().__init__()\n",
        "        self.save_hyperparameters()\n",
        "        layers = []\n",
        "        for i in range(len(arch)-1):\n",
        "            layers.append(nin_block(*arch[i]))\n",
        "            layers.append(nn.MaxPool2d(3, stride=2))\n",
        "        layers.append(nn.Dropout(0.5))\n",
        "        layers.append(nin_block(*arch[-1]))\n",
        "        layers.append(nn.Flatten())\n",
        "        layers.append(nn.LazyLinear(num_classes))\n",
        "        self.net = nn.Sequential(*layers)\n",
        "        self.net.apply(d2l.init_cnn)"
      ]
    },
    {
      "cell_type": "markdown",
      "id": "NlzWW5-DnSEf",
      "metadata": {
        "id": "NlzWW5-DnSEf"
      },
      "source": [
        "## 4"
      ]
    },
    {
      "cell_type": "markdown",
      "id": "qR52-7JMnVP8",
      "metadata": {
        "id": "qR52-7JMnVP8"
      },
      "source": [
        "### 4.1"
      ]
    },
    {
      "cell_type": "code",
      "execution_count": null,
      "id": "xBxi2FWVnTS0",
      "metadata": {
        "id": "xBxi2FWVnTS0"
      },
      "outputs": [],
      "source": [
        "arch = ((96,11,4,0,2),(256,5,1,2,2),(384,3,1,1,2),(10,3,1,1,2))\n",
        "model = Nin(arch)\n",
        "X = torch.randn(1,3, 224, 224)\n",
        "_ = model(X)\n",
        "total_params = sum(p.numel() for p in model.parameters())\n",
        "print(\"Total parameters:\", total_params)"
      ]
    },
    {
      "cell_type": "markdown",
      "id": "nHhjD43PnXz_",
      "metadata": {
        "id": "nHhjD43PnXz_"
      },
      "source": [
        "### 4.2"
      ]
    },
    {
      "cell_type": "code",
      "execution_count": null,
      "id": "tz63x2I-nZUj",
      "metadata": {
        "id": "tz63x2I-nZUj"
      },
      "outputs": [],
      "source": [
        "from thop import profile\n",
        "flops, params = profile(model, inputs=(X,))\n",
        "print(\"Total FLOPs:\", flops)"
      ]
    },
    {
      "cell_type": "markdown",
      "id": "es7bJrcGnbvf",
      "metadata": {
        "id": "es7bJrcGnbvf"
      },
      "source": [
        "### 4.3"
      ]
    },
    {
      "cell_type": "code",
      "execution_count": null,
      "id": "eGV_Av5mndpb",
      "metadata": {
        "id": "eGV_Av5mndpb"
      },
      "outputs": [],
      "source": [
        "device = torch.device(\"cuda\" if torch.cuda.is_available() else \"cpu\")\n",
        "# Initialize memory counters\n",
        "torch.cuda.reset_peak_memory_stats()\n",
        "torch.cuda.empty_cache()\n",
        "trainer = d2l.Trainer(max_epochs=10, num_gpus=1)\n",
        "trainer.fit(model, data)\n",
        "memory_stats = torch.cuda.memory_stats(device=device)\n",
        "# Print peak memory usage and other memory statistics\n",
        "print(\"Peak memory usage:\", memory_stats[\"allocated_bytes.all.peak\"] / (1024 ** 2), \"MB\")\n",
        "print(\"Current memory usage:\", memory_stats[\"allocated_bytes.all.current\"] / (1024 ** 2), \"MB\")"
      ]
    },
    {
      "cell_type": "markdown",
      "id": "aKLHqLd9nfd8",
      "metadata": {
        "id": "aKLHqLd9nfd8"
      },
      "source": [
        "### 4.4"
      ]
    },
    {
      "cell_type": "code",
      "execution_count": null,
      "id": "ky04HbCkngyW",
      "metadata": {
        "id": "ky04HbCkngyW"
      },
      "outputs": [],
      "source": [
        "device = torch.device(\"cuda\" if torch.cuda.is_available() else \"cpu\")\n",
        "torch.cuda.reset_peak_memory_stats()\n",
        "torch.cuda.empty_cache()\n",
        "_ = model(X)\n",
        "memory_stats = torch.cuda.memory_stats(device=device)\n",
        "print(\"Peak memory usage:\", memory_stats[\"allocated_bytes.all.peak\"] / (1024 ** 2), \"MB\")\n",
        "print(\"Current memory usage:\", memory_stats[\"allocated_bytes.all.current\"] / (1024 ** 2), \"MB\")"
      ]
    },
    {
      "cell_type": "markdown",
      "id": "z92X2kcLnk9T",
      "metadata": {
        "id": "z92X2kcLnk9T"
      },
      "source": [
        "## 5"
      ]
    },
    {
      "cell_type": "markdown",
      "id": "bQPGcV1GnmO4",
      "metadata": {
        "id": "bQPGcV1GnmO4"
      },
      "source": [
        "Mengurangi representasi 384×5×5 menjadi 10×5×5 dalam satu langkah di arsitektur Network in Network (NiN) dapat menimbulkan beberapa masalah:\n",
        "\n",
        "1. **Kehilangan Informasi**: Pengurangan saluran secara drastis dapat menyebabkan hilangnya fitur dan pola penting yang dipelajari jaringan.\n",
        "2. **Underfitting**: Representasi 10 saluran mungkin tidak cukup untuk menangkap kompleksitas data asli, sehingga model bisa underfitting dan kinerjanya menurun.\n",
        "3. **Bottleneck Informasi**: Pengurangan yang tajam menciptakan bottleneck, membatasi kemampuan jaringan untuk mengolah input secara efektif.\n",
        "4. **Ekspresivitas Berkurang**: Pengurangan saluran yang terlalu cepat membatasi kemampuan model untuk belajar fitur hierarkis tingkat tinggi.\n",
        "5. **Fitur Spasial Hilang**: Representasi 10×5×5 mungkin gagal menangkap pola spasial penting, sehingga jaringan kurang mampu mengenali objek.\n",
        "6. **Kehilangan Daya Diskriminatif**: Dengan representasi lebih kecil, jaringan bisa kesulitan membedakan kelas yang berbeda, menurunkan akurasi.\n",
        "\n",
        "Untuk mengatasi masalah ini, biasanya dilakukan pengurangan saluran secara bertahap melalui lapisan-lapisan perantara, seperti yang diterapkan dalam arsitektur NiN dengan beberapa blok berturut-turut."
      ]
    },
    {
      "cell_type": "markdown",
      "id": "M1iqHxxpn1fa",
      "metadata": {
        "id": "M1iqHxxpn1fa"
      },
      "source": [
        "## 6"
      ]
    },
    {
      "cell_type": "code",
      "execution_count": null,
      "id": "a0Bq6JmBn3pl",
      "metadata": {
        "id": "a0Bq6JmBn3pl"
      },
      "outputs": [],
      "source": [
        "arch = ((96,11,4,0,2),(256,5,1,2,2),(384,3,1,1,2),(10,3,1,1,2))\n",
        "nin = Nin(arch)\n",
        "nin"
      ]
    },
    {
      "cell_type": "code",
      "execution_count": null,
      "id": "M0aT87Nbn5af",
      "metadata": {
        "id": "M0aT87Nbn5af"
      },
      "outputs": [],
      "source": [
        "arch15 = ((64,3,2,1),\n",
        "          (256,3,1,1),\n",
        "          (256,3,1,1),\n",
        "          (384,3,1,1),\n",
        "          (10,3,1,1))\n",
        "nin15 = Nin(arch15)\n",
        "nin15"
      ]
    },
    {
      "cell_type": "markdown",
      "id": "T1QNhSgsn8kN",
      "metadata": {
        "id": "T1QNhSgsn8kN"
      },
      "source": [
        "# Jawaban 8.4"
      ]
    },
    {
      "cell_type": "markdown",
      "id": "YopqbmDDn_Gs",
      "metadata": {
        "id": "YopqbmDDn_Gs"
      },
      "source": [
        "## 1"
      ]
    },
    {
      "cell_type": "markdown",
      "id": "mdHRfdO0oO1i",
      "metadata": {
        "id": "mdHRfdO0oO1i"
      },
      "source": [
        "### 1.1"
      ]
    },
    {
      "cell_type": "code",
      "execution_count": null,
      "id": "rJkEWyEZoQ1b",
      "metadata": {
        "id": "rJkEWyEZoQ1b"
      },
      "outputs": [],
      "source": [
        "class NormInception(nn.Module):\n",
        "    def __init__(self, c1, c2, c3, c4, **kwargs):\n",
        "        super().__init__(*kwargs)\n",
        "        self.b1 = nn.Sequential(nn.LazyConv2d(c1, kernel_size=1),\n",
        "                                nn.LazyBatchNorm2d(),\n",
        "                                nn.ReLU())\n",
        "        self.b2 = nn.Sequential(nn.LazyConv2d(c2[0], kernel_size=1),\n",
        "                                nn.LazyBatchNorm2d(),\n",
        "                                nn.ReLU(),\n",
        "                                nn.LazyConv2d(c2[1], kernel_size=3, padding=1),\n",
        "                                nn.LazyBatchNorm2d(),\n",
        "                                nn.ReLU())\n",
        "        self.b3 = nn.Sequential(nn.LazyConv2d(c3[0], kernel_size=1),\n",
        "                                nn.LazyBatchNorm2d(),\n",
        "                                nn.ReLU(),\n",
        "                                nn.LazyConv2d(c3[1], kernel_size=5, padding=2),\n",
        "                                nn.LazyBatchNorm2d(),\n",
        "                                nn.ReLU())\n",
        "        self.b4 = nn.Sequential(nn.MaxPool2d(kernel_size=3, stride=1, padding=1),\n",
        "                                nn.LazyBatchNorm2d(),\n",
        "                                nn.LazyConv2d(c4, kernel_size=1),\n",
        "                                nn.LazyBatchNorm2d(),\n",
        "                                nn.ReLU())\n",
        "\n",
        "    def forward(self, x):\n",
        "        o1 = self.b1(x)\n",
        "        o2 = self.b2(x)\n",
        "        o3 = self.b3(x)\n",
        "        o4 = self.b4(x)\n",
        "        return torch.cat((o1,o2,o3,o4),dim=1)\n",
        "\n",
        "class NormGoogleNet(d2l.Classifier):\n",
        "    def b1(self):\n",
        "        return nn.Sequential(nn.LazyConv2d(64, kernel_size=7, stride=2, padding=3),\n",
        "                             nn.LazyBatchNorm2d(),\n",
        "                             nn.ReLU(),\n",
        "                             nn.MaxPool2d(kernel_size=3, stride=2, padding=1))\n",
        "\n",
        "    def b2(self):\n",
        "        return nn.Sequential(nn.LazyConv2d(64, kernel_size=1),\n",
        "                             nn.LazyBatchNorm2d(),nn.ReLU(),\n",
        "                             nn.LazyConv2d(192, kernel_size=3, padding=1),\n",
        "                             nn.LazyBatchNorm2d(), nn.ReLU(),\n",
        "                             nn.MaxPool2d(kernel_size=3, stride=2, padding=1))\n",
        "\n",
        "    def b3(self):\n",
        "        return nn.Sequential(NormInception(64, (96, 128), (16, 32), 32),\n",
        "                             NormInception(128, (128, 192), (32, 96), 64),\n",
        "                             nn.MaxPool2d(kernel_size=3, stride=2, padding=1))\n",
        "\n",
        "    def b4(self):\n",
        "        return nn.Sequential(NormInception(192, (96, 208), (16, 48), 64),\n",
        "                             NormInception(160, (112, 224), (24, 64), 64),\n",
        "                             NormInception(128, (128, 256), (24, 64), 64),\n",
        "                             NormInception(112, (144, 288), (32, 64), 64),\n",
        "                             NormInception(256, (160, 320), (32, 128), 128),\n",
        "                             nn.MaxPool2d(kernel_size=3, stride=2, padding=1))\n",
        "\n",
        "    def b5(self):\n",
        "        return nn.Sequential(NormInception(256, (160, 320), (32, 128), 128),\n",
        "                             NormInception(384, (192, 384), (48, 128), 128),\n",
        "                             nn.AdaptiveAvgPool2d((1,1)), nn.Flatten())\n",
        "\n",
        "    def __init__(self, lr=0.1, num_classes=10):\n",
        "        super().__init__()\n",
        "        self.save_hyperparameters()\n",
        "        self.net = nn.Sequential(self.b1(), self.b2(), self.b3(), self.b4(),\n",
        "                                 self.b5(), nn.LazyLinear(num_classes))\n",
        "        self.net.apply(d2l.init_cnn)"
      ]
    },
    {
      "cell_type": "markdown",
      "id": "5igVrZPjoU2x",
      "metadata": {
        "id": "5igVrZPjoU2x"
      },
      "source": [
        "### 1.2"
      ]
    },
    {
      "cell_type": "code",
      "execution_count": null,
      "id": "BtgwXqjpoWAj",
      "metadata": {
        "id": "BtgwXqjpoWAj"
      },
      "outputs": [],
      "source": [
        "class Inception(nn.Module):\n",
        "    def __init__(self, c1, c2, c3, c4, **kwargs):\n",
        "        super().__init__(*kwargs)\n",
        "        self.b1 = nn.Sequential(nn.LazyConv2d(c1, kernel_size=1),\n",
        "                                nn.ReLU())\n",
        "        self.b2 = nn.Sequential(nn.LazyConv2d(c2[0], kernel_size=1),\n",
        "                                nn.ReLU(),\n",
        "                                nn.LazyConv2d(c2[1], kernel_size=3, padding=1),\n",
        "                                nn.ReLU())\n",
        "        self.b3 = nn.Sequential(nn.LazyConv2d(c3[0], kernel_size=1),\n",
        "                                nn.ReLU(),\n",
        "                                nn.LazyConv2d(c3[1], kernel_size=3, padding=1),\n",
        "                                nn.ReLU(),\n",
        "                                nn.LazyConv2d(c3[2], kernel_size=3, padding=1),\n",
        "                                nn.ReLU())\n",
        "        self.b4 = nn.Sequential(nn.MaxPool2d(kernel_size=3, stride=1, padding=1),\n",
        "                                nn.LazyConv2d(c4, kernel_size=1),\n",
        "                                nn.ReLU())\n",
        "\n",
        "    def forward(self, x):\n",
        "        o1 = self.b1(x)\n",
        "        o2 = self.b2(x)\n",
        "        o3 = self.b3(x)\n",
        "        o4 = self.b4(x)\n",
        "        return torch.cat((o1,o2,o3,o4),dim=1)"
      ]
    },
    {
      "cell_type": "code",
      "execution_count": null,
      "id": "rP1AIkRSoZDM",
      "metadata": {
        "id": "rP1AIkRSoZDM"
      },
      "outputs": [],
      "source": [
        "class Inception(nn.Module):\n",
        "    def __init__(self, c1, c2, c3, c4, **kwargs):\n",
        "        super().__init__(*kwargs)\n",
        "        self.b1 = nn.Sequential(nn.LazyConv2d(c1, kernel_size=1),\n",
        "                                nn.ReLU())\n",
        "        self.b2 = nn.Sequential(nn.LazyConv2d(c2[0], kernel_size=1),\n",
        "                                nn.ReLU(),\n",
        "                                nn.LazyConv2d(c2[1], kernel_size=(1,3), padding=(0,1)),\n",
        "                                nn.ReLU(),\n",
        "                                nn.LazyConv2d(c2[2], kernel_size=(3,1), padding=(1,0)),\n",
        "                                nn.ReLU())\n",
        "        self.b3 = nn.Sequential(nn.LazyConv2d(c3[0], kernel_size=1),\n",
        "                                nn.ReLU(),\n",
        "                                nn.LazyConv2d(c3[1], kernel_size=(1,3), padding=(0,1)),\n",
        "                                nn.ReLU(),\n",
        "                                nn.LazyConv2d(c3[2], kernel_size=(3,1), padding=(1,0)),\n",
        "                                nn.ReLU(),\n",
        "                                nn.LazyConv2d(c3[3], kernel_size=(1,3), padding=(0,1)),\n",
        "                                nn.ReLU(),\n",
        "                                nn.LazyConv2d(c3[4], kernel_size=(3,1), padding=(1,0)),\n",
        "                                nn.ReLU())\n",
        "        self.b4 = nn.Sequential(nn.MaxPool2d(kernel_size=3, stride=1, padding=1),\n",
        "                                nn.LazyConv2d(c4, kernel_size=1),\n",
        "                                nn.ReLU())\n",
        "\n",
        "    def forward(self, x):\n",
        "        o1 = self.b1(x)\n",
        "        o2 = self.b2(x)\n",
        "        o3 = self.b3(x)\n",
        "        o4 = self.b4(x)\n",
        "        return torch.cat((o1,o2,o3,o4),dim=1)"
      ]
    },
    {
      "cell_type": "code",
      "execution_count": null,
      "id": "_gZqqq__obib",
      "metadata": {
        "id": "_gZqqq__obib"
      },
      "outputs": [],
      "source": [
        "class Inception(nn.Module):\n",
        "    def __init__(self, c1, c2, c3, c4, **kwargs):\n",
        "        super().__init__(*kwargs)\n",
        "        self.b1 = nn.Sequential(nn.LazyConv2d(c1, kernel_size=1),\n",
        "                                nn.ReLU())\n",
        "        self.b2 = nn.Sequential(nn.LazyConv2d(c2[0], kernel_size=1),\n",
        "                                nn.ReLU())\n",
        "        self.b2_1 = nn.Sequential(nn.LazyConv2d(c2[1], kernel_size=(1,3), padding=(0,1)),\n",
        "                                nn.ReLU())\n",
        "        self.b2_2 = nn.Sequential(nn.LazyConv2d(c2[2], kernel_size=(3,1), padding=(1,0)),\n",
        "                                nn.ReLU())\n",
        "        self.b3 = nn.Sequential(nn.LazyConv2d(c3[0], kernel_size=1),\n",
        "                                nn.ReLU(),\n",
        "                                nn.LazyConv2d(c3[1], kernel_size=3, padding=1),\n",
        "                                nn.ReLU())\n",
        "        self.b3_1 = nn.Sequential(nn.LazyConv2d(c3[2], kernel_size=(1,3), padding=(0,1)),\n",
        "                                nn.ReLU())\n",
        "        self.b3_2 = nn.Sequential(nn.LazyConv2d(c3[3], kernel_size=(3,1), padding=(1,0)),\n",
        "                                nn.ReLU())\n",
        "        self.b4 = nn.Sequential(nn.MaxPool2d(kernel_size=3, stride=1, padding=1),\n",
        "                                nn.LazyConv2d(c4, kernel_size=1),\n",
        "                                nn.ReLU())\n",
        "\n",
        "    def forward(self, x):\n",
        "        o1 = self.b1(x)\n",
        "        o2 = self.b2(x)\n",
        "        o2_1 = self.b2_1(o2)\n",
        "        o2_2 = self.b2_2(o2)\n",
        "        o3 = self.b3(x)\n",
        "        o3_1 = self.b3_1(o3)\n",
        "        o3_2 = self.b3_2(o2)\n",
        "        o4 = self.b4(x)\n",
        "        return torch.cat((o1,o2_1,o2_2,o3_1,o3_2,o4),dim=1)"
      ]
    },
    {
      "cell_type": "markdown",
      "id": "3rGXuae-odz9",
      "metadata": {
        "id": "3rGXuae-odz9"
      },
      "source": [
        "### 1.3"
      ]
    },
    {
      "cell_type": "code",
      "execution_count": null,
      "id": "KmaWHMcAogMM",
      "metadata": {
        "id": "KmaWHMcAogMM"
      },
      "outputs": [],
      "source": [
        "class LSRGoogleNet(GoogleNet):\n",
        "    def __init__(self, eps=0, lr=0.1, num_classes=10):\n",
        "        super().__init__(lr=lr, num_classes=num_classes)\n",
        "        self.save_hyperparameters()\n",
        "\n",
        "    def loss(self, y_hat, y, averaged=True):\n",
        "        y_hat = y_hat.reshape((-1, y_hat.shape[-1]))\n",
        "        y = y.reshape((-1,))\n",
        "        u = torch.ones(y.shape).tye(torch.float32)/y.shape[-1]\n",
        "        lsr_loss = (1-self.eps)*F.cross_entropy(y_hat, y, reduction='mean' if averaged else 'none')\n",
        "        +self.eps*F.cross_entropy(y_hat, u, reduction='mean' if averaged else 'none')\n",
        "        return lsr_loss"
      ]
    },
    {
      "cell_type": "markdown",
      "id": "f6QyDOLroh_M",
      "metadata": {
        "id": "f6QyDOLroh_M"
      },
      "source": [
        "### 1.4"
      ]
    },
    {
      "cell_type": "code",
      "execution_count": null,
      "id": "OEa3cvW6ojNg",
      "metadata": {
        "id": "OEa3cvW6ojNg"
      },
      "outputs": [],
      "source": [
        "class ResInception(nn.Module):\n",
        "    def __init__(self, c1, c2, c3, c4, **kwargs):\n",
        "        super().__init__(*kwargs)\n",
        "        self.b1 = nn.Sequential(nn.LazyConv2d(c1, kernel_size=1),\n",
        "                                nn.LazyBatchNorm2d(),\n",
        "                                nn.ReLU())\n",
        "        self.b2 = nn.Sequential(nn.LazyConv2d(c2[0], kernel_size=1),\n",
        "                                nn.LazyBatchNorm2d(),\n",
        "                                nn.ReLU(),\n",
        "                                nn.LazyConv2d(c2[1], kernel_size=3, padding=1),\n",
        "                                nn.LazyBatchNorm2d(),\n",
        "                                nn.ReLU())\n",
        "        self.b3 = nn.Sequential(nn.LazyConv2d(c3[0], kernel_size=1),\n",
        "                                nn.LazyBatchNorm2d(),\n",
        "                                nn.ReLU(),\n",
        "                                nn.LazyConv2d(c3[1], kernel_size=5, padding=2),\n",
        "                                nn.LazyBatchNorm2d(),\n",
        "                                nn.ReLU())\n",
        "        self.b4 = nn.Sequential(nn.MaxPool2d(kernel_size=3, stride=1, padding=1),\n",
        "                                nn.LazyBatchNorm2d(),\n",
        "                                nn.LazyConv2d(c4, kernel_size=1),\n",
        "                                nn.LazyBatchNorm2d(),\n",
        "                                nn.ReLU())\n",
        "\n",
        "    def forward(self, x):\n",
        "        o1 = self.b1(x)+x\n",
        "        o2 = self.b2(x)+x\n",
        "        o3 = self.b3(x)+x\n",
        "        o4 = self.b4(x)+x\n",
        "        return torch.cat((o1,o2,o3,o4),dim=1)\n",
        "\n",
        "class ResGoogleNet(d2l.Classifier):\n",
        "    def b1(self):\n",
        "        return nn.Sequential(nn.LazyConv2d(64, kernel_size=7, stride=2, padding=3),\n",
        "                             nn.LazyBatchNorm2d(),\n",
        "                             nn.ReLU(),\n",
        "                             nn.MaxPool2d(kernel_size=3, stride=2, padding=1))\n",
        "\n",
        "    def b2(self):\n",
        "        return nn.Sequential(nn.LazyConv2d(64, kernel_size=1),\n",
        "                             nn.LazyBatchNorm2d(),nn.ReLU(),\n",
        "                             nn.LazyConv2d(192, kernel_size=3, padding=1),\n",
        "                             nn.LazyBatchNorm2d(), nn.ReLU(),\n",
        "                             nn.MaxPool2d(kernel_size=3, stride=2, padding=1))\n",
        "\n",
        "    def b3(self):\n",
        "        return nn.Sequential(ResInception(64, (96, 128), (16, 32), 32),\n",
        "                             ResInception(128, (128, 192), (32, 96), 64),\n",
        "                             nn.MaxPool2d(kernel_size=3, stride=2, padding=1))\n",
        "\n",
        "    def b4(self):\n",
        "        return nn.Sequential(ResInception(192, (96, 208), (16, 48), 64),\n",
        "                             ResInception(160, (112, 224), (24, 64), 64),\n",
        "                             ResInception(128, (128, 256), (24, 64), 64),\n",
        "                             ResInception(112, (144, 288), (32, 64), 64),\n",
        "                             ResInception(256, (160, 320), (32, 128), 128),\n",
        "                             nn.MaxPool2d(kernel_size=3, stride=2, padding=1))\n",
        "\n",
        "    def b5(self):\n",
        "        return nn.Sequential(ResInception(256, (160, 320), (32, 128), 128),\n",
        "                             ResInception(384, (192, 384), (48, 128), 128),\n",
        "                             nn.AdaptiveAvgPool2d((1,1)), nn.Flatten())\n",
        "\n",
        "    def __init__(self, lr=0.1, num_classes=10):\n",
        "        super().__init__()\n",
        "        self.save_hyperparameters()\n",
        "        self.net = nn.Sequential(self.b1(), self.b2(), self.b3(), self.b4(),\n",
        "                                 self.b5(), nn.LazyLinear(num_classes))\n",
        "        self.net.apply(d2l.init_cnn)"
      ]
    },
    {
      "cell_type": "markdown",
      "id": "Z0uaz4LIomas",
      "metadata": {
        "id": "Z0uaz4LIomas"
      },
      "source": [
        "## 2\n"
      ]
    },
    {
      "cell_type": "code",
      "execution_count": null,
      "id": "7iHU5NatC1fl",
      "metadata": {
        "id": "7iHU5NatC1fl"
      },
      "outputs": [],
      "source": [
        "\n",
        "\n",
        "import torch\n",
        "from torch import nn\n",
        "from d2l import torch as d2l\n",
        "\n",
        "\n",
        "class Inception(nn.Module):\n",
        "    # ... existing code ...\n",
        "    def __init__(self, c1, c2, c3, c4, **kwargs):\n",
        "        super().__init__(*kwargs)\n",
        "        self.b1 = nn.Sequential(nn.LazyConv2d(c1, kernel_size=1),\n",
        "                                nn.LazyBatchNorm2d(),\n",
        "                                nn.ReLU())\n",
        "        self.b2 = nn.Sequential(nn.LazyConv2d(c2[0], kernel_size=1),\n",
        "                                nn.LazyBatchNorm2d(),\n",
        "                                nn.ReLU(),\n",
        "                                nn.LazyConv2d(c2[1], kernel_size=3, padding=1),\n",
        "                                nn.LazyBatchNorm2d(),\n",
        "                                nn.ReLU())\n",
        "        self.b3 = nn.Sequential(nn.LazyConv2d(c3[0], kernel_size=1),\n",
        "                                nn.LazyBatchNorm2d(),\n",
        "                                nn.ReLU(),\n",
        "                                nn.LazyConv2d(c3[1], kernel_size=5, padding=2),\n",
        "                                nn.LazyBatchNorm2d(),\n",
        "                                nn.ReLU())\n",
        "        self.b4 = nn.Sequential(nn.MaxPool2d(kernel_size=3, stride=1, padding=1),\n",
        "                                nn.LazyBatchNorm2d(),\n",
        "                                nn.LazyConv2d(c4, kernel_size=1),\n",
        "                                nn.LazyBatchNorm2d(),\n",
        "                                nn.ReLU())\n",
        "\n",
        "    def forward(self, X):\n",
        "        b1 = self.b1(X)\n",
        "        b2 = self.b2(X)\n",
        "        b3 = self.b3(X)\n",
        "        b4 = self.b4(X)\n",
        "        return torch.cat((b1, b2, b3, b4), dim=1)"
      ]
    },
    {
      "cell_type": "code",
      "execution_count": null,
      "id": "lF9czpOYDFZf",
      "metadata": {
        "id": "lF9czpOYDFZf"
      },
      "outputs": [],
      "source": [
        "class GoogleNet(d2l.Classifier):\n",
        "    \"\"\"\n",
        "    GoogLeNet with changes to accomodate small image sizes\n",
        "    \"\"\"\n",
        "    def b1(self):\n",
        "        return nn.Sequential(nn.LazyConv2d(64, kernel_size=7, stride=2, padding=3),\n",
        "                             nn.LazyBatchNorm2d(),\n",
        "                             nn.ReLU(),\n",
        "                             nn.MaxPool2d(kernel_size=3, stride=2, padding=1))\n",
        "\n",
        "    def b2(self):\n",
        "        return nn.Sequential(nn.LazyConv2d(64, kernel_size=1),\n",
        "                             nn.LazyBatchNorm2d(),nn.ReLU(),\n",
        "                             nn.LazyConv2d(192, kernel_size=3, padding=1),\n",
        "                             nn.LazyBatchNorm2d(), nn.ReLU(),\n",
        "                             nn.MaxPool2d(kernel_size=3, stride=2, padding=1))\n",
        "\n",
        "    def b3(self):\n",
        "        return nn.Sequential(Inception(64, (96, 128), (16, 32), 32),\n",
        "                             Inception(128, (128, 192), (32, 96), 64),\n",
        "                             nn.MaxPool2d(kernel_size=3, stride=2, padding=1))\n",
        "\n",
        "    def b4(self):\n",
        "        return nn.Sequential(Inception(192, (96, 208), (16, 48), 64),\n",
        "                             Inception(160, (112, 224), (24, 64), 64))\n",
        "\n",
        "    def __init__(self, lr=0.1, num_classes=10): # Added lr to the __init__ method\n",
        "        super().__init__()\n",
        "        self.save_hyperparameters()\n",
        "        self.net = nn.Sequential(self.b1(), self.b2(), self.b3(), self.b4(),\n",
        "                                 nn.LazyLinear(num_classes))\n",
        "        self.net.apply(d2l.init_cnn)"
      ]
    },
    {
      "cell_type": "code",
      "execution_count": null,
      "id": "-WNslvtkooOm",
      "metadata": {
        "id": "-WNslvtkooOm"
      },
      "outputs": [],
      "source": [
        "model = GoogleNet(lr=0.01)\n",
        "X = torch.randn(1,1,32,32)\n",
        "model(X)\n",
        "for m in model.net:\n",
        "    X = m(X)\n",
        "    print(X.shape)"
      ]
    },
    {
      "cell_type": "code",
      "execution_count": null,
      "id": "UgDc_SS_otAv",
      "metadata": {
        "id": "UgDc_SS_otAv"
      },
      "outputs": [],
      "source": [
        "model = GoogleNet(lr=0.01)\n",
        "X = torch.randn(1,1,64,64)\n",
        "model(X)\n",
        "for m in model.net:\n",
        "    X = m(X)\n",
        "    print(X.shape)"
      ]
    },
    {
      "cell_type": "markdown",
      "id": "-qTW7XLpouiF",
      "metadata": {
        "id": "-qTW7XLpouiF"
      },
      "source": [
        "## 3"
      ]
    },
    {
      "cell_type": "code",
      "execution_count": null,
      "id": "nqXMxIPpovdw",
      "metadata": {
        "id": "nqXMxIPpovdw"
      },
      "outputs": [],
      "source": [
        "class SmallGoogLeNet():\n",
        "    def b1(self):\n",
        "        return nn.Sequential(nn.LazyConv2d(64, kernel_size=5, stride=1, padding=2),\n",
        "                             nn.ReLU(),\n",
        "                             # nn.MaxPool2d(kernel_size=3, stride=2, padding=1)\n",
        "                            )\n",
        "\n",
        "def __init__(self, lr=0.1, num_classes=10):\n",
        "        super().__init__()\n",
        "        self.save_hyperparameters()\n",
        "        self.net = nn.Sequential(self.b1(),self.b2(), self.b3(), self.b4(),\n",
        "                                 self.b5(), nn.LazyLinear(num_classes))\n",
        "        self.net.apply(d2l.init_cnn)"
      ]
    },
    {
      "cell_type": "markdown",
      "id": "5cUKNIqhoyC-",
      "metadata": {
        "id": "5cUKNIqhoyC-"
      },
      "source": [
        "## 4"
      ]
    },
    {
      "cell_type": "code",
      "execution_count": null,
      "id": "rxsJ5lBaozIX",
      "metadata": {
        "id": "rxsJ5lBaozIX"
      },
      "outputs": [],
      "source": [
        "model = GoogleNet(lr=0.01)\n",
        "X = torch.randn(1,3, 224, 224)\n",
        "_ = model(X)\n",
        "total_params = sum(p.numel() for p in model.parameters())\n",
        "print(\"Total parameters:\", total_params)"
      ]
    },
    {
      "cell_type": "markdown",
      "id": "YWE7NESjo1Qq",
      "metadata": {
        "id": "YWE7NESjo1Qq"
      },
      "source": [
        "## 5"
      ]
    },
    {
      "cell_type": "markdown",
      "id": "HAfy0JbYo2lC",
      "metadata": {
        "id": "HAfy0JbYo2lC"
      },
      "source": [
        "GoogLeNet dan AlexNet adalah arsitektur jaringan neural dalam, tetapi memiliki perbedaan signifikan dalam kebutuhan komputasi karena desainnya:\n",
        "\n",
        "1. **Kebutuhan Komputasi**:\n",
        "   - **GoogLeNet**: Menggunakan modul Inception dengan jalur konvolusi paralel yang mengurangi komputasi tiap jalur. Penggunaan konvolusi 1x1 juga mengurangi jumlah parameter dan komputasi.\n",
        "   - **AlexNet**: Memiliki arsitektur yang lebih sederhana dengan lapisan konvolusi dan pooling, tetapi komputasi cenderung lebih tinggi karena ukuran filter yang seragam dan arsitektur yang lebih dalam.\n",
        "\n",
        "2. **Ukuran Memori dan Bandwidth**:\n",
        "   - **GoogLeNet**: Jalur paralel memungkinkan pemanfaatan memori yang lebih efisien, sehingga mengurangi kebutuhan ruang memori besar dan bandwidth.\n",
        "   - **AlexNet**: Memerlukan ruang memori yang lebih besar untuk menyimpan hasil perantara, sehingga membutuhkan bandwidth memori yang lebih tinggi.\n",
        "\n",
        "3. **Ukuran Cache**:\n",
        "   - **GoogLeNet**: Paralelisme bisa memanfaatkan ukuran cache yang lebih besar.\n",
        "   - **AlexNet**: Arsitektur yang lebih dalam bisa memanfaatkan cache yang lebih besar karena sifat komputasinya yang berurutan.\n",
        "\n",
        "4. **Jumlah Komputasi**:\n",
        "   - **GoogLeNet**: Lebih efisien dalam hal komputasi karena memanfaatkan paralelisme dan pengurangan dimensi.\n",
        "   - **AlexNet**: Membutuhkan lebih banyak komputasi karena ukuran filter seragam dan kedalaman arsitektur.\n",
        "\n",
        "5. **Operasi Khusus**: Kedua arsitektur bisa diuntungkan dengan operasi khusus pada chip akselerator, seperti konvolusi 1x1 dan konvolusi depth-wise separable.\n",
        "\n",
        "**Desain Chip Akselerator**:\n",
        "- **Memori**: GoogLeNet memerlukan struktur memori yang mampu menyimpan hasil jalur paralel, sementara AlexNet memerlukan kapasitas memori yang lebih besar.\n",
        "- **Bandwidth Memori**: Chip harus menyediakan bandwidth yang cukup untuk memindahkan data antar lapisan secara efisien.\n",
        "- **Cache**: Cache yang lebih besar diperlukan untuk mengurangi latensi akses memori.\n",
        "- **Operasi Khusus**: Unit perangkat keras khusus untuk konvolusi 1x1 dan depth-wise separable dapat meningkatkan efisiensi.\n",
        "\n",
        "Secara keseluruhan, perbedaan komputasi antara GoogLeNet dan AlexNet memengaruhi desain chip akselerator dalam aspek memori, bandwidth, cache, dan operasi khusus."
      ]
    },
    {
      "cell_type": "markdown",
      "id": "mI8F8QBUpHDe",
      "metadata": {
        "id": "mI8F8QBUpHDe"
      },
      "source": [
        "# Jawaban 8.5"
      ]
    },
    {
      "cell_type": "markdown",
      "id": "whGiVBsUpJuX",
      "metadata": {
        "id": "whGiVBsUpJuX"
      },
      "source": [
        "## 1"
      ]
    },
    {
      "cell_type": "markdown",
      "id": "euxteK4DpYvk",
      "metadata": {
        "id": "euxteK4DpYvk"
      },
      "source": [
        "**Normalisasi Batch** adalah teknik yang membantu menstabilkan dan mempercepat pelatihan jaringan neural dalam. Teknik ini menormalkan aktivasi dalam sebuah lapisan dengan mengurangi rata-rata dan membagi dengan deviasi standar dari mini-batch. Aktivasi yang dinormalisasi kemudian diskalakan dan digeser menggunakan parameter yang dapat dipelajari, yaitu parameter skala (gamma) dan geser (beta).\n",
        "\n",
        "**Rekomendasi untuk Lapisan Terhubung Penuh (Fully Connected)**:\n",
        "- **Hapus Bias**: Disarankan untuk menghapus parameter bias dari lapisan terhubung penuh sebelum menerapkan normalisasi batch. Hal ini untuk menghindari redundansi antara bias dan parameter beta dari normalisasi batch.\n",
        "\n",
        "**Rekomendasi untuk Lapisan Konvolusi**:\n",
        "- **Dengan Bias**: Beberapa arsitektur menggunakan parameter bias dalam lapisan konvolusi sebelum normalisasi batch. Parameter ini bisa memberikan fleksibilitas dalam pemodelan, terutama di tahap awal jaringan.\n",
        "- **Tanpa Bias**: Jika Anda memilih untuk menghapus parameter bias sebelum normalisasi batch, maka normalisasi batch akan menangani baik penggeseran maupun penskalaan aktivasi.\n",
        "\n",
        "Kefektifan pilihan ini juga tergantung pada arsitektur spesifik, dataset, dan proses optimisasi yang digunakan. Oleh karena itu, seringkali ide yang baik untuk bereksperimen dengan konfigurasi yang berbeda untuk menemukan pengaturan terbaik untuk kebutuhan spesifik Anda.\n",
        "\n",
        "Untuk lapisan terhubung penuh, umumnya disarankan untuk menghapus parameter bias sebelum menerapkan normalisasi batch. Untuk lapisan konvolusi, Anda memiliki fleksibilitas untuk memilih apakah akan menyertakan atau mengecualikan parameter bias berdasarkan pilihan desain dan pertimbangan kinerja Anda."
      ]
    },
    {
      "cell_type": "markdown",
      "id": "CzUkWzBbpdbc",
      "metadata": {
        "id": "CzUkWzBbpdbc"
      },
      "source": [
        "## 2"
      ]
    },
    {
      "cell_type": "code",
      "execution_count": null,
      "id": "n4b8NUewDaPt",
      "metadata": {
        "id": "n4b8NUewDaPt"
      },
      "outputs": [],
      "source": [
        "!pip install -U d2l # Make sure you have the latest version of d2l installed\n",
        "\n",
        "import torch\n",
        "from torch import nn\n",
        "from d2l import torch as d2l #Import the d2l.torch module\n",
        "\n",
        "class LeNet(d2l.Classifier):  #@save\n",
        "    \"\"\"The LeNet-5 model.\"\"\"\n",
        "    def __init__(self, lr=0.1, num_classes=10):\n",
        "        super().__init__()\n",
        "        self.save_hyperparameters()\n",
        "        self.net = nn.Sequential(\n",
        "            nn.LazyConv2d(6, kernel_size=5, padding=2), nn.Sigmoid(),\n",
        "            nn.AvgPool2d(kernel_size=2, stride=2),\n",
        "            nn.LazyConv2d(16, kernel_size=5), nn.Sigmoid(),\n",
        "            nn.AvgPool2d(kernel_size=2, stride=2),\n",
        "            nn.Flatten(),\n",
        "            nn.LazyLinear(120), nn.Sigmoid(),\n",
        "            nn.LazyLinear(84), nn.Sigmoid(),\n",
        "            nn.LazyLinear(num_classes))\n",
        "\n",
        "class BNLeNet(d2l.Classifier):\n",
        "    def __init__(self, lr=0.1, num_classes=10):\n",
        "        super().__init__()\n",
        "        self.save_hyperparameters()\n",
        "        self.net = nn.Sequential(\n",
        "            nn.LazyConv2d(6, kernel_size=5), nn.LazyBatchNorm2d(),\n",
        "            nn.Sigmoid(), nn.AvgPool2d(kernel_size=2, stride=2),\n",
        "            nn.LazyConv2d(16, kernel_size=5), nn.LazyBatchNorm2d(),\n",
        "            nn.Sigmoid(), nn.AvgPool2d(kernel_size=2, stride=2),\n",
        "            nn.Flatten(), nn.LazyLinear(120), nn.LazyBatchNorm1d(),\n",
        "            nn.Sigmoid(), nn.LazyLinear(84), nn.LazyBatchNorm1d(),\n",
        "            nn.Sigmoid(), nn.LazyLinear(num_classes))\n",
        "\n",
        "def stat_model_acc(model, data, plot_flag):\n",
        "    model.apply_init([next(iter(data.get_dataloader(True)))[0]], d2l.init_cnn)\n",
        "    trainer = d2l.Trainer(max_epochs=10, num_gpus=1,plot_flag=plot_flag)\n",
        "    trainer.fit(model, data)\n",
        "    X,y = next(iter(data.get_dataloader(False)))\n",
        "    X = X.to('cuda')\n",
        "    y = y.to('cuda')\n",
        "    y_hat = model(X)\n",
        "    return model.accuracy(y_hat,y).item()"
      ]
    },
    {
      "cell_type": "markdown",
      "id": "jG1JZgC1pjz2",
      "metadata": {
        "id": "jG1JZgC1pjz2"
      },
      "source": [
        "### 2.1"
      ]
    },
    {
      "cell_type": "code",
      "execution_count": null,
      "id": "ywFzktuXDfHQ",
      "metadata": {
        "id": "ywFzktuXDfHQ"
      },
      "outputs": [],
      "source": [
        "def stat_model_acc(model, data): # Removed plot_flag parameter\n",
        "    model.apply_init([next(iter(data.get_dataloader(True)))[0]], d2l.init_cnn)\n",
        "    trainer = d2l.Trainer(max_epochs=10, num_gpus=1) # Removed plot_flag argument\n",
        "    trainer.fit(model, data)\n",
        "    X,y = next(iter(data.get_dataloader(False)))\n",
        "    X = X.to('cuda')\n",
        "    y = y.to('cuda')\n",
        "    y_hat = model(X)\n",
        "    return model.accuracy(y_hat,y).item()"
      ]
    },
    {
      "cell_type": "code",
      "execution_count": null,
      "id": "aIVk_jkqDkAn",
      "metadata": {
        "id": "aIVk_jkqDkAn"
      },
      "outputs": [],
      "source": [
        "data = d2l.FashionMNIST(batch_size=128)\n",
        "lr_list = [0.001,0.01,0.03,0.1,0.3]\n",
        "le_accs= []\n",
        "ble_accs = []\n",
        "for lr in lr_list[:1]:\n",
        "    le = LeNet(lr=lr)\n",
        "    ble = BNLeNet(lr=lr)\n",
        "    le_accs.append(stat_model_acc(le, data)) # Removed plot_flag argument\n",
        "    ble_accs.append(stat_model_acc(ble, data)) # Removed plot_flag argument"
      ]
    },
    {
      "cell_type": "markdown",
      "id": "iOV4PNwFpoTp",
      "metadata": {
        "id": "iOV4PNwFpoTp"
      },
      "source": [
        "### 2.2"
      ]
    },
    {
      "cell_type": "code",
      "execution_count": null,
      "id": "AoZHSNmwpnA_",
      "metadata": {
        "id": "AoZHSNmwpnA_"
      },
      "outputs": [],
      "source": [
        "data = d2l.FashionMNIST(batch_size=128)\n",
        "lr_list = [1,3,10,30]\n",
        "le_accs= []\n",
        "ble_accs = []\n",
        "for lr in lr_list:\n",
        "\tle = LeNet(lr=lr)\n",
        "\tble = BNLeNet(lr=lr)\n",
        "\tle_accs.append(stat_model_acc(le, data))\n",
        "\tble_accs.append(stat_model_acc(ble, data))"
      ]
    },
    {
      "cell_type": "markdown",
      "id": "CtFO1rIQpqT-",
      "metadata": {
        "id": "CtFO1rIQpqT-"
      },
      "source": [
        "## 3"
      ]
    },
    {
      "cell_type": "markdown",
      "id": "JiVLKE7Kprdr",
      "metadata": {
        "id": "JiVLKE7Kprdr"
      },
      "source": [
        "Menggunakan normalisasi batch di setiap lapisan jaringan neural bukanlah aturan yang ketat, melainkan pilihan desain yang bergantung pada masalah spesifik, arsitektur, dan dinamika pelatihan. Keputusan ini dapat mempengaruhi konvergensi model, kinerja, dan stabilitas pelatihan. Berikut beberapa pertimbangannya:\n",
        "\n",
        "**Keuntungan Normalisasi Batch di Setiap Lapisan:**\n",
        "- **Stabilisasi Pelatihan**: Menerapkan normalisasi batch di setiap lapisan membantu menstabilkan pelatihan dengan menormalkan aktivasi dan mengurangi pergeseran kovariat internal, yang dapat mempercepat konvergensi dan propagasi gradien yang lebih stabil.\n",
        "- **Regulasi**: Normalisasi batch memiliki efek regulasi yang dapat membantu mencegah overfitting. Menerapkannya di setiap lapisan dapat memberikan regulasi yang konsisten di seluruh jaringan.\n",
        "- **Arsitektur Lebih Dalam**: Untuk jaringan yang sangat dalam, menerapkan normalisasi batch di setiap lapisan dapat membantu mengatasi masalah hilangnya/ledakan gradien.\n",
        "- **Kurang Sensitif terhadap Inisialisasi**: Normalisasi batch dapat mengurangi sensitivitas terhadap inisialisasi bobot, memungkinkan penggunaan laju pembelajaran yang lebih besar.\n",
        "\n",
        " **Pertimbangan Menentang Normalisasi Batch di Setiap Lapisan:**\n",
        "- **Kapasitas Model yang Berkurang**: Normalisasi batch dapat mengurangi kapasitas jaringan untuk menyesuaikan data pelatihan, yang dapat menyebabkan underfitting.\n",
        "- **Pelatihan yang Lebih Lambat**: Menambahkan normalisasi batch di setiap lapisan meningkatkan overhead komputasi, yang dapat memperlambat pelatihan.\n",
        "- **Kehilangan Ekspresivitas**: Normalisasi yang berlebihan dapat menghilangkan informasi berguna dari aktivasi, membatasi ekspresivitas model.\n",
        "- **Tidak Stabil untuk Batch Sangat Kecil**: Normalisasi batch bergantung pada statistik batch, yang dapat tidak stabil untuk batch yang sangat kecil.\n",
        "\n",
        " **Pedoman dan Praktik Terbaik:**\n",
        "- **Eksperimen**: Disarankan untuk bereksperimen dengan konfigurasi yang berbeda, termasuk penerapan normalisasi batch secara selektif atau di setiap lapisan.\n",
        "- **Kedalaman Jaringan**: Jaringan yang lebih dalam cenderung mendapatkan manfaat lebih dari normalisasi batch di setiap lapisan.\n",
        "- **Gunakan Validasi**: Pantau kinerja validasi selama pelatihan untuk mendeteksi potensi overfitting akibat normalisasi batch yang berlebihan.\n",
        "- **Dataset Kecil**: Untuk dataset kecil, berhati-hatilah dengan normalisasi.\n",
        "\n",
        "**Kesimpulan:**\n",
        "Meskipun menerapkan normalisasi batch di setiap lapisan memiliki manfaat, penting untuk mempertimbangkan trade-off dan bereksperimen dengan konfigurasi yang berbeda."
      ]
    },
    {
      "cell_type": "markdown",
      "id": "pSksyoQSp7EE",
      "metadata": {
        "id": "pSksyoQSp7EE"
      },
      "source": [
        "## 4"
      ]
    },
    {
      "cell_type": "code",
      "execution_count": null,
      "id": "0tcqNyQRp9Kd",
      "metadata": {
        "id": "0tcqNyQRp9Kd"
      },
      "outputs": [],
      "source": [
        "import torch\n",
        "from torch import nn\n",
        "from d2l import torch as d2l\n",
        "\n",
        "def lite_batch_norm(X, gamma, beta, moving_mean, moving_var, eps, momentum, mean_flag):\n",
        "    # Use is_grad_enabled to determine whether we are in training mode\n",
        "    if not torch.is_grad_enabled():\n",
        "        # In prediction mode, use mean and variance obtained by moving average\n",
        "        if mean_flag:\n",
        "            X_hat = X - moving_mean\n",
        "        else:\n",
        "            X_hat = X / torch.sqrt(moving_var + eps)\n",
        "    else:\n",
        "        assert len(X.shape) in (2, 4)\n",
        "        if len(X.shape) == 2:\n",
        "            # When using a fully connected layer, calculate the mean and\n",
        "            # variance on the feature dimension\n",
        "            mean = X.mean(dim=0)\n",
        "            var = ((X - mean) ** 2).mean(dim=0)\n",
        "        else:\n",
        "            # When using a two-dimensional convolutional layer, calculate the\n",
        "            # mean and variance on the channel dimension (axis=1). Here we\n",
        "            # need to maintain the shape of X, so that the broadcasting\n",
        "            # operation can be carried out later\n",
        "            mean = X.mean(dim=(0, 2, 3), keepdim=True)\n",
        "            var = ((X - mean) ** 2).mean(dim=(0, 2, 3), keepdim=True)\n",
        "        # In training mode, the current mean and variance are used\n",
        "        if mean_flag:\n",
        "            X_hat = X - mean\n",
        "        else:\n",
        "            X_hat = X / torch.sqrt(moving_var + eps)\n",
        "        # Update the mean and variance using moving average\n",
        "        moving_mean = (1.0 - momentum) * moving_mean + momentum * mean\n",
        "        moving_var = (1.0 - momentum) * moving_var + momentum * var\n",
        "    Y = gamma * X_hat + beta  # Scale and shift\n",
        "    return Y, moving_mean.data, moving_var.data\n",
        "\n",
        "class LiteBatchNorm(nn.Module):\n",
        "    # num_features: the number of outputs for a fully connected layer or the\n",
        "    # number of output channels for a convolutional layer. num_dims: 2 for a\n",
        "    # fully connected layer and 4 for a convolutional layer\n",
        "    def __init__(self, num_features, num_dims, mean_flag=True):\n",
        "        super().__init__()\n",
        "        if num_dims == 2:\n",
        "            shape = (1, num_features)\n",
        "        else:\n",
        "            shape = (1, num_features, 1, 1)\n",
        "        # The scale parameter and the shift parameter (model parameters) are\n",
        "        # initialized to 1 and 0, respectively\n",
        "        self.gamma = nn.Parameter(torch.ones(shape))\n",
        "        self.beta = nn.Parameter(torch.zeros(shape))\n",
        "        # The variables that are not model parameters are initialized to 0 and\n",
        "        # 1\n",
        "        self.moving_mean = torch.zeros(shape)\n",
        "        self.moving_var = torch.ones(shape)\n",
        "        self.mean_flag = mean_flag\n",
        "\n",
        "    def forward(self, X):\n",
        "        # If X is not on the main memory, copy moving_mean and moving_var to\n",
        "        # the device where X is located\n",
        "        if self.moving_mean.device != X.device:\n",
        "            self.moving_mean = self.moving_mean.to(X.device)\n",
        "            self.moving_var = self.moving_var.to(X.device)\n",
        "        # Save the updated moving_mean and moving_var\n",
        "        Y, self.moving_mean, self.moving_var = lite_batch_norm(\n",
        "            X, self.gamma, self.beta, self.moving_mean,\n",
        "            self.moving_var, eps=1e-5, momentum=0.1, mean_flag=self.mean_flag)\n",
        "        return Y\n",
        "\n",
        "\n",
        "class LiteBNLeNetScratch(d2l.Classifier):\n",
        "    def __init__(self, lr=0.1, num_classes=10, mean_flag=True):\n",
        "        super().__init__()\n",
        "        self.save_hyperparameters()\n",
        "        self.net = nn.Sequential(\n",
        "            nn.LazyConv2d(6, kernel_size=5), LiteBatchNorm(6, num_dims=4, mean_flag=mean_flag),\n",
        "            nn.Sigmoid(), nn.AvgPool2d(kernel_size=2, stride=2),\n",
        "            nn.LazyConv2d(16, kernel_size=5), LiteBatchNorm(16, num_dims=4, mean_flag=mean_flag),\n",
        "            nn.Sigmoid(), nn.AvgPool2d(kernel_size=2, stride=2),\n",
        "            nn.Flatten(), nn.LazyLinear(120),\n",
        "            LiteBatchNorm(120, num_dims=2, mean_flag=mean_flag), nn.Sigmoid(), nn.LazyLinear(84),\n",
        "            LiteBatchNorm(84, num_dims=2, mean_flag=mean_flag), nn.Sigmoid(),\n",
        "            nn.LazyLinear(num_classes))"
      ]
    },
    {
      "cell_type": "code",
      "execution_count": null,
      "id": "csQGxDTrqAFx",
      "metadata": {
        "id": "csQGxDTrqAFx"
      },
      "outputs": [],
      "source": [
        "model = LiteBNLeNetScratch(lr=0.1)\n",
        "model.apply_init([next(iter(data.get_dataloader(True)))[0]], d2l.init_cnn)\n",
        "trainer = d2l.Trainer(max_epochs=10, num_gpus=1)\n",
        "trainer.fit(model, data)\n",
        "X,y = next(iter(data.get_dataloader(False)))\n",
        "X = X.to('cuda')\n",
        "y = y.to('cuda')\n",
        "y_hat = model(X)\n",
        "model.accuracy(y_hat,y).item()"
      ]
    },
    {
      "cell_type": "code",
      "execution_count": null,
      "id": "pI_FnuSBqB6t",
      "metadata": {
        "id": "pI_FnuSBqB6t"
      },
      "outputs": [],
      "source": [
        "model = LiteBNLeNetScratch(lr=0.1,mean_flag=False)\n",
        "model.apply_init([next(iter(data.get_dataloader(True)))[0]], d2l.init_cnn)\n",
        "trainer = d2l.Trainer(max_epochs=10, num_gpus=1)\n",
        "trainer.fit(model, data)\n",
        "X,y = next(iter(data.get_dataloader(False)))\n",
        "X = X.to('cuda')\n",
        "y = y.to('cuda')\n",
        "y_hat = model(X)\n",
        "model.accuracy(y_hat,y).item()"
      ]
    },
    {
      "cell_type": "markdown",
      "id": "2O0ge-BKqDoE",
      "metadata": {
        "id": "2O0ge-BKqDoE"
      },
      "source": [
        "## 5"
      ]
    },
    {
      "cell_type": "code",
      "execution_count": null,
      "id": "1Fg-Q5JLqQKo",
      "metadata": {
        "id": "1Fg-Q5JLqQKo"
      },
      "outputs": [],
      "source": [
        "import torch\n",
        "from torch import nn\n",
        "from d2l import torch as d2l\n",
        "\n",
        "class FixedBatchNorm(nn.Module):\n",
        "    # num_features: the number of outputs for a fully connected layer or the\n",
        "    # number of output channels for a convolutional layer. num_dims: 2 for a\n",
        "    # fully connected layer and 4 for a convolutional layer\n",
        "    def __init__(self, num_features, num_dims, beta=None, gamma=None):\n",
        "        super().__init__()\n",
        "        if num_dims == 2:\n",
        "            shape = (1, num_features)\n",
        "        else:\n",
        "            shape = (1, num_features, 1, 1)\n",
        "        # The scale parameter and the shift parameter (model parameters) are\n",
        "        # initialized to 1 and 0, respectively\n",
        "        self.gamma = torch.ones(shape) if gamma is None else gamma\n",
        "        self.beta = torch.zeros(shape) if beta is None else beta\n",
        "        # The variables that are not model parameters are initialized to 0 and\n",
        "        # 1\n",
        "        self.moving_mean = torch.zeros(shape)\n",
        "        self.moving_var = torch.ones(shape)\n",
        "\n",
        "    def forward(self, X):\n",
        "        # If X is not on the main memory, copy moving_mean and moving_var to\n",
        "        # the device where X is located\n",
        "        # print(X.device)\n",
        "        # X = X.to('cuda')\n",
        "        if self.moving_mean.device != X.device:\n",
        "            self.moving_mean = self.moving_mean.to(X.device)\n",
        "            self.moving_var = self.moving_var.to(X.device)\n",
        "        # Save the updated moving_mean and moving_var\n",
        "        Y, self.moving_mean, self.moving_var = d2l.batch_norm(\n",
        "            X, self.gamma, self.beta, self.moving_mean,\n",
        "            self.moving_var, eps=1e-5, momentum=0.1) # Use d2l.batch_norm instead of batch_norm\n",
        "        return Y\n",
        "\n",
        "\n",
        "class FixedBNLeNetScratch(d2l.Classifier): # Make sure you have the latest version of d2l\n",
        "    def __init__(self, lr=0.1, num_classes=10, beta=None, gamma=None):\n",
        "        super().__init__()\n",
        "        self.save_hyperparameters()\n",
        "        self.net = nn.Sequential(\n",
        "            nn.LazyConv2d(6, kernel_size=5), FixedBatchNorm(6, num_dims=4, beta=beta, gamma=gamma),\n",
        "            nn.Sigmoid(), nn.AvgPool2d(kernel_size=2, stride=2),\n",
        "            nn.LazyConv2d(16, kernel_size=5), FixedBatchNorm(16, num_dims=4, beta=beta, gamma=gamma),\n",
        "            nn.Sigmoid(), nn.AvgPool2d(kernel_size=2, stride=2),\n",
        "            nn.Flatten(), nn.LazyLinear(120),\n",
        "            FixedBatchNorm(120, num_dims=2, beta=beta, gamma=gamma), nn.Sigmoid(), nn.LazyLinear(84),\n",
        "            FixedBatchNorm(84, num_dims=2, beta=beta, gamma=gamma), nn.Sigmoid(),\n",
        "            nn.LazyLinear(num_classes))"
      ]
    },
    {
      "cell_type": "code",
      "execution_count": null,
      "id": "qUpjJ1a2qTFn",
      "metadata": {
        "id": "qUpjJ1a2qTFn"
      },
      "outputs": [],
      "source": [
        "model = FixedBNLeNetScratch(lr=0.1)\n",
        "# stat_model_acc(model, data)\n",
        "model = model.to('cuda')\n",
        "model.apply_init([next(iter(data.get_dataloader(True)))[0].to('cuda')], d2l.init_cnn)\n",
        "trainer = d2l.Trainer(max_epochs=10, num_gpus=1)\n",
        "trainer.fit(model, data)\n",
        "X,y = next(iter(data.get_dataloader(False)))\n",
        "X = X.to('cuda')\n",
        "y = y.to('cuda')\n",
        "y_hat = model(X)\n",
        "model.accuracy(y_hat,y).item()"
      ]
    },
    {
      "cell_type": "markdown",
      "id": "r-MqZrBdqUx_",
      "metadata": {
        "id": "r-MqZrBdqUx_"
      },
      "source": [
        "## 6"
      ]
    },
    {
      "cell_type": "markdown",
      "id": "_T-Vyh_eqXC_",
      "metadata": {
        "id": "_T-Vyh_eqXC_"
      },
      "source": [
        "Dropout dan normalisasi batch adalah dua teknik berbeda yang digunakan untuk regulasi dalam jaringan neural. Meskipun keduanya bertujuan untuk mencegah overfitting, cara kerjanya berbeda. Dropout melibatkan penghilangan secara acak unit (neuron) selama pelatihan, sedangkan normalisasi batch menormalkan aktivasi di setiap lapisan. Keduanya memiliki tujuan yang berbeda, dan mengganti satu dengan yang lain mungkin tidak menghasilkan hasil yang sama."
      ]
    },
    {
      "cell_type": "markdown",
      "id": "Xkbcsd7aqgLw",
      "metadata": {
        "id": "Xkbcsd7aqgLw"
      },
      "source": [
        "## 7"
      ]
    },
    {
      "cell_type": "markdown",
      "id": "gT5yomkNqiVc",
      "metadata": {
        "id": "gT5yomkNqiVc"
      },
      "source": [
        "### 7.1"
      ]
    },
    {
      "cell_type": "code",
      "execution_count": null,
      "id": "g_yZeitzqhPS",
      "metadata": {
        "id": "g_yZeitzqhPS"
      },
      "outputs": [],
      "source": [
        "import numpy as np\n",
        "\n",
        "def linear_interpolation(x, known_x, known_y):\n",
        "    # Find the indices for interpolation\n",
        "    lower_indices = torch.searchsorted(known_x, x, right=True).to('cuda') - 1\n",
        "    upper_indices = lower_indices + 1\n",
        "    max_indices = torch.ones(len(x)).to('cuda')*(len(known_y)-1)\n",
        "    upper_indices = torch.min(upper_indices, max_indices).type(torch.long)\n",
        "    # print('li:',known_y.device)\n",
        "    known_y = known_y.to('cuda')\n",
        "    # print(known_y.device,lower_indices.device)\n",
        "    # Get the corresponding known y values\n",
        "    lower_y = known_y[lower_indices]\n",
        "    upper_y = known_y[upper_indices]\n",
        "\n",
        "    # Calculate the interpolation weights\n",
        "    weights = (x - known_x[lower_indices]) / (known_x[upper_indices] - known_x[lower_indices])\n",
        "\n",
        "    # Perform linear interpolation\n",
        "    interpolated_y = lower_y + weights * (upper_y - lower_y)\n",
        "    return interpolated_y\n",
        "\n",
        "def gen_sort_cdf(data):\n",
        "    sorts = []\n",
        "    cdfs = []\n",
        "    for i in range(data.shape[1]):\n",
        "        sort,_ = torch.sort(data[:, i]) #.detach().numpy()\n",
        "        cdf = torch.arange(1, len(sort) + 1) / len(sort)\n",
        "        cdf = cdf.to('cuda')\n",
        "        sorts.append(sort.reshape(-1,1))\n",
        "        cdfs.append(cdf.reshape(-1,1))\n",
        "        # sorts.append(torch.tensor(sort).reshape(-1,1))\n",
        "        # cdfs.append(torch.tensor(cdf).reshape(-1,1))\n",
        "    return torch.cat(sorts, dim=1), torch.cat(cdfs, dim=1)\n",
        "\n",
        "def pit_col(sorted_data, cdf_values, data):\n",
        "    # sorted_data = np.sort(org_data)\n",
        "    # cdf_values = np.arange(1, len(sorted_data) + 1) / len(sorted_data)\n",
        "    transformed_data = linear_interpolation(data, sorted_data, cdf_values)\n",
        "    return transformed_data.reshape(-1,1)\n",
        "\n",
        "def pit(sorted_data, cdf_values, data):\n",
        "    return torch.cat([pit_col(sorted_data[:,i], cdf_values[:,i], data[:, i]) for i in range(data.shape[1])], dim=1)\n",
        "\n",
        "def batch_pit_norm(X, gamma, beta, moving_sorted, moving_cdf, momentum):\n",
        "    # Use is_grad_enabled to determine whether we are in training mode\n",
        "    assert len(X.shape) in (2, 4)\n",
        "    shape  = X.shape\n",
        "    # X = X.to('cuda')\n",
        "    # moving_sorted = moving_sorted.to('cuda')\n",
        "    if len(shape) == 4:\n",
        "        X = torch.transpose(X,0,1).reshape(shape[1],-1)\n",
        "    if not torch.is_grad_enabled():\n",
        "        # In prediction mode, use mean and variance obtained by moving average\n",
        "        X_hat = pit(moving_sorted, moving_cdf, cdfs, X)\n",
        "    else:\n",
        "        sorts, cdfs = gen_sort_cdf(X)\n",
        "        X_hat = pit(sorts, cdfs, X)\n",
        "        # print('sort',moving_sorted.device,sorts.device)\n",
        "        # print('cdf',moving_cdf.device,cdfs.device)\n",
        "        moving_sorted = (1.0 - momentum) * moving_sorted + momentum * sorts\n",
        "        moving_cdf = (1.0 - momentum) * moving_cdf + momentum * cdfs\n",
        "    X_hat = X.reshape(shape)\n",
        "        # Update the mean and variance using moving average\n",
        "    # print(gamma.device,X_hat.device,beta.device)\n",
        "    Y = gamma * X_hat + beta  # Scale and shift\n",
        "    return Y, moving_sorted, moving_cdf\n",
        "\n",
        "class PitBatchNorm(nn.Module):\n",
        "    # num_features: the number of outputs for a fully connected layer or the\n",
        "    # number of output channels for a convolutional layer. num_dims: 2 for a\n",
        "    # fully connected layer and 4 for a convolutional layer\n",
        "    def __init__(self, num_features, num_dims):\n",
        "        super().__init__()\n",
        "        if num_dims == 2:\n",
        "            shape = (1, num_features)\n",
        "        else:\n",
        "            shape = (1, num_features, 1, 1)\n",
        "        # The scale parameter and the shift parameter (model parameters) are\n",
        "        # initialized to 1 and 0, respectively\n",
        "        self.gamma = nn.Parameter(torch.ones(shape)).to('cuda')\n",
        "        self.beta = nn.Parameter(torch.zeros(shape)).to('cuda')\n",
        "        # The variables that are not model parameters are initialized to 0\n",
        "        self.moving_sorted = torch.zeros(shape)\n",
        "        self.moving_cdf = torch.zeros(shape)\n",
        "\n",
        "    def forward(self, X):\n",
        "        # If X is not on the main memory, copy moving_mean and moving_var to\n",
        "        # the device where X is located\n",
        "        X = X.to('cuda')\n",
        "        if self.moving_sorted.device != X.device:\n",
        "            self.moving_sorted = self.moving_sorted.to(X.device)\n",
        "            self.moving_cdf = self.moving_cdf.to(X.device)\n",
        "        # print(self.moving_sorted.device,self.moving_cdf.device)\n",
        "        # Save the updated moving_mean and moving_var\n",
        "        Y, self.moving_sorted, self.moving_cdf = batch_pit_norm(\n",
        "            X, self.gamma, self.beta, self.moving_sorted,\n",
        "            self.moving_cdf, momentum=0.1)\n",
        "        return Y\n",
        "\n",
        "\n",
        "class PitBNLeNetScratch(d2l.Classifier):\n",
        "    def __init__(self, lr=0.1, num_classes=10, mean_flag=True):\n",
        "        super().__init__()\n",
        "        self.save_hyperparameters()\n",
        "        self.net = nn.Sequential(\n",
        "            nn.LazyConv2d(6, kernel_size=5), PitBatchNorm(6, num_dims=4),\n",
        "            nn.Sigmoid(), nn.AvgPool2d(kernel_size=2, stride=2),\n",
        "            nn.LazyConv2d(16, kernel_size=5), PitBatchNorm(16, num_dims=4),\n",
        "            nn.Sigmoid(), nn.AvgPool2d(kernel_size=2, stride=2),\n",
        "            nn.Flatten(), nn.LazyLinear(120),\n",
        "            # nn.Sigmoid(), nn.LazyLinear(84),\n",
        "            PitBatchNorm(120, num_dims=2), nn.Sigmoid(), nn.LazyLinear(84),\n",
        "            # nn.Sigmoid(),\n",
        "            PitBatchNorm(84, num_dims=2), nn.Sigmoid(),\n",
        "            nn.LazyLinear(num_classes))"
      ]
    },
    {
      "cell_type": "code",
      "execution_count": null,
      "id": "OvDyNnBLqnWs",
      "metadata": {
        "id": "OvDyNnBLqnWs"
      },
      "outputs": [],
      "source": [
        "model = PitBNLeNetScratch(lr=0.1)\n",
        "# stat_model_acc(model, data)\n",
        "model = model\n",
        "model = model.to('cuda')\n",
        "model.apply_init([next(iter(data.get_dataloader(True)))[0].to('cuda')], d2l.init_cnn)\n",
        "trainer = d2l.Trainer(max_epochs=10, num_gpus=1)\n",
        "trainer.fit(model, data)\n",
        "X,y = next(iter(data.get_dataloader(False)))\n",
        "X = X.to('cuda')\n",
        "y = y.to('cuda')\n",
        "y_hat = model(X)\n",
        "model.accuracy(y_hat,y).item()\n",
        "# print(X.shape)\n",
        "# for m in model.net:\n",
        "#   X = m(X)\n",
        "#   print(X.shape)"
      ]
    },
    {
      "cell_type": "markdown",
      "id": "c769YEeIqpc2",
      "metadata": {
        "id": "c769YEeIqpc2"
      },
      "source": [
        "### 7.2"
      ]
    },
    {
      "cell_type": "code",
      "execution_count": null,
      "id": "RtJs4G3Wq36B",
      "metadata": {
        "id": "RtJs4G3Wq36B"
      },
      "outputs": [],
      "source": [
        "def batch_frcov_norm(X, gamma, beta, moving_cov_matrix, momentum):\n",
        "    # Use is_grad_enabled to determine whether we are in training mode\n",
        "    assert len(X.shape) in (2, 4)\n",
        "    shape  = X.shape\n",
        "    if len(shape) == 4:\n",
        "        X = torch.transpose(X,0,1).reshape(shape[1],-1)\n",
        "    if not torch.is_grad_enabled():\n",
        "        # In prediction mode, use mean and variance obtained by moving average\n",
        "        eigenvalues, eigenvectors = torch.linalg.eig(moving_cov_matrix)\n",
        "        X_hat = X @ eigenvectors.type(torch.float32)\n",
        "    else:\n",
        "        centered_data = X - X.mean(dim=0)\n",
        "        cov_matrix = (centered_data.conj().T @ centered_data) / (X.shape[0] - 1)\n",
        "        eigenvalues, eigenvectors = torch.linalg.eig(cov_matrix)\n",
        "        X_hat = X @ eigenvectors.type(torch.float32)\n",
        "        moving_cov_matrix = (1.0 - momentum) * moving_cov_matrix + momentum * cov_matrix\n",
        "    X_hat = X.reshape(shape)\n",
        "        # Update the mean and variance using moving average\n",
        "    Y = gamma * X_hat + beta  # Scale and shift\n",
        "    return Y, moving_cov_matrix\n",
        "\n",
        "class FrcovBatchNorm(nn.Module):\n",
        "    # num_features: the number of outputs for a fully connected layer or the\n",
        "    # number of output channels for a convolutional layer. num_dims: 2 for a\n",
        "    # fully connected layer and 4 for a convolutional layer\n",
        "    def __init__(self, num_features, num_dims):\n",
        "        super().__init__()\n",
        "        if num_dims == 2:\n",
        "            shape = (1, num_features)\n",
        "        else:\n",
        "            shape = (1, num_features, 1, 1)\n",
        "        # The scale parameter and the shift parameter (model parameters) are\n",
        "        # initialized to 1 and 0, respectively\n",
        "        self.gamma = nn.Parameter(torch.ones(shape))\n",
        "        self.beta = nn.Parameter(torch.zeros(shape))\n",
        "        # The variables that are not model parameters are initialized to 0\n",
        "        self.moving_cov_matrix = torch.zeros(shape)\n",
        "\n",
        "    def forward(self, X):\n",
        "        # If X is not on the main memory, copy moving_mean and moving_var to\n",
        "        # the device where X is located\n",
        "        if self.moving_cov_matrix.device != X.device:\n",
        "            self.moving_cov_matrix = self.moving_cov_matrix.to(X.device)\n",
        "        # Save the updated moving_mean and moving_var\n",
        "        Y, self.moving_cov_matrix = batch_frcov_norm(\n",
        "            X, self.gamma, self.beta, self.moving_cov_matrix,\n",
        "            momentum=0.1)\n",
        "        return Y\n",
        "\n",
        "\n",
        "class FrcovBNLeNetScratch(d2l.Classifier):\n",
        "    def __init__(self, lr=0.1, num_classes=10, mean_flag=True):\n",
        "        super().__init__()\n",
        "        self.save_hyperparameters()\n",
        "        self.net = nn.Sequential(\n",
        "            nn.LazyConv2d(6, kernel_size=5), FrcovBatchNorm(6, num_dims=4),\n",
        "            nn.Sigmoid(), nn.AvgPool2d(kernel_size=2, stride=2),\n",
        "            nn.LazyConv2d(16, kernel_size=5), FrcovBatchNorm(6, num_dims=4),\n",
        "            nn.Sigmoid(), nn.AvgPool2d(kernel_size=2, stride=2),\n",
        "            nn.Flatten(), nn.LazyLinear(120),\n",
        "            FrcovBatchNorm(6, num_dims=4), nn.Sigmoid(), nn.LazyLinear(84),\n",
        "            FrcovBatchNorm(6, num_dims=4), nn.Sigmoid(),\n",
        "            nn.LazyLinear(num_classes))"
      ]
    },
    {
      "cell_type": "code",
      "execution_count": null,
      "id": "MANnRZ2cq46l",
      "metadata": {
        "id": "MANnRZ2cq46l"
      },
      "outputs": [],
      "source": [
        "model = FrcovBNLeNetScratch(lr=0.1)"
      ]
    },
    {
      "cell_type": "markdown",
      "id": "0eNplSITq8LV",
      "metadata": {
        "id": "0eNplSITq8LV"
      },
      "source": [
        "### 7.3"
      ]
    },
    {
      "cell_type": "code",
      "execution_count": null,
      "id": "gZxHysP5q9nm",
      "metadata": {
        "id": "gZxHysP5q9nm"
      },
      "outputs": [],
      "source": [
        "def batch_bdcov_norm(X, gamma, beta, moving_cov_matrix, momentum):\n",
        "    # Use is_grad_enabled to determine whether we are in training mode\n",
        "    assert len(X.shape) in (2, 4)\n",
        "    shape  = X.shape\n",
        "    if len(shape) == 4:\n",
        "        X = torch.transpose(X,0,1).reshape(shape[1],-1)\n",
        "    if not torch.is_grad_enabled():\n",
        "        # In prediction mode, use mean and variance obtained by moving average\n",
        "        diagonal_matrix = torch.diag_embed(moving_cov_matrix)\n",
        "        block_diagonal_matrix = torch.sum(diagonal_matrix, dim=0)\n",
        "        X_hat = X @ block_diagonal_matrix\n",
        "    else:\n",
        "        centered_data = X - X.mean(dim=0)\n",
        "        cov_matrix = (centered_data.conj().T @ centered_data) / (X.shape[0] - 1)\n",
        "        diagonal_matrix = torch.diag_embed(moving_cov_matrix)\n",
        "        block_diagonal_matrix = torch.sum(diagonal_matrix, dim=0)\n",
        "        X_hat = X @ block_diagonal_matrix\n",
        "        moving_cov_matrix = (1.0 - momentum) * moving_cov_matrix + momentum * cov_matrix\n",
        "    X_hat = X.reshape(shape)\n",
        "        # Update the mean and variance using moving average\n",
        "    Y = gamma * X_hat + beta  # Scale and shift\n",
        "    return Y, moving_cov_matrix\n",
        "\n",
        "class BdcovBatchNorm(nn.Module):\n",
        "    # num_features: the number of outputs for a fully connected layer or the\n",
        "    # number of output channels for a convolutional layer. num_dims: 2 for a\n",
        "    # fully connected layer and 4 for a convolutional layer\n",
        "    def __init__(self, num_features, num_dims):\n",
        "        super().__init__()\n",
        "        if num_dims == 2:\n",
        "            shape = (1, num_features)\n",
        "        else:\n",
        "            shape = (1, num_features, 1, 1)\n",
        "        # The scale parameter and the shift parameter (model parameters) are\n",
        "        # initialized to 1 and 0, respectively\n",
        "        self.gamma = nn.Parameter(torch.ones(shape))\n",
        "        self.beta = nn.Parameter(torch.zeros(shape))\n",
        "        # The variables that are not model parameters are initialized to 0\n",
        "        self.moving_cov_matrix = torch.zeros(shape)\n",
        "\n",
        "    def forward(self, X):\n",
        "        # If X is not on the main memory, copy moving_mean and moving_var to\n",
        "        # the device where X is located\n",
        "        if self.moving_cov_matrix.device != X.device:\n",
        "            self.moving_cov_matrix = self.moving_cov_matrix.to(X.device)\n",
        "        # Save the updated moving_mean and moving_var\n",
        "        Y, self.moving_cov_matrix = batch_bdcov_norm(\n",
        "            X, self.gamma, self.beta, self.moving_cov_matrix,\n",
        "            momentum=0.1)\n",
        "        return Y\n",
        "\n",
        "\n",
        "class BdcovBNLeNetScratch(d2l.Classifier):\n",
        "    def __init__(self, lr=0.1, num_classes=10, mean_flag=True):\n",
        "        super().__init__()\n",
        "        self.save_hyperparameters()\n",
        "        self.net = nn.Sequential(\n",
        "            nn.LazyConv2d(6, kernel_size=5), BdcovBatchNorm(6, num_dims=4),\n",
        "            nn.Sigmoid(), nn.AvgPool2d(kernel_size=2, stride=2),\n",
        "            nn.LazyConv2d(16, kernel_size=5), BdcovBatchNorm(6, num_dims=4),\n",
        "            nn.Sigmoid(), nn.AvgPool2d(kernel_size=2, stride=2),\n",
        "            nn.Flatten(), nn.LazyLinear(120),\n",
        "            BdcovBatchNorm(6, num_dims=4), nn.Sigmoid(), nn.LazyLinear(84),\n",
        "            BdcovBatchNorm(6, num_dims=4), nn.Sigmoid(),\n",
        "            nn.LazyLinear(num_classes))"
      ]
    },
    {
      "cell_type": "markdown",
      "id": "uQvs62TErB0W",
      "metadata": {
        "id": "uQvs62TErB0W"
      },
      "source": [
        "### 7.4"
      ]
    },
    {
      "cell_type": "markdown",
      "id": "ZA4-qKiAvPRQ",
      "metadata": {
        "id": "ZA4-qKiAvPRQ"
      },
      "source": [
        "Ya, kompresi sparsifikasi dapat berfungsi sebagai bentuk regulasi dalam model pembelajaran mesin. Sparsifikasi mengubah beberapa bobot dalam model menjadi nol, menghasilkan representasi yang jarang, yang membantu:\n",
        "\n",
        "1. **Mengurangi Kompleksitas Model**: Model menjadi lebih sederhana dan fokus pada fitur relevan, menghindari noise dari data pelatihan.\n",
        "\n",
        "2. **Mencegah Overfitting**: Dengan lebih sedikit parameter, model kurang rentan terhadap overfitting, sehingga lebih baik dalam generalisasi pada data baru.\n",
        "\n",
        "3. **Meningkatkan Generalisasi**: Mendorong fokus pada fitur informatif, meningkatkan kinerja pada data yang tidak terlihat.\n",
        "\n",
        "4. **Meningkatkan Interpretabilitas**: Model yang jarang lebih mudah diinterpretasikan, membantu memahami fitur yang berpengaruh.\n",
        "\n",
        "5. **Meningkatkan Efisiensi**: Mengurangi perhitungan selama inferensi, bermanfaat untuk lingkungan terbatas sumber daya.\n",
        "\n",
        "Meskipun bermanfaat, derajat regulasi tergantung pada metode sparsifikasi yang digunakan dan karakteristik spesifik dari masalah dan dataset."
      ]
    },
    {
      "cell_type": "markdown",
      "id": "JEU643h8vQ9U",
      "metadata": {
        "id": "JEU643h8vQ9U"
      },
      "source": [
        "### 7.5"
      ]
    },
    {
      "cell_type": "markdown",
      "id": "OTKpPrUcvSW1",
      "metadata": {
        "id": "OTKpPrUcvSW1"
      },
      "source": [
        "Ya, ada beberapa jenis proyeksi dan transformasi lain yang dapat digunakan dalam berbagai konteks matematika dan komputasi. Proyeksi ini sering digunakan untuk mencapai sifat, struktur, atau batasan tertentu pada data atau objek matematika. Berikut beberapa contohnya:\n",
        "\n",
        "1. **Proyeksi Kerucut Konveks**: Proyeksi ini mencari titik terdekat dalam kerucut konveks untuk sebuah vektor tertentu, sering digunakan dalam masalah optimasi yang memiliki batasan tertentu.\n",
        "\n",
        "2. **Transformasi Spesifik Grup Simetri**: Dalam beberapa aplikasi, transformasi data harus menghormati simetri tertentu, seperti dalam kristalografi dengan transformasi Fourier untuk mengungkap simetri kisi kristal.\n",
        "\n",
        "3. **Proyeksi Ortogonal**: Menemukan titik terdekat dalam subruang untuk sebuah vektor tertentu, umumnya digunakan dalam aljabar linear dan optimasi.\n",
        "\n",
        "4. **Kuantisasi**: Operasi yang memetakan nilai kontinu ke set nilai diskrit, sering digunakan dalam pemrosesan sinyal dan kompresi data untuk mengurangi jumlah nilai tanpa kehilangan informasi.\n",
        "\n",
        "5. **Penyematan Manifold**: Teknik pembelajaran manifold yang mengembed data berdimensi tinggi ke dalam ruang berdimensi lebih rendah sambil mempertahankan sifat tertentu, seperti Isomap dan t-SNE.\n",
        "\n",
        "6. **Masalah Prokrustes Ortogonal**: Menemukan transformasi ortogonal yang paling baik untuk menyelaraskan dua set titik, sering digunakan dalam grafik komputer dan analisis bentuk.\n",
        "\n",
        "Pilihan proyeksi atau transformasi bergantung pada masalah yang dihadapi dan sifat atau batasan spesifik yang ingin dicapai."
      ]
    },
    {
      "cell_type": "markdown",
      "id": "phbWfGHUvcyf",
      "metadata": {
        "id": "phbWfGHUvcyf"
      },
      "source": [
        "# Jawaban 8.6"
      ]
    },
    {
      "cell_type": "markdown",
      "id": "2YIG5Fueve0U",
      "metadata": {
        "id": "2YIG5Fueve0U"
      },
      "source": [
        "## 1"
      ]
    },
    {
      "cell_type": "markdown",
      "id": "Jrerq7iovjA5",
      "metadata": {
        "id": "Jrerq7iovjA5"
      },
      "source": [
        "Blok Inception dan blok residual adalah dua komponen arsitektur yang berbeda yang umum digunakan dalam jaringan saraf dalam untuk berbagai tugas, termasuk klasifikasi gambar. Berikut adalah perbandingan utama antara blok Inception (juga dikenal sebagai modul Inception GoogLeNet) dan blok residual (digunakan dalam arsitektur ResNet):\n",
        "\n",
        "1. Blok Inception (Modul Inception GoogLeNet)\n",
        "- **Konvolusi Paralel**: Terdapat beberapa lapisan konvolusi dengan ukuran kernel berbeda (misalnya, 1x1, 3x3, 5x5) untuk menangkap fitur pada skala yang berbeda.\n",
        "- **Operasi Pooling**: Menyertakan operasi pooling, seperti max-pooling, untuk mengurangi dimensi spasial dan menangkap invariansi translasi.\n",
        "- **Konsolidasi**: Output dari konvolusi dan operasi pooling digabungkan sepanjang dimensi saluran untuk menangkap set fitur yang beragam.\n",
        "\n",
        "2. Blok Residual\n",
        "- **Koneksi Melompati (Skip Connections)**: Menambahkan input asli ke output lapisan konvolusi, menciptakan jalur \"residual\" untuk aliran informasi secara langsung.\n",
        "- **Pemetaan Identitas**: Memungkinkan model untuk menyesuaikan bobot konvolusi untuk merepresentasikan selisih antara input dan output, membantu mengatasi masalah vanishing gradient.\n",
        "- **Normalisasi Batch**: Sering menyertakan normalisasi batch setelah setiap lapisan konvolusi untuk menstabilkan dan mempercepat pelatihan.\n",
        "- **Pembelajaran Dua Jalur**: Belajar transformasi residual yang merupakan kombinasi dari \"apa yang harus ditambahkan\" dan \"apa yang harus dipertahankan\".\n",
        "\n",
        "Kesimpulan :\n",
        "Perbedaan utama antara blok Inception dan blok residual terletak pada tujuan arsitektural dan prinsip desainnya. Blok Inception fokus pada penangkapan fitur pada skala yang berbeda menggunakan operasi paralel, sedangkan blok residual fokus pada memungkinkan pelatihan jaringan yang sangat dalam dengan memperkenalkan koneksi melompati yang memfasilitasi pembelajaran transformasi residual. Keduanya telah berkontribusi besar dalam meningkatkan kemampuan jaringan saraf dalam untuk berbagai tugas."
      ]
    },
    {
      "cell_type": "markdown",
      "id": "Gk4ClavKvxNg",
      "metadata": {
        "id": "Gk4ClavKvxNg"
      },
      "source": [
        "## 2"
      ]
    },
    {
      "cell_type": "code",
      "execution_count": null,
      "id": "Lps_JRKyvzA0",
      "metadata": {
        "id": "Lps_JRKyvzA0"
      },
      "outputs": [],
      "source": [
        "import torch.nn.functional as F\n",
        "\n",
        "class Residual(nn.Module):\n",
        "    def __init__(self, convs, conv_1x1_channel, strides=1):\n",
        "        super().__init__()\n",
        "        layers = []\n",
        "        for i,conv in enumerate(convs):\n",
        "            num_channels, kernel_size, padding = conv\n",
        "            conv_strides = 1 if i != 0 else strides\n",
        "            layers.append(nn.LazyConv2d(num_channels, kernel_size=3, padding=1, stride=conv_strides))\n",
        "            layers.append(nn.LazyBatchNorm2d())\n",
        "            layers.append(nn.ReLU())\n",
        "        self.net = nn.Sequential(*layers[:-1])\n",
        "        self.conv = None\n",
        "        if conv_1x1_channel:\n",
        "            self.conv = nn.LazyConv2d(conv_1x1_channel, kernel_size=1, stride=strides)\n",
        "\n",
        "\n",
        "    def forward(self, X):\n",
        "        Y = self.net(X)\n",
        "        if self.conv:\n",
        "            X = self.conv(X)\n",
        "        Y += X\n",
        "        return F.relu(Y)\n",
        "\n",
        "class ResNet(d2l.Classifier):\n",
        "    def block(self, num_residuals, convs, conv_1x1_channel, first_block=False):\n",
        "        blk = []\n",
        "        for i in range(num_residuals):\n",
        "            if i == 0 and not first_block:\n",
        "                blk.append(Residual(convs, conv_1x1_channel,strides=2))\n",
        "            else:\n",
        "                blk.append(Residual(convs, conv_1x1_channel))\n",
        "        return nn.Sequential(*blk)\n",
        "\n",
        "    def __init__(self, arch, lr=0.1, num_classes=10):\n",
        "        super().__init__()\n",
        "        self.save_hyperparameters()\n",
        "        self.net = nn.Sequential(\n",
        "            nn.LazyConv2d(64, kernel_size=7, stride=2, padding=3),\n",
        "            nn.LazyBatchNorm2d(), nn.ReLU(),\n",
        "            nn.MaxPool2d(kernel_size=3, stride=2, padding=1))\n",
        "        for i, b in enumerate(arch):\n",
        "            self.net.add_module(f'b{i+2}', self.block(*b, first_block=(i==0)))\n",
        "        self.net.add_module('last', nn.Sequential(\n",
        "            nn.AdaptiveAvgPool2d((1, 1)), nn.Flatten(),\n",
        "            nn.LazyLinear(num_classes)))\n",
        "        self.net.apply(d2l.init_cnn)\n",
        "\n",
        "def experiment(data, model):\n",
        "    model.apply_init([next(iter(data.get_dataloader(True)))[0]], d2l.init_cnn)\n",
        "    trainer = d2l.Trainer(max_epochs=10, num_gpus=1)\n",
        "    trainer.fit(model, data)\n",
        "    X,y = next(iter(data.get_dataloader(False)))\n",
        "    X = X.to('cuda')\n",
        "    y = y.to('cuda')\n",
        "    y_hat = model(X)\n",
        "    return model.accuracy(y_hat,y).item()"
      ]
    },
    {
      "cell_type": "code",
      "execution_count": null,
      "id": "HN-1c8Pgv1k4",
      "metadata": {
        "id": "HN-1c8Pgv1k4"
      },
      "outputs": [],
      "source": [
        "data = d2l.FashionMNIST(batch_size=64, resize=(224, 224))\n",
        "arch18 = [(2,[(64,3,1)]*2,None),(2,[(128,3,1)]*2,None),(2,[(256,3,1)]*2,None),(2,[(512,3,1)]*2,None)]\n",
        "resnet18 = ResNet(arch=arch18, lr=0.01)\n",
        "# experiment(data, resnet18)"
      ]
    },
    {
      "source": [
        "class Residual(nn.Module):\n",
        "    def __init__(self, convs, conv_1x1_channel, strides=1):\n",
        "        super().__init__()\n",
        "        layers = []\n",
        "        for i,conv in enumerate(convs):\n",
        "            num_channels, kernel_size, padding = conv\n",
        "            conv_strides = 1 if i != 0 else strides\n",
        "            layers.append(nn.LazyConv2d(num_channels, kernel_size=3, padding=1, stride=conv_strides))\n",
        "            layers.append(nn.LazyBatchNorm2d())\n",
        "            layers.append(nn.ReLU())\n",
        "        self.net = nn.Sequential(*layers[:-1])\n",
        "        self.conv = None\n",
        "        if conv_1x1_channel:\n",
        "            # Apply a 1x1 convolution to the shortcut connection to match the output dimensions if necessary\n",
        "            self.conv = nn.LazyConv2d(conv_1x1_channel, kernel_size=1, stride=strides)\n",
        "\n",
        "\n",
        "    def forward(self, X):\n",
        "        Y = self.net(X)\n",
        "        if self.conv:\n",
        "            # Adjust the shortcut connection's dimensions using the 1x1 convolution\n",
        "            X = self.conv(X)\n",
        "        Y += X\n",
        "        return F.relu(Y)"
      ],
      "cell_type": "code",
      "metadata": {
        "id": "p5ez_21mSLS6"
      },
      "id": "p5ez_21mSLS6",
      "execution_count": null,
      "outputs": []
    },
    {
      "cell_type": "code",
      "execution_count": null,
      "id": "O395PsNRv3QM",
      "metadata": {
        "id": "O395PsNRv3QM"
      },
      "outputs": [],
      "source": [
        "arch34 = [(3,[(64,3,1)]*2,None),(4,[(128,3,1)]*2,None),(6,[(256,3,1)]*2,None),(3,[(512,3,1)]*2,None)]\n",
        "resnet34 = ResNet(arch=arch34, lr=0.01)\n",
        "experiment(data, resnet34)"
      ]
    },
    {
      "cell_type": "markdown",
      "id": "EF1KznKcv45o",
      "metadata": {
        "id": "EF1KznKcv45o"
      },
      "source": [
        "## 3"
      ]
    },
    {
      "cell_type": "code",
      "execution_count": null,
      "id": "G_7WzAXDv6cl",
      "metadata": {
        "id": "G_7WzAXDv6cl"
      },
      "outputs": [],
      "source": [
        "arch50 = [(3,[(64,1,0),(64,3,1)],256),(4,[(128,1,0),(128,3,1)],512),(6,[(256,1,0),(256,3,1)],1024),(3,[(512,1,0),(512,3,1)],2048)]\n",
        "resnet50 = ResNet(arch=arch50, lr=0.01)\n",
        "experiment(data, resnet50)"
      ]
    },
    {
      "cell_type": "code",
      "execution_count": null,
      "id": "9dwGH8_Xv7_B",
      "metadata": {
        "id": "9dwGH8_Xv7_B"
      },
      "outputs": [],
      "source": [
        "arch101 = [(3,[(64,1,0),(64,3,1)],256),(4,[(128,1,0),(128,3,1)],512),(23,[(256,1,0),(256,3,1)],1024),(3,[(512,1,0),(512,3,1)],2048)]\n",
        "resnet101 = ResNet(arch=arch101, lr=0.01)\n",
        "experiment(data, resnet101)"
      ]
    },
    {
      "cell_type": "code",
      "execution_count": null,
      "id": "qK5wOr7Iv9as",
      "metadata": {
        "id": "qK5wOr7Iv9as"
      },
      "outputs": [],
      "source": [
        "arch152 = [(3,[(64,1,0),(64,3,1)],256),(8,[(128,1,0),(128,3,1)],512),(36,[(256,1,0),(256,3,1)],1024),(3,[(512,1,0),(512,3,1)],2048)]\n",
        "resnet152 = ResNet(arch=arch152, lr=0.01)\n",
        "experiment(data, resnet152)"
      ]
    },
    {
      "cell_type": "markdown",
      "id": "UKGyYltSv_e9",
      "metadata": {
        "id": "UKGyYltSv_e9"
      },
      "source": [
        "## 4"
      ]
    },
    {
      "cell_type": "code",
      "execution_count": null,
      "id": "JoikdVbEwAje",
      "metadata": {
        "id": "JoikdVbEwAje"
      },
      "outputs": [],
      "source": [
        "class SubResidual(nn.Module):\n",
        "    def __init__(self, convs, conv_1x1_channel, strides=1):\n",
        "        super().__init__()\n",
        "        layers = []\n",
        "        for i,conv in enumerate(convs):\n",
        "            num_channels, kernel_size, padding = conv\n",
        "            conv_strides = 1 if i != 0 else strides\n",
        "            layers.append(nn.LazyBatchNorm2d())\n",
        "            layers.append(nn.ReLU())\n",
        "            layers.append(nn.LazyConv2d(num_channels, kernel_size=3, padding=1, stride=conv_strides))\n",
        "        self.net = nn.Sequential(*layers[:-1])\n",
        "        self.conv = None\n",
        "        if conv_1x1_channel:\n",
        "            self.conv = nn.LazyConv2d(conv_1x1_channel, kernel_size=1, stride=strides)\n",
        "\n",
        "\n",
        "    def forward(self, X):\n",
        "        Y = self.net(X)\n",
        "        if self.conv:\n",
        "            X = self.conv(X)\n",
        "        Y += X\n",
        "        return F.relu(Y)\n",
        "\n",
        "class SubResNet(d2l.Classifier):\n",
        "    def block(self, num_residuals, convs, conv_1x1_channel, first_block=False):\n",
        "        blk = []\n",
        "        for i in range(num_residuals):\n",
        "            if i == 0 and not first_block:\n",
        "                blk.append(SubResidual(convs, conv_1x1_channel,strides=2))\n",
        "            else:\n",
        "                blk.append(SubResidual(convs, conv_1x1_channel))\n",
        "        return nn.Sequential(*blk)\n",
        "\n",
        "    def __init__(self, arch, lr=0.1, num_classes=10):\n",
        "        super().__init__()\n",
        "        self.save_hyperparameters()\n",
        "        self.net = nn.Sequential(\n",
        "            nn.LazyConv2d(64, kernel_size=7, stride=2, padding=3),\n",
        "            nn.LazyBatchNorm2d(), nn.ReLU(),\n",
        "            nn.MaxPool2d(kernel_size=3, stride=2, padding=1))\n",
        "        for i, b in enumerate(arch):\n",
        "            self.net.add_module(f'b{i+2}', self.block(*b, first_block=(i==0)))\n",
        "        self.net.add_module('last', nn.Sequential(\n",
        "            nn.AdaptiveAvgPool2d((1, 1)), nn.Flatten(),\n",
        "            nn.LazyLinear(num_classes)))\n",
        "        self.net.apply(d2l.init_cnn)"
      ]
    },
    {
      "cell_type": "code",
      "execution_count": null,
      "id": "1LNg_Up-wDdY",
      "metadata": {
        "id": "1LNg_Up-wDdY"
      },
      "outputs": [],
      "source": [
        "arch18 = [(2,[(64,3,1)]*2,None),(2,[(128,3,1)]*2,None),(2,[(256,3,1)]*2,None),(2,[(512,3,1)]*2,None)]\n",
        "resnet18 = SubResNet(arch=arch18, lr=0.01)\n",
        "experiment(data, resnet18)"
      ]
    },
    {
      "cell_type": "markdown",
      "id": "NQXQgw__ztk3",
      "metadata": {
        "id": "NQXQgw__ztk3"
      },
      "source": [
        "## 5"
      ]
    },
    {
      "cell_type": "markdown",
      "id": "fMmlSc-5z3h_",
      "metadata": {
        "id": "fMmlSc-5z3h_"
      },
      "source": [
        "Meningkatkan kompleksitas fungsi tanpa batas, bahkan dengan menggunakan kelas fungsi bersarang, dapat menyebabkan beberapa masalah dalam pembelajaran mesin dan pelatihan model. Berikut adalah beberapa tantangan utama yang muncul:\n",
        "\n",
        "1. **Overfitting**: Kompleksitas model yang tinggi dapat menyebabkan model menyesuaikan diri dengan noise dalam data pelatihan, menghasilkan performa yang baik pada data pelatihan tetapi buruk pada data yang belum terlihat.\n",
        "\n",
        "2. **Kompleksitas Komputasi**: Model yang kompleks dengan banyak parameter membutuhkan lebih banyak sumber daya komputasi dan waktu untuk pelatihan dan inferensi, yang dapat menyebabkan tantangan praktis terkait waktu pelatihan, penggunaan memori, dan skalabilitas.\n",
        "\n",
        "3. **Pengembalian Menurun**: Menambah kompleksitas model tidak selalu memberikan peningkatan kinerja yang sebanding. Ada titik di mana penambahan kompleksitas hanya memberikan peningkatan akurasi yang marginal.\n",
        "\n",
        "4. **Generalisasi**: Tujuan utama model adalah untuk dapat digeneralisasi dengan baik ke data baru. Jika model terlalu kompleks, model dapat terlalu terfokus pada data pelatihan dan gagal dalam menggeneralisasi instance baru.\n",
        "\n",
        "5. **Tantangan Regularisasi**: Tanpa teknik regularisasi yang tepat, peningkatan kompleksitas dapat memperburuk masalah overfitting. Regularisasi membantu mengontrol kompleksitas model.\n",
        "\n",
        "6. **Interpretabilitas**: Model yang sangat kompleks menjadi sulit untuk diinterpretasikan, sehingga menyulitkan pemahaman proses pengambilan keputusan dan diagnosis masalah.\n",
        "\n",
        "7. **Efisiensi Data**: Model yang lebih sederhana seringkali lebih efisien dalam penggunaan data. Model yang sangat kompleks mungkin memerlukan jumlah data pelatihan yang besar untuk dapat digeneralisasi dengan baik.\n",
        "\n",
        "8. **Trade-off Bias-Variance**: Meningkatkan kompleksitas model mempengaruhi keseimbangan antara bias (underfitting) dan varians (overfitting). Menemukan keseimbangan yang tepat sangat penting untuk kinerja yang baik.\n",
        "\n",
        "Sebagai alternatif kompleksitas yang tidak terbatas, lebih efektif untuk memilih arsitektur model yang menemukan keseimbangan yang tepat antara kapasitas dan generalisasi. Teknik seperti regularisasi, cross-validation, dan metode ensemble dapat membantu meningkatkan kinerja model tanpa meningkatkan kompleksitas secara berlebihan. Tujuannya adalah membangun model yang dapat menangkap pola mendasar dalam data sambil menghindari overfitting dan inefisiensi komputasi."
      ]
    },
    {
      "cell_type": "markdown",
      "id": "Wslm-QABz6SV",
      "metadata": {
        "id": "Wslm-QABz6SV"
      },
      "source": [
        "# Jawaban 8.7"
      ]
    },
    {
      "cell_type": "code",
      "execution_count": null,
      "id": "pQN10P6D0M_l",
      "metadata": {
        "id": "pQN10P6D0M_l"
      },
      "outputs": [],
      "source": [
        "import torch\n",
        "import torch.nn as nn\n",
        "from torch.nn import functional as F\n",
        "import sys\n",
        "from d2l import torch as d2l\n",
        "from torchsummary import summary\n",
        "\n",
        "def conv_block(num_channels):\n",
        "    return nn.Sequential(\n",
        "        nn.LazyBatchNorm2d(), nn.ReLU(),\n",
        "        nn.LazyConv2d(num_channels, kernel_size=3, padding=1))\n",
        "\n",
        "def transition_block(num_channels):\n",
        "    return nn.Sequential(\n",
        "        nn.LazyBatchNorm2d(), nn.ReLU(),\n",
        "        nn.LazyConv2d(num_channels, kernel_size=1),\n",
        "        nn.AvgPool2d(kernel_size=2, stride=2))\n",
        "\n",
        "class DenseBlock(nn.Module):\n",
        "    def __init__(self, num_convs, num_channels):\n",
        "        super(DenseBlock, self).__init__()\n",
        "        layer = []\n",
        "        for i in range(num_convs):\n",
        "            layer.append(conv_block(num_channels))\n",
        "        self.net = nn.Sequential(*layer)\n",
        "\n",
        "    def forward(self, X):\n",
        "        for blk in self.net:\n",
        "            Y = blk(X)\n",
        "            # Concatenate input and output of each block along the channels\n",
        "            X = torch.cat((X, Y), dim=1)\n",
        "        return X\n",
        "\n",
        "class DenseNet(d2l.Classifier):\n",
        "    def b1(self):\n",
        "        return nn.Sequential(\n",
        "            nn.LazyConv2d(64, kernel_size=7, stride=2, padding=3),\n",
        "            nn.LazyBatchNorm2d(), nn.ReLU(),\n",
        "            nn.MaxPool2d(kernel_size=3, stride=2, padding=1))\n",
        "\n",
        "    def __init__(self, num_channels=64, growth_rate=32, arch=(4, 4, 4, 4),\n",
        "                 lr=0.1, num_classes=10):\n",
        "        super(DenseNet, self).__init__()\n",
        "        self.save_hyperparameters()\n",
        "        self.net = nn.Sequential(self.b1())\n",
        "        for i, num_convs in enumerate(arch):\n",
        "            self.net.add_module(f'dense_blk{i+1}', DenseBlock(num_convs,\n",
        "                                                              growth_rate))\n",
        "            # The number of output channels in the previous dense block\n",
        "            num_channels += num_convs * growth_rate\n",
        "            # A transition layer that halves the number of channels is added\n",
        "            # between the dense blocks\n",
        "            if i != len(arch) - 1:\n",
        "                num_channels //= 2\n",
        "                self.net.add_module(f'tran_blk{i+1}', transition_block(\n",
        "                    num_channels))\n",
        "        self.net.add_module('last', nn.Sequential(\n",
        "            nn.LazyBatchNorm2d(), nn.ReLU(),\n",
        "            nn.AdaptiveAvgPool2d((1, 1)), nn.Flatten(),\n",
        "            nn.LazyLinear(num_classes)))\n",
        "        self.net.apply(d2l.init_cnn)"
      ]
    },
    {
      "cell_type": "markdown",
      "id": "A7wvM1vzz-Zb",
      "metadata": {
        "id": "A7wvM1vzz-Zb"
      },
      "source": [
        "## 1"
      ]
    },
    {
      "cell_type": "markdown",
      "id": "L5BRTCYY3Kyf",
      "metadata": {
        "id": "L5BRTCYY3Kyf"
      },
      "source": [
        "Dalam arsitektur DenseNet, lapisan transisi digunakan untuk mengurangi dimensi spasial (lebar dan tinggi) dari peta fitur serta mengurangi jumlah peta fitur (saluran) sebelum diteruskan ke blok dense berikutnya. Pilihan antara average pooling dan max-pooling dalam lapisan transisi bergantung pada tujuan desain dan sifat yang diinginkan dari jaringan. Average pooling sering dipilih daripada max-pooling dalam DenseNet karena beberapa alasan:\n",
        "\n",
        "1. **Retensi Fitur**: Average pooling menghitung nilai rata-rata elemen dalam suatu area pooling, yang mempertahankan lebih banyak informasi dibandingkan dengan max-pooling yang hanya memilih nilai maksimum.\n",
        "\n",
        "2. **Efek Perataan**: Average pooling memberikan efek perataan pada peta fitur output, membantu mengurangi risiko overfitting dengan mencegah jaringan terlalu sensitif terhadap detail spesifik dalam data.\n",
        "\n",
        "3. **Stabilitas**: Average pooling kurang sensitif terhadap outlier dibandingkan max-pooling, sehingga membuat jaringan lebih tahan terhadap noise atau variasi dalam data input.\n",
        "\n",
        "4. **Invariansi Translasi**: Average pooling memberikan tingkat invariansi translasi dengan mempertimbangkan distribusi nilai secara keseluruhan di area pooling, berguna saat translasi kecil pada input tidak boleh mempengaruhi output secara signifikan.\n",
        "\n",
        "5. **Berbagi Informasi**: Average pooling mendorong berbagi informasi di antara piksel atau unit tetangga, membantu menangkap pola dan struktur global dalam data input.\n",
        "\n",
        "Walaupun average pooling lebih disukai dalam lapisan transisi, max-pooling tetap memiliki keunggulan dalam konteks tertentu, seperti dalam arsitektur jaringan syaraf konvolusional (CNN) yang lebih mengutamakan fitur lokal. Namun, dalam konteks DenseNet, yang menekankan pada pemeliharaan aliran informasi yang kaya dan mengurangi risiko kehilangan informasi, average pooling lebih sesuai dengan prinsip arsitekturnya.\n",
        "\n",
        "Akhirnya, pilihan antara average pooling dan max-pooling tergantung pada tujuan spesifik jaringan, karakteristik data, dan filosofi desain secara keseluruhan."
      ]
    },
    {
      "cell_type": "markdown",
      "id": "GBEg1y7P3O60",
      "metadata": {
        "id": "GBEg1y7P3O60"
      },
      "source": [
        "## 2"
      ]
    },
    {
      "source": [
        "import torch\n",
        "import torch.nn as nn\n",
        "from torch.nn import functional as F\n",
        "import sys\n",
        "from d2l import torch as d2l\n",
        "from torchsummary import summary\n",
        "\n",
        "def conv_block(num_channels):\n",
        "    return nn.Sequential(\n",
        "        nn.LazyBatchNorm2d(), nn.ReLU(),\n",
        "        nn.LazyConv2d(num_channels, kernel_size=3, padding=1))\n",
        "\n",
        "def transition_block(num_channels):\n",
        "    return nn.Sequential(\n",
        "        nn.LazyBatchNorm2d(), nn.ReLU(),\n",
        "        nn.LazyConv2d(num_channels, kernel_size=1),\n",
        "        nn.AvgPool2d(kernel_size=2, stride=2))\n",
        "\n",
        "class DenseBlock(nn.Module):\n",
        "    def __init__(self, num_convs, num_channels):\n",
        "        super(DenseBlock, self).__init__()\n",
        "        layer = []\n",
        "        for i in range(num_convs):\n",
        "            layer.append(conv_block(num_channels))\n",
        "        self.net = nn.Sequential(*layer)\n",
        "\n",
        "    def forward(self, X):\n",
        "        for blk in self.net:\n",
        "            Y = blk(X)\n",
        "            # Concatenate input and output of each block along the channels\n",
        "            X = torch.cat((X, Y), dim=1)\n",
        "        return X\n",
        "\n",
        "class DenseNet(d2l.Classifier):\n",
        "    def b1(self):\n",
        "        return nn.Sequential(\n",
        "            nn.LazyConv2d(64, kernel_size=7, stride=2, padding=3),\n",
        "            nn.LazyBatchNorm2d(), nn.ReLU(),\n",
        "            nn.MaxPool2d(kernel_size=3, stride=2, padding=1))\n",
        "\n",
        "    def __init__(self, num_channels=64, growth_rate=32, arch=(4, 4, 4, 4),\n",
        "                 lr=0.1, num_classes=10):\n",
        "        super(DenseNet, self).__init__()\n",
        "        self.save_hyperparameters()\n",
        "        self.net = nn.Sequential(self.b1())\n",
        "        for i, num_convs in enumerate(arch):\n",
        "            self.net.add_module(f'dense_blk{i+1}', DenseBlock(num_convs,\n",
        "                                                              growth_rate))\n",
        "            # The number of output channels in the previous dense block\n",
        "            num_channels += num_convs * growth_rate\n",
        "            # A transition layer that halves the number of channels is added\n",
        "            # between the dense blocks\n",
        "            if i != len(arch) - 1:\n",
        "                num_channels //= 2\n",
        "                self.net.add_module(f'tran_blk{i+1}', transition_block(\n",
        "                    num_channels))\n",
        "        self.net.add_module('last', nn.Sequential(\n",
        "            nn.LazyBatchNorm2d(), nn.ReLU(),\n",
        "            nn.AdaptiveAvgPool2d((1, 1)), nn.Flatten(),\n",
        "            nn.LazyLinear(num_classes)))\n",
        "        self.net.apply(d2l.init_cnn)\n",
        "\n",
        "def count_parameters(model):\n",
        "    return sum(p.numel() for p in model.parameters())\n",
        "\n",
        "data = d2l.FashionMNIST(batch_size=32, resize=(224, 224))"
      ],
      "cell_type": "code",
      "metadata": {
        "id": "0O11kNTmTeQf"
      },
      "id": "0O11kNTmTeQf",
      "execution_count": null,
      "outputs": []
    },
    {
      "source": [
        "!pip install --upgrade d2l==1.0.0a0 # Make sure to upgrade to the correct version of d2l\n",
        "\n",
        "import torch\n",
        "import torch.nn as nn\n",
        "from torch.nn import functional as F\n",
        "import sys\n",
        "from d2l import torch as d2l\n",
        "from torchsummary import summary\n",
        "\n",
        "def count_parameters(model):\n",
        "    return sum(p.numel() for p in model.parameters())\n",
        "\n",
        "data = d2l.FashionMNIST(batch_size=32, resize=(224, 224))\n",
        "arch18 = [(2,[(64,3,1)]*2,None),(2,[(128,3,1)]*2,128),(2,[(256,3,1)]*2,256),(2,[(512,3,1)]*2,512)]\n",
        "resnet18 = d2l.vision.ResNet(arch=arch18, lr=0.01) # ResNet class was likely moved to the vision submodule.\n",
        "resnet18.apply_init([next(iter(data.get_dataloader(True)))[0]], d2l.init_cnn)\n",
        "print(count_parameters(resnet18))\n",
        "summary(resnet18, (1, 224, 224))"
      ],
      "cell_type": "code",
      "metadata": {
        "id": "8Qn-kN49T0Cd"
      },
      "id": "8Qn-kN49T0Cd",
      "execution_count": null,
      "outputs": []
    },
    {
      "cell_type": "code",
      "execution_count": null,
      "id": "8Mg63sE-3SVT",
      "metadata": {
        "id": "8Mg63sE-3SVT"
      },
      "outputs": [],
      "source": [
        "model = DenseNet(lr=0.01)\n",
        "model.apply_init([next(iter(data.get_dataloader(True)))[0]], d2l.init_cnn)\n",
        "print(count_parameters(model))\n",
        "summary(model, (1, 224, 224))"
      ]
    },
    {
      "cell_type": "markdown",
      "id": "uXg7muxn3WWm",
      "metadata": {
        "id": "uXg7muxn3WWm"
      },
      "source": [
        "## 3"
      ]
    },
    {
      "cell_type": "markdown",
      "id": "sBEdGxzZ3XU0",
      "metadata": {
        "id": "sBEdGxzZ3XU0"
      },
      "source": [
        "### 3.1"
      ]
    },
    {
      "source": [
        "data = d2l.FashionMNIST(batch_size=32, resize=(96, 96)) # Increase the image size to prevent excessive downsampling\n",
        "model = DenseNet(lr=0.01)\n",
        "model.apply_init([next(iter(data.get_dataloader(True)))[0]], d2l.init_cnn)\n",
        "\n",
        "# Check if a CUDA-enabled GPU is available\n",
        "if torch.cuda.is_available():\n",
        "    # Define the device variable\n",
        "    device = torch.device(\"cuda\")\n",
        "    # Use the device variable when resetting peak memory stats\n",
        "    torch.cuda.reset_peak_memory_stats(device)\n",
        "    torch.cuda.empty_cache()\n",
        "\n",
        "    trainer = d2l.Trainer(max_epochs=10, num_gpus=1)\n",
        "    trainer.fit(model, data)\n",
        "\n",
        "    # Use the device variable when getting memory stats\n",
        "    memory_stats = torch.cuda.memory_stats(device=device)\n",
        "\n",
        "    print(\"Peak memory usage:\", memory_stats[\"allocated_bytes.all.peak\"] / (1024 ** 2), \"MB\")\n",
        "    print(\"Current memory usage:\", memory_stats[\"allocated_bytes.all.current\"] / (1024 ** 2), \"MB\")\n",
        "else:\n",
        "    print(\"No CUDA-enabled GPU detected. Training on CPU.\")\n",
        "    # If no GPU, train on CPU\n",
        "    trainer = d2l.Trainer(max_epochs=10) # num_gpus defaults to 0 if not specified\n",
        "    trainer.fit(model, data)"
      ],
      "cell_type": "code",
      "metadata": {
        "id": "6JaFgQsqUpOl"
      },
      "id": "6JaFgQsqUpOl",
      "execution_count": null,
      "outputs": []
    },
    {
      "cell_type": "code",
      "execution_count": null,
      "id": "lkqL7BJe3bAn",
      "metadata": {
        "id": "lkqL7BJe3bAn"
      },
      "outputs": [],
      "source": [
        "data = d2l.FashionMNIST(batch_size=32, resize=(224, 224))\n",
        "model = DenseNet(lr=0.01)\n",
        "model.apply_init([next(iter(data.get_dataloader(True)))[0]], d2l.init_cnn)\n",
        "torch.cuda.reset_peak_memory_stats()\n",
        "torch.cuda.empty_cache()\n",
        "trainer = d2l.Trainer(max_epochs=10, num_gpus=1)\n",
        "trainer.fit(model, data)\n",
        "memory_stats = torch.cuda.memory_stats(device=device)\n",
        "# Print peak memory usage and other memory statistics\n",
        "print(\"Peak memory usage:\", memory_stats[\"allocated_bytes.all.peak\"] / (1024 ** 2), \"MB\")\n",
        "print(\"Current memory usage:\", memory_stats[\"allocated_bytes.all.current\"] / (1024 ** 2), \"MB\")"
      ]
    },
    {
      "cell_type": "markdown",
      "id": "PQwzvzir3cvb",
      "metadata": {
        "id": "PQwzvzir3cvb"
      },
      "source": [
        "### 3.2"
      ]
    },
    {
      "cell_type": "markdown",
      "id": "kSfTIMuZ3eL5",
      "metadata": {
        "id": "kSfTIMuZ3eL5"
      },
      "source": [
        "Mengurangi konsumsi memori dalam arsitektur DenseNet dapat dilakukan melalui berbagai strategi. Berikut adalah beberapa pendekatan yang dapat diambil:\n",
        "\n",
        "1. **Konektivitas Jarang di Dense Block**: Alih-alih menggunakan konektivitas penuh, gunakan pola konektivitas jarang dengan memilih subset peta fitur dari lapisan sebelumnya untuk digabungkan dengan lapisan saat ini. Ini mengurangi jumlah koneksi dan konsumsi memori.\n",
        "\n",
        "2. **Pemangkasan Saluran**: Terapkan teknik pemangkasan saluran untuk mengidentifikasi saluran yang kurang penting dan menghapusnya dari operasi penggabungan. Ini secara efektif mengurangi jumlah saluran aktif dan menghemat memori.\n",
        "\n",
        "3. **Regulasi dan Kompresi**: Gunakan teknik regulasi seperti L1 regulasi saat pelatihan untuk mendorong bobot tertentu menjadi nol. Selain itu, eksplorasi metode kompresi model seperti distilasi pengetahuan atau kuantisasi untuk mengurangi jejak memori model.\n",
        "\n",
        "4. **Pendekatan Peringkat Rendah**: Lakukan faktorisasi matriks peringkat rendah pada matriks bobot dalam dense block untuk memperkirakan matriks bobot dengan faktor berdimensi lebih rendah, yang mengurangi penggunaan memori.\n",
        "\n",
        "5. **Alokasi Dinamis**: Alokasikan memori secara dinamis saat inferensi untuk hanya menyimpan peta fitur yang diperlukan, menghindari alokasi memori untuk peta fitur yang tidak lagi dibutuhkan.\n",
        "\n",
        "6. **Fungsi Aktivasi yang Menghasilkan Kerapatan**: Gunakan fungsi aktivasi yang secara alami menghasilkan kerapatan, seperti fungsi ReLU6, yang membatasi aktivasi pada nilai maksimum sehingga beberapa neuron menjadi tidak aktif.\n",
        "\n",
        "7. **Adaptive Dense Blocks**: Rancang dense blocks yang dapat beradaptasi dengan pola konektivitas yang disesuaikan berdasarkan distribusi data, misalnya dengan menggunakan mekanisme perhatian untuk menentukan peta fitur sebelumnya yang perlu digabungkan berdasarkan pentingnya.\n",
        "\n",
        "Mengimplementasikan perubahan ini memerlukan modifikasi pada arsitektur, prosedur pelatihan, dan mungkin lapisan kustom atau modifikasi pada lapisan yang ada. Perlu diingat bahwa teknik ini mungkin melibatkan trade-off antara pengurangan memori dan kinerja model. Disarankan untuk bereksperimen dan menyempurnakan strategi ini sesuai dengan domain masalah spesifik Anda untuk menemukan keseimbangan yang tepat."
      ]
    },
    {
      "cell_type": "markdown",
      "id": "v-DV5bD73rjk",
      "metadata": {
        "id": "v-DV5bD73rjk"
      },
      "source": [
        "## 4"
      ]
    },
    {
      "cell_type": "code",
      "execution_count": null,
      "id": "zcnDC3hq3tqs",
      "metadata": {
        "id": "zcnDC3hq3tqs"
      },
      "outputs": [],
      "source": [
        "def conv_block(num_channels, kernel_size, padding):\n",
        "    return nn.Sequential(\n",
        "        nn.LazyBatchNorm2d(), nn.ReLU(),\n",
        "        nn.LazyConv2d(num_channels, kernel_size=kernel_size, padding=padding))\n",
        "\n",
        "def transition_block(num_channels):\n",
        "    return nn.Sequential(\n",
        "        nn.LazyBatchNorm2d(), nn.ReLU(),\n",
        "        nn.LazyConv2d(num_channels, kernel_size=1),\n",
        "        nn.AvgPool2d(kernel_size=2, stride=2))\n",
        "\n",
        "class DenseBlock(nn.Module):\n",
        "    def __init__(self, convs, num_channels):\n",
        "        super(DenseBlock, self).__init__()\n",
        "        layer = []\n",
        "        for kernel_size, padding in convs:\n",
        "            layer.append(conv_block(num_channels, kernel_size, padding))\n",
        "        self.net = nn.Sequential(*layer)\n",
        "\n",
        "    def forward(self, X):\n",
        "        for blk in self.net:\n",
        "            Y = blk(X)\n",
        "            # Concatenate input and output of each block along the channels\n",
        "            X = torch.cat((X, Y), dim=1)\n",
        "        return X\n",
        "\n",
        "class DenseNet(d2l.Classifier):\n",
        "    def b1(self):\n",
        "        return nn.Sequential(\n",
        "            nn.LazyConv2d(64, kernel_size=7, stride=2, padding=3),\n",
        "            nn.LazyBatchNorm2d(), nn.ReLU(),\n",
        "            nn.MaxPool2d(kernel_size=3, stride=2, padding=1))\n",
        "\n",
        "    def __init__(self, num_channels=64, growth_rate=32, arch=[[[3,1],[3,1]],[[3,1],[3,1]]],lr=0.1, num_classes=10):\n",
        "        super(DenseNet, self).__init__()\n",
        "        self.save_hyperparameters()\n",
        "        self.net = nn.Sequential(self.b1())\n",
        "        for i, convs in enumerate(arch):\n",
        "            self.net.add_module(f'dense_blk{i+1}', DenseBlock(convs, growth_rate))\n",
        "            # The number of output channels in the previous dense block\n",
        "            num_channels += len(convs) * growth_rate\n",
        "            # A transition layer that halves the number of channels is added\n",
        "            # between the dense blocks\n",
        "            if i != len(arch) - 1:\n",
        "                num_channels //= 2\n",
        "                self.net.add_module(f'tran_blk{i+1}', transition_block(\n",
        "                    num_channels))\n",
        "        self.net.add_module('last', nn.Sequential(\n",
        "            nn.LazyBatchNorm2d(), nn.ReLU(),\n",
        "            nn.AdaptiveAvgPool2d((1, 1)), nn.Flatten(),\n",
        "            nn.LazyLinear(num_classes)))\n",
        "        self.net.apply(d2l.init_cnn)"
      ]
    },
    {
      "cell_type": "code",
      "execution_count": null,
      "id": "GFPwWUFT3wyL",
      "metadata": {
        "id": "GFPwWUFT3wyL"
      },
      "outputs": [],
      "source": [
        "data = d2l.FashionMNIST(batch_size=32, resize=(224, 224))\n",
        "arch121 = ([[[1,0],[3,1]]*6,[[1,0],[3,1]]*12,[[1,0],[3,1]]*24,[[1,0],[3,1]]*16])\n",
        "densenet121 = DenseNet(lr=0.01, arch=arch121)\n",
        "densenet121.apply_init([next(iter(data.get_dataloader(True)))[0]], d2l.init_cnn)\n",
        "# print(count_parameters(model))\n",
        "summary(densenet121, (1, 224, 224))"
      ]
    },
    {
      "cell_type": "code",
      "execution_count": null,
      "id": "1jdVocJl3z7m",
      "metadata": {
        "id": "1jdVocJl3z7m"
      },
      "outputs": [],
      "source": [
        "arch169 = ([[[1,0],[3,1]]*6,[[1,0],[3,1]]*12,[[1,0],[3,1]]*32,[[1,0],[3,1]]*32])\n",
        "densenet169 = DenseNet(lr=0.01, arch=arch169)"
      ]
    },
    {
      "cell_type": "code",
      "execution_count": null,
      "id": "SbnB-0KI30hW",
      "metadata": {
        "id": "SbnB-0KI30hW"
      },
      "outputs": [],
      "source": [
        "arch201 = ([[[1,0],[3,1]]*6,[[1,0],[3,1]]*12,[[1,0],[3,1]]*48,[[1,0],[3,1]]*32])\n",
        "densenet201 = DenseNet(lr=0.01, arch=arch201)"
      ]
    },
    {
      "cell_type": "code",
      "execution_count": null,
      "id": "grXHPO4w32Sh",
      "metadata": {
        "id": "grXHPO4w32Sh"
      },
      "outputs": [],
      "source": [
        "arch264 = ([[[1,0],[3,1]]*6,[[1,0],[3,1]]*12,[[1,0],[3,1]]*64,[[1,0],[3,1]]*48])\n",
        "densenet264 = DenseNet(lr=0.01, arch=arch264)"
      ]
    },
    {
      "cell_type": "markdown",
      "id": "6GaU-eyS336v",
      "metadata": {
        "id": "6GaU-eyS336v"
      },
      "source": [
        "## 5"
      ]
    },
    {
      "cell_type": "code",
      "execution_count": null,
      "id": "jR34lyEC35UG",
      "metadata": {
        "id": "jR34lyEC35UG"
      },
      "outputs": [],
      "source": [
        "class KaggleHouse(d2l.DataModule):\n",
        "    def __init__(self, batch_size, train=None, val=None):\n",
        "        super().__init__()\n",
        "        self.save_hyperparameters()\n",
        "        if self.train is None:\n",
        "            self.raw_train = pd.read_csv(d2l.download(d2l.DATA_URL+ 'kaggle_house_pred_train.csv', self.root,\n",
        "                sha1_hash='585e9cc93e70b39160e7921475f9bcd7d31219ce'))\n",
        "            self.raw_val = pd.read_csv(d2l.download(\n",
        "                d2l.DATA_URL + 'kaggle_house_pred_test.csv', self.root,\n",
        "                sha1_hash='fa19780a7b011d9b009e8bff8e99922a8ee2eb90'))\n",
        "\n",
        "    def preprocess(self, std_flag=True):\n",
        "        label = 'SalePrice'\n",
        "        features = pd.concat((self.raw_train.drop(columns=['Id',label]),\n",
        "                              self.raw_val.drop(columns=['Id'])))\n",
        "        numeric_features = features.dtypes[features.dtypes!='object'].index\n",
        "        if std_flag:\n",
        "            features[numeric_features] = features[numeric_features].apply(lambda x: (x-x.mean())/x.std())\n",
        "        features[numeric_features] = features[numeric_features].fillna(0)\n",
        "        features = pd.get_dummies(features, dummy_na=True)\n",
        "        self.train = features[:self.raw_train.shape[0]].copy()\n",
        "        self.train[label] = self.raw_train[label]\n",
        "        self.val = features[self.raw_train.shape[0]:].copy()\n",
        "\n",
        "    def get_dataloader(self, train):\n",
        "        label = 'SalePrice'\n",
        "        data = self.train if train else self.val\n",
        "        if label not in data:\n",
        "            return\n",
        "        get_tensor = lambda x: torch.tensor(x.values.astype(float), dtype=torch.float32)\n",
        "        # tensors = (get_tensor(data.drop(columns=[label])),\n",
        "        #            torch.log(get_tensor(data[label])).reshape(-1,1))\n",
        "        tensors = (get_tensor(data.drop(columns=[label])),  # X\n",
        "               torch.log(get_tensor(data[label])).reshape((-1, 1)))  # Y\n",
        "        return self.get_tensorloader(tensors, train)\n",
        "\n",
        "def k_fold_data(data,k):\n",
        "    rets = []\n",
        "    fold_size = data.train.shape[0] // k\n",
        "    for j in range(k):\n",
        "        idx = range(j*fold_size,(j+1)*fold_size)\n",
        "        rets.append(KaggleHouse(data.batch_size,data.train.drop(index=idx),data.train.iloc[idx]))\n",
        "    return rets\n",
        "\n",
        "def k_fold(trainer, data, k, ModelClass,hparams,plot_flag=True):\n",
        "    val_loss, models = [], []\n",
        "    for i, data_fold in enumerate(k_fold_data(data,k)):\n",
        "        model = ModelClass(**hparams)\n",
        "        model.board.yscale='log'\n",
        "        if not plot_flag or i != 0:\n",
        "            model.board.display=False\n",
        "        trainer.fit(model,data_fold)\n",
        "        val_loss.append(float(model.board.data['val_loss'][-1].y))\n",
        "        models.append(model)\n",
        "    avg_val_loss = sum(val_loss)/len(val_loss)\n",
        "    print(f'average validation log mse = {avg_val_loss}, params:{hparams}')\n",
        "    return models, avg_val_loss\n",
        "\n",
        "\n",
        "\n",
        "class HouseResMLP(d2l.LinearRegression):\n",
        "    def __init__(self, num_outputs, num_hiddens, lr, dropouts, weight_decay):\n",
        "        super().__init__(lr)\n",
        "        self.save_hyperparameters()\n",
        "        layers = [nn.Flatten()]\n",
        "        for i in range(len(num_hiddens)):\n",
        "            layers.append(nn.Sequential(nn.LazyLinear(num_hiddens[i]),\n",
        "                                        nn.ReLU(),\n",
        "                                        nn.Dropout(dropouts[i]),\n",
        "                                        nn.LazyBatchNorm1d(),\n",
        "                                        ))\n",
        "        layers.append(nn.LazyLinear(num_outputs))\n",
        "        self.net = nn.Sequential(*layers)\n",
        "\n",
        "    def forward(self, X):\n",
        "        X = self.net[0](X)\n",
        "        for blk in self.net[1:-1]:\n",
        "            Y = blk(X)\n",
        "            # Concatenate input and output of each block along the channels\n",
        "            X = torch.cat((X, Y), dim=1)\n",
        "        return self.net[-1](X)\n",
        "\n",
        "# class HouseDenseBlock(nn.Module):\n",
        "#     def __init__(self, num_hiddens):\n",
        "#         super().__init__()\n",
        "#         layer = []\n",
        "#         for i in range(len(num_hiddens)):\n",
        "#             layer.append(nn.Sequential(nn.LazyLinear(num_hiddens[i]),\n",
        "#                                         nn.LazyBatchNorm1d(), nn.ReLU(),\n",
        "#                                         ))\n",
        "#         self.net = nn.Sequential(*layer)\n",
        "\n",
        "#     def forward(self, X):\n",
        "#         for blk in self.net:\n",
        "#             Y = blk(X)\n",
        "#             # Concatenate input and output of each block along the channels\n",
        "#             X = torch.cat((X, Y), dim=1)\n",
        "#         return X\n",
        "\n",
        "# def transition_block():\n",
        "#     return nn.Sequential(\n",
        "#         nn.LazyBatchNorm1d(), nn.ReLU(),\n",
        "#         nn.AvgPool1d(kernel_size=2, stride=2))\n",
        "\n",
        "# class HouseResMLP(d2l.LinearRegression):\n",
        "#     def __init__(self, num_outputs, arch, lr, dropouts, weight_decay):\n",
        "#         super().__init__(lr)\n",
        "#         self.save_hyperparameters()\n",
        "#         layers = [nn.Flatten()]\n",
        "#         for num_hiddens in arch:\n",
        "#             layers.append(HouseDenseBlock(num_hiddens))\n",
        "#             # layers.append(nn.LazyLinear(sum(num_hiddens)//4))\n",
        "#         layers.append(nn.LazyLinear(num_outputs))\n",
        "#         self.net = nn.Sequential(*layers)\n",
        "\n",
        "#     def forward(self, X):\n",
        "#         return self.net(X)\n",
        "\n",
        "#     def configure_optimizers(self):\n",
        "#         return torch.optim.SGD(self.parameters(), lr=self.lr, weight_decay=self.weight_decay)"
      ]
    },
    {
      "cell_type": "code",
      "execution_count": null,
      "id": "eqAIGBuC3896",
      "metadata": {
        "id": "eqAIGBuC3896"
      },
      "outputs": [],
      "source": [
        "hparams = {'dropouts': [0]*5,\n",
        " 'lr': 0.01,\n",
        " 'num_hiddens': [64,32,16,8],\n",
        " 'num_outputs': 1,\n",
        " 'weight_decay': 0}\n",
        "model = HouseResMLP(**hparams)\n",
        "summary(model,(1,80))"
      ]
    },
    {
      "cell_type": "code",
      "execution_count": null,
      "id": "6yT_skYe3-W5",
      "metadata": {
        "id": "6yT_skYe3-W5"
      },
      "outputs": [],
      "source": [
        "data = KaggleHouse(batch_size=64)\n",
        "print(data.raw_train.shape, data.raw_val.shape)\n",
        "data.preprocess()"
      ]
    },
    {
      "cell_type": "code",
      "execution_count": null,
      "id": "Zsiv8CYY4AMv",
      "metadata": {
        "id": "Zsiv8CYY4AMv"
      },
      "outputs": [],
      "source": [
        "hparams = {'dropouts': [0]*5,\n",
        " 'lr': 0.005,\n",
        " 'num_hiddens': [1,1,1],\n",
        " # 'num_hiddens': [128,64,32],\n",
        " 'num_outputs': 1,\n",
        " 'weight_decay': 0}\n",
        "trainer = d2l.Trainer(max_epochs=100)\n",
        "models,avg_val_loss = k_fold(trainer, data, k=5,ModelClass=HouseResMLP,hparams=hparams,plot_flag=True)"
      ]
    },
    {
      "cell_type": "code",
      "execution_count": null,
      "id": "OILx_RjH4DP2",
      "metadata": {
        "id": "OILx_RjH4DP2"
      },
      "outputs": [],
      "source": [
        "preds = [model(torch.tensor(data.val.values.astype(float), dtype=torch.float32)) for model in models]\n",
        "ensemble_preds = torch.exp(torch.cat(preds,1)).mean(1)\n",
        "submission = pd.DataFrame({'Id':data.raw_val.Id,'SalePrice':ensemble_preds.detach().numpy()})\n",
        "submission.to_csv('submission.csv', index=False"
      ]
    },
    {
      "cell_type": "markdown",
      "id": "nFcRaq9G4D9N",
      "metadata": {
        "id": "nFcRaq9G4D9N"
      },
      "source": [
        "# Jawaban 8.8"
      ]
    },
    {
      "cell_type": "markdown",
      "id": "rCcr_IJX4GE8",
      "metadata": {
        "id": "rCcr_IJX4GE8"
      },
      "source": [
        "## 1"
      ]
    },
    {
      "cell_type": "code",
      "execution_count": null,
      "id": "71txAVRh4OFn",
      "metadata": {
        "id": "71txAVRh4OFn"
      },
      "outputs": [],
      "source": [
        "class AnyNet(d2l.Classifier):\n",
        "    def stem(self, num_channels):\n",
        "        return nn.Sequential(\n",
        "            nn.LazyConv2d(num_channels, kernel_size=3, stride=2, padding=1),\n",
        "            nn.LazyBatchNorm2d(), nn.ReLU())\n",
        "    def stage(self, depth, num_channels, groups, bot_mul):\n",
        "        blk = []\n",
        "        for i in range(depth):\n",
        "            if i == 0:\n",
        "                blk.append(d2l.ResNeXtBlock(num_channels, groups, bot_mul,\n",
        "                    use_1x1conv=True, strides=2))\n",
        "            else:\n",
        "                blk.append(d2l.ResNeXtBlock(num_channels, groups, bot_mul))\n",
        "        return nn.Sequential(*blk)\n",
        "\n",
        "    def __init__(self, arch, stem_channels, lr=0.1, num_classes=10):\n",
        "        super(AnyNet, self).__init__()\n",
        "        self.save_hyperparameters()\n",
        "        self.net = nn.Sequential(self.stem(stem_channels))\n",
        "        for i, s in enumerate(arch):\n",
        "            self.net.add_module(f'stage{i+1}', self.stage(*s))\n",
        "        self.net.add_module('head', nn.Sequential(\n",
        "            nn.AdaptiveAvgPool2d((1, 1)), nn.Flatten(),\n",
        "            nn.LazyLinear(num_classes)))\n",
        "        self.net.apply(d2l.init_cnn)\n",
        "\n",
        "class RegNetX32(AnyNet):\n",
        "    def __init__(self, lr=0.1, num_classes=10):\n",
        "        stem_channels, groups, bot_mul = 32, 16, 1\n",
        "        depths, channels = (4, 6, 8, 16), (32, 80, 128, 256)\n",
        "        super().__init__(\n",
        "            # ((depths[0], channels[0], groups, bot_mul),\n",
        "            #  (depths[1], channels[1], groups, bot_mul)),\n",
        "            [(depths[i], channels[i], groups, bot_mul) for i in range(len(depths))],\n",
        "            stem_channels, lr, num_classes)"
      ]
    },
    {
      "cell_type": "code",
      "execution_count": null,
      "id": "wMVoiZxF4O5C",
      "metadata": {
        "id": "wMVoiZxF4O5C"
      },
      "outputs": [],
      "source": [
        "model = RegNetX32(lr=0.05)\n",
        "# summary(model,(1,224,224))\n",
        "trainer = d2l.Trainer(max_epochs=10, num_gpus=1)\n",
        "data = d2l.FashionMNIST(batch_size=128, resize=(224, 224))\n",
        "trainer.fit(model, data)"
      ]
    },
    {
      "cell_type": "markdown",
      "id": "_RgXDCk14QWb",
      "metadata": {
        "id": "_RgXDCk14QWb"
      },
      "source": [
        "## 2"
      ]
    },
    {
      "cell_type": "code",
      "execution_count": null,
      "id": "byqrKU_b4RwT",
      "metadata": {
        "id": "byqrKU_b4RwT"
      },
      "outputs": [],
      "source": [
        "class DeAnyNet(d2l.Classifier):\n",
        "    def stem(self, num_channels):\n",
        "        return nn.Sequential(\n",
        "            nn.LazyConv2d(num_channels, kernel_size=3, stride=2, padding=1),\n",
        "            nn.LazyBatchNorm2d(), nn.ReLU())\n",
        "    def stage(self, depth, num_channels):\n",
        "        blk = []\n",
        "        for i in range(depth):\n",
        "            if i == 0:\n",
        "                blk.append(d2l.Residual(num_channels, use_1x1conv=True, strides=2))\n",
        "            else:\n",
        "                blk.append(d2l.Residual(num_channels))\n",
        "        return nn.Sequential(*blk)\n",
        "\n",
        "    def __init__(self, arch, stem_channels, lr=0.1, num_classes=10):\n",
        "        super().__init__()\n",
        "        self.save_hyperparameters()\n",
        "        self.net = nn.Sequential(self.stem(stem_channels))\n",
        "        for i, s in enumerate(arch):\n",
        "            self.net.add_module(f'stage{i+1}', self.stage(*s))\n",
        "        self.net.add_module('head', nn.Sequential(\n",
        "            nn.AdaptiveAvgPool2d((1, 1)), nn.Flatten(),\n",
        "            nn.LazyLinear(num_classes)))\n",
        "        self.net.apply(d2l.init_cnn)\n",
        "\n",
        "class DeResNeXt(DeAnyNet):\n",
        "    def __init__(self, lr=0.1, num_classes=10):\n",
        "        stem_channels, groups, bot_mul = 32, 16, 1\n",
        "        depths, channels = (5, 6), (32, 80)\n",
        "        super().__init__(\n",
        "            ((depths[0], channels[0]),\n",
        "             (depths[1], channels[1])),\n",
        "            stem_channels, lr, num_classes)"
      ]
    },
    {
      "cell_type": "code",
      "execution_count": null,
      "id": "F9zSjjJ04UMI",
      "metadata": {
        "id": "F9zSjjJ04UMI"
      },
      "outputs": [],
      "source": [
        "model = DeResNeXt(lr=0.05)\n",
        "trainer = d2l.Trainer(max_epochs=10, num_gpus=1)\n",
        "trainer.fit(model, data)"
      ]
    },
    {
      "cell_type": "markdown",
      "id": "dl5ZybbN4Waj",
      "metadata": {
        "id": "dl5ZybbN4Waj"
      },
      "source": [
        "## 3"
      ]
    },
    {
      "cell_type": "code",
      "execution_count": null,
      "id": "6nwpbDSa4Xkf",
      "metadata": {
        "id": "6nwpbDSa4Xkf"
      },
      "outputs": [],
      "source": [
        "class VioNet(AnyNet):\n",
        "    def __init__(self, lr=0.1, num_classes=10, depths=(4, 6), channels=(32, 80),\n",
        "                 stem_channels=32, groups=(16, 16), bot_mul=(1, 1)):\n",
        "        super().__init__(\n",
        "            [(depths[i], channels[i], groups[i], bot_mul[i]) for i in range(len(depths))],\n",
        "            stem_channels, lr, num_classes)"
      ]
    },
    {
      "cell_type": "code",
      "execution_count": null,
      "id": "ijQQMF_O4ZS1",
      "metadata": {
        "id": "ijQQMF_O4ZS1"
      },
      "outputs": [],
      "source": [
        "VioNet_d = VioNet(depths=(6, 4))\n",
        "trainer = d2l.Trainer(max_epochs=10, num_gpus=1)\n",
        "trainer.fit(VioNet_d, data)"
      ]
    },
    {
      "cell_type": "code",
      "execution_count": null,
      "id": "03zlv-1u4ath",
      "metadata": {
        "id": "03zlv-1u4ath"
      },
      "outputs": [],
      "source": [
        "VioNet_c = VioNet(channels=(80, 32))\n",
        "trainer = d2l.Trainer(max_epochs=10, num_gpus=1)\n",
        "trainer.fit(VioNet_c, data)"
      ]
    },
    {
      "cell_type": "code",
      "execution_count": null,
      "id": "eOZ8xbsQ4ehp",
      "metadata": {
        "id": "eOZ8xbsQ4ehp"
      },
      "outputs": [],
      "source": [
        "VioNet_g = VioNet(groups=(16, 32))\n",
        "trainer = d2l.Trainer(max_epochs=10, num_gpus=1)\n",
        "trainer.fit(VioNet_g, data)"
      ]
    },
    {
      "cell_type": "code",
      "execution_count": null,
      "id": "ov-0boUi4f4A",
      "metadata": {
        "id": "ov-0boUi4f4A"
      },
      "outputs": [],
      "source": [
        "VioNet_b = VioNet(bot_mul=(1, 2))\n",
        "trainer = d2l.Trainer(max_epochs=10, num_gpus=1)\n",
        "trainer.fit(VioNet_b, data)"
      ]
    },
    {
      "cell_type": "markdown",
      "id": "ElCIU3A84hc7",
      "metadata": {
        "id": "ElCIU3A84hc7"
      },
      "source": [
        "## 4"
      ]
    },
    {
      "cell_type": "markdown",
      "id": "nDbwXZWC6hub",
      "metadata": {
        "id": "nDbwXZWC6hub"
      },
      "source": [
        "Merancang Multilayer Perceptron (MLP) yang \"sempurna\" memerlukan pertimbangan cermat terhadap pilihan arsitektur untuk mencapai kinerja tinggi pada tugas tertentu. Berikut adalah prinsip desain yang dapat digunakan untuk merancang MLP yang efektif:\n",
        "\n",
        "1. **Kedalaman dan Lebar**:\n",
        "   - **Kedalaman**: Coba variasikan jumlah lapisan (kedalaman) MLP. Mulailah dengan kedalaman moderat dan tingkatkan secara bertahap sambil memantau kinerja.\n",
        "   - **Lebar**: Variasikan jumlah neuron (lebar) di setiap lapisan. Lapisan yang lebih lebar dapat menangkap pola yang lebih kompleks tetapi juga meningkatkan risiko overfitting.\n",
        "\n",
        "2. **Koneksi Langsung**: Pertimbangkan menambahkan koneksi langsung antara lapisan, seperti pada Residual Networks (ResNets), untuk mengatasi masalah vanishing gradient.\n",
        "\n",
        "3. **Ukuran Kernel**: Coba variasikan ukuran kernel pada lapisan konvolusional. Kernel yang lebih kecil menangkap detail halus, sementara yang lebih besar menangkap pola yang lebih luas.\n",
        "\n",
        "4. **Strategi Pooling**: Gunakan berbagai strategi pooling seperti max-pooling atau average pooling untuk mereduksi peta fitur.\n",
        "\n",
        "5. **Normalisasi**: Masukkan lapisan normalisasi batch untuk menstabilkan pelatihan dan meningkatkan konvergensi.\n",
        "\n",
        "6. **Fungsi Aktivasi**: Coba berbagai fungsi aktivasi seperti ReLU, Leaky ReLU, atau varian lain seperti Swish.\n",
        "\n",
        "7. **Dropout**: Terapkan dropout dengan berbagai tingkat untuk mencegah overfitting.\n",
        "\n",
        "8. **Inisialisasi**: Gunakan teknik inisialisasi bobot yang tepat seperti Xavier atau He untuk mempercepat pelatihan.\n",
        "\n",
        "9. **Lapisan Normalisasi**: Coba normalisasi lapisan atau normalisasi grup untuk melihat apakah ada keuntungan.\n",
        "\n",
        "10. **Optimizers dan Laju Pembelajaran**: Pilih optimizers yang sesuai dan jadwal laju pembelajaran untuk pelatihan yang lebih baik.\n",
        "\n",
        "11. **Teknik Regulasi**: Pertimbangkan regulasi L1 dan L2 untuk mengontrol kompleksitas model dan mencegah overfitting.\n",
        "\n",
        "12. **Arsitektur Spesifik Tugas**: Sesuaikan arsitektur MLP dengan tugas spesifik, seperti lapisan softmax untuk klasifikasi.\n",
        "\n",
        "13. **Pembelajaran Ensemble**: Coba metode ensemble untuk menggabungkan beberapa MLP demi kinerja yang lebih baik.\n",
        "\n",
        "14. **Pencarian Hyperparameter**: Lakukan penyesuaian hyperparameter sistematis untuk menemukan kombinasi terbaik.\n",
        "\n",
        "15. **Transfer Learning**: Pertimbangkan menggunakan transfer learning dengan bobot pretrained dari model yang dilatih pada tugas terkait.\n",
        "\n",
        "16. **Augmentasi Data**: Terapkan teknik augmentasi data untuk meningkatkan ukuran dataset pelatihan.\n",
        "\n",
        "17. **Evaluasi Kinerja Secara Berkala**: Pantau dan evaluasi kinerja model pada dataset validasi secara terus-menerus.\n",
        "\n",
        "Ingat bahwa merancang MLP yang \"sempurna\" adalah proses iteratif yang melibatkan eksperimen, evaluasi, dan penyempurnaan. Pilihan arsitektur dan prinsip desain harus sesuai dengan kebutuhan dan batasan tugas serta dataset yang dihadapi."
      ]
    }
  ],
  "metadata": {
    "accelerator": "GPU",
    "colab": {
      "gpuType": "T4",
      "provenance": [],
      "toc_visible": true,
      "include_colab_link": true
    },
    "kernelspec": {
      "display_name": "Python 3",
      "name": "python3"
    },
    "language_info": {
      "name": "python"
    },
    "required_libs": []
  },
  "nbformat": 4,
  "nbformat_minor": 5
}